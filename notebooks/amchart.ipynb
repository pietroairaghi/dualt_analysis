{
 "cells": [
  {
   "cell_type": "code",
   "execution_count": 1,
   "metadata": {},
   "outputs": [],
   "source": [
    "import pandas as pd\n",
    "import numpy as np\n",
    "\n",
    "data_folder = \"../data/\"\n",
    "\n",
    "df = pd.read_csv(f\"{data_folder}months.csv\")\n",
    "\n",
    "df['month_name'] = df['month'].apply(lambda x: \"month_\"+str(x))\n",
    "months_names   = ['Gennaio','Febbraio','Marzo','Aprile','Maggio','Giugno','Luglio','Agosto','Settembre','Ottobre','Novembre','Dicembre']\n",
    "months_numbers = [1,2,3,4,5,6,7,8,9,10,11,12]\n",
    "months_map     = dict(zip(months_numbers,months_names))\n",
    "\n",
    "df['month_name'] = df['month'].map(months_map)"
   ]
  },
  {
   "cell_type": "code",
   "execution_count": null,
   "metadata": {},
   "outputs": [],
   "source": []
  },
  {
   "cell_type": "code",
   "execution_count": 20,
   "metadata": {},
   "outputs": [
    {
     "data": {
      "application/vnd.plotly.v1+json": {
       "config": {
        "plotlyServerURL": "https://plot.ly"
       },
       "data": [
        {
         "alignmentgroup": "True",
         "hovertemplate": "variable=n_recipes<br>activity_school_year=1<br>month_name=%{x}<br>value=%{y}<extra></extra>",
         "legendgroup": "n_recipes",
         "marker": {
          "color": "#636efa"
         },
         "name": "n_recipes",
         "offsetgroup": "n_recipes",
         "orientation": "v",
         "showlegend": true,
         "textposition": "auto",
         "type": "bar",
         "x": [
          "Gennaio",
          "Febbraio",
          "Marzo",
          "Aprile",
          "Maggio",
          "Giugno",
          "Luglio",
          "Agosto",
          "Settembre",
          "Ottobre",
          "Novembre",
          "Dicembre"
         ],
         "xaxis": "x",
         "y": [
          959,
          745,
          874,
          648,
          857,
          391,
          171,
          29,
          96,
          436,
          855,
          768
         ],
         "yaxis": "y"
        },
        {
         "alignmentgroup": "True",
         "hovertemplate": "variable=n_recipes<br>activity_school_year=2<br>month_name=%{x}<br>value=%{y}<extra></extra>",
         "legendgroup": "n_recipes",
         "marker": {
          "color": "#636efa"
         },
         "name": "n_recipes",
         "offsetgroup": "n_recipes",
         "orientation": "v",
         "showlegend": false,
         "textposition": "auto",
         "type": "bar",
         "x": [
          "Gennaio",
          "Febbraio",
          "Marzo",
          "Aprile",
          "Maggio",
          "Giugno",
          "Luglio",
          "Agosto",
          "Settembre",
          "Ottobre",
          "Novembre",
          "Dicembre"
         ],
         "xaxis": "x2",
         "y": [
          355,
          317,
          540,
          503,
          550,
          341,
          65,
          273,
          303,
          472,
          526,
          341
         ],
         "yaxis": "y2"
        },
        {
         "alignmentgroup": "True",
         "hovertemplate": "variable=n_recipes<br>activity_school_year=3<br>month_name=%{x}<br>value=%{y}<extra></extra>",
         "legendgroup": "n_recipes",
         "marker": {
          "color": "#636efa"
         },
         "name": "n_recipes",
         "offsetgroup": "n_recipes",
         "orientation": "v",
         "showlegend": false,
         "textposition": "auto",
         "type": "bar",
         "x": [
          "Gennaio",
          "Febbraio",
          "Marzo",
          "Aprile",
          "Maggio",
          "Giugno",
          "Luglio",
          "Agosto",
          "Settembre",
          "Ottobre",
          "Novembre",
          "Dicembre"
         ],
         "xaxis": "x3",
         "y": [
          328,
          127,
          205,
          152,
          757,
          548,
          null,
          152,
          268,
          382,
          552,
          221
         ],
         "yaxis": "y3"
        },
        {
         "alignmentgroup": "True",
         "hovertemplate": "variable=n_experiences<br>activity_school_year=1<br>month_name=%{x}<br>value=%{y}<extra></extra>",
         "legendgroup": "n_experiences",
         "marker": {
          "color": "#EF553B"
         },
         "name": "n_experiences",
         "offsetgroup": "n_experiences",
         "orientation": "v",
         "showlegend": true,
         "textposition": "auto",
         "type": "bar",
         "x": [
          "Gennaio",
          "Febbraio",
          "Marzo",
          "Aprile",
          "Maggio",
          "Giugno",
          "Luglio",
          "Agosto",
          "Settembre",
          "Ottobre",
          "Novembre",
          "Dicembre"
         ],
         "xaxis": "x",
         "y": [
          377,
          537,
          376,
          482,
          596,
          982,
          222,
          42,
          77,
          221,
          301,
          287
         ],
         "yaxis": "y"
        },
        {
         "alignmentgroup": "True",
         "hovertemplate": "variable=n_experiences<br>activity_school_year=2<br>month_name=%{x}<br>value=%{y}<extra></extra>",
         "legendgroup": "n_experiences",
         "marker": {
          "color": "#EF553B"
         },
         "name": "n_experiences",
         "offsetgroup": "n_experiences",
         "orientation": "v",
         "showlegend": false,
         "textposition": "auto",
         "type": "bar",
         "x": [
          "Gennaio",
          "Febbraio",
          "Marzo",
          "Aprile",
          "Maggio",
          "Giugno",
          "Luglio",
          "Agosto",
          "Settembre",
          "Ottobre",
          "Novembre",
          "Dicembre"
         ],
         "xaxis": "x2",
         "y": [
          661,
          774,
          931,
          541,
          413,
          557,
          103,
          259,
          311,
          717,
          650,
          547
         ],
         "yaxis": "y2"
        },
        {
         "alignmentgroup": "True",
         "hovertemplate": "variable=n_experiences<br>activity_school_year=3<br>month_name=%{x}<br>value=%{y}<extra></extra>",
         "legendgroup": "n_experiences",
         "marker": {
          "color": "#EF553B"
         },
         "name": "n_experiences",
         "offsetgroup": "n_experiences",
         "orientation": "v",
         "showlegend": false,
         "textposition": "auto",
         "type": "bar",
         "x": [
          "Gennaio",
          "Febbraio",
          "Marzo",
          "Aprile",
          "Maggio",
          "Giugno",
          "Luglio",
          "Agosto",
          "Settembre",
          "Ottobre",
          "Novembre",
          "Dicembre"
         ],
         "xaxis": "x3",
         "y": [
          477,
          601,
          387,
          458,
          878,
          2335,
          null,
          433,
          168,
          384,
          457,
          283
         ],
         "yaxis": "y3"
        }
       ],
       "layout": {
        "annotations": [
         {
          "font": {},
          "showarrow": false,
          "text": "activity_school_year=1",
          "x": 0.15999999999999998,
          "xanchor": "center",
          "xref": "paper",
          "y": 1,
          "yanchor": "bottom",
          "yref": "paper"
         },
         {
          "font": {},
          "showarrow": false,
          "text": "activity_school_year=2",
          "x": 0.49999999999999994,
          "xanchor": "center",
          "xref": "paper",
          "y": 1,
          "yanchor": "bottom",
          "yref": "paper"
         },
         {
          "font": {},
          "showarrow": false,
          "text": "activity_school_year=3",
          "x": 0.8399999999999999,
          "xanchor": "center",
          "xref": "paper",
          "y": 1,
          "yanchor": "bottom",
          "yref": "paper"
         }
        ],
        "barmode": "relative",
        "legend": {
         "title": {
          "text": "variable"
         },
         "tracegroupgap": 0
        },
        "margin": {
         "t": 60
        },
        "template": {
         "data": {
          "bar": [
           {
            "error_x": {
             "color": "#2a3f5f"
            },
            "error_y": {
             "color": "#2a3f5f"
            },
            "marker": {
             "line": {
              "color": "#E5ECF6",
              "width": 0.5
             }
            },
            "type": "bar"
           }
          ],
          "barpolar": [
           {
            "marker": {
             "line": {
              "color": "#E5ECF6",
              "width": 0.5
             }
            },
            "type": "barpolar"
           }
          ],
          "carpet": [
           {
            "aaxis": {
             "endlinecolor": "#2a3f5f",
             "gridcolor": "white",
             "linecolor": "white",
             "minorgridcolor": "white",
             "startlinecolor": "#2a3f5f"
            },
            "baxis": {
             "endlinecolor": "#2a3f5f",
             "gridcolor": "white",
             "linecolor": "white",
             "minorgridcolor": "white",
             "startlinecolor": "#2a3f5f"
            },
            "type": "carpet"
           }
          ],
          "choropleth": [
           {
            "colorbar": {
             "outlinewidth": 0,
             "ticks": ""
            },
            "type": "choropleth"
           }
          ],
          "contour": [
           {
            "colorbar": {
             "outlinewidth": 0,
             "ticks": ""
            },
            "colorscale": [
             [
              0,
              "#0d0887"
             ],
             [
              0.1111111111111111,
              "#46039f"
             ],
             [
              0.2222222222222222,
              "#7201a8"
             ],
             [
              0.3333333333333333,
              "#9c179e"
             ],
             [
              0.4444444444444444,
              "#bd3786"
             ],
             [
              0.5555555555555556,
              "#d8576b"
             ],
             [
              0.6666666666666666,
              "#ed7953"
             ],
             [
              0.7777777777777778,
              "#fb9f3a"
             ],
             [
              0.8888888888888888,
              "#fdca26"
             ],
             [
              1,
              "#f0f921"
             ]
            ],
            "type": "contour"
           }
          ],
          "contourcarpet": [
           {
            "colorbar": {
             "outlinewidth": 0,
             "ticks": ""
            },
            "type": "contourcarpet"
           }
          ],
          "heatmap": [
           {
            "colorbar": {
             "outlinewidth": 0,
             "ticks": ""
            },
            "colorscale": [
             [
              0,
              "#0d0887"
             ],
             [
              0.1111111111111111,
              "#46039f"
             ],
             [
              0.2222222222222222,
              "#7201a8"
             ],
             [
              0.3333333333333333,
              "#9c179e"
             ],
             [
              0.4444444444444444,
              "#bd3786"
             ],
             [
              0.5555555555555556,
              "#d8576b"
             ],
             [
              0.6666666666666666,
              "#ed7953"
             ],
             [
              0.7777777777777778,
              "#fb9f3a"
             ],
             [
              0.8888888888888888,
              "#fdca26"
             ],
             [
              1,
              "#f0f921"
             ]
            ],
            "type": "heatmap"
           }
          ],
          "heatmapgl": [
           {
            "colorbar": {
             "outlinewidth": 0,
             "ticks": ""
            },
            "colorscale": [
             [
              0,
              "#0d0887"
             ],
             [
              0.1111111111111111,
              "#46039f"
             ],
             [
              0.2222222222222222,
              "#7201a8"
             ],
             [
              0.3333333333333333,
              "#9c179e"
             ],
             [
              0.4444444444444444,
              "#bd3786"
             ],
             [
              0.5555555555555556,
              "#d8576b"
             ],
             [
              0.6666666666666666,
              "#ed7953"
             ],
             [
              0.7777777777777778,
              "#fb9f3a"
             ],
             [
              0.8888888888888888,
              "#fdca26"
             ],
             [
              1,
              "#f0f921"
             ]
            ],
            "type": "heatmapgl"
           }
          ],
          "histogram": [
           {
            "marker": {
             "colorbar": {
              "outlinewidth": 0,
              "ticks": ""
             }
            },
            "type": "histogram"
           }
          ],
          "histogram2d": [
           {
            "colorbar": {
             "outlinewidth": 0,
             "ticks": ""
            },
            "colorscale": [
             [
              0,
              "#0d0887"
             ],
             [
              0.1111111111111111,
              "#46039f"
             ],
             [
              0.2222222222222222,
              "#7201a8"
             ],
             [
              0.3333333333333333,
              "#9c179e"
             ],
             [
              0.4444444444444444,
              "#bd3786"
             ],
             [
              0.5555555555555556,
              "#d8576b"
             ],
             [
              0.6666666666666666,
              "#ed7953"
             ],
             [
              0.7777777777777778,
              "#fb9f3a"
             ],
             [
              0.8888888888888888,
              "#fdca26"
             ],
             [
              1,
              "#f0f921"
             ]
            ],
            "type": "histogram2d"
           }
          ],
          "histogram2dcontour": [
           {
            "colorbar": {
             "outlinewidth": 0,
             "ticks": ""
            },
            "colorscale": [
             [
              0,
              "#0d0887"
             ],
             [
              0.1111111111111111,
              "#46039f"
             ],
             [
              0.2222222222222222,
              "#7201a8"
             ],
             [
              0.3333333333333333,
              "#9c179e"
             ],
             [
              0.4444444444444444,
              "#bd3786"
             ],
             [
              0.5555555555555556,
              "#d8576b"
             ],
             [
              0.6666666666666666,
              "#ed7953"
             ],
             [
              0.7777777777777778,
              "#fb9f3a"
             ],
             [
              0.8888888888888888,
              "#fdca26"
             ],
             [
              1,
              "#f0f921"
             ]
            ],
            "type": "histogram2dcontour"
           }
          ],
          "mesh3d": [
           {
            "colorbar": {
             "outlinewidth": 0,
             "ticks": ""
            },
            "type": "mesh3d"
           }
          ],
          "parcoords": [
           {
            "line": {
             "colorbar": {
              "outlinewidth": 0,
              "ticks": ""
             }
            },
            "type": "parcoords"
           }
          ],
          "pie": [
           {
            "automargin": true,
            "type": "pie"
           }
          ],
          "scatter": [
           {
            "marker": {
             "colorbar": {
              "outlinewidth": 0,
              "ticks": ""
             }
            },
            "type": "scatter"
           }
          ],
          "scatter3d": [
           {
            "line": {
             "colorbar": {
              "outlinewidth": 0,
              "ticks": ""
             }
            },
            "marker": {
             "colorbar": {
              "outlinewidth": 0,
              "ticks": ""
             }
            },
            "type": "scatter3d"
           }
          ],
          "scattercarpet": [
           {
            "marker": {
             "colorbar": {
              "outlinewidth": 0,
              "ticks": ""
             }
            },
            "type": "scattercarpet"
           }
          ],
          "scattergeo": [
           {
            "marker": {
             "colorbar": {
              "outlinewidth": 0,
              "ticks": ""
             }
            },
            "type": "scattergeo"
           }
          ],
          "scattergl": [
           {
            "marker": {
             "colorbar": {
              "outlinewidth": 0,
              "ticks": ""
             }
            },
            "type": "scattergl"
           }
          ],
          "scattermapbox": [
           {
            "marker": {
             "colorbar": {
              "outlinewidth": 0,
              "ticks": ""
             }
            },
            "type": "scattermapbox"
           }
          ],
          "scatterpolar": [
           {
            "marker": {
             "colorbar": {
              "outlinewidth": 0,
              "ticks": ""
             }
            },
            "type": "scatterpolar"
           }
          ],
          "scatterpolargl": [
           {
            "marker": {
             "colorbar": {
              "outlinewidth": 0,
              "ticks": ""
             }
            },
            "type": "scatterpolargl"
           }
          ],
          "scatterternary": [
           {
            "marker": {
             "colorbar": {
              "outlinewidth": 0,
              "ticks": ""
             }
            },
            "type": "scatterternary"
           }
          ],
          "surface": [
           {
            "colorbar": {
             "outlinewidth": 0,
             "ticks": ""
            },
            "colorscale": [
             [
              0,
              "#0d0887"
             ],
             [
              0.1111111111111111,
              "#46039f"
             ],
             [
              0.2222222222222222,
              "#7201a8"
             ],
             [
              0.3333333333333333,
              "#9c179e"
             ],
             [
              0.4444444444444444,
              "#bd3786"
             ],
             [
              0.5555555555555556,
              "#d8576b"
             ],
             [
              0.6666666666666666,
              "#ed7953"
             ],
             [
              0.7777777777777778,
              "#fb9f3a"
             ],
             [
              0.8888888888888888,
              "#fdca26"
             ],
             [
              1,
              "#f0f921"
             ]
            ],
            "type": "surface"
           }
          ],
          "table": [
           {
            "cells": {
             "fill": {
              "color": "#EBF0F8"
             },
             "line": {
              "color": "white"
             }
            },
            "header": {
             "fill": {
              "color": "#C8D4E3"
             },
             "line": {
              "color": "white"
             }
            },
            "type": "table"
           }
          ]
         },
         "layout": {
          "annotationdefaults": {
           "arrowcolor": "#2a3f5f",
           "arrowhead": 0,
           "arrowwidth": 1
          },
          "coloraxis": {
           "colorbar": {
            "outlinewidth": 0,
            "ticks": ""
           }
          },
          "colorscale": {
           "diverging": [
            [
             0,
             "#8e0152"
            ],
            [
             0.1,
             "#c51b7d"
            ],
            [
             0.2,
             "#de77ae"
            ],
            [
             0.3,
             "#f1b6da"
            ],
            [
             0.4,
             "#fde0ef"
            ],
            [
             0.5,
             "#f7f7f7"
            ],
            [
             0.6,
             "#e6f5d0"
            ],
            [
             0.7,
             "#b8e186"
            ],
            [
             0.8,
             "#7fbc41"
            ],
            [
             0.9,
             "#4d9221"
            ],
            [
             1,
             "#276419"
            ]
           ],
           "sequential": [
            [
             0,
             "#0d0887"
            ],
            [
             0.1111111111111111,
             "#46039f"
            ],
            [
             0.2222222222222222,
             "#7201a8"
            ],
            [
             0.3333333333333333,
             "#9c179e"
            ],
            [
             0.4444444444444444,
             "#bd3786"
            ],
            [
             0.5555555555555556,
             "#d8576b"
            ],
            [
             0.6666666666666666,
             "#ed7953"
            ],
            [
             0.7777777777777778,
             "#fb9f3a"
            ],
            [
             0.8888888888888888,
             "#fdca26"
            ],
            [
             1,
             "#f0f921"
            ]
           ],
           "sequentialminus": [
            [
             0,
             "#0d0887"
            ],
            [
             0.1111111111111111,
             "#46039f"
            ],
            [
             0.2222222222222222,
             "#7201a8"
            ],
            [
             0.3333333333333333,
             "#9c179e"
            ],
            [
             0.4444444444444444,
             "#bd3786"
            ],
            [
             0.5555555555555556,
             "#d8576b"
            ],
            [
             0.6666666666666666,
             "#ed7953"
            ],
            [
             0.7777777777777778,
             "#fb9f3a"
            ],
            [
             0.8888888888888888,
             "#fdca26"
            ],
            [
             1,
             "#f0f921"
            ]
           ]
          },
          "colorway": [
           "#636efa",
           "#EF553B",
           "#00cc96",
           "#ab63fa",
           "#FFA15A",
           "#19d3f3",
           "#FF6692",
           "#B6E880",
           "#FF97FF",
           "#FECB52"
          ],
          "font": {
           "color": "#2a3f5f"
          },
          "geo": {
           "bgcolor": "white",
           "lakecolor": "white",
           "landcolor": "#E5ECF6",
           "showlakes": true,
           "showland": true,
           "subunitcolor": "white"
          },
          "hoverlabel": {
           "align": "left"
          },
          "hovermode": "closest",
          "mapbox": {
           "style": "light"
          },
          "paper_bgcolor": "white",
          "plot_bgcolor": "#E5ECF6",
          "polar": {
           "angularaxis": {
            "gridcolor": "white",
            "linecolor": "white",
            "ticks": ""
           },
           "bgcolor": "#E5ECF6",
           "radialaxis": {
            "gridcolor": "white",
            "linecolor": "white",
            "ticks": ""
           }
          },
          "scene": {
           "xaxis": {
            "backgroundcolor": "#E5ECF6",
            "gridcolor": "white",
            "gridwidth": 2,
            "linecolor": "white",
            "showbackground": true,
            "ticks": "",
            "zerolinecolor": "white"
           },
           "yaxis": {
            "backgroundcolor": "#E5ECF6",
            "gridcolor": "white",
            "gridwidth": 2,
            "linecolor": "white",
            "showbackground": true,
            "ticks": "",
            "zerolinecolor": "white"
           },
           "zaxis": {
            "backgroundcolor": "#E5ECF6",
            "gridcolor": "white",
            "gridwidth": 2,
            "linecolor": "white",
            "showbackground": true,
            "ticks": "",
            "zerolinecolor": "white"
           }
          },
          "shapedefaults": {
           "line": {
            "color": "#2a3f5f"
           }
          },
          "ternary": {
           "aaxis": {
            "gridcolor": "white",
            "linecolor": "white",
            "ticks": ""
           },
           "baxis": {
            "gridcolor": "white",
            "linecolor": "white",
            "ticks": ""
           },
           "bgcolor": "#E5ECF6",
           "caxis": {
            "gridcolor": "white",
            "linecolor": "white",
            "ticks": ""
           }
          },
          "title": {
           "x": 0.05
          },
          "xaxis": {
           "automargin": true,
           "gridcolor": "white",
           "linecolor": "white",
           "ticks": "",
           "title": {
            "standoff": 15
           },
           "zerolinecolor": "white",
           "zerolinewidth": 2
          },
          "yaxis": {
           "automargin": true,
           "gridcolor": "white",
           "linecolor": "white",
           "ticks": "",
           "title": {
            "standoff": 15
           },
           "zerolinecolor": "white",
           "zerolinewidth": 2
          }
         }
        },
        "xaxis": {
         "anchor": "y",
         "domain": [
          0,
          0.31999999999999995
         ],
         "title": {
          "text": "month_name"
         }
        },
        "xaxis2": {
         "anchor": "y2",
         "domain": [
          0.33999999999999997,
          0.6599999999999999
         ],
         "matches": "x",
         "title": {
          "text": "month_name"
         }
        },
        "xaxis3": {
         "anchor": "y3",
         "domain": [
          0.6799999999999999,
          0.9999999999999999
         ],
         "matches": "x",
         "title": {
          "text": "month_name"
         }
        },
        "yaxis": {
         "anchor": "x",
         "domain": [
          0,
          1
         ],
         "title": {
          "text": "value"
         }
        },
        "yaxis2": {
         "anchor": "x2",
         "domain": [
          0,
          1
         ],
         "matches": "y",
         "showticklabels": false
        },
        "yaxis3": {
         "anchor": "x3",
         "domain": [
          0,
          1
         ],
         "matches": "y",
         "showticklabels": false
        }
       }
      },
      "text/html": [
       "<div>\n",
       "        \n",
       "        \n",
       "            <div id=\"d36fbf9a-185e-4af9-95ba-e0386217ecdd\" class=\"plotly-graph-div\" style=\"height:525px; width:100%;\"></div>\n",
       "            <script type=\"text/javascript\">\n",
       "                require([\"plotly\"], function(Plotly) {\n",
       "                    window.PLOTLYENV=window.PLOTLYENV || {};\n",
       "                    \n",
       "                if (document.getElementById(\"d36fbf9a-185e-4af9-95ba-e0386217ecdd\")) {\n",
       "                    Plotly.newPlot(\n",
       "                        'd36fbf9a-185e-4af9-95ba-e0386217ecdd',\n",
       "                        [{\"alignmentgroup\": \"True\", \"hovertemplate\": \"variable=n_recipes<br>activity_school_year=1<br>month_name=%{x}<br>value=%{y}<extra></extra>\", \"legendgroup\": \"n_recipes\", \"marker\": {\"color\": \"#636efa\"}, \"name\": \"n_recipes\", \"offsetgroup\": \"n_recipes\", \"orientation\": \"v\", \"showlegend\": true, \"textposition\": \"auto\", \"type\": \"bar\", \"x\": [\"Gennaio\", \"Febbraio\", \"Marzo\", \"Aprile\", \"Maggio\", \"Giugno\", \"Luglio\", \"Agosto\", \"Settembre\", \"Ottobre\", \"Novembre\", \"Dicembre\"], \"xaxis\": \"x\", \"y\": [959.0, 745.0, 874.0, 648.0, 857.0, 391.0, 171.0, 29.0, 96.0, 436.0, 855.0, 768.0], \"yaxis\": \"y\"}, {\"alignmentgroup\": \"True\", \"hovertemplate\": \"variable=n_recipes<br>activity_school_year=2<br>month_name=%{x}<br>value=%{y}<extra></extra>\", \"legendgroup\": \"n_recipes\", \"marker\": {\"color\": \"#636efa\"}, \"name\": \"n_recipes\", \"offsetgroup\": \"n_recipes\", \"orientation\": \"v\", \"showlegend\": false, \"textposition\": \"auto\", \"type\": \"bar\", \"x\": [\"Gennaio\", \"Febbraio\", \"Marzo\", \"Aprile\", \"Maggio\", \"Giugno\", \"Luglio\", \"Agosto\", \"Settembre\", \"Ottobre\", \"Novembre\", \"Dicembre\"], \"xaxis\": \"x2\", \"y\": [355.0, 317.0, 540.0, 503.0, 550.0, 341.0, 65.0, 273.0, 303.0, 472.0, 526.0, 341.0], \"yaxis\": \"y2\"}, {\"alignmentgroup\": \"True\", \"hovertemplate\": \"variable=n_recipes<br>activity_school_year=3<br>month_name=%{x}<br>value=%{y}<extra></extra>\", \"legendgroup\": \"n_recipes\", \"marker\": {\"color\": \"#636efa\"}, \"name\": \"n_recipes\", \"offsetgroup\": \"n_recipes\", \"orientation\": \"v\", \"showlegend\": false, \"textposition\": \"auto\", \"type\": \"bar\", \"x\": [\"Gennaio\", \"Febbraio\", \"Marzo\", \"Aprile\", \"Maggio\", \"Giugno\", \"Luglio\", \"Agosto\", \"Settembre\", \"Ottobre\", \"Novembre\", \"Dicembre\"], \"xaxis\": \"x3\", \"y\": [328.0, 127.0, 205.0, 152.0, 757.0, 548.0, null, 152.0, 268.0, 382.0, 552.0, 221.0], \"yaxis\": \"y3\"}, {\"alignmentgroup\": \"True\", \"hovertemplate\": \"variable=n_experiences<br>activity_school_year=1<br>month_name=%{x}<br>value=%{y}<extra></extra>\", \"legendgroup\": \"n_experiences\", \"marker\": {\"color\": \"#EF553B\"}, \"name\": \"n_experiences\", \"offsetgroup\": \"n_experiences\", \"orientation\": \"v\", \"showlegend\": true, \"textposition\": \"auto\", \"type\": \"bar\", \"x\": [\"Gennaio\", \"Febbraio\", \"Marzo\", \"Aprile\", \"Maggio\", \"Giugno\", \"Luglio\", \"Agosto\", \"Settembre\", \"Ottobre\", \"Novembre\", \"Dicembre\"], \"xaxis\": \"x\", \"y\": [377.0, 537.0, 376.0, 482.0, 596.0, 982.0, 222.0, 42.0, 77.0, 221.0, 301.0, 287.0], \"yaxis\": \"y\"}, {\"alignmentgroup\": \"True\", \"hovertemplate\": \"variable=n_experiences<br>activity_school_year=2<br>month_name=%{x}<br>value=%{y}<extra></extra>\", \"legendgroup\": \"n_experiences\", \"marker\": {\"color\": \"#EF553B\"}, \"name\": \"n_experiences\", \"offsetgroup\": \"n_experiences\", \"orientation\": \"v\", \"showlegend\": false, \"textposition\": \"auto\", \"type\": \"bar\", \"x\": [\"Gennaio\", \"Febbraio\", \"Marzo\", \"Aprile\", \"Maggio\", \"Giugno\", \"Luglio\", \"Agosto\", \"Settembre\", \"Ottobre\", \"Novembre\", \"Dicembre\"], \"xaxis\": \"x2\", \"y\": [661.0, 774.0, 931.0, 541.0, 413.0, 557.0, 103.0, 259.0, 311.0, 717.0, 650.0, 547.0], \"yaxis\": \"y2\"}, {\"alignmentgroup\": \"True\", \"hovertemplate\": \"variable=n_experiences<br>activity_school_year=3<br>month_name=%{x}<br>value=%{y}<extra></extra>\", \"legendgroup\": \"n_experiences\", \"marker\": {\"color\": \"#EF553B\"}, \"name\": \"n_experiences\", \"offsetgroup\": \"n_experiences\", \"orientation\": \"v\", \"showlegend\": false, \"textposition\": \"auto\", \"type\": \"bar\", \"x\": [\"Gennaio\", \"Febbraio\", \"Marzo\", \"Aprile\", \"Maggio\", \"Giugno\", \"Luglio\", \"Agosto\", \"Settembre\", \"Ottobre\", \"Novembre\", \"Dicembre\"], \"xaxis\": \"x3\", \"y\": [477.0, 601.0, 387.0, 458.0, 878.0, 2335.0, null, 433.0, 168.0, 384.0, 457.0, 283.0], \"yaxis\": \"y3\"}],\n",
       "                        {\"annotations\": [{\"font\": {}, \"showarrow\": false, \"text\": \"activity_school_year=1\", \"x\": 0.15999999999999998, \"xanchor\": \"center\", \"xref\": \"paper\", \"y\": 1.0, \"yanchor\": \"bottom\", \"yref\": \"paper\"}, {\"font\": {}, \"showarrow\": false, \"text\": \"activity_school_year=2\", \"x\": 0.49999999999999994, \"xanchor\": \"center\", \"xref\": \"paper\", \"y\": 1.0, \"yanchor\": \"bottom\", \"yref\": \"paper\"}, {\"font\": {}, \"showarrow\": false, \"text\": \"activity_school_year=3\", \"x\": 0.8399999999999999, \"xanchor\": \"center\", \"xref\": \"paper\", \"y\": 1.0, \"yanchor\": \"bottom\", \"yref\": \"paper\"}], \"barmode\": \"relative\", \"legend\": {\"title\": {\"text\": \"variable\"}, \"tracegroupgap\": 0}, \"margin\": {\"t\": 60}, \"template\": {\"data\": {\"bar\": [{\"error_x\": {\"color\": \"#2a3f5f\"}, \"error_y\": {\"color\": \"#2a3f5f\"}, \"marker\": {\"line\": {\"color\": \"#E5ECF6\", \"width\": 0.5}}, \"type\": \"bar\"}], \"barpolar\": [{\"marker\": {\"line\": {\"color\": \"#E5ECF6\", \"width\": 0.5}}, \"type\": \"barpolar\"}], \"carpet\": [{\"aaxis\": {\"endlinecolor\": \"#2a3f5f\", \"gridcolor\": \"white\", \"linecolor\": \"white\", \"minorgridcolor\": \"white\", \"startlinecolor\": \"#2a3f5f\"}, \"baxis\": {\"endlinecolor\": \"#2a3f5f\", \"gridcolor\": \"white\", \"linecolor\": \"white\", \"minorgridcolor\": \"white\", \"startlinecolor\": \"#2a3f5f\"}, \"type\": \"carpet\"}], \"choropleth\": [{\"colorbar\": {\"outlinewidth\": 0, \"ticks\": \"\"}, \"type\": \"choropleth\"}], \"contour\": [{\"colorbar\": {\"outlinewidth\": 0, \"ticks\": \"\"}, \"colorscale\": [[0.0, \"#0d0887\"], [0.1111111111111111, \"#46039f\"], [0.2222222222222222, \"#7201a8\"], [0.3333333333333333, \"#9c179e\"], [0.4444444444444444, \"#bd3786\"], [0.5555555555555556, \"#d8576b\"], [0.6666666666666666, \"#ed7953\"], [0.7777777777777778, \"#fb9f3a\"], [0.8888888888888888, \"#fdca26\"], [1.0, \"#f0f921\"]], \"type\": \"contour\"}], \"contourcarpet\": [{\"colorbar\": {\"outlinewidth\": 0, \"ticks\": \"\"}, \"type\": \"contourcarpet\"}], \"heatmap\": [{\"colorbar\": {\"outlinewidth\": 0, \"ticks\": \"\"}, \"colorscale\": [[0.0, \"#0d0887\"], [0.1111111111111111, \"#46039f\"], [0.2222222222222222, \"#7201a8\"], [0.3333333333333333, \"#9c179e\"], [0.4444444444444444, \"#bd3786\"], [0.5555555555555556, \"#d8576b\"], [0.6666666666666666, \"#ed7953\"], [0.7777777777777778, \"#fb9f3a\"], [0.8888888888888888, \"#fdca26\"], [1.0, \"#f0f921\"]], \"type\": \"heatmap\"}], \"heatmapgl\": [{\"colorbar\": {\"outlinewidth\": 0, \"ticks\": \"\"}, \"colorscale\": [[0.0, \"#0d0887\"], [0.1111111111111111, \"#46039f\"], [0.2222222222222222, \"#7201a8\"], [0.3333333333333333, \"#9c179e\"], [0.4444444444444444, \"#bd3786\"], [0.5555555555555556, \"#d8576b\"], [0.6666666666666666, \"#ed7953\"], [0.7777777777777778, \"#fb9f3a\"], [0.8888888888888888, \"#fdca26\"], [1.0, \"#f0f921\"]], \"type\": \"heatmapgl\"}], \"histogram\": [{\"marker\": {\"colorbar\": {\"outlinewidth\": 0, \"ticks\": \"\"}}, \"type\": \"histogram\"}], \"histogram2d\": [{\"colorbar\": {\"outlinewidth\": 0, \"ticks\": \"\"}, \"colorscale\": [[0.0, \"#0d0887\"], [0.1111111111111111, \"#46039f\"], [0.2222222222222222, \"#7201a8\"], [0.3333333333333333, \"#9c179e\"], [0.4444444444444444, \"#bd3786\"], [0.5555555555555556, \"#d8576b\"], [0.6666666666666666, \"#ed7953\"], [0.7777777777777778, \"#fb9f3a\"], [0.8888888888888888, \"#fdca26\"], [1.0, \"#f0f921\"]], \"type\": \"histogram2d\"}], \"histogram2dcontour\": [{\"colorbar\": {\"outlinewidth\": 0, \"ticks\": \"\"}, \"colorscale\": [[0.0, \"#0d0887\"], [0.1111111111111111, \"#46039f\"], [0.2222222222222222, \"#7201a8\"], [0.3333333333333333, \"#9c179e\"], [0.4444444444444444, \"#bd3786\"], [0.5555555555555556, \"#d8576b\"], [0.6666666666666666, \"#ed7953\"], [0.7777777777777778, \"#fb9f3a\"], [0.8888888888888888, \"#fdca26\"], [1.0, \"#f0f921\"]], \"type\": \"histogram2dcontour\"}], \"mesh3d\": [{\"colorbar\": {\"outlinewidth\": 0, \"ticks\": \"\"}, \"type\": \"mesh3d\"}], \"parcoords\": [{\"line\": {\"colorbar\": {\"outlinewidth\": 0, \"ticks\": \"\"}}, \"type\": \"parcoords\"}], \"pie\": [{\"automargin\": true, \"type\": \"pie\"}], \"scatter\": [{\"marker\": {\"colorbar\": {\"outlinewidth\": 0, \"ticks\": \"\"}}, \"type\": \"scatter\"}], \"scatter3d\": [{\"line\": {\"colorbar\": {\"outlinewidth\": 0, \"ticks\": \"\"}}, \"marker\": {\"colorbar\": {\"outlinewidth\": 0, \"ticks\": \"\"}}, \"type\": \"scatter3d\"}], \"scattercarpet\": [{\"marker\": {\"colorbar\": {\"outlinewidth\": 0, \"ticks\": \"\"}}, \"type\": \"scattercarpet\"}], \"scattergeo\": [{\"marker\": {\"colorbar\": {\"outlinewidth\": 0, \"ticks\": \"\"}}, \"type\": \"scattergeo\"}], \"scattergl\": [{\"marker\": {\"colorbar\": {\"outlinewidth\": 0, \"ticks\": \"\"}}, \"type\": \"scattergl\"}], \"scattermapbox\": [{\"marker\": {\"colorbar\": {\"outlinewidth\": 0, \"ticks\": \"\"}}, \"type\": \"scattermapbox\"}], \"scatterpolar\": [{\"marker\": {\"colorbar\": {\"outlinewidth\": 0, \"ticks\": \"\"}}, \"type\": \"scatterpolar\"}], \"scatterpolargl\": [{\"marker\": {\"colorbar\": {\"outlinewidth\": 0, \"ticks\": \"\"}}, \"type\": \"scatterpolargl\"}], \"scatterternary\": [{\"marker\": {\"colorbar\": {\"outlinewidth\": 0, \"ticks\": \"\"}}, \"type\": \"scatterternary\"}], \"surface\": [{\"colorbar\": {\"outlinewidth\": 0, \"ticks\": \"\"}, \"colorscale\": [[0.0, \"#0d0887\"], [0.1111111111111111, \"#46039f\"], [0.2222222222222222, \"#7201a8\"], [0.3333333333333333, \"#9c179e\"], [0.4444444444444444, \"#bd3786\"], [0.5555555555555556, \"#d8576b\"], [0.6666666666666666, \"#ed7953\"], [0.7777777777777778, \"#fb9f3a\"], [0.8888888888888888, \"#fdca26\"], [1.0, \"#f0f921\"]], \"type\": \"surface\"}], \"table\": [{\"cells\": {\"fill\": {\"color\": \"#EBF0F8\"}, \"line\": {\"color\": \"white\"}}, \"header\": {\"fill\": {\"color\": \"#C8D4E3\"}, \"line\": {\"color\": \"white\"}}, \"type\": \"table\"}]}, \"layout\": {\"annotationdefaults\": {\"arrowcolor\": \"#2a3f5f\", \"arrowhead\": 0, \"arrowwidth\": 1}, \"coloraxis\": {\"colorbar\": {\"outlinewidth\": 0, \"ticks\": \"\"}}, \"colorscale\": {\"diverging\": [[0, \"#8e0152\"], [0.1, \"#c51b7d\"], [0.2, \"#de77ae\"], [0.3, \"#f1b6da\"], [0.4, \"#fde0ef\"], [0.5, \"#f7f7f7\"], [0.6, \"#e6f5d0\"], [0.7, \"#b8e186\"], [0.8, \"#7fbc41\"], [0.9, \"#4d9221\"], [1, \"#276419\"]], \"sequential\": [[0.0, \"#0d0887\"], [0.1111111111111111, \"#46039f\"], [0.2222222222222222, \"#7201a8\"], [0.3333333333333333, \"#9c179e\"], [0.4444444444444444, \"#bd3786\"], [0.5555555555555556, \"#d8576b\"], [0.6666666666666666, \"#ed7953\"], [0.7777777777777778, \"#fb9f3a\"], [0.8888888888888888, \"#fdca26\"], [1.0, \"#f0f921\"]], \"sequentialminus\": [[0.0, \"#0d0887\"], [0.1111111111111111, \"#46039f\"], [0.2222222222222222, \"#7201a8\"], [0.3333333333333333, \"#9c179e\"], [0.4444444444444444, \"#bd3786\"], [0.5555555555555556, \"#d8576b\"], [0.6666666666666666, \"#ed7953\"], [0.7777777777777778, \"#fb9f3a\"], [0.8888888888888888, \"#fdca26\"], [1.0, \"#f0f921\"]]}, \"colorway\": [\"#636efa\", \"#EF553B\", \"#00cc96\", \"#ab63fa\", \"#FFA15A\", \"#19d3f3\", \"#FF6692\", \"#B6E880\", \"#FF97FF\", \"#FECB52\"], \"font\": {\"color\": \"#2a3f5f\"}, \"geo\": {\"bgcolor\": \"white\", \"lakecolor\": \"white\", \"landcolor\": \"#E5ECF6\", \"showlakes\": true, \"showland\": true, \"subunitcolor\": \"white\"}, \"hoverlabel\": {\"align\": \"left\"}, \"hovermode\": \"closest\", \"mapbox\": {\"style\": \"light\"}, \"paper_bgcolor\": \"white\", \"plot_bgcolor\": \"#E5ECF6\", \"polar\": {\"angularaxis\": {\"gridcolor\": \"white\", \"linecolor\": \"white\", \"ticks\": \"\"}, \"bgcolor\": \"#E5ECF6\", \"radialaxis\": {\"gridcolor\": \"white\", \"linecolor\": \"white\", \"ticks\": \"\"}}, \"scene\": {\"xaxis\": {\"backgroundcolor\": \"#E5ECF6\", \"gridcolor\": \"white\", \"gridwidth\": 2, \"linecolor\": \"white\", \"showbackground\": true, \"ticks\": \"\", \"zerolinecolor\": \"white\"}, \"yaxis\": {\"backgroundcolor\": \"#E5ECF6\", \"gridcolor\": \"white\", \"gridwidth\": 2, \"linecolor\": \"white\", \"showbackground\": true, \"ticks\": \"\", \"zerolinecolor\": \"white\"}, \"zaxis\": {\"backgroundcolor\": \"#E5ECF6\", \"gridcolor\": \"white\", \"gridwidth\": 2, \"linecolor\": \"white\", \"showbackground\": true, \"ticks\": \"\", \"zerolinecolor\": \"white\"}}, \"shapedefaults\": {\"line\": {\"color\": \"#2a3f5f\"}}, \"ternary\": {\"aaxis\": {\"gridcolor\": \"white\", \"linecolor\": \"white\", \"ticks\": \"\"}, \"baxis\": {\"gridcolor\": \"white\", \"linecolor\": \"white\", \"ticks\": \"\"}, \"bgcolor\": \"#E5ECF6\", \"caxis\": {\"gridcolor\": \"white\", \"linecolor\": \"white\", \"ticks\": \"\"}}, \"title\": {\"x\": 0.05}, \"xaxis\": {\"automargin\": true, \"gridcolor\": \"white\", \"linecolor\": \"white\", \"ticks\": \"\", \"title\": {\"standoff\": 15}, \"zerolinecolor\": \"white\", \"zerolinewidth\": 2}, \"yaxis\": {\"automargin\": true, \"gridcolor\": \"white\", \"linecolor\": \"white\", \"ticks\": \"\", \"title\": {\"standoff\": 15}, \"zerolinecolor\": \"white\", \"zerolinewidth\": 2}}}, \"xaxis\": {\"anchor\": \"y\", \"domain\": [0.0, 0.31999999999999995], \"title\": {\"text\": \"month_name\"}}, \"xaxis2\": {\"anchor\": \"y2\", \"domain\": [0.33999999999999997, 0.6599999999999999], \"matches\": \"x\", \"title\": {\"text\": \"month_name\"}}, \"xaxis3\": {\"anchor\": \"y3\", \"domain\": [0.6799999999999999, 0.9999999999999999], \"matches\": \"x\", \"title\": {\"text\": \"month_name\"}}, \"yaxis\": {\"anchor\": \"x\", \"domain\": [0.0, 1.0], \"title\": {\"text\": \"value\"}}, \"yaxis2\": {\"anchor\": \"x2\", \"domain\": [0.0, 1.0], \"matches\": \"y\", \"showticklabels\": false}, \"yaxis3\": {\"anchor\": \"x3\", \"domain\": [0.0, 1.0], \"matches\": \"y\", \"showticklabels\": false}},\n",
       "                        {\"responsive\": true}\n",
       "                    ).then(function(){\n",
       "                            \n",
       "var gd = document.getElementById('d36fbf9a-185e-4af9-95ba-e0386217ecdd');\n",
       "var x = new MutationObserver(function (mutations, observer) {{\n",
       "        var display = window.getComputedStyle(gd).display;\n",
       "        if (!display || display === 'none') {{\n",
       "            console.log([gd, 'removed!']);\n",
       "            Plotly.purge(gd);\n",
       "            observer.disconnect();\n",
       "        }}\n",
       "}});\n",
       "\n",
       "// Listen for the removal of the full notebook cells\n",
       "var notebookContainer = gd.closest('#notebook-container');\n",
       "if (notebookContainer) {{\n",
       "    x.observe(notebookContainer, {childList: true});\n",
       "}}\n",
       "\n",
       "// Listen for the clearing of the current output cell\n",
       "var outputEl = gd.closest('.output');\n",
       "if (outputEl) {{\n",
       "    x.observe(outputEl, {childList: true});\n",
       "}}\n",
       "\n",
       "                        })\n",
       "                };\n",
       "                });\n",
       "            </script>\n",
       "        </div>"
      ]
     },
     "metadata": {},
     "output_type": "display_data"
    }
   ],
   "source": [
    "import plotly.express as px\n",
    "fig = px.bar(df, x=\"month_name\", y=[\"n_recipes\",\"n_experiences\"],facet_col='activity_school_year')\n",
    "fig.show()"
   ]
  },
  {
   "cell_type": "code",
   "execution_count": 22,
   "metadata": {},
   "outputs": [
    {
     "data": {
      "application/vnd.plotly.v1+json": {
       "config": {
        "plotlyServerURL": "https://plot.ly"
       },
       "data": [
        {
         "type": "bar",
         "y": [
          2,
          3,
          1
         ]
        }
       ],
       "layout": {
        "template": {
         "data": {
          "bar": [
           {
            "error_x": {
             "color": "#2a3f5f"
            },
            "error_y": {
             "color": "#2a3f5f"
            },
            "marker": {
             "line": {
              "color": "#E5ECF6",
              "width": 0.5
             }
            },
            "type": "bar"
           }
          ],
          "barpolar": [
           {
            "marker": {
             "line": {
              "color": "#E5ECF6",
              "width": 0.5
             }
            },
            "type": "barpolar"
           }
          ],
          "carpet": [
           {
            "aaxis": {
             "endlinecolor": "#2a3f5f",
             "gridcolor": "white",
             "linecolor": "white",
             "minorgridcolor": "white",
             "startlinecolor": "#2a3f5f"
            },
            "baxis": {
             "endlinecolor": "#2a3f5f",
             "gridcolor": "white",
             "linecolor": "white",
             "minorgridcolor": "white",
             "startlinecolor": "#2a3f5f"
            },
            "type": "carpet"
           }
          ],
          "choropleth": [
           {
            "colorbar": {
             "outlinewidth": 0,
             "ticks": ""
            },
            "type": "choropleth"
           }
          ],
          "contour": [
           {
            "colorbar": {
             "outlinewidth": 0,
             "ticks": ""
            },
            "colorscale": [
             [
              0,
              "#0d0887"
             ],
             [
              0.1111111111111111,
              "#46039f"
             ],
             [
              0.2222222222222222,
              "#7201a8"
             ],
             [
              0.3333333333333333,
              "#9c179e"
             ],
             [
              0.4444444444444444,
              "#bd3786"
             ],
             [
              0.5555555555555556,
              "#d8576b"
             ],
             [
              0.6666666666666666,
              "#ed7953"
             ],
             [
              0.7777777777777778,
              "#fb9f3a"
             ],
             [
              0.8888888888888888,
              "#fdca26"
             ],
             [
              1,
              "#f0f921"
             ]
            ],
            "type": "contour"
           }
          ],
          "contourcarpet": [
           {
            "colorbar": {
             "outlinewidth": 0,
             "ticks": ""
            },
            "type": "contourcarpet"
           }
          ],
          "heatmap": [
           {
            "colorbar": {
             "outlinewidth": 0,
             "ticks": ""
            },
            "colorscale": [
             [
              0,
              "#0d0887"
             ],
             [
              0.1111111111111111,
              "#46039f"
             ],
             [
              0.2222222222222222,
              "#7201a8"
             ],
             [
              0.3333333333333333,
              "#9c179e"
             ],
             [
              0.4444444444444444,
              "#bd3786"
             ],
             [
              0.5555555555555556,
              "#d8576b"
             ],
             [
              0.6666666666666666,
              "#ed7953"
             ],
             [
              0.7777777777777778,
              "#fb9f3a"
             ],
             [
              0.8888888888888888,
              "#fdca26"
             ],
             [
              1,
              "#f0f921"
             ]
            ],
            "type": "heatmap"
           }
          ],
          "heatmapgl": [
           {
            "colorbar": {
             "outlinewidth": 0,
             "ticks": ""
            },
            "colorscale": [
             [
              0,
              "#0d0887"
             ],
             [
              0.1111111111111111,
              "#46039f"
             ],
             [
              0.2222222222222222,
              "#7201a8"
             ],
             [
              0.3333333333333333,
              "#9c179e"
             ],
             [
              0.4444444444444444,
              "#bd3786"
             ],
             [
              0.5555555555555556,
              "#d8576b"
             ],
             [
              0.6666666666666666,
              "#ed7953"
             ],
             [
              0.7777777777777778,
              "#fb9f3a"
             ],
             [
              0.8888888888888888,
              "#fdca26"
             ],
             [
              1,
              "#f0f921"
             ]
            ],
            "type": "heatmapgl"
           }
          ],
          "histogram": [
           {
            "marker": {
             "colorbar": {
              "outlinewidth": 0,
              "ticks": ""
             }
            },
            "type": "histogram"
           }
          ],
          "histogram2d": [
           {
            "colorbar": {
             "outlinewidth": 0,
             "ticks": ""
            },
            "colorscale": [
             [
              0,
              "#0d0887"
             ],
             [
              0.1111111111111111,
              "#46039f"
             ],
             [
              0.2222222222222222,
              "#7201a8"
             ],
             [
              0.3333333333333333,
              "#9c179e"
             ],
             [
              0.4444444444444444,
              "#bd3786"
             ],
             [
              0.5555555555555556,
              "#d8576b"
             ],
             [
              0.6666666666666666,
              "#ed7953"
             ],
             [
              0.7777777777777778,
              "#fb9f3a"
             ],
             [
              0.8888888888888888,
              "#fdca26"
             ],
             [
              1,
              "#f0f921"
             ]
            ],
            "type": "histogram2d"
           }
          ],
          "histogram2dcontour": [
           {
            "colorbar": {
             "outlinewidth": 0,
             "ticks": ""
            },
            "colorscale": [
             [
              0,
              "#0d0887"
             ],
             [
              0.1111111111111111,
              "#46039f"
             ],
             [
              0.2222222222222222,
              "#7201a8"
             ],
             [
              0.3333333333333333,
              "#9c179e"
             ],
             [
              0.4444444444444444,
              "#bd3786"
             ],
             [
              0.5555555555555556,
              "#d8576b"
             ],
             [
              0.6666666666666666,
              "#ed7953"
             ],
             [
              0.7777777777777778,
              "#fb9f3a"
             ],
             [
              0.8888888888888888,
              "#fdca26"
             ],
             [
              1,
              "#f0f921"
             ]
            ],
            "type": "histogram2dcontour"
           }
          ],
          "mesh3d": [
           {
            "colorbar": {
             "outlinewidth": 0,
             "ticks": ""
            },
            "type": "mesh3d"
           }
          ],
          "parcoords": [
           {
            "line": {
             "colorbar": {
              "outlinewidth": 0,
              "ticks": ""
             }
            },
            "type": "parcoords"
           }
          ],
          "pie": [
           {
            "automargin": true,
            "type": "pie"
           }
          ],
          "scatter": [
           {
            "marker": {
             "colorbar": {
              "outlinewidth": 0,
              "ticks": ""
             }
            },
            "type": "scatter"
           }
          ],
          "scatter3d": [
           {
            "line": {
             "colorbar": {
              "outlinewidth": 0,
              "ticks": ""
             }
            },
            "marker": {
             "colorbar": {
              "outlinewidth": 0,
              "ticks": ""
             }
            },
            "type": "scatter3d"
           }
          ],
          "scattercarpet": [
           {
            "marker": {
             "colorbar": {
              "outlinewidth": 0,
              "ticks": ""
             }
            },
            "type": "scattercarpet"
           }
          ],
          "scattergeo": [
           {
            "marker": {
             "colorbar": {
              "outlinewidth": 0,
              "ticks": ""
             }
            },
            "type": "scattergeo"
           }
          ],
          "scattergl": [
           {
            "marker": {
             "colorbar": {
              "outlinewidth": 0,
              "ticks": ""
             }
            },
            "type": "scattergl"
           }
          ],
          "scattermapbox": [
           {
            "marker": {
             "colorbar": {
              "outlinewidth": 0,
              "ticks": ""
             }
            },
            "type": "scattermapbox"
           }
          ],
          "scatterpolar": [
           {
            "marker": {
             "colorbar": {
              "outlinewidth": 0,
              "ticks": ""
             }
            },
            "type": "scatterpolar"
           }
          ],
          "scatterpolargl": [
           {
            "marker": {
             "colorbar": {
              "outlinewidth": 0,
              "ticks": ""
             }
            },
            "type": "scatterpolargl"
           }
          ],
          "scatterternary": [
           {
            "marker": {
             "colorbar": {
              "outlinewidth": 0,
              "ticks": ""
             }
            },
            "type": "scatterternary"
           }
          ],
          "surface": [
           {
            "colorbar": {
             "outlinewidth": 0,
             "ticks": ""
            },
            "colorscale": [
             [
              0,
              "#0d0887"
             ],
             [
              0.1111111111111111,
              "#46039f"
             ],
             [
              0.2222222222222222,
              "#7201a8"
             ],
             [
              0.3333333333333333,
              "#9c179e"
             ],
             [
              0.4444444444444444,
              "#bd3786"
             ],
             [
              0.5555555555555556,
              "#d8576b"
             ],
             [
              0.6666666666666666,
              "#ed7953"
             ],
             [
              0.7777777777777778,
              "#fb9f3a"
             ],
             [
              0.8888888888888888,
              "#fdca26"
             ],
             [
              1,
              "#f0f921"
             ]
            ],
            "type": "surface"
           }
          ],
          "table": [
           {
            "cells": {
             "fill": {
              "color": "#EBF0F8"
             },
             "line": {
              "color": "white"
             }
            },
            "header": {
             "fill": {
              "color": "#C8D4E3"
             },
             "line": {
              "color": "white"
             }
            },
            "type": "table"
           }
          ]
         },
         "layout": {
          "annotationdefaults": {
           "arrowcolor": "#2a3f5f",
           "arrowhead": 0,
           "arrowwidth": 1
          },
          "coloraxis": {
           "colorbar": {
            "outlinewidth": 0,
            "ticks": ""
           }
          },
          "colorscale": {
           "diverging": [
            [
             0,
             "#8e0152"
            ],
            [
             0.1,
             "#c51b7d"
            ],
            [
             0.2,
             "#de77ae"
            ],
            [
             0.3,
             "#f1b6da"
            ],
            [
             0.4,
             "#fde0ef"
            ],
            [
             0.5,
             "#f7f7f7"
            ],
            [
             0.6,
             "#e6f5d0"
            ],
            [
             0.7,
             "#b8e186"
            ],
            [
             0.8,
             "#7fbc41"
            ],
            [
             0.9,
             "#4d9221"
            ],
            [
             1,
             "#276419"
            ]
           ],
           "sequential": [
            [
             0,
             "#0d0887"
            ],
            [
             0.1111111111111111,
             "#46039f"
            ],
            [
             0.2222222222222222,
             "#7201a8"
            ],
            [
             0.3333333333333333,
             "#9c179e"
            ],
            [
             0.4444444444444444,
             "#bd3786"
            ],
            [
             0.5555555555555556,
             "#d8576b"
            ],
            [
             0.6666666666666666,
             "#ed7953"
            ],
            [
             0.7777777777777778,
             "#fb9f3a"
            ],
            [
             0.8888888888888888,
             "#fdca26"
            ],
            [
             1,
             "#f0f921"
            ]
           ],
           "sequentialminus": [
            [
             0,
             "#0d0887"
            ],
            [
             0.1111111111111111,
             "#46039f"
            ],
            [
             0.2222222222222222,
             "#7201a8"
            ],
            [
             0.3333333333333333,
             "#9c179e"
            ],
            [
             0.4444444444444444,
             "#bd3786"
            ],
            [
             0.5555555555555556,
             "#d8576b"
            ],
            [
             0.6666666666666666,
             "#ed7953"
            ],
            [
             0.7777777777777778,
             "#fb9f3a"
            ],
            [
             0.8888888888888888,
             "#fdca26"
            ],
            [
             1,
             "#f0f921"
            ]
           ]
          },
          "colorway": [
           "#636efa",
           "#EF553B",
           "#00cc96",
           "#ab63fa",
           "#FFA15A",
           "#19d3f3",
           "#FF6692",
           "#B6E880",
           "#FF97FF",
           "#FECB52"
          ],
          "font": {
           "color": "#2a3f5f"
          },
          "geo": {
           "bgcolor": "white",
           "lakecolor": "white",
           "landcolor": "#E5ECF6",
           "showlakes": true,
           "showland": true,
           "subunitcolor": "white"
          },
          "hoverlabel": {
           "align": "left"
          },
          "hovermode": "closest",
          "mapbox": {
           "style": "light"
          },
          "paper_bgcolor": "white",
          "plot_bgcolor": "#E5ECF6",
          "polar": {
           "angularaxis": {
            "gridcolor": "white",
            "linecolor": "white",
            "ticks": ""
           },
           "bgcolor": "#E5ECF6",
           "radialaxis": {
            "gridcolor": "white",
            "linecolor": "white",
            "ticks": ""
           }
          },
          "scene": {
           "xaxis": {
            "backgroundcolor": "#E5ECF6",
            "gridcolor": "white",
            "gridwidth": 2,
            "linecolor": "white",
            "showbackground": true,
            "ticks": "",
            "zerolinecolor": "white"
           },
           "yaxis": {
            "backgroundcolor": "#E5ECF6",
            "gridcolor": "white",
            "gridwidth": 2,
            "linecolor": "white",
            "showbackground": true,
            "ticks": "",
            "zerolinecolor": "white"
           },
           "zaxis": {
            "backgroundcolor": "#E5ECF6",
            "gridcolor": "white",
            "gridwidth": 2,
            "linecolor": "white",
            "showbackground": true,
            "ticks": "",
            "zerolinecolor": "white"
           }
          },
          "shapedefaults": {
           "line": {
            "color": "#2a3f5f"
           }
          },
          "ternary": {
           "aaxis": {
            "gridcolor": "white",
            "linecolor": "white",
            "ticks": ""
           },
           "baxis": {
            "gridcolor": "white",
            "linecolor": "white",
            "ticks": ""
           },
           "bgcolor": "#E5ECF6",
           "caxis": {
            "gridcolor": "white",
            "linecolor": "white",
            "ticks": ""
           }
          },
          "title": {
           "x": 0.05
          },
          "xaxis": {
           "automargin": true,
           "gridcolor": "white",
           "linecolor": "white",
           "ticks": "",
           "title": {
            "standoff": 15
           },
           "zerolinecolor": "white",
           "zerolinewidth": 2
          },
          "yaxis": {
           "automargin": true,
           "gridcolor": "white",
           "linecolor": "white",
           "ticks": "",
           "title": {
            "standoff": 15
           },
           "zerolinecolor": "white",
           "zerolinewidth": 2
          }
         }
        }
       }
      },
      "text/html": [
       "<div>\n",
       "        \n",
       "        \n",
       "            <div id=\"3ae7e692-7fdb-42d2-8eb2-d41d4eaa843a\" class=\"plotly-graph-div\" style=\"height:525px; width:100%;\"></div>\n",
       "            <script type=\"text/javascript\">\n",
       "                require([\"plotly\"], function(Plotly) {\n",
       "                    window.PLOTLYENV=window.PLOTLYENV || {};\n",
       "                    \n",
       "                if (document.getElementById(\"3ae7e692-7fdb-42d2-8eb2-d41d4eaa843a\")) {\n",
       "                    Plotly.newPlot(\n",
       "                        '3ae7e692-7fdb-42d2-8eb2-d41d4eaa843a',\n",
       "                        [{\"type\": \"bar\", \"y\": [2, 3, 1]}],\n",
       "                        {\"template\": {\"data\": {\"bar\": [{\"error_x\": {\"color\": \"#2a3f5f\"}, \"error_y\": {\"color\": \"#2a3f5f\"}, \"marker\": {\"line\": {\"color\": \"#E5ECF6\", \"width\": 0.5}}, \"type\": \"bar\"}], \"barpolar\": [{\"marker\": {\"line\": {\"color\": \"#E5ECF6\", \"width\": 0.5}}, \"type\": \"barpolar\"}], \"carpet\": [{\"aaxis\": {\"endlinecolor\": \"#2a3f5f\", \"gridcolor\": \"white\", \"linecolor\": \"white\", \"minorgridcolor\": \"white\", \"startlinecolor\": \"#2a3f5f\"}, \"baxis\": {\"endlinecolor\": \"#2a3f5f\", \"gridcolor\": \"white\", \"linecolor\": \"white\", \"minorgridcolor\": \"white\", \"startlinecolor\": \"#2a3f5f\"}, \"type\": \"carpet\"}], \"choropleth\": [{\"colorbar\": {\"outlinewidth\": 0, \"ticks\": \"\"}, \"type\": \"choropleth\"}], \"contour\": [{\"colorbar\": {\"outlinewidth\": 0, \"ticks\": \"\"}, \"colorscale\": [[0.0, \"#0d0887\"], [0.1111111111111111, \"#46039f\"], [0.2222222222222222, \"#7201a8\"], [0.3333333333333333, \"#9c179e\"], [0.4444444444444444, \"#bd3786\"], [0.5555555555555556, \"#d8576b\"], [0.6666666666666666, \"#ed7953\"], [0.7777777777777778, \"#fb9f3a\"], [0.8888888888888888, \"#fdca26\"], [1.0, \"#f0f921\"]], \"type\": \"contour\"}], \"contourcarpet\": [{\"colorbar\": {\"outlinewidth\": 0, \"ticks\": \"\"}, \"type\": \"contourcarpet\"}], \"heatmap\": [{\"colorbar\": {\"outlinewidth\": 0, \"ticks\": \"\"}, \"colorscale\": [[0.0, \"#0d0887\"], [0.1111111111111111, \"#46039f\"], [0.2222222222222222, \"#7201a8\"], [0.3333333333333333, \"#9c179e\"], [0.4444444444444444, \"#bd3786\"], [0.5555555555555556, \"#d8576b\"], [0.6666666666666666, \"#ed7953\"], [0.7777777777777778, \"#fb9f3a\"], [0.8888888888888888, \"#fdca26\"], [1.0, \"#f0f921\"]], \"type\": \"heatmap\"}], \"heatmapgl\": [{\"colorbar\": {\"outlinewidth\": 0, \"ticks\": \"\"}, \"colorscale\": [[0.0, \"#0d0887\"], [0.1111111111111111, \"#46039f\"], [0.2222222222222222, \"#7201a8\"], [0.3333333333333333, \"#9c179e\"], [0.4444444444444444, \"#bd3786\"], [0.5555555555555556, \"#d8576b\"], [0.6666666666666666, \"#ed7953\"], [0.7777777777777778, \"#fb9f3a\"], [0.8888888888888888, \"#fdca26\"], [1.0, \"#f0f921\"]], \"type\": \"heatmapgl\"}], \"histogram\": [{\"marker\": {\"colorbar\": {\"outlinewidth\": 0, \"ticks\": \"\"}}, \"type\": \"histogram\"}], \"histogram2d\": [{\"colorbar\": {\"outlinewidth\": 0, \"ticks\": \"\"}, \"colorscale\": [[0.0, \"#0d0887\"], [0.1111111111111111, \"#46039f\"], [0.2222222222222222, \"#7201a8\"], [0.3333333333333333, \"#9c179e\"], [0.4444444444444444, \"#bd3786\"], [0.5555555555555556, \"#d8576b\"], [0.6666666666666666, \"#ed7953\"], [0.7777777777777778, \"#fb9f3a\"], [0.8888888888888888, \"#fdca26\"], [1.0, \"#f0f921\"]], \"type\": \"histogram2d\"}], \"histogram2dcontour\": [{\"colorbar\": {\"outlinewidth\": 0, \"ticks\": \"\"}, \"colorscale\": [[0.0, \"#0d0887\"], [0.1111111111111111, \"#46039f\"], [0.2222222222222222, \"#7201a8\"], [0.3333333333333333, \"#9c179e\"], [0.4444444444444444, \"#bd3786\"], [0.5555555555555556, \"#d8576b\"], [0.6666666666666666, \"#ed7953\"], [0.7777777777777778, \"#fb9f3a\"], [0.8888888888888888, \"#fdca26\"], [1.0, \"#f0f921\"]], \"type\": \"histogram2dcontour\"}], \"mesh3d\": [{\"colorbar\": {\"outlinewidth\": 0, \"ticks\": \"\"}, \"type\": \"mesh3d\"}], \"parcoords\": [{\"line\": {\"colorbar\": {\"outlinewidth\": 0, \"ticks\": \"\"}}, \"type\": \"parcoords\"}], \"pie\": [{\"automargin\": true, \"type\": \"pie\"}], \"scatter\": [{\"marker\": {\"colorbar\": {\"outlinewidth\": 0, \"ticks\": \"\"}}, \"type\": \"scatter\"}], \"scatter3d\": [{\"line\": {\"colorbar\": {\"outlinewidth\": 0, \"ticks\": \"\"}}, \"marker\": {\"colorbar\": {\"outlinewidth\": 0, \"ticks\": \"\"}}, \"type\": \"scatter3d\"}], \"scattercarpet\": [{\"marker\": {\"colorbar\": {\"outlinewidth\": 0, \"ticks\": \"\"}}, \"type\": \"scattercarpet\"}], \"scattergeo\": [{\"marker\": {\"colorbar\": {\"outlinewidth\": 0, \"ticks\": \"\"}}, \"type\": \"scattergeo\"}], \"scattergl\": [{\"marker\": {\"colorbar\": {\"outlinewidth\": 0, \"ticks\": \"\"}}, \"type\": \"scattergl\"}], \"scattermapbox\": [{\"marker\": {\"colorbar\": {\"outlinewidth\": 0, \"ticks\": \"\"}}, \"type\": \"scattermapbox\"}], \"scatterpolar\": [{\"marker\": {\"colorbar\": {\"outlinewidth\": 0, \"ticks\": \"\"}}, \"type\": \"scatterpolar\"}], \"scatterpolargl\": [{\"marker\": {\"colorbar\": {\"outlinewidth\": 0, \"ticks\": \"\"}}, \"type\": \"scatterpolargl\"}], \"scatterternary\": [{\"marker\": {\"colorbar\": {\"outlinewidth\": 0, \"ticks\": \"\"}}, \"type\": \"scatterternary\"}], \"surface\": [{\"colorbar\": {\"outlinewidth\": 0, \"ticks\": \"\"}, \"colorscale\": [[0.0, \"#0d0887\"], [0.1111111111111111, \"#46039f\"], [0.2222222222222222, \"#7201a8\"], [0.3333333333333333, \"#9c179e\"], [0.4444444444444444, \"#bd3786\"], [0.5555555555555556, \"#d8576b\"], [0.6666666666666666, \"#ed7953\"], [0.7777777777777778, \"#fb9f3a\"], [0.8888888888888888, \"#fdca26\"], [1.0, \"#f0f921\"]], \"type\": \"surface\"}], \"table\": [{\"cells\": {\"fill\": {\"color\": \"#EBF0F8\"}, \"line\": {\"color\": \"white\"}}, \"header\": {\"fill\": {\"color\": \"#C8D4E3\"}, \"line\": {\"color\": \"white\"}}, \"type\": \"table\"}]}, \"layout\": {\"annotationdefaults\": {\"arrowcolor\": \"#2a3f5f\", \"arrowhead\": 0, \"arrowwidth\": 1}, \"coloraxis\": {\"colorbar\": {\"outlinewidth\": 0, \"ticks\": \"\"}}, \"colorscale\": {\"diverging\": [[0, \"#8e0152\"], [0.1, \"#c51b7d\"], [0.2, \"#de77ae\"], [0.3, \"#f1b6da\"], [0.4, \"#fde0ef\"], [0.5, \"#f7f7f7\"], [0.6, \"#e6f5d0\"], [0.7, \"#b8e186\"], [0.8, \"#7fbc41\"], [0.9, \"#4d9221\"], [1, \"#276419\"]], \"sequential\": [[0.0, \"#0d0887\"], [0.1111111111111111, \"#46039f\"], [0.2222222222222222, \"#7201a8\"], [0.3333333333333333, \"#9c179e\"], [0.4444444444444444, \"#bd3786\"], [0.5555555555555556, \"#d8576b\"], [0.6666666666666666, \"#ed7953\"], [0.7777777777777778, \"#fb9f3a\"], [0.8888888888888888, \"#fdca26\"], [1.0, \"#f0f921\"]], \"sequentialminus\": [[0.0, \"#0d0887\"], [0.1111111111111111, \"#46039f\"], [0.2222222222222222, \"#7201a8\"], [0.3333333333333333, \"#9c179e\"], [0.4444444444444444, \"#bd3786\"], [0.5555555555555556, \"#d8576b\"], [0.6666666666666666, \"#ed7953\"], [0.7777777777777778, \"#fb9f3a\"], [0.8888888888888888, \"#fdca26\"], [1.0, \"#f0f921\"]]}, \"colorway\": [\"#636efa\", \"#EF553B\", \"#00cc96\", \"#ab63fa\", \"#FFA15A\", \"#19d3f3\", \"#FF6692\", \"#B6E880\", \"#FF97FF\", \"#FECB52\"], \"font\": {\"color\": \"#2a3f5f\"}, \"geo\": {\"bgcolor\": \"white\", \"lakecolor\": \"white\", \"landcolor\": \"#E5ECF6\", \"showlakes\": true, \"showland\": true, \"subunitcolor\": \"white\"}, \"hoverlabel\": {\"align\": \"left\"}, \"hovermode\": \"closest\", \"mapbox\": {\"style\": \"light\"}, \"paper_bgcolor\": \"white\", \"plot_bgcolor\": \"#E5ECF6\", \"polar\": {\"angularaxis\": {\"gridcolor\": \"white\", \"linecolor\": \"white\", \"ticks\": \"\"}, \"bgcolor\": \"#E5ECF6\", \"radialaxis\": {\"gridcolor\": \"white\", \"linecolor\": \"white\", \"ticks\": \"\"}}, \"scene\": {\"xaxis\": {\"backgroundcolor\": \"#E5ECF6\", \"gridcolor\": \"white\", \"gridwidth\": 2, \"linecolor\": \"white\", \"showbackground\": true, \"ticks\": \"\", \"zerolinecolor\": \"white\"}, \"yaxis\": {\"backgroundcolor\": \"#E5ECF6\", \"gridcolor\": \"white\", \"gridwidth\": 2, \"linecolor\": \"white\", \"showbackground\": true, \"ticks\": \"\", \"zerolinecolor\": \"white\"}, \"zaxis\": {\"backgroundcolor\": \"#E5ECF6\", \"gridcolor\": \"white\", \"gridwidth\": 2, \"linecolor\": \"white\", \"showbackground\": true, \"ticks\": \"\", \"zerolinecolor\": \"white\"}}, \"shapedefaults\": {\"line\": {\"color\": \"#2a3f5f\"}}, \"ternary\": {\"aaxis\": {\"gridcolor\": \"white\", \"linecolor\": \"white\", \"ticks\": \"\"}, \"baxis\": {\"gridcolor\": \"white\", \"linecolor\": \"white\", \"ticks\": \"\"}, \"bgcolor\": \"#E5ECF6\", \"caxis\": {\"gridcolor\": \"white\", \"linecolor\": \"white\", \"ticks\": \"\"}}, \"title\": {\"x\": 0.05}, \"xaxis\": {\"automargin\": true, \"gridcolor\": \"white\", \"linecolor\": \"white\", \"ticks\": \"\", \"title\": {\"standoff\": 15}, \"zerolinecolor\": \"white\", \"zerolinewidth\": 2}, \"yaxis\": {\"automargin\": true, \"gridcolor\": \"white\", \"linecolor\": \"white\", \"ticks\": \"\", \"title\": {\"standoff\": 15}, \"zerolinecolor\": \"white\", \"zerolinewidth\": 2}}}},\n",
       "                        {\"responsive\": true}\n",
       "                    ).then(function(){\n",
       "                            \n",
       "var gd = document.getElementById('3ae7e692-7fdb-42d2-8eb2-d41d4eaa843a');\n",
       "var x = new MutationObserver(function (mutations, observer) {{\n",
       "        var display = window.getComputedStyle(gd).display;\n",
       "        if (!display || display === 'none') {{\n",
       "            console.log([gd, 'removed!']);\n",
       "            Plotly.purge(gd);\n",
       "            observer.disconnect();\n",
       "        }}\n",
       "}});\n",
       "\n",
       "// Listen for the removal of the full notebook cells\n",
       "var notebookContainer = gd.closest('#notebook-container');\n",
       "if (notebookContainer) {{\n",
       "    x.observe(notebookContainer, {childList: true});\n",
       "}}\n",
       "\n",
       "// Listen for the clearing of the current output cell\n",
       "var outputEl = gd.closest('.output');\n",
       "if (outputEl) {{\n",
       "    x.observe(outputEl, {childList: true});\n",
       "}}\n",
       "\n",
       "                        })\n",
       "                };\n",
       "                });\n",
       "            </script>\n",
       "        </div>"
      ]
     },
     "metadata": {},
     "output_type": "display_data"
    }
   ],
   "source": [
    "import plotly.graph_objects as go\n",
    "fig = go.Figure(data=go.Bar(y=[2, 3, 1]))\n",
    "fig.show()"
   ]
  },
  {
   "cell_type": "code",
   "execution_count": null,
   "metadata": {},
   "outputs": [],
   "source": []
  },
  {
   "cell_type": "code",
   "execution_count": null,
   "metadata": {},
   "outputs": [],
   "source": []
  },
  {
   "cell_type": "code",
   "execution_count": null,
   "metadata": {},
   "outputs": [],
   "source": []
  },
  {
   "cell_type": "code",
   "execution_count": null,
   "metadata": {},
   "outputs": [],
   "source": []
  },
  {
   "cell_type": "code",
   "execution_count": null,
   "metadata": {},
   "outputs": [],
   "source": []
  },
  {
   "cell_type": "code",
   "execution_count": 2,
   "metadata": {},
   "outputs": [],
   "source": [
    "from am4chart import Amchart"
   ]
  },
  {
   "cell_type": "code",
   "execution_count": null,
   "metadata": {},
   "outputs": [],
   "source": []
  },
  {
   "cell_type": "code",
   "execution_count": 5,
   "metadata": {
    "scrolled": false
   },
   "outputs": [
    {
     "data": {
      "text/html": [
       "<script>require.config({\n",
       "  paths: {\n",
       "\t d3: '//cdnjs.cloudflare.com/ajax/libs/d3/5.15.0/d3.min',\n",
       "\t amchart_core: 'http://www.amcharts.com/lib/4/core',\n",
       "\t amchart_charts: 'http://www.amcharts.com/lib/4/charts',\n",
       "\t 'amcharts4/themes/animated': 'http://www.amcharts.com/lib/4/themes/animated',\n",
       "\t 'amcharts4/themes/amcharts': 'http://www.amcharts.com/lib/4/themes/amcharts',\n",
       "\t 'amcharts4/themes/dataviz': 'http://www.amcharts.com/lib/4/themes/dataviz',\n",
       "\t 'amcharts4/themes/frozen': 'http://www.amcharts.com/lib/4/themes/frozen',\n",
       "\t 'amcharts4/themes/kelly': 'http://www.amcharts.com/lib/4/themes/kelly',\n",
       "\t 'amcharts4/themes/material': 'http://www.amcharts.com/lib/4/themes/material',\n",
       "\t 'amcharts4/themes/moonrisekingdom': 'http://www.amcharts.com/lib/4/themes/moonrisekingdom',\n",
       "\t 'amcharts4/themes/spiritedaway': 'http://www.amcharts.com/lib/4/themes/spiritedaway',\n",
       "  },\n",
       "  shim: {\n",
       "\t amchart_core: {\n",
       "\t\t  init: function () {\n",
       "\t\t\t  return window.am4core;\n",
       "\t\t  }\n",
       "\t  },\n",
       "\t  amchart_charts: {\n",
       "\t\t  deps: ['amchart_core'],\n",
       "\t\t  exports: 'amchart_charts',\n",
       "\t\t  init: function () {\n",
       "\t\t\t  return window.am4charts;\n",
       "\t\t  }\n",
       "\t  },\n",
       "\t  'amcharts4/themes/animated': {\n",
       "\t\t  deps: ['amchart_core'],\n",
       "\t\t  init: function () {\n",
       "\t\t\t  return window.am4themes_animated;\n",
       "\t\t  }\n",
       "\t  },\n",
       "\t  'amcharts4/themes/dataviz': {\n",
       "\t\t  deps: ['amchart_core'],\n",
       "\t\t  init: function () {\n",
       "\t\t\t  return window.am4themes_dataviz;\n",
       "\t\t  }\n",
       "\t  },\n",
       "\t  'amcharts4/themes/frozen': {\n",
       "\t\t  deps: ['amchart_core'],\n",
       "\t\t  init: function () {\n",
       "\t\t\t  return window.am4themes_frozen;\n",
       "\t\t  }\n",
       "\t  },\n",
       "\t  'amcharts4/themes/kelly': {\n",
       "\t\t  deps: ['amchart_core'],\n",
       "\t\t  init: function () {\n",
       "\t\t\t  return window.am4themes_kelly;\n",
       "\t\t  }\n",
       "\t  },\n",
       "\t  'amcharts4/themes/material': {\n",
       "\t\t  deps: ['amchart_core'],\n",
       "\t\t  init: function () {\n",
       "\t\t\t  return window.am4themes_material;\n",
       "\t\t  }\n",
       "\t  },\n",
       "\t  'amcharts4/themes/moonrisekingdom': {\n",
       "\t\t  deps: ['amchart_core'],\n",
       "\t\t  init: function () {\n",
       "\t\t\t  return window.am4themes_moonrisekingdom;\n",
       "\t\t  }\n",
       "\t  },\n",
       "\t  'amcharts4/themes/amcharts': {\n",
       "\t\t  deps: ['amchart_core'],\n",
       "\t\t  init: function () {\n",
       "\t\t\t  return window.am4themes_amcharts;\n",
       "\t\t  }\n",
       "\t  },\n",
       "\t  'amcharts4/themes/spiritedaway': {\n",
       "\t\t  deps: ['amchart_core'],\n",
       "\t\t  init: function () {\n",
       "\t\t\t  return window.am4themes_spiritedaway;\n",
       "\t\t  }\n",
       "\t  }\n",
       "  }\n",
       "});function new_columnCallback(params, canvasID) {\n",
       "\n",
       "    return function (am4core, am4charts, am4themes_animated) {\n",
       "\n",
       "        // Create chart instance\n",
       "        var chart = am4core.create(canvasID, am4charts.XYChart);\n",
       "        chart.numberFormatter.numberFormat = \"#.0\";\n",
       "\n",
       "// Add data\n",
       "        chart.data = [{\n",
       "            \"year\": \"2003\",\n",
       "            \"europe\": 2.5,\n",
       "            \"namerica\": 2.5,\n",
       "            \"asia\": 2.1,\n",
       "            \"lamerica\": 1.2,\n",
       "            \"meast\": 0.2,\n",
       "            \"africa\": 0.1\n",
       "        }, {\n",
       "            \"year\": \"2004\",\n",
       "            \"europe\": 2.6,\n",
       "            \"namerica\": 2.7,\n",
       "            \"asia\": 2.2,\n",
       "            \"lamerica\": 1.3,\n",
       "            \"meast\": 0.3,\n",
       "            \"africa\": 0.1\n",
       "        }, {\n",
       "            \"year\": \"2005\",\n",
       "            \"europe\": 2.8,\n",
       "            \"namerica\": 2.9,\n",
       "            \"asia\": 2.4,\n",
       "            \"lamerica\": 1.4,\n",
       "            \"meast\": 0.3,\n",
       "            \"africa\": 0.1\n",
       "        }];\n",
       "\n",
       "// Create axes\n",
       "        var categoryAxis = chart.xAxes.push(new am4charts.CategoryAxis());\n",
       "        categoryAxis.dataFields.category = \"year\";\n",
       "        categoryAxis.renderer.grid.template.location = 0;\n",
       "        categoryAxis.renderer.minGridDistance = 20;\n",
       "        categoryAxis.renderer.inside = true;\n",
       "        categoryAxis.renderer.labels.template.valign = \"top\";\n",
       "        categoryAxis.renderer.labels.template.fontSize = 20;\n",
       "        categoryAxis.renderer.cellStartLocation = 0.1;\n",
       "        categoryAxis.renderer.cellEndLocation = 0.9;\n",
       "\n",
       "        var valueAxis = chart.yAxes.push(new am4charts.ValueAxis());\n",
       "        valueAxis.min = 0;\n",
       "        valueAxis.title.text = \"Expenditure (M)\";\n",
       "\n",
       "// Create series\n",
       "        function createSeries(field, name) {\n",
       "            var series = chart.series.push(new am4charts.ColumnSeries());\n",
       "            series.dataFields.valueY = field;\n",
       "            series.dataFields.categoryX = \"year\";\n",
       "            series.name = name;\n",
       "            series.columns.template.tooltipText = \"{name}: [bold]{valueY}[/]\";\n",
       "            series.columns.template.width = am4core.percent(95);\n",
       "\n",
       "            var bullet = series.bullets.push(new am4charts.LabelBullet);\n",
       "            bullet.label.text = \"{name}\";\n",
       "            bullet.label.rotation = 90;\n",
       "            bullet.label.truncate = false;\n",
       "            bullet.label.hideOversized = false;\n",
       "            bullet.label.horizontalCenter = \"left\";\n",
       "            bullet.locationY = 1;\n",
       "            bullet.dy = 10;\n",
       "        }\n",
       "\n",
       "        chart.paddingBottom = 150;\n",
       "        chart.maskBullets = false;\n",
       "\n",
       "        createSeries(\"europe\", \"Europe\", false);\n",
       "        createSeries(\"namerica\", \"North America\", true);\n",
       "        createSeries(\"asia\", \"Asia\", false);\n",
       "        createSeries(\"lamerica\", \"Latin America\", true);\n",
       "        createSeries(\"meast\", \"Middle East\", true);\n",
       "        createSeries(\"africa\", \"Africa\", true);\n",
       "\n",
       "    }\n",
       "}\n",
       "\n",
       "\n",
       "function columnCallback(params, canvasID) {\n",
       "\n",
       "    return function (am4core, am4charts, am4themes_animated,am4theme=null) {\n",
       "\n",
       "        let legend = params['legend'];\n",
       "        let data = params['data'];\n",
       "        let series = params['series'];\n",
       "        let stacks = params['stacks'];\n",
       "\n",
       "        if (stacks == 1) {\n",
       "            stacks = 5; // to better differentiate colors\n",
       "        }\n",
       "\n",
       "        if (legend === undefined) {\n",
       "            legend = true;\n",
       "        }\n",
       "\n",
       "        /* Chart code */\n",
       "        // Themes begin\n",
       "        if(am4theme){\n",
       "            am4core.useTheme(am4theme);\n",
       "        }\n",
       "        am4core.useTheme(am4themes_animated);\n",
       "        // Themes end\n",
       "\n",
       "\n",
       "        let chart = am4core.create(canvasID, am4charts.XYChart);\n",
       "\n",
       "        var tot_colors = Object.keys(chart.colors._list).length;\n",
       "        if(!am4theme){\n",
       "            tot_colors = 20;\n",
       "        }\n",
       "\n",
       "        var stepColor = Math.ceil(tot_colors / stacks);\n",
       "        if(params['x_vals'].length<Object.keys(series).length && params['stacks']==1){\n",
       "            stepColor = 1;\n",
       "        }\n",
       "\n",
       "        chart.colors.step = stepColor;\n",
       "\n",
       "        if (params['title']) {\n",
       "            let title = chart.titles.create();\n",
       "            title.text = params['title'];\n",
       "            title.fontSize = 18;\n",
       "            title.marginBottom = 10;\n",
       "        }\n",
       "\n",
       "        if (legend) {\n",
       "            chart.legend = new am4charts.Legend();\n",
       "            chart.legend.position = 'bottom';\n",
       "            chart.legend.paddingBottom = 20;\n",
       "            chart.legend.maxWidth = undefined;\n",
       "            chart.legend.valueLabels.template.align = \"center\";\n",
       "            chart.legend.valueLabels.template.textAlign = \"center\";\n",
       "        }\n",
       "\n",
       "        let xAxis = chart.xAxes.push(new am4charts.CategoryAxis());\n",
       "        // Create value axis\n",
       "        xAxis.dataFields.category = 'x';\n",
       "        xAxis.renderer.cellStartLocation = 0.1;\n",
       "        xAxis.renderer.cellEndLocation = 0.9;\n",
       "        xAxis.renderer.grid.template.location = 0;\n",
       "        xAxis.renderer.minGridDistance = 1;\n",
       "\n",
       "        let label = xAxis.renderer.labels.template;\n",
       "        label.wrap = true;\n",
       "        label.maxWidth = 120;\n",
       "\n",
       "        let yAxis = chart.yAxes.push(new am4charts.ValueAxis());\n",
       "        yAxis.min = 0;\n",
       "\n",
       "\n",
       "\n",
       "        function createSeries(value, name, stacked = false, colorIndex = 0) {\n",
       "            let series = chart.series.push(new am4charts.ColumnSeries());\n",
       "            series.name = name;\n",
       "            series.dataFields.valueY = value;\n",
       "            series.dataFields.categoryX = 'x';\n",
       "\n",
       "            series.stacked = stacked;\n",
       "\n",
       "            series.columns.template.tooltipText = \"{name}: [bold]{valueY}[/]\";\n",
       "            series.tooltip.pointerOrientation = \"down\";\n",
       "            series.columns.template.tooltipY = -3;\n",
       "\n",
       "            if(params['stacks']!=1){\n",
       "                series.columns.template.fill = chart.colors.getIndex(colorIndex*2);\n",
       "                series.columns.template.stroke =chart.colors.getIndex(colorIndex*2);\n",
       "            }\n",
       "\n",
       "            let stocazzo = false;\n",
       "\n",
       "            if (stocazzo) {\n",
       "                let bullet = series.bullets.push(new am4charts.LabelBullet());\n",
       "                bullet.dy = -10;\n",
       "                bullet.label.text = '{valueY}';\n",
       "                bullet.label.truncate = false;\n",
       "                bullet.label.fill = am4core.color('#000000')\n",
       "            }\n",
       "\n",
       "            return series;\n",
       "        }\n",
       "\n",
       "        chart.data = data;\n",
       "\n",
       "        var colorIndex = 0\n",
       "        Object.keys(series).forEach(function (key, index) {\n",
       "            if(this[key]){\n",
       "                colorIndex++;\n",
       "            }else{\n",
       "                colorIndex=0;\n",
       "            }\n",
       "            createSeries(key, key, this[key],colorIndex)\n",
       "        }, series);\n",
       "\n",
       "        // check for dividers\n",
       "        if(params['range_divider']) {\n",
       "\n",
       "            var start_val = data[0]['x'];\n",
       "            colorIndex = 0;\n",
       "            for (index = 0; index < params['range_divider'].length; ++index) {\n",
       "                if((index+1) == params['range_divider'].length || params['range_divider'][index+1]){\n",
       "                    var end_val = data[index]['x'];\n",
       "\n",
       "                    var range = xAxis.axisRanges.create();\n",
       "                    range.category = start_val;\n",
       "                    range.endCategory = end_val;\n",
       "                    range.value = start_val;\n",
       "                    range.endValue = end_val;\n",
       "                    range.axisFill.fill = chart.colors.getIndex(colorIndex*4);\n",
       "                    range.axisFill.fillOpacity = 0.15;\n",
       "                    range.label.disabled = true;\n",
       "\n",
       "                    if((index+1) != params['range_divider'].length){\n",
       "                        start_val = data[index+1]['x'];\n",
       "                        colorIndex++;\n",
       "                    }\n",
       "\n",
       "                }\n",
       "            }\n",
       "        }\n",
       "\n",
       "        if (params['range_divider']) {\n",
       "            console.log(data);\n",
       "        }\n",
       "\n",
       "        if(params['y_title']){\n",
       "            yAxis.title.text = params['y_title'];\n",
       "        }\n",
       "\n",
       "        if(params['x_title']){\n",
       "            xAxis.title.text = params['x_title'];\n",
       "        }\n",
       "\n",
       "        if(params['is_category'] && params['x_names_map']) {\n",
       "            xAxis.renderer.labels.template.adapter.add(\"textOutput\", function (text) {\n",
       "                var new_text = params['x_names_map'][text];\n",
       "                return new_text;\n",
       "            });\n",
       "        }\n",
       "\n",
       "\n",
       "    }\n",
       "\n",
       "}function lineCallback(params, canvasID) {\n",
       "\n",
       "    return function (am4core, am4charts, am4themes_animated,am4theme=null) {\n",
       "\n",
       "        let legend = params['legend'];\n",
       "        let data = params['data'];\n",
       "        let series = params['series'];\n",
       "        let stacks = params['stacks'];\n",
       "\n",
       "\n",
       "        if(am4theme){\n",
       "            am4core.useTheme(am4theme);\n",
       "        }\n",
       "        am4core.useTheme(am4themes_animated);\n",
       "\n",
       "        // Create chart instance\n",
       "        let chart = am4core.create(canvasID, am4charts.XYChart);\n",
       "        chart.numberFormatter.numberFormat = \"#.0\";\n",
       "\n",
       "        var tot_colors = Object.keys(chart.colors._list).length;\n",
       "        if(!am4theme){\n",
       "            tot_colors = 20;\n",
       "        }\n",
       "\n",
       "        var stepColor = Math.ceil(tot_colors / stacks);\n",
       "        if(params['x_vals'].length<Object.keys(series).length || params['stacks']==1){\n",
       "            stepColor = 4;\n",
       "        }\n",
       "\n",
       "        chart.colors.step = stepColor;\n",
       "\n",
       "        // Add data\n",
       "        chart.data = data;\n",
       "\n",
       "        if (params['title']) {\n",
       "            let title = chart.titles.create();\n",
       "            title.text = params['title'];\n",
       "            title.fontSize = 18;\n",
       "            title.marginBottom = 10;\n",
       "        }\n",
       "\n",
       "        if (legend) {\n",
       "            chart.legend = new am4charts.Legend();\n",
       "            chart.legend.position = 'bottom';\n",
       "            chart.legend.paddingLeft = 60;\n",
       "            chart.legend.maxWidth = undefined;\n",
       "            chart.legend.valueLabels.template.align = \"center\";\n",
       "            chart.legend.valueLabels.template.textAlign = \"center\";\n",
       "        }\n",
       "\n",
       "        // Create axes\n",
       "        var axis_type = new am4charts.ValueAxis();\n",
       "        if(params['is_category']) {\n",
       "            axis_type = new am4charts.CategoryAxis();\n",
       "        }\n",
       "\n",
       "        let xAxis = chart.xAxes.push(axis_type);\n",
       "\n",
       "        xAxis.dataFields.category = 'x';\n",
       "\n",
       "        xAxis.renderer.cellStartLocation = 0.1;\n",
       "        xAxis.renderer.cellEndLocation = 0.9;\n",
       "        xAxis.renderer.grid.template.location = 0;\n",
       "        xAxis.renderer.minGridDistance = 1;\n",
       "\n",
       "        let label = xAxis.renderer.labels.template;\n",
       "        if(params['hide_x_labels']){\n",
       "            label.hide()\n",
       "        }\n",
       "\n",
       "\n",
       "\n",
       "// Create value axis\n",
       "        let yAxis = chart.yAxes.push(new am4charts.ValueAxis());\n",
       "\n",
       "        // Create series\n",
       "        function createSeries(value, name, stacked=false) {\n",
       "            let series = chart.series.push(new am4charts.LineSeries());\n",
       "\n",
       "            series.name = name;\n",
       "\n",
       "            series.dataFields.categoryX = \"x\";\n",
       "            series.dataFields.valueX  = \"x\";\n",
       "            series.dataFields.valueY = value;\n",
       "            series.tensionX = 0.77;\n",
       "            //series1.dataFields.value = \"aValue\";\n",
       "            series.strokeWidth = 2;\n",
       "\n",
       "            let bullet1 = series.bullets.push(new am4charts.CircleBullet());\n",
       "            if(0) {\n",
       "                series.heatRules.push({\n",
       "                    target: bullet1.circle,\n",
       "                    min: 3,\n",
       "                    max: 20,\n",
       "                    dataField: \"value\",\n",
       "                    property: \"radius\"\n",
       "                });\n",
       "            }\n",
       "\n",
       "            //bullet1.tooltipText = \"{valueX} x {valueY}: [bold]{value}[/]\";\n",
       "            bullet1.tooltipText = \"{valueY}\";\n",
       "\n",
       "            return series;\n",
       "        }\n",
       "\n",
       "        Object.keys(series).forEach(function (key, index) {\n",
       "            createSeries(key, key, this[key])\n",
       "        }, series);\n",
       "\n",
       "        // check for dividers\n",
       "        if(params['range_divider']) {\n",
       "\n",
       "            var start_val = data[0]['x'];\n",
       "            colorIndex = 0;\n",
       "            for (index = 0; index < params['range_divider'].length; ++index) {\n",
       "                if((index+1) == params['range_divider'].length || params['range_divider'][index+1]){\n",
       "                    var end_val = data[index]['x'];\n",
       "\n",
       "                    var range = xAxis.axisRanges.create();\n",
       "                    range.category = start_val;\n",
       "                    range.endCategory = end_val;\n",
       "                    range.value = start_val;\n",
       "                    range.endValue = end_val;\n",
       "                    range.axisFill.fill = chart.colors.getIndex(colorIndex*4);\n",
       "                    range.axisFill.fillOpacity = 0.15;\n",
       "                    range.label.disabled = true;\n",
       "\n",
       "                    if((index+1) != params['range_divider'].length){\n",
       "                        start_val = data[index+1]['x'];\n",
       "                        colorIndex++;\n",
       "                    }\n",
       "\n",
       "                }\n",
       "            }\n",
       "        }\n",
       "\n",
       "\n",
       "        if(params['y_title']){\n",
       "            yAxis.title.text = params['y_title'];\n",
       "        }\n",
       "\n",
       "        if(params['x_title']){\n",
       "            xAxis.title.text = params['x_title'];\n",
       "        }\n",
       "\n",
       "        if(params['is_category'] && params['x_names_map']) {\n",
       "            xAxis.renderer.labels.template.adapter.add(\"textOutput\", function (text) {\n",
       "                var new_text = params['x_names_map'][text];\n",
       "                return new_text;\n",
       "            });\n",
       "        }\n",
       "\n",
       "        if(params['visible_labels']) {\n",
       "            xAxis.renderer.labels.template.adapter.add(\"textOutput\", function (text) {\n",
       "                if(!params['visible_labels'].includes(text)){\n",
       "                    text = \"\";\n",
       "                }\n",
       "                return text;\n",
       "            });\n",
       "        }\n",
       "\n",
       "        //chart.scrollbarX = new am4core.Scrollbar();\n",
       "        //chart.scrollbarX.hideGrips = true;\n",
       "        chart.swipeable = true;\n",
       "\n",
       "\n",
       "    }\n",
       "\n",
       "}function lineDateCallback(params,canvasID){\n",
       "\n",
       "\treturn function(am4core,am4charts,am4themes_animated){\n",
       "\t\n",
       "\t\tvar data   = params['data'];\n",
       "\t\tvar series = params['series'];\n",
       "\t\t\n",
       "\t\t\n",
       "\t\tam4core.useTheme(am4themes_animated);\n",
       "\n",
       "\t\t// Create chart instance\n",
       "\t\tvar chart = am4core.create(canvasID, am4charts.XYChart);\n",
       "\t\tchart.colors.step = 5;\n",
       "\n",
       "\t\t// Add data\n",
       "\t\tchart.data = data\n",
       "\n",
       "\t\t// Create axes\n",
       "\t\tvar dateAxis = chart.xAxes.push(new am4charts.DateAxis());\n",
       "\t\tdateAxis.renderer.grid.template.location = 0;\n",
       "\n",
       "\t\tvar valueAxis = chart.yAxes.push(new am4charts.ValueAxis());\n",
       "\n",
       "\t\tchart.scrollbarX = new am4core.Scrollbar();\n",
       "\t\tchart.cursor = new am4charts.XYCursor();\n",
       "\n",
       "\t\t// Create series\n",
       "\t\tfunction createSeries(field, name) {\n",
       "\t\t\tvar series = chart.series.push(new am4charts.LineSeries());\n",
       "\t\t\tseries.dataFields.valueY = field;\n",
       "\t\t\tseries.dataFields.dateX = \"x\";\n",
       "\t\t\tseries.name = name;\n",
       "\t\t\tseries.tooltipText = \"{dateX}: [b]{valueY}[/]\";\n",
       "\t\t\tseries.strokeWidth = 2;\n",
       "\n",
       "\t\t\tvar bullet = series.bullets.push(new am4charts.CircleBullet());\n",
       "\t\t\tbullet.circle.stroke = am4core.color(\"#fff\");\n",
       "\t\t\tbullet.circle.strokeWidth = 2;\n",
       "\n",
       "\t\t\t// Add scrollbar\n",
       "\t\t\t//chart.scrollbarX.series.push(series);\n",
       "\n",
       "\t\t\t// Add cursor\n",
       "\t\t\tchart.cursor.xAxis = dateAxis;\n",
       "\t\t\tchart.cursor.snapToSeries = series;\n",
       "\n",
       "\t\t\treturn series;\n",
       "\t\t}\n",
       "\n",
       "\t\tseries.forEach(element => createSeries(element, element));\n",
       "\n",
       "\t\tchart.legend = new am4charts.Legend();\n",
       "\t\tchart.cursor = new am4charts.XYCursor();\n",
       "\t}\n",
       "\n",
       "}function pieCallback(params,canvasID) {\n",
       "\treturn function(am4core, am4charts, am4themes_animated) {\n",
       "\t\tvar data = params['data'];\n",
       "\t\t\n",
       "\t\tam4core.useTheme(am4themes_animated);\n",
       "\n",
       "\t\t // Create chart instance\n",
       "\t\tvar chart = am4core.create(canvasID, am4charts.PieChart);\n",
       "\n",
       "\t\t// Add data\n",
       "\t\tchart.data = data;\n",
       "\n",
       "\t\t// Add and configure Series\n",
       "\t\tvar pieSeries = chart.series.push(new am4charts.PieSeries());\n",
       "\t\tpieSeries.dataFields.value = \"y\";\n",
       "\t\tpieSeries.dataFields.category = \"x\";\n",
       "\n",
       "\t\t// Add export\n",
       "\t\tchart.exporting.menu = new am4core.ExportMenu();\n",
       "\t\t\n",
       "\t\t\n",
       "\t};\n",
       "}</script>"
      ],
      "text/plain": [
       "<IPython.core.display.HTML object>"
      ]
     },
     "metadata": {},
     "output_type": "display_data"
    },
    {
     "data": {
      "application/javascript": [
       "element.append('<div id=\"chartdiv_6bdc4bd8-a40f-11ea-b387-c0335ee590ee\" style=\"height: 450px;\"></div>');"
      ],
      "text/plain": [
       "<IPython.core.display.Javascript object>"
      ]
     },
     "metadata": {},
     "output_type": "display_data"
    },
    {
     "data": {
      "application/javascript": [
       "$('#chartdiv_6bdc4bd8-a40f-11ea-b387-c0335ee590ee').parent(\"div\").css(\"width\",\"100%\").css(\"overflow-y\",\"hidden\");"
      ],
      "text/plain": [
       "<IPython.core.display.Javascript object>"
      ]
     },
     "metadata": {},
     "output_type": "display_data"
    },
    {
     "data": {
      "application/javascript": [
       "var params = {};params['y_title'] = \"number of activities\";params['x_title'] = \"month\";params['is_category'] = 1;params['hues'] = [1, 2, 3];params['data'] = [{'x': '01_1', 'year 1 - n_recipes': 947.0}, {'x': '02_1', 'year 1 - n_recipes': 728.0}, {'x': '03_1', 'year 1 - n_recipes': 873.0}, {'x': '04_1', 'year 1 - n_recipes': 648.0}, {'x': '05_1', 'year 1 - n_recipes': 840.0}, {'x': '06_1', 'year 1 - n_recipes': 384.0}, {'x': '07_1', 'year 1 - n_recipes': 171.0}, {'x': '08_1', 'year 1 - n_recipes': 275.0}, {'x': '09_1', 'year 1 - n_recipes': 71.0}, {'x': '10_1', 'year 1 - n_recipes': 434.0}, {'x': '11_1', 'year 1 - n_recipes': 854.0}, {'x': '12_1', 'year 1 - n_recipes': 764.0}, {'x': '01_1', 'year 1 - n_experiences': 312.0}, {'x': '02_1', 'year 1 - n_experiences': 411.0}, {'x': '03_1', 'year 1 - n_experiences': 355.0}, {'x': '04_1', 'year 1 - n_experiences': 426.0}, {'x': '05_1', 'year 1 - n_experiences': 589.0}, {'x': '06_1', 'year 1 - n_experiences': 618.0}, {'x': '07_1', 'year 1 - n_experiences': 222.0}, {'x': '08_1', 'year 1 - n_experiences': 247.0}, {'x': '09_1', 'year 1 - n_experiences': 29.0}, {'x': '10_1', 'year 1 - n_experiences': 146.0}, {'x': '11_1', 'year 1 - n_experiences': 265.0}, {'x': '12_1', 'year 1 - n_experiences': 236.0}, {'x': '01_2', 'year 2 - n_recipes': 367.0}, {'x': '02_2', 'year 2 - n_recipes': 334.0}, {'x': '03_2', 'year 2 - n_recipes': 541.0}, {'x': '04_2', 'year 2 - n_recipes': 503.0}, {'x': '05_2', 'year 2 - n_recipes': 567.0}, {'x': '06_2', 'year 2 - n_recipes': 348.0}, {'x': '07_2', 'year 2 - n_recipes': 65.0}, {'x': '08_2', 'year 2 - n_recipes': 179.0}, {'x': '09_2', 'year 2 - n_recipes': 328.0}, {'x': '10_2', 'year 2 - n_recipes': 474.0}, {'x': '11_2', 'year 2 - n_recipes': 527.0}, {'x': '12_2', 'year 2 - n_recipes': 345.0}, {'x': '01_2', 'year 2 - n_experiences': 726.0}, {'x': '02_2', 'year 2 - n_experiences': 900.0}, {'x': '03_2', 'year 2 - n_experiences': 952.0}, {'x': '04_2', 'year 2 - n_experiences': 597.0}, {'x': '05_2', 'year 2 - n_experiences': 420.0}, {'x': '06_2', 'year 2 - n_experiences': 921.0}, {'x': '07_2', 'year 2 - n_experiences': 103.0}, {'x': '08_2', 'year 2 - n_experiences': 487.0}, {'x': '09_2', 'year 2 - n_experiences': 359.0}, {'x': '10_2', 'year 2 - n_experiences': 791.0}, {'x': '11_2', 'year 2 - n_experiences': 686.0}, {'x': '12_2', 'year 2 - n_experiences': 598.0}, {'x': '01_3', 'year 3 - n_recipes': 328.0}, {'x': '02_3', 'year 3 - n_recipes': 127.0}, {'x': '03_3', 'year 3 - n_recipes': 205.0}, {'x': '04_3', 'year 3 - n_recipes': 152.0}, {'x': '05_3', 'year 3 - n_recipes': 757.0}, {'x': '06_3', 'year 3 - n_recipes': 548.0}, {'x': '07_3', 'year 3 - n_recipes': 0.0}, {'x': '08_3', 'year 3 - n_recipes': 42.0}, {'x': '09_3', 'year 3 - n_recipes': 268.0}, {'x': '10_3', 'year 3 - n_recipes': 382.0}, {'x': '11_3', 'year 3 - n_recipes': 552.0}, {'x': '12_3', 'year 3 - n_recipes': 221.0}, {'x': '01_3', 'year 3 - n_experiences': 477.0}, {'x': '02_3', 'year 3 - n_experiences': 601.0}, {'x': '03_3', 'year 3 - n_experiences': 387.0}, {'x': '04_3', 'year 3 - n_experiences': 458.0}, {'x': '05_3', 'year 3 - n_experiences': 878.0}, {'x': '06_3', 'year 3 - n_experiences': 2335.0}, {'x': '07_3', 'year 3 - n_experiences': 0.0}, {'x': '08_3', 'year 3 - n_experiences': 0.0}, {'x': '09_3', 'year 3 - n_experiences': 168.0}, {'x': '10_3', 'year 3 - n_experiences': 385.0}, {'x': '11_3', 'year 3 - n_experiences': 457.0}, {'x': '12_3', 'year 3 - n_experiences': 283.0}];params['x_vals'] = ['01_1', '02_1', '03_1', '04_1', '05_1', '06_1', '07_1', '08_1', '09_1', '10_1', '11_1', '12_1', '01_1', '02_1', '03_1', '04_1', '05_1', '06_1', '07_1', '08_1', '09_1', '10_1', '11_1', '12_1', '01_2', '02_2', '03_2', '04_2', '05_2', '06_2', '07_2', '08_2', '09_2', '10_2', '11_2', '12_2', '01_2', '02_2', '03_2', '04_2', '05_2', '06_2', '07_2', '08_2', '09_2', '10_2', '11_2', '12_2', '01_3', '02_3', '03_3', '04_3', '05_3', '06_3', '07_3', '08_3', '09_3', '10_3', '11_3', '12_3', '01_3', '02_3', '03_3', '04_3', '05_3', '06_3', '07_3', '08_3', '09_3', '10_3', '11_3', '12_3'];params['stacks'] = 2;params['series'] = {'year 1 - n_recipes': 0, 'year 1 - n_experiences': 1, 'year 2 - n_recipes': 0, 'year 2 - n_experiences': 1, 'year 3 - n_recipes': 0, 'year 3 - n_experiences': 1};params['range_divider'] = [0, 0, 0, 0, 0, 0, 0, 0, 0, 0, 0, 0, 1, 0, 0, 0, 0, 0, 0, 0, 0, 0, 0, 0, 1, 0, 0, 0, 0, 0, 0, 0, 0, 0, 0, 0];params['x_names_map'] = {'01_1': '1', '02_1': '2', '03_1': '3', '04_1': '4', '05_1': '5', '06_1': '6', '07_1': '7', '08_1': '8', '09_1': '9', '10_1': '10', '11_1': '11', '12_1': '12', '01_2': '1', '02_2': '2', '03_2': '3', '04_2': '4', '05_2': '5', '06_2': '6', '07_2': '7', '08_2': '8', '09_2': '9', '10_2': '10', '11_2': '11', '12_2': '12', '01_3': '1', '02_3': '2', '03_3': '3', '04_3': '4', '05_3': '5', '06_3': '6', '07_3': '7', '08_3': '8', '09_3': '9', '10_3': '10', '11_3': '11', '12_3': '12'};params['visible_labels'] = ['10'];params['legend'] = false;\n",
       "        require(['amchart_core', 'amchart_charts', 'amcharts4/themes/animated', 'amcharts4/themes/frozen'], lineCallback(params,\"chartdiv_6bdc4bd8-a40f-11ea-b387-c0335ee590ee\") , function (err) {\n",
       "            console.log(err);\n",
       "        });\n",
       "        "
      ],
      "text/plain": [
       "<IPython.core.display.Javascript object>"
      ]
     },
     "metadata": {},
     "output_type": "display_data"
    }
   ],
   "source": [
    "am = Amchart()\n",
    "\n",
    "column = am.LineChart()\n",
    "column.set_y_label(\"number of activities\")\n",
    "column.set_x_label(\"month\")\n",
    "column.setHeight(450)\n",
    "column.fromDataFrame(df, [\"month\",\"activity_school_year\"], [\"n_recipes\",\"n_experiences\"], \n",
    "                     sorter=['activity_school_year','month'],\n",
    "                     hue='activity_school_year', hue_prefix=\"year \",\n",
    "                     range_divider='activity_school_year', x_axis_names = \"month\",\n",
    "                     visible_labels = [\"10\"],\n",
    "                     show_legend = False, \n",
    "                    )\n",
    "column.is_category()\n",
    "column.plot()"
   ]
  },
  {
   "cell_type": "code",
   "execution_count": null,
   "metadata": {},
   "outputs": [],
   "source": [
    "#7\n",
    "\n",
    "am = Amchart()\n",
    "\n",
    "column = am.ColumnChart()\n",
    "column.setTitle(\"Activity total length per month\")\n",
    "column.fromDataFrame(df, \"month\", \n",
    "                     ['avg_len_descriptions','avg_len_steps','avg_len_observations'], \n",
    "                     hue=\"activity_school_year\", hue_prefix=\"year \")\n",
    "column.plot()"
   ]
  },
  {
   "cell_type": "code",
   "execution_count": null,
   "metadata": {},
   "outputs": [],
   "source": []
  },
  {
   "cell_type": "code",
   "execution_count": null,
   "metadata": {},
   "outputs": [],
   "source": [
    "#10\n",
    "am = Amchart()\n",
    "\n",
    "column = am.ColumnChart()\n",
    "column.setTitle(\"Activity total length per month\")\n",
    "column.fromDataFrame(df, \"month\", \n",
    "                     ['avg_len_descriptions','avg_len_steps'], \n",
    "                     hue=\"activity_school_year\", hue_prefix=\"year \")\n",
    "column.plot()"
   ]
  },
  {
   "cell_type": "code",
   "execution_count": null,
   "metadata": {},
   "outputs": [],
   "source": []
  },
  {
   "cell_type": "code",
   "execution_count": null,
   "metadata": {},
   "outputs": [],
   "source": [
    "#5\n",
    "\n",
    "am = Amchart()\n",
    "\n",
    "column = am.ColumnChart()\n",
    "column.setTitle(\"Total length of average reflections per month\")\n",
    "column.fromDataFrame(df, \"month\", \n",
    "                     ['avg_len_bilancio','avg_len_competenze','avg_len_miglioramenti','avg_len_critici'], \n",
    "                     hue=\"activity_school_year\", hue_prefix=\"year \")\n",
    "column.plot()"
   ]
  },
  {
   "cell_type": "code",
   "execution_count": null,
   "metadata": {},
   "outputs": [],
   "source": []
  },
  {
   "cell_type": "code",
   "execution_count": null,
   "metadata": {},
   "outputs": [],
   "source": []
  },
  {
   "cell_type": "code",
   "execution_count": null,
   "metadata": {},
   "outputs": [],
   "source": [
    "def prova(a,b,**args):\n",
    "    print(a)\n",
    "    print(b)\n",
    "    print(args)\n",
    "    print(args.get('cissdao','nessun_valora'))\n",
    "    \n",
    "prova(a='a',b='b',ciao='provazza',stocazzo='stocazzo',staminchia=0)"
   ]
  },
  {
   "cell_type": "code",
   "execution_count": null,
   "metadata": {},
   "outputs": [],
   "source": [
    "a = {}\n",
    "a['rova'] = 'azz'\n",
    "if a.get('rovs'):\n",
    "    print('yep')\n",
    "else:\n",
    "    print('note')"
   ]
  },
  {
   "cell_type": "code",
   "execution_count": null,
   "metadata": {},
   "outputs": [],
   "source": []
  },
  {
   "cell_type": "code",
   "execution_count": null,
   "metadata": {},
   "outputs": [],
   "source": []
  },
  {
   "cell_type": "code",
   "execution_count": null,
   "metadata": {},
   "outputs": [],
   "source": [
    "columnData = [{\n",
    "        \"x\": \"Lithuania\",\n",
    "        \"y\": 501.9\n",
    "    }, {\n",
    "        \"x\": \"Czech Republic\",\n",
    "        \"y\": 301.9\n",
    "    }, {\n",
    "        \"x\": \"Ireland\",\n",
    "        \"y\": 201.1\n",
    "    }, {\n",
    "        \"x\": \"Germany\",\n",
    "        \"y\": 165.8\n",
    "    }, {\n",
    "        \"x\": \"Australia\",\n",
    "        \"y\": 139.9\n",
    "    }, {\n",
    "        \"x\": \"Austria\",\n",
    "        \"y\": 128.3\n",
    "    }, {\n",
    "        \"x\": \"UK\",\n",
    "        \"y\": 99\n",
    "    }, {\n",
    "        \"x\": \"Belgium\",\n",
    "        \"y\": 800\n",
    "    }, {\n",
    "        \"x\": \"The Netherlands\",\n",
    "        \"y\": 50\n",
    "    }]"
   ]
  },
  {
   "cell_type": "code",
   "execution_count": null,
   "metadata": {
    "scrolled": false
   },
   "outputs": [],
   "source": [
    "pie = am.PieSeries()\n",
    "pie.setData(df.month_name, df.n_logins)\n",
    "pie.plot()"
   ]
  },
  {
   "cell_type": "code",
   "execution_count": null,
   "metadata": {},
   "outputs": [],
   "source": []
  },
  {
   "cell_type": "code",
   "execution_count": null,
   "metadata": {},
   "outputs": [],
   "source": []
  },
  {
   "cell_type": "code",
   "execution_count": null,
   "metadata": {},
   "outputs": [],
   "source": []
  },
  {
   "cell_type": "code",
   "execution_count": null,
   "metadata": {},
   "outputs": [],
   "source": []
  },
  {
   "cell_type": "code",
   "execution_count": null,
   "metadata": {},
   "outputs": [],
   "source": []
  },
  {
   "cell_type": "code",
   "execution_count": null,
   "metadata": {},
   "outputs": [],
   "source": []
  },
  {
   "cell_type": "code",
   "execution_count": null,
   "metadata": {},
   "outputs": [],
   "source": []
  },
  {
   "cell_type": "code",
   "execution_count": null,
   "metadata": {},
   "outputs": [],
   "source": []
  },
  {
   "cell_type": "code",
   "execution_count": null,
   "metadata": {},
   "outputs": [],
   "source": []
  },
  {
   "cell_type": "code",
   "execution_count": null,
   "metadata": {},
   "outputs": [],
   "source": []
  },
  {
   "cell_type": "code",
   "execution_count": null,
   "metadata": {},
   "outputs": [],
   "source": []
  },
  {
   "cell_type": "code",
   "execution_count": null,
   "metadata": {},
   "outputs": [],
   "source": [
    "minchia = False\n",
    "ciao = 1 if minchia else 0\n",
    "print(ciao)"
   ]
  },
  {
   "cell_type": "code",
   "execution_count": null,
   "metadata": {},
   "outputs": [],
   "source": [
    "df[['month','n_recipes']].astype(str).set_index('month').to_dict()['n_recipes']"
   ]
  },
  {
   "cell_type": "code",
   "execution_count": null,
   "metadata": {},
   "outputs": [],
   "source": [
    "getattr(df.groupby('A', axis=0, as_index=False), 'sum')()"
   ]
  },
  {
   "cell_type": "code",
   "execution_count": null,
   "metadata": {},
   "outputs": [],
   "source": []
  }
 ],
 "metadata": {
  "kernelspec": {
   "display_name": "EPFL dualt",
   "language": "python",
   "name": "dualt"
  }
 },
 "nbformat": 4,
 "nbformat_minor": 4
}
