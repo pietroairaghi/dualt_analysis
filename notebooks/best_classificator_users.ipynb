{
 "cells": [
  {
   "cell_type": "code",
   "execution_count": 34,
   "metadata": {},
   "outputs": [],
   "source": [
    "import numpy as np\n",
    "import pandas as pd\n",
    "import matplotlib.pyplot as plt\n",
    "%matplotlib inline\n",
    "import seaborn as sns\n",
    "import plotly.express as px\n",
    "\n",
    "import time\n",
    "\n",
    "from collections import Counter\n",
    "from sklearn.model_selection import train_test_split\n",
    "from sklearn.feature_extraction.text import TfidfVectorizer, CountVectorizer\n",
    "from sklearn.naive_bayes import MultinomialNB\n",
    "from sklearn.naive_bayes import GaussianNB\n",
    "from sklearn.naive_bayes import BernoulliNB\n",
    "from sklearn.svm import SVC\n",
    "from sklearn.neural_network import MLPClassifier\n",
    "from sklearn.ensemble import AdaBoostClassifier\n",
    "from sklearn.tree import DecisionTreeClassifier\n",
    "from sklearn.ensemble import RandomForestClassifier\n",
    "from sklearn.ensemble import GradientBoostingClassifier\n",
    "from sklearn.linear_model import LogisticRegression\n",
    "from sklearn.model_selection import GridSearchCV\n",
    "from sklearn.metrics import f1_score, confusion_matrix, accuracy_score\n",
    "from sklearn.impute import SimpleImputer\n",
    "from sklearn.preprocessing import MinMaxScaler\n",
    "from sklearn.decomposition import PCA\n",
    "\n",
    "from pprint import pprint"
   ]
  },
  {
   "cell_type": "code",
   "execution_count": 2,
   "metadata": {},
   "outputs": [],
   "source": [
    "pd.options.display.max_columns = None\n",
    "pd.options.display.max_rows    = None"
   ]
  },
  {
   "cell_type": "code",
   "execution_count": 3,
   "metadata": {},
   "outputs": [],
   "source": [
    "data_folder = \"../data/\"\n",
    "\n",
    "#plotly style:\n",
    "line_traces = dict(mode='lines+markers',line_shape='spline',line_smoothing=1,marker_size=10,marker_opacity=0.9)"
   ]
  },
  {
   "cell_type": "markdown",
   "metadata": {},
   "source": [
    "# Data loading and cleaning"
   ]
  },
  {
   "cell_type": "code",
   "execution_count": 20,
   "metadata": {},
   "outputs": [],
   "source": [
    "students = pd.read_csv(f\"{data_folder}students.csv\",sep=\"\\t\")"
   ]
  },
  {
   "cell_type": "code",
   "execution_count": 54,
   "metadata": {},
   "outputs": [
    {
     "name": "stdout",
     "output_type": "stream",
     "text": [
      "There are 133/543 students without estimate grade (24.49%)\n"
     ]
    }
   ],
   "source": [
    "students_wo_grades = students[students[['E_grade']].isnull().any(axis=1)]\n",
    "with_null = len(students_wo_grades)\n",
    "print(f'There are {with_null}/{len(students)} students without estimate grade ({round(with_null/len(students)*100,2)}%)')\n",
    "\n",
    "students.drop(students_wo_grades.index, axis=0, inplace=True)"
   ]
  },
  {
   "cell_type": "code",
   "execution_count": 55,
   "metadata": {},
   "outputs": [],
   "source": [
    "exclude_cols = ['us_user','user_name','user_email','start_year','start_semester','archived','user_type','contract_type','HGF','convocatore','teacher','supervisor','ispettore','statista','student','classes','companies','avg_specific_evaluations','avg_supervisor_evaluation','n_received_feedback_requests','n_feedback_responses']\n",
    "exclude_cols += ['grade_1st','grade_2nd','grade_3rd','E_grade','E_result','final_CP','final_LP','final_IP','final_grade']\n",
    "exclude_cols += ['n_activities_school_year_1','n_activities_school_year_2','n_activities_school_year_3']\n",
    "exclude_cols += ['n_in_curriculum_semester1','n_in_curriculum_semester2','n_in_curriculum_semester3','n_in_curriculum_semester4','n_in_curriculum_semester5']\n",
    "features = list(set(students.columns) - set(exclude_cols))"
   ]
  },
  {
   "cell_type": "code",
   "execution_count": 56,
   "metadata": {},
   "outputs": [
    {
     "data": {
      "text/html": [
       "<div>\n",
       "<style scoped>\n",
       "    .dataframe tbody tr th:only-of-type {\n",
       "        vertical-align: middle;\n",
       "    }\n",
       "\n",
       "    .dataframe tbody tr th {\n",
       "        vertical-align: top;\n",
       "    }\n",
       "\n",
       "    .dataframe thead th {\n",
       "        text-align: right;\n",
       "    }\n",
       "</style>\n",
       "<table border=\"1\" class=\"dataframe\">\n",
       "  <thead>\n",
       "    <tr style=\"text-align: right;\">\n",
       "      <th></th>\n",
       "      <th>n_recipes</th>\n",
       "      <th>n_experiences</th>\n",
       "      <th>n_received_feedback_responses</th>\n",
       "      <th>n_reflections</th>\n",
       "      <th>n_experiences_in_curriculum</th>\n",
       "      <th>avg_reflection_length</th>\n",
       "      <th>n_activities</th>\n",
       "      <th>n_recipe_reflections</th>\n",
       "      <th>avg_activity_evaluations</th>\n",
       "      <th>n_files</th>\n",
       "      <th>n_folders</th>\n",
       "      <th>n_feedback_requests</th>\n",
       "      <th>n_experience_reflections</th>\n",
       "      <th>n_in_curriculum</th>\n",
       "      <th>n_recipes_in_curriculum</th>\n",
       "      <th>E_grade</th>\n",
       "    </tr>\n",
       "  </thead>\n",
       "  <tbody>\n",
       "    <tr>\n",
       "      <th>0</th>\n",
       "      <td>14.0</td>\n",
       "      <td>15.0</td>\n",
       "      <td>0.0</td>\n",
       "      <td>0.0</td>\n",
       "      <td>14.0</td>\n",
       "      <td>NaN</td>\n",
       "      <td>29.0</td>\n",
       "      <td>0.0</td>\n",
       "      <td>NaN</td>\n",
       "      <td>14.0</td>\n",
       "      <td>0.0</td>\n",
       "      <td>0.0</td>\n",
       "      <td>0.0</td>\n",
       "      <td>18.0</td>\n",
       "      <td>4.0</td>\n",
       "      <td>4.000000</td>\n",
       "    </tr>\n",
       "    <tr>\n",
       "      <th>1</th>\n",
       "      <td>66.0</td>\n",
       "      <td>58.0</td>\n",
       "      <td>1.0</td>\n",
       "      <td>67.0</td>\n",
       "      <td>57.0</td>\n",
       "      <td>35.0</td>\n",
       "      <td>124.0</td>\n",
       "      <td>13.0</td>\n",
       "      <td>4.600000</td>\n",
       "      <td>54.0</td>\n",
       "      <td>0.0</td>\n",
       "      <td>0.0</td>\n",
       "      <td>54.0</td>\n",
       "      <td>82.0</td>\n",
       "      <td>25.0</td>\n",
       "      <td>5.328571</td>\n",
       "    </tr>\n",
       "    <tr>\n",
       "      <th>2</th>\n",
       "      <td>40.0</td>\n",
       "      <td>69.0</td>\n",
       "      <td>8.0</td>\n",
       "      <td>31.0</td>\n",
       "      <td>49.0</td>\n",
       "      <td>27.0</td>\n",
       "      <td>109.0</td>\n",
       "      <td>21.0</td>\n",
       "      <td>4.603448</td>\n",
       "      <td>61.0</td>\n",
       "      <td>0.0</td>\n",
       "      <td>22.0</td>\n",
       "      <td>10.0</td>\n",
       "      <td>63.0</td>\n",
       "      <td>14.0</td>\n",
       "      <td>4.942857</td>\n",
       "    </tr>\n",
       "    <tr>\n",
       "      <th>3</th>\n",
       "      <td>63.0</td>\n",
       "      <td>56.0</td>\n",
       "      <td>0.0</td>\n",
       "      <td>60.0</td>\n",
       "      <td>55.0</td>\n",
       "      <td>41.0</td>\n",
       "      <td>119.0</td>\n",
       "      <td>20.0</td>\n",
       "      <td>5.059322</td>\n",
       "      <td>280.0</td>\n",
       "      <td>0.0</td>\n",
       "      <td>57.0</td>\n",
       "      <td>40.0</td>\n",
       "      <td>74.0</td>\n",
       "      <td>19.0</td>\n",
       "      <td>5.157143</td>\n",
       "    </tr>\n",
       "    <tr>\n",
       "      <th>4</th>\n",
       "      <td>39.0</td>\n",
       "      <td>58.0</td>\n",
       "      <td>0.0</td>\n",
       "      <td>65.0</td>\n",
       "      <td>57.0</td>\n",
       "      <td>6.0</td>\n",
       "      <td>96.0</td>\n",
       "      <td>9.0</td>\n",
       "      <td>4.929688</td>\n",
       "      <td>125.0</td>\n",
       "      <td>0.0</td>\n",
       "      <td>66.0</td>\n",
       "      <td>56.0</td>\n",
       "      <td>68.0</td>\n",
       "      <td>11.0</td>\n",
       "      <td>4.971429</td>\n",
       "    </tr>\n",
       "  </tbody>\n",
       "</table>\n",
       "</div>"
      ],
      "text/plain": [
       "   n_recipes  n_experiences  n_received_feedback_responses  n_reflections  \\\n",
       "0       14.0           15.0                            0.0            0.0   \n",
       "1       66.0           58.0                            1.0           67.0   \n",
       "2       40.0           69.0                            8.0           31.0   \n",
       "3       63.0           56.0                            0.0           60.0   \n",
       "4       39.0           58.0                            0.0           65.0   \n",
       "\n",
       "   n_experiences_in_curriculum  avg_reflection_length  n_activities  \\\n",
       "0                         14.0                    NaN          29.0   \n",
       "1                         57.0                   35.0         124.0   \n",
       "2                         49.0                   27.0         109.0   \n",
       "3                         55.0                   41.0         119.0   \n",
       "4                         57.0                    6.0          96.0   \n",
       "\n",
       "   n_recipe_reflections  avg_activity_evaluations  n_files  n_folders  \\\n",
       "0                   0.0                       NaN     14.0        0.0   \n",
       "1                  13.0                  4.600000     54.0        0.0   \n",
       "2                  21.0                  4.603448     61.0        0.0   \n",
       "3                  20.0                  5.059322    280.0        0.0   \n",
       "4                   9.0                  4.929688    125.0        0.0   \n",
       "\n",
       "   n_feedback_requests  n_experience_reflections  n_in_curriculum  \\\n",
       "0                  0.0                       0.0             18.0   \n",
       "1                  0.0                      54.0             82.0   \n",
       "2                 22.0                      10.0             63.0   \n",
       "3                 57.0                      40.0             74.0   \n",
       "4                 66.0                      56.0             68.0   \n",
       "\n",
       "   n_recipes_in_curriculum   E_grade  \n",
       "0                      4.0  4.000000  \n",
       "1                     25.0  5.328571  \n",
       "2                     14.0  4.942857  \n",
       "3                     19.0  5.157143  \n",
       "4                     11.0  4.971429  "
      ]
     },
     "execution_count": 56,
     "metadata": {},
     "output_type": "execute_result"
    }
   ],
   "source": [
    "students[features+['E_grade']].head()"
   ]
  },
  {
   "cell_type": "code",
   "execution_count": 57,
   "metadata": {},
   "outputs": [
    {
     "data": {
      "image/png": "[encoded data removed]",
      "text/plain": [
       "<Figure size 1296x720 with 1 Axes>"
      ]
     },
     "metadata": {
      "needs_background": "light"
     },
     "output_type": "display_data"
    }
   ],
   "source": [
    "fig = students[features].boxplot(figsize=(18,10),grid=True, rot=90, fontsize=15)"
   ]
  },
  {
   "cell_type": "markdown",
   "metadata": {},
   "source": [
    "------------\n",
    "# Explore classification algorithms"
   ]
  },
  {
   "cell_type": "code",
   "execution_count": 31,
   "metadata": {},
   "outputs": [],
   "source": [
    "clfs = {\n",
    "    'mnb': MultinomialNB(),\n",
    "    'gnb': GaussianNB(),\n",
    "    'svm1': SVC(kernel='linear'),\n",
    "    'svm2': SVC(kernel='rbf'),\n",
    "    'svm3': SVC(kernel='sigmoid'),\n",
    "    #'mlp1': MLPClassifier(),\n",
    "    #'mlp2': MLPClassifier(hidden_layer_sizes=[100, 100]),\n",
    "    'ada': AdaBoostClassifier(),\n",
    "    'dtc': DecisionTreeClassifier(),\n",
    "    'rfc': RandomForestClassifier(),\n",
    "    'gbc': GradientBoostingClassifier(),\n",
    "    'lr': LogisticRegression()\n",
    "}"
   ]
  },
  {
   "cell_type": "markdown",
   "metadata": {},
   "source": [
    "### Without PCA"
   ]
  },
  {
   "cell_type": "code",
   "execution_count": 35,
   "metadata": {},
   "outputs": [
    {
     "name": "stdout",
     "output_type": "stream",
     "text": [
      "processing percentile 5%. OK!\n",
      "processing percentile 10%. OK!\n",
      "processing percentile 15%. OK!\n",
      "processing percentile 20%. OK!\n",
      "processing percentile 25%. OK!\n",
      "processing percentile 30%. OK!\n",
      "processing percentile 35%. OK!\n",
      "processing percentile 40%. OK!\n",
      "processing percentile 45%. OK!\n",
      "processing percentile 50%. OK!\n",
      "processing percentile 55%. OK!\n",
      "processing percentile 60%. OK!\n",
      "processing percentile 65%. OK!\n",
      "processing percentile 70%. OK!\n",
      "processing percentile 75%. OK!\n",
      "processing percentile 80%. OK!\n",
      "processing percentile 85%. OK!\n",
      "processing percentile 90%. OK!\n",
      "processing percentile 95%. OK!\n"
     ]
    }
   ],
   "source": [
    "scores_per_quatile = dict()\n",
    "accuracies_per_quatile = dict()\n",
    "times_per_quatile = dict()\n",
    "\n",
    "n = 2\n",
    "\n",
    "for perc in range(5,100,5):\n",
    "    print(f'processing percentile {perc}%',end=\". \")\n",
    "    scores_per_quatile[perc] = dict()\n",
    "    accuracies_per_quatile[perc] = dict()\n",
    "    times_per_quatile[perc] = dict()\n",
    "    \n",
    "    q_flex = students['E_grade'].quantile(perc/100)\n",
    "    students['E_result'] = np.where(students['E_grade']<q_flex, 0, 1)\n",
    "    \n",
    "    \n",
    "    X = students[features]\n",
    "    y = students['E_result']\n",
    "    \n",
    "    for clf_name in clfs:\n",
    "        \n",
    "        clf = clfs[clf_name]\n",
    "        f1_scores = np.zeros(n)\n",
    "        accuracy_scores = np.zeros(n)\n",
    "        times = np.zeros(n)\n",
    "        \n",
    "        start = time.clock()\n",
    "        \n",
    "        for i in range(0,n):\n",
    "            \n",
    "            X_train, X_test, y_train, y_test = train_test_split(X, y, test_size=0.3) # 70% training and 30% test\n",
    "            \n",
    "            # imputation\n",
    "            imp = SimpleImputer(strategy=\"mean\")\n",
    "            X_train = imp.fit_transform(X_train)\n",
    "            X_test  = imp.transform(X_test)\n",
    "\n",
    "            # normalization\n",
    "            scaler = MinMaxScaler()\n",
    "            X_train = scaler.fit_transform(X_train)\n",
    "            X_test  = scaler.transform(X_test)\n",
    "\n",
    "            clf.fit(X_train, y_train)\n",
    "            y_pred = clf.predict(X_test)\n",
    "            f1_scores[i] = f1_score(y_pred, y_test)\n",
    "            accuracy_scores[i] = accuracy_score(y_pred,y_test)\n",
    "            \n",
    "            end = time.clock()\n",
    "            times[i] = end - start\n",
    "        \n",
    "        scores_per_quatile[perc][clf_name] = f1_scores.mean()\n",
    "        accuracies_per_quatile[perc][clf_name] = accuracy_scores.mean()\n",
    "        times_per_quatile[perc][clf_name] = times.mean()\n",
    "        \n",
    "        \n",
    "    print(\"OK!\")"
   ]
  },
  {
   "cell_type": "code",
   "execution_count": 38,
   "metadata": {},
   "outputs": [],
   "source": [
    "scores_per_clf = dict()\n",
    "accuracies_per_clf = dict()\n",
    "times_per_clf = dict()\n",
    "for clf_name in clfs:\n",
    "    scores_per_clf[clf_name] = dict()\n",
    "    accuracies_per_clf[clf_name] = dict()\n",
    "    times_per_clf[clf_name] = dict()\n",
    "    for qt in scores_per_quatile:\n",
    "        scores_per_clf[clf_name][qt] = scores_per_quatile[qt][clf_name]\n",
    "        accuracies_per_clf[clf_name][qt] = accuracies_per_quatile[qt][clf_name]\n",
    "        times_per_clf[clf_name][qt] = times_per_quatile[qt][clf_name]"
   ]
  },
  {
   "cell_type": "code",
   "execution_count": 39,
   "metadata": {},
   "outputs": [
    {
     "data": {
      "application/vnd.plotly.v1+json": {
       "config": {
        "plotlyServerURL": "https://plot.ly"
       },
       "data": [
        {
         "hovertemplate": "variable=mnb<br>index=%{x}<br>value=%{y}<extra></extra>",
         "legendgroup": "mnb",
         "line": {
          "color": "#636efa",
          "dash": "solid",
          "shape": "spline",
          "smoothing": 1
         },
         "marker": {
          "opacity": 0.9,
          "size": 10
         },
         "mode": "lines+markers",
         "name": "mnb",
         "orientation": "v",
         "showlegend": true,
         "type": "scatter",
         "x": [
          5,
          10,
          15,
          20,
          25,
          30,
          35,
          40,
          45,
          50,
          55,
          60,
          65,
          70,
          75,
          80,
          85,
          90,
          95
         ],
         "xaxis": "x",
         "y": [
          0.9860006578820069,
          0.9567973294011634,
          0.9534267752241574,
          0.9258619940941464,
          0.879513376247564,
          0.8680555555555556,
          0.8816170413086972,
          0.8223526343244654,
          0.8058608058608058,
          0.7990637720488467,
          0.7485104571984437,
          0.6351172047766475,
          0.5741557712360632,
          0.23901511360224204,
          0.2036175710594315,
          0.23002070393374743,
          0.1384493670886076,
          0.08398268398268399,
          0.14833059660645867
         ],
         "yaxis": "y"
        },
        {
         "hovertemplate": "variable=gnb<br>index=%{x}<br>value=%{y}<extra></extra>",
         "legendgroup": "gnb",
         "line": {
          "color": "#EF553B",
          "dash": "solid",
          "shape": "spline",
          "smoothing": 1
         },
         "marker": {
          "opacity": 0.9,
          "size": 10
         },
         "mode": "lines+markers",
         "name": "gnb",
         "orientation": "v",
         "showlegend": true,
         "type": "scatter",
         "x": [
          5,
          10,
          15,
          20,
          25,
          30,
          35,
          40,
          45,
          50,
          55,
          60,
          65,
          70,
          75,
          80,
          85,
          90,
          95
         ],
         "xaxis": "x",
         "y": [
          0.7494397759103641,
          0.6340926078917346,
          0.6922535973168885,
          0.5839297804429828,
          0.6289481309765286,
          0.5826517434352132,
          0.5407495893683739,
          0.5163559227419895,
          0.48875011072725666,
          0.47142857142857136,
          0.4435117727800654,
          0.40249410178631617,
          0.40147058823529413,
          0.2413527314770209,
          0.2570212765957447,
          0.5152724748351267,
          0.5734813009173135,
          0.6215351812366736,
          0.5498682476943346
         ],
         "yaxis": "y"
        },
        {
         "hovertemplate": "variable=svm1<br>index=%{x}<br>value=%{y}<extra></extra>",
         "legendgroup": "svm1",
         "line": {
          "color": "#00cc96",
          "dash": "solid",
          "shape": "spline",
          "smoothing": 1
         },
         "marker": {
          "opacity": 0.9,
          "size": 10
         },
         "mode": "lines+markers",
         "name": "svm1",
         "orientation": "v",
         "showlegend": true,
         "type": "scatter",
         "x": [
          5,
          10,
          15,
          20,
          25,
          30,
          35,
          40,
          45,
          50,
          55,
          60,
          65,
          70,
          75,
          80,
          85,
          90,
          95
         ],
         "xaxis": "x",
         "y": [
          0.9764294164037854,
          0.9534267752241574,
          0.9616886607767758,
          0.92224043715847,
          0.8891868672796508,
          0.8829196737663556,
          0.8858016050765212,
          0.8439716312056738,
          0.8056043911800626,
          0.7406368856738013,
          0.7416969675881626,
          0.6571428571428573,
          0.6655058183980294,
          0.3777869529314616,
          0.62777826200645,
          0.298019801980198,
          0.3802083333333333,
          0.7051075268817204,
          0.6665230238857424
         ],
         "yaxis": "y"
        },
        {
         "hovertemplate": "variable=svm2<br>index=%{x}<br>value=%{y}<extra></extra>",
         "legendgroup": "svm2",
         "line": {
          "color": "#ab63fa",
          "dash": "solid",
          "shape": "spline",
          "smoothing": 1
         },
         "marker": {
          "opacity": 0.9,
          "size": 10
         },
         "mode": "lines+markers",
         "name": "svm2",
         "orientation": "v",
         "showlegend": true,
         "type": "scatter",
         "x": [
          5,
          10,
          15,
          20,
          25,
          30,
          35,
          40,
          45,
          50,
          55,
          60,
          65,
          70,
          75,
          80,
          85,
          90,
          95
         ],
         "xaxis": "x",
         "y": [
          0.9891448570274791,
          0.9601249465822836,
          0.9667168977295559,
          0.9311475409836066,
          0.8854668287437468,
          0.8738903207331044,
          0.89249953857512,
          0.8331796644896914,
          0.8079442750949248,
          0.7589662447257384,
          0.7265325670498084,
          0.6547044172215727,
          0.6596329202712181,
          0.6460384790183304,
          0.6374517374517374,
          0.6585775138763392,
          0.6533333333333333,
          0.663768115942029,
          0.672782874617737
         ],
         "yaxis": "y"
        },
        {
         "hovertemplate": "variable=svm3<br>index=%{x}<br>value=%{y}<extra></extra>",
         "legendgroup": "svm3",
         "line": {
          "color": "#FFA15A",
          "dash": "solid",
          "shape": "spline",
          "smoothing": 1
         },
         "marker": {
          "opacity": 0.9,
          "size": 10
         },
         "mode": "lines+markers",
         "name": "svm3",
         "orientation": "v",
         "showlegend": true,
         "type": "scatter",
         "x": [
          5,
          10,
          15,
          20,
          25,
          30,
          35,
          40,
          45,
          50,
          55,
          60,
          65,
          70,
          75,
          80,
          85,
          90,
          95
         ],
         "xaxis": "x",
         "y": [
          0.978016254410016,
          0.9633685189678881,
          0.9599979647908823,
          0.9019540702186916,
          0.8674243804111568,
          0.8447368421052631,
          0.8515882529217861,
          0.65802286579868,
          0.7485016718188127,
          0.6232629637220741,
          0.5577395577395577,
          0.6158647657445413,
          0.6180927041030668,
          0.4551392506511721,
          0.5122831367106176,
          0.4852240896358544,
          0.5128851540616246,
          0.4827500620501366,
          0.5516154452324664
         ],
         "yaxis": "y"
        },
        {
         "hovertemplate": "variable=ada<br>index=%{x}<br>value=%{y}<extra></extra>",
         "legendgroup": "ada",
         "line": {
          "color": "#19d3f3",
          "dash": "solid",
          "shape": "spline",
          "smoothing": 1
         },
         "marker": {
          "opacity": 0.9,
          "size": 10
         },
         "mode": "lines+markers",
         "name": "ada",
         "orientation": "v",
         "showlegend": true,
         "type": "scatter",
         "x": [
          5,
          10,
          15,
          20,
          25,
          30,
          35,
          40,
          45,
          50,
          55,
          60,
          65,
          70,
          75,
          80,
          85,
          90,
          95
         ],
         "xaxis": "x",
         "y": [
          0.9764294164037854,
          0.9616886607767758,
          0.9412988115449915,
          0.8910958742725195,
          0.8663172715894869,
          0.84994032994033,
          0.8150522012847357,
          0.7978160044302921,
          0.7702110389610389,
          0.7404802744425386,
          0.6762788914448461,
          0.6684067527551363,
          0.6692397660818712,
          0.6859114015976762,
          0.586277246859229,
          0.5841013824884792,
          0.5872258560984994,
          0.5590909090909091,
          0.6639720898570456
         ],
         "yaxis": "y"
        },
        {
         "hovertemplate": "variable=dtc<br>index=%{x}<br>value=%{y}<extra></extra>",
         "legendgroup": "dtc",
         "line": {
          "color": "#FF6692",
          "dash": "solid",
          "shape": "spline",
          "smoothing": 1
         },
         "marker": {
          "opacity": 0.9,
          "size": 10
         },
         "mode": "lines+markers",
         "name": "dtc",
         "orientation": "v",
         "showlegend": true,
         "type": "scatter",
         "x": [
          5,
          10,
          15,
          20,
          25,
          30,
          35,
          40,
          45,
          50,
          55,
          60,
          65,
          70,
          75,
          80,
          85,
          90,
          95
         ],
         "xaxis": "x",
         "y": [
          0.956389136704081,
          0.9132246557989132,
          0.9371450696954053,
          0.8721428571428572,
          0.7976228329169506,
          0.7917625623321825,
          0.7943247418489308,
          0.7345132743362832,
          0.7148846960167716,
          0.7059163059163058,
          0.6056446821152703,
          0.6349787512258908,
          0.6062541583499668,
          0.5482073532770039,
          0.537620297462817,
          0.5344352617079889,
          0.514918824045634,
          0.6039751091297483,
          0.5714424383614833
         ],
         "yaxis": "y"
        },
        {
         "hovertemplate": "variable=rfc<br>index=%{x}<br>value=%{y}<extra></extra>",
         "legendgroup": "rfc",
         "line": {
          "color": "#B6E880",
          "dash": "solid",
          "shape": "spline",
          "smoothing": 1
         },
         "marker": {
          "opacity": 0.9,
          "size": 10
         },
         "mode": "lines+markers",
         "name": "rfc",
         "orientation": "v",
         "showlegend": true,
         "type": "scatter",
         "x": [
          5,
          10,
          15,
          20,
          25,
          30,
          35,
          40,
          45,
          50,
          55,
          60,
          65,
          70,
          75,
          80,
          85,
          90,
          95
         ],
         "xaxis": "x",
         "y": [
          0.9796332216540293,
          0.963410442026934,
          0.9583707635769702,
          0.9111744635000449,
          0.8710253141504279,
          0.8447572499185403,
          0.8546415678184631,
          0.8299664088743066,
          0.7764287327761463,
          0.7622246328437917,
          0.69676960585128,
          0.7161343541360554,
          0.6898568259729785,
          0.664994425863991,
          0.5798319327731093,
          0.6215815608093086,
          0.6580047108882303,
          0.6478219778331471,
          0.5894321287579716
         ],
         "yaxis": "y"
        },
        {
         "hovertemplate": "variable=gbc<br>index=%{x}<br>value=%{y}<extra></extra>",
         "legendgroup": "gbc",
         "line": {
          "color": "#FF97FF",
          "dash": "solid",
          "shape": "spline",
          "smoothing": 1
         },
         "marker": {
          "opacity": 0.9,
          "size": 10
         },
         "mode": "lines+markers",
         "name": "gbc",
         "orientation": "v",
         "showlegend": true,
         "type": "scatter",
         "x": [
          5,
          10,
          15,
          20,
          25,
          30,
          35,
          40,
          45,
          50,
          55,
          60,
          65,
          70,
          75,
          80,
          85,
          90,
          95
         ],
         "xaxis": "x",
         "y": [
          0.9764495968139428,
          0.9665923157302468,
          0.958206195099399,
          0.9265300680030224,
          0.8791682002208318,
          0.8535894688504515,
          0.8425021468441392,
          0.8227286821705426,
          0.7786831812255541,
          0.7500505561172902,
          0.7406698564593301,
          0.6743456629894009,
          0.7021796916533759,
          0.5871794871794871,
          0.6396236856668511,
          0.5880661394680087,
          0.6586418351124235,
          0.6650090772752388,
          0.638217787114846
         ],
         "yaxis": "y"
        },
        {
         "hovertemplate": "variable=lr<br>index=%{x}<br>value=%{y}<extra></extra>",
         "legendgroup": "lr",
         "line": {
          "color": "#FECB52",
          "dash": "solid",
          "shape": "spline",
          "smoothing": 1
         },
         "marker": {
          "opacity": 0.9,
          "size": 10
         },
         "mode": "lines+markers",
         "name": "lr",
         "orientation": "v",
         "showlegend": true,
         "type": "scatter",
         "x": [
          5,
          10,
          15,
          20,
          25,
          30,
          35,
          40,
          45,
          50,
          55,
          60,
          65,
          70,
          75,
          80,
          85,
          90,
          95
         ],
         "xaxis": "x",
         "y": [
          0.9891254182531442,
          0.955117471210051,
          0.9699610661874813,
          0.9255120436133011,
          0.9114918950255301,
          0.8750059498310248,
          0.89249953857512,
          0.8289867409585718,
          0.7967858358869595,
          0.7318534178999296,
          0.7054110612855008,
          0.6681228763608626,
          0.6484616298408172,
          0.5104745370370369,
          0.5413886829750432,
          0.6270049577136192,
          0.6653021442495126,
          0.650285256731058,
          0.6974206349206349
         ],
         "yaxis": "y"
        }
       ],
       "layout": {
        "legend": {
         "title": {
          "text": "Algorithm"
         },
         "tracegroupgap": 0
        },
        "margin": {
         "t": 60
        },
        "template": {
         "data": {
          "bar": [
           {
            "error_x": {
             "color": "#2a3f5f"
            },
            "error_y": {
             "color": "#2a3f5f"
            },
            "marker": {
             "line": {
              "color": "#E5ECF6",
              "width": 0.5
             }
            },
            "type": "bar"
           }
          ],
          "barpolar": [
           {
            "marker": {
             "line": {
              "color": "#E5ECF6",
              "width": 0.5
             }
            },
            "type": "barpolar"
           }
          ],
          "carpet": [
           {
            "aaxis": {
             "endlinecolor": "#2a3f5f",
             "gridcolor": "white",
             "linecolor": "white",
             "minorgridcolor": "white",
             "startlinecolor": "#2a3f5f"
            },
            "baxis": {
             "endlinecolor": "#2a3f5f",
             "gridcolor": "white",
             "linecolor": "white",
             "minorgridcolor": "white",
             "startlinecolor": "#2a3f5f"
            },
            "type": "carpet"
           }
          ],
          "choropleth": [
           {
            "colorbar": {
             "outlinewidth": 0,
             "ticks": ""
            },
            "type": "choropleth"
           }
          ],
          "contour": [
           {
            "colorbar": {
             "outlinewidth": 0,
             "ticks": ""
            },
            "colorscale": [
             [
              0,
              "#0d0887"
             ],
             [
              0.1111111111111111,
              "#46039f"
             ],
             [
              0.2222222222222222,
              "#7201a8"
             ],
             [
              0.3333333333333333,
              "#9c179e"
             ],
             [
              0.4444444444444444,
              "#bd3786"
             ],
             [
              0.5555555555555556,
              "#d8576b"
             ],
             [
              0.6666666666666666,
              "#ed7953"
             ],
             [
              0.7777777777777778,
              "#fb9f3a"
             ],
             [
              0.8888888888888888,
              "#fdca26"
             ],
             [
              1,
              "#f0f921"
             ]
            ],
            "type": "contour"
           }
          ],
          "contourcarpet": [
           {
            "colorbar": {
             "outlinewidth": 0,
             "ticks": ""
            },
            "type": "contourcarpet"
           }
          ],
          "heatmap": [
           {
            "colorbar": {
             "outlinewidth": 0,
             "ticks": ""
            },
            "colorscale": [
             [
              0,
              "#0d0887"
             ],
             [
              0.1111111111111111,
              "#46039f"
             ],
             [
              0.2222222222222222,
              "#7201a8"
             ],
             [
              0.3333333333333333,
              "#9c179e"
             ],
             [
              0.4444444444444444,
              "#bd3786"
             ],
             [
              0.5555555555555556,
              "#d8576b"
             ],
             [
              0.6666666666666666,
              "#ed7953"
             ],
             [
              0.7777777777777778,
              "#fb9f3a"
             ],
             [
              0.8888888888888888,
              "#fdca26"
             ],
             [
              1,
              "#f0f921"
             ]
            ],
            "type": "heatmap"
           }
          ],
          "heatmapgl": [
           {
            "colorbar": {
             "outlinewidth": 0,
             "ticks": ""
            },
            "colorscale": [
             [
              0,
              "#0d0887"
             ],
             [
              0.1111111111111111,
              "#46039f"
             ],
             [
              0.2222222222222222,
              "#7201a8"
             ],
             [
              0.3333333333333333,
              "#9c179e"
             ],
             [
              0.4444444444444444,
              "#bd3786"
             ],
             [
              0.5555555555555556,
              "#d8576b"
             ],
             [
              0.6666666666666666,
              "#ed7953"
             ],
             [
              0.7777777777777778,
              "#fb9f3a"
             ],
             [
              0.8888888888888888,
              "#fdca26"
             ],
             [
              1,
              "#f0f921"
             ]
            ],
            "type": "heatmapgl"
           }
          ],
          "histogram": [
           {
            "marker": {
             "colorbar": {
              "outlinewidth": 0,
              "ticks": ""
             }
            },
            "type": "histogram"
           }
          ],
          "histogram2d": [
           {
            "colorbar": {
             "outlinewidth": 0,
             "ticks": ""
            },
            "colorscale": [
             [
              0,
              "#0d0887"
             ],
             [
              0.1111111111111111,
              "#46039f"
             ],
             [
              0.2222222222222222,
              "#7201a8"
             ],
             [
              0.3333333333333333,
              "#9c179e"
             ],
             [
              0.4444444444444444,
              "#bd3786"
             ],
             [
              0.5555555555555556,
              "#d8576b"
             ],
             [
              0.6666666666666666,
              "#ed7953"
             ],
             [
              0.7777777777777778,
              "#fb9f3a"
             ],
             [
              0.8888888888888888,
              "#fdca26"
             ],
             [
              1,
              "#f0f921"
             ]
            ],
            "type": "histogram2d"
           }
          ],
          "histogram2dcontour": [
           {
            "colorbar": {
             "outlinewidth": 0,
             "ticks": ""
            },
            "colorscale": [
             [
              0,
              "#0d0887"
             ],
             [
              0.1111111111111111,
              "#46039f"
             ],
             [
              0.2222222222222222,
              "#7201a8"
             ],
             [
              0.3333333333333333,
              "#9c179e"
             ],
             [
              0.4444444444444444,
              "#bd3786"
             ],
             [
              0.5555555555555556,
              "#d8576b"
             ],
             [
              0.6666666666666666,
              "#ed7953"
             ],
             [
              0.7777777777777778,
              "#fb9f3a"
             ],
             [
              0.8888888888888888,
              "#fdca26"
             ],
             [
              1,
              "#f0f921"
             ]
            ],
            "type": "histogram2dcontour"
           }
          ],
          "mesh3d": [
           {
            "colorbar": {
             "outlinewidth": 0,
             "ticks": ""
            },
            "type": "mesh3d"
           }
          ],
          "parcoords": [
           {
            "line": {
             "colorbar": {
              "outlinewidth": 0,
              "ticks": ""
             }
            },
            "type": "parcoords"
           }
          ],
          "pie": [
           {
            "automargin": true,
            "type": "pie"
           }
          ],
          "scatter": [
           {
            "marker": {
             "colorbar": {
              "outlinewidth": 0,
              "ticks": ""
             }
            },
            "type": "scatter"
           }
          ],
          "scatter3d": [
           {
            "line": {
             "colorbar": {
              "outlinewidth": 0,
              "ticks": ""
             }
            },
            "marker": {
             "colorbar": {
              "outlinewidth": 0,
              "ticks": ""
             }
            },
            "type": "scatter3d"
           }
          ],
          "scattercarpet": [
           {
            "marker": {
             "colorbar": {
              "outlinewidth": 0,
              "ticks": ""
             }
            },
            "type": "scattercarpet"
           }
          ],
          "scattergeo": [
           {
            "marker": {
             "colorbar": {
              "outlinewidth": 0,
              "ticks": ""
             }
            },
            "type": "scattergeo"
           }
          ],
          "scattergl": [
           {
            "marker": {
             "colorbar": {
              "outlinewidth": 0,
              "ticks": ""
             }
            },
            "type": "scattergl"
           }
          ],
          "scattermapbox": [
           {
            "marker": {
             "colorbar": {
              "outlinewidth": 0,
              "ticks": ""
             }
            },
            "type": "scattermapbox"
           }
          ],
          "scatterpolar": [
           {
            "marker": {
             "colorbar": {
              "outlinewidth": 0,
              "ticks": ""
             }
            },
            "type": "scatterpolar"
           }
          ],
          "scatterpolargl": [
           {
            "marker": {
             "colorbar": {
              "outlinewidth": 0,
              "ticks": ""
             }
            },
            "type": "scatterpolargl"
           }
          ],
          "scatterternary": [
           {
            "marker": {
             "colorbar": {
              "outlinewidth": 0,
              "ticks": ""
             }
            },
            "type": "scatterternary"
           }
          ],
          "surface": [
           {
            "colorbar": {
             "outlinewidth": 0,
             "ticks": ""
            },
            "colorscale": [
             [
              0,
              "#0d0887"
             ],
             [
              0.1111111111111111,
              "#46039f"
             ],
             [
              0.2222222222222222,
              "#7201a8"
             ],
             [
              0.3333333333333333,
              "#9c179e"
             ],
             [
              0.4444444444444444,
              "#bd3786"
             ],
             [
              0.5555555555555556,
              "#d8576b"
             ],
             [
              0.6666666666666666,
              "#ed7953"
             ],
             [
              0.7777777777777778,
              "#fb9f3a"
             ],
             [
              0.8888888888888888,
              "#fdca26"
             ],
             [
              1,
              "#f0f921"
             ]
            ],
            "type": "surface"
           }
          ],
          "table": [
           {
            "cells": {
             "fill": {
              "color": "#EBF0F8"
             },
             "line": {
              "color": "white"
             }
            },
            "header": {
             "fill": {
              "color": "#C8D4E3"
             },
             "line": {
              "color": "white"
             }
            },
            "type": "table"
           }
          ]
         },
         "layout": {
          "annotationdefaults": {
           "arrowcolor": "#2a3f5f",
           "arrowhead": 0,
           "arrowwidth": 1
          },
          "coloraxis": {
           "colorbar": {
            "outlinewidth": 0,
            "ticks": ""
           }
          },
          "colorscale": {
           "diverging": [
            [
             0,
             "#8e0152"
            ],
            [
             0.1,
             "#c51b7d"
            ],
            [
             0.2,
             "#de77ae"
            ],
            [
             0.3,
             "#f1b6da"
            ],
            [
             0.4,
             "#fde0ef"
            ],
            [
             0.5,
             "#f7f7f7"
            ],
            [
             0.6,
             "#e6f5d0"
            ],
            [
             0.7,
             "#b8e186"
            ],
            [
             0.8,
             "#7fbc41"
            ],
            [
             0.9,
             "#4d9221"
            ],
            [
             1,
             "#276419"
            ]
           ],
           "sequential": [
            [
             0,
             "#0d0887"
            ],
            [
             0.1111111111111111,
             "#46039f"
            ],
            [
             0.2222222222222222,
             "#7201a8"
            ],
            [
             0.3333333333333333,
             "#9c179e"
            ],
            [
             0.4444444444444444,
             "#bd3786"
            ],
            [
             0.5555555555555556,
             "#d8576b"
            ],
            [
             0.6666666666666666,
             "#ed7953"
            ],
            [
             0.7777777777777778,
             "#fb9f3a"
            ],
            [
             0.8888888888888888,
             "#fdca26"
            ],
            [
             1,
             "#f0f921"
            ]
           ],
           "sequentialminus": [
            [
             0,
             "#0d0887"
            ],
            [
             0.1111111111111111,
             "#46039f"
            ],
            [
             0.2222222222222222,
             "#7201a8"
            ],
            [
             0.3333333333333333,
             "#9c179e"
            ],
            [
             0.4444444444444444,
             "#bd3786"
            ],
            [
             0.5555555555555556,
             "#d8576b"
            ],
            [
             0.6666666666666666,
             "#ed7953"
            ],
            [
             0.7777777777777778,
             "#fb9f3a"
            ],
            [
             0.8888888888888888,
             "#fdca26"
            ],
            [
             1,
             "#f0f921"
            ]
           ]
          },
          "colorway": [
           "#636efa",
           "#EF553B",
           "#00cc96",
           "#ab63fa",
           "#FFA15A",
           "#19d3f3",
           "#FF6692",
           "#B6E880",
           "#FF97FF",
           "#FECB52"
          ],
          "font": {
           "color": "#2a3f5f"
          },
          "geo": {
           "bgcolor": "white",
           "lakecolor": "white",
           "landcolor": "#E5ECF6",
           "showlakes": true,
           "showland": true,
           "subunitcolor": "white"
          },
          "hoverlabel": {
           "align": "left"
          },
          "hovermode": "closest",
          "mapbox": {
           "style": "light"
          },
          "paper_bgcolor": "white",
          "plot_bgcolor": "#E5ECF6",
          "polar": {
           "angularaxis": {
            "gridcolor": "white",
            "linecolor": "white",
            "ticks": ""
           },
           "bgcolor": "#E5ECF6",
           "radialaxis": {
            "gridcolor": "white",
            "linecolor": "white",
            "ticks": ""
           }
          },
          "scene": {
           "xaxis": {
            "backgroundcolor": "#E5ECF6",
            "gridcolor": "white",
            "gridwidth": 2,
            "linecolor": "white",
            "showbackground": true,
            "ticks": "",
            "zerolinecolor": "white"
           },
           "yaxis": {
            "backgroundcolor": "#E5ECF6",
            "gridcolor": "white",
            "gridwidth": 2,
            "linecolor": "white",
            "showbackground": true,
            "ticks": "",
            "zerolinecolor": "white"
           },
           "zaxis": {
            "backgroundcolor": "#E5ECF6",
            "gridcolor": "white",
            "gridwidth": 2,
            "linecolor": "white",
            "showbackground": true,
            "ticks": "",
            "zerolinecolor": "white"
           }
          },
          "shapedefaults": {
           "line": {
            "color": "#2a3f5f"
           }
          },
          "ternary": {
           "aaxis": {
            "gridcolor": "white",
            "linecolor": "white",
            "ticks": ""
           },
           "baxis": {
            "gridcolor": "white",
            "linecolor": "white",
            "ticks": ""
           },
           "bgcolor": "#E5ECF6",
           "caxis": {
            "gridcolor": "white",
            "linecolor": "white",
            "ticks": ""
           }
          },
          "title": {
           "x": 0.05
          },
          "xaxis": {
           "automargin": true,
           "gridcolor": "white",
           "linecolor": "white",
           "ticks": "",
           "title": {
            "standoff": 15
           },
           "zerolinecolor": "white",
           "zerolinewidth": 2
          },
          "yaxis": {
           "automargin": true,
           "gridcolor": "white",
           "linecolor": "white",
           "ticks": "",
           "title": {
            "standoff": 15
           },
           "zerolinecolor": "white",
           "zerolinewidth": 2
          }
         }
        },
        "xaxis": {
         "anchor": "y",
         "domain": [
          0,
          1
         ],
         "title": {
          "text": "percentile split"
         }
        },
        "yaxis": {
         "anchor": "x",
         "domain": [
          0,
          1
         ],
         "title": {
          "text": "f1 score"
         }
        }
       }
      },
      "text/html": [
       "<div>\n",
       "        \n",
       "        \n",
       "            <div id=\"ec4a08c8-ad72-4be0-9ff6-da07398f3511\" class=\"plotly-graph-div\" style=\"height:525px; width:100%;\"></div>\n",
       "            <script type=\"text/javascript\">\n",
       "                require([\"plotly\"], function(Plotly) {\n",
       "                    window.PLOTLYENV=window.PLOTLYENV || {};\n",
       "                    \n",
       "                if (document.getElementById(\"ec4a08c8-ad72-4be0-9ff6-da07398f3511\")) {\n",
       "                    Plotly.newPlot(\n",
       "                        'ec4a08c8-ad72-4be0-9ff6-da07398f3511',\n",
       "                        [{\"hovertemplate\": \"variable=mnb<br>index=%{x}<br>value=%{y}<extra></extra>\", \"legendgroup\": \"mnb\", \"line\": {\"color\": \"#636efa\", \"dash\": \"solid\", \"shape\": \"spline\", \"smoothing\": 1}, \"marker\": {\"opacity\": 0.9, \"size\": 10}, \"mode\": \"lines+markers\", \"name\": \"mnb\", \"orientation\": \"v\", \"showlegend\": true, \"type\": \"scatter\", \"x\": [5, 10, 15, 20, 25, 30, 35, 40, 45, 50, 55, 60, 65, 70, 75, 80, 85, 90, 95], \"xaxis\": \"x\", \"y\": [0.9860006578820069, 0.9567973294011634, 0.9534267752241574, 0.9258619940941464, 0.879513376247564, 0.8680555555555556, 0.8816170413086972, 0.8223526343244654, 0.8058608058608058, 0.7990637720488467, 0.7485104571984437, 0.6351172047766475, 0.5741557712360632, 0.23901511360224204, 0.2036175710594315, 0.23002070393374743, 0.1384493670886076, 0.08398268398268399, 0.14833059660645867], \"yaxis\": \"y\"}, {\"hovertemplate\": \"variable=gnb<br>index=%{x}<br>value=%{y}<extra></extra>\", \"legendgroup\": \"gnb\", \"line\": {\"color\": \"#EF553B\", \"dash\": \"solid\", \"shape\": \"spline\", \"smoothing\": 1}, \"marker\": {\"opacity\": 0.9, \"size\": 10}, \"mode\": \"lines+markers\", \"name\": \"gnb\", \"orientation\": \"v\", \"showlegend\": true, \"type\": \"scatter\", \"x\": [5, 10, 15, 20, 25, 30, 35, 40, 45, 50, 55, 60, 65, 70, 75, 80, 85, 90, 95], \"xaxis\": \"x\", \"y\": [0.7494397759103641, 0.6340926078917346, 0.6922535973168885, 0.5839297804429828, 0.6289481309765286, 0.5826517434352132, 0.5407495893683739, 0.5163559227419895, 0.48875011072725666, 0.47142857142857136, 0.4435117727800654, 0.40249410178631617, 0.40147058823529413, 0.2413527314770209, 0.2570212765957447, 0.5152724748351267, 0.5734813009173135, 0.6215351812366736, 0.5498682476943346], \"yaxis\": \"y\"}, {\"hovertemplate\": \"variable=svm1<br>index=%{x}<br>value=%{y}<extra></extra>\", \"legendgroup\": \"svm1\", \"line\": {\"color\": \"#00cc96\", \"dash\": \"solid\", \"shape\": \"spline\", \"smoothing\": 1}, \"marker\": {\"opacity\": 0.9, \"size\": 10}, \"mode\": \"lines+markers\", \"name\": \"svm1\", \"orientation\": \"v\", \"showlegend\": true, \"type\": \"scatter\", \"x\": [5, 10, 15, 20, 25, 30, 35, 40, 45, 50, 55, 60, 65, 70, 75, 80, 85, 90, 95], \"xaxis\": \"x\", \"y\": [0.9764294164037854, 0.9534267752241574, 0.9616886607767758, 0.92224043715847, 0.8891868672796508, 0.8829196737663556, 0.8858016050765212, 0.8439716312056738, 0.8056043911800626, 0.7406368856738013, 0.7416969675881626, 0.6571428571428573, 0.6655058183980294, 0.3777869529314616, 0.62777826200645, 0.298019801980198, 0.3802083333333333, 0.7051075268817204, 0.6665230238857424], \"yaxis\": \"y\"}, {\"hovertemplate\": \"variable=svm2<br>index=%{x}<br>value=%{y}<extra></extra>\", \"legendgroup\": \"svm2\", \"line\": {\"color\": \"#ab63fa\", \"dash\": \"solid\", \"shape\": \"spline\", \"smoothing\": 1}, \"marker\": {\"opacity\": 0.9, \"size\": 10}, \"mode\": \"lines+markers\", \"name\": \"svm2\", \"orientation\": \"v\", \"showlegend\": true, \"type\": \"scatter\", \"x\": [5, 10, 15, 20, 25, 30, 35, 40, 45, 50, 55, 60, 65, 70, 75, 80, 85, 90, 95], \"xaxis\": \"x\", \"y\": [0.9891448570274791, 0.9601249465822836, 0.9667168977295559, 0.9311475409836066, 0.8854668287437468, 0.8738903207331044, 0.89249953857512, 0.8331796644896914, 0.8079442750949248, 0.7589662447257384, 0.7265325670498084, 0.6547044172215727, 0.6596329202712181, 0.6460384790183304, 0.6374517374517374, 0.6585775138763392, 0.6533333333333333, 0.663768115942029, 0.672782874617737], \"yaxis\": \"y\"}, {\"hovertemplate\": \"variable=svm3<br>index=%{x}<br>value=%{y}<extra></extra>\", \"legendgroup\": \"svm3\", \"line\": {\"color\": \"#FFA15A\", \"dash\": \"solid\", \"shape\": \"spline\", \"smoothing\": 1}, \"marker\": {\"opacity\": 0.9, \"size\": 10}, \"mode\": \"lines+markers\", \"name\": \"svm3\", \"orientation\": \"v\", \"showlegend\": true, \"type\": \"scatter\", \"x\": [5, 10, 15, 20, 25, 30, 35, 40, 45, 50, 55, 60, 65, 70, 75, 80, 85, 90, 95], \"xaxis\": \"x\", \"y\": [0.978016254410016, 0.9633685189678881, 0.9599979647908823, 0.9019540702186916, 0.8674243804111568, 0.8447368421052631, 0.8515882529217861, 0.65802286579868, 0.7485016718188127, 0.6232629637220741, 0.5577395577395577, 0.6158647657445413, 0.6180927041030668, 0.4551392506511721, 0.5122831367106176, 0.4852240896358544, 0.5128851540616246, 0.4827500620501366, 0.5516154452324664], \"yaxis\": \"y\"}, {\"hovertemplate\": \"variable=ada<br>index=%{x}<br>value=%{y}<extra></extra>\", \"legendgroup\": \"ada\", \"line\": {\"color\": \"#19d3f3\", \"dash\": \"solid\", \"shape\": \"spline\", \"smoothing\": 1}, \"marker\": {\"opacity\": 0.9, \"size\": 10}, \"mode\": \"lines+markers\", \"name\": \"ada\", \"orientation\": \"v\", \"showlegend\": true, \"type\": \"scatter\", \"x\": [5, 10, 15, 20, 25, 30, 35, 40, 45, 50, 55, 60, 65, 70, 75, 80, 85, 90, 95], \"xaxis\": \"x\", \"y\": [0.9764294164037854, 0.9616886607767758, 0.9412988115449915, 0.8910958742725195, 0.8663172715894869, 0.84994032994033, 0.8150522012847357, 0.7978160044302921, 0.7702110389610389, 0.7404802744425386, 0.6762788914448461, 0.6684067527551363, 0.6692397660818712, 0.6859114015976762, 0.586277246859229, 0.5841013824884792, 0.5872258560984994, 0.5590909090909091, 0.6639720898570456], \"yaxis\": \"y\"}, {\"hovertemplate\": \"variable=dtc<br>index=%{x}<br>value=%{y}<extra></extra>\", \"legendgroup\": \"dtc\", \"line\": {\"color\": \"#FF6692\", \"dash\": \"solid\", \"shape\": \"spline\", \"smoothing\": 1}, \"marker\": {\"opacity\": 0.9, \"size\": 10}, \"mode\": \"lines+markers\", \"name\": \"dtc\", \"orientation\": \"v\", \"showlegend\": true, \"type\": \"scatter\", \"x\": [5, 10, 15, 20, 25, 30, 35, 40, 45, 50, 55, 60, 65, 70, 75, 80, 85, 90, 95], \"xaxis\": \"x\", \"y\": [0.956389136704081, 0.9132246557989132, 0.9371450696954053, 0.8721428571428572, 0.7976228329169506, 0.7917625623321825, 0.7943247418489308, 0.7345132743362832, 0.7148846960167716, 0.7059163059163058, 0.6056446821152703, 0.6349787512258908, 0.6062541583499668, 0.5482073532770039, 0.537620297462817, 0.5344352617079889, 0.514918824045634, 0.6039751091297483, 0.5714424383614833], \"yaxis\": \"y\"}, {\"hovertemplate\": \"variable=rfc<br>index=%{x}<br>value=%{y}<extra></extra>\", \"legendgroup\": \"rfc\", \"line\": {\"color\": \"#B6E880\", \"dash\": \"solid\", \"shape\": \"spline\", \"smoothing\": 1}, \"marker\": {\"opacity\": 0.9, \"size\": 10}, \"mode\": \"lines+markers\", \"name\": \"rfc\", \"orientation\": \"v\", \"showlegend\": true, \"type\": \"scatter\", \"x\": [5, 10, 15, 20, 25, 30, 35, 40, 45, 50, 55, 60, 65, 70, 75, 80, 85, 90, 95], \"xaxis\": \"x\", \"y\": [0.9796332216540293, 0.963410442026934, 0.9583707635769702, 0.9111744635000449, 0.8710253141504279, 0.8447572499185403, 0.8546415678184631, 0.8299664088743066, 0.7764287327761463, 0.7622246328437917, 0.69676960585128, 0.7161343541360554, 0.6898568259729785, 0.664994425863991, 0.5798319327731093, 0.6215815608093086, 0.6580047108882303, 0.6478219778331471, 0.5894321287579716], \"yaxis\": \"y\"}, {\"hovertemplate\": \"variable=gbc<br>index=%{x}<br>value=%{y}<extra></extra>\", \"legendgroup\": \"gbc\", \"line\": {\"color\": \"#FF97FF\", \"dash\": \"solid\", \"shape\": \"spline\", \"smoothing\": 1}, \"marker\": {\"opacity\": 0.9, \"size\": 10}, \"mode\": \"lines+markers\", \"name\": \"gbc\", \"orientation\": \"v\", \"showlegend\": true, \"type\": \"scatter\", \"x\": [5, 10, 15, 20, 25, 30, 35, 40, 45, 50, 55, 60, 65, 70, 75, 80, 85, 90, 95], \"xaxis\": \"x\", \"y\": [0.9764495968139428, 0.9665923157302468, 0.958206195099399, 0.9265300680030224, 0.8791682002208318, 0.8535894688504515, 0.8425021468441392, 0.8227286821705426, 0.7786831812255541, 0.7500505561172902, 0.7406698564593301, 0.6743456629894009, 0.7021796916533759, 0.5871794871794871, 0.6396236856668511, 0.5880661394680087, 0.6586418351124235, 0.6650090772752388, 0.638217787114846], \"yaxis\": \"y\"}, {\"hovertemplate\": \"variable=lr<br>index=%{x}<br>value=%{y}<extra></extra>\", \"legendgroup\": \"lr\", \"line\": {\"color\": \"#FECB52\", \"dash\": \"solid\", \"shape\": \"spline\", \"smoothing\": 1}, \"marker\": {\"opacity\": 0.9, \"size\": 10}, \"mode\": \"lines+markers\", \"name\": \"lr\", \"orientation\": \"v\", \"showlegend\": true, \"type\": \"scatter\", \"x\": [5, 10, 15, 20, 25, 30, 35, 40, 45, 50, 55, 60, 65, 70, 75, 80, 85, 90, 95], \"xaxis\": \"x\", \"y\": [0.9891254182531442, 0.955117471210051, 0.9699610661874813, 0.9255120436133011, 0.9114918950255301, 0.8750059498310248, 0.89249953857512, 0.8289867409585718, 0.7967858358869595, 0.7318534178999296, 0.7054110612855008, 0.6681228763608626, 0.6484616298408172, 0.5104745370370369, 0.5413886829750432, 0.6270049577136192, 0.6653021442495126, 0.650285256731058, 0.6974206349206349], \"yaxis\": \"y\"}],\n",
       "                        {\"legend\": {\"title\": {\"text\": \"Algorithm\"}, \"tracegroupgap\": 0}, \"margin\": {\"t\": 60}, \"template\": {\"data\": {\"bar\": [{\"error_x\": {\"color\": \"#2a3f5f\"}, \"error_y\": {\"color\": \"#2a3f5f\"}, \"marker\": {\"line\": {\"color\": \"#E5ECF6\", \"width\": 0.5}}, \"type\": \"bar\"}], \"barpolar\": [{\"marker\": {\"line\": {\"color\": \"#E5ECF6\", \"width\": 0.5}}, \"type\": \"barpolar\"}], \"carpet\": [{\"aaxis\": {\"endlinecolor\": \"#2a3f5f\", \"gridcolor\": \"white\", \"linecolor\": \"white\", \"minorgridcolor\": \"white\", \"startlinecolor\": \"#2a3f5f\"}, \"baxis\": {\"endlinecolor\": \"#2a3f5f\", \"gridcolor\": \"white\", \"linecolor\": \"white\", \"minorgridcolor\": \"white\", \"startlinecolor\": \"#2a3f5f\"}, \"type\": \"carpet\"}], \"choropleth\": [{\"colorbar\": {\"outlinewidth\": 0, \"ticks\": \"\"}, \"type\": \"choropleth\"}], \"contour\": [{\"colorbar\": {\"outlinewidth\": 0, \"ticks\": \"\"}, \"colorscale\": [[0.0, \"#0d0887\"], [0.1111111111111111, \"#46039f\"], [0.2222222222222222, \"#7201a8\"], [0.3333333333333333, \"#9c179e\"], [0.4444444444444444, \"#bd3786\"], [0.5555555555555556, \"#d8576b\"], [0.6666666666666666, \"#ed7953\"], [0.7777777777777778, \"#fb9f3a\"], [0.8888888888888888, \"#fdca26\"], [1.0, \"#f0f921\"]], \"type\": \"contour\"}], \"contourcarpet\": [{\"colorbar\": {\"outlinewidth\": 0, \"ticks\": \"\"}, \"type\": \"contourcarpet\"}], \"heatmap\": [{\"colorbar\": {\"outlinewidth\": 0, \"ticks\": \"\"}, \"colorscale\": [[0.0, \"#0d0887\"], [0.1111111111111111, \"#46039f\"], [0.2222222222222222, \"#7201a8\"], [0.3333333333333333, \"#9c179e\"], [0.4444444444444444, \"#bd3786\"], [0.5555555555555556, \"#d8576b\"], [0.6666666666666666, \"#ed7953\"], [0.7777777777777778, \"#fb9f3a\"], [0.8888888888888888, \"#fdca26\"], [1.0, \"#f0f921\"]], \"type\": \"heatmap\"}], \"heatmapgl\": [{\"colorbar\": {\"outlinewidth\": 0, \"ticks\": \"\"}, \"colorscale\": [[0.0, \"#0d0887\"], [0.1111111111111111, \"#46039f\"], [0.2222222222222222, \"#7201a8\"], [0.3333333333333333, \"#9c179e\"], [0.4444444444444444, \"#bd3786\"], [0.5555555555555556, \"#d8576b\"], [0.6666666666666666, \"#ed7953\"], [0.7777777777777778, \"#fb9f3a\"], [0.8888888888888888, \"#fdca26\"], [1.0, \"#f0f921\"]], \"type\": \"heatmapgl\"}], \"histogram\": [{\"marker\": {\"colorbar\": {\"outlinewidth\": 0, \"ticks\": \"\"}}, \"type\": \"histogram\"}], \"histogram2d\": [{\"colorbar\": {\"outlinewidth\": 0, \"ticks\": \"\"}, \"colorscale\": [[0.0, \"#0d0887\"], [0.1111111111111111, \"#46039f\"], [0.2222222222222222, \"#7201a8\"], [0.3333333333333333, \"#9c179e\"], [0.4444444444444444, \"#bd3786\"], [0.5555555555555556, \"#d8576b\"], [0.6666666666666666, \"#ed7953\"], [0.7777777777777778, \"#fb9f3a\"], [0.8888888888888888, \"#fdca26\"], [1.0, \"#f0f921\"]], \"type\": \"histogram2d\"}], \"histogram2dcontour\": [{\"colorbar\": {\"outlinewidth\": 0, \"ticks\": \"\"}, \"colorscale\": [[0.0, \"#0d0887\"], [0.1111111111111111, \"#46039f\"], [0.2222222222222222, \"#7201a8\"], [0.3333333333333333, \"#9c179e\"], [0.4444444444444444, \"#bd3786\"], [0.5555555555555556, \"#d8576b\"], [0.6666666666666666, \"#ed7953\"], [0.7777777777777778, \"#fb9f3a\"], [0.8888888888888888, \"#fdca26\"], [1.0, \"#f0f921\"]], \"type\": \"histogram2dcontour\"}], \"mesh3d\": [{\"colorbar\": {\"outlinewidth\": 0, \"ticks\": \"\"}, \"type\": \"mesh3d\"}], \"parcoords\": [{\"line\": {\"colorbar\": {\"outlinewidth\": 0, \"ticks\": \"\"}}, \"type\": \"parcoords\"}], \"pie\": [{\"automargin\": true, \"type\": \"pie\"}], \"scatter\": [{\"marker\": {\"colorbar\": {\"outlinewidth\": 0, \"ticks\": \"\"}}, \"type\": \"scatter\"}], \"scatter3d\": [{\"line\": {\"colorbar\": {\"outlinewidth\": 0, \"ticks\": \"\"}}, \"marker\": {\"colorbar\": {\"outlinewidth\": 0, \"ticks\": \"\"}}, \"type\": \"scatter3d\"}], \"scattercarpet\": [{\"marker\": {\"colorbar\": {\"outlinewidth\": 0, \"ticks\": \"\"}}, \"type\": \"scattercarpet\"}], \"scattergeo\": [{\"marker\": {\"colorbar\": {\"outlinewidth\": 0, \"ticks\": \"\"}}, \"type\": \"scattergeo\"}], \"scattergl\": [{\"marker\": {\"colorbar\": {\"outlinewidth\": 0, \"ticks\": \"\"}}, \"type\": \"scattergl\"}], \"scattermapbox\": [{\"marker\": {\"colorbar\": {\"outlinewidth\": 0, \"ticks\": \"\"}}, \"type\": \"scattermapbox\"}], \"scatterpolar\": [{\"marker\": {\"colorbar\": {\"outlinewidth\": 0, \"ticks\": \"\"}}, \"type\": \"scatterpolar\"}], \"scatterpolargl\": [{\"marker\": {\"colorbar\": {\"outlinewidth\": 0, \"ticks\": \"\"}}, \"type\": \"scatterpolargl\"}], \"scatterternary\": [{\"marker\": {\"colorbar\": {\"outlinewidth\": 0, \"ticks\": \"\"}}, \"type\": \"scatterternary\"}], \"surface\": [{\"colorbar\": {\"outlinewidth\": 0, \"ticks\": \"\"}, \"colorscale\": [[0.0, \"#0d0887\"], [0.1111111111111111, \"#46039f\"], [0.2222222222222222, \"#7201a8\"], [0.3333333333333333, \"#9c179e\"], [0.4444444444444444, \"#bd3786\"], [0.5555555555555556, \"#d8576b\"], [0.6666666666666666, \"#ed7953\"], [0.7777777777777778, \"#fb9f3a\"], [0.8888888888888888, \"#fdca26\"], [1.0, \"#f0f921\"]], \"type\": \"surface\"}], \"table\": [{\"cells\": {\"fill\": {\"color\": \"#EBF0F8\"}, \"line\": {\"color\": \"white\"}}, \"header\": {\"fill\": {\"color\": \"#C8D4E3\"}, \"line\": {\"color\": \"white\"}}, \"type\": \"table\"}]}, \"layout\": {\"annotationdefaults\": {\"arrowcolor\": \"#2a3f5f\", \"arrowhead\": 0, \"arrowwidth\": 1}, \"coloraxis\": {\"colorbar\": {\"outlinewidth\": 0, \"ticks\": \"\"}}, \"colorscale\": {\"diverging\": [[0, \"#8e0152\"], [0.1, \"#c51b7d\"], [0.2, \"#de77ae\"], [0.3, \"#f1b6da\"], [0.4, \"#fde0ef\"], [0.5, \"#f7f7f7\"], [0.6, \"#e6f5d0\"], [0.7, \"#b8e186\"], [0.8, \"#7fbc41\"], [0.9, \"#4d9221\"], [1, \"#276419\"]], \"sequential\": [[0.0, \"#0d0887\"], [0.1111111111111111, \"#46039f\"], [0.2222222222222222, \"#7201a8\"], [0.3333333333333333, \"#9c179e\"], [0.4444444444444444, \"#bd3786\"], [0.5555555555555556, \"#d8576b\"], [0.6666666666666666, \"#ed7953\"], [0.7777777777777778, \"#fb9f3a\"], [0.8888888888888888, \"#fdca26\"], [1.0, \"#f0f921\"]], \"sequentialminus\": [[0.0, \"#0d0887\"], [0.1111111111111111, \"#46039f\"], [0.2222222222222222, \"#7201a8\"], [0.3333333333333333, \"#9c179e\"], [0.4444444444444444, \"#bd3786\"], [0.5555555555555556, \"#d8576b\"], [0.6666666666666666, \"#ed7953\"], [0.7777777777777778, \"#fb9f3a\"], [0.8888888888888888, \"#fdca26\"], [1.0, \"#f0f921\"]]}, \"colorway\": [\"#636efa\", \"#EF553B\", \"#00cc96\", \"#ab63fa\", \"#FFA15A\", \"#19d3f3\", \"#FF6692\", \"#B6E880\", \"#FF97FF\", \"#FECB52\"], \"font\": {\"color\": \"#2a3f5f\"}, \"geo\": {\"bgcolor\": \"white\", \"lakecolor\": \"white\", \"landcolor\": \"#E5ECF6\", \"showlakes\": true, \"showland\": true, \"subunitcolor\": \"white\"}, \"hoverlabel\": {\"align\": \"left\"}, \"hovermode\": \"closest\", \"mapbox\": {\"style\": \"light\"}, \"paper_bgcolor\": \"white\", \"plot_bgcolor\": \"#E5ECF6\", \"polar\": {\"angularaxis\": {\"gridcolor\": \"white\", \"linecolor\": \"white\", \"ticks\": \"\"}, \"bgcolor\": \"#E5ECF6\", \"radialaxis\": {\"gridcolor\": \"white\", \"linecolor\": \"white\", \"ticks\": \"\"}}, \"scene\": {\"xaxis\": {\"backgroundcolor\": \"#E5ECF6\", \"gridcolor\": \"white\", \"gridwidth\": 2, \"linecolor\": \"white\", \"showbackground\": true, \"ticks\": \"\", \"zerolinecolor\": \"white\"}, \"yaxis\": {\"backgroundcolor\": \"#E5ECF6\", \"gridcolor\": \"white\", \"gridwidth\": 2, \"linecolor\": \"white\", \"showbackground\": true, \"ticks\": \"\", \"zerolinecolor\": \"white\"}, \"zaxis\": {\"backgroundcolor\": \"#E5ECF6\", \"gridcolor\": \"white\", \"gridwidth\": 2, \"linecolor\": \"white\", \"showbackground\": true, \"ticks\": \"\", \"zerolinecolor\": \"white\"}}, \"shapedefaults\": {\"line\": {\"color\": \"#2a3f5f\"}}, \"ternary\": {\"aaxis\": {\"gridcolor\": \"white\", \"linecolor\": \"white\", \"ticks\": \"\"}, \"baxis\": {\"gridcolor\": \"white\", \"linecolor\": \"white\", \"ticks\": \"\"}, \"bgcolor\": \"#E5ECF6\", \"caxis\": {\"gridcolor\": \"white\", \"linecolor\": \"white\", \"ticks\": \"\"}}, \"title\": {\"x\": 0.05}, \"xaxis\": {\"automargin\": true, \"gridcolor\": \"white\", \"linecolor\": \"white\", \"ticks\": \"\", \"title\": {\"standoff\": 15}, \"zerolinecolor\": \"white\", \"zerolinewidth\": 2}, \"yaxis\": {\"automargin\": true, \"gridcolor\": \"white\", \"linecolor\": \"white\", \"ticks\": \"\", \"title\": {\"standoff\": 15}, \"zerolinecolor\": \"white\", \"zerolinewidth\": 2}}}, \"xaxis\": {\"anchor\": \"y\", \"domain\": [0.0, 1.0], \"title\": {\"text\": \"percentile split\"}}, \"yaxis\": {\"anchor\": \"x\", \"domain\": [0.0, 1.0], \"title\": {\"text\": \"f1 score\"}}},\n",
       "                        {\"responsive\": true}\n",
       "                    ).then(function(){\n",
       "                            \n",
       "var gd = document.getElementById('ec4a08c8-ad72-4be0-9ff6-da07398f3511');\n",
       "var x = new MutationObserver(function (mutations, observer) {{\n",
       "        var display = window.getComputedStyle(gd).display;\n",
       "        if (!display || display === 'none') {{\n",
       "            console.log([gd, 'removed!']);\n",
       "            Plotly.purge(gd);\n",
       "            observer.disconnect();\n",
       "        }}\n",
       "}});\n",
       "\n",
       "// Listen for the removal of the full notebook cells\n",
       "var notebookContainer = gd.closest('#notebook-container');\n",
       "if (notebookContainer) {{\n",
       "    x.observe(notebookContainer, {childList: true});\n",
       "}}\n",
       "\n",
       "// Listen for the clearing of the current output cell\n",
       "var outputEl = gd.closest('.output');\n",
       "if (outputEl) {{\n",
       "    x.observe(outputEl, {childList: true});\n",
       "}}\n",
       "\n",
       "                        })\n",
       "                };\n",
       "                });\n",
       "            </script>\n",
       "        </div>"
      ]
     },
     "metadata": {},
     "output_type": "display_data"
    }
   ],
   "source": [
    "fig = px.line(pd.DataFrame(scores_per_clf))\n",
    "fig.update_layout(\n",
    "    yaxis_title=\"f1 score\",\n",
    "    xaxis_title=\"percentile split\",\n",
    "    legend_title_text='Algorithm'\n",
    ")\n",
    "fig.update_traces(line_traces)\n",
    "\n",
    "fig.show()"
   ]
  },
  {
   "cell_type": "code",
   "execution_count": 41,
   "metadata": {},
   "outputs": [
    {
     "data": {
      "application/vnd.plotly.v1+json": {
       "config": {
        "plotlyServerURL": "https://plot.ly"
       },
       "data": [
        {
         "hovertemplate": "variable=mnb<br>index=%{x}<br>value=%{y}<extra></extra>",
         "legendgroup": "mnb",
         "line": {
          "color": "#636efa",
          "dash": "solid",
          "shape": "spline",
          "smoothing": 1
         },
         "marker": {
          "opacity": 0.9,
          "size": 10
         },
         "mode": "lines+markers",
         "name": "mnb",
         "orientation": "v",
         "showlegend": true,
         "type": "scatter",
         "x": [
          5,
          10,
          15,
          20,
          25,
          30,
          35,
          40,
          45,
          50,
          55,
          60,
          65,
          70,
          75,
          80,
          85,
          90,
          95
         ],
         "xaxis": "x",
         "y": [
          0.9723926380368098,
          0.9171779141104295,
          0.9110429447852761,
          0.8619631901840491,
          0.7852760736196319,
          0.7668711656441718,
          0.7883435582822086,
          0.6993865030674846,
          0.6748466257668712,
          0.665644171779141,
          0.6042944785276074,
          0.4785276073619632,
          0.5920245398773006,
          0.5337423312883436,
          0.5705521472392638,
          0.6717791411042944,
          0.6226993865030674,
          0.6687116564417178,
          0.6840490797546013
         ],
         "yaxis": "y"
        },
        {
         "hovertemplate": "variable=gnb<br>index=%{x}<br>value=%{y}<extra></extra>",
         "legendgroup": "gnb",
         "line": {
          "color": "#EF553B",
          "dash": "solid",
          "shape": "spline",
          "smoothing": 1
         },
         "marker": {
          "opacity": 0.9,
          "size": 10
         },
         "mode": "lines+markers",
         "name": "gnb",
         "orientation": "v",
         "showlegend": true,
         "type": "scatter",
         "x": [
          5,
          10,
          15,
          20,
          25,
          30,
          35,
          40,
          45,
          50,
          55,
          60,
          65,
          70,
          75,
          80,
          85,
          90,
          95
         ],
         "xaxis": "x",
         "y": [
          0.6104294478527608,
          0.49386503067484666,
          0.5552147239263803,
          0.4815950920245399,
          0.5368098159509203,
          0.50920245398773,
          0.48466257668711654,
          0.5153374233128833,
          0.5306748466257669,
          0.5337423312883436,
          0.5306748466257669,
          0.5521472392638037,
          0.5950920245398773,
          0.5276073619631902,
          0.558282208588957,
          0.6871165644171779,
          0.6748466257668712,
          0.6901840490797546,
          0.6595092024539877
         ],
         "yaxis": "y"
        },
        {
         "hovertemplate": "variable=svm1<br>index=%{x}<br>value=%{y}<extra></extra>",
         "legendgroup": "svm1",
         "line": {
          "color": "#00cc96",
          "dash": "solid",
          "shape": "spline",
          "smoothing": 1
         },
         "marker": {
          "opacity": 0.9,
          "size": 10
         },
         "mode": "lines+markers",
         "name": "svm1",
         "orientation": "v",
         "showlegend": true,
         "type": "scatter",
         "x": [
          5,
          10,
          15,
          20,
          25,
          30,
          35,
          40,
          45,
          50,
          55,
          60,
          65,
          70,
          75,
          80,
          85,
          90,
          95
         ],
         "xaxis": "x",
         "y": [
          0.9539877300613497,
          0.9110429447852761,
          0.9263803680981595,
          0.8558282208588956,
          0.8006134969325154,
          0.7914110429447853,
          0.7975460122699387,
          0.7300613496932515,
          0.6748466257668712,
          0.588957055214724,
          0.6196319018404908,
          0.558282208588957,
          0.6134969325153374,
          0.5368098159509203,
          0.6533742331288344,
          0.6165644171779141,
          0.6901840490797546,
          0.7791411042944785,
          0.7392638036809815
         ],
         "yaxis": "y"
        },
        {
         "hovertemplate": "variable=svm2<br>index=%{x}<br>value=%{y}<extra></extra>",
         "legendgroup": "svm2",
         "line": {
          "color": "#ab63fa",
          "dash": "solid",
          "shape": "spline",
          "smoothing": 1
         },
         "marker": {
          "opacity": 0.9,
          "size": 10
         },
         "mode": "lines+markers",
         "name": "svm2",
         "orientation": "v",
         "showlegend": true,
         "type": "scatter",
         "x": [
          5,
          10,
          15,
          20,
          25,
          30,
          35,
          40,
          45,
          50,
          55,
          60,
          65,
          70,
          75,
          80,
          85,
          90,
          95
         ],
         "xaxis": "x",
         "y": [
          0.9785276073619632,
          0.9233128834355828,
          0.9355828220858895,
          0.8711656441717791,
          0.7944785276073619,
          0.7760736196319018,
          0.8067484662576687,
          0.7147239263803681,
          0.6779141104294478,
          0.665644171779141,
          0.6257668711656441,
          0.5797546012269938,
          0.6134969325153374,
          0.647239263803681,
          0.6809815950920245,
          0.7392638036809815,
          0.7331288343558282,
          0.7699386503067485,
          0.7791411042944785
         ],
         "yaxis": "y"
        },
        {
         "hovertemplate": "variable=svm3<br>index=%{x}<br>value=%{y}<extra></extra>",
         "legendgroup": "svm3",
         "line": {
          "color": "#FFA15A",
          "dash": "solid",
          "shape": "spline",
          "smoothing": 1
         },
         "marker": {
          "opacity": 0.9,
          "size": 10
         },
         "mode": "lines+markers",
         "name": "svm3",
         "orientation": "v",
         "showlegend": true,
         "type": "scatter",
         "x": [
          5,
          10,
          15,
          20,
          25,
          30,
          35,
          40,
          45,
          50,
          55,
          60,
          65,
          70,
          75,
          80,
          85,
          90,
          95
         ],
         "xaxis": "x",
         "y": [
          0.9570552147239264,
          0.9294478527607362,
          0.9233128834355828,
          0.8220858895705522,
          0.7668711656441718,
          0.7331288343558282,
          0.7423312883435583,
          0.5061349693251533,
          0.6134969325153374,
          0.49386503067484666,
          0.4355828220858896,
          0.5214723926380368,
          0.558282208588957,
          0.4723926380368098,
          0.5644171779141105,
          0.6226993865030674,
          0.6901840490797546,
          0.7147239263803681,
          0.7239263803680982
         ],
         "yaxis": "y"
        },
        {
         "hovertemplate": "variable=ada<br>index=%{x}<br>value=%{y}<extra></extra>",
         "legendgroup": "ada",
         "line": {
          "color": "#19d3f3",
          "dash": "solid",
          "shape": "spline",
          "smoothing": 1
         },
         "marker": {
          "opacity": 0.9,
          "size": 10
         },
         "mode": "lines+markers",
         "name": "ada",
         "orientation": "v",
         "showlegend": true,
         "type": "scatter",
         "x": [
          5,
          10,
          15,
          20,
          25,
          30,
          35,
          40,
          45,
          50,
          55,
          60,
          65,
          70,
          75,
          80,
          85,
          90,
          95
         ],
         "xaxis": "x",
         "y": [
          0.9539877300613497,
          0.9263803680981595,
          0.8895705521472392,
          0.8067484662576687,
          0.7730061349693251,
          0.7546012269938651,
          0.6993865030674846,
          0.7024539877300613,
          0.6871165644171779,
          0.656441717791411,
          0.6226993865030674,
          0.6319018404907976,
          0.6779141104294478,
          0.696319018404908,
          0.6533742331288344,
          0.6901840490797546,
          0.7116564417177914,
          0.7361963190184049,
          0.7760736196319018
         ],
         "yaxis": "y"
        },
        {
         "hovertemplate": "variable=dtc<br>index=%{x}<br>value=%{y}<extra></extra>",
         "legendgroup": "dtc",
         "line": {
          "color": "#FF6692",
          "dash": "solid",
          "shape": "spline",
          "smoothing": 1
         },
         "marker": {
          "opacity": 0.9,
          "size": 10
         },
         "mode": "lines+markers",
         "name": "dtc",
         "orientation": "v",
         "showlegend": true,
         "type": "scatter",
         "x": [
          5,
          10,
          15,
          20,
          25,
          30,
          35,
          40,
          45,
          50,
          55,
          60,
          65,
          70,
          75,
          80,
          85,
          90,
          95
         ],
         "xaxis": "x",
         "y": [
          0.9171779141104295,
          0.8404907975460123,
          0.8834355828220859,
          0.7822085889570551,
          0.6809815950920246,
          0.6840490797546013,
          0.6871165644171779,
          0.6319018404907975,
          0.6257668711656441,
          0.6319018404907975,
          0.5552147239263804,
          0.6104294478527608,
          0.5797546012269938,
          0.5889570552147239,
          0.6165644171779141,
          0.6411042944785276,
          0.6533742331288344,
          0.7484662576687117,
          0.7331288343558282
         ],
         "yaxis": "y"
        },
        {
         "hovertemplate": "variable=rfc<br>index=%{x}<br>value=%{y}<extra></extra>",
         "legendgroup": "rfc",
         "line": {
          "color": "#B6E880",
          "dash": "solid",
          "shape": "spline",
          "smoothing": 1
         },
         "marker": {
          "opacity": 0.9,
          "size": 10
         },
         "mode": "lines+markers",
         "name": "rfc",
         "orientation": "v",
         "showlegend": true,
         "type": "scatter",
         "x": [
          5,
          10,
          15,
          20,
          25,
          30,
          35,
          40,
          45,
          50,
          55,
          60,
          65,
          70,
          75,
          80,
          85,
          90,
          95
         ],
         "xaxis": "x",
         "y": [
          0.9601226993865031,
          0.9294478527607362,
          0.9202453987730062,
          0.8374233128834356,
          0.7730061349693251,
          0.7361963190184049,
          0.7515337423312883,
          0.7361963190184049,
          0.6840490797546013,
          0.6809815950920246,
          0.6319018404907976,
          0.656441717791411,
          0.6717791411042945,
          0.6993865030674846,
          0.6625766871165644,
          0.7300613496932515,
          0.7607361963190185,
          0.7668711656441718,
          0.7484662576687117
         ],
         "yaxis": "y"
        },
        {
         "hovertemplate": "variable=gbc<br>index=%{x}<br>value=%{y}<extra></extra>",
         "legendgroup": "gbc",
         "line": {
          "color": "#FF97FF",
          "dash": "solid",
          "shape": "spline",
          "smoothing": 1
         },
         "marker": {
          "opacity": 0.9,
          "size": 10
         },
         "mode": "lines+markers",
         "name": "gbc",
         "orientation": "v",
         "showlegend": true,
         "type": "scatter",
         "x": [
          5,
          10,
          15,
          20,
          25,
          30,
          35,
          40,
          45,
          50,
          55,
          60,
          65,
          70,
          75,
          80,
          85,
          90,
          95
         ],
         "xaxis": "x",
         "y": [
          0.9539877300613497,
          0.9355828220858896,
          0.9202453987730062,
          0.8650306748466258,
          0.7883435582822086,
          0.7484662576687117,
          0.7361963190184049,
          0.7239263803680982,
          0.6901840490797546,
          0.6595092024539877,
          0.6840490797546013,
          0.6165644171779141,
          0.6932515337423313,
          0.6134969325153374,
          0.7024539877300613,
          0.7177914110429449,
          0.7607361963190185,
          0.7668711656441718,
          0.7638036809815951
         ],
         "yaxis": "y"
        },
        {
         "hovertemplate": "variable=lr<br>index=%{x}<br>value=%{y}<extra></extra>",
         "legendgroup": "lr",
         "line": {
          "color": "#FECB52",
          "dash": "solid",
          "shape": "spline",
          "smoothing": 1
         },
         "marker": {
          "opacity": 0.9,
          "size": 10
         },
         "mode": "lines+markers",
         "name": "lr",
         "orientation": "v",
         "showlegend": true,
         "type": "scatter",
         "x": [
          5,
          10,
          15,
          20,
          25,
          30,
          35,
          40,
          45,
          50,
          55,
          60,
          65,
          70,
          75,
          80,
          85,
          90,
          95
         ],
         "xaxis": "x",
         "y": [
          0.9785276073619631,
          0.9141104294478528,
          0.9417177914110428,
          0.8619631901840491,
          0.8374233128834356,
          0.7791411042944785,
          0.8067484662576687,
          0.7085889570552147,
          0.6625766871165644,
          0.5797546012269938,
          0.5950920245398773,
          0.5766871165644172,
          0.6042944785276074,
          0.6042944785276073,
          0.6441717791411042,
          0.7331288343558282,
          0.7453987730061349,
          0.7852760736196318,
          0.7791411042944785
         ],
         "yaxis": "y"
        }
       ],
       "layout": {
        "legend": {
         "title": {
          "text": "Algorithm"
         },
         "tracegroupgap": 0
        },
        "margin": {
         "t": 60
        },
        "template": {
         "data": {
          "bar": [
           {
            "error_x": {
             "color": "#2a3f5f"
            },
            "error_y": {
             "color": "#2a3f5f"
            },
            "marker": {
             "line": {
              "color": "#E5ECF6",
              "width": 0.5
             }
            },
            "type": "bar"
           }
          ],
          "barpolar": [
           {
            "marker": {
             "line": {
              "color": "#E5ECF6",
              "width": 0.5
             }
            },
            "type": "barpolar"
           }
          ],
          "carpet": [
           {
            "aaxis": {
             "endlinecolor": "#2a3f5f",
             "gridcolor": "white",
             "linecolor": "white",
             "minorgridcolor": "white",
             "startlinecolor": "#2a3f5f"
            },
            "baxis": {
             "endlinecolor": "#2a3f5f",
             "gridcolor": "white",
             "linecolor": "white",
             "minorgridcolor": "white",
             "startlinecolor": "#2a3f5f"
            },
            "type": "carpet"
           }
          ],
          "choropleth": [
           {
            "colorbar": {
             "outlinewidth": 0,
             "ticks": ""
            },
            "type": "choropleth"
           }
          ],
          "contour": [
           {
            "colorbar": {
             "outlinewidth": 0,
             "ticks": ""
            },
            "colorscale": [
             [
              0,
              "#0d0887"
             ],
             [
              0.1111111111111111,
              "#46039f"
             ],
             [
              0.2222222222222222,
              "#7201a8"
             ],
             [
              0.3333333333333333,
              "#9c179e"
             ],
             [
              0.4444444444444444,
              "#bd3786"
             ],
             [
              0.5555555555555556,
              "#d8576b"
             ],
             [
              0.6666666666666666,
              "#ed7953"
             ],
             [
              0.7777777777777778,
              "#fb9f3a"
             ],
             [
              0.8888888888888888,
              "#fdca26"
             ],
             [
              1,
              "#f0f921"
             ]
            ],
            "type": "contour"
           }
          ],
          "contourcarpet": [
           {
            "colorbar": {
             "outlinewidth": 0,
             "ticks": ""
            },
            "type": "contourcarpet"
           }
          ],
          "heatmap": [
           {
            "colorbar": {
             "outlinewidth": 0,
             "ticks": ""
            },
            "colorscale": [
             [
              0,
              "#0d0887"
             ],
             [
              0.1111111111111111,
              "#46039f"
             ],
             [
              0.2222222222222222,
              "#7201a8"
             ],
             [
              0.3333333333333333,
              "#9c179e"
             ],
             [
              0.4444444444444444,
              "#bd3786"
             ],
             [
              0.5555555555555556,
              "#d8576b"
             ],
             [
              0.6666666666666666,
              "#ed7953"
             ],
             [
              0.7777777777777778,
              "#fb9f3a"
             ],
             [
              0.8888888888888888,
              "#fdca26"
             ],
             [
              1,
              "#f0f921"
             ]
            ],
            "type": "heatmap"
           }
          ],
          "heatmapgl": [
           {
            "colorbar": {
             "outlinewidth": 0,
             "ticks": ""
            },
            "colorscale": [
             [
              0,
              "#0d0887"
             ],
             [
              0.1111111111111111,
              "#46039f"
             ],
             [
              0.2222222222222222,
              "#7201a8"
             ],
             [
              0.3333333333333333,
              "#9c179e"
             ],
             [
              0.4444444444444444,
              "#bd3786"
             ],
             [
              0.5555555555555556,
              "#d8576b"
             ],
             [
              0.6666666666666666,
              "#ed7953"
             ],
             [
              0.7777777777777778,
              "#fb9f3a"
             ],
             [
              0.8888888888888888,
              "#fdca26"
             ],
             [
              1,
              "#f0f921"
             ]
            ],
            "type": "heatmapgl"
           }
          ],
          "histogram": [
           {
            "marker": {
             "colorbar": {
              "outlinewidth": 0,
              "ticks": ""
             }
            },
            "type": "histogram"
           }
          ],
          "histogram2d": [
           {
            "colorbar": {
             "outlinewidth": 0,
             "ticks": ""
            },
            "colorscale": [
             [
              0,
              "#0d0887"
             ],
             [
              0.1111111111111111,
              "#46039f"
             ],
             [
              0.2222222222222222,
              "#7201a8"
             ],
             [
              0.3333333333333333,
              "#9c179e"
             ],
             [
              0.4444444444444444,
              "#bd3786"
             ],
             [
              0.5555555555555556,
              "#d8576b"
             ],
             [
              0.6666666666666666,
              "#ed7953"
             ],
             [
              0.7777777777777778,
              "#fb9f3a"
             ],
             [
              0.8888888888888888,
              "#fdca26"
             ],
             [
              1,
              "#f0f921"
             ]
            ],
            "type": "histogram2d"
           }
          ],
          "histogram2dcontour": [
           {
            "colorbar": {
             "outlinewidth": 0,
             "ticks": ""
            },
            "colorscale": [
             [
              0,
              "#0d0887"
             ],
             [
              0.1111111111111111,
              "#46039f"
             ],
             [
              0.2222222222222222,
              "#7201a8"
             ],
             [
              0.3333333333333333,
              "#9c179e"
             ],
             [
              0.4444444444444444,
              "#bd3786"
             ],
             [
              0.5555555555555556,
              "#d8576b"
             ],
             [
              0.6666666666666666,
              "#ed7953"
             ],
             [
              0.7777777777777778,
              "#fb9f3a"
             ],
             [
              0.8888888888888888,
              "#fdca26"
             ],
             [
              1,
              "#f0f921"
             ]
            ],
            "type": "histogram2dcontour"
           }
          ],
          "mesh3d": [
           {
            "colorbar": {
             "outlinewidth": 0,
             "ticks": ""
            },
            "type": "mesh3d"
           }
          ],
          "parcoords": [
           {
            "line": {
             "colorbar": {
              "outlinewidth": 0,
              "ticks": ""
             }
            },
            "type": "parcoords"
           }
          ],
          "pie": [
           {
            "automargin": true,
            "type": "pie"
           }
          ],
          "scatter": [
           {
            "marker": {
             "colorbar": {
              "outlinewidth": 0,
              "ticks": ""
             }
            },
            "type": "scatter"
           }
          ],
          "scatter3d": [
           {
            "line": {
             "colorbar": {
              "outlinewidth": 0,
              "ticks": ""
             }
            },
            "marker": {
             "colorbar": {
              "outlinewidth": 0,
              "ticks": ""
             }
            },
            "type": "scatter3d"
           }
          ],
          "scattercarpet": [
           {
            "marker": {
             "colorbar": {
              "outlinewidth": 0,
              "ticks": ""
             }
            },
            "type": "scattercarpet"
           }
          ],
          "scattergeo": [
           {
            "marker": {
             "colorbar": {
              "outlinewidth": 0,
              "ticks": ""
             }
            },
            "type": "scattergeo"
           }
          ],
          "scattergl": [
           {
            "marker": {
             "colorbar": {
              "outlinewidth": 0,
              "ticks": ""
             }
            },
            "type": "scattergl"
           }
          ],
          "scattermapbox": [
           {
            "marker": {
             "colorbar": {
              "outlinewidth": 0,
              "ticks": ""
             }
            },
            "type": "scattermapbox"
           }
          ],
          "scatterpolar": [
           {
            "marker": {
             "colorbar": {
              "outlinewidth": 0,
              "ticks": ""
             }
            },
            "type": "scatterpolar"
           }
          ],
          "scatterpolargl": [
           {
            "marker": {
             "colorbar": {
              "outlinewidth": 0,
              "ticks": ""
             }
            },
            "type": "scatterpolargl"
           }
          ],
          "scatterternary": [
           {
            "marker": {
             "colorbar": {
              "outlinewidth": 0,
              "ticks": ""
             }
            },
            "type": "scatterternary"
           }
          ],
          "surface": [
           {
            "colorbar": {
             "outlinewidth": 0,
             "ticks": ""
            },
            "colorscale": [
             [
              0,
              "#0d0887"
             ],
             [
              0.1111111111111111,
              "#46039f"
             ],
             [
              0.2222222222222222,
              "#7201a8"
             ],
             [
              0.3333333333333333,
              "#9c179e"
             ],
             [
              0.4444444444444444,
              "#bd3786"
             ],
             [
              0.5555555555555556,
              "#d8576b"
             ],
             [
              0.6666666666666666,
              "#ed7953"
             ],
             [
              0.7777777777777778,
              "#fb9f3a"
             ],
             [
              0.8888888888888888,
              "#fdca26"
             ],
             [
              1,
              "#f0f921"
             ]
            ],
            "type": "surface"
           }
          ],
          "table": [
           {
            "cells": {
             "fill": {
              "color": "#EBF0F8"
             },
             "line": {
              "color": "white"
             }
            },
            "header": {
             "fill": {
              "color": "#C8D4E3"
             },
             "line": {
              "color": "white"
             }
            },
            "type": "table"
           }
          ]
         },
         "layout": {
          "annotationdefaults": {
           "arrowcolor": "#2a3f5f",
           "arrowhead": 0,
           "arrowwidth": 1
          },
          "coloraxis": {
           "colorbar": {
            "outlinewidth": 0,
            "ticks": ""
           }
          },
          "colorscale": {
           "diverging": [
            [
             0,
             "#8e0152"
            ],
            [
             0.1,
             "#c51b7d"
            ],
            [
             0.2,
             "#de77ae"
            ],
            [
             0.3,
             "#f1b6da"
            ],
            [
             0.4,
             "#fde0ef"
            ],
            [
             0.5,
             "#f7f7f7"
            ],
            [
             0.6,
             "#e6f5d0"
            ],
            [
             0.7,
             "#b8e186"
            ],
            [
             0.8,
             "#7fbc41"
            ],
            [
             0.9,
             "#4d9221"
            ],
            [
             1,
             "#276419"
            ]
           ],
           "sequential": [
            [
             0,
             "#0d0887"
            ],
            [
             0.1111111111111111,
             "#46039f"
            ],
            [
             0.2222222222222222,
             "#7201a8"
            ],
            [
             0.3333333333333333,
             "#9c179e"
            ],
            [
             0.4444444444444444,
             "#bd3786"
            ],
            [
             0.5555555555555556,
             "#d8576b"
            ],
            [
             0.6666666666666666,
             "#ed7953"
            ],
            [
             0.7777777777777778,
             "#fb9f3a"
            ],
            [
             0.8888888888888888,
             "#fdca26"
            ],
            [
             1,
             "#f0f921"
            ]
           ],
           "sequentialminus": [
            [
             0,
             "#0d0887"
            ],
            [
             0.1111111111111111,
             "#46039f"
            ],
            [
             0.2222222222222222,
             "#7201a8"
            ],
            [
             0.3333333333333333,
             "#9c179e"
            ],
            [
             0.4444444444444444,
             "#bd3786"
            ],
            [
             0.5555555555555556,
             "#d8576b"
            ],
            [
             0.6666666666666666,
             "#ed7953"
            ],
            [
             0.7777777777777778,
             "#fb9f3a"
            ],
            [
             0.8888888888888888,
             "#fdca26"
            ],
            [
             1,
             "#f0f921"
            ]
           ]
          },
          "colorway": [
           "#636efa",
           "#EF553B",
           "#00cc96",
           "#ab63fa",
           "#FFA15A",
           "#19d3f3",
           "#FF6692",
           "#B6E880",
           "#FF97FF",
           "#FECB52"
          ],
          "font": {
           "color": "#2a3f5f"
          },
          "geo": {
           "bgcolor": "white",
           "lakecolor": "white",
           "landcolor": "#E5ECF6",
           "showlakes": true,
           "showland": true,
           "subunitcolor": "white"
          },
          "hoverlabel": {
           "align": "left"
          },
          "hovermode": "closest",
          "mapbox": {
           "style": "light"
          },
          "paper_bgcolor": "white",
          "plot_bgcolor": "#E5ECF6",
          "polar": {
           "angularaxis": {
            "gridcolor": "white",
            "linecolor": "white",
            "ticks": ""
           },
           "bgcolor": "#E5ECF6",
           "radialaxis": {
            "gridcolor": "white",
            "linecolor": "white",
            "ticks": ""
           }
          },
          "scene": {
           "xaxis": {
            "backgroundcolor": "#E5ECF6",
            "gridcolor": "white",
            "gridwidth": 2,
            "linecolor": "white",
            "showbackground": true,
            "ticks": "",
            "zerolinecolor": "white"
           },
           "yaxis": {
            "backgroundcolor": "#E5ECF6",
            "gridcolor": "white",
            "gridwidth": 2,
            "linecolor": "white",
            "showbackground": true,
            "ticks": "",
            "zerolinecolor": "white"
           },
           "zaxis": {
            "backgroundcolor": "#E5ECF6",
            "gridcolor": "white",
            "gridwidth": 2,
            "linecolor": "white",
            "showbackground": true,
            "ticks": "",
            "zerolinecolor": "white"
           }
          },
          "shapedefaults": {
           "line": {
            "color": "#2a3f5f"
           }
          },
          "ternary": {
           "aaxis": {
            "gridcolor": "white",
            "linecolor": "white",
            "ticks": ""
           },
           "baxis": {
            "gridcolor": "white",
            "linecolor": "white",
            "ticks": ""
           },
           "bgcolor": "#E5ECF6",
           "caxis": {
            "gridcolor": "white",
            "linecolor": "white",
            "ticks": ""
           }
          },
          "title": {
           "x": 0.05
          },
          "xaxis": {
           "automargin": true,
           "gridcolor": "white",
           "linecolor": "white",
           "ticks": "",
           "title": {
            "standoff": 15
           },
           "zerolinecolor": "white",
           "zerolinewidth": 2
          },
          "yaxis": {
           "automargin": true,
           "gridcolor": "white",
           "linecolor": "white",
           "ticks": "",
           "title": {
            "standoff": 15
           },
           "zerolinecolor": "white",
           "zerolinewidth": 2
          }
         }
        },
        "xaxis": {
         "anchor": "y",
         "domain": [
          0,
          1
         ],
         "title": {
          "text": "percentile split"
         }
        },
        "yaxis": {
         "anchor": "x",
         "domain": [
          0,
          1
         ],
         "title": {
          "text": "Accuracy"
         }
        }
       }
      },
      "text/html": [
       "<div>\n",
       "        \n",
       "        \n",
       "            <div id=\"bf23e39b-fc8e-4e63-8d5e-bed548f8f667\" class=\"plotly-graph-div\" style=\"height:525px; width:100%;\"></div>\n",
       "            <script type=\"text/javascript\">\n",
       "                require([\"plotly\"], function(Plotly) {\n",
       "                    window.PLOTLYENV=window.PLOTLYENV || {};\n",
       "                    \n",
       "                if (document.getElementById(\"bf23e39b-fc8e-4e63-8d5e-bed548f8f667\")) {\n",
       "                    Plotly.newPlot(\n",
       "                        'bf23e39b-fc8e-4e63-8d5e-bed548f8f667',\n",
       "                        [{\"hovertemplate\": \"variable=mnb<br>index=%{x}<br>value=%{y}<extra></extra>\", \"legendgroup\": \"mnb\", \"line\": {\"color\": \"#636efa\", \"dash\": \"solid\", \"shape\": \"spline\", \"smoothing\": 1}, \"marker\": {\"opacity\": 0.9, \"size\": 10}, \"mode\": \"lines+markers\", \"name\": \"mnb\", \"orientation\": \"v\", \"showlegend\": true, \"type\": \"scatter\", \"x\": [5, 10, 15, 20, 25, 30, 35, 40, 45, 50, 55, 60, 65, 70, 75, 80, 85, 90, 95], \"xaxis\": \"x\", \"y\": [0.9723926380368098, 0.9171779141104295, 0.9110429447852761, 0.8619631901840491, 0.7852760736196319, 0.7668711656441718, 0.7883435582822086, 0.6993865030674846, 0.6748466257668712, 0.665644171779141, 0.6042944785276074, 0.4785276073619632, 0.5920245398773006, 0.5337423312883436, 0.5705521472392638, 0.6717791411042944, 0.6226993865030674, 0.6687116564417178, 0.6840490797546013], \"yaxis\": \"y\"}, {\"hovertemplate\": \"variable=gnb<br>index=%{x}<br>value=%{y}<extra></extra>\", \"legendgroup\": \"gnb\", \"line\": {\"color\": \"#EF553B\", \"dash\": \"solid\", \"shape\": \"spline\", \"smoothing\": 1}, \"marker\": {\"opacity\": 0.9, \"size\": 10}, \"mode\": \"lines+markers\", \"name\": \"gnb\", \"orientation\": \"v\", \"showlegend\": true, \"type\": \"scatter\", \"x\": [5, 10, 15, 20, 25, 30, 35, 40, 45, 50, 55, 60, 65, 70, 75, 80, 85, 90, 95], \"xaxis\": \"x\", \"y\": [0.6104294478527608, 0.49386503067484666, 0.5552147239263803, 0.4815950920245399, 0.5368098159509203, 0.50920245398773, 0.48466257668711654, 0.5153374233128833, 0.5306748466257669, 0.5337423312883436, 0.5306748466257669, 0.5521472392638037, 0.5950920245398773, 0.5276073619631902, 0.558282208588957, 0.6871165644171779, 0.6748466257668712, 0.6901840490797546, 0.6595092024539877], \"yaxis\": \"y\"}, {\"hovertemplate\": \"variable=svm1<br>index=%{x}<br>value=%{y}<extra></extra>\", \"legendgroup\": \"svm1\", \"line\": {\"color\": \"#00cc96\", \"dash\": \"solid\", \"shape\": \"spline\", \"smoothing\": 1}, \"marker\": {\"opacity\": 0.9, \"size\": 10}, \"mode\": \"lines+markers\", \"name\": \"svm1\", \"orientation\": \"v\", \"showlegend\": true, \"type\": \"scatter\", \"x\": [5, 10, 15, 20, 25, 30, 35, 40, 45, 50, 55, 60, 65, 70, 75, 80, 85, 90, 95], \"xaxis\": \"x\", \"y\": [0.9539877300613497, 0.9110429447852761, 0.9263803680981595, 0.8558282208588956, 0.8006134969325154, 0.7914110429447853, 0.7975460122699387, 0.7300613496932515, 0.6748466257668712, 0.588957055214724, 0.6196319018404908, 0.558282208588957, 0.6134969325153374, 0.5368098159509203, 0.6533742331288344, 0.6165644171779141, 0.6901840490797546, 0.7791411042944785, 0.7392638036809815], \"yaxis\": \"y\"}, {\"hovertemplate\": \"variable=svm2<br>index=%{x}<br>value=%{y}<extra></extra>\", \"legendgroup\": \"svm2\", \"line\": {\"color\": \"#ab63fa\", \"dash\": \"solid\", \"shape\": \"spline\", \"smoothing\": 1}, \"marker\": {\"opacity\": 0.9, \"size\": 10}, \"mode\": \"lines+markers\", \"name\": \"svm2\", \"orientation\": \"v\", \"showlegend\": true, \"type\": \"scatter\", \"x\": [5, 10, 15, 20, 25, 30, 35, 40, 45, 50, 55, 60, 65, 70, 75, 80, 85, 90, 95], \"xaxis\": \"x\", \"y\": [0.9785276073619632, 0.9233128834355828, 0.9355828220858895, 0.8711656441717791, 0.7944785276073619, 0.7760736196319018, 0.8067484662576687, 0.7147239263803681, 0.6779141104294478, 0.665644171779141, 0.6257668711656441, 0.5797546012269938, 0.6134969325153374, 0.647239263803681, 0.6809815950920245, 0.7392638036809815, 0.7331288343558282, 0.7699386503067485, 0.7791411042944785], \"yaxis\": \"y\"}, {\"hovertemplate\": \"variable=svm3<br>index=%{x}<br>value=%{y}<extra></extra>\", \"legendgroup\": \"svm3\", \"line\": {\"color\": \"#FFA15A\", \"dash\": \"solid\", \"shape\": \"spline\", \"smoothing\": 1}, \"marker\": {\"opacity\": 0.9, \"size\": 10}, \"mode\": \"lines+markers\", \"name\": \"svm3\", \"orientation\": \"v\", \"showlegend\": true, \"type\": \"scatter\", \"x\": [5, 10, 15, 20, 25, 30, 35, 40, 45, 50, 55, 60, 65, 70, 75, 80, 85, 90, 95], \"xaxis\": \"x\", \"y\": [0.9570552147239264, 0.9294478527607362, 0.9233128834355828, 0.8220858895705522, 0.7668711656441718, 0.7331288343558282, 0.7423312883435583, 0.5061349693251533, 0.6134969325153374, 0.49386503067484666, 0.4355828220858896, 0.5214723926380368, 0.558282208588957, 0.4723926380368098, 0.5644171779141105, 0.6226993865030674, 0.6901840490797546, 0.7147239263803681, 0.7239263803680982], \"yaxis\": \"y\"}, {\"hovertemplate\": \"variable=ada<br>index=%{x}<br>value=%{y}<extra></extra>\", \"legendgroup\": \"ada\", \"line\": {\"color\": \"#19d3f3\", \"dash\": \"solid\", \"shape\": \"spline\", \"smoothing\": 1}, \"marker\": {\"opacity\": 0.9, \"size\": 10}, \"mode\": \"lines+markers\", \"name\": \"ada\", \"orientation\": \"v\", \"showlegend\": true, \"type\": \"scatter\", \"x\": [5, 10, 15, 20, 25, 30, 35, 40, 45, 50, 55, 60, 65, 70, 75, 80, 85, 90, 95], \"xaxis\": \"x\", \"y\": [0.9539877300613497, 0.9263803680981595, 0.8895705521472392, 0.8067484662576687, 0.7730061349693251, 0.7546012269938651, 0.6993865030674846, 0.7024539877300613, 0.6871165644171779, 0.656441717791411, 0.6226993865030674, 0.6319018404907976, 0.6779141104294478, 0.696319018404908, 0.6533742331288344, 0.6901840490797546, 0.7116564417177914, 0.7361963190184049, 0.7760736196319018], \"yaxis\": \"y\"}, {\"hovertemplate\": \"variable=dtc<br>index=%{x}<br>value=%{y}<extra></extra>\", \"legendgroup\": \"dtc\", \"line\": {\"color\": \"#FF6692\", \"dash\": \"solid\", \"shape\": \"spline\", \"smoothing\": 1}, \"marker\": {\"opacity\": 0.9, \"size\": 10}, \"mode\": \"lines+markers\", \"name\": \"dtc\", \"orientation\": \"v\", \"showlegend\": true, \"type\": \"scatter\", \"x\": [5, 10, 15, 20, 25, 30, 35, 40, 45, 50, 55, 60, 65, 70, 75, 80, 85, 90, 95], \"xaxis\": \"x\", \"y\": [0.9171779141104295, 0.8404907975460123, 0.8834355828220859, 0.7822085889570551, 0.6809815950920246, 0.6840490797546013, 0.6871165644171779, 0.6319018404907975, 0.6257668711656441, 0.6319018404907975, 0.5552147239263804, 0.6104294478527608, 0.5797546012269938, 0.5889570552147239, 0.6165644171779141, 0.6411042944785276, 0.6533742331288344, 0.7484662576687117, 0.7331288343558282], \"yaxis\": \"y\"}, {\"hovertemplate\": \"variable=rfc<br>index=%{x}<br>value=%{y}<extra></extra>\", \"legendgroup\": \"rfc\", \"line\": {\"color\": \"#B6E880\", \"dash\": \"solid\", \"shape\": \"spline\", \"smoothing\": 1}, \"marker\": {\"opacity\": 0.9, \"size\": 10}, \"mode\": \"lines+markers\", \"name\": \"rfc\", \"orientation\": \"v\", \"showlegend\": true, \"type\": \"scatter\", \"x\": [5, 10, 15, 20, 25, 30, 35, 40, 45, 50, 55, 60, 65, 70, 75, 80, 85, 90, 95], \"xaxis\": \"x\", \"y\": [0.9601226993865031, 0.9294478527607362, 0.9202453987730062, 0.8374233128834356, 0.7730061349693251, 0.7361963190184049, 0.7515337423312883, 0.7361963190184049, 0.6840490797546013, 0.6809815950920246, 0.6319018404907976, 0.656441717791411, 0.6717791411042945, 0.6993865030674846, 0.6625766871165644, 0.7300613496932515, 0.7607361963190185, 0.7668711656441718, 0.7484662576687117], \"yaxis\": \"y\"}, {\"hovertemplate\": \"variable=gbc<br>index=%{x}<br>value=%{y}<extra></extra>\", \"legendgroup\": \"gbc\", \"line\": {\"color\": \"#FF97FF\", \"dash\": \"solid\", \"shape\": \"spline\", \"smoothing\": 1}, \"marker\": {\"opacity\": 0.9, \"size\": 10}, \"mode\": \"lines+markers\", \"name\": \"gbc\", \"orientation\": \"v\", \"showlegend\": true, \"type\": \"scatter\", \"x\": [5, 10, 15, 20, 25, 30, 35, 40, 45, 50, 55, 60, 65, 70, 75, 80, 85, 90, 95], \"xaxis\": \"x\", \"y\": [0.9539877300613497, 0.9355828220858896, 0.9202453987730062, 0.8650306748466258, 0.7883435582822086, 0.7484662576687117, 0.7361963190184049, 0.7239263803680982, 0.6901840490797546, 0.6595092024539877, 0.6840490797546013, 0.6165644171779141, 0.6932515337423313, 0.6134969325153374, 0.7024539877300613, 0.7177914110429449, 0.7607361963190185, 0.7668711656441718, 0.7638036809815951], \"yaxis\": \"y\"}, {\"hovertemplate\": \"variable=lr<br>index=%{x}<br>value=%{y}<extra></extra>\", \"legendgroup\": \"lr\", \"line\": {\"color\": \"#FECB52\", \"dash\": \"solid\", \"shape\": \"spline\", \"smoothing\": 1}, \"marker\": {\"opacity\": 0.9, \"size\": 10}, \"mode\": \"lines+markers\", \"name\": \"lr\", \"orientation\": \"v\", \"showlegend\": true, \"type\": \"scatter\", \"x\": [5, 10, 15, 20, 25, 30, 35, 40, 45, 50, 55, 60, 65, 70, 75, 80, 85, 90, 95], \"xaxis\": \"x\", \"y\": [0.9785276073619631, 0.9141104294478528, 0.9417177914110428, 0.8619631901840491, 0.8374233128834356, 0.7791411042944785, 0.8067484662576687, 0.7085889570552147, 0.6625766871165644, 0.5797546012269938, 0.5950920245398773, 0.5766871165644172, 0.6042944785276074, 0.6042944785276073, 0.6441717791411042, 0.7331288343558282, 0.7453987730061349, 0.7852760736196318, 0.7791411042944785], \"yaxis\": \"y\"}],\n",
       "                        {\"legend\": {\"title\": {\"text\": \"Algorithm\"}, \"tracegroupgap\": 0}, \"margin\": {\"t\": 60}, \"template\": {\"data\": {\"bar\": [{\"error_x\": {\"color\": \"#2a3f5f\"}, \"error_y\": {\"color\": \"#2a3f5f\"}, \"marker\": {\"line\": {\"color\": \"#E5ECF6\", \"width\": 0.5}}, \"type\": \"bar\"}], \"barpolar\": [{\"marker\": {\"line\": {\"color\": \"#E5ECF6\", \"width\": 0.5}}, \"type\": \"barpolar\"}], \"carpet\": [{\"aaxis\": {\"endlinecolor\": \"#2a3f5f\", \"gridcolor\": \"white\", \"linecolor\": \"white\", \"minorgridcolor\": \"white\", \"startlinecolor\": \"#2a3f5f\"}, \"baxis\": {\"endlinecolor\": \"#2a3f5f\", \"gridcolor\": \"white\", \"linecolor\": \"white\", \"minorgridcolor\": \"white\", \"startlinecolor\": \"#2a3f5f\"}, \"type\": \"carpet\"}], \"choropleth\": [{\"colorbar\": {\"outlinewidth\": 0, \"ticks\": \"\"}, \"type\": \"choropleth\"}], \"contour\": [{\"colorbar\": {\"outlinewidth\": 0, \"ticks\": \"\"}, \"colorscale\": [[0.0, \"#0d0887\"], [0.1111111111111111, \"#46039f\"], [0.2222222222222222, \"#7201a8\"], [0.3333333333333333, \"#9c179e\"], [0.4444444444444444, \"#bd3786\"], [0.5555555555555556, \"#d8576b\"], [0.6666666666666666, \"#ed7953\"], [0.7777777777777778, \"#fb9f3a\"], [0.8888888888888888, \"#fdca26\"], [1.0, \"#f0f921\"]], \"type\": \"contour\"}], \"contourcarpet\": [{\"colorbar\": {\"outlinewidth\": 0, \"ticks\": \"\"}, \"type\": \"contourcarpet\"}], \"heatmap\": [{\"colorbar\": {\"outlinewidth\": 0, \"ticks\": \"\"}, \"colorscale\": [[0.0, \"#0d0887\"], [0.1111111111111111, \"#46039f\"], [0.2222222222222222, \"#7201a8\"], [0.3333333333333333, \"#9c179e\"], [0.4444444444444444, \"#bd3786\"], [0.5555555555555556, \"#d8576b\"], [0.6666666666666666, \"#ed7953\"], [0.7777777777777778, \"#fb9f3a\"], [0.8888888888888888, \"#fdca26\"], [1.0, \"#f0f921\"]], \"type\": \"heatmap\"}], \"heatmapgl\": [{\"colorbar\": {\"outlinewidth\": 0, \"ticks\": \"\"}, \"colorscale\": [[0.0, \"#0d0887\"], [0.1111111111111111, \"#46039f\"], [0.2222222222222222, \"#7201a8\"], [0.3333333333333333, \"#9c179e\"], [0.4444444444444444, \"#bd3786\"], [0.5555555555555556, \"#d8576b\"], [0.6666666666666666, \"#ed7953\"], [0.7777777777777778, \"#fb9f3a\"], [0.8888888888888888, \"#fdca26\"], [1.0, \"#f0f921\"]], \"type\": \"heatmapgl\"}], \"histogram\": [{\"marker\": {\"colorbar\": {\"outlinewidth\": 0, \"ticks\": \"\"}}, \"type\": \"histogram\"}], \"histogram2d\": [{\"colorbar\": {\"outlinewidth\": 0, \"ticks\": \"\"}, \"colorscale\": [[0.0, \"#0d0887\"], [0.1111111111111111, \"#46039f\"], [0.2222222222222222, \"#7201a8\"], [0.3333333333333333, \"#9c179e\"], [0.4444444444444444, \"#bd3786\"], [0.5555555555555556, \"#d8576b\"], [0.6666666666666666, \"#ed7953\"], [0.7777777777777778, \"#fb9f3a\"], [0.8888888888888888, \"#fdca26\"], [1.0, \"#f0f921\"]], \"type\": \"histogram2d\"}], \"histogram2dcontour\": [{\"colorbar\": {\"outlinewidth\": 0, \"ticks\": \"\"}, \"colorscale\": [[0.0, \"#0d0887\"], [0.1111111111111111, \"#46039f\"], [0.2222222222222222, \"#7201a8\"], [0.3333333333333333, \"#9c179e\"], [0.4444444444444444, \"#bd3786\"], [0.5555555555555556, \"#d8576b\"], [0.6666666666666666, \"#ed7953\"], [0.7777777777777778, \"#fb9f3a\"], [0.8888888888888888, \"#fdca26\"], [1.0, \"#f0f921\"]], \"type\": \"histogram2dcontour\"}], \"mesh3d\": [{\"colorbar\": {\"outlinewidth\": 0, \"ticks\": \"\"}, \"type\": \"mesh3d\"}], \"parcoords\": [{\"line\": {\"colorbar\": {\"outlinewidth\": 0, \"ticks\": \"\"}}, \"type\": \"parcoords\"}], \"pie\": [{\"automargin\": true, \"type\": \"pie\"}], \"scatter\": [{\"marker\": {\"colorbar\": {\"outlinewidth\": 0, \"ticks\": \"\"}}, \"type\": \"scatter\"}], \"scatter3d\": [{\"line\": {\"colorbar\": {\"outlinewidth\": 0, \"ticks\": \"\"}}, \"marker\": {\"colorbar\": {\"outlinewidth\": 0, \"ticks\": \"\"}}, \"type\": \"scatter3d\"}], \"scattercarpet\": [{\"marker\": {\"colorbar\": {\"outlinewidth\": 0, \"ticks\": \"\"}}, \"type\": \"scattercarpet\"}], \"scattergeo\": [{\"marker\": {\"colorbar\": {\"outlinewidth\": 0, \"ticks\": \"\"}}, \"type\": \"scattergeo\"}], \"scattergl\": [{\"marker\": {\"colorbar\": {\"outlinewidth\": 0, \"ticks\": \"\"}}, \"type\": \"scattergl\"}], \"scattermapbox\": [{\"marker\": {\"colorbar\": {\"outlinewidth\": 0, \"ticks\": \"\"}}, \"type\": \"scattermapbox\"}], \"scatterpolar\": [{\"marker\": {\"colorbar\": {\"outlinewidth\": 0, \"ticks\": \"\"}}, \"type\": \"scatterpolar\"}], \"scatterpolargl\": [{\"marker\": {\"colorbar\": {\"outlinewidth\": 0, \"ticks\": \"\"}}, \"type\": \"scatterpolargl\"}], \"scatterternary\": [{\"marker\": {\"colorbar\": {\"outlinewidth\": 0, \"ticks\": \"\"}}, \"type\": \"scatterternary\"}], \"surface\": [{\"colorbar\": {\"outlinewidth\": 0, \"ticks\": \"\"}, \"colorscale\": [[0.0, \"#0d0887\"], [0.1111111111111111, \"#46039f\"], [0.2222222222222222, \"#7201a8\"], [0.3333333333333333, \"#9c179e\"], [0.4444444444444444, \"#bd3786\"], [0.5555555555555556, \"#d8576b\"], [0.6666666666666666, \"#ed7953\"], [0.7777777777777778, \"#fb9f3a\"], [0.8888888888888888, \"#fdca26\"], [1.0, \"#f0f921\"]], \"type\": \"surface\"}], \"table\": [{\"cells\": {\"fill\": {\"color\": \"#EBF0F8\"}, \"line\": {\"color\": \"white\"}}, \"header\": {\"fill\": {\"color\": \"#C8D4E3\"}, \"line\": {\"color\": \"white\"}}, \"type\": \"table\"}]}, \"layout\": {\"annotationdefaults\": {\"arrowcolor\": \"#2a3f5f\", \"arrowhead\": 0, \"arrowwidth\": 1}, \"coloraxis\": {\"colorbar\": {\"outlinewidth\": 0, \"ticks\": \"\"}}, \"colorscale\": {\"diverging\": [[0, \"#8e0152\"], [0.1, \"#c51b7d\"], [0.2, \"#de77ae\"], [0.3, \"#f1b6da\"], [0.4, \"#fde0ef\"], [0.5, \"#f7f7f7\"], [0.6, \"#e6f5d0\"], [0.7, \"#b8e186\"], [0.8, \"#7fbc41\"], [0.9, \"#4d9221\"], [1, \"#276419\"]], \"sequential\": [[0.0, \"#0d0887\"], [0.1111111111111111, \"#46039f\"], [0.2222222222222222, \"#7201a8\"], [0.3333333333333333, \"#9c179e\"], [0.4444444444444444, \"#bd3786\"], [0.5555555555555556, \"#d8576b\"], [0.6666666666666666, \"#ed7953\"], [0.7777777777777778, \"#fb9f3a\"], [0.8888888888888888, \"#fdca26\"], [1.0, \"#f0f921\"]], \"sequentialminus\": [[0.0, \"#0d0887\"], [0.1111111111111111, \"#46039f\"], [0.2222222222222222, \"#7201a8\"], [0.3333333333333333, \"#9c179e\"], [0.4444444444444444, \"#bd3786\"], [0.5555555555555556, \"#d8576b\"], [0.6666666666666666, \"#ed7953\"], [0.7777777777777778, \"#fb9f3a\"], [0.8888888888888888, \"#fdca26\"], [1.0, \"#f0f921\"]]}, \"colorway\": [\"#636efa\", \"#EF553B\", \"#00cc96\", \"#ab63fa\", \"#FFA15A\", \"#19d3f3\", \"#FF6692\", \"#B6E880\", \"#FF97FF\", \"#FECB52\"], \"font\": {\"color\": \"#2a3f5f\"}, \"geo\": {\"bgcolor\": \"white\", \"lakecolor\": \"white\", \"landcolor\": \"#E5ECF6\", \"showlakes\": true, \"showland\": true, \"subunitcolor\": \"white\"}, \"hoverlabel\": {\"align\": \"left\"}, \"hovermode\": \"closest\", \"mapbox\": {\"style\": \"light\"}, \"paper_bgcolor\": \"white\", \"plot_bgcolor\": \"#E5ECF6\", \"polar\": {\"angularaxis\": {\"gridcolor\": \"white\", \"linecolor\": \"white\", \"ticks\": \"\"}, \"bgcolor\": \"#E5ECF6\", \"radialaxis\": {\"gridcolor\": \"white\", \"linecolor\": \"white\", \"ticks\": \"\"}}, \"scene\": {\"xaxis\": {\"backgroundcolor\": \"#E5ECF6\", \"gridcolor\": \"white\", \"gridwidth\": 2, \"linecolor\": \"white\", \"showbackground\": true, \"ticks\": \"\", \"zerolinecolor\": \"white\"}, \"yaxis\": {\"backgroundcolor\": \"#E5ECF6\", \"gridcolor\": \"white\", \"gridwidth\": 2, \"linecolor\": \"white\", \"showbackground\": true, \"ticks\": \"\", \"zerolinecolor\": \"white\"}, \"zaxis\": {\"backgroundcolor\": \"#E5ECF6\", \"gridcolor\": \"white\", \"gridwidth\": 2, \"linecolor\": \"white\", \"showbackground\": true, \"ticks\": \"\", \"zerolinecolor\": \"white\"}}, \"shapedefaults\": {\"line\": {\"color\": \"#2a3f5f\"}}, \"ternary\": {\"aaxis\": {\"gridcolor\": \"white\", \"linecolor\": \"white\", \"ticks\": \"\"}, \"baxis\": {\"gridcolor\": \"white\", \"linecolor\": \"white\", \"ticks\": \"\"}, \"bgcolor\": \"#E5ECF6\", \"caxis\": {\"gridcolor\": \"white\", \"linecolor\": \"white\", \"ticks\": \"\"}}, \"title\": {\"x\": 0.05}, \"xaxis\": {\"automargin\": true, \"gridcolor\": \"white\", \"linecolor\": \"white\", \"ticks\": \"\", \"title\": {\"standoff\": 15}, \"zerolinecolor\": \"white\", \"zerolinewidth\": 2}, \"yaxis\": {\"automargin\": true, \"gridcolor\": \"white\", \"linecolor\": \"white\", \"ticks\": \"\", \"title\": {\"standoff\": 15}, \"zerolinecolor\": \"white\", \"zerolinewidth\": 2}}}, \"xaxis\": {\"anchor\": \"y\", \"domain\": [0.0, 1.0], \"title\": {\"text\": \"percentile split\"}}, \"yaxis\": {\"anchor\": \"x\", \"domain\": [0.0, 1.0], \"title\": {\"text\": \"Accuracy\"}}},\n",
       "                        {\"responsive\": true}\n",
       "                    ).then(function(){\n",
       "                            \n",
       "var gd = document.getElementById('bf23e39b-fc8e-4e63-8d5e-bed548f8f667');\n",
       "var x = new MutationObserver(function (mutations, observer) {{\n",
       "        var display = window.getComputedStyle(gd).display;\n",
       "        if (!display || display === 'none') {{\n",
       "            console.log([gd, 'removed!']);\n",
       "            Plotly.purge(gd);\n",
       "            observer.disconnect();\n",
       "        }}\n",
       "}});\n",
       "\n",
       "// Listen for the removal of the full notebook cells\n",
       "var notebookContainer = gd.closest('#notebook-container');\n",
       "if (notebookContainer) {{\n",
       "    x.observe(notebookContainer, {childList: true});\n",
       "}}\n",
       "\n",
       "// Listen for the clearing of the current output cell\n",
       "var outputEl = gd.closest('.output');\n",
       "if (outputEl) {{\n",
       "    x.observe(outputEl, {childList: true});\n",
       "}}\n",
       "\n",
       "                        })\n",
       "                };\n",
       "                });\n",
       "            </script>\n",
       "        </div>"
      ]
     },
     "metadata": {},
     "output_type": "display_data"
    }
   ],
   "source": [
    "fig = px.line(pd.DataFrame(accuracies_per_clf))\n",
    "fig.update_layout(\n",
    "    yaxis_title=\"Accuracy\",\n",
    "    xaxis_title=\"percentile split\",\n",
    "    legend_title_text='Algorithm'\n",
    ")\n",
    "fig.update_traces(line_traces)\n",
    "\n",
    "fig.show()"
   ]
  },
  {
   "cell_type": "code",
   "execution_count": 42,
   "metadata": {},
   "outputs": [
    {
     "data": {
      "application/vnd.plotly.v1+json": {
       "config": {
        "plotlyServerURL": "https://plot.ly"
       },
       "data": [
        {
         "hovertemplate": "variable=mnb<br>index=%{x}<br>value=%{y}<extra></extra>",
         "legendgroup": "mnb",
         "line": {
          "color": "#636efa",
          "dash": "solid",
          "shape": "spline",
          "smoothing": 1
         },
         "marker": {
          "opacity": 0.9,
          "size": 10
         },
         "mode": "lines+markers",
         "name": "mnb",
         "orientation": "v",
         "showlegend": true,
         "type": "scatter",
         "x": [
          5,
          10,
          15,
          20,
          25,
          30,
          35,
          40,
          45,
          50,
          55,
          60,
          65,
          70,
          75,
          80,
          85,
          90,
          95
         ],
         "xaxis": "x",
         "y": [
          0.01371255,
          0.04268880000000008,
          0.017733350000000092,
          0.013409100000000063,
          0.010605600000000326,
          0.011655900000000052,
          0.011885850000000087,
          0.01102259999999955,
          0.01196690000000089,
          0.010915950000001118,
          0.010370899999998962,
          0.02135000000000087,
          0.010709350000000839,
          0.010327650000002464,
          0.01015745000000301,
          0.010031299999999632,
          0.010522549999999242,
          0.010794250000000005,
          0.010738400000001036
         ],
         "yaxis": "y"
        },
        {
         "hovertemplate": "variable=gnb<br>index=%{x}<br>value=%{y}<extra></extra>",
         "legendgroup": "gnb",
         "line": {
          "color": "#EF553B",
          "dash": "solid",
          "shape": "spline",
          "smoothing": 1
         },
         "marker": {
          "opacity": 0.9,
          "size": 10
         },
         "mode": "lines+markers",
         "name": "gnb",
         "orientation": "v",
         "showlegend": true,
         "type": "scatter",
         "x": [
          5,
          10,
          15,
          20,
          25,
          30,
          35,
          40,
          45,
          50,
          55,
          60,
          65,
          70,
          75,
          80,
          85,
          90,
          95
         ],
         "xaxis": "x",
         "y": [
          0.01055875,
          0.035315100000000044,
          0.01795935000000015,
          0.013661499999999771,
          0.011010199999999415,
          0.010410199999999925,
          0.010982700000000012,
          0.01023934999999998,
          0.011823650000000185,
          0.01253990000000016,
          0.010556199999999905,
          0.012436749999999996,
          0.01031809999999922,
          0.010080600000000217,
          0.010220199999997348,
          0.010454149999999274,
          0.010465549999999268,
          0.011383600000000271,
          0.010542900000002575
         ],
         "yaxis": "y"
        },
        {
         "hovertemplate": "variable=svm1<br>index=%{x}<br>value=%{y}<extra></extra>",
         "legendgroup": "svm1",
         "line": {
          "color": "#00cc96",
          "dash": "solid",
          "shape": "spline",
          "smoothing": 1
         },
         "marker": {
          "opacity": 0.9,
          "size": 10
         },
         "mode": "lines+markers",
         "name": "svm1",
         "orientation": "v",
         "showlegend": true,
         "type": "scatter",
         "x": [
          5,
          10,
          15,
          20,
          25,
          30,
          35,
          40,
          45,
          50,
          55,
          60,
          65,
          70,
          75,
          80,
          85,
          90,
          95
         ],
         "xaxis": "x",
         "y": [
          0.011976600000000004,
          0.048421049999999966,
          0.01452164999999983,
          0.024299649999999895,
          0.023919100000000082,
          0.027142700000000186,
          0.02685404999999985,
          0.03192394999999948,
          0.034668299999999874,
          0.027603749999999927,
          0.02418905000000038,
          0.021478600000000014,
          0.021429450000000294,
          0.01743040000000029,
          0.01709629999999862,
          0.01919424999999997,
          0.017500749999999954,
          0.015677349999998924,
          0.015012049999999277
         ],
         "yaxis": "y"
        },
        {
         "hovertemplate": "variable=svm2<br>index=%{x}<br>value=%{y}<extra></extra>",
         "legendgroup": "svm2",
         "line": {
          "color": "#ab63fa",
          "dash": "solid",
          "shape": "spline",
          "smoothing": 1
         },
         "marker": {
          "opacity": 0.9,
          "size": 10
         },
         "mode": "lines+markers",
         "name": "svm2",
         "orientation": "v",
         "showlegend": true,
         "type": "scatter",
         "x": [
          5,
          10,
          15,
          20,
          25,
          30,
          35,
          40,
          45,
          50,
          55,
          60,
          65,
          70,
          75,
          80,
          85,
          90,
          95
         ],
         "xaxis": "x",
         "y": [
          0.0141831,
          0.0567981500000001,
          0.0217601500000002,
          0.025143499999999985,
          0.027270050000000268,
          0.02543659999999992,
          0.024911750000000232,
          0.02322434999999956,
          0.025664749999999792,
          0.022520699999999394,
          0.026499199999999945,
          0.036075199999999974,
          0.02373570000000047,
          0.02122604999999922,
          0.021140100000001993,
          0.021104199999999906,
          0.022950600000001486,
          0.019633250000001823,
          0.01853484999999999
         ],
         "yaxis": "y"
        },
        {
         "hovertemplate": "variable=svm3<br>index=%{x}<br>value=%{y}<extra></extra>",
         "legendgroup": "svm3",
         "line": {
          "color": "#FFA15A",
          "dash": "solid",
          "shape": "spline",
          "smoothing": 1
         },
         "marker": {
          "opacity": 0.9,
          "size": 10
         },
         "mode": "lines+markers",
         "name": "svm3",
         "orientation": "v",
         "showlegend": true,
         "type": "scatter",
         "x": [
          5,
          10,
          15,
          20,
          25,
          30,
          35,
          40,
          45,
          50,
          55,
          60,
          65,
          70,
          75,
          80,
          85,
          90,
          95
         ],
         "xaxis": "x",
         "y": [
          0.011840200000000002,
          0.017811450000000062,
          0.01648795000000014,
          0.016955699999999574,
          0.01938130000000049,
          0.021214150000000043,
          0.022959550000000384,
          0.028778400000000204,
          0.02680859999999985,
          0.026156300000000243,
          0.027668649999998962,
          0.027892550000000682,
          0.026372450000001102,
          0.023274950000001127,
          0.023229999999999862,
          0.023443599999998455,
          0.023948650000001237,
          0.02110490000000098,
          0.019206549999999822
         ],
         "yaxis": "y"
        },
        {
         "hovertemplate": "variable=ada<br>index=%{x}<br>value=%{y}<extra></extra>",
         "legendgroup": "ada",
         "line": {
          "color": "#19d3f3",
          "dash": "solid",
          "shape": "spline",
          "smoothing": 1
         },
         "marker": {
          "opacity": 0.9,
          "size": 10
         },
         "mode": "lines+markers",
         "name": "ada",
         "orientation": "v",
         "showlegend": true,
         "type": "scatter",
         "x": [
          5,
          10,
          15,
          20,
          25,
          30,
          35,
          40,
          45,
          50,
          55,
          60,
          65,
          70,
          75,
          80,
          85,
          90,
          95
         ],
         "xaxis": "x",
         "y": [
          0.20935965,
          0.2283885000000001,
          0.19898910000000014,
          0.1846053999999997,
          0.19260395000000008,
          0.1941897500000005,
          0.19327055000000026,
          0.19070200000000082,
          0.2028175499999998,
          0.19745335000000086,
          0.20083760000000073,
          0.256671400000001,
          0.20294480000000004,
          0.17864515000000125,
          0.17966930000000048,
          0.20015340000000137,
          0.17507994999999887,
          0.17748805000000267,
          0.17497974999999855
         ],
         "yaxis": "y"
        },
        {
         "hovertemplate": "variable=dtc<br>index=%{x}<br>value=%{y}<extra></extra>",
         "legendgroup": "dtc",
         "line": {
          "color": "#FF6692",
          "dash": "solid",
          "shape": "spline",
          "smoothing": 1
         },
         "marker": {
          "opacity": 0.9,
          "size": 10
         },
         "mode": "lines+markers",
         "name": "dtc",
         "orientation": "v",
         "showlegend": true,
         "type": "scatter",
         "x": [
          5,
          10,
          15,
          20,
          25,
          30,
          35,
          40,
          45,
          50,
          55,
          60,
          65,
          70,
          75,
          80,
          85,
          90,
          95
         ],
         "xaxis": "x",
         "y": [
          0.01150190000000001,
          0.0135942,
          0.01427859999999992,
          0.01434129999999989,
          0.014457250000000421,
          0.015137000000000178,
          0.014180650000001016,
          0.01708494999999921,
          0.01779590000000031,
          0.014606099999999955,
          0.01546610000000026,
          0.016515849999999332,
          0.01969405000000002,
          0.014261100000002358,
          0.017322949999998727,
          0.014596649999999656,
          0.014987250000000785,
          0.014667049999999904,
          0.014924099999999996
         ],
         "yaxis": "y"
        },
        {
         "hovertemplate": "variable=rfc<br>index=%{x}<br>value=%{y}<extra></extra>",
         "legendgroup": "rfc",
         "line": {
          "color": "#B6E880",
          "dash": "solid",
          "shape": "spline",
          "smoothing": 1
         },
         "marker": {
          "opacity": 0.9,
          "size": 10
         },
         "mode": "lines+markers",
         "name": "rfc",
         "orientation": "v",
         "showlegend": true,
         "type": "scatter",
         "x": [
          5,
          10,
          15,
          20,
          25,
          30,
          35,
          40,
          45,
          50,
          55,
          60,
          65,
          70,
          75,
          80,
          85,
          90,
          95
         ],
         "xaxis": "x",
         "y": [
          0.29687145,
          0.29896790000000006,
          0.30552334999999986,
          0.32153604999999974,
          0.32914920000000025,
          0.37180299999999944,
          0.34691070000000046,
          0.3833358000000002,
          0.3722677999999995,
          0.3842110500000011,
          0.35058714999999996,
          0.3738475499999998,
          0.3761306500000021,
          0.3418756000000016,
          0.3355672500000004,
          0.3319496500000003,
          0.32422340000000105,
          0.3269348999999995,
          0.31926275000000004
         ],
         "yaxis": "y"
        },
        {
         "hovertemplate": "variable=gbc<br>index=%{x}<br>value=%{y}<extra></extra>",
         "legendgroup": "gbc",
         "line": {
          "color": "#FF97FF",
          "dash": "solid",
          "shape": "spline",
          "smoothing": 1
         },
         "marker": {
          "opacity": 0.9,
          "size": 10
         },
         "mode": "lines+markers",
         "name": "gbc",
         "orientation": "v",
         "showlegend": true,
         "type": "scatter",
         "x": [
          5,
          10,
          15,
          20,
          25,
          30,
          35,
          40,
          45,
          50,
          55,
          60,
          65,
          70,
          75,
          80,
          85,
          90,
          95
         ],
         "xaxis": "x",
         "y": [
          0.27655055,
          0.37746560000000007,
          0.29153724999999997,
          0.27828804999999956,
          0.2679437,
          0.2874138500000001,
          0.28328804999999946,
          0.29082640000000026,
          0.284930150000001,
          0.2701350999999992,
          0.28553614999999954,
          0.31104270000000067,
          0.2669308500000014,
          0.2662909000000031,
          0.26058930000000124,
          0.2612707499999978,
          0.26690720000000034,
          0.27110584999999965,
          0.2677329499999992
         ],
         "yaxis": "y"
        },
        {
         "hovertemplate": "variable=lr<br>index=%{x}<br>value=%{y}<extra></extra>",
         "legendgroup": "lr",
         "line": {
          "color": "#FECB52",
          "dash": "solid",
          "shape": "spline",
          "smoothing": 1
         },
         "marker": {
          "opacity": 0.9,
          "size": 10
         },
         "mode": "lines+markers",
         "name": "lr",
         "orientation": "v",
         "showlegend": true,
         "type": "scatter",
         "x": [
          5,
          10,
          15,
          20,
          25,
          30,
          35,
          40,
          45,
          50,
          55,
          60,
          65,
          70,
          75,
          80,
          85,
          90,
          95
         ],
         "xaxis": "x",
         "y": [
          0.01777704999999996,
          0.03008605000000042,
          0.018894499999999814,
          0.017018399999999545,
          0.017468599999999945,
          0.018422749999999155,
          0.018168000000000184,
          0.019460350000000126,
          0.01823544999999971,
          0.017102249999999763,
          0.022281700000000626,
          0.015273799999999227,
          0.016153149999999172,
          0.015875650000001684,
          0.014390199999999354,
          0.016087600000000535,
          0.018511450000001872,
          0.018678350000000066,
          0.017755100000002244
         ],
         "yaxis": "y"
        }
       ],
       "layout": {
        "legend": {
         "title": {
          "text": "Algorithm"
         },
         "tracegroupgap": 0
        },
        "margin": {
         "t": 60
        },
        "template": {
         "data": {
          "bar": [
           {
            "error_x": {
             "color": "#2a3f5f"
            },
            "error_y": {
             "color": "#2a3f5f"
            },
            "marker": {
             "line": {
              "color": "#E5ECF6",
              "width": 0.5
             }
            },
            "type": "bar"
           }
          ],
          "barpolar": [
           {
            "marker": {
             "line": {
              "color": "#E5ECF6",
              "width": 0.5
             }
            },
            "type": "barpolar"
           }
          ],
          "carpet": [
           {
            "aaxis": {
             "endlinecolor": "#2a3f5f",
             "gridcolor": "white",
             "linecolor": "white",
             "minorgridcolor": "white",
             "startlinecolor": "#2a3f5f"
            },
            "baxis": {
             "endlinecolor": "#2a3f5f",
             "gridcolor": "white",
             "linecolor": "white",
             "minorgridcolor": "white",
             "startlinecolor": "#2a3f5f"
            },
            "type": "carpet"
           }
          ],
          "choropleth": [
           {
            "colorbar": {
             "outlinewidth": 0,
             "ticks": ""
            },
            "type": "choropleth"
           }
          ],
          "contour": [
           {
            "colorbar": {
             "outlinewidth": 0,
             "ticks": ""
            },
            "colorscale": [
             [
              0,
              "#0d0887"
             ],
             [
              0.1111111111111111,
              "#46039f"
             ],
             [
              0.2222222222222222,
              "#7201a8"
             ],
             [
              0.3333333333333333,
              "#9c179e"
             ],
             [
              0.4444444444444444,
              "#bd3786"
             ],
             [
              0.5555555555555556,
              "#d8576b"
             ],
             [
              0.6666666666666666,
              "#ed7953"
             ],
             [
              0.7777777777777778,
              "#fb9f3a"
             ],
             [
              0.8888888888888888,
              "#fdca26"
             ],
             [
              1,
              "#f0f921"
             ]
            ],
            "type": "contour"
           }
          ],
          "contourcarpet": [
           {
            "colorbar": {
             "outlinewidth": 0,
             "ticks": ""
            },
            "type": "contourcarpet"
           }
          ],
          "heatmap": [
           {
            "colorbar": {
             "outlinewidth": 0,
             "ticks": ""
            },
            "colorscale": [
             [
              0,
              "#0d0887"
             ],
             [
              0.1111111111111111,
              "#46039f"
             ],
             [
              0.2222222222222222,
              "#7201a8"
             ],
             [
              0.3333333333333333,
              "#9c179e"
             ],
             [
              0.4444444444444444,
              "#bd3786"
             ],
             [
              0.5555555555555556,
              "#d8576b"
             ],
             [
              0.6666666666666666,
              "#ed7953"
             ],
             [
              0.7777777777777778,
              "#fb9f3a"
             ],
             [
              0.8888888888888888,
              "#fdca26"
             ],
             [
              1,
              "#f0f921"
             ]
            ],
            "type": "heatmap"
           }
          ],
          "heatmapgl": [
           {
            "colorbar": {
             "outlinewidth": 0,
             "ticks": ""
            },
            "colorscale": [
             [
              0,
              "#0d0887"
             ],
             [
              0.1111111111111111,
              "#46039f"
             ],
             [
              0.2222222222222222,
              "#7201a8"
             ],
             [
              0.3333333333333333,
              "#9c179e"
             ],
             [
              0.4444444444444444,
              "#bd3786"
             ],
             [
              0.5555555555555556,
              "#d8576b"
             ],
             [
              0.6666666666666666,
              "#ed7953"
             ],
             [
              0.7777777777777778,
              "#fb9f3a"
             ],
             [
              0.8888888888888888,
              "#fdca26"
             ],
             [
              1,
              "#f0f921"
             ]
            ],
            "type": "heatmapgl"
           }
          ],
          "histogram": [
           {
            "marker": {
             "colorbar": {
              "outlinewidth": 0,
              "ticks": ""
             }
            },
            "type": "histogram"
           }
          ],
          "histogram2d": [
           {
            "colorbar": {
             "outlinewidth": 0,
             "ticks": ""
            },
            "colorscale": [
             [
              0,
              "#0d0887"
             ],
             [
              0.1111111111111111,
              "#46039f"
             ],
             [
              0.2222222222222222,
              "#7201a8"
             ],
             [
              0.3333333333333333,
              "#9c179e"
             ],
             [
              0.4444444444444444,
              "#bd3786"
             ],
             [
              0.5555555555555556,
              "#d8576b"
             ],
             [
              0.6666666666666666,
              "#ed7953"
             ],
             [
              0.7777777777777778,
              "#fb9f3a"
             ],
             [
              0.8888888888888888,
              "#fdca26"
             ],
             [
              1,
              "#f0f921"
             ]
            ],
            "type": "histogram2d"
           }
          ],
          "histogram2dcontour": [
           {
            "colorbar": {
             "outlinewidth": 0,
             "ticks": ""
            },
            "colorscale": [
             [
              0,
              "#0d0887"
             ],
             [
              0.1111111111111111,
              "#46039f"
             ],
             [
              0.2222222222222222,
              "#7201a8"
             ],
             [
              0.3333333333333333,
              "#9c179e"
             ],
             [
              0.4444444444444444,
              "#bd3786"
             ],
             [
              0.5555555555555556,
              "#d8576b"
             ],
             [
              0.6666666666666666,
              "#ed7953"
             ],
             [
              0.7777777777777778,
              "#fb9f3a"
             ],
             [
              0.8888888888888888,
              "#fdca26"
             ],
             [
              1,
              "#f0f921"
             ]
            ],
            "type": "histogram2dcontour"
           }
          ],
          "mesh3d": [
           {
            "colorbar": {
             "outlinewidth": 0,
             "ticks": ""
            },
            "type": "mesh3d"
           }
          ],
          "parcoords": [
           {
            "line": {
             "colorbar": {
              "outlinewidth": 0,
              "ticks": ""
             }
            },
            "type": "parcoords"
           }
          ],
          "pie": [
           {
            "automargin": true,
            "type": "pie"
           }
          ],
          "scatter": [
           {
            "marker": {
             "colorbar": {
              "outlinewidth": 0,
              "ticks": ""
             }
            },
            "type": "scatter"
           }
          ],
          "scatter3d": [
           {
            "line": {
             "colorbar": {
              "outlinewidth": 0,
              "ticks": ""
             }
            },
            "marker": {
             "colorbar": {
              "outlinewidth": 0,
              "ticks": ""
             }
            },
            "type": "scatter3d"
           }
          ],
          "scattercarpet": [
           {
            "marker": {
             "colorbar": {
              "outlinewidth": 0,
              "ticks": ""
             }
            },
            "type": "scattercarpet"
           }
          ],
          "scattergeo": [
           {
            "marker": {
             "colorbar": {
              "outlinewidth": 0,
              "ticks": ""
             }
            },
            "type": "scattergeo"
           }
          ],
          "scattergl": [
           {
            "marker": {
             "colorbar": {
              "outlinewidth": 0,
              "ticks": ""
             }
            },
            "type": "scattergl"
           }
          ],
          "scattermapbox": [
           {
            "marker": {
             "colorbar": {
              "outlinewidth": 0,
              "ticks": ""
             }
            },
            "type": "scattermapbox"
           }
          ],
          "scatterpolar": [
           {
            "marker": {
             "colorbar": {
              "outlinewidth": 0,
              "ticks": ""
             }
            },
            "type": "scatterpolar"
           }
          ],
          "scatterpolargl": [
           {
            "marker": {
             "colorbar": {
              "outlinewidth": 0,
              "ticks": ""
             }
            },
            "type": "scatterpolargl"
           }
          ],
          "scatterternary": [
           {
            "marker": {
             "colorbar": {
              "outlinewidth": 0,
              "ticks": ""
             }
            },
            "type": "scatterternary"
           }
          ],
          "surface": [
           {
            "colorbar": {
             "outlinewidth": 0,
             "ticks": ""
            },
            "colorscale": [
             [
              0,
              "#0d0887"
             ],
             [
              0.1111111111111111,
              "#46039f"
             ],
             [
              0.2222222222222222,
              "#7201a8"
             ],
             [
              0.3333333333333333,
              "#9c179e"
             ],
             [
              0.4444444444444444,
              "#bd3786"
             ],
             [
              0.5555555555555556,
              "#d8576b"
             ],
             [
              0.6666666666666666,
              "#ed7953"
             ],
             [
              0.7777777777777778,
              "#fb9f3a"
             ],
             [
              0.8888888888888888,
              "#fdca26"
             ],
             [
              1,
              "#f0f921"
             ]
            ],
            "type": "surface"
           }
          ],
          "table": [
           {
            "cells": {
             "fill": {
              "color": "#EBF0F8"
             },
             "line": {
              "color": "white"
             }
            },
            "header": {
             "fill": {
              "color": "#C8D4E3"
             },
             "line": {
              "color": "white"
             }
            },
            "type": "table"
           }
          ]
         },
         "layout": {
          "annotationdefaults": {
           "arrowcolor": "#2a3f5f",
           "arrowhead": 0,
           "arrowwidth": 1
          },
          "coloraxis": {
           "colorbar": {
            "outlinewidth": 0,
            "ticks": ""
           }
          },
          "colorscale": {
           "diverging": [
            [
             0,
             "#8e0152"
            ],
            [
             0.1,
             "#c51b7d"
            ],
            [
             0.2,
             "#de77ae"
            ],
            [
             0.3,
             "#f1b6da"
            ],
            [
             0.4,
             "#fde0ef"
            ],
            [
             0.5,
             "#f7f7f7"
            ],
            [
             0.6,
             "#e6f5d0"
            ],
            [
             0.7,
             "#b8e186"
            ],
            [
             0.8,
             "#7fbc41"
            ],
            [
             0.9,
             "#4d9221"
            ],
            [
             1,
             "#276419"
            ]
           ],
           "sequential": [
            [
             0,
             "#0d0887"
            ],
            [
             0.1111111111111111,
             "#46039f"
            ],
            [
             0.2222222222222222,
             "#7201a8"
            ],
            [
             0.3333333333333333,
             "#9c179e"
            ],
            [
             0.4444444444444444,
             "#bd3786"
            ],
            [
             0.5555555555555556,
             "#d8576b"
            ],
            [
             0.6666666666666666,
             "#ed7953"
            ],
            [
             0.7777777777777778,
             "#fb9f3a"
            ],
            [
             0.8888888888888888,
             "#fdca26"
            ],
            [
             1,
             "#f0f921"
            ]
           ],
           "sequentialminus": [
            [
             0,
             "#0d0887"
            ],
            [
             0.1111111111111111,
             "#46039f"
            ],
            [
             0.2222222222222222,
             "#7201a8"
            ],
            [
             0.3333333333333333,
             "#9c179e"
            ],
            [
             0.4444444444444444,
             "#bd3786"
            ],
            [
             0.5555555555555556,
             "#d8576b"
            ],
            [
             0.6666666666666666,
             "#ed7953"
            ],
            [
             0.7777777777777778,
             "#fb9f3a"
            ],
            [
             0.8888888888888888,
             "#fdca26"
            ],
            [
             1,
             "#f0f921"
            ]
           ]
          },
          "colorway": [
           "#636efa",
           "#EF553B",
           "#00cc96",
           "#ab63fa",
           "#FFA15A",
           "#19d3f3",
           "#FF6692",
           "#B6E880",
           "#FF97FF",
           "#FECB52"
          ],
          "font": {
           "color": "#2a3f5f"
          },
          "geo": {
           "bgcolor": "white",
           "lakecolor": "white",
           "landcolor": "#E5ECF6",
           "showlakes": true,
           "showland": true,
           "subunitcolor": "white"
          },
          "hoverlabel": {
           "align": "left"
          },
          "hovermode": "closest",
          "mapbox": {
           "style": "light"
          },
          "paper_bgcolor": "white",
          "plot_bgcolor": "#E5ECF6",
          "polar": {
           "angularaxis": {
            "gridcolor": "white",
            "linecolor": "white",
            "ticks": ""
           },
           "bgcolor": "#E5ECF6",
           "radialaxis": {
            "gridcolor": "white",
            "linecolor": "white",
            "ticks": ""
           }
          },
          "scene": {
           "xaxis": {
            "backgroundcolor": "#E5ECF6",
            "gridcolor": "white",
            "gridwidth": 2,
            "linecolor": "white",
            "showbackground": true,
            "ticks": "",
            "zerolinecolor": "white"
           },
           "yaxis": {
            "backgroundcolor": "#E5ECF6",
            "gridcolor": "white",
            "gridwidth": 2,
            "linecolor": "white",
            "showbackground": true,
            "ticks": "",
            "zerolinecolor": "white"
           },
           "zaxis": {
            "backgroundcolor": "#E5ECF6",
            "gridcolor": "white",
            "gridwidth": 2,
            "linecolor": "white",
            "showbackground": true,
            "ticks": "",
            "zerolinecolor": "white"
           }
          },
          "shapedefaults": {
           "line": {
            "color": "#2a3f5f"
           }
          },
          "ternary": {
           "aaxis": {
            "gridcolor": "white",
            "linecolor": "white",
            "ticks": ""
           },
           "baxis": {
            "gridcolor": "white",
            "linecolor": "white",
            "ticks": ""
           },
           "bgcolor": "#E5ECF6",
           "caxis": {
            "gridcolor": "white",
            "linecolor": "white",
            "ticks": ""
           }
          },
          "title": {
           "x": 0.05
          },
          "xaxis": {
           "automargin": true,
           "gridcolor": "white",
           "linecolor": "white",
           "ticks": "",
           "title": {
            "standoff": 15
           },
           "zerolinecolor": "white",
           "zerolinewidth": 2
          },
          "yaxis": {
           "automargin": true,
           "gridcolor": "white",
           "linecolor": "white",
           "ticks": "",
           "title": {
            "standoff": 15
           },
           "zerolinecolor": "white",
           "zerolinewidth": 2
          }
         }
        },
        "xaxis": {
         "anchor": "y",
         "domain": [
          0,
          1
         ],
         "title": {
          "text": "percentile split"
         }
        },
        "yaxis": {
         "anchor": "x",
         "domain": [
          0,
          1
         ],
         "title": {
          "text": "time"
         }
        }
       }
      },
      "text/html": [
       "<div>\n",
       "        \n",
       "        \n",
       "            <div id=\"f5487f57-f051-4eed-9e37-9d9612e2972b\" class=\"plotly-graph-div\" style=\"height:525px; width:100%;\"></div>\n",
       "            <script type=\"text/javascript\">\n",
       "                require([\"plotly\"], function(Plotly) {\n",
       "                    window.PLOTLYENV=window.PLOTLYENV || {};\n",
       "                    \n",
       "                if (document.getElementById(\"f5487f57-f051-4eed-9e37-9d9612e2972b\")) {\n",
       "                    Plotly.newPlot(\n",
       "                        'f5487f57-f051-4eed-9e37-9d9612e2972b',\n",
       "                        [{\"hovertemplate\": \"variable=mnb<br>index=%{x}<br>value=%{y}<extra></extra>\", \"legendgroup\": \"mnb\", \"line\": {\"color\": \"#636efa\", \"dash\": \"solid\", \"shape\": \"spline\", \"smoothing\": 1}, \"marker\": {\"opacity\": 0.9, \"size\": 10}, \"mode\": \"lines+markers\", \"name\": \"mnb\", \"orientation\": \"v\", \"showlegend\": true, \"type\": \"scatter\", \"x\": [5, 10, 15, 20, 25, 30, 35, 40, 45, 50, 55, 60, 65, 70, 75, 80, 85, 90, 95], \"xaxis\": \"x\", \"y\": [0.01371255, 0.04268880000000008, 0.017733350000000092, 0.013409100000000063, 0.010605600000000326, 0.011655900000000052, 0.011885850000000087, 0.01102259999999955, 0.01196690000000089, 0.010915950000001118, 0.010370899999998962, 0.02135000000000087, 0.010709350000000839, 0.010327650000002464, 0.01015745000000301, 0.010031299999999632, 0.010522549999999242, 0.010794250000000005, 0.010738400000001036], \"yaxis\": \"y\"}, {\"hovertemplate\": \"variable=gnb<br>index=%{x}<br>value=%{y}<extra></extra>\", \"legendgroup\": \"gnb\", \"line\": {\"color\": \"#EF553B\", \"dash\": \"solid\", \"shape\": \"spline\", \"smoothing\": 1}, \"marker\": {\"opacity\": 0.9, \"size\": 10}, \"mode\": \"lines+markers\", \"name\": \"gnb\", \"orientation\": \"v\", \"showlegend\": true, \"type\": \"scatter\", \"x\": [5, 10, 15, 20, 25, 30, 35, 40, 45, 50, 55, 60, 65, 70, 75, 80, 85, 90, 95], \"xaxis\": \"x\", \"y\": [0.01055875, 0.035315100000000044, 0.01795935000000015, 0.013661499999999771, 0.011010199999999415, 0.010410199999999925, 0.010982700000000012, 0.01023934999999998, 0.011823650000000185, 0.01253990000000016, 0.010556199999999905, 0.012436749999999996, 0.01031809999999922, 0.010080600000000217, 0.010220199999997348, 0.010454149999999274, 0.010465549999999268, 0.011383600000000271, 0.010542900000002575], \"yaxis\": \"y\"}, {\"hovertemplate\": \"variable=svm1<br>index=%{x}<br>value=%{y}<extra></extra>\", \"legendgroup\": \"svm1\", \"line\": {\"color\": \"#00cc96\", \"dash\": \"solid\", \"shape\": \"spline\", \"smoothing\": 1}, \"marker\": {\"opacity\": 0.9, \"size\": 10}, \"mode\": \"lines+markers\", \"name\": \"svm1\", \"orientation\": \"v\", \"showlegend\": true, \"type\": \"scatter\", \"x\": [5, 10, 15, 20, 25, 30, 35, 40, 45, 50, 55, 60, 65, 70, 75, 80, 85, 90, 95], \"xaxis\": \"x\", \"y\": [0.011976600000000004, 0.048421049999999966, 0.01452164999999983, 0.024299649999999895, 0.023919100000000082, 0.027142700000000186, 0.02685404999999985, 0.03192394999999948, 0.034668299999999874, 0.027603749999999927, 0.02418905000000038, 0.021478600000000014, 0.021429450000000294, 0.01743040000000029, 0.01709629999999862, 0.01919424999999997, 0.017500749999999954, 0.015677349999998924, 0.015012049999999277], \"yaxis\": \"y\"}, {\"hovertemplate\": \"variable=svm2<br>index=%{x}<br>value=%{y}<extra></extra>\", \"legendgroup\": \"svm2\", \"line\": {\"color\": \"#ab63fa\", \"dash\": \"solid\", \"shape\": \"spline\", \"smoothing\": 1}, \"marker\": {\"opacity\": 0.9, \"size\": 10}, \"mode\": \"lines+markers\", \"name\": \"svm2\", \"orientation\": \"v\", \"showlegend\": true, \"type\": \"scatter\", \"x\": [5, 10, 15, 20, 25, 30, 35, 40, 45, 50, 55, 60, 65, 70, 75, 80, 85, 90, 95], \"xaxis\": \"x\", \"y\": [0.0141831, 0.0567981500000001, 0.0217601500000002, 0.025143499999999985, 0.027270050000000268, 0.02543659999999992, 0.024911750000000232, 0.02322434999999956, 0.025664749999999792, 0.022520699999999394, 0.026499199999999945, 0.036075199999999974, 0.02373570000000047, 0.02122604999999922, 0.021140100000001993, 0.021104199999999906, 0.022950600000001486, 0.019633250000001823, 0.01853484999999999], \"yaxis\": \"y\"}, {\"hovertemplate\": \"variable=svm3<br>index=%{x}<br>value=%{y}<extra></extra>\", \"legendgroup\": \"svm3\", \"line\": {\"color\": \"#FFA15A\", \"dash\": \"solid\", \"shape\": \"spline\", \"smoothing\": 1}, \"marker\": {\"opacity\": 0.9, \"size\": 10}, \"mode\": \"lines+markers\", \"name\": \"svm3\", \"orientation\": \"v\", \"showlegend\": true, \"type\": \"scatter\", \"x\": [5, 10, 15, 20, 25, 30, 35, 40, 45, 50, 55, 60, 65, 70, 75, 80, 85, 90, 95], \"xaxis\": \"x\", \"y\": [0.011840200000000002, 0.017811450000000062, 0.01648795000000014, 0.016955699999999574, 0.01938130000000049, 0.021214150000000043, 0.022959550000000384, 0.028778400000000204, 0.02680859999999985, 0.026156300000000243, 0.027668649999998962, 0.027892550000000682, 0.026372450000001102, 0.023274950000001127, 0.023229999999999862, 0.023443599999998455, 0.023948650000001237, 0.02110490000000098, 0.019206549999999822], \"yaxis\": \"y\"}, {\"hovertemplate\": \"variable=ada<br>index=%{x}<br>value=%{y}<extra></extra>\", \"legendgroup\": \"ada\", \"line\": {\"color\": \"#19d3f3\", \"dash\": \"solid\", \"shape\": \"spline\", \"smoothing\": 1}, \"marker\": {\"opacity\": 0.9, \"size\": 10}, \"mode\": \"lines+markers\", \"name\": \"ada\", \"orientation\": \"v\", \"showlegend\": true, \"type\": \"scatter\", \"x\": [5, 10, 15, 20, 25, 30, 35, 40, 45, 50, 55, 60, 65, 70, 75, 80, 85, 90, 95], \"xaxis\": \"x\", \"y\": [0.20935965, 0.2283885000000001, 0.19898910000000014, 0.1846053999999997, 0.19260395000000008, 0.1941897500000005, 0.19327055000000026, 0.19070200000000082, 0.2028175499999998, 0.19745335000000086, 0.20083760000000073, 0.256671400000001, 0.20294480000000004, 0.17864515000000125, 0.17966930000000048, 0.20015340000000137, 0.17507994999999887, 0.17748805000000267, 0.17497974999999855], \"yaxis\": \"y\"}, {\"hovertemplate\": \"variable=dtc<br>index=%{x}<br>value=%{y}<extra></extra>\", \"legendgroup\": \"dtc\", \"line\": {\"color\": \"#FF6692\", \"dash\": \"solid\", \"shape\": \"spline\", \"smoothing\": 1}, \"marker\": {\"opacity\": 0.9, \"size\": 10}, \"mode\": \"lines+markers\", \"name\": \"dtc\", \"orientation\": \"v\", \"showlegend\": true, \"type\": \"scatter\", \"x\": [5, 10, 15, 20, 25, 30, 35, 40, 45, 50, 55, 60, 65, 70, 75, 80, 85, 90, 95], \"xaxis\": \"x\", \"y\": [0.01150190000000001, 0.0135942, 0.01427859999999992, 0.01434129999999989, 0.014457250000000421, 0.015137000000000178, 0.014180650000001016, 0.01708494999999921, 0.01779590000000031, 0.014606099999999955, 0.01546610000000026, 0.016515849999999332, 0.01969405000000002, 0.014261100000002358, 0.017322949999998727, 0.014596649999999656, 0.014987250000000785, 0.014667049999999904, 0.014924099999999996], \"yaxis\": \"y\"}, {\"hovertemplate\": \"variable=rfc<br>index=%{x}<br>value=%{y}<extra></extra>\", \"legendgroup\": \"rfc\", \"line\": {\"color\": \"#B6E880\", \"dash\": \"solid\", \"shape\": \"spline\", \"smoothing\": 1}, \"marker\": {\"opacity\": 0.9, \"size\": 10}, \"mode\": \"lines+markers\", \"name\": \"rfc\", \"orientation\": \"v\", \"showlegend\": true, \"type\": \"scatter\", \"x\": [5, 10, 15, 20, 25, 30, 35, 40, 45, 50, 55, 60, 65, 70, 75, 80, 85, 90, 95], \"xaxis\": \"x\", \"y\": [0.29687145, 0.29896790000000006, 0.30552334999999986, 0.32153604999999974, 0.32914920000000025, 0.37180299999999944, 0.34691070000000046, 0.3833358000000002, 0.3722677999999995, 0.3842110500000011, 0.35058714999999996, 0.3738475499999998, 0.3761306500000021, 0.3418756000000016, 0.3355672500000004, 0.3319496500000003, 0.32422340000000105, 0.3269348999999995, 0.31926275000000004], \"yaxis\": \"y\"}, {\"hovertemplate\": \"variable=gbc<br>index=%{x}<br>value=%{y}<extra></extra>\", \"legendgroup\": \"gbc\", \"line\": {\"color\": \"#FF97FF\", \"dash\": \"solid\", \"shape\": \"spline\", \"smoothing\": 1}, \"marker\": {\"opacity\": 0.9, \"size\": 10}, \"mode\": \"lines+markers\", \"name\": \"gbc\", \"orientation\": \"v\", \"showlegend\": true, \"type\": \"scatter\", \"x\": [5, 10, 15, 20, 25, 30, 35, 40, 45, 50, 55, 60, 65, 70, 75, 80, 85, 90, 95], \"xaxis\": \"x\", \"y\": [0.27655055, 0.37746560000000007, 0.29153724999999997, 0.27828804999999956, 0.2679437, 0.2874138500000001, 0.28328804999999946, 0.29082640000000026, 0.284930150000001, 0.2701350999999992, 0.28553614999999954, 0.31104270000000067, 0.2669308500000014, 0.2662909000000031, 0.26058930000000124, 0.2612707499999978, 0.26690720000000034, 0.27110584999999965, 0.2677329499999992], \"yaxis\": \"y\"}, {\"hovertemplate\": \"variable=lr<br>index=%{x}<br>value=%{y}<extra></extra>\", \"legendgroup\": \"lr\", \"line\": {\"color\": \"#FECB52\", \"dash\": \"solid\", \"shape\": \"spline\", \"smoothing\": 1}, \"marker\": {\"opacity\": 0.9, \"size\": 10}, \"mode\": \"lines+markers\", \"name\": \"lr\", \"orientation\": \"v\", \"showlegend\": true, \"type\": \"scatter\", \"x\": [5, 10, 15, 20, 25, 30, 35, 40, 45, 50, 55, 60, 65, 70, 75, 80, 85, 90, 95], \"xaxis\": \"x\", \"y\": [0.01777704999999996, 0.03008605000000042, 0.018894499999999814, 0.017018399999999545, 0.017468599999999945, 0.018422749999999155, 0.018168000000000184, 0.019460350000000126, 0.01823544999999971, 0.017102249999999763, 0.022281700000000626, 0.015273799999999227, 0.016153149999999172, 0.015875650000001684, 0.014390199999999354, 0.016087600000000535, 0.018511450000001872, 0.018678350000000066, 0.017755100000002244], \"yaxis\": \"y\"}],\n",
       "                        {\"legend\": {\"title\": {\"text\": \"Algorithm\"}, \"tracegroupgap\": 0}, \"margin\": {\"t\": 60}, \"template\": {\"data\": {\"bar\": [{\"error_x\": {\"color\": \"#2a3f5f\"}, \"error_y\": {\"color\": \"#2a3f5f\"}, \"marker\": {\"line\": {\"color\": \"#E5ECF6\", \"width\": 0.5}}, \"type\": \"bar\"}], \"barpolar\": [{\"marker\": {\"line\": {\"color\": \"#E5ECF6\", \"width\": 0.5}}, \"type\": \"barpolar\"}], \"carpet\": [{\"aaxis\": {\"endlinecolor\": \"#2a3f5f\", \"gridcolor\": \"white\", \"linecolor\": \"white\", \"minorgridcolor\": \"white\", \"startlinecolor\": \"#2a3f5f\"}, \"baxis\": {\"endlinecolor\": \"#2a3f5f\", \"gridcolor\": \"white\", \"linecolor\": \"white\", \"minorgridcolor\": \"white\", \"startlinecolor\": \"#2a3f5f\"}, \"type\": \"carpet\"}], \"choropleth\": [{\"colorbar\": {\"outlinewidth\": 0, \"ticks\": \"\"}, \"type\": \"choropleth\"}], \"contour\": [{\"colorbar\": {\"outlinewidth\": 0, \"ticks\": \"\"}, \"colorscale\": [[0.0, \"#0d0887\"], [0.1111111111111111, \"#46039f\"], [0.2222222222222222, \"#7201a8\"], [0.3333333333333333, \"#9c179e\"], [0.4444444444444444, \"#bd3786\"], [0.5555555555555556, \"#d8576b\"], [0.6666666666666666, \"#ed7953\"], [0.7777777777777778, \"#fb9f3a\"], [0.8888888888888888, \"#fdca26\"], [1.0, \"#f0f921\"]], \"type\": \"contour\"}], \"contourcarpet\": [{\"colorbar\": {\"outlinewidth\": 0, \"ticks\": \"\"}, \"type\": \"contourcarpet\"}], \"heatmap\": [{\"colorbar\": {\"outlinewidth\": 0, \"ticks\": \"\"}, \"colorscale\": [[0.0, \"#0d0887\"], [0.1111111111111111, \"#46039f\"], [0.2222222222222222, \"#7201a8\"], [0.3333333333333333, \"#9c179e\"], [0.4444444444444444, \"#bd3786\"], [0.5555555555555556, \"#d8576b\"], [0.6666666666666666, \"#ed7953\"], [0.7777777777777778, \"#fb9f3a\"], [0.8888888888888888, \"#fdca26\"], [1.0, \"#f0f921\"]], \"type\": \"heatmap\"}], \"heatmapgl\": [{\"colorbar\": {\"outlinewidth\": 0, \"ticks\": \"\"}, \"colorscale\": [[0.0, \"#0d0887\"], [0.1111111111111111, \"#46039f\"], [0.2222222222222222, \"#7201a8\"], [0.3333333333333333, \"#9c179e\"], [0.4444444444444444, \"#bd3786\"], [0.5555555555555556, \"#d8576b\"], [0.6666666666666666, \"#ed7953\"], [0.7777777777777778, \"#fb9f3a\"], [0.8888888888888888, \"#fdca26\"], [1.0, \"#f0f921\"]], \"type\": \"heatmapgl\"}], \"histogram\": [{\"marker\": {\"colorbar\": {\"outlinewidth\": 0, \"ticks\": \"\"}}, \"type\": \"histogram\"}], \"histogram2d\": [{\"colorbar\": {\"outlinewidth\": 0, \"ticks\": \"\"}, \"colorscale\": [[0.0, \"#0d0887\"], [0.1111111111111111, \"#46039f\"], [0.2222222222222222, \"#7201a8\"], [0.3333333333333333, \"#9c179e\"], [0.4444444444444444, \"#bd3786\"], [0.5555555555555556, \"#d8576b\"], [0.6666666666666666, \"#ed7953\"], [0.7777777777777778, \"#fb9f3a\"], [0.8888888888888888, \"#fdca26\"], [1.0, \"#f0f921\"]], \"type\": \"histogram2d\"}], \"histogram2dcontour\": [{\"colorbar\": {\"outlinewidth\": 0, \"ticks\": \"\"}, \"colorscale\": [[0.0, \"#0d0887\"], [0.1111111111111111, \"#46039f\"], [0.2222222222222222, \"#7201a8\"], [0.3333333333333333, \"#9c179e\"], [0.4444444444444444, \"#bd3786\"], [0.5555555555555556, \"#d8576b\"], [0.6666666666666666, \"#ed7953\"], [0.7777777777777778, \"#fb9f3a\"], [0.8888888888888888, \"#fdca26\"], [1.0, \"#f0f921\"]], \"type\": \"histogram2dcontour\"}], \"mesh3d\": [{\"colorbar\": {\"outlinewidth\": 0, \"ticks\": \"\"}, \"type\": \"mesh3d\"}], \"parcoords\": [{\"line\": {\"colorbar\": {\"outlinewidth\": 0, \"ticks\": \"\"}}, \"type\": \"parcoords\"}], \"pie\": [{\"automargin\": true, \"type\": \"pie\"}], \"scatter\": [{\"marker\": {\"colorbar\": {\"outlinewidth\": 0, \"ticks\": \"\"}}, \"type\": \"scatter\"}], \"scatter3d\": [{\"line\": {\"colorbar\": {\"outlinewidth\": 0, \"ticks\": \"\"}}, \"marker\": {\"colorbar\": {\"outlinewidth\": 0, \"ticks\": \"\"}}, \"type\": \"scatter3d\"}], \"scattercarpet\": [{\"marker\": {\"colorbar\": {\"outlinewidth\": 0, \"ticks\": \"\"}}, \"type\": \"scattercarpet\"}], \"scattergeo\": [{\"marker\": {\"colorbar\": {\"outlinewidth\": 0, \"ticks\": \"\"}}, \"type\": \"scattergeo\"}], \"scattergl\": [{\"marker\": {\"colorbar\": {\"outlinewidth\": 0, \"ticks\": \"\"}}, \"type\": \"scattergl\"}], \"scattermapbox\": [{\"marker\": {\"colorbar\": {\"outlinewidth\": 0, \"ticks\": \"\"}}, \"type\": \"scattermapbox\"}], \"scatterpolar\": [{\"marker\": {\"colorbar\": {\"outlinewidth\": 0, \"ticks\": \"\"}}, \"type\": \"scatterpolar\"}], \"scatterpolargl\": [{\"marker\": {\"colorbar\": {\"outlinewidth\": 0, \"ticks\": \"\"}}, \"type\": \"scatterpolargl\"}], \"scatterternary\": [{\"marker\": {\"colorbar\": {\"outlinewidth\": 0, \"ticks\": \"\"}}, \"type\": \"scatterternary\"}], \"surface\": [{\"colorbar\": {\"outlinewidth\": 0, \"ticks\": \"\"}, \"colorscale\": [[0.0, \"#0d0887\"], [0.1111111111111111, \"#46039f\"], [0.2222222222222222, \"#7201a8\"], [0.3333333333333333, \"#9c179e\"], [0.4444444444444444, \"#bd3786\"], [0.5555555555555556, \"#d8576b\"], [0.6666666666666666, \"#ed7953\"], [0.7777777777777778, \"#fb9f3a\"], [0.8888888888888888, \"#fdca26\"], [1.0, \"#f0f921\"]], \"type\": \"surface\"}], \"table\": [{\"cells\": {\"fill\": {\"color\": \"#EBF0F8\"}, \"line\": {\"color\": \"white\"}}, \"header\": {\"fill\": {\"color\": \"#C8D4E3\"}, \"line\": {\"color\": \"white\"}}, \"type\": \"table\"}]}, \"layout\": {\"annotationdefaults\": {\"arrowcolor\": \"#2a3f5f\", \"arrowhead\": 0, \"arrowwidth\": 1}, \"coloraxis\": {\"colorbar\": {\"outlinewidth\": 0, \"ticks\": \"\"}}, \"colorscale\": {\"diverging\": [[0, \"#8e0152\"], [0.1, \"#c51b7d\"], [0.2, \"#de77ae\"], [0.3, \"#f1b6da\"], [0.4, \"#fde0ef\"], [0.5, \"#f7f7f7\"], [0.6, \"#e6f5d0\"], [0.7, \"#b8e186\"], [0.8, \"#7fbc41\"], [0.9, \"#4d9221\"], [1, \"#276419\"]], \"sequential\": [[0.0, \"#0d0887\"], [0.1111111111111111, \"#46039f\"], [0.2222222222222222, \"#7201a8\"], [0.3333333333333333, \"#9c179e\"], [0.4444444444444444, \"#bd3786\"], [0.5555555555555556, \"#d8576b\"], [0.6666666666666666, \"#ed7953\"], [0.7777777777777778, \"#fb9f3a\"], [0.8888888888888888, \"#fdca26\"], [1.0, \"#f0f921\"]], \"sequentialminus\": [[0.0, \"#0d0887\"], [0.1111111111111111, \"#46039f\"], [0.2222222222222222, \"#7201a8\"], [0.3333333333333333, \"#9c179e\"], [0.4444444444444444, \"#bd3786\"], [0.5555555555555556, \"#d8576b\"], [0.6666666666666666, \"#ed7953\"], [0.7777777777777778, \"#fb9f3a\"], [0.8888888888888888, \"#fdca26\"], [1.0, \"#f0f921\"]]}, \"colorway\": [\"#636efa\", \"#EF553B\", \"#00cc96\", \"#ab63fa\", \"#FFA15A\", \"#19d3f3\", \"#FF6692\", \"#B6E880\", \"#FF97FF\", \"#FECB52\"], \"font\": {\"color\": \"#2a3f5f\"}, \"geo\": {\"bgcolor\": \"white\", \"lakecolor\": \"white\", \"landcolor\": \"#E5ECF6\", \"showlakes\": true, \"showland\": true, \"subunitcolor\": \"white\"}, \"hoverlabel\": {\"align\": \"left\"}, \"hovermode\": \"closest\", \"mapbox\": {\"style\": \"light\"}, \"paper_bgcolor\": \"white\", \"plot_bgcolor\": \"#E5ECF6\", \"polar\": {\"angularaxis\": {\"gridcolor\": \"white\", \"linecolor\": \"white\", \"ticks\": \"\"}, \"bgcolor\": \"#E5ECF6\", \"radialaxis\": {\"gridcolor\": \"white\", \"linecolor\": \"white\", \"ticks\": \"\"}}, \"scene\": {\"xaxis\": {\"backgroundcolor\": \"#E5ECF6\", \"gridcolor\": \"white\", \"gridwidth\": 2, \"linecolor\": \"white\", \"showbackground\": true, \"ticks\": \"\", \"zerolinecolor\": \"white\"}, \"yaxis\": {\"backgroundcolor\": \"#E5ECF6\", \"gridcolor\": \"white\", \"gridwidth\": 2, \"linecolor\": \"white\", \"showbackground\": true, \"ticks\": \"\", \"zerolinecolor\": \"white\"}, \"zaxis\": {\"backgroundcolor\": \"#E5ECF6\", \"gridcolor\": \"white\", \"gridwidth\": 2, \"linecolor\": \"white\", \"showbackground\": true, \"ticks\": \"\", \"zerolinecolor\": \"white\"}}, \"shapedefaults\": {\"line\": {\"color\": \"#2a3f5f\"}}, \"ternary\": {\"aaxis\": {\"gridcolor\": \"white\", \"linecolor\": \"white\", \"ticks\": \"\"}, \"baxis\": {\"gridcolor\": \"white\", \"linecolor\": \"white\", \"ticks\": \"\"}, \"bgcolor\": \"#E5ECF6\", \"caxis\": {\"gridcolor\": \"white\", \"linecolor\": \"white\", \"ticks\": \"\"}}, \"title\": {\"x\": 0.05}, \"xaxis\": {\"automargin\": true, \"gridcolor\": \"white\", \"linecolor\": \"white\", \"ticks\": \"\", \"title\": {\"standoff\": 15}, \"zerolinecolor\": \"white\", \"zerolinewidth\": 2}, \"yaxis\": {\"automargin\": true, \"gridcolor\": \"white\", \"linecolor\": \"white\", \"ticks\": \"\", \"title\": {\"standoff\": 15}, \"zerolinecolor\": \"white\", \"zerolinewidth\": 2}}}, \"xaxis\": {\"anchor\": \"y\", \"domain\": [0.0, 1.0], \"title\": {\"text\": \"percentile split\"}}, \"yaxis\": {\"anchor\": \"x\", \"domain\": [0.0, 1.0], \"title\": {\"text\": \"time\"}}},\n",
       "                        {\"responsive\": true}\n",
       "                    ).then(function(){\n",
       "                            \n",
       "var gd = document.getElementById('f5487f57-f051-4eed-9e37-9d9612e2972b');\n",
       "var x = new MutationObserver(function (mutations, observer) {{\n",
       "        var display = window.getComputedStyle(gd).display;\n",
       "        if (!display || display === 'none') {{\n",
       "            console.log([gd, 'removed!']);\n",
       "            Plotly.purge(gd);\n",
       "            observer.disconnect();\n",
       "        }}\n",
       "}});\n",
       "\n",
       "// Listen for the removal of the full notebook cells\n",
       "var notebookContainer = gd.closest('#notebook-container');\n",
       "if (notebookContainer) {{\n",
       "    x.observe(notebookContainer, {childList: true});\n",
       "}}\n",
       "\n",
       "// Listen for the clearing of the current output cell\n",
       "var outputEl = gd.closest('.output');\n",
       "if (outputEl) {{\n",
       "    x.observe(outputEl, {childList: true});\n",
       "}}\n",
       "\n",
       "                        })\n",
       "                };\n",
       "                });\n",
       "            </script>\n",
       "        </div>"
      ]
     },
     "metadata": {},
     "output_type": "display_data"
    }
   ],
   "source": [
    "fig = px.line(pd.DataFrame(times_per_clf))\n",
    "fig.update_layout(\n",
    "    yaxis_title=\"time\",\n",
    "    xaxis_title=\"percentile split\",\n",
    "    legend_title_text='Algorithm'\n",
    ")\n",
    "fig.update_traces(line_traces)\n",
    "\n",
    "fig.show()"
   ]
  },
  {
   "cell_type": "markdown",
   "metadata": {},
   "source": [
    "-----------\n",
    "### With PCA"
   ]
  },
  {
   "cell_type": "code",
   "execution_count": 46,
   "metadata": {},
   "outputs": [
    {
     "data": {
      "image/png": "[encoded data removed]",
      "text/plain": [
       "<Figure size 432x288 with 1 Axes>"
      ]
     },
     "metadata": {
      "needs_background": "light"
     },
     "output_type": "display_data"
    }
   ],
   "source": [
    "perc = 0.8\n",
    "q_flex = students['E_grade'].quantile(perc)\n",
    "students['E_result'] = np.where(students['E_grade']<q_flex, 0, 1)\n",
    "X = SimpleImputer(strategy=\"mean\").fit_transform(students[features])\n",
    "y = students['E_result']\n",
    "\n",
    "pca = PCA().fit(scaler.fit_transform(X))\n",
    "plt.plot(np.cumsum(pca.explained_variance_ratio_))\n",
    "plt.xlabel('number of components')\n",
    "plt.ylabel('cumulative explained variance');"
   ]
  },
  {
   "cell_type": "markdown",
   "metadata": {},
   "source": [
    "let's say 4 components"
   ]
  },
  {
   "cell_type": "code",
   "execution_count": 47,
   "metadata": {},
   "outputs": [
    {
     "name": "stdout",
     "output_type": "stream",
     "text": [
      "processing percentile 5%. OK!\n",
      "processing percentile 10%. OK!\n",
      "processing percentile 15%. OK!\n",
      "processing percentile 20%. OK!\n",
      "processing percentile 25%. OK!\n",
      "processing percentile 30%. OK!\n",
      "processing percentile 35%. OK!\n",
      "processing percentile 40%. OK!\n",
      "processing percentile 45%. OK!\n",
      "processing percentile 50%. OK!\n",
      "processing percentile 55%. OK!\n",
      "processing percentile 60%. OK!\n",
      "processing percentile 65%. OK!\n",
      "processing percentile 70%. OK!\n",
      "processing percentile 75%. OK!\n",
      "processing percentile 80%. OK!\n",
      "processing percentile 85%. OK!\n",
      "processing percentile 90%. OK!\n",
      "processing percentile 95%. OK!\n"
     ]
    }
   ],
   "source": [
    "scores_per_quatile = dict()\n",
    "accuracies_per_quatile = dict()\n",
    "times_per_quatile = dict()\n",
    "\n",
    "n = 2\n",
    "n_components = 4\n",
    "\n",
    "pca = PCA(n_components=n_components)\n",
    "\n",
    "for perc in range(5,100,5):\n",
    "    print(f'processing percentile {perc}%',end=\". \")\n",
    "    scores_per_quatile[perc] = dict()\n",
    "    accuracies_per_quatile[perc] = dict()\n",
    "    times_per_quatile[perc] = dict()\n",
    "    \n",
    "    q_flex = students['E_grade'].quantile(perc/100)\n",
    "    students['E_result'] = np.where(students['E_grade']<q_flex, 0, 1)\n",
    "    \n",
    "    \n",
    "    X = students[features]\n",
    "    y = students['E_result']\n",
    "    \n",
    "    for clf_name in clfs:\n",
    "        \n",
    "        clf = clfs[clf_name]\n",
    "        f1_scores = np.zeros(n)\n",
    "        accuracy_scores = np.zeros(n)\n",
    "        times = np.zeros(n)\n",
    "        \n",
    "        start = time.clock()\n",
    "        \n",
    "        for i in range(0,n):\n",
    "            \n",
    "            X_train, X_test, y_train, y_test = train_test_split(X, y, test_size=0.3) \n",
    "            \n",
    "            # imputation\n",
    "            imp = SimpleImputer(strategy=\"mean\")\n",
    "            X_train = imp.fit_transform(X_train)\n",
    "            X_test  = imp.transform(X_test)\n",
    "\n",
    "            # normalization\n",
    "            scaler = MinMaxScaler()\n",
    "            X_train = scaler.fit_transform(X_train)\n",
    "            X_test  = scaler.transform(X_test)\n",
    "            \n",
    "            # PCA\n",
    "            X_train = pca.fit_transform(X_train)\n",
    "            X_test  = pca.transform(X_test)\n",
    "\n",
    "            # normalization after PCA for algorithms like MNB that do not accept negative values\n",
    "            scalerPCA = MinMaxScaler()\n",
    "            X_train = scalerPCA.fit_transform(X_train)\n",
    "            X_test  = scalerPCA.transform(X_test)\n",
    "\n",
    "            clf.fit(X_train, y_train)\n",
    "            y_pred = clf.predict(X_test)\n",
    "            f1_scores[i] = f1_score(y_pred, y_test)\n",
    "            accuracy_scores[i] = accuracy_score(y_pred,y_test)\n",
    "            \n",
    "            end = time.clock()\n",
    "            times[i] = end - start\n",
    "        \n",
    "        scores_per_quatile[perc][clf_name] = f1_scores.mean()\n",
    "        accuracies_per_quatile[perc][clf_name] = accuracy_scores.mean()\n",
    "        times_per_quatile[perc][clf_name] = times.mean()\n",
    "        \n",
    "        \n",
    "    print(\"OK!\")"
   ]
  },
  {
   "cell_type": "code",
   "execution_count": 48,
   "metadata": {},
   "outputs": [],
   "source": [
    "scores_per_clf = dict()\n",
    "accuracies_per_clf = dict()\n",
    "times_per_clf = dict()\n",
    "for clf_name in clfs:\n",
    "    scores_per_clf[clf_name] = dict()\n",
    "    accuracies_per_clf[clf_name] = dict()\n",
    "    times_per_clf[clf_name] = dict()\n",
    "    for qt in scores_per_quatile:\n",
    "        scores_per_clf[clf_name][qt] = scores_per_quatile[qt][clf_name]\n",
    "        accuracies_per_clf[clf_name][qt] = accuracies_per_quatile[qt][clf_name]\n",
    "        times_per_clf[clf_name][qt] = times_per_quatile[qt][clf_name]"
   ]
  },
  {
   "cell_type": "code",
   "execution_count": 49,
   "metadata": {},
   "outputs": [
    {
     "data": {
      "application/vnd.plotly.v1+json": {
       "config": {
        "plotlyServerURL": "https://plot.ly"
       },
       "data": [
        {
         "hovertemplate": "variable=mnb<br>index=%{x}<br>value=%{y}<extra></extra>",
         "legendgroup": "mnb",
         "line": {
          "color": "#636efa",
          "dash": "solid",
          "shape": "spline",
          "smoothing": 1
         },
         "marker": {
          "opacity": 0.9,
          "size": 10
         },
         "mode": "lines+markers",
         "name": "mnb",
         "orientation": "v",
         "showlegend": true,
         "type": "scatter",
         "x": [
          5,
          10,
          15,
          20,
          25,
          30,
          35,
          40,
          45,
          50,
          55,
          60,
          65,
          70,
          75,
          80,
          85,
          90,
          95
         ],
         "xaxis": "x",
         "y": [
          0.9828368380062305,
          0.961741317753976,
          0.9683440989434681,
          0.9114433518407028,
          0.8854407742478435,
          0.8816433648731348,
          0.8738903207331044,
          0.8261077937385852,
          0.7673757040340796,
          0.7763865806596997,
          0.7437332937332937,
          0.7238309738309738,
          0.6575771915296345,
          0,
          0,
          0,
          0,
          0,
          0
         ],
         "yaxis": "y"
        },
        {
         "hovertemplate": "variable=gnb<br>index=%{x}<br>value=%{y}<extra></extra>",
         "legendgroup": "gnb",
         "line": {
          "color": "#EF553B",
          "dash": "solid",
          "shape": "spline",
          "smoothing": 1
         },
         "marker": {
          "opacity": 0.9,
          "size": 10
         },
         "mode": "lines+markers",
         "name": "gnb",
         "orientation": "v",
         "showlegend": true,
         "type": "scatter",
         "x": [
          5,
          10,
          15,
          20,
          25,
          30,
          35,
          40,
          45,
          50,
          55,
          60,
          65,
          70,
          75,
          80,
          85,
          90,
          95
         ],
         "xaxis": "x",
         "y": [
          0.9270518050620695,
          0.9550852681323196,
          0.9357320099255584,
          0.9396103071845647,
          0.7607146441834789,
          0.8695678474641889,
          0.8617096475405841,
          0.7642981505206794,
          0.6600669536107127,
          0.6811662116458173,
          0.611176779616496,
          0.5864218793055938,
          0.5333958020989505,
          0.2886142983230362,
          0.5028833551769332,
          0.25245039445374134,
          0.6366339036524693,
          0.680252892117299,
          0.6039915966386554
         ],
         "yaxis": "y"
        },
        {
         "hovertemplate": "variable=svm1<br>index=%{x}<br>value=%{y}<extra></extra>",
         "legendgroup": "svm1",
         "line": {
          "color": "#00cc96",
          "dash": "solid",
          "shape": "spline",
          "smoothing": 1
         },
         "marker": {
          "opacity": 0.9,
          "size": 10
         },
         "mode": "lines+markers",
         "name": "svm1",
         "orientation": "v",
         "showlegend": true,
         "type": "scatter",
         "x": [
          5,
          10,
          15,
          20,
          25,
          30,
          35,
          40,
          45,
          50,
          55,
          60,
          65,
          70,
          75,
          80,
          85,
          90,
          95
         ],
         "xaxis": "x",
         "y": [
          0.9812400511723747,
          0.9650376432408463,
          0.9601037851037851,
          0.9115161649944259,
          0.8757417559548584,
          0.8816170413086972,
          0.8698509973564048,
          0.8155694466424013,
          0.8123822163238221,
          0.7674814179531161,
          0.7188146638253189,
          0.6889938609061798,
          0.6376135022828707,
          0.5535575578685723,
          0.27814569536423844,
          0.2156862745098039,
          0.2836879432624113,
          0.5647626709573612,
          0.39357798165137614
         ],
         "yaxis": "y"
        },
        {
         "hovertemplate": "variable=svm2<br>index=%{x}<br>value=%{y}<extra></extra>",
         "legendgroup": "svm2",
         "line": {
          "color": "#ab63fa",
          "dash": "solid",
          "shape": "spline",
          "smoothing": 1
         },
         "marker": {
          "opacity": 0.9,
          "size": 10
         },
         "mode": "lines+markers",
         "name": "svm2",
         "orientation": "v",
         "showlegend": true,
         "type": "scatter",
         "x": [
          5,
          10,
          15,
          20,
          25,
          30,
          35,
          40,
          45,
          50,
          55,
          60,
          65,
          70,
          75,
          80,
          85,
          90,
          95
         ],
         "xaxis": "x",
         "y": [
          0.9875776397515528,
          0.9617729093767433,
          0.955117471210051,
          0.9276199751122653,
          0.8949025556168413,
          0.8834437862881943,
          0.8775275571885741,
          0.8165994676786044,
          0.7947652149241027,
          0.7711353890136818,
          0.7238006708968192,
          0.7449933244325767,
          0.6254864154250657,
          0.6862706007442849,
          0.6074640287769784,
          0.6198387623924175,
          0.6483125,
          0.6347049689440993,
          0.6545205920205921
         ],
         "yaxis": "y"
        },
        {
         "hovertemplate": "variable=svm3<br>index=%{x}<br>value=%{y}<extra></extra>",
         "legendgroup": "svm3",
         "line": {
          "color": "#FFA15A",
          "dash": "solid",
          "shape": "spline",
          "smoothing": 1
         },
         "marker": {
          "opacity": 0.9,
          "size": 10
         },
         "mode": "lines+markers",
         "name": "svm3",
         "orientation": "v",
         "showlegend": true,
         "type": "scatter",
         "x": [
          5,
          10,
          15,
          20,
          25,
          30,
          35,
          40,
          45,
          50,
          55,
          60,
          65,
          70,
          75,
          80,
          85,
          90,
          95
         ],
         "xaxis": "x",
         "y": [
          0.9796532131661442,
          0.9649854862119014,
          0.9567759641182132,
          0.9273242198137357,
          0.9039509074881902,
          0.8618483585581633,
          0.8964256889196357,
          0.8078486428666933,
          0.7925760298495178,
          0.7356267238737357,
          0.7568678505602529,
          0.7397938209531038,
          0.3076923076923077,
          0.11320754716981131,
          0.3222677595628415,
          0.014492753623188406,
          0,
          0,
          0.01639344262295082
         ],
         "yaxis": "y"
        },
        {
         "hovertemplate": "variable=ada<br>index=%{x}<br>value=%{y}<extra></extra>",
         "legendgroup": "ada",
         "line": {
          "color": "#19d3f3",
          "dash": "solid",
          "shape": "spline",
          "smoothing": 1
         },
         "marker": {
          "opacity": 0.9,
          "size": 10
         },
         "mode": "lines+markers",
         "name": "ada",
         "orientation": "v",
         "showlegend": true,
         "type": "scatter",
         "x": [
          5,
          10,
          15,
          20,
          25,
          30,
          35,
          40,
          45,
          50,
          55,
          60,
          65,
          70,
          75,
          80,
          85,
          90,
          95
         ],
         "xaxis": "x",
         "y": [
          0.9844138198757764,
          0.9346291450846371,
          0.9465534882749691,
          0.886788198153291,
          0.8651543406782156,
          0.8565371569534381,
          0.8648585457096095,
          0.7869465020576132,
          0.7798952216870011,
          0.7185771744595275,
          0.696078431372549,
          0.5961830131445904,
          0.6038093304915593,
          0.576261836903558,
          0.5306570285271718,
          0.542292490118577,
          0.6067577282530554,
          0.5370297029702971,
          0.5557737260402056
         ],
         "yaxis": "y"
        },
        {
         "hovertemplate": "variable=dtc<br>index=%{x}<br>value=%{y}<extra></extra>",
         "legendgroup": "dtc",
         "line": {
          "color": "#FF6692",
          "dash": "solid",
          "shape": "spline",
          "smoothing": 1
         },
         "marker": {
          "opacity": 0.9,
          "size": 10
         },
         "mode": "lines+markers",
         "name": "dtc",
         "orientation": "v",
         "showlegend": true,
         "type": "scatter",
         "x": [
          5,
          10,
          15,
          20,
          25,
          30,
          35,
          40,
          45,
          50,
          55,
          60,
          65,
          70,
          75,
          80,
          85,
          90,
          95
         ],
         "xaxis": "x",
         "y": [
          0.9746512163610325,
          0.9275851621001602,
          0.9186652878014434,
          0.8592057761732853,
          0.8166977611940298,
          0.7404869370408197,
          0.8049553309221305,
          0.7023629964806435,
          0.6847360586281919,
          0.6673270197139544,
          0.5824175824175823,
          0.5809468147282291,
          0.5830188679245284,
          0.6129149283511699,
          0.4877955758962624,
          0.5888235294117647,
          0.48848115846634854,
          0.5964425964425963,
          0.5178571428571429
         ],
         "yaxis": "y"
        },
        {
         "hovertemplate": "variable=rfc<br>index=%{x}<br>value=%{y}<extra></extra>",
         "legendgroup": "rfc",
         "line": {
          "color": "#B6E880",
          "dash": "solid",
          "shape": "spline",
          "smoothing": 1
         },
         "marker": {
          "opacity": 0.9,
          "size": 10
         },
         "mode": "lines+markers",
         "name": "rfc",
         "orientation": "v",
         "showlegend": true,
         "type": "scatter",
         "x": [
          5,
          10,
          15,
          20,
          25,
          30,
          35,
          40,
          45,
          50,
          55,
          60,
          65,
          70,
          75,
          80,
          85,
          90,
          95
         ],
         "xaxis": "x",
         "y": [
          0.9922406830506518,
          0.9481134530314859,
          0.9517684887459806,
          0.9209884075655888,
          0.87519460300986,
          0.830535981801032,
          0.8447606003857226,
          0.7759141349827178,
          0.7680983177638974,
          0.7140522875816993,
          0.654954268292683,
          0.6668563300142247,
          0.6466666666666667,
          0.6017387325554793,
          0.5828012567143002,
          0.6177293699417592,
          0.5790465268676277,
          0.5867612293144209,
          0.5956632653061225
         ],
         "yaxis": "y"
        },
        {
         "hovertemplate": "variable=gbc<br>index=%{x}<br>value=%{y}<extra></extra>",
         "legendgroup": "gbc",
         "line": {
          "color": "#FF97FF",
          "dash": "solid",
          "shape": "spline",
          "smoothing": 1
         },
         "marker": {
          "opacity": 0.9,
          "size": 10
         },
         "mode": "lines+markers",
         "name": "gbc",
         "orientation": "v",
         "showlegend": true,
         "type": "scatter",
         "x": [
          5,
          10,
          15,
          20,
          25,
          30,
          35,
          40,
          45,
          50,
          55,
          60,
          65,
          70,
          75,
          80,
          85,
          90,
          95
         ],
         "xaxis": "x",
         "y": [
          0.9812400511723747,
          0.9601037851037851,
          0.9500560119492159,
          0.8918196798493407,
          0.8841967891263666,
          0.8462313266881197,
          0.8285614148603473,
          0.7804054054054054,
          0.7297584541062802,
          0.735603754439371,
          0.6494107744107744,
          0.6520551801801802,
          0.6160714285714286,
          0.5775727244291523,
          0.5528500585055999,
          0.6050847457627119,
          0.5644827586206896,
          0.5655160110605655,
          0.6279988438192503
         ],
         "yaxis": "y"
        },
        {
         "hovertemplate": "variable=lr<br>index=%{x}<br>value=%{y}<extra></extra>",
         "legendgroup": "lr",
         "line": {
          "color": "#FECB52",
          "dash": "solid",
          "shape": "spline",
          "smoothing": 1
         },
         "marker": {
          "opacity": 0.9,
          "size": 10
         },
         "mode": "lines+markers",
         "name": "lr",
         "orientation": "v",
         "showlegend": true,
         "type": "scatter",
         "x": [
          5,
          10,
          15,
          20,
          25,
          30,
          35,
          40,
          45,
          50,
          55,
          60,
          65,
          70,
          75,
          80,
          85,
          90,
          95
         ],
         "xaxis": "x",
         "y": [
          0.9811604535554883,
          0.9584239269126729,
          0.961741317753976,
          0.9205179654178043,
          0.8967819514429684,
          0.873164266781288,
          0.860014427720787,
          0.819861220214716,
          0.8036656970480499,
          0.7625900316911552,
          0.6998744776522554,
          0.6816942411382414,
          0.654043945769051,
          0.5747393814077711,
          0.533022533022533,
          0.4230897564230897,
          0.5148979591836734,
          0.5060908084163898,
          0.3495887191539365
         ],
         "yaxis": "y"
        }
       ],
       "layout": {
        "legend": {
         "title": {
          "text": "Algorithm"
         },
         "tracegroupgap": 0
        },
        "margin": {
         "t": 60
        },
        "template": {
         "data": {
          "bar": [
           {
            "error_x": {
             "color": "#2a3f5f"
            },
            "error_y": {
             "color": "#2a3f5f"
            },
            "marker": {
             "line": {
              "color": "#E5ECF6",
              "width": 0.5
             }
            },
            "type": "bar"
           }
          ],
          "barpolar": [
           {
            "marker": {
             "line": {
              "color": "#E5ECF6",
              "width": 0.5
             }
            },
            "type": "barpolar"
           }
          ],
          "carpet": [
           {
            "aaxis": {
             "endlinecolor": "#2a3f5f",
             "gridcolor": "white",
             "linecolor": "white",
             "minorgridcolor": "white",
             "startlinecolor": "#2a3f5f"
            },
            "baxis": {
             "endlinecolor": "#2a3f5f",
             "gridcolor": "white",
             "linecolor": "white",
             "minorgridcolor": "white",
             "startlinecolor": "#2a3f5f"
            },
            "type": "carpet"
           }
          ],
          "choropleth": [
           {
            "colorbar": {
             "outlinewidth": 0,
             "ticks": ""
            },
            "type": "choropleth"
           }
          ],
          "contour": [
           {
            "colorbar": {
             "outlinewidth": 0,
             "ticks": ""
            },
            "colorscale": [
             [
              0,
              "#0d0887"
             ],
             [
              0.1111111111111111,
              "#46039f"
             ],
             [
              0.2222222222222222,
              "#7201a8"
             ],
             [
              0.3333333333333333,
              "#9c179e"
             ],
             [
              0.4444444444444444,
              "#bd3786"
             ],
             [
              0.5555555555555556,
              "#d8576b"
             ],
             [
              0.6666666666666666,
              "#ed7953"
             ],
             [
              0.7777777777777778,
              "#fb9f3a"
             ],
             [
              0.8888888888888888,
              "#fdca26"
             ],
             [
              1,
              "#f0f921"
             ]
            ],
            "type": "contour"
           }
          ],
          "contourcarpet": [
           {
            "colorbar": {
             "outlinewidth": 0,
             "ticks": ""
            },
            "type": "contourcarpet"
           }
          ],
          "heatmap": [
           {
            "colorbar": {
             "outlinewidth": 0,
             "ticks": ""
            },
            "colorscale": [
             [
              0,
              "#0d0887"
             ],
             [
              0.1111111111111111,
              "#46039f"
             ],
             [
              0.2222222222222222,
              "#7201a8"
             ],
             [
              0.3333333333333333,
              "#9c179e"
             ],
             [
              0.4444444444444444,
              "#bd3786"
             ],
             [
              0.5555555555555556,
              "#d8576b"
             ],
             [
              0.6666666666666666,
              "#ed7953"
             ],
             [
              0.7777777777777778,
              "#fb9f3a"
             ],
             [
              0.8888888888888888,
              "#fdca26"
             ],
             [
              1,
              "#f0f921"
             ]
            ],
            "type": "heatmap"
           }
          ],
          "heatmapgl": [
           {
            "colorbar": {
             "outlinewidth": 0,
             "ticks": ""
            },
            "colorscale": [
             [
              0,
              "#0d0887"
             ],
             [
              0.1111111111111111,
              "#46039f"
             ],
             [
              0.2222222222222222,
              "#7201a8"
             ],
             [
              0.3333333333333333,
              "#9c179e"
             ],
             [
              0.4444444444444444,
              "#bd3786"
             ],
             [
              0.5555555555555556,
              "#d8576b"
             ],
             [
              0.6666666666666666,
              "#ed7953"
             ],
             [
              0.7777777777777778,
              "#fb9f3a"
             ],
             [
              0.8888888888888888,
              "#fdca26"
             ],
             [
              1,
              "#f0f921"
             ]
            ],
            "type": "heatmapgl"
           }
          ],
          "histogram": [
           {
            "marker": {
             "colorbar": {
              "outlinewidth": 0,
              "ticks": ""
             }
            },
            "type": "histogram"
           }
          ],
          "histogram2d": [
           {
            "colorbar": {
             "outlinewidth": 0,
             "ticks": ""
            },
            "colorscale": [
             [
              0,
              "#0d0887"
             ],
             [
              0.1111111111111111,
              "#46039f"
             ],
             [
              0.2222222222222222,
              "#7201a8"
             ],
             [
              0.3333333333333333,
              "#9c179e"
             ],
             [
              0.4444444444444444,
              "#bd3786"
             ],
             [
              0.5555555555555556,
              "#d8576b"
             ],
             [
              0.6666666666666666,
              "#ed7953"
             ],
             [
              0.7777777777777778,
              "#fb9f3a"
             ],
             [
              0.8888888888888888,
              "#fdca26"
             ],
             [
              1,
              "#f0f921"
             ]
            ],
            "type": "histogram2d"
           }
          ],
          "histogram2dcontour": [
           {
            "colorbar": {
             "outlinewidth": 0,
             "ticks": ""
            },
            "colorscale": [
             [
              0,
              "#0d0887"
             ],
             [
              0.1111111111111111,
              "#46039f"
             ],
             [
              0.2222222222222222,
              "#7201a8"
             ],
             [
              0.3333333333333333,
              "#9c179e"
             ],
             [
              0.4444444444444444,
              "#bd3786"
             ],
             [
              0.5555555555555556,
              "#d8576b"
             ],
             [
              0.6666666666666666,
              "#ed7953"
             ],
             [
              0.7777777777777778,
              "#fb9f3a"
             ],
             [
              0.8888888888888888,
              "#fdca26"
             ],
             [
              1,
              "#f0f921"
             ]
            ],
            "type": "histogram2dcontour"
           }
          ],
          "mesh3d": [
           {
            "colorbar": {
             "outlinewidth": 0,
             "ticks": ""
            },
            "type": "mesh3d"
           }
          ],
          "parcoords": [
           {
            "line": {
             "colorbar": {
              "outlinewidth": 0,
              "ticks": ""
             }
            },
            "type": "parcoords"
           }
          ],
          "pie": [
           {
            "automargin": true,
            "type": "pie"
           }
          ],
          "scatter": [
           {
            "marker": {
             "colorbar": {
              "outlinewidth": 0,
              "ticks": ""
             }
            },
            "type": "scatter"
           }
          ],
          "scatter3d": [
           {
            "line": {
             "colorbar": {
              "outlinewidth": 0,
              "ticks": ""
             }
            },
            "marker": {
             "colorbar": {
              "outlinewidth": 0,
              "ticks": ""
             }
            },
            "type": "scatter3d"
           }
          ],
          "scattercarpet": [
           {
            "marker": {
             "colorbar": {
              "outlinewidth": 0,
              "ticks": ""
             }
            },
            "type": "scattercarpet"
           }
          ],
          "scattergeo": [
           {
            "marker": {
             "colorbar": {
              "outlinewidth": 0,
              "ticks": ""
             }
            },
            "type": "scattergeo"
           }
          ],
          "scattergl": [
           {
            "marker": {
             "colorbar": {
              "outlinewidth": 0,
              "ticks": ""
             }
            },
            "type": "scattergl"
           }
          ],
          "scattermapbox": [
           {
            "marker": {
             "colorbar": {
              "outlinewidth": 0,
              "ticks": ""
             }
            },
            "type": "scattermapbox"
           }
          ],
          "scatterpolar": [
           {
            "marker": {
             "colorbar": {
              "outlinewidth": 0,
              "ticks": ""
             }
            },
            "type": "scatterpolar"
           }
          ],
          "scatterpolargl": [
           {
            "marker": {
             "colorbar": {
              "outlinewidth": 0,
              "ticks": ""
             }
            },
            "type": "scatterpolargl"
           }
          ],
          "scatterternary": [
           {
            "marker": {
             "colorbar": {
              "outlinewidth": 0,
              "ticks": ""
             }
            },
            "type": "scatterternary"
           }
          ],
          "surface": [
           {
            "colorbar": {
             "outlinewidth": 0,
             "ticks": ""
            },
            "colorscale": [
             [
              0,
              "#0d0887"
             ],
             [
              0.1111111111111111,
              "#46039f"
             ],
             [
              0.2222222222222222,
              "#7201a8"
             ],
             [
              0.3333333333333333,
              "#9c179e"
             ],
             [
              0.4444444444444444,
              "#bd3786"
             ],
             [
              0.5555555555555556,
              "#d8576b"
             ],
             [
              0.6666666666666666,
              "#ed7953"
             ],
             [
              0.7777777777777778,
              "#fb9f3a"
             ],
             [
              0.8888888888888888,
              "#fdca26"
             ],
             [
              1,
              "#f0f921"
             ]
            ],
            "type": "surface"
           }
          ],
          "table": [
           {
            "cells": {
             "fill": {
              "color": "#EBF0F8"
             },
             "line": {
              "color": "white"
             }
            },
            "header": {
             "fill": {
              "color": "#C8D4E3"
             },
             "line": {
              "color": "white"
             }
            },
            "type": "table"
           }
          ]
         },
         "layout": {
          "annotationdefaults": {
           "arrowcolor": "#2a3f5f",
           "arrowhead": 0,
           "arrowwidth": 1
          },
          "coloraxis": {
           "colorbar": {
            "outlinewidth": 0,
            "ticks": ""
           }
          },
          "colorscale": {
           "diverging": [
            [
             0,
             "#8e0152"
            ],
            [
             0.1,
             "#c51b7d"
            ],
            [
             0.2,
             "#de77ae"
            ],
            [
             0.3,
             "#f1b6da"
            ],
            [
             0.4,
             "#fde0ef"
            ],
            [
             0.5,
             "#f7f7f7"
            ],
            [
             0.6,
             "#e6f5d0"
            ],
            [
             0.7,
             "#b8e186"
            ],
            [
             0.8,
             "#7fbc41"
            ],
            [
             0.9,
             "#4d9221"
            ],
            [
             1,
             "#276419"
            ]
           ],
           "sequential": [
            [
             0,
             "#0d0887"
            ],
            [
             0.1111111111111111,
             "#46039f"
            ],
            [
             0.2222222222222222,
             "#7201a8"
            ],
            [
             0.3333333333333333,
             "#9c179e"
            ],
            [
             0.4444444444444444,
             "#bd3786"
            ],
            [
             0.5555555555555556,
             "#d8576b"
            ],
            [
             0.6666666666666666,
             "#ed7953"
            ],
            [
             0.7777777777777778,
             "#fb9f3a"
            ],
            [
             0.8888888888888888,
             "#fdca26"
            ],
            [
             1,
             "#f0f921"
            ]
           ],
           "sequentialminus": [
            [
             0,
             "#0d0887"
            ],
            [
             0.1111111111111111,
             "#46039f"
            ],
            [
             0.2222222222222222,
             "#7201a8"
            ],
            [
             0.3333333333333333,
             "#9c179e"
            ],
            [
             0.4444444444444444,
             "#bd3786"
            ],
            [
             0.5555555555555556,
             "#d8576b"
            ],
            [
             0.6666666666666666,
             "#ed7953"
            ],
            [
             0.7777777777777778,
             "#fb9f3a"
            ],
            [
             0.8888888888888888,
             "#fdca26"
            ],
            [
             1,
             "#f0f921"
            ]
           ]
          },
          "colorway": [
           "#636efa",
           "#EF553B",
           "#00cc96",
           "#ab63fa",
           "#FFA15A",
           "#19d3f3",
           "#FF6692",
           "#B6E880",
           "#FF97FF",
           "#FECB52"
          ],
          "font": {
           "color": "#2a3f5f"
          },
          "geo": {
           "bgcolor": "white",
           "lakecolor": "white",
           "landcolor": "#E5ECF6",
           "showlakes": true,
           "showland": true,
           "subunitcolor": "white"
          },
          "hoverlabel": {
           "align": "left"
          },
          "hovermode": "closest",
          "mapbox": {
           "style": "light"
          },
          "paper_bgcolor": "white",
          "plot_bgcolor": "#E5ECF6",
          "polar": {
           "angularaxis": {
            "gridcolor": "white",
            "linecolor": "white",
            "ticks": ""
           },
           "bgcolor": "#E5ECF6",
           "radialaxis": {
            "gridcolor": "white",
            "linecolor": "white",
            "ticks": ""
           }
          },
          "scene": {
           "xaxis": {
            "backgroundcolor": "#E5ECF6",
            "gridcolor": "white",
            "gridwidth": 2,
            "linecolor": "white",
            "showbackground": true,
            "ticks": "",
            "zerolinecolor": "white"
           },
           "yaxis": {
            "backgroundcolor": "#E5ECF6",
            "gridcolor": "white",
            "gridwidth": 2,
            "linecolor": "white",
            "showbackground": true,
            "ticks": "",
            "zerolinecolor": "white"
           },
           "zaxis": {
            "backgroundcolor": "#E5ECF6",
            "gridcolor": "white",
            "gridwidth": 2,
            "linecolor": "white",
            "showbackground": true,
            "ticks": "",
            "zerolinecolor": "white"
           }
          },
          "shapedefaults": {
           "line": {
            "color": "#2a3f5f"
           }
          },
          "ternary": {
           "aaxis": {
            "gridcolor": "white",
            "linecolor": "white",
            "ticks": ""
           },
           "baxis": {
            "gridcolor": "white",
            "linecolor": "white",
            "ticks": ""
           },
           "bgcolor": "#E5ECF6",
           "caxis": {
            "gridcolor": "white",
            "linecolor": "white",
            "ticks": ""
           }
          },
          "title": {
           "x": 0.05
          },
          "xaxis": {
           "automargin": true,
           "gridcolor": "white",
           "linecolor": "white",
           "ticks": "",
           "title": {
            "standoff": 15
           },
           "zerolinecolor": "white",
           "zerolinewidth": 2
          },
          "yaxis": {
           "automargin": true,
           "gridcolor": "white",
           "linecolor": "white",
           "ticks": "",
           "title": {
            "standoff": 15
           },
           "zerolinecolor": "white",
           "zerolinewidth": 2
          }
         }
        },
        "xaxis": {
         "anchor": "y",
         "domain": [
          0,
          1
         ],
         "title": {
          "text": "percentile split"
         }
        },
        "yaxis": {
         "anchor": "x",
         "domain": [
          0,
          1
         ],
         "title": {
          "text": "f1 score"
         }
        }
       }
      },
      "text/html": [
       "<div>\n",
       "        \n",
       "        \n",
       "            <div id=\"eeccf72c-0051-4d2b-a796-8e6b0c15040e\" class=\"plotly-graph-div\" style=\"height:525px; width:100%;\"></div>\n",
       "            <script type=\"text/javascript\">\n",
       "                require([\"plotly\"], function(Plotly) {\n",
       "                    window.PLOTLYENV=window.PLOTLYENV || {};\n",
       "                    \n",
       "                if (document.getElementById(\"eeccf72c-0051-4d2b-a796-8e6b0c15040e\")) {\n",
       "                    Plotly.newPlot(\n",
       "                        'eeccf72c-0051-4d2b-a796-8e6b0c15040e',\n",
       "                        [{\"hovertemplate\": \"variable=mnb<br>index=%{x}<br>value=%{y}<extra></extra>\", \"legendgroup\": \"mnb\", \"line\": {\"color\": \"#636efa\", \"dash\": \"solid\", \"shape\": \"spline\", \"smoothing\": 1}, \"marker\": {\"opacity\": 0.9, \"size\": 10}, \"mode\": \"lines+markers\", \"name\": \"mnb\", \"orientation\": \"v\", \"showlegend\": true, \"type\": \"scatter\", \"x\": [5, 10, 15, 20, 25, 30, 35, 40, 45, 50, 55, 60, 65, 70, 75, 80, 85, 90, 95], \"xaxis\": \"x\", \"y\": [0.9828368380062305, 0.961741317753976, 0.9683440989434681, 0.9114433518407028, 0.8854407742478435, 0.8816433648731348, 0.8738903207331044, 0.8261077937385852, 0.7673757040340796, 0.7763865806596997, 0.7437332937332937, 0.7238309738309738, 0.6575771915296345, 0.0, 0.0, 0.0, 0.0, 0.0, 0.0], \"yaxis\": \"y\"}, {\"hovertemplate\": \"variable=gnb<br>index=%{x}<br>value=%{y}<extra></extra>\", \"legendgroup\": \"gnb\", \"line\": {\"color\": \"#EF553B\", \"dash\": \"solid\", \"shape\": \"spline\", \"smoothing\": 1}, \"marker\": {\"opacity\": 0.9, \"size\": 10}, \"mode\": \"lines+markers\", \"name\": \"gnb\", \"orientation\": \"v\", \"showlegend\": true, \"type\": \"scatter\", \"x\": [5, 10, 15, 20, 25, 30, 35, 40, 45, 50, 55, 60, 65, 70, 75, 80, 85, 90, 95], \"xaxis\": \"x\", \"y\": [0.9270518050620695, 0.9550852681323196, 0.9357320099255584, 0.9396103071845647, 0.7607146441834789, 0.8695678474641889, 0.8617096475405841, 0.7642981505206794, 0.6600669536107127, 0.6811662116458173, 0.611176779616496, 0.5864218793055938, 0.5333958020989505, 0.2886142983230362, 0.5028833551769332, 0.25245039445374134, 0.6366339036524693, 0.680252892117299, 0.6039915966386554], \"yaxis\": \"y\"}, {\"hovertemplate\": \"variable=svm1<br>index=%{x}<br>value=%{y}<extra></extra>\", \"legendgroup\": \"svm1\", \"line\": {\"color\": \"#00cc96\", \"dash\": \"solid\", \"shape\": \"spline\", \"smoothing\": 1}, \"marker\": {\"opacity\": 0.9, \"size\": 10}, \"mode\": \"lines+markers\", \"name\": \"svm1\", \"orientation\": \"v\", \"showlegend\": true, \"type\": \"scatter\", \"x\": [5, 10, 15, 20, 25, 30, 35, 40, 45, 50, 55, 60, 65, 70, 75, 80, 85, 90, 95], \"xaxis\": \"x\", \"y\": [0.9812400511723747, 0.9650376432408463, 0.9601037851037851, 0.9115161649944259, 0.8757417559548584, 0.8816170413086972, 0.8698509973564048, 0.8155694466424013, 0.8123822163238221, 0.7674814179531161, 0.7188146638253189, 0.6889938609061798, 0.6376135022828707, 0.5535575578685723, 0.27814569536423844, 0.2156862745098039, 0.2836879432624113, 0.5647626709573612, 0.39357798165137614], \"yaxis\": \"y\"}, {\"hovertemplate\": \"variable=svm2<br>index=%{x}<br>value=%{y}<extra></extra>\", \"legendgroup\": \"svm2\", \"line\": {\"color\": \"#ab63fa\", \"dash\": \"solid\", \"shape\": \"spline\", \"smoothing\": 1}, \"marker\": {\"opacity\": 0.9, \"size\": 10}, \"mode\": \"lines+markers\", \"name\": \"svm2\", \"orientation\": \"v\", \"showlegend\": true, \"type\": \"scatter\", \"x\": [5, 10, 15, 20, 25, 30, 35, 40, 45, 50, 55, 60, 65, 70, 75, 80, 85, 90, 95], \"xaxis\": \"x\", \"y\": [0.9875776397515528, 0.9617729093767433, 0.955117471210051, 0.9276199751122653, 0.8949025556168413, 0.8834437862881943, 0.8775275571885741, 0.8165994676786044, 0.7947652149241027, 0.7711353890136818, 0.7238006708968192, 0.7449933244325767, 0.6254864154250657, 0.6862706007442849, 0.6074640287769784, 0.6198387623924175, 0.6483125, 0.6347049689440993, 0.6545205920205921], \"yaxis\": \"y\"}, {\"hovertemplate\": \"variable=svm3<br>index=%{x}<br>value=%{y}<extra></extra>\", \"legendgroup\": \"svm3\", \"line\": {\"color\": \"#FFA15A\", \"dash\": \"solid\", \"shape\": \"spline\", \"smoothing\": 1}, \"marker\": {\"opacity\": 0.9, \"size\": 10}, \"mode\": \"lines+markers\", \"name\": \"svm3\", \"orientation\": \"v\", \"showlegend\": true, \"type\": \"scatter\", \"x\": [5, 10, 15, 20, 25, 30, 35, 40, 45, 50, 55, 60, 65, 70, 75, 80, 85, 90, 95], \"xaxis\": \"x\", \"y\": [0.9796532131661442, 0.9649854862119014, 0.9567759641182132, 0.9273242198137357, 0.9039509074881902, 0.8618483585581633, 0.8964256889196357, 0.8078486428666933, 0.7925760298495178, 0.7356267238737357, 0.7568678505602529, 0.7397938209531038, 0.3076923076923077, 0.11320754716981131, 0.3222677595628415, 0.014492753623188406, 0.0, 0.0, 0.01639344262295082], \"yaxis\": \"y\"}, {\"hovertemplate\": \"variable=ada<br>index=%{x}<br>value=%{y}<extra></extra>\", \"legendgroup\": \"ada\", \"line\": {\"color\": \"#19d3f3\", \"dash\": \"solid\", \"shape\": \"spline\", \"smoothing\": 1}, \"marker\": {\"opacity\": 0.9, \"size\": 10}, \"mode\": \"lines+markers\", \"name\": \"ada\", \"orientation\": \"v\", \"showlegend\": true, \"type\": \"scatter\", \"x\": [5, 10, 15, 20, 25, 30, 35, 40, 45, 50, 55, 60, 65, 70, 75, 80, 85, 90, 95], \"xaxis\": \"x\", \"y\": [0.9844138198757764, 0.9346291450846371, 0.9465534882749691, 0.886788198153291, 0.8651543406782156, 0.8565371569534381, 0.8648585457096095, 0.7869465020576132, 0.7798952216870011, 0.7185771744595275, 0.696078431372549, 0.5961830131445904, 0.6038093304915593, 0.576261836903558, 0.5306570285271718, 0.542292490118577, 0.6067577282530554, 0.5370297029702971, 0.5557737260402056], \"yaxis\": \"y\"}, {\"hovertemplate\": \"variable=dtc<br>index=%{x}<br>value=%{y}<extra></extra>\", \"legendgroup\": \"dtc\", \"line\": {\"color\": \"#FF6692\", \"dash\": \"solid\", \"shape\": \"spline\", \"smoothing\": 1}, \"marker\": {\"opacity\": 0.9, \"size\": 10}, \"mode\": \"lines+markers\", \"name\": \"dtc\", \"orientation\": \"v\", \"showlegend\": true, \"type\": \"scatter\", \"x\": [5, 10, 15, 20, 25, 30, 35, 40, 45, 50, 55, 60, 65, 70, 75, 80, 85, 90, 95], \"xaxis\": \"x\", \"y\": [0.9746512163610325, 0.9275851621001602, 0.9186652878014434, 0.8592057761732853, 0.8166977611940298, 0.7404869370408197, 0.8049553309221305, 0.7023629964806435, 0.6847360586281919, 0.6673270197139544, 0.5824175824175823, 0.5809468147282291, 0.5830188679245284, 0.6129149283511699, 0.4877955758962624, 0.5888235294117647, 0.48848115846634854, 0.5964425964425963, 0.5178571428571429], \"yaxis\": \"y\"}, {\"hovertemplate\": \"variable=rfc<br>index=%{x}<br>value=%{y}<extra></extra>\", \"legendgroup\": \"rfc\", \"line\": {\"color\": \"#B6E880\", \"dash\": \"solid\", \"shape\": \"spline\", \"smoothing\": 1}, \"marker\": {\"opacity\": 0.9, \"size\": 10}, \"mode\": \"lines+markers\", \"name\": \"rfc\", \"orientation\": \"v\", \"showlegend\": true, \"type\": \"scatter\", \"x\": [5, 10, 15, 20, 25, 30, 35, 40, 45, 50, 55, 60, 65, 70, 75, 80, 85, 90, 95], \"xaxis\": \"x\", \"y\": [0.9922406830506518, 0.9481134530314859, 0.9517684887459806, 0.9209884075655888, 0.87519460300986, 0.830535981801032, 0.8447606003857226, 0.7759141349827178, 0.7680983177638974, 0.7140522875816993, 0.654954268292683, 0.6668563300142247, 0.6466666666666667, 0.6017387325554793, 0.5828012567143002, 0.6177293699417592, 0.5790465268676277, 0.5867612293144209, 0.5956632653061225], \"yaxis\": \"y\"}, {\"hovertemplate\": \"variable=gbc<br>index=%{x}<br>value=%{y}<extra></extra>\", \"legendgroup\": \"gbc\", \"line\": {\"color\": \"#FF97FF\", \"dash\": \"solid\", \"shape\": \"spline\", \"smoothing\": 1}, \"marker\": {\"opacity\": 0.9, \"size\": 10}, \"mode\": \"lines+markers\", \"name\": \"gbc\", \"orientation\": \"v\", \"showlegend\": true, \"type\": \"scatter\", \"x\": [5, 10, 15, 20, 25, 30, 35, 40, 45, 50, 55, 60, 65, 70, 75, 80, 85, 90, 95], \"xaxis\": \"x\", \"y\": [0.9812400511723747, 0.9601037851037851, 0.9500560119492159, 0.8918196798493407, 0.8841967891263666, 0.8462313266881197, 0.8285614148603473, 0.7804054054054054, 0.7297584541062802, 0.735603754439371, 0.6494107744107744, 0.6520551801801802, 0.6160714285714286, 0.5775727244291523, 0.5528500585055999, 0.6050847457627119, 0.5644827586206896, 0.5655160110605655, 0.6279988438192503], \"yaxis\": \"y\"}, {\"hovertemplate\": \"variable=lr<br>index=%{x}<br>value=%{y}<extra></extra>\", \"legendgroup\": \"lr\", \"line\": {\"color\": \"#FECB52\", \"dash\": \"solid\", \"shape\": \"spline\", \"smoothing\": 1}, \"marker\": {\"opacity\": 0.9, \"size\": 10}, \"mode\": \"lines+markers\", \"name\": \"lr\", \"orientation\": \"v\", \"showlegend\": true, \"type\": \"scatter\", \"x\": [5, 10, 15, 20, 25, 30, 35, 40, 45, 50, 55, 60, 65, 70, 75, 80, 85, 90, 95], \"xaxis\": \"x\", \"y\": [0.9811604535554883, 0.9584239269126729, 0.961741317753976, 0.9205179654178043, 0.8967819514429684, 0.873164266781288, 0.860014427720787, 0.819861220214716, 0.8036656970480499, 0.7625900316911552, 0.6998744776522554, 0.6816942411382414, 0.654043945769051, 0.5747393814077711, 0.533022533022533, 0.4230897564230897, 0.5148979591836734, 0.5060908084163898, 0.3495887191539365], \"yaxis\": \"y\"}],\n",
       "                        {\"legend\": {\"title\": {\"text\": \"Algorithm\"}, \"tracegroupgap\": 0}, \"margin\": {\"t\": 60}, \"template\": {\"data\": {\"bar\": [{\"error_x\": {\"color\": \"#2a3f5f\"}, \"error_y\": {\"color\": \"#2a3f5f\"}, \"marker\": {\"line\": {\"color\": \"#E5ECF6\", \"width\": 0.5}}, \"type\": \"bar\"}], \"barpolar\": [{\"marker\": {\"line\": {\"color\": \"#E5ECF6\", \"width\": 0.5}}, \"type\": \"barpolar\"}], \"carpet\": [{\"aaxis\": {\"endlinecolor\": \"#2a3f5f\", \"gridcolor\": \"white\", \"linecolor\": \"white\", \"minorgridcolor\": \"white\", \"startlinecolor\": \"#2a3f5f\"}, \"baxis\": {\"endlinecolor\": \"#2a3f5f\", \"gridcolor\": \"white\", \"linecolor\": \"white\", \"minorgridcolor\": \"white\", \"startlinecolor\": \"#2a3f5f\"}, \"type\": \"carpet\"}], \"choropleth\": [{\"colorbar\": {\"outlinewidth\": 0, \"ticks\": \"\"}, \"type\": \"choropleth\"}], \"contour\": [{\"colorbar\": {\"outlinewidth\": 0, \"ticks\": \"\"}, \"colorscale\": [[0.0, \"#0d0887\"], [0.1111111111111111, \"#46039f\"], [0.2222222222222222, \"#7201a8\"], [0.3333333333333333, \"#9c179e\"], [0.4444444444444444, \"#bd3786\"], [0.5555555555555556, \"#d8576b\"], [0.6666666666666666, \"#ed7953\"], [0.7777777777777778, \"#fb9f3a\"], [0.8888888888888888, \"#fdca26\"], [1.0, \"#f0f921\"]], \"type\": \"contour\"}], \"contourcarpet\": [{\"colorbar\": {\"outlinewidth\": 0, \"ticks\": \"\"}, \"type\": \"contourcarpet\"}], \"heatmap\": [{\"colorbar\": {\"outlinewidth\": 0, \"ticks\": \"\"}, \"colorscale\": [[0.0, \"#0d0887\"], [0.1111111111111111, \"#46039f\"], [0.2222222222222222, \"#7201a8\"], [0.3333333333333333, \"#9c179e\"], [0.4444444444444444, \"#bd3786\"], [0.5555555555555556, \"#d8576b\"], [0.6666666666666666, \"#ed7953\"], [0.7777777777777778, \"#fb9f3a\"], [0.8888888888888888, \"#fdca26\"], [1.0, \"#f0f921\"]], \"type\": \"heatmap\"}], \"heatmapgl\": [{\"colorbar\": {\"outlinewidth\": 0, \"ticks\": \"\"}, \"colorscale\": [[0.0, \"#0d0887\"], [0.1111111111111111, \"#46039f\"], [0.2222222222222222, \"#7201a8\"], [0.3333333333333333, \"#9c179e\"], [0.4444444444444444, \"#bd3786\"], [0.5555555555555556, \"#d8576b\"], [0.6666666666666666, \"#ed7953\"], [0.7777777777777778, \"#fb9f3a\"], [0.8888888888888888, \"#fdca26\"], [1.0, \"#f0f921\"]], \"type\": \"heatmapgl\"}], \"histogram\": [{\"marker\": {\"colorbar\": {\"outlinewidth\": 0, \"ticks\": \"\"}}, \"type\": \"histogram\"}], \"histogram2d\": [{\"colorbar\": {\"outlinewidth\": 0, \"ticks\": \"\"}, \"colorscale\": [[0.0, \"#0d0887\"], [0.1111111111111111, \"#46039f\"], [0.2222222222222222, \"#7201a8\"], [0.3333333333333333, \"#9c179e\"], [0.4444444444444444, \"#bd3786\"], [0.5555555555555556, \"#d8576b\"], [0.6666666666666666, \"#ed7953\"], [0.7777777777777778, \"#fb9f3a\"], [0.8888888888888888, \"#fdca26\"], [1.0, \"#f0f921\"]], \"type\": \"histogram2d\"}], \"histogram2dcontour\": [{\"colorbar\": {\"outlinewidth\": 0, \"ticks\": \"\"}, \"colorscale\": [[0.0, \"#0d0887\"], [0.1111111111111111, \"#46039f\"], [0.2222222222222222, \"#7201a8\"], [0.3333333333333333, \"#9c179e\"], [0.4444444444444444, \"#bd3786\"], [0.5555555555555556, \"#d8576b\"], [0.6666666666666666, \"#ed7953\"], [0.7777777777777778, \"#fb9f3a\"], [0.8888888888888888, \"#fdca26\"], [1.0, \"#f0f921\"]], \"type\": \"histogram2dcontour\"}], \"mesh3d\": [{\"colorbar\": {\"outlinewidth\": 0, \"ticks\": \"\"}, \"type\": \"mesh3d\"}], \"parcoords\": [{\"line\": {\"colorbar\": {\"outlinewidth\": 0, \"ticks\": \"\"}}, \"type\": \"parcoords\"}], \"pie\": [{\"automargin\": true, \"type\": \"pie\"}], \"scatter\": [{\"marker\": {\"colorbar\": {\"outlinewidth\": 0, \"ticks\": \"\"}}, \"type\": \"scatter\"}], \"scatter3d\": [{\"line\": {\"colorbar\": {\"outlinewidth\": 0, \"ticks\": \"\"}}, \"marker\": {\"colorbar\": {\"outlinewidth\": 0, \"ticks\": \"\"}}, \"type\": \"scatter3d\"}], \"scattercarpet\": [{\"marker\": {\"colorbar\": {\"outlinewidth\": 0, \"ticks\": \"\"}}, \"type\": \"scattercarpet\"}], \"scattergeo\": [{\"marker\": {\"colorbar\": {\"outlinewidth\": 0, \"ticks\": \"\"}}, \"type\": \"scattergeo\"}], \"scattergl\": [{\"marker\": {\"colorbar\": {\"outlinewidth\": 0, \"ticks\": \"\"}}, \"type\": \"scattergl\"}], \"scattermapbox\": [{\"marker\": {\"colorbar\": {\"outlinewidth\": 0, \"ticks\": \"\"}}, \"type\": \"scattermapbox\"}], \"scatterpolar\": [{\"marker\": {\"colorbar\": {\"outlinewidth\": 0, \"ticks\": \"\"}}, \"type\": \"scatterpolar\"}], \"scatterpolargl\": [{\"marker\": {\"colorbar\": {\"outlinewidth\": 0, \"ticks\": \"\"}}, \"type\": \"scatterpolargl\"}], \"scatterternary\": [{\"marker\": {\"colorbar\": {\"outlinewidth\": 0, \"ticks\": \"\"}}, \"type\": \"scatterternary\"}], \"surface\": [{\"colorbar\": {\"outlinewidth\": 0, \"ticks\": \"\"}, \"colorscale\": [[0.0, \"#0d0887\"], [0.1111111111111111, \"#46039f\"], [0.2222222222222222, \"#7201a8\"], [0.3333333333333333, \"#9c179e\"], [0.4444444444444444, \"#bd3786\"], [0.5555555555555556, \"#d8576b\"], [0.6666666666666666, \"#ed7953\"], [0.7777777777777778, \"#fb9f3a\"], [0.8888888888888888, \"#fdca26\"], [1.0, \"#f0f921\"]], \"type\": \"surface\"}], \"table\": [{\"cells\": {\"fill\": {\"color\": \"#EBF0F8\"}, \"line\": {\"color\": \"white\"}}, \"header\": {\"fill\": {\"color\": \"#C8D4E3\"}, \"line\": {\"color\": \"white\"}}, \"type\": \"table\"}]}, \"layout\": {\"annotationdefaults\": {\"arrowcolor\": \"#2a3f5f\", \"arrowhead\": 0, \"arrowwidth\": 1}, \"coloraxis\": {\"colorbar\": {\"outlinewidth\": 0, \"ticks\": \"\"}}, \"colorscale\": {\"diverging\": [[0, \"#8e0152\"], [0.1, \"#c51b7d\"], [0.2, \"#de77ae\"], [0.3, \"#f1b6da\"], [0.4, \"#fde0ef\"], [0.5, \"#f7f7f7\"], [0.6, \"#e6f5d0\"], [0.7, \"#b8e186\"], [0.8, \"#7fbc41\"], [0.9, \"#4d9221\"], [1, \"#276419\"]], \"sequential\": [[0.0, \"#0d0887\"], [0.1111111111111111, \"#46039f\"], [0.2222222222222222, \"#7201a8\"], [0.3333333333333333, \"#9c179e\"], [0.4444444444444444, \"#bd3786\"], [0.5555555555555556, \"#d8576b\"], [0.6666666666666666, \"#ed7953\"], [0.7777777777777778, \"#fb9f3a\"], [0.8888888888888888, \"#fdca26\"], [1.0, \"#f0f921\"]], \"sequentialminus\": [[0.0, \"#0d0887\"], [0.1111111111111111, \"#46039f\"], [0.2222222222222222, \"#7201a8\"], [0.3333333333333333, \"#9c179e\"], [0.4444444444444444, \"#bd3786\"], [0.5555555555555556, \"#d8576b\"], [0.6666666666666666, \"#ed7953\"], [0.7777777777777778, \"#fb9f3a\"], [0.8888888888888888, \"#fdca26\"], [1.0, \"#f0f921\"]]}, \"colorway\": [\"#636efa\", \"#EF553B\", \"#00cc96\", \"#ab63fa\", \"#FFA15A\", \"#19d3f3\", \"#FF6692\", \"#B6E880\", \"#FF97FF\", \"#FECB52\"], \"font\": {\"color\": \"#2a3f5f\"}, \"geo\": {\"bgcolor\": \"white\", \"lakecolor\": \"white\", \"landcolor\": \"#E5ECF6\", \"showlakes\": true, \"showland\": true, \"subunitcolor\": \"white\"}, \"hoverlabel\": {\"align\": \"left\"}, \"hovermode\": \"closest\", \"mapbox\": {\"style\": \"light\"}, \"paper_bgcolor\": \"white\", \"plot_bgcolor\": \"#E5ECF6\", \"polar\": {\"angularaxis\": {\"gridcolor\": \"white\", \"linecolor\": \"white\", \"ticks\": \"\"}, \"bgcolor\": \"#E5ECF6\", \"radialaxis\": {\"gridcolor\": \"white\", \"linecolor\": \"white\", \"ticks\": \"\"}}, \"scene\": {\"xaxis\": {\"backgroundcolor\": \"#E5ECF6\", \"gridcolor\": \"white\", \"gridwidth\": 2, \"linecolor\": \"white\", \"showbackground\": true, \"ticks\": \"\", \"zerolinecolor\": \"white\"}, \"yaxis\": {\"backgroundcolor\": \"#E5ECF6\", \"gridcolor\": \"white\", \"gridwidth\": 2, \"linecolor\": \"white\", \"showbackground\": true, \"ticks\": \"\", \"zerolinecolor\": \"white\"}, \"zaxis\": {\"backgroundcolor\": \"#E5ECF6\", \"gridcolor\": \"white\", \"gridwidth\": 2, \"linecolor\": \"white\", \"showbackground\": true, \"ticks\": \"\", \"zerolinecolor\": \"white\"}}, \"shapedefaults\": {\"line\": {\"color\": \"#2a3f5f\"}}, \"ternary\": {\"aaxis\": {\"gridcolor\": \"white\", \"linecolor\": \"white\", \"ticks\": \"\"}, \"baxis\": {\"gridcolor\": \"white\", \"linecolor\": \"white\", \"ticks\": \"\"}, \"bgcolor\": \"#E5ECF6\", \"caxis\": {\"gridcolor\": \"white\", \"linecolor\": \"white\", \"ticks\": \"\"}}, \"title\": {\"x\": 0.05}, \"xaxis\": {\"automargin\": true, \"gridcolor\": \"white\", \"linecolor\": \"white\", \"ticks\": \"\", \"title\": {\"standoff\": 15}, \"zerolinecolor\": \"white\", \"zerolinewidth\": 2}, \"yaxis\": {\"automargin\": true, \"gridcolor\": \"white\", \"linecolor\": \"white\", \"ticks\": \"\", \"title\": {\"standoff\": 15}, \"zerolinecolor\": \"white\", \"zerolinewidth\": 2}}}, \"xaxis\": {\"anchor\": \"y\", \"domain\": [0.0, 1.0], \"title\": {\"text\": \"percentile split\"}}, \"yaxis\": {\"anchor\": \"x\", \"domain\": [0.0, 1.0], \"title\": {\"text\": \"f1 score\"}}},\n",
       "                        {\"responsive\": true}\n",
       "                    ).then(function(){\n",
       "                            \n",
       "var gd = document.getElementById('eeccf72c-0051-4d2b-a796-8e6b0c15040e');\n",
       "var x = new MutationObserver(function (mutations, observer) {{\n",
       "        var display = window.getComputedStyle(gd).display;\n",
       "        if (!display || display === 'none') {{\n",
       "            console.log([gd, 'removed!']);\n",
       "            Plotly.purge(gd);\n",
       "            observer.disconnect();\n",
       "        }}\n",
       "}});\n",
       "\n",
       "// Listen for the removal of the full notebook cells\n",
       "var notebookContainer = gd.closest('#notebook-container');\n",
       "if (notebookContainer) {{\n",
       "    x.observe(notebookContainer, {childList: true});\n",
       "}}\n",
       "\n",
       "// Listen for the clearing of the current output cell\n",
       "var outputEl = gd.closest('.output');\n",
       "if (outputEl) {{\n",
       "    x.observe(outputEl, {childList: true});\n",
       "}}\n",
       "\n",
       "                        })\n",
       "                };\n",
       "                });\n",
       "            </script>\n",
       "        </div>"
      ]
     },
     "metadata": {},
     "output_type": "display_data"
    }
   ],
   "source": [
    "fig = px.line(pd.DataFrame(scores_per_clf))\n",
    "fig.update_layout(\n",
    "    yaxis_title=\"f1 score\",\n",
    "    xaxis_title=\"percentile split\",\n",
    "    legend_title_text='Algorithm'\n",
    ")\n",
    "fig.update_traces(line_traces)\n",
    "\n",
    "fig.show()"
   ]
  },
  {
   "cell_type": "code",
   "execution_count": 50,
   "metadata": {},
   "outputs": [
    {
     "data": {
      "application/vnd.plotly.v1+json": {
       "config": {
        "plotlyServerURL": "https://plot.ly"
       },
       "data": [
        {
         "hovertemplate": "variable=mnb<br>index=%{x}<br>value=%{y}<extra></extra>",
         "legendgroup": "mnb",
         "line": {
          "color": "#636efa",
          "dash": "solid",
          "shape": "spline",
          "smoothing": 1
         },
         "marker": {
          "opacity": 0.9,
          "size": 10
         },
         "mode": "lines+markers",
         "name": "mnb",
         "orientation": "v",
         "showlegend": true,
         "type": "scatter",
         "x": [
          5,
          10,
          15,
          20,
          25,
          30,
          35,
          40,
          45,
          50,
          55,
          60,
          65,
          70,
          75,
          80,
          85,
          90,
          95
         ],
         "xaxis": "x",
         "y": [
          0.9662576687116564,
          0.9263803680981595,
          0.9386503067484662,
          0.8374233128834356,
          0.794478527607362,
          0.7883435582822086,
          0.7760736196319018,
          0.7055214723926381,
          0.6226993865030674,
          0.6349693251533742,
          0.5920245398773006,
          0.5674846625766872,
          0.5245398773006135,
          0.5429447852760736,
          0.5705521472392638,
          0.5889570552147239,
          0.6165644171779141,
          0.6748466257668712,
          0.7177914110429449
         ],
         "yaxis": "y"
        },
        {
         "hovertemplate": "variable=gnb<br>index=%{x}<br>value=%{y}<extra></extra>",
         "legendgroup": "gnb",
         "line": {
          "color": "#EF553B",
          "dash": "solid",
          "shape": "spline",
          "smoothing": 1
         },
         "marker": {
          "opacity": 0.9,
          "size": 10
         },
         "mode": "lines+markers",
         "name": "gnb",
         "orientation": "v",
         "showlegend": true,
         "type": "scatter",
         "x": [
          5,
          10,
          15,
          20,
          25,
          30,
          35,
          40,
          45,
          50,
          55,
          60,
          65,
          70,
          75,
          80,
          85,
          90,
          95
         ],
         "xaxis": "x",
         "y": [
          0.8650306748466258,
          0.9141104294478528,
          0.8803680981595092,
          0.8865030674846626,
          0.6411042944785276,
          0.7699386503067485,
          0.7576687116564418,
          0.6533742331288344,
          0.5736196319018405,
          0.5797546012269938,
          0.5889570552147239,
          0.5736196319018405,
          0.5368098159509203,
          0.558282208588957,
          0.6349693251533742,
          0.5797546012269938,
          0.7147239263803681,
          0.7607361963190185,
          0.6901840490797546
         ],
         "yaxis": "y"
        },
        {
         "hovertemplate": "variable=svm1<br>index=%{x}<br>value=%{y}<extra></extra>",
         "legendgroup": "svm1",
         "line": {
          "color": "#00cc96",
          "dash": "solid",
          "shape": "spline",
          "smoothing": 1
         },
         "marker": {
          "opacity": 0.9,
          "size": 10
         },
         "mode": "lines+markers",
         "name": "svm1",
         "orientation": "v",
         "showlegend": true,
         "type": "scatter",
         "x": [
          5,
          10,
          15,
          20,
          25,
          30,
          35,
          40,
          45,
          50,
          55,
          60,
          65,
          70,
          75,
          80,
          85,
          90,
          95
         ],
         "xaxis": "x",
         "y": [
          0.9631901840490797,
          0.9325153374233128,
          0.9233128834355828,
          0.8374233128834356,
          0.7791411042944785,
          0.7883435582822086,
          0.7699386503067485,
          0.6901840490797546,
          0.6840490797546013,
          0.6226993865030674,
          0.5613496932515337,
          0.5460122699386503,
          0.5613496932515338,
          0.5613496932515337,
          0.5736196319018405,
          0.6226993865030674,
          0.6073619631901841,
          0.7177914110429449,
          0.7147239263803682
         ],
         "yaxis": "y"
        },
        {
         "hovertemplate": "variable=svm2<br>index=%{x}<br>value=%{y}<extra></extra>",
         "legendgroup": "svm2",
         "line": {
          "color": "#ab63fa",
          "dash": "solid",
          "shape": "spline",
          "smoothing": 1
         },
         "marker": {
          "opacity": 0.9,
          "size": 10
         },
         "mode": "lines+markers",
         "name": "svm2",
         "orientation": "v",
         "showlegend": true,
         "type": "scatter",
         "x": [
          5,
          10,
          15,
          20,
          25,
          30,
          35,
          40,
          45,
          50,
          55,
          60,
          65,
          70,
          75,
          80,
          85,
          90,
          95
         ],
         "xaxis": "x",
         "y": [
          0.9754601226993865,
          0.9263803680981595,
          0.9141104294478528,
          0.8650306748466258,
          0.8098159509202454,
          0.7914110429447853,
          0.7822085889570551,
          0.6901840490797546,
          0.665644171779141,
          0.6595092024539877,
          0.6226993865030674,
          0.6809815950920246,
          0.6134969325153374,
          0.665644171779141,
          0.6411042944785277,
          0.6840490797546013,
          0.7269938650306749,
          0.745398773006135,
          0.7638036809815951
         ],
         "yaxis": "y"
        },
        {
         "hovertemplate": "variable=svm3<br>index=%{x}<br>value=%{y}<extra></extra>",
         "legendgroup": "svm3",
         "line": {
          "color": "#FFA15A",
          "dash": "solid",
          "shape": "spline",
          "smoothing": 1
         },
         "marker": {
          "opacity": 0.9,
          "size": 10
         },
         "mode": "lines+markers",
         "name": "svm3",
         "orientation": "v",
         "showlegend": true,
         "type": "scatter",
         "x": [
          5,
          10,
          15,
          20,
          25,
          30,
          35,
          40,
          45,
          50,
          55,
          60,
          65,
          70,
          75,
          80,
          85,
          90,
          95
         ],
         "xaxis": "x",
         "y": [
          0.9601226993865031,
          0.9325153374233128,
          0.9171779141104295,
          0.8650306748466258,
          0.8251533742331287,
          0.7576687116564418,
          0.8128834355828221,
          0.6779141104294478,
          0.656441717791411,
          0.5858895705521472,
          0.6104294478527608,
          0.598159509202454,
          0.44171779141104295,
          0.5337423312883436,
          0.49693251533742333,
          0.5828220858895705,
          0.6503067484662577,
          0.6625766871165644,
          0.647239263803681
         ],
         "yaxis": "y"
        },
        {
         "hovertemplate": "variable=ada<br>index=%{x}<br>value=%{y}<extra></extra>",
         "legendgroup": "ada",
         "line": {
          "color": "#19d3f3",
          "dash": "solid",
          "shape": "spline",
          "smoothing": 1
         },
         "marker": {
          "opacity": 0.9,
          "size": 10
         },
         "mode": "lines+markers",
         "name": "ada",
         "orientation": "v",
         "showlegend": true,
         "type": "scatter",
         "x": [
          5,
          10,
          15,
          20,
          25,
          30,
          35,
          40,
          45,
          50,
          55,
          60,
          65,
          70,
          75,
          80,
          85,
          90,
          95
         ],
         "xaxis": "x",
         "y": [
          0.9693251533742331,
          0.8773006134969326,
          0.8987730061349694,
          0.8006134969325154,
          0.7638036809815951,
          0.7546012269938651,
          0.7699386503067485,
          0.6779141104294478,
          0.6779141104294478,
          0.6226993865030674,
          0.6196319018404908,
          0.558282208588957,
          0.5828220858895705,
          0.6165644171779141,
          0.6411042944785277,
          0.6533742331288344,
          0.7300613496932515,
          0.7147239263803681,
          0.7177914110429447
         ],
         "yaxis": "y"
        },
        {
         "hovertemplate": "variable=dtc<br>index=%{x}<br>value=%{y}<extra></extra>",
         "legendgroup": "dtc",
         "line": {
          "color": "#FF6692",
          "dash": "solid",
          "shape": "spline",
          "smoothing": 1
         },
         "marker": {
          "opacity": 0.9,
          "size": 10
         },
         "mode": "lines+markers",
         "name": "dtc",
         "orientation": "v",
         "showlegend": true,
         "type": "scatter",
         "x": [
          5,
          10,
          15,
          20,
          25,
          30,
          35,
          40,
          45,
          50,
          55,
          60,
          65,
          70,
          75,
          80,
          85,
          90,
          95
         ],
         "xaxis": "x",
         "y": [
          0.9509202453987731,
          0.8650306748466258,
          0.8496932515337423,
          0.7607361963190185,
          0.7055214723926381,
          0.6104294478527608,
          0.696319018404908,
          0.5858895705521472,
          0.5950920245398773,
          0.5858895705521472,
          0.5429447852760736,
          0.5490797546012269,
          0.6042944785276074,
          0.647239263803681,
          0.5736196319018405,
          0.6717791411042944,
          0.6533742331288344,
          0.7177914110429449,
          0.6993865030674846
         ],
         "yaxis": "y"
        },
        {
         "hovertemplate": "variable=rfc<br>index=%{x}<br>value=%{y}<extra></extra>",
         "legendgroup": "rfc",
         "line": {
          "color": "#B6E880",
          "dash": "solid",
          "shape": "spline",
          "smoothing": 1
         },
         "marker": {
          "opacity": 0.9,
          "size": 10
         },
         "mode": "lines+markers",
         "name": "rfc",
         "orientation": "v",
         "showlegend": true,
         "type": "scatter",
         "x": [
          5,
          10,
          15,
          20,
          25,
          30,
          35,
          40,
          45,
          50,
          55,
          60,
          65,
          70,
          75,
          80,
          85,
          90,
          95
         ],
         "xaxis": "x",
         "y": [
          0.9846625766871165,
          0.9018404907975459,
          0.9079754601226994,
          0.8558282208588956,
          0.7822085889570553,
          0.7208588957055215,
          0.7453987730061349,
          0.6779141104294479,
          0.6687116564417177,
          0.6319018404907976,
          0.5797546012269938,
          0.6165644171779141,
          0.6503067484662577,
          0.6380368098159509,
          0.6411042944785277,
          0.7300613496932515,
          0.7147239263803681,
          0.7668711656441718,
          0.7423312883435582
         ],
         "yaxis": "y"
        },
        {
         "hovertemplate": "variable=gbc<br>index=%{x}<br>value=%{y}<extra></extra>",
         "legendgroup": "gbc",
         "line": {
          "color": "#FF97FF",
          "dash": "solid",
          "shape": "spline",
          "smoothing": 1
         },
         "marker": {
          "opacity": 0.9,
          "size": 10
         },
         "mode": "lines+markers",
         "name": "gbc",
         "orientation": "v",
         "showlegend": true,
         "type": "scatter",
         "x": [
          5,
          10,
          15,
          20,
          25,
          30,
          35,
          40,
          45,
          50,
          55,
          60,
          65,
          70,
          75,
          80,
          85,
          90,
          95
         ],
         "xaxis": "x",
         "y": [
          0.9631901840490797,
          0.9233128834355828,
          0.9049079754601228,
          0.8067484662576687,
          0.7975460122699387,
          0.7392638036809815,
          0.7147239263803681,
          0.665644171779141,
          0.6226993865030674,
          0.647239263803681,
          0.558282208588957,
          0.598159509202454,
          0.6134969325153374,
          0.6411042944785277,
          0.6319018404907975,
          0.6871165644171779,
          0.7116564417177914,
          0.7177914110429449,
          0.7668711656441718
         ],
         "yaxis": "y"
        },
        {
         "hovertemplate": "variable=lr<br>index=%{x}<br>value=%{y}<extra></extra>",
         "legendgroup": "lr",
         "line": {
          "color": "#FECB52",
          "dash": "solid",
          "shape": "spline",
          "smoothing": 1
         },
         "marker": {
          "opacity": 0.9,
          "size": 10
         },
         "mode": "lines+markers",
         "name": "lr",
         "orientation": "v",
         "showlegend": true,
         "type": "scatter",
         "x": [
          5,
          10,
          15,
          20,
          25,
          30,
          35,
          40,
          45,
          50,
          55,
          60,
          65,
          70,
          75,
          80,
          85,
          90,
          95
         ],
         "xaxis": "x",
         "y": [
          0.9631901840490797,
          0.9202453987730062,
          0.9263803680981595,
          0.852760736196319,
          0.8128834355828221,
          0.7760736196319018,
          0.754601226993865,
          0.696319018404908,
          0.6717791411042945,
          0.6165644171779141,
          0.5398773006134969,
          0.5705521472392638,
          0.6073619631901841,
          0.6042944785276074,
          0.6319018404907976,
          0.6809815950920246,
          0.705521472392638,
          0.7423312883435582,
          0.7147239263803682
         ],
         "yaxis": "y"
        }
       ],
       "layout": {
        "legend": {
         "title": {
          "text": "Algorithm"
         },
         "tracegroupgap": 0
        },
        "margin": {
         "t": 60
        },
        "template": {
         "data": {
          "bar": [
           {
            "error_x": {
             "color": "#2a3f5f"
            },
            "error_y": {
             "color": "#2a3f5f"
            },
            "marker": {
             "line": {
              "color": "#E5ECF6",
              "width": 0.5
             }
            },
            "type": "bar"
           }
          ],
          "barpolar": [
           {
            "marker": {
             "line": {
              "color": "#E5ECF6",
              "width": 0.5
             }
            },
            "type": "barpolar"
           }
          ],
          "carpet": [
           {
            "aaxis": {
             "endlinecolor": "#2a3f5f",
             "gridcolor": "white",
             "linecolor": "white",
             "minorgridcolor": "white",
             "startlinecolor": "#2a3f5f"
            },
            "baxis": {
             "endlinecolor": "#2a3f5f",
             "gridcolor": "white",
             "linecolor": "white",
             "minorgridcolor": "white",
             "startlinecolor": "#2a3f5f"
            },
            "type": "carpet"
           }
          ],
          "choropleth": [
           {
            "colorbar": {
             "outlinewidth": 0,
             "ticks": ""
            },
            "type": "choropleth"
           }
          ],
          "contour": [
           {
            "colorbar": {
             "outlinewidth": 0,
             "ticks": ""
            },
            "colorscale": [
             [
              0,
              "#0d0887"
             ],
             [
              0.1111111111111111,
              "#46039f"
             ],
             [
              0.2222222222222222,
              "#7201a8"
             ],
             [
              0.3333333333333333,
              "#9c179e"
             ],
             [
              0.4444444444444444,
              "#bd3786"
             ],
             [
              0.5555555555555556,
              "#d8576b"
             ],
             [
              0.6666666666666666,
              "#ed7953"
             ],
             [
              0.7777777777777778,
              "#fb9f3a"
             ],
             [
              0.8888888888888888,
              "#fdca26"
             ],
             [
              1,
              "#f0f921"
             ]
            ],
            "type": "contour"
           }
          ],
          "contourcarpet": [
           {
            "colorbar": {
             "outlinewidth": 0,
             "ticks": ""
            },
            "type": "contourcarpet"
           }
          ],
          "heatmap": [
           {
            "colorbar": {
             "outlinewidth": 0,
             "ticks": ""
            },
            "colorscale": [
             [
              0,
              "#0d0887"
             ],
             [
              0.1111111111111111,
              "#46039f"
             ],
             [
              0.2222222222222222,
              "#7201a8"
             ],
             [
              0.3333333333333333,
              "#9c179e"
             ],
             [
              0.4444444444444444,
              "#bd3786"
             ],
             [
              0.5555555555555556,
              "#d8576b"
             ],
             [
              0.6666666666666666,
              "#ed7953"
             ],
             [
              0.7777777777777778,
              "#fb9f3a"
             ],
             [
              0.8888888888888888,
              "#fdca26"
             ],
             [
              1,
              "#f0f921"
             ]
            ],
            "type": "heatmap"
           }
          ],
          "heatmapgl": [
           {
            "colorbar": {
             "outlinewidth": 0,
             "ticks": ""
            },
            "colorscale": [
             [
              0,
              "#0d0887"
             ],
             [
              0.1111111111111111,
              "#46039f"
             ],
             [
              0.2222222222222222,
              "#7201a8"
             ],
             [
              0.3333333333333333,
              "#9c179e"
             ],
             [
              0.4444444444444444,
              "#bd3786"
             ],
             [
              0.5555555555555556,
              "#d8576b"
             ],
             [
              0.6666666666666666,
              "#ed7953"
             ],
             [
              0.7777777777777778,
              "#fb9f3a"
             ],
             [
              0.8888888888888888,
              "#fdca26"
             ],
             [
              1,
              "#f0f921"
             ]
            ],
            "type": "heatmapgl"
           }
          ],
          "histogram": [
           {
            "marker": {
             "colorbar": {
              "outlinewidth": 0,
              "ticks": ""
             }
            },
            "type": "histogram"
           }
          ],
          "histogram2d": [
           {
            "colorbar": {
             "outlinewidth": 0,
             "ticks": ""
            },
            "colorscale": [
             [
              0,
              "#0d0887"
             ],
             [
              0.1111111111111111,
              "#46039f"
             ],
             [
              0.2222222222222222,
              "#7201a8"
             ],
             [
              0.3333333333333333,
              "#9c179e"
             ],
             [
              0.4444444444444444,
              "#bd3786"
             ],
             [
              0.5555555555555556,
              "#d8576b"
             ],
             [
              0.6666666666666666,
              "#ed7953"
             ],
             [
              0.7777777777777778,
              "#fb9f3a"
             ],
             [
              0.8888888888888888,
              "#fdca26"
             ],
             [
              1,
              "#f0f921"
             ]
            ],
            "type": "histogram2d"
           }
          ],
          "histogram2dcontour": [
           {
            "colorbar": {
             "outlinewidth": 0,
             "ticks": ""
            },
            "colorscale": [
             [
              0,
              "#0d0887"
             ],
             [
              0.1111111111111111,
              "#46039f"
             ],
             [
              0.2222222222222222,
              "#7201a8"
             ],
             [
              0.3333333333333333,
              "#9c179e"
             ],
             [
              0.4444444444444444,
              "#bd3786"
             ],
             [
              0.5555555555555556,
              "#d8576b"
             ],
             [
              0.6666666666666666,
              "#ed7953"
             ],
             [
              0.7777777777777778,
              "#fb9f3a"
             ],
             [
              0.8888888888888888,
              "#fdca26"
             ],
             [
              1,
              "#f0f921"
             ]
            ],
            "type": "histogram2dcontour"
           }
          ],
          "mesh3d": [
           {
            "colorbar": {
             "outlinewidth": 0,
             "ticks": ""
            },
            "type": "mesh3d"
           }
          ],
          "parcoords": [
           {
            "line": {
             "colorbar": {
              "outlinewidth": 0,
              "ticks": ""
             }
            },
            "type": "parcoords"
           }
          ],
          "pie": [
           {
            "automargin": true,
            "type": "pie"
           }
          ],
          "scatter": [
           {
            "marker": {
             "colorbar": {
              "outlinewidth": 0,
              "ticks": ""
             }
            },
            "type": "scatter"
           }
          ],
          "scatter3d": [
           {
            "line": {
             "colorbar": {
              "outlinewidth": 0,
              "ticks": ""
             }
            },
            "marker": {
             "colorbar": {
              "outlinewidth": 0,
              "ticks": ""
             }
            },
            "type": "scatter3d"
           }
          ],
          "scattercarpet": [
           {
            "marker": {
             "colorbar": {
              "outlinewidth": 0,
              "ticks": ""
             }
            },
            "type": "scattercarpet"
           }
          ],
          "scattergeo": [
           {
            "marker": {
             "colorbar": {
              "outlinewidth": 0,
              "ticks": ""
             }
            },
            "type": "scattergeo"
           }
          ],
          "scattergl": [
           {
            "marker": {
             "colorbar": {
              "outlinewidth": 0,
              "ticks": ""
             }
            },
            "type": "scattergl"
           }
          ],
          "scattermapbox": [
           {
            "marker": {
             "colorbar": {
              "outlinewidth": 0,
              "ticks": ""
             }
            },
            "type": "scattermapbox"
           }
          ],
          "scatterpolar": [
           {
            "marker": {
             "colorbar": {
              "outlinewidth": 0,
              "ticks": ""
             }
            },
            "type": "scatterpolar"
           }
          ],
          "scatterpolargl": [
           {
            "marker": {
             "colorbar": {
              "outlinewidth": 0,
              "ticks": ""
             }
            },
            "type": "scatterpolargl"
           }
          ],
          "scatterternary": [
           {
            "marker": {
             "colorbar": {
              "outlinewidth": 0,
              "ticks": ""
             }
            },
            "type": "scatterternary"
           }
          ],
          "surface": [
           {
            "colorbar": {
             "outlinewidth": 0,
             "ticks": ""
            },
            "colorscale": [
             [
              0,
              "#0d0887"
             ],
             [
              0.1111111111111111,
              "#46039f"
             ],
             [
              0.2222222222222222,
              "#7201a8"
             ],
             [
              0.3333333333333333,
              "#9c179e"
             ],
             [
              0.4444444444444444,
              "#bd3786"
             ],
             [
              0.5555555555555556,
              "#d8576b"
             ],
             [
              0.6666666666666666,
              "#ed7953"
             ],
             [
              0.7777777777777778,
              "#fb9f3a"
             ],
             [
              0.8888888888888888,
              "#fdca26"
             ],
             [
              1,
              "#f0f921"
             ]
            ],
            "type": "surface"
           }
          ],
          "table": [
           {
            "cells": {
             "fill": {
              "color": "#EBF0F8"
             },
             "line": {
              "color": "white"
             }
            },
            "header": {
             "fill": {
              "color": "#C8D4E3"
             },
             "line": {
              "color": "white"
             }
            },
            "type": "table"
           }
          ]
         },
         "layout": {
          "annotationdefaults": {
           "arrowcolor": "#2a3f5f",
           "arrowhead": 0,
           "arrowwidth": 1
          },
          "coloraxis": {
           "colorbar": {
            "outlinewidth": 0,
            "ticks": ""
           }
          },
          "colorscale": {
           "diverging": [
            [
             0,
             "#8e0152"
            ],
            [
             0.1,
             "#c51b7d"
            ],
            [
             0.2,
             "#de77ae"
            ],
            [
             0.3,
             "#f1b6da"
            ],
            [
             0.4,
             "#fde0ef"
            ],
            [
             0.5,
             "#f7f7f7"
            ],
            [
             0.6,
             "#e6f5d0"
            ],
            [
             0.7,
             "#b8e186"
            ],
            [
             0.8,
             "#7fbc41"
            ],
            [
             0.9,
             "#4d9221"
            ],
            [
             1,
             "#276419"
            ]
           ],
           "sequential": [
            [
             0,
             "#0d0887"
            ],
            [
             0.1111111111111111,
             "#46039f"
            ],
            [
             0.2222222222222222,
             "#7201a8"
            ],
            [
             0.3333333333333333,
             "#9c179e"
            ],
            [
             0.4444444444444444,
             "#bd3786"
            ],
            [
             0.5555555555555556,
             "#d8576b"
            ],
            [
             0.6666666666666666,
             "#ed7953"
            ],
            [
             0.7777777777777778,
             "#fb9f3a"
            ],
            [
             0.8888888888888888,
             "#fdca26"
            ],
            [
             1,
             "#f0f921"
            ]
           ],
           "sequentialminus": [
            [
             0,
             "#0d0887"
            ],
            [
             0.1111111111111111,
             "#46039f"
            ],
            [
             0.2222222222222222,
             "#7201a8"
            ],
            [
             0.3333333333333333,
             "#9c179e"
            ],
            [
             0.4444444444444444,
             "#bd3786"
            ],
            [
             0.5555555555555556,
             "#d8576b"
            ],
            [
             0.6666666666666666,
             "#ed7953"
            ],
            [
             0.7777777777777778,
             "#fb9f3a"
            ],
            [
             0.8888888888888888,
             "#fdca26"
            ],
            [
             1,
             "#f0f921"
            ]
           ]
          },
          "colorway": [
           "#636efa",
           "#EF553B",
           "#00cc96",
           "#ab63fa",
           "#FFA15A",
           "#19d3f3",
           "#FF6692",
           "#B6E880",
           "#FF97FF",
           "#FECB52"
          ],
          "font": {
           "color": "#2a3f5f"
          },
          "geo": {
           "bgcolor": "white",
           "lakecolor": "white",
           "landcolor": "#E5ECF6",
           "showlakes": true,
           "showland": true,
           "subunitcolor": "white"
          },
          "hoverlabel": {
           "align": "left"
          },
          "hovermode": "closest",
          "mapbox": {
           "style": "light"
          },
          "paper_bgcolor": "white",
          "plot_bgcolor": "#E5ECF6",
          "polar": {
           "angularaxis": {
            "gridcolor": "white",
            "linecolor": "white",
            "ticks": ""
           },
           "bgcolor": "#E5ECF6",
           "radialaxis": {
            "gridcolor": "white",
            "linecolor": "white",
            "ticks": ""
           }
          },
          "scene": {
           "xaxis": {
            "backgroundcolor": "#E5ECF6",
            "gridcolor": "white",
            "gridwidth": 2,
            "linecolor": "white",
            "showbackground": true,
            "ticks": "",
            "zerolinecolor": "white"
           },
           "yaxis": {
            "backgroundcolor": "#E5ECF6",
            "gridcolor": "white",
            "gridwidth": 2,
            "linecolor": "white",
            "showbackground": true,
            "ticks": "",
            "zerolinecolor": "white"
           },
           "zaxis": {
            "backgroundcolor": "#E5ECF6",
            "gridcolor": "white",
            "gridwidth": 2,
            "linecolor": "white",
            "showbackground": true,
            "ticks": "",
            "zerolinecolor": "white"
           }
          },
          "shapedefaults": {
           "line": {
            "color": "#2a3f5f"
           }
          },
          "ternary": {
           "aaxis": {
            "gridcolor": "white",
            "linecolor": "white",
            "ticks": ""
           },
           "baxis": {
            "gridcolor": "white",
            "linecolor": "white",
            "ticks": ""
           },
           "bgcolor": "#E5ECF6",
           "caxis": {
            "gridcolor": "white",
            "linecolor": "white",
            "ticks": ""
           }
          },
          "title": {
           "x": 0.05
          },
          "xaxis": {
           "automargin": true,
           "gridcolor": "white",
           "linecolor": "white",
           "ticks": "",
           "title": {
            "standoff": 15
           },
           "zerolinecolor": "white",
           "zerolinewidth": 2
          },
          "yaxis": {
           "automargin": true,
           "gridcolor": "white",
           "linecolor": "white",
           "ticks": "",
           "title": {
            "standoff": 15
           },
           "zerolinecolor": "white",
           "zerolinewidth": 2
          }
         }
        },
        "xaxis": {
         "anchor": "y",
         "domain": [
          0,
          1
         ],
         "title": {
          "text": "percentile split"
         }
        },
        "yaxis": {
         "anchor": "x",
         "domain": [
          0,
          1
         ],
         "title": {
          "text": "Accuracy"
         }
        }
       }
      },
      "text/html": [
       "<div>\n",
       "        \n",
       "        \n",
       "            <div id=\"4e325098-7395-46c1-9cf7-9be3b1584923\" class=\"plotly-graph-div\" style=\"height:525px; width:100%;\"></div>\n",
       "            <script type=\"text/javascript\">\n",
       "                require([\"plotly\"], function(Plotly) {\n",
       "                    window.PLOTLYENV=window.PLOTLYENV || {};\n",
       "                    \n",
       "                if (document.getElementById(\"4e325098-7395-46c1-9cf7-9be3b1584923\")) {\n",
       "                    Plotly.newPlot(\n",
       "                        '4e325098-7395-46c1-9cf7-9be3b1584923',\n",
       "                        [{\"hovertemplate\": \"variable=mnb<br>index=%{x}<br>value=%{y}<extra></extra>\", \"legendgroup\": \"mnb\", \"line\": {\"color\": \"#636efa\", \"dash\": \"solid\", \"shape\": \"spline\", \"smoothing\": 1}, \"marker\": {\"opacity\": 0.9, \"size\": 10}, \"mode\": \"lines+markers\", \"name\": \"mnb\", \"orientation\": \"v\", \"showlegend\": true, \"type\": \"scatter\", \"x\": [5, 10, 15, 20, 25, 30, 35, 40, 45, 50, 55, 60, 65, 70, 75, 80, 85, 90, 95], \"xaxis\": \"x\", \"y\": [0.9662576687116564, 0.9263803680981595, 0.9386503067484662, 0.8374233128834356, 0.794478527607362, 0.7883435582822086, 0.7760736196319018, 0.7055214723926381, 0.6226993865030674, 0.6349693251533742, 0.5920245398773006, 0.5674846625766872, 0.5245398773006135, 0.5429447852760736, 0.5705521472392638, 0.5889570552147239, 0.6165644171779141, 0.6748466257668712, 0.7177914110429449], \"yaxis\": \"y\"}, {\"hovertemplate\": \"variable=gnb<br>index=%{x}<br>value=%{y}<extra></extra>\", \"legendgroup\": \"gnb\", \"line\": {\"color\": \"#EF553B\", \"dash\": \"solid\", \"shape\": \"spline\", \"smoothing\": 1}, \"marker\": {\"opacity\": 0.9, \"size\": 10}, \"mode\": \"lines+markers\", \"name\": \"gnb\", \"orientation\": \"v\", \"showlegend\": true, \"type\": \"scatter\", \"x\": [5, 10, 15, 20, 25, 30, 35, 40, 45, 50, 55, 60, 65, 70, 75, 80, 85, 90, 95], \"xaxis\": \"x\", \"y\": [0.8650306748466258, 0.9141104294478528, 0.8803680981595092, 0.8865030674846626, 0.6411042944785276, 0.7699386503067485, 0.7576687116564418, 0.6533742331288344, 0.5736196319018405, 0.5797546012269938, 0.5889570552147239, 0.5736196319018405, 0.5368098159509203, 0.558282208588957, 0.6349693251533742, 0.5797546012269938, 0.7147239263803681, 0.7607361963190185, 0.6901840490797546], \"yaxis\": \"y\"}, {\"hovertemplate\": \"variable=svm1<br>index=%{x}<br>value=%{y}<extra></extra>\", \"legendgroup\": \"svm1\", \"line\": {\"color\": \"#00cc96\", \"dash\": \"solid\", \"shape\": \"spline\", \"smoothing\": 1}, \"marker\": {\"opacity\": 0.9, \"size\": 10}, \"mode\": \"lines+markers\", \"name\": \"svm1\", \"orientation\": \"v\", \"showlegend\": true, \"type\": \"scatter\", \"x\": [5, 10, 15, 20, 25, 30, 35, 40, 45, 50, 55, 60, 65, 70, 75, 80, 85, 90, 95], \"xaxis\": \"x\", \"y\": [0.9631901840490797, 0.9325153374233128, 0.9233128834355828, 0.8374233128834356, 0.7791411042944785, 0.7883435582822086, 0.7699386503067485, 0.6901840490797546, 0.6840490797546013, 0.6226993865030674, 0.5613496932515337, 0.5460122699386503, 0.5613496932515338, 0.5613496932515337, 0.5736196319018405, 0.6226993865030674, 0.6073619631901841, 0.7177914110429449, 0.7147239263803682], \"yaxis\": \"y\"}, {\"hovertemplate\": \"variable=svm2<br>index=%{x}<br>value=%{y}<extra></extra>\", \"legendgroup\": \"svm2\", \"line\": {\"color\": \"#ab63fa\", \"dash\": \"solid\", \"shape\": \"spline\", \"smoothing\": 1}, \"marker\": {\"opacity\": 0.9, \"size\": 10}, \"mode\": \"lines+markers\", \"name\": \"svm2\", \"orientation\": \"v\", \"showlegend\": true, \"type\": \"scatter\", \"x\": [5, 10, 15, 20, 25, 30, 35, 40, 45, 50, 55, 60, 65, 70, 75, 80, 85, 90, 95], \"xaxis\": \"x\", \"y\": [0.9754601226993865, 0.9263803680981595, 0.9141104294478528, 0.8650306748466258, 0.8098159509202454, 0.7914110429447853, 0.7822085889570551, 0.6901840490797546, 0.665644171779141, 0.6595092024539877, 0.6226993865030674, 0.6809815950920246, 0.6134969325153374, 0.665644171779141, 0.6411042944785277, 0.6840490797546013, 0.7269938650306749, 0.745398773006135, 0.7638036809815951], \"yaxis\": \"y\"}, {\"hovertemplate\": \"variable=svm3<br>index=%{x}<br>value=%{y}<extra></extra>\", \"legendgroup\": \"svm3\", \"line\": {\"color\": \"#FFA15A\", \"dash\": \"solid\", \"shape\": \"spline\", \"smoothing\": 1}, \"marker\": {\"opacity\": 0.9, \"size\": 10}, \"mode\": \"lines+markers\", \"name\": \"svm3\", \"orientation\": \"v\", \"showlegend\": true, \"type\": \"scatter\", \"x\": [5, 10, 15, 20, 25, 30, 35, 40, 45, 50, 55, 60, 65, 70, 75, 80, 85, 90, 95], \"xaxis\": \"x\", \"y\": [0.9601226993865031, 0.9325153374233128, 0.9171779141104295, 0.8650306748466258, 0.8251533742331287, 0.7576687116564418, 0.8128834355828221, 0.6779141104294478, 0.656441717791411, 0.5858895705521472, 0.6104294478527608, 0.598159509202454, 0.44171779141104295, 0.5337423312883436, 0.49693251533742333, 0.5828220858895705, 0.6503067484662577, 0.6625766871165644, 0.647239263803681], \"yaxis\": \"y\"}, {\"hovertemplate\": \"variable=ada<br>index=%{x}<br>value=%{y}<extra></extra>\", \"legendgroup\": \"ada\", \"line\": {\"color\": \"#19d3f3\", \"dash\": \"solid\", \"shape\": \"spline\", \"smoothing\": 1}, \"marker\": {\"opacity\": 0.9, \"size\": 10}, \"mode\": \"lines+markers\", \"name\": \"ada\", \"orientation\": \"v\", \"showlegend\": true, \"type\": \"scatter\", \"x\": [5, 10, 15, 20, 25, 30, 35, 40, 45, 50, 55, 60, 65, 70, 75, 80, 85, 90, 95], \"xaxis\": \"x\", \"y\": [0.9693251533742331, 0.8773006134969326, 0.8987730061349694, 0.8006134969325154, 0.7638036809815951, 0.7546012269938651, 0.7699386503067485, 0.6779141104294478, 0.6779141104294478, 0.6226993865030674, 0.6196319018404908, 0.558282208588957, 0.5828220858895705, 0.6165644171779141, 0.6411042944785277, 0.6533742331288344, 0.7300613496932515, 0.7147239263803681, 0.7177914110429447], \"yaxis\": \"y\"}, {\"hovertemplate\": \"variable=dtc<br>index=%{x}<br>value=%{y}<extra></extra>\", \"legendgroup\": \"dtc\", \"line\": {\"color\": \"#FF6692\", \"dash\": \"solid\", \"shape\": \"spline\", \"smoothing\": 1}, \"marker\": {\"opacity\": 0.9, \"size\": 10}, \"mode\": \"lines+markers\", \"name\": \"dtc\", \"orientation\": \"v\", \"showlegend\": true, \"type\": \"scatter\", \"x\": [5, 10, 15, 20, 25, 30, 35, 40, 45, 50, 55, 60, 65, 70, 75, 80, 85, 90, 95], \"xaxis\": \"x\", \"y\": [0.9509202453987731, 0.8650306748466258, 0.8496932515337423, 0.7607361963190185, 0.7055214723926381, 0.6104294478527608, 0.696319018404908, 0.5858895705521472, 0.5950920245398773, 0.5858895705521472, 0.5429447852760736, 0.5490797546012269, 0.6042944785276074, 0.647239263803681, 0.5736196319018405, 0.6717791411042944, 0.6533742331288344, 0.7177914110429449, 0.6993865030674846], \"yaxis\": \"y\"}, {\"hovertemplate\": \"variable=rfc<br>index=%{x}<br>value=%{y}<extra></extra>\", \"legendgroup\": \"rfc\", \"line\": {\"color\": \"#B6E880\", \"dash\": \"solid\", \"shape\": \"spline\", \"smoothing\": 1}, \"marker\": {\"opacity\": 0.9, \"size\": 10}, \"mode\": \"lines+markers\", \"name\": \"rfc\", \"orientation\": \"v\", \"showlegend\": true, \"type\": \"scatter\", \"x\": [5, 10, 15, 20, 25, 30, 35, 40, 45, 50, 55, 60, 65, 70, 75, 80, 85, 90, 95], \"xaxis\": \"x\", \"y\": [0.9846625766871165, 0.9018404907975459, 0.9079754601226994, 0.8558282208588956, 0.7822085889570553, 0.7208588957055215, 0.7453987730061349, 0.6779141104294479, 0.6687116564417177, 0.6319018404907976, 0.5797546012269938, 0.6165644171779141, 0.6503067484662577, 0.6380368098159509, 0.6411042944785277, 0.7300613496932515, 0.7147239263803681, 0.7668711656441718, 0.7423312883435582], \"yaxis\": \"y\"}, {\"hovertemplate\": \"variable=gbc<br>index=%{x}<br>value=%{y}<extra></extra>\", \"legendgroup\": \"gbc\", \"line\": {\"color\": \"#FF97FF\", \"dash\": \"solid\", \"shape\": \"spline\", \"smoothing\": 1}, \"marker\": {\"opacity\": 0.9, \"size\": 10}, \"mode\": \"lines+markers\", \"name\": \"gbc\", \"orientation\": \"v\", \"showlegend\": true, \"type\": \"scatter\", \"x\": [5, 10, 15, 20, 25, 30, 35, 40, 45, 50, 55, 60, 65, 70, 75, 80, 85, 90, 95], \"xaxis\": \"x\", \"y\": [0.9631901840490797, 0.9233128834355828, 0.9049079754601228, 0.8067484662576687, 0.7975460122699387, 0.7392638036809815, 0.7147239263803681, 0.665644171779141, 0.6226993865030674, 0.647239263803681, 0.558282208588957, 0.598159509202454, 0.6134969325153374, 0.6411042944785277, 0.6319018404907975, 0.6871165644171779, 0.7116564417177914, 0.7177914110429449, 0.7668711656441718], \"yaxis\": \"y\"}, {\"hovertemplate\": \"variable=lr<br>index=%{x}<br>value=%{y}<extra></extra>\", \"legendgroup\": \"lr\", \"line\": {\"color\": \"#FECB52\", \"dash\": \"solid\", \"shape\": \"spline\", \"smoothing\": 1}, \"marker\": {\"opacity\": 0.9, \"size\": 10}, \"mode\": \"lines+markers\", \"name\": \"lr\", \"orientation\": \"v\", \"showlegend\": true, \"type\": \"scatter\", \"x\": [5, 10, 15, 20, 25, 30, 35, 40, 45, 50, 55, 60, 65, 70, 75, 80, 85, 90, 95], \"xaxis\": \"x\", \"y\": [0.9631901840490797, 0.9202453987730062, 0.9263803680981595, 0.852760736196319, 0.8128834355828221, 0.7760736196319018, 0.754601226993865, 0.696319018404908, 0.6717791411042945, 0.6165644171779141, 0.5398773006134969, 0.5705521472392638, 0.6073619631901841, 0.6042944785276074, 0.6319018404907976, 0.6809815950920246, 0.705521472392638, 0.7423312883435582, 0.7147239263803682], \"yaxis\": \"y\"}],\n",
       "                        {\"legend\": {\"title\": {\"text\": \"Algorithm\"}, \"tracegroupgap\": 0}, \"margin\": {\"t\": 60}, \"template\": {\"data\": {\"bar\": [{\"error_x\": {\"color\": \"#2a3f5f\"}, \"error_y\": {\"color\": \"#2a3f5f\"}, \"marker\": {\"line\": {\"color\": \"#E5ECF6\", \"width\": 0.5}}, \"type\": \"bar\"}], \"barpolar\": [{\"marker\": {\"line\": {\"color\": \"#E5ECF6\", \"width\": 0.5}}, \"type\": \"barpolar\"}], \"carpet\": [{\"aaxis\": {\"endlinecolor\": \"#2a3f5f\", \"gridcolor\": \"white\", \"linecolor\": \"white\", \"minorgridcolor\": \"white\", \"startlinecolor\": \"#2a3f5f\"}, \"baxis\": {\"endlinecolor\": \"#2a3f5f\", \"gridcolor\": \"white\", \"linecolor\": \"white\", \"minorgridcolor\": \"white\", \"startlinecolor\": \"#2a3f5f\"}, \"type\": \"carpet\"}], \"choropleth\": [{\"colorbar\": {\"outlinewidth\": 0, \"ticks\": \"\"}, \"type\": \"choropleth\"}], \"contour\": [{\"colorbar\": {\"outlinewidth\": 0, \"ticks\": \"\"}, \"colorscale\": [[0.0, \"#0d0887\"], [0.1111111111111111, \"#46039f\"], [0.2222222222222222, \"#7201a8\"], [0.3333333333333333, \"#9c179e\"], [0.4444444444444444, \"#bd3786\"], [0.5555555555555556, \"#d8576b\"], [0.6666666666666666, \"#ed7953\"], [0.7777777777777778, \"#fb9f3a\"], [0.8888888888888888, \"#fdca26\"], [1.0, \"#f0f921\"]], \"type\": \"contour\"}], \"contourcarpet\": [{\"colorbar\": {\"outlinewidth\": 0, \"ticks\": \"\"}, \"type\": \"contourcarpet\"}], \"heatmap\": [{\"colorbar\": {\"outlinewidth\": 0, \"ticks\": \"\"}, \"colorscale\": [[0.0, \"#0d0887\"], [0.1111111111111111, \"#46039f\"], [0.2222222222222222, \"#7201a8\"], [0.3333333333333333, \"#9c179e\"], [0.4444444444444444, \"#bd3786\"], [0.5555555555555556, \"#d8576b\"], [0.6666666666666666, \"#ed7953\"], [0.7777777777777778, \"#fb9f3a\"], [0.8888888888888888, \"#fdca26\"], [1.0, \"#f0f921\"]], \"type\": \"heatmap\"}], \"heatmapgl\": [{\"colorbar\": {\"outlinewidth\": 0, \"ticks\": \"\"}, \"colorscale\": [[0.0, \"#0d0887\"], [0.1111111111111111, \"#46039f\"], [0.2222222222222222, \"#7201a8\"], [0.3333333333333333, \"#9c179e\"], [0.4444444444444444, \"#bd3786\"], [0.5555555555555556, \"#d8576b\"], [0.6666666666666666, \"#ed7953\"], [0.7777777777777778, \"#fb9f3a\"], [0.8888888888888888, \"#fdca26\"], [1.0, \"#f0f921\"]], \"type\": \"heatmapgl\"}], \"histogram\": [{\"marker\": {\"colorbar\": {\"outlinewidth\": 0, \"ticks\": \"\"}}, \"type\": \"histogram\"}], \"histogram2d\": [{\"colorbar\": {\"outlinewidth\": 0, \"ticks\": \"\"}, \"colorscale\": [[0.0, \"#0d0887\"], [0.1111111111111111, \"#46039f\"], [0.2222222222222222, \"#7201a8\"], [0.3333333333333333, \"#9c179e\"], [0.4444444444444444, \"#bd3786\"], [0.5555555555555556, \"#d8576b\"], [0.6666666666666666, \"#ed7953\"], [0.7777777777777778, \"#fb9f3a\"], [0.8888888888888888, \"#fdca26\"], [1.0, \"#f0f921\"]], \"type\": \"histogram2d\"}], \"histogram2dcontour\": [{\"colorbar\": {\"outlinewidth\": 0, \"ticks\": \"\"}, \"colorscale\": [[0.0, \"#0d0887\"], [0.1111111111111111, \"#46039f\"], [0.2222222222222222, \"#7201a8\"], [0.3333333333333333, \"#9c179e\"], [0.4444444444444444, \"#bd3786\"], [0.5555555555555556, \"#d8576b\"], [0.6666666666666666, \"#ed7953\"], [0.7777777777777778, \"#fb9f3a\"], [0.8888888888888888, \"#fdca26\"], [1.0, \"#f0f921\"]], \"type\": \"histogram2dcontour\"}], \"mesh3d\": [{\"colorbar\": {\"outlinewidth\": 0, \"ticks\": \"\"}, \"type\": \"mesh3d\"}], \"parcoords\": [{\"line\": {\"colorbar\": {\"outlinewidth\": 0, \"ticks\": \"\"}}, \"type\": \"parcoords\"}], \"pie\": [{\"automargin\": true, \"type\": \"pie\"}], \"scatter\": [{\"marker\": {\"colorbar\": {\"outlinewidth\": 0, \"ticks\": \"\"}}, \"type\": \"scatter\"}], \"scatter3d\": [{\"line\": {\"colorbar\": {\"outlinewidth\": 0, \"ticks\": \"\"}}, \"marker\": {\"colorbar\": {\"outlinewidth\": 0, \"ticks\": \"\"}}, \"type\": \"scatter3d\"}], \"scattercarpet\": [{\"marker\": {\"colorbar\": {\"outlinewidth\": 0, \"ticks\": \"\"}}, \"type\": \"scattercarpet\"}], \"scattergeo\": [{\"marker\": {\"colorbar\": {\"outlinewidth\": 0, \"ticks\": \"\"}}, \"type\": \"scattergeo\"}], \"scattergl\": [{\"marker\": {\"colorbar\": {\"outlinewidth\": 0, \"ticks\": \"\"}}, \"type\": \"scattergl\"}], \"scattermapbox\": [{\"marker\": {\"colorbar\": {\"outlinewidth\": 0, \"ticks\": \"\"}}, \"type\": \"scattermapbox\"}], \"scatterpolar\": [{\"marker\": {\"colorbar\": {\"outlinewidth\": 0, \"ticks\": \"\"}}, \"type\": \"scatterpolar\"}], \"scatterpolargl\": [{\"marker\": {\"colorbar\": {\"outlinewidth\": 0, \"ticks\": \"\"}}, \"type\": \"scatterpolargl\"}], \"scatterternary\": [{\"marker\": {\"colorbar\": {\"outlinewidth\": 0, \"ticks\": \"\"}}, \"type\": \"scatterternary\"}], \"surface\": [{\"colorbar\": {\"outlinewidth\": 0, \"ticks\": \"\"}, \"colorscale\": [[0.0, \"#0d0887\"], [0.1111111111111111, \"#46039f\"], [0.2222222222222222, \"#7201a8\"], [0.3333333333333333, \"#9c179e\"], [0.4444444444444444, \"#bd3786\"], [0.5555555555555556, \"#d8576b\"], [0.6666666666666666, \"#ed7953\"], [0.7777777777777778, \"#fb9f3a\"], [0.8888888888888888, \"#fdca26\"], [1.0, \"#f0f921\"]], \"type\": \"surface\"}], \"table\": [{\"cells\": {\"fill\": {\"color\": \"#EBF0F8\"}, \"line\": {\"color\": \"white\"}}, \"header\": {\"fill\": {\"color\": \"#C8D4E3\"}, \"line\": {\"color\": \"white\"}}, \"type\": \"table\"}]}, \"layout\": {\"annotationdefaults\": {\"arrowcolor\": \"#2a3f5f\", \"arrowhead\": 0, \"arrowwidth\": 1}, \"coloraxis\": {\"colorbar\": {\"outlinewidth\": 0, \"ticks\": \"\"}}, \"colorscale\": {\"diverging\": [[0, \"#8e0152\"], [0.1, \"#c51b7d\"], [0.2, \"#de77ae\"], [0.3, \"#f1b6da\"], [0.4, \"#fde0ef\"], [0.5, \"#f7f7f7\"], [0.6, \"#e6f5d0\"], [0.7, \"#b8e186\"], [0.8, \"#7fbc41\"], [0.9, \"#4d9221\"], [1, \"#276419\"]], \"sequential\": [[0.0, \"#0d0887\"], [0.1111111111111111, \"#46039f\"], [0.2222222222222222, \"#7201a8\"], [0.3333333333333333, \"#9c179e\"], [0.4444444444444444, \"#bd3786\"], [0.5555555555555556, \"#d8576b\"], [0.6666666666666666, \"#ed7953\"], [0.7777777777777778, \"#fb9f3a\"], [0.8888888888888888, \"#fdca26\"], [1.0, \"#f0f921\"]], \"sequentialminus\": [[0.0, \"#0d0887\"], [0.1111111111111111, \"#46039f\"], [0.2222222222222222, \"#7201a8\"], [0.3333333333333333, \"#9c179e\"], [0.4444444444444444, \"#bd3786\"], [0.5555555555555556, \"#d8576b\"], [0.6666666666666666, \"#ed7953\"], [0.7777777777777778, \"#fb9f3a\"], [0.8888888888888888, \"#fdca26\"], [1.0, \"#f0f921\"]]}, \"colorway\": [\"#636efa\", \"#EF553B\", \"#00cc96\", \"#ab63fa\", \"#FFA15A\", \"#19d3f3\", \"#FF6692\", \"#B6E880\", \"#FF97FF\", \"#FECB52\"], \"font\": {\"color\": \"#2a3f5f\"}, \"geo\": {\"bgcolor\": \"white\", \"lakecolor\": \"white\", \"landcolor\": \"#E5ECF6\", \"showlakes\": true, \"showland\": true, \"subunitcolor\": \"white\"}, \"hoverlabel\": {\"align\": \"left\"}, \"hovermode\": \"closest\", \"mapbox\": {\"style\": \"light\"}, \"paper_bgcolor\": \"white\", \"plot_bgcolor\": \"#E5ECF6\", \"polar\": {\"angularaxis\": {\"gridcolor\": \"white\", \"linecolor\": \"white\", \"ticks\": \"\"}, \"bgcolor\": \"#E5ECF6\", \"radialaxis\": {\"gridcolor\": \"white\", \"linecolor\": \"white\", \"ticks\": \"\"}}, \"scene\": {\"xaxis\": {\"backgroundcolor\": \"#E5ECF6\", \"gridcolor\": \"white\", \"gridwidth\": 2, \"linecolor\": \"white\", \"showbackground\": true, \"ticks\": \"\", \"zerolinecolor\": \"white\"}, \"yaxis\": {\"backgroundcolor\": \"#E5ECF6\", \"gridcolor\": \"white\", \"gridwidth\": 2, \"linecolor\": \"white\", \"showbackground\": true, \"ticks\": \"\", \"zerolinecolor\": \"white\"}, \"zaxis\": {\"backgroundcolor\": \"#E5ECF6\", \"gridcolor\": \"white\", \"gridwidth\": 2, \"linecolor\": \"white\", \"showbackground\": true, \"ticks\": \"\", \"zerolinecolor\": \"white\"}}, \"shapedefaults\": {\"line\": {\"color\": \"#2a3f5f\"}}, \"ternary\": {\"aaxis\": {\"gridcolor\": \"white\", \"linecolor\": \"white\", \"ticks\": \"\"}, \"baxis\": {\"gridcolor\": \"white\", \"linecolor\": \"white\", \"ticks\": \"\"}, \"bgcolor\": \"#E5ECF6\", \"caxis\": {\"gridcolor\": \"white\", \"linecolor\": \"white\", \"ticks\": \"\"}}, \"title\": {\"x\": 0.05}, \"xaxis\": {\"automargin\": true, \"gridcolor\": \"white\", \"linecolor\": \"white\", \"ticks\": \"\", \"title\": {\"standoff\": 15}, \"zerolinecolor\": \"white\", \"zerolinewidth\": 2}, \"yaxis\": {\"automargin\": true, \"gridcolor\": \"white\", \"linecolor\": \"white\", \"ticks\": \"\", \"title\": {\"standoff\": 15}, \"zerolinecolor\": \"white\", \"zerolinewidth\": 2}}}, \"xaxis\": {\"anchor\": \"y\", \"domain\": [0.0, 1.0], \"title\": {\"text\": \"percentile split\"}}, \"yaxis\": {\"anchor\": \"x\", \"domain\": [0.0, 1.0], \"title\": {\"text\": \"Accuracy\"}}},\n",
       "                        {\"responsive\": true}\n",
       "                    ).then(function(){\n",
       "                            \n",
       "var gd = document.getElementById('4e325098-7395-46c1-9cf7-9be3b1584923');\n",
       "var x = new MutationObserver(function (mutations, observer) {{\n",
       "        var display = window.getComputedStyle(gd).display;\n",
       "        if (!display || display === 'none') {{\n",
       "            console.log([gd, 'removed!']);\n",
       "            Plotly.purge(gd);\n",
       "            observer.disconnect();\n",
       "        }}\n",
       "}});\n",
       "\n",
       "// Listen for the removal of the full notebook cells\n",
       "var notebookContainer = gd.closest('#notebook-container');\n",
       "if (notebookContainer) {{\n",
       "    x.observe(notebookContainer, {childList: true});\n",
       "}}\n",
       "\n",
       "// Listen for the clearing of the current output cell\n",
       "var outputEl = gd.closest('.output');\n",
       "if (outputEl) {{\n",
       "    x.observe(outputEl, {childList: true});\n",
       "}}\n",
       "\n",
       "                        })\n",
       "                };\n",
       "                });\n",
       "            </script>\n",
       "        </div>"
      ]
     },
     "metadata": {},
     "output_type": "display_data"
    }
   ],
   "source": [
    "fig = px.line(pd.DataFrame(accuracies_per_clf))\n",
    "fig.update_layout(\n",
    "    yaxis_title=\"Accuracy\",\n",
    "    xaxis_title=\"percentile split\",\n",
    "    legend_title_text='Algorithm'\n",
    ")\n",
    "fig.update_traces(line_traces)\n",
    "\n",
    "fig.show()"
   ]
  },
  {
   "cell_type": "code",
   "execution_count": 51,
   "metadata": {},
   "outputs": [
    {
     "data": {
      "application/vnd.plotly.v1+json": {
       "config": {
        "plotlyServerURL": "https://plot.ly"
       },
       "data": [
        {
         "hovertemplate": "variable=mnb<br>index=%{x}<br>value=%{y}<extra></extra>",
         "legendgroup": "mnb",
         "line": {
          "color": "#636efa",
          "dash": "solid",
          "shape": "spline",
          "smoothing": 1
         },
         "marker": {
          "opacity": 0.9,
          "size": 10
         },
         "mode": "lines+markers",
         "name": "mnb",
         "orientation": "v",
         "showlegend": true,
         "type": "scatter",
         "x": [
          5,
          10,
          15,
          20,
          25,
          30,
          35,
          40,
          45,
          50,
          55,
          60,
          65,
          70,
          75,
          80,
          85,
          90,
          95
         ],
         "xaxis": "x",
         "y": [
          0.01663704999998572,
          0.013012000000003354,
          0.011775999999997566,
          0.011689049999972667,
          0.011697050000009312,
          0.011751600000025064,
          0.012121599999943555,
          0.011904849999950784,
          0.011946500000021842,
          0.011666849999983242,
          0.011694550000072468,
          0.011899100000050566,
          0.015692300000011983,
          0.012403399999982412,
          0.012020350000000235,
          0.013074299999914274,
          0.011780549999969026,
          0.01239149999997835,
          0.011952599999972335
         ],
         "yaxis": "y"
        },
        {
         "hovertemplate": "variable=gnb<br>index=%{x}<br>value=%{y}<extra></extra>",
         "legendgroup": "gnb",
         "line": {
          "color": "#EF553B",
          "dash": "solid",
          "shape": "spline",
          "smoothing": 1
         },
         "marker": {
          "opacity": 0.9,
          "size": 10
         },
         "mode": "lines+markers",
         "name": "gnb",
         "orientation": "v",
         "showlegend": true,
         "type": "scatter",
         "x": [
          5,
          10,
          15,
          20,
          25,
          30,
          35,
          40,
          45,
          50,
          55,
          60,
          65,
          70,
          75,
          80,
          85,
          90,
          95
         ],
         "xaxis": "x",
         "y": [
          0.012070400000027348,
          0.011648849999971844,
          0.011810150000030717,
          0.011755300000004354,
          0.011632749999989755,
          0.012305650000030255,
          0.012333149999960824,
          0.013095900000053007,
          0.01187224999995351,
          0.011683600000026217,
          0.011824450000005982,
          0.011760449999997036,
          0.012170150000031299,
          0.012143600000001697,
          0.011712900000020454,
          0.01431545000002643,
          0.011998550000043906,
          0.012609950000012304,
          0.011900149999974019
         ],
         "yaxis": "y"
        },
        {
         "hovertemplate": "variable=svm1<br>index=%{x}<br>value=%{y}<extra></extra>",
         "legendgroup": "svm1",
         "line": {
          "color": "#00cc96",
          "dash": "solid",
          "shape": "spline",
          "smoothing": 1
         },
         "marker": {
          "opacity": 0.9,
          "size": 10
         },
         "mode": "lines+markers",
         "name": "svm1",
         "orientation": "v",
         "showlegend": true,
         "type": "scatter",
         "x": [
          5,
          10,
          15,
          20,
          25,
          30,
          35,
          40,
          45,
          50,
          55,
          60,
          65,
          70,
          75,
          80,
          85,
          90,
          95
         ],
         "xaxis": "x",
         "y": [
          0.012552249999941978,
          0.01236825000000863,
          0.01260199999995848,
          0.014679499999999734,
          0.013382950000050187,
          0.014351500000032047,
          0.013406449999990855,
          0.01459829999998874,
          0.015165550000006078,
          0.015335599999957594,
          0.016584149999971487,
          0.016066249999937554,
          0.018742000000031567,
          0.018543599999986782,
          0.015804549999984374,
          0.016992499999958,
          0.014953700000035042,
          0.015190299999972012,
          0.015228549999903862
         ],
         "yaxis": "y"
        },
        {
         "hovertemplate": "variable=svm2<br>index=%{x}<br>value=%{y}<extra></extra>",
         "legendgroup": "svm2",
         "line": {
          "color": "#ab63fa",
          "dash": "solid",
          "shape": "spline",
          "smoothing": 1
         },
         "marker": {
          "opacity": 0.9,
          "size": 10
         },
         "mode": "lines+markers",
         "name": "svm2",
         "orientation": "v",
         "showlegend": true,
         "type": "scatter",
         "x": [
          5,
          10,
          15,
          20,
          25,
          30,
          35,
          40,
          45,
          50,
          55,
          60,
          65,
          70,
          75,
          80,
          85,
          90,
          95
         ],
         "xaxis": "x",
         "y": [
          0.016169999999931406,
          0.01875949999993054,
          0.01865129999993087,
          0.022994350000033137,
          0.02702254999996967,
          0.0251304000000232,
          0.024331300000028477,
          0.021299549999980627,
          0.01988235000004579,
          0.020295999999973446,
          0.02109930000000304,
          0.021984000000031756,
          0.022687299999972765,
          0.021879549999994197,
          0.020055899999931626,
          0.026386199999933524,
          0.019678600000020197,
          0.020261750000031498,
          0.019111349999946015
         ],
         "yaxis": "y"
        },
        {
         "hovertemplate": "variable=svm3<br>index=%{x}<br>value=%{y}<extra></extra>",
         "legendgroup": "svm3",
         "line": {
          "color": "#FFA15A",
          "dash": "solid",
          "shape": "spline",
          "smoothing": 1
         },
         "marker": {
          "opacity": 0.9,
          "size": 10
         },
         "mode": "lines+markers",
         "name": "svm3",
         "orientation": "v",
         "showlegend": true,
         "type": "scatter",
         "x": [
          5,
          10,
          15,
          20,
          25,
          30,
          35,
          40,
          45,
          50,
          55,
          60,
          65,
          70,
          75,
          80,
          85,
          90,
          95
         ],
         "xaxis": "x",
         "y": [
          0.014170600000056766,
          0.014798500000040349,
          0.015904450000050474,
          0.018899600000054306,
          0.020462850000058097,
          0.021463100000005397,
          0.02246915000006311,
          0.024798149999924135,
          0.025640549999934592,
          0.026930499999991753,
          0.02833340000000817,
          0.033260000000041146,
          0.031378950000032546,
          0.030908350000004248,
          0.02821574999995846,
          0.03786834999999655,
          0.027247349999981907,
          0.02572059999999965,
          0.023792000000014468
         ],
         "yaxis": "y"
        },
        {
         "hovertemplate": "variable=ada<br>index=%{x}<br>value=%{y}<extra></extra>",
         "legendgroup": "ada",
         "line": {
          "color": "#19d3f3",
          "dash": "solid",
          "shape": "spline",
          "smoothing": 1
         },
         "marker": {
          "opacity": 0.9,
          "size": 10
         },
         "mode": "lines+markers",
         "name": "ada",
         "orientation": "v",
         "showlegend": true,
         "type": "scatter",
         "x": [
          5,
          10,
          15,
          20,
          25,
          30,
          35,
          40,
          45,
          50,
          55,
          60,
          65,
          70,
          75,
          80,
          85,
          90,
          95
         ],
         "xaxis": "x",
         "y": [
          0.3932299499999772,
          0.15842850000007047,
          0.18097799999992503,
          0.16082895000005237,
          0.15534965000006196,
          0.1581401500000652,
          0.16177895000004128,
          0.16476240000002917,
          0.1642163999999866,
          0.15707035000002634,
          0.15762595000001056,
          0.1574591000000396,
          0.16799239999994597,
          0.1620485000000258,
          0.1688730999999848,
          0.18322069999999258,
          0.19027109999996128,
          0.19279800000003888,
          0.16469074999997702
         ],
         "yaxis": "y"
        },
        {
         "hovertemplate": "variable=dtc<br>index=%{x}<br>value=%{y}<extra></extra>",
         "legendgroup": "dtc",
         "line": {
          "color": "#FF6692",
          "dash": "solid",
          "shape": "spline",
          "smoothing": 1
         },
         "marker": {
          "opacity": 0.9,
          "size": 10
         },
         "mode": "lines+markers",
         "name": "dtc",
         "orientation": "v",
         "showlegend": true,
         "type": "scatter",
         "x": [
          5,
          10,
          15,
          20,
          25,
          30,
          35,
          40,
          45,
          50,
          55,
          60,
          65,
          70,
          75,
          80,
          85,
          90,
          95
         ],
         "xaxis": "x",
         "y": [
          0.01225419999997257,
          0.013000850000025821,
          0.013867949999962548,
          0.01310764999999492,
          0.013459149999960118,
          0.013856649999922865,
          0.013412200000061603,
          0.013316849999966962,
          0.014057400000012876,
          0.013698850000025686,
          0.013242300000001705,
          0.01443910000006099,
          0.013635450000094806,
          0.013463199999989683,
          0.014992199999937839,
          0.014788900000041849,
          0.013616449999972247,
          0.01415865000001304,
          0.014243150000083915
         ],
         "yaxis": "y"
        },
        {
         "hovertemplate": "variable=rfc<br>index=%{x}<br>value=%{y}<extra></extra>",
         "legendgroup": "rfc",
         "line": {
          "color": "#B6E880",
          "dash": "solid",
          "shape": "spline",
          "smoothing": 1
         },
         "marker": {
          "opacity": 0.9,
          "size": 10
         },
         "mode": "lines+markers",
         "name": "rfc",
         "orientation": "v",
         "showlegend": true,
         "type": "scatter",
         "x": [
          5,
          10,
          15,
          20,
          25,
          30,
          35,
          40,
          45,
          50,
          55,
          60,
          65,
          70,
          75,
          80,
          85,
          90,
          95
         ],
         "xaxis": "x",
         "y": [
          0.2937729999999874,
          0.30374619999997776,
          0.3312980000000607,
          0.3160740000000146,
          0.3265716499999485,
          0.3199124000000211,
          0.3271139999999946,
          0.3236878999999817,
          0.33502184999997553,
          0.32702334999993354,
          0.351101749999998,
          0.4039231499999687,
          0.3428185999999869,
          0.3458263500000385,
          0.3685937999999851,
          0.3964950499999986,
          0.3516510999999696,
          0.3331524000000172,
          0.316605299999992
         ],
         "yaxis": "y"
        },
        {
         "hovertemplate": "variable=gbc<br>index=%{x}<br>value=%{y}<extra></extra>",
         "legendgroup": "gbc",
         "line": {
          "color": "#FF97FF",
          "dash": "solid",
          "shape": "spline",
          "smoothing": 1
         },
         "marker": {
          "opacity": 0.9,
          "size": 10
         },
         "mode": "lines+markers",
         "name": "gbc",
         "orientation": "v",
         "showlegend": true,
         "type": "scatter",
         "x": [
          5,
          10,
          15,
          20,
          25,
          30,
          35,
          40,
          45,
          50,
          55,
          60,
          65,
          70,
          75,
          80,
          85,
          90,
          95
         ],
         "xaxis": "x",
         "y": [
          0.1926565500000379,
          0.18490689999993037,
          0.1794584999999529,
          0.1867894000000092,
          0.18345659999999953,
          0.18892720000002328,
          0.1854695000000106,
          0.20622854999993478,
          0.18757594999999583,
          0.18586674999994557,
          0.2028883000000974,
          0.1830333999999425,
          0.18695519999999988,
          0.17668160000005173,
          0.19309470000001738,
          0.1861193999999955,
          0.19666569999998273,
          0.17745100000001912,
          0.24728449999992108
         ],
         "yaxis": "y"
        },
        {
         "hovertemplate": "variable=lr<br>index=%{x}<br>value=%{y}<extra></extra>",
         "legendgroup": "lr",
         "line": {
          "color": "#FECB52",
          "dash": "solid",
          "shape": "spline",
          "smoothing": 1
         },
         "marker": {
          "opacity": 0.9,
          "size": 10
         },
         "mode": "lines+markers",
         "name": "lr",
         "orientation": "v",
         "showlegend": true,
         "type": "scatter",
         "x": [
          5,
          10,
          15,
          20,
          25,
          30,
          35,
          40,
          45,
          50,
          55,
          60,
          65,
          70,
          75,
          80,
          85,
          90,
          95
         ],
         "xaxis": "x",
         "y": [
          0.01750974999998789,
          0.01786149999998088,
          0.018020400000011705,
          0.01831774999999425,
          0.02001070000000027,
          0.018414099999972677,
          0.018549099999972896,
          0.01761069999997744,
          0.0170936000000097,
          0.015747449999992114,
          0.017481500000030792,
          0.019074250000016946,
          0.01529984999996259,
          0.015305600000033337,
          0.016171649999989768,
          0.016321500000060496,
          0.019009950000054232,
          0.019015550000005987,
          0.02285775000001422
         ],
         "yaxis": "y"
        }
       ],
       "layout": {
        "legend": {
         "title": {
          "text": "Algorithm"
         },
         "tracegroupgap": 0
        },
        "margin": {
         "t": 60
        },
        "template": {
         "data": {
          "bar": [
           {
            "error_x": {
             "color": "#2a3f5f"
            },
            "error_y": {
             "color": "#2a3f5f"
            },
            "marker": {
             "line": {
              "color": "#E5ECF6",
              "width": 0.5
             }
            },
            "type": "bar"
           }
          ],
          "barpolar": [
           {
            "marker": {
             "line": {
              "color": "#E5ECF6",
              "width": 0.5
             }
            },
            "type": "barpolar"
           }
          ],
          "carpet": [
           {
            "aaxis": {
             "endlinecolor": "#2a3f5f",
             "gridcolor": "white",
             "linecolor": "white",
             "minorgridcolor": "white",
             "startlinecolor": "#2a3f5f"
            },
            "baxis": {
             "endlinecolor": "#2a3f5f",
             "gridcolor": "white",
             "linecolor": "white",
             "minorgridcolor": "white",
             "startlinecolor": "#2a3f5f"
            },
            "type": "carpet"
           }
          ],
          "choropleth": [
           {
            "colorbar": {
             "outlinewidth": 0,
             "ticks": ""
            },
            "type": "choropleth"
           }
          ],
          "contour": [
           {
            "colorbar": {
             "outlinewidth": 0,
             "ticks": ""
            },
            "colorscale": [
             [
              0,
              "#0d0887"
             ],
             [
              0.1111111111111111,
              "#46039f"
             ],
             [
              0.2222222222222222,
              "#7201a8"
             ],
             [
              0.3333333333333333,
              "#9c179e"
             ],
             [
              0.4444444444444444,
              "#bd3786"
             ],
             [
              0.5555555555555556,
              "#d8576b"
             ],
             [
              0.6666666666666666,
              "#ed7953"
             ],
             [
              0.7777777777777778,
              "#fb9f3a"
             ],
             [
              0.8888888888888888,
              "#fdca26"
             ],
             [
              1,
              "#f0f921"
             ]
            ],
            "type": "contour"
           }
          ],
          "contourcarpet": [
           {
            "colorbar": {
             "outlinewidth": 0,
             "ticks": ""
            },
            "type": "contourcarpet"
           }
          ],
          "heatmap": [
           {
            "colorbar": {
             "outlinewidth": 0,
             "ticks": ""
            },
            "colorscale": [
             [
              0,
              "#0d0887"
             ],
             [
              0.1111111111111111,
              "#46039f"
             ],
             [
              0.2222222222222222,
              "#7201a8"
             ],
             [
              0.3333333333333333,
              "#9c179e"
             ],
             [
              0.4444444444444444,
              "#bd3786"
             ],
             [
              0.5555555555555556,
              "#d8576b"
             ],
             [
              0.6666666666666666,
              "#ed7953"
             ],
             [
              0.7777777777777778,
              "#fb9f3a"
             ],
             [
              0.8888888888888888,
              "#fdca26"
             ],
             [
              1,
              "#f0f921"
             ]
            ],
            "type": "heatmap"
           }
          ],
          "heatmapgl": [
           {
            "colorbar": {
             "outlinewidth": 0,
             "ticks": ""
            },
            "colorscale": [
             [
              0,
              "#0d0887"
             ],
             [
              0.1111111111111111,
              "#46039f"
             ],
             [
              0.2222222222222222,
              "#7201a8"
             ],
             [
              0.3333333333333333,
              "#9c179e"
             ],
             [
              0.4444444444444444,
              "#bd3786"
             ],
             [
              0.5555555555555556,
              "#d8576b"
             ],
             [
              0.6666666666666666,
              "#ed7953"
             ],
             [
              0.7777777777777778,
              "#fb9f3a"
             ],
             [
              0.8888888888888888,
              "#fdca26"
             ],
             [
              1,
              "#f0f921"
             ]
            ],
            "type": "heatmapgl"
           }
          ],
          "histogram": [
           {
            "marker": {
             "colorbar": {
              "outlinewidth": 0,
              "ticks": ""
             }
            },
            "type": "histogram"
           }
          ],
          "histogram2d": [
           {
            "colorbar": {
             "outlinewidth": 0,
             "ticks": ""
            },
            "colorscale": [
             [
              0,
              "#0d0887"
             ],
             [
              0.1111111111111111,
              "#46039f"
             ],
             [
              0.2222222222222222,
              "#7201a8"
             ],
             [
              0.3333333333333333,
              "#9c179e"
             ],
             [
              0.4444444444444444,
              "#bd3786"
             ],
             [
              0.5555555555555556,
              "#d8576b"
             ],
             [
              0.6666666666666666,
              "#ed7953"
             ],
             [
              0.7777777777777778,
              "#fb9f3a"
             ],
             [
              0.8888888888888888,
              "#fdca26"
             ],
             [
              1,
              "#f0f921"
             ]
            ],
            "type": "histogram2d"
           }
          ],
          "histogram2dcontour": [
           {
            "colorbar": {
             "outlinewidth": 0,
             "ticks": ""
            },
            "colorscale": [
             [
              0,
              "#0d0887"
             ],
             [
              0.1111111111111111,
              "#46039f"
             ],
             [
              0.2222222222222222,
              "#7201a8"
             ],
             [
              0.3333333333333333,
              "#9c179e"
             ],
             [
              0.4444444444444444,
              "#bd3786"
             ],
             [
              0.5555555555555556,
              "#d8576b"
             ],
             [
              0.6666666666666666,
              "#ed7953"
             ],
             [
              0.7777777777777778,
              "#fb9f3a"
             ],
             [
              0.8888888888888888,
              "#fdca26"
             ],
             [
              1,
              "#f0f921"
             ]
            ],
            "type": "histogram2dcontour"
           }
          ],
          "mesh3d": [
           {
            "colorbar": {
             "outlinewidth": 0,
             "ticks": ""
            },
            "type": "mesh3d"
           }
          ],
          "parcoords": [
           {
            "line": {
             "colorbar": {
              "outlinewidth": 0,
              "ticks": ""
             }
            },
            "type": "parcoords"
           }
          ],
          "pie": [
           {
            "automargin": true,
            "type": "pie"
           }
          ],
          "scatter": [
           {
            "marker": {
             "colorbar": {
              "outlinewidth": 0,
              "ticks": ""
             }
            },
            "type": "scatter"
           }
          ],
          "scatter3d": [
           {
            "line": {
             "colorbar": {
              "outlinewidth": 0,
              "ticks": ""
             }
            },
            "marker": {
             "colorbar": {
              "outlinewidth": 0,
              "ticks": ""
             }
            },
            "type": "scatter3d"
           }
          ],
          "scattercarpet": [
           {
            "marker": {
             "colorbar": {
              "outlinewidth": 0,
              "ticks": ""
             }
            },
            "type": "scattercarpet"
           }
          ],
          "scattergeo": [
           {
            "marker": {
             "colorbar": {
              "outlinewidth": 0,
              "ticks": ""
             }
            },
            "type": "scattergeo"
           }
          ],
          "scattergl": [
           {
            "marker": {
             "colorbar": {
              "outlinewidth": 0,
              "ticks": ""
             }
            },
            "type": "scattergl"
           }
          ],
          "scattermapbox": [
           {
            "marker": {
             "colorbar": {
              "outlinewidth": 0,
              "ticks": ""
             }
            },
            "type": "scattermapbox"
           }
          ],
          "scatterpolar": [
           {
            "marker": {
             "colorbar": {
              "outlinewidth": 0,
              "ticks": ""
             }
            },
            "type": "scatterpolar"
           }
          ],
          "scatterpolargl": [
           {
            "marker": {
             "colorbar": {
              "outlinewidth": 0,
              "ticks": ""
             }
            },
            "type": "scatterpolargl"
           }
          ],
          "scatterternary": [
           {
            "marker": {
             "colorbar": {
              "outlinewidth": 0,
              "ticks": ""
             }
            },
            "type": "scatterternary"
           }
          ],
          "surface": [
           {
            "colorbar": {
             "outlinewidth": 0,
             "ticks": ""
            },
            "colorscale": [
             [
              0,
              "#0d0887"
             ],
             [
              0.1111111111111111,
              "#46039f"
             ],
             [
              0.2222222222222222,
              "#7201a8"
             ],
             [
              0.3333333333333333,
              "#9c179e"
             ],
             [
              0.4444444444444444,
              "#bd3786"
             ],
             [
              0.5555555555555556,
              "#d8576b"
             ],
             [
              0.6666666666666666,
              "#ed7953"
             ],
             [
              0.7777777777777778,
              "#fb9f3a"
             ],
             [
              0.8888888888888888,
              "#fdca26"
             ],
             [
              1,
              "#f0f921"
             ]
            ],
            "type": "surface"
           }
          ],
          "table": [
           {
            "cells": {
             "fill": {
              "color": "#EBF0F8"
             },
             "line": {
              "color": "white"
             }
            },
            "header": {
             "fill": {
              "color": "#C8D4E3"
             },
             "line": {
              "color": "white"
             }
            },
            "type": "table"
           }
          ]
         },
         "layout": {
          "annotationdefaults": {
           "arrowcolor": "#2a3f5f",
           "arrowhead": 0,
           "arrowwidth": 1
          },
          "coloraxis": {
           "colorbar": {
            "outlinewidth": 0,
            "ticks": ""
           }
          },
          "colorscale": {
           "diverging": [
            [
             0,
             "#8e0152"
            ],
            [
             0.1,
             "#c51b7d"
            ],
            [
             0.2,
             "#de77ae"
            ],
            [
             0.3,
             "#f1b6da"
            ],
            [
             0.4,
             "#fde0ef"
            ],
            [
             0.5,
             "#f7f7f7"
            ],
            [
             0.6,
             "#e6f5d0"
            ],
            [
             0.7,
             "#b8e186"
            ],
            [
             0.8,
             "#7fbc41"
            ],
            [
             0.9,
             "#4d9221"
            ],
            [
             1,
             "#276419"
            ]
           ],
           "sequential": [
            [
             0,
             "#0d0887"
            ],
            [
             0.1111111111111111,
             "#46039f"
            ],
            [
             0.2222222222222222,
             "#7201a8"
            ],
            [
             0.3333333333333333,
             "#9c179e"
            ],
            [
             0.4444444444444444,
             "#bd3786"
            ],
            [
             0.5555555555555556,
             "#d8576b"
            ],
            [
             0.6666666666666666,
             "#ed7953"
            ],
            [
             0.7777777777777778,
             "#fb9f3a"
            ],
            [
             0.8888888888888888,
             "#fdca26"
            ],
            [
             1,
             "#f0f921"
            ]
           ],
           "sequentialminus": [
            [
             0,
             "#0d0887"
            ],
            [
             0.1111111111111111,
             "#46039f"
            ],
            [
             0.2222222222222222,
             "#7201a8"
            ],
            [
             0.3333333333333333,
             "#9c179e"
            ],
            [
             0.4444444444444444,
             "#bd3786"
            ],
            [
             0.5555555555555556,
             "#d8576b"
            ],
            [
             0.6666666666666666,
             "#ed7953"
            ],
            [
             0.7777777777777778,
             "#fb9f3a"
            ],
            [
             0.8888888888888888,
             "#fdca26"
            ],
            [
             1,
             "#f0f921"
            ]
           ]
          },
          "colorway": [
           "#636efa",
           "#EF553B",
           "#00cc96",
           "#ab63fa",
           "#FFA15A",
           "#19d3f3",
           "#FF6692",
           "#B6E880",
           "#FF97FF",
           "#FECB52"
          ],
          "font": {
           "color": "#2a3f5f"
          },
          "geo": {
           "bgcolor": "white",
           "lakecolor": "white",
           "landcolor": "#E5ECF6",
           "showlakes": true,
           "showland": true,
           "subunitcolor": "white"
          },
          "hoverlabel": {
           "align": "left"
          },
          "hovermode": "closest",
          "mapbox": {
           "style": "light"
          },
          "paper_bgcolor": "white",
          "plot_bgcolor": "#E5ECF6",
          "polar": {
           "angularaxis": {
            "gridcolor": "white",
            "linecolor": "white",
            "ticks": ""
           },
           "bgcolor": "#E5ECF6",
           "radialaxis": {
            "gridcolor": "white",
            "linecolor": "white",
            "ticks": ""
           }
          },
          "scene": {
           "xaxis": {
            "backgroundcolor": "#E5ECF6",
            "gridcolor": "white",
            "gridwidth": 2,
            "linecolor": "white",
            "showbackground": true,
            "ticks": "",
            "zerolinecolor": "white"
           },
           "yaxis": {
            "backgroundcolor": "#E5ECF6",
            "gridcolor": "white",
            "gridwidth": 2,
            "linecolor": "white",
            "showbackground": true,
            "ticks": "",
            "zerolinecolor": "white"
           },
           "zaxis": {
            "backgroundcolor": "#E5ECF6",
            "gridcolor": "white",
            "gridwidth": 2,
            "linecolor": "white",
            "showbackground": true,
            "ticks": "",
            "zerolinecolor": "white"
           }
          },
          "shapedefaults": {
           "line": {
            "color": "#2a3f5f"
           }
          },
          "ternary": {
           "aaxis": {
            "gridcolor": "white",
            "linecolor": "white",
            "ticks": ""
           },
           "baxis": {
            "gridcolor": "white",
            "linecolor": "white",
            "ticks": ""
           },
           "bgcolor": "#E5ECF6",
           "caxis": {
            "gridcolor": "white",
            "linecolor": "white",
            "ticks": ""
           }
          },
          "title": {
           "x": 0.05
          },
          "xaxis": {
           "automargin": true,
           "gridcolor": "white",
           "linecolor": "white",
           "ticks": "",
           "title": {
            "standoff": 15
           },
           "zerolinecolor": "white",
           "zerolinewidth": 2
          },
          "yaxis": {
           "automargin": true,
           "gridcolor": "white",
           "linecolor": "white",
           "ticks": "",
           "title": {
            "standoff": 15
           },
           "zerolinecolor": "white",
           "zerolinewidth": 2
          }
         }
        },
        "xaxis": {
         "anchor": "y",
         "domain": [
          0,
          1
         ],
         "title": {
          "text": "percentile split"
         }
        },
        "yaxis": {
         "anchor": "x",
         "domain": [
          0,
          1
         ],
         "title": {
          "text": "time"
         }
        }
       }
      },
      "text/html": [
       "<div>\n",
       "        \n",
       "        \n",
       "            <div id=\"13dcc7bd-9557-47d3-907c-bd2b5ce4a5cd\" class=\"plotly-graph-div\" style=\"height:525px; width:100%;\"></div>\n",
       "            <script type=\"text/javascript\">\n",
       "                require([\"plotly\"], function(Plotly) {\n",
       "                    window.PLOTLYENV=window.PLOTLYENV || {};\n",
       "                    \n",
       "                if (document.getElementById(\"13dcc7bd-9557-47d3-907c-bd2b5ce4a5cd\")) {\n",
       "                    Plotly.newPlot(\n",
       "                        '13dcc7bd-9557-47d3-907c-bd2b5ce4a5cd',\n",
       "                        [{\"hovertemplate\": \"variable=mnb<br>index=%{x}<br>value=%{y}<extra></extra>\", \"legendgroup\": \"mnb\", \"line\": {\"color\": \"#636efa\", \"dash\": \"solid\", \"shape\": \"spline\", \"smoothing\": 1}, \"marker\": {\"opacity\": 0.9, \"size\": 10}, \"mode\": \"lines+markers\", \"name\": \"mnb\", \"orientation\": \"v\", \"showlegend\": true, \"type\": \"scatter\", \"x\": [5, 10, 15, 20, 25, 30, 35, 40, 45, 50, 55, 60, 65, 70, 75, 80, 85, 90, 95], \"xaxis\": \"x\", \"y\": [0.01663704999998572, 0.013012000000003354, 0.011775999999997566, 0.011689049999972667, 0.011697050000009312, 0.011751600000025064, 0.012121599999943555, 0.011904849999950784, 0.011946500000021842, 0.011666849999983242, 0.011694550000072468, 0.011899100000050566, 0.015692300000011983, 0.012403399999982412, 0.012020350000000235, 0.013074299999914274, 0.011780549999969026, 0.01239149999997835, 0.011952599999972335], \"yaxis\": \"y\"}, {\"hovertemplate\": \"variable=gnb<br>index=%{x}<br>value=%{y}<extra></extra>\", \"legendgroup\": \"gnb\", \"line\": {\"color\": \"#EF553B\", \"dash\": \"solid\", \"shape\": \"spline\", \"smoothing\": 1}, \"marker\": {\"opacity\": 0.9, \"size\": 10}, \"mode\": \"lines+markers\", \"name\": \"gnb\", \"orientation\": \"v\", \"showlegend\": true, \"type\": \"scatter\", \"x\": [5, 10, 15, 20, 25, 30, 35, 40, 45, 50, 55, 60, 65, 70, 75, 80, 85, 90, 95], \"xaxis\": \"x\", \"y\": [0.012070400000027348, 0.011648849999971844, 0.011810150000030717, 0.011755300000004354, 0.011632749999989755, 0.012305650000030255, 0.012333149999960824, 0.013095900000053007, 0.01187224999995351, 0.011683600000026217, 0.011824450000005982, 0.011760449999997036, 0.012170150000031299, 0.012143600000001697, 0.011712900000020454, 0.01431545000002643, 0.011998550000043906, 0.012609950000012304, 0.011900149999974019], \"yaxis\": \"y\"}, {\"hovertemplate\": \"variable=svm1<br>index=%{x}<br>value=%{y}<extra></extra>\", \"legendgroup\": \"svm1\", \"line\": {\"color\": \"#00cc96\", \"dash\": \"solid\", \"shape\": \"spline\", \"smoothing\": 1}, \"marker\": {\"opacity\": 0.9, \"size\": 10}, \"mode\": \"lines+markers\", \"name\": \"svm1\", \"orientation\": \"v\", \"showlegend\": true, \"type\": \"scatter\", \"x\": [5, 10, 15, 20, 25, 30, 35, 40, 45, 50, 55, 60, 65, 70, 75, 80, 85, 90, 95], \"xaxis\": \"x\", \"y\": [0.012552249999941978, 0.01236825000000863, 0.01260199999995848, 0.014679499999999734, 0.013382950000050187, 0.014351500000032047, 0.013406449999990855, 0.01459829999998874, 0.015165550000006078, 0.015335599999957594, 0.016584149999971487, 0.016066249999937554, 0.018742000000031567, 0.018543599999986782, 0.015804549999984374, 0.016992499999958, 0.014953700000035042, 0.015190299999972012, 0.015228549999903862], \"yaxis\": \"y\"}, {\"hovertemplate\": \"variable=svm2<br>index=%{x}<br>value=%{y}<extra></extra>\", \"legendgroup\": \"svm2\", \"line\": {\"color\": \"#ab63fa\", \"dash\": \"solid\", \"shape\": \"spline\", \"smoothing\": 1}, \"marker\": {\"opacity\": 0.9, \"size\": 10}, \"mode\": \"lines+markers\", \"name\": \"svm2\", \"orientation\": \"v\", \"showlegend\": true, \"type\": \"scatter\", \"x\": [5, 10, 15, 20, 25, 30, 35, 40, 45, 50, 55, 60, 65, 70, 75, 80, 85, 90, 95], \"xaxis\": \"x\", \"y\": [0.016169999999931406, 0.01875949999993054, 0.01865129999993087, 0.022994350000033137, 0.02702254999996967, 0.0251304000000232, 0.024331300000028477, 0.021299549999980627, 0.01988235000004579, 0.020295999999973446, 0.02109930000000304, 0.021984000000031756, 0.022687299999972765, 0.021879549999994197, 0.020055899999931626, 0.026386199999933524, 0.019678600000020197, 0.020261750000031498, 0.019111349999946015], \"yaxis\": \"y\"}, {\"hovertemplate\": \"variable=svm3<br>index=%{x}<br>value=%{y}<extra></extra>\", \"legendgroup\": \"svm3\", \"line\": {\"color\": \"#FFA15A\", \"dash\": \"solid\", \"shape\": \"spline\", \"smoothing\": 1}, \"marker\": {\"opacity\": 0.9, \"size\": 10}, \"mode\": \"lines+markers\", \"name\": \"svm3\", \"orientation\": \"v\", \"showlegend\": true, \"type\": \"scatter\", \"x\": [5, 10, 15, 20, 25, 30, 35, 40, 45, 50, 55, 60, 65, 70, 75, 80, 85, 90, 95], \"xaxis\": \"x\", \"y\": [0.014170600000056766, 0.014798500000040349, 0.015904450000050474, 0.018899600000054306, 0.020462850000058097, 0.021463100000005397, 0.02246915000006311, 0.024798149999924135, 0.025640549999934592, 0.026930499999991753, 0.02833340000000817, 0.033260000000041146, 0.031378950000032546, 0.030908350000004248, 0.02821574999995846, 0.03786834999999655, 0.027247349999981907, 0.02572059999999965, 0.023792000000014468], \"yaxis\": \"y\"}, {\"hovertemplate\": \"variable=ada<br>index=%{x}<br>value=%{y}<extra></extra>\", \"legendgroup\": \"ada\", \"line\": {\"color\": \"#19d3f3\", \"dash\": \"solid\", \"shape\": \"spline\", \"smoothing\": 1}, \"marker\": {\"opacity\": 0.9, \"size\": 10}, \"mode\": \"lines+markers\", \"name\": \"ada\", \"orientation\": \"v\", \"showlegend\": true, \"type\": \"scatter\", \"x\": [5, 10, 15, 20, 25, 30, 35, 40, 45, 50, 55, 60, 65, 70, 75, 80, 85, 90, 95], \"xaxis\": \"x\", \"y\": [0.3932299499999772, 0.15842850000007047, 0.18097799999992503, 0.16082895000005237, 0.15534965000006196, 0.1581401500000652, 0.16177895000004128, 0.16476240000002917, 0.1642163999999866, 0.15707035000002634, 0.15762595000001056, 0.1574591000000396, 0.16799239999994597, 0.1620485000000258, 0.1688730999999848, 0.18322069999999258, 0.19027109999996128, 0.19279800000003888, 0.16469074999997702], \"yaxis\": \"y\"}, {\"hovertemplate\": \"variable=dtc<br>index=%{x}<br>value=%{y}<extra></extra>\", \"legendgroup\": \"dtc\", \"line\": {\"color\": \"#FF6692\", \"dash\": \"solid\", \"shape\": \"spline\", \"smoothing\": 1}, \"marker\": {\"opacity\": 0.9, \"size\": 10}, \"mode\": \"lines+markers\", \"name\": \"dtc\", \"orientation\": \"v\", \"showlegend\": true, \"type\": \"scatter\", \"x\": [5, 10, 15, 20, 25, 30, 35, 40, 45, 50, 55, 60, 65, 70, 75, 80, 85, 90, 95], \"xaxis\": \"x\", \"y\": [0.01225419999997257, 0.013000850000025821, 0.013867949999962548, 0.01310764999999492, 0.013459149999960118, 0.013856649999922865, 0.013412200000061603, 0.013316849999966962, 0.014057400000012876, 0.013698850000025686, 0.013242300000001705, 0.01443910000006099, 0.013635450000094806, 0.013463199999989683, 0.014992199999937839, 0.014788900000041849, 0.013616449999972247, 0.01415865000001304, 0.014243150000083915], \"yaxis\": \"y\"}, {\"hovertemplate\": \"variable=rfc<br>index=%{x}<br>value=%{y}<extra></extra>\", \"legendgroup\": \"rfc\", \"line\": {\"color\": \"#B6E880\", \"dash\": \"solid\", \"shape\": \"spline\", \"smoothing\": 1}, \"marker\": {\"opacity\": 0.9, \"size\": 10}, \"mode\": \"lines+markers\", \"name\": \"rfc\", \"orientation\": \"v\", \"showlegend\": true, \"type\": \"scatter\", \"x\": [5, 10, 15, 20, 25, 30, 35, 40, 45, 50, 55, 60, 65, 70, 75, 80, 85, 90, 95], \"xaxis\": \"x\", \"y\": [0.2937729999999874, 0.30374619999997776, 0.3312980000000607, 0.3160740000000146, 0.3265716499999485, 0.3199124000000211, 0.3271139999999946, 0.3236878999999817, 0.33502184999997553, 0.32702334999993354, 0.351101749999998, 0.4039231499999687, 0.3428185999999869, 0.3458263500000385, 0.3685937999999851, 0.3964950499999986, 0.3516510999999696, 0.3331524000000172, 0.316605299999992], \"yaxis\": \"y\"}, {\"hovertemplate\": \"variable=gbc<br>index=%{x}<br>value=%{y}<extra></extra>\", \"legendgroup\": \"gbc\", \"line\": {\"color\": \"#FF97FF\", \"dash\": \"solid\", \"shape\": \"spline\", \"smoothing\": 1}, \"marker\": {\"opacity\": 0.9, \"size\": 10}, \"mode\": \"lines+markers\", \"name\": \"gbc\", \"orientation\": \"v\", \"showlegend\": true, \"type\": \"scatter\", \"x\": [5, 10, 15, 20, 25, 30, 35, 40, 45, 50, 55, 60, 65, 70, 75, 80, 85, 90, 95], \"xaxis\": \"x\", \"y\": [0.1926565500000379, 0.18490689999993037, 0.1794584999999529, 0.1867894000000092, 0.18345659999999953, 0.18892720000002328, 0.1854695000000106, 0.20622854999993478, 0.18757594999999583, 0.18586674999994557, 0.2028883000000974, 0.1830333999999425, 0.18695519999999988, 0.17668160000005173, 0.19309470000001738, 0.1861193999999955, 0.19666569999998273, 0.17745100000001912, 0.24728449999992108], \"yaxis\": \"y\"}, {\"hovertemplate\": \"variable=lr<br>index=%{x}<br>value=%{y}<extra></extra>\", \"legendgroup\": \"lr\", \"line\": {\"color\": \"#FECB52\", \"dash\": \"solid\", \"shape\": \"spline\", \"smoothing\": 1}, \"marker\": {\"opacity\": 0.9, \"size\": 10}, \"mode\": \"lines+markers\", \"name\": \"lr\", \"orientation\": \"v\", \"showlegend\": true, \"type\": \"scatter\", \"x\": [5, 10, 15, 20, 25, 30, 35, 40, 45, 50, 55, 60, 65, 70, 75, 80, 85, 90, 95], \"xaxis\": \"x\", \"y\": [0.01750974999998789, 0.01786149999998088, 0.018020400000011705, 0.01831774999999425, 0.02001070000000027, 0.018414099999972677, 0.018549099999972896, 0.01761069999997744, 0.0170936000000097, 0.015747449999992114, 0.017481500000030792, 0.019074250000016946, 0.01529984999996259, 0.015305600000033337, 0.016171649999989768, 0.016321500000060496, 0.019009950000054232, 0.019015550000005987, 0.02285775000001422], \"yaxis\": \"y\"}],\n",
       "                        {\"legend\": {\"title\": {\"text\": \"Algorithm\"}, \"tracegroupgap\": 0}, \"margin\": {\"t\": 60}, \"template\": {\"data\": {\"bar\": [{\"error_x\": {\"color\": \"#2a3f5f\"}, \"error_y\": {\"color\": \"#2a3f5f\"}, \"marker\": {\"line\": {\"color\": \"#E5ECF6\", \"width\": 0.5}}, \"type\": \"bar\"}], \"barpolar\": [{\"marker\": {\"line\": {\"color\": \"#E5ECF6\", \"width\": 0.5}}, \"type\": \"barpolar\"}], \"carpet\": [{\"aaxis\": {\"endlinecolor\": \"#2a3f5f\", \"gridcolor\": \"white\", \"linecolor\": \"white\", \"minorgridcolor\": \"white\", \"startlinecolor\": \"#2a3f5f\"}, \"baxis\": {\"endlinecolor\": \"#2a3f5f\", \"gridcolor\": \"white\", \"linecolor\": \"white\", \"minorgridcolor\": \"white\", \"startlinecolor\": \"#2a3f5f\"}, \"type\": \"carpet\"}], \"choropleth\": [{\"colorbar\": {\"outlinewidth\": 0, \"ticks\": \"\"}, \"type\": \"choropleth\"}], \"contour\": [{\"colorbar\": {\"outlinewidth\": 0, \"ticks\": \"\"}, \"colorscale\": [[0.0, \"#0d0887\"], [0.1111111111111111, \"#46039f\"], [0.2222222222222222, \"#7201a8\"], [0.3333333333333333, \"#9c179e\"], [0.4444444444444444, \"#bd3786\"], [0.5555555555555556, \"#d8576b\"], [0.6666666666666666, \"#ed7953\"], [0.7777777777777778, \"#fb9f3a\"], [0.8888888888888888, \"#fdca26\"], [1.0, \"#f0f921\"]], \"type\": \"contour\"}], \"contourcarpet\": [{\"colorbar\": {\"outlinewidth\": 0, \"ticks\": \"\"}, \"type\": \"contourcarpet\"}], \"heatmap\": [{\"colorbar\": {\"outlinewidth\": 0, \"ticks\": \"\"}, \"colorscale\": [[0.0, \"#0d0887\"], [0.1111111111111111, \"#46039f\"], [0.2222222222222222, \"#7201a8\"], [0.3333333333333333, \"#9c179e\"], [0.4444444444444444, \"#bd3786\"], [0.5555555555555556, \"#d8576b\"], [0.6666666666666666, \"#ed7953\"], [0.7777777777777778, \"#fb9f3a\"], [0.8888888888888888, \"#fdca26\"], [1.0, \"#f0f921\"]], \"type\": \"heatmap\"}], \"heatmapgl\": [{\"colorbar\": {\"outlinewidth\": 0, \"ticks\": \"\"}, \"colorscale\": [[0.0, \"#0d0887\"], [0.1111111111111111, \"#46039f\"], [0.2222222222222222, \"#7201a8\"], [0.3333333333333333, \"#9c179e\"], [0.4444444444444444, \"#bd3786\"], [0.5555555555555556, \"#d8576b\"], [0.6666666666666666, \"#ed7953\"], [0.7777777777777778, \"#fb9f3a\"], [0.8888888888888888, \"#fdca26\"], [1.0, \"#f0f921\"]], \"type\": \"heatmapgl\"}], \"histogram\": [{\"marker\": {\"colorbar\": {\"outlinewidth\": 0, \"ticks\": \"\"}}, \"type\": \"histogram\"}], \"histogram2d\": [{\"colorbar\": {\"outlinewidth\": 0, \"ticks\": \"\"}, \"colorscale\": [[0.0, \"#0d0887\"], [0.1111111111111111, \"#46039f\"], [0.2222222222222222, \"#7201a8\"], [0.3333333333333333, \"#9c179e\"], [0.4444444444444444, \"#bd3786\"], [0.5555555555555556, \"#d8576b\"], [0.6666666666666666, \"#ed7953\"], [0.7777777777777778, \"#fb9f3a\"], [0.8888888888888888, \"#fdca26\"], [1.0, \"#f0f921\"]], \"type\": \"histogram2d\"}], \"histogram2dcontour\": [{\"colorbar\": {\"outlinewidth\": 0, \"ticks\": \"\"}, \"colorscale\": [[0.0, \"#0d0887\"], [0.1111111111111111, \"#46039f\"], [0.2222222222222222, \"#7201a8\"], [0.3333333333333333, \"#9c179e\"], [0.4444444444444444, \"#bd3786\"], [0.5555555555555556, \"#d8576b\"], [0.6666666666666666, \"#ed7953\"], [0.7777777777777778, \"#fb9f3a\"], [0.8888888888888888, \"#fdca26\"], [1.0, \"#f0f921\"]], \"type\": \"histogram2dcontour\"}], \"mesh3d\": [{\"colorbar\": {\"outlinewidth\": 0, \"ticks\": \"\"}, \"type\": \"mesh3d\"}], \"parcoords\": [{\"line\": {\"colorbar\": {\"outlinewidth\": 0, \"ticks\": \"\"}}, \"type\": \"parcoords\"}], \"pie\": [{\"automargin\": true, \"type\": \"pie\"}], \"scatter\": [{\"marker\": {\"colorbar\": {\"outlinewidth\": 0, \"ticks\": \"\"}}, \"type\": \"scatter\"}], \"scatter3d\": [{\"line\": {\"colorbar\": {\"outlinewidth\": 0, \"ticks\": \"\"}}, \"marker\": {\"colorbar\": {\"outlinewidth\": 0, \"ticks\": \"\"}}, \"type\": \"scatter3d\"}], \"scattercarpet\": [{\"marker\": {\"colorbar\": {\"outlinewidth\": 0, \"ticks\": \"\"}}, \"type\": \"scattercarpet\"}], \"scattergeo\": [{\"marker\": {\"colorbar\": {\"outlinewidth\": 0, \"ticks\": \"\"}}, \"type\": \"scattergeo\"}], \"scattergl\": [{\"marker\": {\"colorbar\": {\"outlinewidth\": 0, \"ticks\": \"\"}}, \"type\": \"scattergl\"}], \"scattermapbox\": [{\"marker\": {\"colorbar\": {\"outlinewidth\": 0, \"ticks\": \"\"}}, \"type\": \"scattermapbox\"}], \"scatterpolar\": [{\"marker\": {\"colorbar\": {\"outlinewidth\": 0, \"ticks\": \"\"}}, \"type\": \"scatterpolar\"}], \"scatterpolargl\": [{\"marker\": {\"colorbar\": {\"outlinewidth\": 0, \"ticks\": \"\"}}, \"type\": \"scatterpolargl\"}], \"scatterternary\": [{\"marker\": {\"colorbar\": {\"outlinewidth\": 0, \"ticks\": \"\"}}, \"type\": \"scatterternary\"}], \"surface\": [{\"colorbar\": {\"outlinewidth\": 0, \"ticks\": \"\"}, \"colorscale\": [[0.0, \"#0d0887\"], [0.1111111111111111, \"#46039f\"], [0.2222222222222222, \"#7201a8\"], [0.3333333333333333, \"#9c179e\"], [0.4444444444444444, \"#bd3786\"], [0.5555555555555556, \"#d8576b\"], [0.6666666666666666, \"#ed7953\"], [0.7777777777777778, \"#fb9f3a\"], [0.8888888888888888, \"#fdca26\"], [1.0, \"#f0f921\"]], \"type\": \"surface\"}], \"table\": [{\"cells\": {\"fill\": {\"color\": \"#EBF0F8\"}, \"line\": {\"color\": \"white\"}}, \"header\": {\"fill\": {\"color\": \"#C8D4E3\"}, \"line\": {\"color\": \"white\"}}, \"type\": \"table\"}]}, \"layout\": {\"annotationdefaults\": {\"arrowcolor\": \"#2a3f5f\", \"arrowhead\": 0, \"arrowwidth\": 1}, \"coloraxis\": {\"colorbar\": {\"outlinewidth\": 0, \"ticks\": \"\"}}, \"colorscale\": {\"diverging\": [[0, \"#8e0152\"], [0.1, \"#c51b7d\"], [0.2, \"#de77ae\"], [0.3, \"#f1b6da\"], [0.4, \"#fde0ef\"], [0.5, \"#f7f7f7\"], [0.6, \"#e6f5d0\"], [0.7, \"#b8e186\"], [0.8, \"#7fbc41\"], [0.9, \"#4d9221\"], [1, \"#276419\"]], \"sequential\": [[0.0, \"#0d0887\"], [0.1111111111111111, \"#46039f\"], [0.2222222222222222, \"#7201a8\"], [0.3333333333333333, \"#9c179e\"], [0.4444444444444444, \"#bd3786\"], [0.5555555555555556, \"#d8576b\"], [0.6666666666666666, \"#ed7953\"], [0.7777777777777778, \"#fb9f3a\"], [0.8888888888888888, \"#fdca26\"], [1.0, \"#f0f921\"]], \"sequentialminus\": [[0.0, \"#0d0887\"], [0.1111111111111111, \"#46039f\"], [0.2222222222222222, \"#7201a8\"], [0.3333333333333333, \"#9c179e\"], [0.4444444444444444, \"#bd3786\"], [0.5555555555555556, \"#d8576b\"], [0.6666666666666666, \"#ed7953\"], [0.7777777777777778, \"#fb9f3a\"], [0.8888888888888888, \"#fdca26\"], [1.0, \"#f0f921\"]]}, \"colorway\": [\"#636efa\", \"#EF553B\", \"#00cc96\", \"#ab63fa\", \"#FFA15A\", \"#19d3f3\", \"#FF6692\", \"#B6E880\", \"#FF97FF\", \"#FECB52\"], \"font\": {\"color\": \"#2a3f5f\"}, \"geo\": {\"bgcolor\": \"white\", \"lakecolor\": \"white\", \"landcolor\": \"#E5ECF6\", \"showlakes\": true, \"showland\": true, \"subunitcolor\": \"white\"}, \"hoverlabel\": {\"align\": \"left\"}, \"hovermode\": \"closest\", \"mapbox\": {\"style\": \"light\"}, \"paper_bgcolor\": \"white\", \"plot_bgcolor\": \"#E5ECF6\", \"polar\": {\"angularaxis\": {\"gridcolor\": \"white\", \"linecolor\": \"white\", \"ticks\": \"\"}, \"bgcolor\": \"#E5ECF6\", \"radialaxis\": {\"gridcolor\": \"white\", \"linecolor\": \"white\", \"ticks\": \"\"}}, \"scene\": {\"xaxis\": {\"backgroundcolor\": \"#E5ECF6\", \"gridcolor\": \"white\", \"gridwidth\": 2, \"linecolor\": \"white\", \"showbackground\": true, \"ticks\": \"\", \"zerolinecolor\": \"white\"}, \"yaxis\": {\"backgroundcolor\": \"#E5ECF6\", \"gridcolor\": \"white\", \"gridwidth\": 2, \"linecolor\": \"white\", \"showbackground\": true, \"ticks\": \"\", \"zerolinecolor\": \"white\"}, \"zaxis\": {\"backgroundcolor\": \"#E5ECF6\", \"gridcolor\": \"white\", \"gridwidth\": 2, \"linecolor\": \"white\", \"showbackground\": true, \"ticks\": \"\", \"zerolinecolor\": \"white\"}}, \"shapedefaults\": {\"line\": {\"color\": \"#2a3f5f\"}}, \"ternary\": {\"aaxis\": {\"gridcolor\": \"white\", \"linecolor\": \"white\", \"ticks\": \"\"}, \"baxis\": {\"gridcolor\": \"white\", \"linecolor\": \"white\", \"ticks\": \"\"}, \"bgcolor\": \"#E5ECF6\", \"caxis\": {\"gridcolor\": \"white\", \"linecolor\": \"white\", \"ticks\": \"\"}}, \"title\": {\"x\": 0.05}, \"xaxis\": {\"automargin\": true, \"gridcolor\": \"white\", \"linecolor\": \"white\", \"ticks\": \"\", \"title\": {\"standoff\": 15}, \"zerolinecolor\": \"white\", \"zerolinewidth\": 2}, \"yaxis\": {\"automargin\": true, \"gridcolor\": \"white\", \"linecolor\": \"white\", \"ticks\": \"\", \"title\": {\"standoff\": 15}, \"zerolinecolor\": \"white\", \"zerolinewidth\": 2}}}, \"xaxis\": {\"anchor\": \"y\", \"domain\": [0.0, 1.0], \"title\": {\"text\": \"percentile split\"}}, \"yaxis\": {\"anchor\": \"x\", \"domain\": [0.0, 1.0], \"title\": {\"text\": \"time\"}}},\n",
       "                        {\"responsive\": true}\n",
       "                    ).then(function(){\n",
       "                            \n",
       "var gd = document.getElementById('13dcc7bd-9557-47d3-907c-bd2b5ce4a5cd');\n",
       "var x = new MutationObserver(function (mutations, observer) {{\n",
       "        var display = window.getComputedStyle(gd).display;\n",
       "        if (!display || display === 'none') {{\n",
       "            console.log([gd, 'removed!']);\n",
       "            Plotly.purge(gd);\n",
       "            observer.disconnect();\n",
       "        }}\n",
       "}});\n",
       "\n",
       "// Listen for the removal of the full notebook cells\n",
       "var notebookContainer = gd.closest('#notebook-container');\n",
       "if (notebookContainer) {{\n",
       "    x.observe(notebookContainer, {childList: true});\n",
       "}}\n",
       "\n",
       "// Listen for the clearing of the current output cell\n",
       "var outputEl = gd.closest('.output');\n",
       "if (outputEl) {{\n",
       "    x.observe(outputEl, {childList: true});\n",
       "}}\n",
       "\n",
       "                        })\n",
       "                };\n",
       "                });\n",
       "            </script>\n",
       "        </div>"
      ]
     },
     "metadata": {},
     "output_type": "display_data"
    }
   ],
   "source": [
    "fig = px.line(pd.DataFrame(times_per_clf))\n",
    "fig.update_layout(\n",
    "    yaxis_title=\"time\",\n",
    "    xaxis_title=\"percentile split\",\n",
    "    legend_title_text='Algorithm'\n",
    ")\n",
    "fig.update_traces(line_traces)\n",
    "\n",
    "fig.show()"
   ]
  },
  {
   "cell_type": "markdown",
   "metadata": {},
   "source": [
    "-----"
   ]
  },
  {
   "cell_type": "code",
   "execution_count": 44,
   "metadata": {},
   "outputs": [
    {
     "name": "stdout",
     "output_type": "stream",
     "text": [
      "5%: 3.5\n",
      "10%: 4.0\n",
      "15%: 4.0\n",
      "20%: 4.2\n",
      "25%: 4.37\n",
      "30%: 4.5\n",
      "35%: 4.5\n",
      "40%: 4.58\n",
      "45%: 4.7\n",
      "50%: 4.77\n",
      "55%: 4.83\n",
      "60%: 4.9\n",
      "65%: 5.0\n",
      "70%: 5.01\n",
      "75%: 5.13\n",
      "80%: 5.23\n",
      "85%: 5.31\n",
      "90%: 5.5\n",
      "95%: 5.5\n"
     ]
    }
   ],
   "source": [
    "# percentile <--> grade\n",
    "for perc in range(5,100,5):\n",
    "    q_grade = students['E_grade'].quantile(perc/100)\n",
    "    print(f'{perc}%: {round(q_grade,2)}')"
   ]
  }
 ],
 "metadata": {
  "kernelspec": {
   "display_name": "dualt",
   "language": "python",
   "name": "dualt"
  },
  "language_info": {
   "codemirror_mode": {
    "name": "ipython",
    "version": 3
   },
   "file_extension": ".py",
   "mimetype": "text/x-python",
   "name": "python",
   "nbconvert_exporter": "python",
   "pygments_lexer": "ipython3",
   "version": "3.6.10"
  }
 },
 "nbformat": 4,
 "nbformat_minor": 4
}
