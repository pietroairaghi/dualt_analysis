{
 "cells": [
  {
   "cell_type": "code",
   "execution_count": 1,
   "metadata": {},
   "outputs": [],
   "source": [
    "import pandas as pd\n",
    "import plotly.graph_objects as go\n",
    "from plotly.subplots import make_subplots\n",
    "import plotly.express as px\n",
    "pd.options.plotting.backend = \"plotly\"\n",
    "\n",
    "import numpy as np\n",
    "import matplotlib.pyplot as plt\n",
    "import seaborn as sns\n",
    "\n",
    "from fuzzywuzzy import fuzz \n",
    "from fuzzywuzzy import process\n",
    "def fuzzy_checker(wrong_options,correct_options):\n",
    "    names_array=[]\n",
    "    ratio_array=[]    \n",
    "    for wrong_option in wrong_options:\n",
    "        if wrong_option in correct_options:\n",
    "            names_array.append(wrong_option)\n",
    "            ratio_array.append(100)\n",
    "        else:   \n",
    "            x=process.extractOne(wrong_option,correct_options,scorer=fuzz.token_set_ratio)\n",
    "            names_array.append(x[0])\n",
    "            ratio_array.append(x[1])\n",
    "    return names_array,ratio_array\n",
    "\n",
    "\n",
    "import info_utilities\n",
    "\n",
    "from sklearn.linear_model import LinearRegression\n",
    "from sklearn.preprocessing import MinMaxScaler"
   ]
  },
  {
   "cell_type": "code",
   "execution_count": 2,
   "metadata": {},
   "outputs": [],
   "source": [
    "pd.options.display.max_columns = None\n",
    "pd.options.display.max_rows    = None"
   ]
  },
  {
   "cell_type": "code",
   "execution_count": 3,
   "metadata": {},
   "outputs": [],
   "source": [
    "data_folder = \"../data/\""
   ]
  },
  {
   "cell_type": "code",
   "execution_count": 4,
   "metadata": {},
   "outputs": [],
   "source": [
    "#plotly style:\n",
    "line_traces = dict(mode='lines+markers',line_shape='spline',line_smoothing=1,marker_size=10,marker_opacity=0.9)"
   ]
  },
  {
   "cell_type": "markdown",
   "metadata": {},
   "source": [
    "# Data loading and cleaning"
   ]
  },
  {
   "cell_type": "markdown",
   "metadata": {},
   "source": [
    "## Users info"
   ]
  },
  {
   "cell_type": "code",
   "execution_count": 5,
   "metadata": {},
   "outputs": [],
   "source": [
    "users      = pd.read_csv(f\"{data_folder}users.csv\")\n",
    "users_info = pd.read_csv(f\"{data_folder}users_info.csv\",sep=\";\").set_index('attribute')"
   ]
  },
  {
   "cell_type": "markdown",
   "metadata": {},
   "source": [
    "**Below the list of the columns and a short description**"
   ]
  },
  {
   "cell_type": "code",
   "execution_count": 6,
   "metadata": {},
   "outputs": [
    {
     "data": {
      "text/html": [
       "<div>\n",
       "<style scoped>\n",
       "    .dataframe tbody tr th:only-of-type {\n",
       "        vertical-align: middle;\n",
       "    }\n",
       "\n",
       "    .dataframe tbody tr th {\n",
       "        vertical-align: top;\n",
       "    }\n",
       "\n",
       "    .dataframe thead th {\n",
       "        text-align: right;\n",
       "    }\n",
       "</style>\n",
       "<table border=\"1\" class=\"dataframe\">\n",
       "  <thead>\n",
       "    <tr style=\"text-align: right;\">\n",
       "      <th></th>\n",
       "      <th>type</th>\n",
       "      <th>description</th>\n",
       "    </tr>\n",
       "    <tr>\n",
       "      <th>attribute</th>\n",
       "      <th></th>\n",
       "      <th></th>\n",
       "    </tr>\n",
       "  </thead>\n",
       "  <tbody>\n",
       "    <tr>\n",
       "      <th>user_id</th>\n",
       "      <td>numeric</td>\n",
       "      <td>user id</td>\n",
       "    </tr>\n",
       "    <tr>\n",
       "      <th>archived</th>\n",
       "      <td>ordinal</td>\n",
       "      <td>boolean: if a user is archived, is no more vis...</td>\n",
       "    </tr>\n",
       "    <tr>\n",
       "      <th>user_type</th>\n",
       "      <td>mixed</td>\n",
       "      <td>types of the user in csv</td>\n",
       "    </tr>\n",
       "    <tr>\n",
       "      <th>classes</th>\n",
       "      <td>categorical</td>\n",
       "      <td>classes to which the user belongs</td>\n",
       "    </tr>\n",
       "    <tr>\n",
       "      <th>n_activities</th>\n",
       "      <td>interval</td>\n",
       "      <td>the number of user activities</td>\n",
       "    </tr>\n",
       "    <tr>\n",
       "      <th>n_recipes</th>\n",
       "      <td>interval</td>\n",
       "      <td>the number of user recipes</td>\n",
       "    </tr>\n",
       "    <tr>\n",
       "      <th>n_experiences</th>\n",
       "      <td>interval</td>\n",
       "      <td>the number of user experiences</td>\n",
       "    </tr>\n",
       "    <tr>\n",
       "      <th>n_reflections</th>\n",
       "      <td>interval</td>\n",
       "      <td>the number of user reflections</td>\n",
       "    </tr>\n",
       "    <tr>\n",
       "      <th>n_recipe_reflections</th>\n",
       "      <td>interval</td>\n",
       "      <td>the number of user's recipies reflections</td>\n",
       "    </tr>\n",
       "    <tr>\n",
       "      <th>n_experience_reflections</th>\n",
       "      <td>interval</td>\n",
       "      <td>the number of user's experiences reflections</td>\n",
       "    </tr>\n",
       "    <tr>\n",
       "      <th>n_in_curriculum</th>\n",
       "      <td>interval</td>\n",
       "      <td>the number of total activities in curriculum</td>\n",
       "    </tr>\n",
       "    <tr>\n",
       "      <th>n_recipes_in_curriculum</th>\n",
       "      <td>interval</td>\n",
       "      <td>the number of recipes in curriculum</td>\n",
       "    </tr>\n",
       "    <tr>\n",
       "      <th>n_experiences_in_curriculum</th>\n",
       "      <td>interval</td>\n",
       "      <td>the number of experiences in curriculum</td>\n",
       "    </tr>\n",
       "    <tr>\n",
       "      <th>n_in_curriculum_semester1</th>\n",
       "      <td>interval</td>\n",
       "      <td>number of total activities in curriculum, seme...</td>\n",
       "    </tr>\n",
       "    <tr>\n",
       "      <th>n_in_curriculum_semester2</th>\n",
       "      <td>interval</td>\n",
       "      <td>number of total activities in curriculum, seme...</td>\n",
       "    </tr>\n",
       "    <tr>\n",
       "      <th>n_in_curriculum_semester3</th>\n",
       "      <td>interval</td>\n",
       "      <td>number of total activities in curriculum, seme...</td>\n",
       "    </tr>\n",
       "    <tr>\n",
       "      <th>n_in_curriculum_semester4</th>\n",
       "      <td>interval</td>\n",
       "      <td>number of total activities in curriculum, seme...</td>\n",
       "    </tr>\n",
       "    <tr>\n",
       "      <th>n_in_curriculum_semester5</th>\n",
       "      <td>interval</td>\n",
       "      <td>number of total activities in curriculum, seme...</td>\n",
       "    </tr>\n",
       "    <tr>\n",
       "      <th>n_feedback_requests</th>\n",
       "      <td>interval</td>\n",
       "      <td>number of feedbacks requested</td>\n",
       "    </tr>\n",
       "    <tr>\n",
       "      <th>n_received_feedback_responses</th>\n",
       "      <td>interval</td>\n",
       "      <td>number of feedbacks received</td>\n",
       "    </tr>\n",
       "    <tr>\n",
       "      <th>n_received_feedback_requests</th>\n",
       "      <td>interval</td>\n",
       "      <td>number of requests received</td>\n",
       "    </tr>\n",
       "    <tr>\n",
       "      <th>n_feedback_responses</th>\n",
       "      <td>interval</td>\n",
       "      <td>number of given feedbacks</td>\n",
       "    </tr>\n",
       "    <tr>\n",
       "      <th>avg_activity_evaluations</th>\n",
       "      <td>interval</td>\n",
       "      <td>average auto evaluation of all the user's acti...</td>\n",
       "    </tr>\n",
       "    <tr>\n",
       "      <th>avg_reflection_length</th>\n",
       "      <td>interval</td>\n",
       "      <td>average personal reflection length</td>\n",
       "    </tr>\n",
       "    <tr>\n",
       "      <th>avg_specific_evaluations</th>\n",
       "      <td>interval</td>\n",
       "      <td>average personal reflection evaluations (the f...</td>\n",
       "    </tr>\n",
       "    <tr>\n",
       "      <th>n_files</th>\n",
       "      <td>interval</td>\n",
       "      <td>number of files uploaded by the user</td>\n",
       "    </tr>\n",
       "    <tr>\n",
       "      <th>n_folders</th>\n",
       "      <td>interval</td>\n",
       "      <td>number of folders created by the user</td>\n",
       "    </tr>\n",
       "  </tbody>\n",
       "</table>\n",
       "</div>"
      ],
      "text/plain": [
       "                                      type  \\\n",
       "attribute                                    \n",
       "user_id                            numeric   \n",
       "archived                           ordinal   \n",
       "user_type                            mixed   \n",
       "classes                        categorical   \n",
       "n_activities                      interval   \n",
       "n_recipes                         interval   \n",
       "n_experiences                     interval   \n",
       "n_reflections                     interval   \n",
       "n_recipe_reflections              interval   \n",
       "n_experience_reflections          interval   \n",
       "n_in_curriculum                   interval   \n",
       "n_recipes_in_curriculum           interval   \n",
       "n_experiences_in_curriculum       interval   \n",
       "n_in_curriculum_semester1         interval   \n",
       "n_in_curriculum_semester2         interval   \n",
       "n_in_curriculum_semester3         interval   \n",
       "n_in_curriculum_semester4         interval   \n",
       "n_in_curriculum_semester5         interval   \n",
       "n_feedback_requests               interval   \n",
       "n_received_feedback_responses     interval   \n",
       "n_received_feedback_requests      interval   \n",
       "n_feedback_responses              interval   \n",
       "avg_activity_evaluations          interval   \n",
       "avg_reflection_length             interval   \n",
       "avg_specific_evaluations          interval   \n",
       "n_files                           interval   \n",
       "n_folders                         interval   \n",
       "\n",
       "                                                                     description  \n",
       "attribute                                                                         \n",
       "user_id                                                                  user id  \n",
       "archived                       boolean: if a user is archived, is no more vis...  \n",
       "user_type                                               types of the user in csv  \n",
       "classes                                        classes to which the user belongs  \n",
       "n_activities                                       the number of user activities  \n",
       "n_recipes                                             the number of user recipes  \n",
       "n_experiences                                     the number of user experiences  \n",
       "n_reflections                                     the number of user reflections  \n",
       "n_recipe_reflections                   the number of user's recipies reflections  \n",
       "n_experience_reflections            the number of user's experiences reflections  \n",
       "n_in_curriculum                     the number of total activities in curriculum  \n",
       "n_recipes_in_curriculum                      the number of recipes in curriculum  \n",
       "n_experiences_in_curriculum              the number of experiences in curriculum  \n",
       "n_in_curriculum_semester1      number of total activities in curriculum, seme...  \n",
       "n_in_curriculum_semester2      number of total activities in curriculum, seme...  \n",
       "n_in_curriculum_semester3      number of total activities in curriculum, seme...  \n",
       "n_in_curriculum_semester4      number of total activities in curriculum, seme...  \n",
       "n_in_curriculum_semester5      number of total activities in curriculum, seme...  \n",
       "n_feedback_requests                                number of feedbacks requested  \n",
       "n_received_feedback_responses                       number of feedbacks received  \n",
       "n_received_feedback_requests                         number of requests received  \n",
       "n_feedback_responses                                   number of given feedbacks  \n",
       "avg_activity_evaluations       average auto evaluation of all the user's acti...  \n",
       "avg_reflection_length                         average personal reflection length  \n",
       "avg_specific_evaluations       average personal reflection evaluations (the f...  \n",
       "n_files                                     number of files uploaded by the user  \n",
       "n_folders                                  number of folders created by the user  "
      ]
     },
     "execution_count": 6,
     "metadata": {},
     "output_type": "execute_result"
    }
   ],
   "source": [
    "users_info"
   ]
  },
  {
   "cell_type": "code",
   "execution_count": 7,
   "metadata": {},
   "outputs": [
    {
     "name": "stdout",
     "output_type": "stream",
     "text": [
      "There are 1 extra columns in info: ['user_id']\n",
      "There are 7 extra columns in df: ['user_email', 'companies', 'avg_supervisor_evaluation', 'start_year', 'us_user', 'user_name', 'start_semester']\n"
     ]
    }
   ],
   "source": [
    "info_utilities.check_columns(users,users_info)"
   ]
  },
  {
   "cell_type": "markdown",
   "metadata": {},
   "source": [
    "In the df are present those type of users:"
   ]
  },
  {
   "cell_type": "markdown",
   "metadata": {},
   "source": [
    "We need only formatore (supervisor), docente (teacher) and studente (student)"
   ]
  },
  {
   "cell_type": "code",
   "execution_count": 8,
   "metadata": {},
   "outputs": [],
   "source": [
    "# a little translation from italian\n",
    "vals_to_replace = {'formatore':'supervisor', 'docente':'teacher', 'studente':'student'}\n",
    "users.replace({\"user_type\":vals_to_replace}, inplace=True)"
   ]
  },
  {
   "cell_type": "code",
   "execution_count": 9,
   "metadata": {},
   "outputs": [],
   "source": [
    "# One hot for user_type\n",
    "users = pd.concat(\n",
    "                [users.loc[:, :'user_type'], \n",
    "                 (users['user_type'].str.split('\\s*,\\s*', expand=True)\n",
    "                   .stack()\n",
    "                   .str.get_dummies()\n",
    "                   .sum(level=0)), \n",
    "                 users.loc[:, 'classes':]], \n",
    "                axis=1)"
   ]
  },
  {
   "cell_type": "code",
   "execution_count": 10,
   "metadata": {},
   "outputs": [],
   "source": [
    "interval_features = users_info[users_info['type']=='interval'].index.tolist()"
   ]
  },
  {
   "cell_type": "code",
   "execution_count": 11,
   "metadata": {},
   "outputs": [],
   "source": [
    "# fill with 0 the interval features\n",
    "users.loc[:,interval_features] = users[interval_features].fillna(0)"
   ]
  },
  {
   "cell_type": "code",
   "execution_count": 12,
   "metadata": {},
   "outputs": [],
   "source": [
    "students    = users[users['student'] == 1]\n",
    "supervisors = users[users['supervisor'] == 1]\n",
    "teachers    = users[users['teacher'] == 1]"
   ]
  },
  {
   "cell_type": "markdown",
   "metadata": {},
   "source": [
    "### Loading notes"
   ]
  },
  {
   "cell_type": "code",
   "execution_count": 13,
   "metadata": {},
   "outputs": [],
   "source": [
    "def join_by_fuzzy(df,df_to_match,\n",
    "                  original_column,to_match_column,\n",
    "                  to_join_column, joined_column, \n",
    "                  no_match_value=np.nan,limit=90):\n",
    "    \n",
    "    tmp_joined_name = '__fuzzy_result'\n",
    "    \n",
    "    str2Match = df[original_column].tolist()\n",
    "    strOptions = df_to_match[to_match_column].tolist()\n",
    "    name_match,ratio_match=fuzzy_checker(str2Match,strOptions)\n",
    "    \n",
    "    df1 = pd.DataFrame()\n",
    "    df1['old_names']=pd.Series(str2Match)\n",
    "    df1['correct_names']=pd.Series(name_match)\n",
    "    df1['correct_ratio']=pd.Series(ratio_match)\n",
    "    equiv=df_to_match.set_index(to_match_column).to_dict()[to_join_column]\n",
    "    df1.loc[:,tmp_joined_name] = df1[\"correct_names\"].map(equiv)\n",
    "    df1.loc[df1['correct_ratio']<limit,tmp_joined_name] = no_match_value\n",
    "    \n",
    "    return df.assign(__fuzzy_result=df1[tmp_joined_name].values).rename({'__fuzzy_result': joined_column}, axis=1)"
   ]
  },
  {
   "cell_type": "code",
   "execution_count": 14,
   "metadata": {},
   "outputs": [],
   "source": [
    "grades_1st = pd.read_csv(f\"{data_folder}grades_1st.csv\",sep=\"\\t\",names=[\"name\",\"grade\"])\n",
    "grades_2nd = pd.read_csv(f\"{data_folder}grades_2nd.csv\",sep=\"\\t\",names=[\"name\",\"grade\"])\n",
    "grades_3rd = pd.read_csv(f\"{data_folder}grades_3rd.csv\",sep=\"\\t\",names=[\"name\",\"grade\"])"
   ]
  },
  {
   "cell_type": "code",
   "execution_count": 15,
   "metadata": {},
   "outputs": [
    {
     "data": {
      "text/html": [
       "<div>\n",
       "<style scoped>\n",
       "    .dataframe tbody tr th:only-of-type {\n",
       "        vertical-align: middle;\n",
       "    }\n",
       "\n",
       "    .dataframe tbody tr th {\n",
       "        vertical-align: top;\n",
       "    }\n",
       "\n",
       "    .dataframe thead th {\n",
       "        text-align: right;\n",
       "    }\n",
       "</style>\n",
       "<table border=\"1\" class=\"dataframe\">\n",
       "  <thead>\n",
       "    <tr style=\"text-align: right;\">\n",
       "      <th></th>\n",
       "      <th>name</th>\n",
       "      <th>grade</th>\n",
       "    </tr>\n",
       "  </thead>\n",
       "  <tbody>\n",
       "    <tr>\n",
       "      <th>71</th>\n",
       "      <td>Poretti Victor</td>\n",
       "      <td>3.5</td>\n",
       "    </tr>\n",
       "    <tr>\n",
       "      <th>79</th>\n",
       "      <td>Dachille David</td>\n",
       "      <td>4.5</td>\n",
       "    </tr>\n",
       "    <tr>\n",
       "      <th>101</th>\n",
       "      <td>Dachille David</td>\n",
       "      <td>5.5</td>\n",
       "    </tr>\n",
       "    <tr>\n",
       "      <th>111</th>\n",
       "      <td>Poretti Victor</td>\n",
       "      <td>4.0</td>\n",
       "    </tr>\n",
       "    <tr>\n",
       "      <th>114</th>\n",
       "      <td>Stocker Nicolò</td>\n",
       "      <td>3.5</td>\n",
       "    </tr>\n",
       "    <tr>\n",
       "      <th>144</th>\n",
       "      <td>De Luca Carolyn</td>\n",
       "      <td>4.5</td>\n",
       "    </tr>\n",
       "    <tr>\n",
       "      <th>208</th>\n",
       "      <td>De Luca Carolyn</td>\n",
       "      <td>4.0</td>\n",
       "    </tr>\n",
       "    <tr>\n",
       "      <th>283</th>\n",
       "      <td>Stocker Nicolò</td>\n",
       "      <td>5.0</td>\n",
       "    </tr>\n",
       "  </tbody>\n",
       "</table>\n",
       "</div>"
      ],
      "text/plain": [
       "                name  grade\n",
       "71    Poretti Victor    3.5\n",
       "79    Dachille David    4.5\n",
       "101   Dachille David    5.5\n",
       "111   Poretti Victor    4.0\n",
       "114   Stocker Nicolò    3.5\n",
       "144  De Luca Carolyn    4.5\n",
       "208  De Luca Carolyn    4.0\n",
       "283   Stocker Nicolò    5.0"
      ]
     },
     "execution_count": 15,
     "metadata": {},
     "output_type": "execute_result"
    }
   ],
   "source": [
    "grades_1st[grades_1st.duplicated(['name'], keep=False)]"
   ]
  },
  {
   "cell_type": "code",
   "execution_count": 16,
   "metadata": {},
   "outputs": [
    {
     "data": {
      "text/html": [
       "<div>\n",
       "<style scoped>\n",
       "    .dataframe tbody tr th:only-of-type {\n",
       "        vertical-align: middle;\n",
       "    }\n",
       "\n",
       "    .dataframe tbody tr th {\n",
       "        vertical-align: top;\n",
       "    }\n",
       "\n",
       "    .dataframe thead th {\n",
       "        text-align: right;\n",
       "    }\n",
       "</style>\n",
       "<table border=\"1\" class=\"dataframe\">\n",
       "  <thead>\n",
       "    <tr style=\"text-align: right;\">\n",
       "      <th></th>\n",
       "      <th>name</th>\n",
       "      <th>grade</th>\n",
       "    </tr>\n",
       "  </thead>\n",
       "  <tbody>\n",
       "    <tr>\n",
       "      <th>9</th>\n",
       "      <td>Pedrazzani Cesare</td>\n",
       "      <td>4.0</td>\n",
       "    </tr>\n",
       "    <tr>\n",
       "      <th>66</th>\n",
       "      <td>Fontana Loris</td>\n",
       "      <td>4.5</td>\n",
       "    </tr>\n",
       "    <tr>\n",
       "      <th>72</th>\n",
       "      <td>Pedrazzani Cesare</td>\n",
       "      <td>5.0</td>\n",
       "    </tr>\n",
       "    <tr>\n",
       "      <th>133</th>\n",
       "      <td>Poretti Victor</td>\n",
       "      <td>3.5</td>\n",
       "    </tr>\n",
       "    <tr>\n",
       "      <th>168</th>\n",
       "      <td>Poretti Victor</td>\n",
       "      <td>2.0</td>\n",
       "    </tr>\n",
       "    <tr>\n",
       "      <th>193</th>\n",
       "      <td>Fontana Loris</td>\n",
       "      <td>4.5</td>\n",
       "    </tr>\n",
       "    <tr>\n",
       "      <th>211</th>\n",
       "      <td>Carrozzo Samuele</td>\n",
       "      <td>3.5</td>\n",
       "    </tr>\n",
       "    <tr>\n",
       "      <th>225</th>\n",
       "      <td>Carrozzo Samuele</td>\n",
       "      <td>5.5</td>\n",
       "    </tr>\n",
       "  </tbody>\n",
       "</table>\n",
       "</div>"
      ],
      "text/plain": [
       "                  name  grade\n",
       "9    Pedrazzani Cesare    4.0\n",
       "66       Fontana Loris    4.5\n",
       "72   Pedrazzani Cesare    5.0\n",
       "133     Poretti Victor    3.5\n",
       "168     Poretti Victor    2.0\n",
       "193      Fontana Loris    4.5\n",
       "211   Carrozzo Samuele    3.5\n",
       "225   Carrozzo Samuele    5.5"
      ]
     },
     "execution_count": 16,
     "metadata": {},
     "output_type": "execute_result"
    }
   ],
   "source": [
    "grades_2nd[grades_2nd.duplicated(['name'], keep=False)]"
   ]
  },
  {
   "cell_type": "code",
   "execution_count": 17,
   "metadata": {},
   "outputs": [
    {
     "data": {
      "text/html": [
       "<div>\n",
       "<style scoped>\n",
       "    .dataframe tbody tr th:only-of-type {\n",
       "        vertical-align: middle;\n",
       "    }\n",
       "\n",
       "    .dataframe tbody tr th {\n",
       "        vertical-align: top;\n",
       "    }\n",
       "\n",
       "    .dataframe thead th {\n",
       "        text-align: right;\n",
       "    }\n",
       "</style>\n",
       "<table border=\"1\" class=\"dataframe\">\n",
       "  <thead>\n",
       "    <tr style=\"text-align: right;\">\n",
       "      <th></th>\n",
       "      <th>name</th>\n",
       "      <th>grade</th>\n",
       "    </tr>\n",
       "  </thead>\n",
       "  <tbody>\n",
       "    <tr>\n",
       "      <th>3</th>\n",
       "      <td>Fernandez-Bermudez Samantha Jessica</td>\n",
       "      <td>4.5</td>\n",
       "    </tr>\n",
       "    <tr>\n",
       "      <th>16</th>\n",
       "      <td>Steiner Alcea</td>\n",
       "      <td>4.0</td>\n",
       "    </tr>\n",
       "    <tr>\n",
       "      <th>32</th>\n",
       "      <td>Schönholzer Francisco</td>\n",
       "      <td>5.0</td>\n",
       "    </tr>\n",
       "    <tr>\n",
       "      <th>57</th>\n",
       "      <td>Steiner Alcea</td>\n",
       "      <td>4.0</td>\n",
       "    </tr>\n",
       "    <tr>\n",
       "      <th>65</th>\n",
       "      <td>Fernandez-Bermudez Samantha Jessica</td>\n",
       "      <td>4.5</td>\n",
       "    </tr>\n",
       "    <tr>\n",
       "      <th>77</th>\n",
       "      <td>Schönholzer Francisco</td>\n",
       "      <td>5.0</td>\n",
       "    </tr>\n",
       "    <tr>\n",
       "      <th>95</th>\n",
       "      <td>Spiegel Fabio</td>\n",
       "      <td>2.5</td>\n",
       "    </tr>\n",
       "    <tr>\n",
       "      <th>148</th>\n",
       "      <td>Amnuayporn Natthatida</td>\n",
       "      <td>2.5</td>\n",
       "    </tr>\n",
       "    <tr>\n",
       "      <th>179</th>\n",
       "      <td>Spiegel Fabio</td>\n",
       "      <td>5.0</td>\n",
       "    </tr>\n",
       "    <tr>\n",
       "      <th>181</th>\n",
       "      <td>Amnuayporn Natthatida</td>\n",
       "      <td>5.0</td>\n",
       "    </tr>\n",
       "  </tbody>\n",
       "</table>\n",
       "</div>"
      ],
      "text/plain": [
       "                                    name  grade\n",
       "3    Fernandez-Bermudez Samantha Jessica    4.5\n",
       "16                         Steiner Alcea    4.0\n",
       "32                 Schönholzer Francisco    5.0\n",
       "57                         Steiner Alcea    4.0\n",
       "65   Fernandez-Bermudez Samantha Jessica    4.5\n",
       "77                 Schönholzer Francisco    5.0\n",
       "95                         Spiegel Fabio    2.5\n",
       "148                Amnuayporn Natthatida    2.5\n",
       "179                        Spiegel Fabio    5.0\n",
       "181                Amnuayporn Natthatida    5.0"
      ]
     },
     "execution_count": 17,
     "metadata": {},
     "output_type": "execute_result"
    }
   ],
   "source": [
    "grades_3rd[grades_3rd.duplicated(['name'], keep=False)]"
   ]
  },
  {
   "cell_type": "code",
   "execution_count": 18,
   "metadata": {},
   "outputs": [],
   "source": [
    "grades_1st.drop_duplicates('name',keep=False, inplace=True)\n",
    "grades_2nd.drop_duplicates('name',keep=False, inplace=True)\n",
    "grades_3rd.drop_duplicates('name',keep=False, inplace=True)"
   ]
  },
  {
   "cell_type": "code",
   "execution_count": 19,
   "metadata": {},
   "outputs": [],
   "source": [
    "students = join_by_fuzzy(students,grades_1st,'user_name','name','grade','grade_1st')\n",
    "students = join_by_fuzzy(students,grades_2nd,'user_name','name','grade','grade_2nd')\n",
    "students = join_by_fuzzy(students,grades_3rd,'user_name','name','grade','grade_3rd')"
   ]
  },
  {
   "cell_type": "code",
   "execution_count": 20,
   "metadata": {},
   "outputs": [],
   "source": [
    "students.drop_duplicates('user_name',keep=False, inplace=True)"
   ]
  },
  {
   "cell_type": "code",
   "execution_count": 31,
   "metadata": {},
   "outputs": [],
   "source": [
    "filter_grades = (((students['grade_2nd'].notnull()) & (students['grade_1st'].isnull())) | (students['grade_3rd'].notnull()) & ((students['grade_1st'].isnull()) | (students['grade_2nd'].isnull())))"
   ]
  },
  {
   "cell_type": "code",
   "execution_count": 32,
   "metadata": {},
   "outputs": [],
   "source": [
    "students.drop(students[filter_grades].index, axis=0, inplace=True)"
   ]
  },
  {
   "cell_type": "code",
   "execution_count": null,
   "metadata": {},
   "outputs": [],
   "source": []
  },
  {
   "cell_type": "code",
   "execution_count": 33,
   "metadata": {},
   "outputs": [
    {
     "name": "stdout",
     "output_type": "stream",
     "text": [
      "There are 372/523 studnets with at least a null grade (71.13%)\n"
     ]
    }
   ],
   "source": [
    "with_null = len(students[students[['grade_1st','grade_2nd','grade_3rd']].isnull().any(axis=1)])\n",
    "print(f'There are {with_null}/{len(students)} studnets with at least a null grade ({round(with_null/len(students)*100,2)}%)')"
   ]
  },
  {
   "cell_type": "markdown",
   "metadata": {},
   "source": [
    "We need to calc a different metric to include the most of the users"
   ]
  },
  {
   "cell_type": "code",
   "execution_count": 34,
   "metadata": {},
   "outputs": [
    {
     "name": "stdout",
     "output_type": "stream",
     "text": [
      "['us_user', 'user_name', 'user_email', 'start_semester', 'start_year', 'archived', 'user_type', 'HGF', 'convocatore', 'docente', 'ispettore', 'statista', 'student', 'studente', 'supervisor', 'teacher', 'classes', 'companies', 'n_activities', 'n_recipes', 'n_experiences', 'n_reflections', 'n_recipe_reflections', 'n_experience_reflections', 'n_in_curriculum', 'n_recipes_in_curriculum', 'n_experiences_in_curriculum', 'n_in_curriculum_semester1', 'n_in_curriculum_semester2', 'n_in_curriculum_semester3', 'n_in_curriculum_semester4', 'n_in_curriculum_semester5', 'n_feedback_requests', 'n_received_feedback_responses', 'n_received_feedback_requests', 'n_feedback_responses', 'avg_activity_evaluations', 'avg_reflection_length', 'avg_specific_evaluations', 'avg_supervisor_evaluation', 'n_files', 'n_folders', 'grade_1st', 'grade_2nd', 'grade_3rd']\n"
     ]
    }
   ],
   "source": [
    "print(list(students.columns))"
   ]
  },
  {
   "cell_type": "markdown",
   "metadata": {},
   "source": [
    "n_activities, n_reflections, n_in_curriculum, n_feedback_requests, avg_reflection_length, n_files, n_folders, avg_supervisor_evaluation could be good candidates"
   ]
  },
  {
   "cell_type": "code",
   "execution_count": 35,
   "metadata": {},
   "outputs": [
    {
     "data": {
      "text/plain": [
       "0"
      ]
     },
     "execution_count": 35,
     "metadata": {},
     "output_type": "execute_result"
    }
   ],
   "source": [
    "cols = ['n_activities', 'n_reflections', 'n_in_curriculum', 'n_feedback_requests', 'avg_reflection_length', 'n_files', 'n_folders']\n",
    "students[cols].isnull().any(axis=1).sum()"
   ]
  },
  {
   "cell_type": "code",
   "execution_count": 36,
   "metadata": {},
   "outputs": [],
   "source": [
    "# create a column the most representative for the grade\n",
    "students_with_all_grades = students[['grade_1st','grade_2nd','grade_3rd']].notnull().all(axis=1)\n",
    "students['E_grade'] = np.nan\n",
    "students['E_grade'] = students[['grade_1st','grade_2nd','grade_3rd']].mean(axis=1)\n",
    "students['E_grade'].fillna(students['avg_supervisor_evaluation'], inplace=True)"
   ]
  },
  {
   "cell_type": "code",
   "execution_count": 37,
   "metadata": {},
   "outputs": [
    {
     "name": "stdout",
     "output_type": "stream",
     "text": [
      "There are 202/523 students without estimate grade (38.62%)\n"
     ]
    }
   ],
   "source": [
    "students_wo_grades = students[students[['E_grade']].isnull().any(axis=1)]\n",
    "with_null = len(students_wo_grades)\n",
    "print(f'There are {with_null}/{len(students)} students without estimate grade ({round(with_null/len(students)*100,2)}%)')"
   ]
  },
  {
   "cell_type": "code",
   "execution_count": 38,
   "metadata": {},
   "outputs": [],
   "source": [
    "students.drop(students_wo_grades.index, axis=0, inplace=True)"
   ]
  },
  {
   "cell_type": "code",
   "execution_count": 39,
   "metadata": {},
   "outputs": [
    {
     "name": "stdout",
     "output_type": "stream",
     "text": [
      "There are 0/321 students without estimate grade (0.0%)\n"
     ]
    }
   ],
   "source": [
    "students_wo_grades = students[students[['E_grade']].isnull().any(axis=1)]\n",
    "with_null = len(students_wo_grades)\n",
    "print(f'There are {with_null}/{len(students)} students without estimate grade ({round(with_null/len(students)*100,2)}%)')"
   ]
  },
  {
   "cell_type": "code",
   "execution_count": 40,
   "metadata": {},
   "outputs": [],
   "source": [
    "scaler = MinMaxScaler()"
   ]
  },
  {
   "cell_type": "code",
   "execution_count": 41,
   "metadata": {},
   "outputs": [],
   "source": [
    "reg = LinearRegression().fit(scaler.fit_transform(students[students['E_grade']>4][cols].values) , students[students['E_grade']>4]['E_grade'])"
   ]
  },
  {
   "cell_type": "code",
   "execution_count": 42,
   "metadata": {},
   "outputs": [],
   "source": [
    "coeff = dict(zip(cols,reg.coef_))\n",
    "coeff = pd.DataFrame.from_dict({'column':list(coeff.keys()),'coeff':list(coeff.values())})"
   ]
  },
  {
   "cell_type": "code",
   "execution_count": 43,
   "metadata": {},
   "outputs": [
    {
     "data": {
      "application/vnd.plotly.v1+json": {
       "config": {
        "plotlyServerURL": "https://plot.ly"
       },
       "data": [
        {
         "alignmentgroup": "True",
         "hovertemplate": "column=%{x}<br>coeff=%{y}<extra></extra>",
         "legendgroup": "",
         "marker": {
          "color": "#636efa"
         },
         "name": "",
         "offsetgroup": "",
         "orientation": "v",
         "showlegend": false,
         "textposition": "auto",
         "type": "bar",
         "x": [
          "n_feedback_requests",
          "n_in_curriculum",
          "n_activities",
          "avg_reflection_length",
          "n_files",
          "n_reflections",
          "n_folders"
         ],
         "xaxis": "x",
         "y": [
          -0.5865181368686769,
          -0.1436874276838862,
          0.3218874883009279,
          0.4915396467110152,
          0.5350684188317222,
          0.6887819773402191,
          0.8716699728415799
         ],
         "yaxis": "y"
        }
       ],
       "layout": {
        "barmode": "relative",
        "legend": {
         "tracegroupgap": 0
        },
        "margin": {
         "t": 60
        },
        "template": {
         "data": {
          "bar": [
           {
            "error_x": {
             "color": "#2a3f5f"
            },
            "error_y": {
             "color": "#2a3f5f"
            },
            "marker": {
             "line": {
              "color": "#E5ECF6",
              "width": 0.5
             }
            },
            "type": "bar"
           }
          ],
          "barpolar": [
           {
            "marker": {
             "line": {
              "color": "#E5ECF6",
              "width": 0.5
             }
            },
            "type": "barpolar"
           }
          ],
          "carpet": [
           {
            "aaxis": {
             "endlinecolor": "#2a3f5f",
             "gridcolor": "white",
             "linecolor": "white",
             "minorgridcolor": "white",
             "startlinecolor": "#2a3f5f"
            },
            "baxis": {
             "endlinecolor": "#2a3f5f",
             "gridcolor": "white",
             "linecolor": "white",
             "minorgridcolor": "white",
             "startlinecolor": "#2a3f5f"
            },
            "type": "carpet"
           }
          ],
          "choropleth": [
           {
            "colorbar": {
             "outlinewidth": 0,
             "ticks": ""
            },
            "type": "choropleth"
           }
          ],
          "contour": [
           {
            "colorbar": {
             "outlinewidth": 0,
             "ticks": ""
            },
            "colorscale": [
             [
              0,
              "#0d0887"
             ],
             [
              0.1111111111111111,
              "#46039f"
             ],
             [
              0.2222222222222222,
              "#7201a8"
             ],
             [
              0.3333333333333333,
              "#9c179e"
             ],
             [
              0.4444444444444444,
              "#bd3786"
             ],
             [
              0.5555555555555556,
              "#d8576b"
             ],
             [
              0.6666666666666666,
              "#ed7953"
             ],
             [
              0.7777777777777778,
              "#fb9f3a"
             ],
             [
              0.8888888888888888,
              "#fdca26"
             ],
             [
              1,
              "#f0f921"
             ]
            ],
            "type": "contour"
           }
          ],
          "contourcarpet": [
           {
            "colorbar": {
             "outlinewidth": 0,
             "ticks": ""
            },
            "type": "contourcarpet"
           }
          ],
          "heatmap": [
           {
            "colorbar": {
             "outlinewidth": 0,
             "ticks": ""
            },
            "colorscale": [
             [
              0,
              "#0d0887"
             ],
             [
              0.1111111111111111,
              "#46039f"
             ],
             [
              0.2222222222222222,
              "#7201a8"
             ],
             [
              0.3333333333333333,
              "#9c179e"
             ],
             [
              0.4444444444444444,
              "#bd3786"
             ],
             [
              0.5555555555555556,
              "#d8576b"
             ],
             [
              0.6666666666666666,
              "#ed7953"
             ],
             [
              0.7777777777777778,
              "#fb9f3a"
             ],
             [
              0.8888888888888888,
              "#fdca26"
             ],
             [
              1,
              "#f0f921"
             ]
            ],
            "type": "heatmap"
           }
          ],
          "heatmapgl": [
           {
            "colorbar": {
             "outlinewidth": 0,
             "ticks": ""
            },
            "colorscale": [
             [
              0,
              "#0d0887"
             ],
             [
              0.1111111111111111,
              "#46039f"
             ],
             [
              0.2222222222222222,
              "#7201a8"
             ],
             [
              0.3333333333333333,
              "#9c179e"
             ],
             [
              0.4444444444444444,
              "#bd3786"
             ],
             [
              0.5555555555555556,
              "#d8576b"
             ],
             [
              0.6666666666666666,
              "#ed7953"
             ],
             [
              0.7777777777777778,
              "#fb9f3a"
             ],
             [
              0.8888888888888888,
              "#fdca26"
             ],
             [
              1,
              "#f0f921"
             ]
            ],
            "type": "heatmapgl"
           }
          ],
          "histogram": [
           {
            "marker": {
             "colorbar": {
              "outlinewidth": 0,
              "ticks": ""
             }
            },
            "type": "histogram"
           }
          ],
          "histogram2d": [
           {
            "colorbar": {
             "outlinewidth": 0,
             "ticks": ""
            },
            "colorscale": [
             [
              0,
              "#0d0887"
             ],
             [
              0.1111111111111111,
              "#46039f"
             ],
             [
              0.2222222222222222,
              "#7201a8"
             ],
             [
              0.3333333333333333,
              "#9c179e"
             ],
             [
              0.4444444444444444,
              "#bd3786"
             ],
             [
              0.5555555555555556,
              "#d8576b"
             ],
             [
              0.6666666666666666,
              "#ed7953"
             ],
             [
              0.7777777777777778,
              "#fb9f3a"
             ],
             [
              0.8888888888888888,
              "#fdca26"
             ],
             [
              1,
              "#f0f921"
             ]
            ],
            "type": "histogram2d"
           }
          ],
          "histogram2dcontour": [
           {
            "colorbar": {
             "outlinewidth": 0,
             "ticks": ""
            },
            "colorscale": [
             [
              0,
              "#0d0887"
             ],
             [
              0.1111111111111111,
              "#46039f"
             ],
             [
              0.2222222222222222,
              "#7201a8"
             ],
             [
              0.3333333333333333,
              "#9c179e"
             ],
             [
              0.4444444444444444,
              "#bd3786"
             ],
             [
              0.5555555555555556,
              "#d8576b"
             ],
             [
              0.6666666666666666,
              "#ed7953"
             ],
             [
              0.7777777777777778,
              "#fb9f3a"
             ],
             [
              0.8888888888888888,
              "#fdca26"
             ],
             [
              1,
              "#f0f921"
             ]
            ],
            "type": "histogram2dcontour"
           }
          ],
          "mesh3d": [
           {
            "colorbar": {
             "outlinewidth": 0,
             "ticks": ""
            },
            "type": "mesh3d"
           }
          ],
          "parcoords": [
           {
            "line": {
             "colorbar": {
              "outlinewidth": 0,
              "ticks": ""
             }
            },
            "type": "parcoords"
           }
          ],
          "pie": [
           {
            "automargin": true,
            "type": "pie"
           }
          ],
          "scatter": [
           {
            "marker": {
             "colorbar": {
              "outlinewidth": 0,
              "ticks": ""
             }
            },
            "type": "scatter"
           }
          ],
          "scatter3d": [
           {
            "line": {
             "colorbar": {
              "outlinewidth": 0,
              "ticks": ""
             }
            },
            "marker": {
             "colorbar": {
              "outlinewidth": 0,
              "ticks": ""
             }
            },
            "type": "scatter3d"
           }
          ],
          "scattercarpet": [
           {
            "marker": {
             "colorbar": {
              "outlinewidth": 0,
              "ticks": ""
             }
            },
            "type": "scattercarpet"
           }
          ],
          "scattergeo": [
           {
            "marker": {
             "colorbar": {
              "outlinewidth": 0,
              "ticks": ""
             }
            },
            "type": "scattergeo"
           }
          ],
          "scattergl": [
           {
            "marker": {
             "colorbar": {
              "outlinewidth": 0,
              "ticks": ""
             }
            },
            "type": "scattergl"
           }
          ],
          "scattermapbox": [
           {
            "marker": {
             "colorbar": {
              "outlinewidth": 0,
              "ticks": ""
             }
            },
            "type": "scattermapbox"
           }
          ],
          "scatterpolar": [
           {
            "marker": {
             "colorbar": {
              "outlinewidth": 0,
              "ticks": ""
             }
            },
            "type": "scatterpolar"
           }
          ],
          "scatterpolargl": [
           {
            "marker": {
             "colorbar": {
              "outlinewidth": 0,
              "ticks": ""
             }
            },
            "type": "scatterpolargl"
           }
          ],
          "scatterternary": [
           {
            "marker": {
             "colorbar": {
              "outlinewidth": 0,
              "ticks": ""
             }
            },
            "type": "scatterternary"
           }
          ],
          "surface": [
           {
            "colorbar": {
             "outlinewidth": 0,
             "ticks": ""
            },
            "colorscale": [
             [
              0,
              "#0d0887"
             ],
             [
              0.1111111111111111,
              "#46039f"
             ],
             [
              0.2222222222222222,
              "#7201a8"
             ],
             [
              0.3333333333333333,
              "#9c179e"
             ],
             [
              0.4444444444444444,
              "#bd3786"
             ],
             [
              0.5555555555555556,
              "#d8576b"
             ],
             [
              0.6666666666666666,
              "#ed7953"
             ],
             [
              0.7777777777777778,
              "#fb9f3a"
             ],
             [
              0.8888888888888888,
              "#fdca26"
             ],
             [
              1,
              "#f0f921"
             ]
            ],
            "type": "surface"
           }
          ],
          "table": [
           {
            "cells": {
             "fill": {
              "color": "#EBF0F8"
             },
             "line": {
              "color": "white"
             }
            },
            "header": {
             "fill": {
              "color": "#C8D4E3"
             },
             "line": {
              "color": "white"
             }
            },
            "type": "table"
           }
          ]
         },
         "layout": {
          "annotationdefaults": {
           "arrowcolor": "#2a3f5f",
           "arrowhead": 0,
           "arrowwidth": 1
          },
          "coloraxis": {
           "colorbar": {
            "outlinewidth": 0,
            "ticks": ""
           }
          },
          "colorscale": {
           "diverging": [
            [
             0,
             "#8e0152"
            ],
            [
             0.1,
             "#c51b7d"
            ],
            [
             0.2,
             "#de77ae"
            ],
            [
             0.3,
             "#f1b6da"
            ],
            [
             0.4,
             "#fde0ef"
            ],
            [
             0.5,
             "#f7f7f7"
            ],
            [
             0.6,
             "#e6f5d0"
            ],
            [
             0.7,
             "#b8e186"
            ],
            [
             0.8,
             "#7fbc41"
            ],
            [
             0.9,
             "#4d9221"
            ],
            [
             1,
             "#276419"
            ]
           ],
           "sequential": [
            [
             0,
             "#0d0887"
            ],
            [
             0.1111111111111111,
             "#46039f"
            ],
            [
             0.2222222222222222,
             "#7201a8"
            ],
            [
             0.3333333333333333,
             "#9c179e"
            ],
            [
             0.4444444444444444,
             "#bd3786"
            ],
            [
             0.5555555555555556,
             "#d8576b"
            ],
            [
             0.6666666666666666,
             "#ed7953"
            ],
            [
             0.7777777777777778,
             "#fb9f3a"
            ],
            [
             0.8888888888888888,
             "#fdca26"
            ],
            [
             1,
             "#f0f921"
            ]
           ],
           "sequentialminus": [
            [
             0,
             "#0d0887"
            ],
            [
             0.1111111111111111,
             "#46039f"
            ],
            [
             0.2222222222222222,
             "#7201a8"
            ],
            [
             0.3333333333333333,
             "#9c179e"
            ],
            [
             0.4444444444444444,
             "#bd3786"
            ],
            [
             0.5555555555555556,
             "#d8576b"
            ],
            [
             0.6666666666666666,
             "#ed7953"
            ],
            [
             0.7777777777777778,
             "#fb9f3a"
            ],
            [
             0.8888888888888888,
             "#fdca26"
            ],
            [
             1,
             "#f0f921"
            ]
           ]
          },
          "colorway": [
           "#636efa",
           "#EF553B",
           "#00cc96",
           "#ab63fa",
           "#FFA15A",
           "#19d3f3",
           "#FF6692",
           "#B6E880",
           "#FF97FF",
           "#FECB52"
          ],
          "font": {
           "color": "#2a3f5f"
          },
          "geo": {
           "bgcolor": "white",
           "lakecolor": "white",
           "landcolor": "#E5ECF6",
           "showlakes": true,
           "showland": true,
           "subunitcolor": "white"
          },
          "hoverlabel": {
           "align": "left"
          },
          "hovermode": "closest",
          "mapbox": {
           "style": "light"
          },
          "paper_bgcolor": "white",
          "plot_bgcolor": "#E5ECF6",
          "polar": {
           "angularaxis": {
            "gridcolor": "white",
            "linecolor": "white",
            "ticks": ""
           },
           "bgcolor": "#E5ECF6",
           "radialaxis": {
            "gridcolor": "white",
            "linecolor": "white",
            "ticks": ""
           }
          },
          "scene": {
           "xaxis": {
            "backgroundcolor": "#E5ECF6",
            "gridcolor": "white",
            "gridwidth": 2,
            "linecolor": "white",
            "showbackground": true,
            "ticks": "",
            "zerolinecolor": "white"
           },
           "yaxis": {
            "backgroundcolor": "#E5ECF6",
            "gridcolor": "white",
            "gridwidth": 2,
            "linecolor": "white",
            "showbackground": true,
            "ticks": "",
            "zerolinecolor": "white"
           },
           "zaxis": {
            "backgroundcolor": "#E5ECF6",
            "gridcolor": "white",
            "gridwidth": 2,
            "linecolor": "white",
            "showbackground": true,
            "ticks": "",
            "zerolinecolor": "white"
           }
          },
          "shapedefaults": {
           "line": {
            "color": "#2a3f5f"
           }
          },
          "ternary": {
           "aaxis": {
            "gridcolor": "white",
            "linecolor": "white",
            "ticks": ""
           },
           "baxis": {
            "gridcolor": "white",
            "linecolor": "white",
            "ticks": ""
           },
           "bgcolor": "#E5ECF6",
           "caxis": {
            "gridcolor": "white",
            "linecolor": "white",
            "ticks": ""
           }
          },
          "title": {
           "x": 0.05
          },
          "xaxis": {
           "automargin": true,
           "gridcolor": "white",
           "linecolor": "white",
           "ticks": "",
           "title": {
            "standoff": 15
           },
           "zerolinecolor": "white",
           "zerolinewidth": 2
          },
          "yaxis": {
           "automargin": true,
           "gridcolor": "white",
           "linecolor": "white",
           "ticks": "",
           "title": {
            "standoff": 15
           },
           "zerolinecolor": "white",
           "zerolinewidth": 2
          }
         }
        },
        "xaxis": {
         "anchor": "y",
         "domain": [
          0,
          1
         ],
         "title": {
          "text": "column"
         }
        },
        "yaxis": {
         "anchor": "x",
         "domain": [
          0,
          1
         ],
         "title": {
          "text": "coeff"
         }
        }
       }
      },
      "text/html": [
       "<div>\n",
       "        \n",
       "        \n",
       "            <div id=\"34e10e8a-cf74-4c2f-aa7f-095decc216a8\" class=\"plotly-graph-div\" style=\"height:525px; width:100%;\"></div>\n",
       "            <script type=\"text/javascript\">\n",
       "                require([\"plotly\"], function(Plotly) {\n",
       "                    window.PLOTLYENV=window.PLOTLYENV || {};\n",
       "                    \n",
       "                if (document.getElementById(\"34e10e8a-cf74-4c2f-aa7f-095decc216a8\")) {\n",
       "                    Plotly.newPlot(\n",
       "                        '34e10e8a-cf74-4c2f-aa7f-095decc216a8',\n",
       "                        [{\"alignmentgroup\": \"True\", \"hovertemplate\": \"column=%{x}<br>coeff=%{y}<extra></extra>\", \"legendgroup\": \"\", \"marker\": {\"color\": \"#636efa\"}, \"name\": \"\", \"offsetgroup\": \"\", \"orientation\": \"v\", \"showlegend\": false, \"textposition\": \"auto\", \"type\": \"bar\", \"x\": [\"n_feedback_requests\", \"n_in_curriculum\", \"n_activities\", \"avg_reflection_length\", \"n_files\", \"n_reflections\", \"n_folders\"], \"xaxis\": \"x\", \"y\": [-0.5865181368686769, -0.1436874276838862, 0.3218874883009279, 0.4915396467110152, 0.5350684188317222, 0.6887819773402191, 0.8716699728415799], \"yaxis\": \"y\"}],\n",
       "                        {\"barmode\": \"relative\", \"legend\": {\"tracegroupgap\": 0}, \"margin\": {\"t\": 60}, \"template\": {\"data\": {\"bar\": [{\"error_x\": {\"color\": \"#2a3f5f\"}, \"error_y\": {\"color\": \"#2a3f5f\"}, \"marker\": {\"line\": {\"color\": \"#E5ECF6\", \"width\": 0.5}}, \"type\": \"bar\"}], \"barpolar\": [{\"marker\": {\"line\": {\"color\": \"#E5ECF6\", \"width\": 0.5}}, \"type\": \"barpolar\"}], \"carpet\": [{\"aaxis\": {\"endlinecolor\": \"#2a3f5f\", \"gridcolor\": \"white\", \"linecolor\": \"white\", \"minorgridcolor\": \"white\", \"startlinecolor\": \"#2a3f5f\"}, \"baxis\": {\"endlinecolor\": \"#2a3f5f\", \"gridcolor\": \"white\", \"linecolor\": \"white\", \"minorgridcolor\": \"white\", \"startlinecolor\": \"#2a3f5f\"}, \"type\": \"carpet\"}], \"choropleth\": [{\"colorbar\": {\"outlinewidth\": 0, \"ticks\": \"\"}, \"type\": \"choropleth\"}], \"contour\": [{\"colorbar\": {\"outlinewidth\": 0, \"ticks\": \"\"}, \"colorscale\": [[0.0, \"#0d0887\"], [0.1111111111111111, \"#46039f\"], [0.2222222222222222, \"#7201a8\"], [0.3333333333333333, \"#9c179e\"], [0.4444444444444444, \"#bd3786\"], [0.5555555555555556, \"#d8576b\"], [0.6666666666666666, \"#ed7953\"], [0.7777777777777778, \"#fb9f3a\"], [0.8888888888888888, \"#fdca26\"], [1.0, \"#f0f921\"]], \"type\": \"contour\"}], \"contourcarpet\": [{\"colorbar\": {\"outlinewidth\": 0, \"ticks\": \"\"}, \"type\": \"contourcarpet\"}], \"heatmap\": [{\"colorbar\": {\"outlinewidth\": 0, \"ticks\": \"\"}, \"colorscale\": [[0.0, \"#0d0887\"], [0.1111111111111111, \"#46039f\"], [0.2222222222222222, \"#7201a8\"], [0.3333333333333333, \"#9c179e\"], [0.4444444444444444, \"#bd3786\"], [0.5555555555555556, \"#d8576b\"], [0.6666666666666666, \"#ed7953\"], [0.7777777777777778, \"#fb9f3a\"], [0.8888888888888888, \"#fdca26\"], [1.0, \"#f0f921\"]], \"type\": \"heatmap\"}], \"heatmapgl\": [{\"colorbar\": {\"outlinewidth\": 0, \"ticks\": \"\"}, \"colorscale\": [[0.0, \"#0d0887\"], [0.1111111111111111, \"#46039f\"], [0.2222222222222222, \"#7201a8\"], [0.3333333333333333, \"#9c179e\"], [0.4444444444444444, \"#bd3786\"], [0.5555555555555556, \"#d8576b\"], [0.6666666666666666, \"#ed7953\"], [0.7777777777777778, \"#fb9f3a\"], [0.8888888888888888, \"#fdca26\"], [1.0, \"#f0f921\"]], \"type\": \"heatmapgl\"}], \"histogram\": [{\"marker\": {\"colorbar\": {\"outlinewidth\": 0, \"ticks\": \"\"}}, \"type\": \"histogram\"}], \"histogram2d\": [{\"colorbar\": {\"outlinewidth\": 0, \"ticks\": \"\"}, \"colorscale\": [[0.0, \"#0d0887\"], [0.1111111111111111, \"#46039f\"], [0.2222222222222222, \"#7201a8\"], [0.3333333333333333, \"#9c179e\"], [0.4444444444444444, \"#bd3786\"], [0.5555555555555556, \"#d8576b\"], [0.6666666666666666, \"#ed7953\"], [0.7777777777777778, \"#fb9f3a\"], [0.8888888888888888, \"#fdca26\"], [1.0, \"#f0f921\"]], \"type\": \"histogram2d\"}], \"histogram2dcontour\": [{\"colorbar\": {\"outlinewidth\": 0, \"ticks\": \"\"}, \"colorscale\": [[0.0, \"#0d0887\"], [0.1111111111111111, \"#46039f\"], [0.2222222222222222, \"#7201a8\"], [0.3333333333333333, \"#9c179e\"], [0.4444444444444444, \"#bd3786\"], [0.5555555555555556, \"#d8576b\"], [0.6666666666666666, \"#ed7953\"], [0.7777777777777778, \"#fb9f3a\"], [0.8888888888888888, \"#fdca26\"], [1.0, \"#f0f921\"]], \"type\": \"histogram2dcontour\"}], \"mesh3d\": [{\"colorbar\": {\"outlinewidth\": 0, \"ticks\": \"\"}, \"type\": \"mesh3d\"}], \"parcoords\": [{\"line\": {\"colorbar\": {\"outlinewidth\": 0, \"ticks\": \"\"}}, \"type\": \"parcoords\"}], \"pie\": [{\"automargin\": true, \"type\": \"pie\"}], \"scatter\": [{\"marker\": {\"colorbar\": {\"outlinewidth\": 0, \"ticks\": \"\"}}, \"type\": \"scatter\"}], \"scatter3d\": [{\"line\": {\"colorbar\": {\"outlinewidth\": 0, \"ticks\": \"\"}}, \"marker\": {\"colorbar\": {\"outlinewidth\": 0, \"ticks\": \"\"}}, \"type\": \"scatter3d\"}], \"scattercarpet\": [{\"marker\": {\"colorbar\": {\"outlinewidth\": 0, \"ticks\": \"\"}}, \"type\": \"scattercarpet\"}], \"scattergeo\": [{\"marker\": {\"colorbar\": {\"outlinewidth\": 0, \"ticks\": \"\"}}, \"type\": \"scattergeo\"}], \"scattergl\": [{\"marker\": {\"colorbar\": {\"outlinewidth\": 0, \"ticks\": \"\"}}, \"type\": \"scattergl\"}], \"scattermapbox\": [{\"marker\": {\"colorbar\": {\"outlinewidth\": 0, \"ticks\": \"\"}}, \"type\": \"scattermapbox\"}], \"scatterpolar\": [{\"marker\": {\"colorbar\": {\"outlinewidth\": 0, \"ticks\": \"\"}}, \"type\": \"scatterpolar\"}], \"scatterpolargl\": [{\"marker\": {\"colorbar\": {\"outlinewidth\": 0, \"ticks\": \"\"}}, \"type\": \"scatterpolargl\"}], \"scatterternary\": [{\"marker\": {\"colorbar\": {\"outlinewidth\": 0, \"ticks\": \"\"}}, \"type\": \"scatterternary\"}], \"surface\": [{\"colorbar\": {\"outlinewidth\": 0, \"ticks\": \"\"}, \"colorscale\": [[0.0, \"#0d0887\"], [0.1111111111111111, \"#46039f\"], [0.2222222222222222, \"#7201a8\"], [0.3333333333333333, \"#9c179e\"], [0.4444444444444444, \"#bd3786\"], [0.5555555555555556, \"#d8576b\"], [0.6666666666666666, \"#ed7953\"], [0.7777777777777778, \"#fb9f3a\"], [0.8888888888888888, \"#fdca26\"], [1.0, \"#f0f921\"]], \"type\": \"surface\"}], \"table\": [{\"cells\": {\"fill\": {\"color\": \"#EBF0F8\"}, \"line\": {\"color\": \"white\"}}, \"header\": {\"fill\": {\"color\": \"#C8D4E3\"}, \"line\": {\"color\": \"white\"}}, \"type\": \"table\"}]}, \"layout\": {\"annotationdefaults\": {\"arrowcolor\": \"#2a3f5f\", \"arrowhead\": 0, \"arrowwidth\": 1}, \"coloraxis\": {\"colorbar\": {\"outlinewidth\": 0, \"ticks\": \"\"}}, \"colorscale\": {\"diverging\": [[0, \"#8e0152\"], [0.1, \"#c51b7d\"], [0.2, \"#de77ae\"], [0.3, \"#f1b6da\"], [0.4, \"#fde0ef\"], [0.5, \"#f7f7f7\"], [0.6, \"#e6f5d0\"], [0.7, \"#b8e186\"], [0.8, \"#7fbc41\"], [0.9, \"#4d9221\"], [1, \"#276419\"]], \"sequential\": [[0.0, \"#0d0887\"], [0.1111111111111111, \"#46039f\"], [0.2222222222222222, \"#7201a8\"], [0.3333333333333333, \"#9c179e\"], [0.4444444444444444, \"#bd3786\"], [0.5555555555555556, \"#d8576b\"], [0.6666666666666666, \"#ed7953\"], [0.7777777777777778, \"#fb9f3a\"], [0.8888888888888888, \"#fdca26\"], [1.0, \"#f0f921\"]], \"sequentialminus\": [[0.0, \"#0d0887\"], [0.1111111111111111, \"#46039f\"], [0.2222222222222222, \"#7201a8\"], [0.3333333333333333, \"#9c179e\"], [0.4444444444444444, \"#bd3786\"], [0.5555555555555556, \"#d8576b\"], [0.6666666666666666, \"#ed7953\"], [0.7777777777777778, \"#fb9f3a\"], [0.8888888888888888, \"#fdca26\"], [1.0, \"#f0f921\"]]}, \"colorway\": [\"#636efa\", \"#EF553B\", \"#00cc96\", \"#ab63fa\", \"#FFA15A\", \"#19d3f3\", \"#FF6692\", \"#B6E880\", \"#FF97FF\", \"#FECB52\"], \"font\": {\"color\": \"#2a3f5f\"}, \"geo\": {\"bgcolor\": \"white\", \"lakecolor\": \"white\", \"landcolor\": \"#E5ECF6\", \"showlakes\": true, \"showland\": true, \"subunitcolor\": \"white\"}, \"hoverlabel\": {\"align\": \"left\"}, \"hovermode\": \"closest\", \"mapbox\": {\"style\": \"light\"}, \"paper_bgcolor\": \"white\", \"plot_bgcolor\": \"#E5ECF6\", \"polar\": {\"angularaxis\": {\"gridcolor\": \"white\", \"linecolor\": \"white\", \"ticks\": \"\"}, \"bgcolor\": \"#E5ECF6\", \"radialaxis\": {\"gridcolor\": \"white\", \"linecolor\": \"white\", \"ticks\": \"\"}}, \"scene\": {\"xaxis\": {\"backgroundcolor\": \"#E5ECF6\", \"gridcolor\": \"white\", \"gridwidth\": 2, \"linecolor\": \"white\", \"showbackground\": true, \"ticks\": \"\", \"zerolinecolor\": \"white\"}, \"yaxis\": {\"backgroundcolor\": \"#E5ECF6\", \"gridcolor\": \"white\", \"gridwidth\": 2, \"linecolor\": \"white\", \"showbackground\": true, \"ticks\": \"\", \"zerolinecolor\": \"white\"}, \"zaxis\": {\"backgroundcolor\": \"#E5ECF6\", \"gridcolor\": \"white\", \"gridwidth\": 2, \"linecolor\": \"white\", \"showbackground\": true, \"ticks\": \"\", \"zerolinecolor\": \"white\"}}, \"shapedefaults\": {\"line\": {\"color\": \"#2a3f5f\"}}, \"ternary\": {\"aaxis\": {\"gridcolor\": \"white\", \"linecolor\": \"white\", \"ticks\": \"\"}, \"baxis\": {\"gridcolor\": \"white\", \"linecolor\": \"white\", \"ticks\": \"\"}, \"bgcolor\": \"#E5ECF6\", \"caxis\": {\"gridcolor\": \"white\", \"linecolor\": \"white\", \"ticks\": \"\"}}, \"title\": {\"x\": 0.05}, \"xaxis\": {\"automargin\": true, \"gridcolor\": \"white\", \"linecolor\": \"white\", \"ticks\": \"\", \"title\": {\"standoff\": 15}, \"zerolinecolor\": \"white\", \"zerolinewidth\": 2}, \"yaxis\": {\"automargin\": true, \"gridcolor\": \"white\", \"linecolor\": \"white\", \"ticks\": \"\", \"title\": {\"standoff\": 15}, \"zerolinecolor\": \"white\", \"zerolinewidth\": 2}}}, \"xaxis\": {\"anchor\": \"y\", \"domain\": [0.0, 1.0], \"title\": {\"text\": \"column\"}}, \"yaxis\": {\"anchor\": \"x\", \"domain\": [0.0, 1.0], \"title\": {\"text\": \"coeff\"}}},\n",
       "                        {\"responsive\": true}\n",
       "                    ).then(function(){\n",
       "                            \n",
       "var gd = document.getElementById('34e10e8a-cf74-4c2f-aa7f-095decc216a8');\n",
       "var x = new MutationObserver(function (mutations, observer) {{\n",
       "        var display = window.getComputedStyle(gd).display;\n",
       "        if (!display || display === 'none') {{\n",
       "            console.log([gd, 'removed!']);\n",
       "            Plotly.purge(gd);\n",
       "            observer.disconnect();\n",
       "        }}\n",
       "}});\n",
       "\n",
       "// Listen for the removal of the full notebook cells\n",
       "var notebookContainer = gd.closest('#notebook-container');\n",
       "if (notebookContainer) {{\n",
       "    x.observe(notebookContainer, {childList: true});\n",
       "}}\n",
       "\n",
       "// Listen for the clearing of the current output cell\n",
       "var outputEl = gd.closest('.output');\n",
       "if (outputEl) {{\n",
       "    x.observe(outputEl, {childList: true});\n",
       "}}\n",
       "\n",
       "                        })\n",
       "                };\n",
       "                });\n",
       "            </script>\n",
       "        </div>"
      ]
     },
     "metadata": {},
     "output_type": "display_data"
    }
   ],
   "source": [
    "fig = coeff.sort_values(by=\"coeff\").plot.bar(x=\"column\",y=\"coeff\")\n",
    "fig.show()"
   ]
  },
  {
   "cell_type": "code",
   "execution_count": 65,
   "metadata": {},
   "outputs": [
    {
     "data": {
      "application/vnd.plotly.v1+json": {
       "config": {
        "plotlyServerURL": "https://plot.ly"
       },
       "data": [
        {
         "alignmentgroup": "True",
         "bingroup": "x",
         "histfunc": "avg",
         "hovertemplate": "E_grade=%{x}<br>avg of n_feedback_requests=%{y}<extra></extra>",
         "legendgroup": "",
         "marker": {
          "color": "#636efa"
         },
         "name": "",
         "nbinsx": 20,
         "offsetgroup": "",
         "orientation": "v",
         "showlegend": false,
         "type": "histogram",
         "x": [
          4,
          5.666666666666667,
          5,
          5.333333333333333,
          5,
          5.166666666666667,
          5.333333333333333,
          4,
          5.666666666666667,
          5.333333333333333,
          5,
          5.5,
          5,
          4.333333333333333,
          4.5,
          5.166666666666667,
          4.666666666666667,
          5.166666666666667,
          5.333333333333333,
          4.833333333333333,
          4.166666666666667,
          4,
          4.833333333333333,
          5.5,
          5,
          4.833333333333333,
          4.5,
          4.333333333333333,
          5,
          5,
          5.833333333333333,
          5.5,
          4,
          4.25,
          4.833333333333333,
          4,
          5,
          4.5,
          5.333333333333333,
          4.833333333333333,
          4.166666666666667,
          4.5,
          4,
          4.166666666666667,
          5,
          4.166666666666667,
          5.5,
          5,
          5.666666666666667,
          5.333333333333333,
          5.166666666666667,
          3.6666666666666665,
          4.5,
          4.833333333333333,
          5.833333333333333,
          5.333333333333333,
          5.166666666666667,
          5,
          3.5,
          4.666666666666667,
          5.5,
          5.333333333333333,
          5.5,
          4.5,
          5,
          5.166666666666667,
          5.5,
          4.166666666666667,
          4,
          4.166666666666667,
          4,
          6,
          5.5,
          5.166666666666667,
          4.5,
          4.833333333333333,
          5.166666666666667,
          4.833333333333333,
          5.5,
          5.166666666666667,
          5.333333333333333,
          4.166666666666667,
          5.25,
          5.3333330000000005,
          4.1666669999999995,
          2.5,
          5,
          3.8333333333333335,
          6,
          5.166666666666667,
          5.333333333333333,
          5.166666666666667,
          4.5,
          4.666666666666667,
          5.333333333333333,
          4.833333333333333,
          4.833333333333333,
          5.5,
          5.333333333333333,
          5.333333333333333,
          5.5,
          5.333333333333333,
          5,
          3,
          5.333333333333333,
          5.333333333333333,
          3,
          5.333333333333333,
          4.833333333333333,
          4.5,
          5.166666666666667,
          4.666666666666667,
          4.666666666666667,
          4.166666666666667,
          4.833333333333333,
          5.5,
          3.5,
          3.5,
          5.166666666666667,
          4.333333333333333,
          5.333333333333333,
          5.666666666666667,
          3.8333333333333335,
          4.333333333333333,
          5,
          3,
          2,
          4.666666666666667,
          2,
          4.642857,
          5,
          4.25,
          5.5,
          4.75,
          3.8333333333333335,
          4.666666666666667,
          4.666666666666667,
          5.5,
          5,
          4.5,
          3.5,
          5.166666666666667,
          5,
          4.75,
          5.666666666666667,
          4.166666666666667,
          4,
          3,
          3.8333333333333335,
          5,
          5.333333333333333,
          5.666666666666667,
          5.5,
          5,
          4.5,
          3.5,
          5.5,
          4.833333333333333,
          4.5,
          4.833333333333333,
          0,
          5.5,
          5.333333333333333,
          5.5,
          5.166666666666667,
          5.5,
          5,
          4.833333333333333,
          4.666666666666667,
          5.666666666666667,
          5,
          4.5,
          5.5,
          2.5,
          5.666666666666667,
          5.136364,
          4.166666666666667,
          5,
          5.0625,
          5.1666669999999995,
          4.5,
          5.833333333333333,
          4.666666666666667,
          4.5,
          5,
          4.75,
          5.666666666666667,
          5.666666666666667,
          4,
          5.333333333333333,
          4.833333333333333,
          4.833333333333333,
          5,
          4.833333333333333,
          4,
          4.166666666666667,
          4.5,
          4.25,
          4.833333333333333,
          4.5,
          6,
          5.5,
          5.833333333333333,
          3.3333333333333335,
          5.166666666666667,
          5.75,
          4.75,
          4,
          4.5,
          4.833333333333333,
          5.5,
          4.5,
          4.25,
          4.5,
          5,
          4.5,
          4.1666669999999995,
          4,
          4.75,
          4.5,
          4,
          5.5,
          5.5,
          4.75,
          2.5,
          5.25,
          4.5,
          5.5,
          5.5,
          4.75,
          5.25,
          4.5,
          5.5,
          4.25,
          3.75,
          5.5,
          4.25,
          4.5,
          5.75,
          4.75,
          3.75,
          4,
          4,
          4,
          4.5,
          5.25,
          5.25,
          5.75,
          5.25,
          4.25,
          4.75,
          4.5,
          5,
          5,
          4,
          5,
          4.1666669999999995,
          5,
          4.5,
          4,
          6,
          3.5,
          3.5,
          4.25,
          4.444444,
          5,
          5,
          3.333333,
          4.75,
          5.5,
          4.5,
          5,
          5.5,
          5.5,
          5,
          4.5,
          6,
          5.5,
          5.5,
          5.5,
          5.5,
          4.5,
          4.285714,
          4,
          4.8333330000000005,
          4.5,
          4.5,
          5.5,
          6,
          5.5,
          5,
          3.5,
          5.5,
          4.5,
          5.5,
          4.5,
          5,
          4.5,
          3.5,
          4.35,
          5,
          5.5,
          5,
          3.5,
          5.5,
          6,
          5.5,
          4,
          4.5,
          4.5,
          3.5,
          4.908163,
          4,
          5,
          3.75,
          3.857143,
          5,
          5.0625,
          4.75,
          4.673913,
          4
         ],
         "xaxis": "x",
         "y": [
          0,
          0,
          22,
          57,
          66,
          19,
          2,
          0,
          158,
          1,
          18,
          44,
          0,
          166,
          40,
          95,
          225,
          8,
          1,
          45,
          1,
          1,
          2,
          3,
          3,
          13,
          0,
          1,
          8,
          8,
          5,
          0,
          9,
          0,
          5,
          0,
          0,
          11,
          19,
          11,
          0,
          0,
          1,
          0,
          60,
          20,
          11,
          33,
          57,
          176,
          69,
          17,
          0,
          116,
          33,
          10,
          49,
          30,
          0,
          2,
          24,
          0,
          11,
          0,
          0,
          32,
          88,
          1,
          0,
          0,
          0,
          0,
          43,
          4,
          0,
          5,
          3,
          32,
          9,
          5,
          0,
          5,
          7,
          1,
          25,
          12,
          4,
          0,
          0,
          43,
          13,
          9,
          1,
          43,
          5,
          9,
          16,
          4,
          113,
          22,
          3,
          13,
          50,
          0,
          1,
          9,
          0,
          3,
          42,
          0,
          15,
          32,
          0,
          8,
          53,
          55,
          0,
          0,
          10,
          0,
          1,
          20,
          0,
          0,
          0,
          0,
          0,
          0,
          0,
          1,
          2,
          34,
          5,
          0,
          0,
          0,
          11,
          0,
          0,
          0,
          4,
          0,
          9,
          1,
          0,
          29,
          0,
          0,
          50,
          6,
          138,
          0,
          56,
          0,
          0,
          0,
          0,
          0,
          2,
          13,
          0,
          17,
          0,
          2,
          19,
          2,
          1,
          28,
          8,
          4,
          41,
          0,
          0,
          0,
          1,
          13,
          3,
          1,
          10,
          5,
          95,
          6,
          28,
          0,
          10,
          1,
          5,
          167,
          1,
          0,
          32,
          0,
          10,
          4,
          0,
          0,
          0,
          0,
          10,
          72,
          0,
          7,
          0,
          2,
          0,
          0,
          0,
          8,
          0,
          0,
          0,
          0,
          3,
          0,
          0,
          1,
          15,
          0,
          14,
          15,
          1,
          4,
          0,
          0,
          0,
          48,
          0,
          0,
          13,
          21,
          57,
          21,
          0,
          0,
          13,
          50,
          0,
          4,
          1,
          10,
          4,
          13,
          1,
          0,
          83,
          51,
          1,
          0,
          0,
          0,
          74,
          40,
          61,
          3,
          2,
          5,
          10,
          2,
          18,
          0,
          9,
          15,
          0,
          9,
          23,
          1,
          1,
          13,
          0,
          3,
          0,
          19,
          3,
          51,
          69,
          23,
          5,
          15,
          8,
          56,
          4,
          32,
          24,
          7,
          2,
          29,
          6,
          35,
          56,
          54,
          9,
          3,
          8,
          27,
          15,
          14,
          17,
          25,
          5,
          20,
          1,
          34,
          27,
          0,
          68,
          94,
          4,
          0,
          20,
          15,
          7,
          110,
          0,
          1,
          7,
          27,
          3,
          17,
          13,
          9,
          0
         ],
         "yaxis": "y"
        }
       ],
       "layout": {
        "barmode": "relative",
        "legend": {
         "tracegroupgap": 0
        },
        "margin": {
         "t": 60
        },
        "template": {
         "data": {
          "bar": [
           {
            "error_x": {
             "color": "#2a3f5f"
            },
            "error_y": {
             "color": "#2a3f5f"
            },
            "marker": {
             "line": {
              "color": "#E5ECF6",
              "width": 0.5
             }
            },
            "type": "bar"
           }
          ],
          "barpolar": [
           {
            "marker": {
             "line": {
              "color": "#E5ECF6",
              "width": 0.5
             }
            },
            "type": "barpolar"
           }
          ],
          "carpet": [
           {
            "aaxis": {
             "endlinecolor": "#2a3f5f",
             "gridcolor": "white",
             "linecolor": "white",
             "minorgridcolor": "white",
             "startlinecolor": "#2a3f5f"
            },
            "baxis": {
             "endlinecolor": "#2a3f5f",
             "gridcolor": "white",
             "linecolor": "white",
             "minorgridcolor": "white",
             "startlinecolor": "#2a3f5f"
            },
            "type": "carpet"
           }
          ],
          "choropleth": [
           {
            "colorbar": {
             "outlinewidth": 0,
             "ticks": ""
            },
            "type": "choropleth"
           }
          ],
          "contour": [
           {
            "colorbar": {
             "outlinewidth": 0,
             "ticks": ""
            },
            "colorscale": [
             [
              0,
              "#0d0887"
             ],
             [
              0.1111111111111111,
              "#46039f"
             ],
             [
              0.2222222222222222,
              "#7201a8"
             ],
             [
              0.3333333333333333,
              "#9c179e"
             ],
             [
              0.4444444444444444,
              "#bd3786"
             ],
             [
              0.5555555555555556,
              "#d8576b"
             ],
             [
              0.6666666666666666,
              "#ed7953"
             ],
             [
              0.7777777777777778,
              "#fb9f3a"
             ],
             [
              0.8888888888888888,
              "#fdca26"
             ],
             [
              1,
              "#f0f921"
             ]
            ],
            "type": "contour"
           }
          ],
          "contourcarpet": [
           {
            "colorbar": {
             "outlinewidth": 0,
             "ticks": ""
            },
            "type": "contourcarpet"
           }
          ],
          "heatmap": [
           {
            "colorbar": {
             "outlinewidth": 0,
             "ticks": ""
            },
            "colorscale": [
             [
              0,
              "#0d0887"
             ],
             [
              0.1111111111111111,
              "#46039f"
             ],
             [
              0.2222222222222222,
              "#7201a8"
             ],
             [
              0.3333333333333333,
              "#9c179e"
             ],
             [
              0.4444444444444444,
              "#bd3786"
             ],
             [
              0.5555555555555556,
              "#d8576b"
             ],
             [
              0.6666666666666666,
              "#ed7953"
             ],
             [
              0.7777777777777778,
              "#fb9f3a"
             ],
             [
              0.8888888888888888,
              "#fdca26"
             ],
             [
              1,
              "#f0f921"
             ]
            ],
            "type": "heatmap"
           }
          ],
          "heatmapgl": [
           {
            "colorbar": {
             "outlinewidth": 0,
             "ticks": ""
            },
            "colorscale": [
             [
              0,
              "#0d0887"
             ],
             [
              0.1111111111111111,
              "#46039f"
             ],
             [
              0.2222222222222222,
              "#7201a8"
             ],
             [
              0.3333333333333333,
              "#9c179e"
             ],
             [
              0.4444444444444444,
              "#bd3786"
             ],
             [
              0.5555555555555556,
              "#d8576b"
             ],
             [
              0.6666666666666666,
              "#ed7953"
             ],
             [
              0.7777777777777778,
              "#fb9f3a"
             ],
             [
              0.8888888888888888,
              "#fdca26"
             ],
             [
              1,
              "#f0f921"
             ]
            ],
            "type": "heatmapgl"
           }
          ],
          "histogram": [
           {
            "marker": {
             "colorbar": {
              "outlinewidth": 0,
              "ticks": ""
             }
            },
            "type": "histogram"
           }
          ],
          "histogram2d": [
           {
            "colorbar": {
             "outlinewidth": 0,
             "ticks": ""
            },
            "colorscale": [
             [
              0,
              "#0d0887"
             ],
             [
              0.1111111111111111,
              "#46039f"
             ],
             [
              0.2222222222222222,
              "#7201a8"
             ],
             [
              0.3333333333333333,
              "#9c179e"
             ],
             [
              0.4444444444444444,
              "#bd3786"
             ],
             [
              0.5555555555555556,
              "#d8576b"
             ],
             [
              0.6666666666666666,
              "#ed7953"
             ],
             [
              0.7777777777777778,
              "#fb9f3a"
             ],
             [
              0.8888888888888888,
              "#fdca26"
             ],
             [
              1,
              "#f0f921"
             ]
            ],
            "type": "histogram2d"
           }
          ],
          "histogram2dcontour": [
           {
            "colorbar": {
             "outlinewidth": 0,
             "ticks": ""
            },
            "colorscale": [
             [
              0,
              "#0d0887"
             ],
             [
              0.1111111111111111,
              "#46039f"
             ],
             [
              0.2222222222222222,
              "#7201a8"
             ],
             [
              0.3333333333333333,
              "#9c179e"
             ],
             [
              0.4444444444444444,
              "#bd3786"
             ],
             [
              0.5555555555555556,
              "#d8576b"
             ],
             [
              0.6666666666666666,
              "#ed7953"
             ],
             [
              0.7777777777777778,
              "#fb9f3a"
             ],
             [
              0.8888888888888888,
              "#fdca26"
             ],
             [
              1,
              "#f0f921"
             ]
            ],
            "type": "histogram2dcontour"
           }
          ],
          "mesh3d": [
           {
            "colorbar": {
             "outlinewidth": 0,
             "ticks": ""
            },
            "type": "mesh3d"
           }
          ],
          "parcoords": [
           {
            "line": {
             "colorbar": {
              "outlinewidth": 0,
              "ticks": ""
             }
            },
            "type": "parcoords"
           }
          ],
          "pie": [
           {
            "automargin": true,
            "type": "pie"
           }
          ],
          "scatter": [
           {
            "marker": {
             "colorbar": {
              "outlinewidth": 0,
              "ticks": ""
             }
            },
            "type": "scatter"
           }
          ],
          "scatter3d": [
           {
            "line": {
             "colorbar": {
              "outlinewidth": 0,
              "ticks": ""
             }
            },
            "marker": {
             "colorbar": {
              "outlinewidth": 0,
              "ticks": ""
             }
            },
            "type": "scatter3d"
           }
          ],
          "scattercarpet": [
           {
            "marker": {
             "colorbar": {
              "outlinewidth": 0,
              "ticks": ""
             }
            },
            "type": "scattercarpet"
           }
          ],
          "scattergeo": [
           {
            "marker": {
             "colorbar": {
              "outlinewidth": 0,
              "ticks": ""
             }
            },
            "type": "scattergeo"
           }
          ],
          "scattergl": [
           {
            "marker": {
             "colorbar": {
              "outlinewidth": 0,
              "ticks": ""
             }
            },
            "type": "scattergl"
           }
          ],
          "scattermapbox": [
           {
            "marker": {
             "colorbar": {
              "outlinewidth": 0,
              "ticks": ""
             }
            },
            "type": "scattermapbox"
           }
          ],
          "scatterpolar": [
           {
            "marker": {
             "colorbar": {
              "outlinewidth": 0,
              "ticks": ""
             }
            },
            "type": "scatterpolar"
           }
          ],
          "scatterpolargl": [
           {
            "marker": {
             "colorbar": {
              "outlinewidth": 0,
              "ticks": ""
             }
            },
            "type": "scatterpolargl"
           }
          ],
          "scatterternary": [
           {
            "marker": {
             "colorbar": {
              "outlinewidth": 0,
              "ticks": ""
             }
            },
            "type": "scatterternary"
           }
          ],
          "surface": [
           {
            "colorbar": {
             "outlinewidth": 0,
             "ticks": ""
            },
            "colorscale": [
             [
              0,
              "#0d0887"
             ],
             [
              0.1111111111111111,
              "#46039f"
             ],
             [
              0.2222222222222222,
              "#7201a8"
             ],
             [
              0.3333333333333333,
              "#9c179e"
             ],
             [
              0.4444444444444444,
              "#bd3786"
             ],
             [
              0.5555555555555556,
              "#d8576b"
             ],
             [
              0.6666666666666666,
              "#ed7953"
             ],
             [
              0.7777777777777778,
              "#fb9f3a"
             ],
             [
              0.8888888888888888,
              "#fdca26"
             ],
             [
              1,
              "#f0f921"
             ]
            ],
            "type": "surface"
           }
          ],
          "table": [
           {
            "cells": {
             "fill": {
              "color": "#EBF0F8"
             },
             "line": {
              "color": "white"
             }
            },
            "header": {
             "fill": {
              "color": "#C8D4E3"
             },
             "line": {
              "color": "white"
             }
            },
            "type": "table"
           }
          ]
         },
         "layout": {
          "annotationdefaults": {
           "arrowcolor": "#2a3f5f",
           "arrowhead": 0,
           "arrowwidth": 1
          },
          "coloraxis": {
           "colorbar": {
            "outlinewidth": 0,
            "ticks": ""
           }
          },
          "colorscale": {
           "diverging": [
            [
             0,
             "#8e0152"
            ],
            [
             0.1,
             "#c51b7d"
            ],
            [
             0.2,
             "#de77ae"
            ],
            [
             0.3,
             "#f1b6da"
            ],
            [
             0.4,
             "#fde0ef"
            ],
            [
             0.5,
             "#f7f7f7"
            ],
            [
             0.6,
             "#e6f5d0"
            ],
            [
             0.7,
             "#b8e186"
            ],
            [
             0.8,
             "#7fbc41"
            ],
            [
             0.9,
             "#4d9221"
            ],
            [
             1,
             "#276419"
            ]
           ],
           "sequential": [
            [
             0,
             "#0d0887"
            ],
            [
             0.1111111111111111,
             "#46039f"
            ],
            [
             0.2222222222222222,
             "#7201a8"
            ],
            [
             0.3333333333333333,
             "#9c179e"
            ],
            [
             0.4444444444444444,
             "#bd3786"
            ],
            [
             0.5555555555555556,
             "#d8576b"
            ],
            [
             0.6666666666666666,
             "#ed7953"
            ],
            [
             0.7777777777777778,
             "#fb9f3a"
            ],
            [
             0.8888888888888888,
             "#fdca26"
            ],
            [
             1,
             "#f0f921"
            ]
           ],
           "sequentialminus": [
            [
             0,
             "#0d0887"
            ],
            [
             0.1111111111111111,
             "#46039f"
            ],
            [
             0.2222222222222222,
             "#7201a8"
            ],
            [
             0.3333333333333333,
             "#9c179e"
            ],
            [
             0.4444444444444444,
             "#bd3786"
            ],
            [
             0.5555555555555556,
             "#d8576b"
            ],
            [
             0.6666666666666666,
             "#ed7953"
            ],
            [
             0.7777777777777778,
             "#fb9f3a"
            ],
            [
             0.8888888888888888,
             "#fdca26"
            ],
            [
             1,
             "#f0f921"
            ]
           ]
          },
          "colorway": [
           "#636efa",
           "#EF553B",
           "#00cc96",
           "#ab63fa",
           "#FFA15A",
           "#19d3f3",
           "#FF6692",
           "#B6E880",
           "#FF97FF",
           "#FECB52"
          ],
          "font": {
           "color": "#2a3f5f"
          },
          "geo": {
           "bgcolor": "white",
           "lakecolor": "white",
           "landcolor": "#E5ECF6",
           "showlakes": true,
           "showland": true,
           "subunitcolor": "white"
          },
          "hoverlabel": {
           "align": "left"
          },
          "hovermode": "closest",
          "mapbox": {
           "style": "light"
          },
          "paper_bgcolor": "white",
          "plot_bgcolor": "#E5ECF6",
          "polar": {
           "angularaxis": {
            "gridcolor": "white",
            "linecolor": "white",
            "ticks": ""
           },
           "bgcolor": "#E5ECF6",
           "radialaxis": {
            "gridcolor": "white",
            "linecolor": "white",
            "ticks": ""
           }
          },
          "scene": {
           "xaxis": {
            "backgroundcolor": "#E5ECF6",
            "gridcolor": "white",
            "gridwidth": 2,
            "linecolor": "white",
            "showbackground": true,
            "ticks": "",
            "zerolinecolor": "white"
           },
           "yaxis": {
            "backgroundcolor": "#E5ECF6",
            "gridcolor": "white",
            "gridwidth": 2,
            "linecolor": "white",
            "showbackground": true,
            "ticks": "",
            "zerolinecolor": "white"
           },
           "zaxis": {
            "backgroundcolor": "#E5ECF6",
            "gridcolor": "white",
            "gridwidth": 2,
            "linecolor": "white",
            "showbackground": true,
            "ticks": "",
            "zerolinecolor": "white"
           }
          },
          "shapedefaults": {
           "line": {
            "color": "#2a3f5f"
           }
          },
          "ternary": {
           "aaxis": {
            "gridcolor": "white",
            "linecolor": "white",
            "ticks": ""
           },
           "baxis": {
            "gridcolor": "white",
            "linecolor": "white",
            "ticks": ""
           },
           "bgcolor": "#E5ECF6",
           "caxis": {
            "gridcolor": "white",
            "linecolor": "white",
            "ticks": ""
           }
          },
          "title": {
           "x": 0.05
          },
          "xaxis": {
           "automargin": true,
           "gridcolor": "white",
           "linecolor": "white",
           "ticks": "",
           "title": {
            "standoff": 15
           },
           "zerolinecolor": "white",
           "zerolinewidth": 2
          },
          "yaxis": {
           "automargin": true,
           "gridcolor": "white",
           "linecolor": "white",
           "ticks": "",
           "title": {
            "standoff": 15
           },
           "zerolinecolor": "white",
           "zerolinewidth": 2
          }
         }
        },
        "xaxis": {
         "anchor": "y",
         "domain": [
          0,
          1
         ],
         "title": {
          "text": "E_grade"
         }
        },
        "yaxis": {
         "anchor": "x",
         "domain": [
          0,
          1
         ],
         "title": {
          "text": "avg of n_feedback_requests"
         }
        }
       }
      },
      "text/html": [
       "<div>\n",
       "        \n",
       "        \n",
       "            <div id=\"759f8343-64e2-48db-bbef-339a7bf68459\" class=\"plotly-graph-div\" style=\"height:525px; width:100%;\"></div>\n",
       "            <script type=\"text/javascript\">\n",
       "                require([\"plotly\"], function(Plotly) {\n",
       "                    window.PLOTLYENV=window.PLOTLYENV || {};\n",
       "                    \n",
       "                if (document.getElementById(\"759f8343-64e2-48db-bbef-339a7bf68459\")) {\n",
       "                    Plotly.newPlot(\n",
       "                        '759f8343-64e2-48db-bbef-339a7bf68459',\n",
       "                        [{\"alignmentgroup\": \"True\", \"bingroup\": \"x\", \"histfunc\": \"avg\", \"hovertemplate\": \"E_grade=%{x}<br>avg of n_feedback_requests=%{y}<extra></extra>\", \"legendgroup\": \"\", \"marker\": {\"color\": \"#636efa\"}, \"name\": \"\", \"nbinsx\": 20, \"offsetgroup\": \"\", \"orientation\": \"v\", \"showlegend\": false, \"type\": \"histogram\", \"x\": [4.0, 5.666666666666667, 5.0, 5.333333333333333, 5.0, 5.166666666666667, 5.333333333333333, 4.0, 5.666666666666667, 5.333333333333333, 5.0, 5.5, 5.0, 4.333333333333333, 4.5, 5.166666666666667, 4.666666666666667, 5.166666666666667, 5.333333333333333, 4.833333333333333, 4.166666666666667, 4.0, 4.833333333333333, 5.5, 5.0, 4.833333333333333, 4.5, 4.333333333333333, 5.0, 5.0, 5.833333333333333, 5.5, 4.0, 4.25, 4.833333333333333, 4.0, 5.0, 4.5, 5.333333333333333, 4.833333333333333, 4.166666666666667, 4.5, 4.0, 4.166666666666667, 5.0, 4.166666666666667, 5.5, 5.0, 5.666666666666667, 5.333333333333333, 5.166666666666667, 3.6666666666666665, 4.5, 4.833333333333333, 5.833333333333333, 5.333333333333333, 5.166666666666667, 5.0, 3.5, 4.666666666666667, 5.5, 5.333333333333333, 5.5, 4.5, 5.0, 5.166666666666667, 5.5, 4.166666666666667, 4.0, 4.166666666666667, 4.0, 6.0, 5.5, 5.166666666666667, 4.5, 4.833333333333333, 5.166666666666667, 4.833333333333333, 5.5, 5.166666666666667, 5.333333333333333, 4.166666666666667, 5.25, 5.3333330000000005, 4.1666669999999995, 2.5, 5.0, 3.8333333333333335, 6.0, 5.166666666666667, 5.333333333333333, 5.166666666666667, 4.5, 4.666666666666667, 5.333333333333333, 4.833333333333333, 4.833333333333333, 5.5, 5.333333333333333, 5.333333333333333, 5.5, 5.333333333333333, 5.0, 3.0, 5.333333333333333, 5.333333333333333, 3.0, 5.333333333333333, 4.833333333333333, 4.5, 5.166666666666667, 4.666666666666667, 4.666666666666667, 4.166666666666667, 4.833333333333333, 5.5, 3.5, 3.5, 5.166666666666667, 4.333333333333333, 5.333333333333333, 5.666666666666667, 3.8333333333333335, 4.333333333333333, 5.0, 3.0, 2.0, 4.666666666666667, 2.0, 4.642857, 5.0, 4.25, 5.5, 4.75, 3.8333333333333335, 4.666666666666667, 4.666666666666667, 5.5, 5.0, 4.5, 3.5, 5.166666666666667, 5.0, 4.75, 5.666666666666667, 4.166666666666667, 4.0, 3.0, 3.8333333333333335, 5.0, 5.333333333333333, 5.666666666666667, 5.5, 5.0, 4.5, 3.5, 5.5, 4.833333333333333, 4.5, 4.833333333333333, 0.0, 5.5, 5.333333333333333, 5.5, 5.166666666666667, 5.5, 5.0, 4.833333333333333, 4.666666666666667, 5.666666666666667, 5.0, 4.5, 5.5, 2.5, 5.666666666666667, 5.136364, 4.166666666666667, 5.0, 5.0625, 5.1666669999999995, 4.5, 5.833333333333333, 4.666666666666667, 4.5, 5.0, 4.75, 5.666666666666667, 5.666666666666667, 4.0, 5.333333333333333, 4.833333333333333, 4.833333333333333, 5.0, 4.833333333333333, 4.0, 4.166666666666667, 4.5, 4.25, 4.833333333333333, 4.5, 6.0, 5.5, 5.833333333333333, 3.3333333333333335, 5.166666666666667, 5.75, 4.75, 4.0, 4.5, 4.833333333333333, 5.5, 4.5, 4.25, 4.5, 5.0, 4.5, 4.1666669999999995, 4.0, 4.75, 4.5, 4.0, 5.5, 5.5, 4.75, 2.5, 5.25, 4.5, 5.5, 5.5, 4.75, 5.25, 4.5, 5.5, 4.25, 3.75, 5.5, 4.25, 4.5, 5.75, 4.75, 3.75, 4.0, 4.0, 4.0, 4.5, 5.25, 5.25, 5.75, 5.25, 4.25, 4.75, 4.5, 5.0, 5.0, 4.0, 5.0, 4.1666669999999995, 5.0, 4.5, 4.0, 6.0, 3.5, 3.5, 4.25, 4.444444, 5.0, 5.0, 3.333333, 4.75, 5.5, 4.5, 5.0, 5.5, 5.5, 5.0, 4.5, 6.0, 5.5, 5.5, 5.5, 5.5, 4.5, 4.285714, 4.0, 4.8333330000000005, 4.5, 4.5, 5.5, 6.0, 5.5, 5.0, 3.5, 5.5, 4.5, 5.5, 4.5, 5.0, 4.5, 3.5, 4.35, 5.0, 5.5, 5.0, 3.5, 5.5, 6.0, 5.5, 4.0, 4.5, 4.5, 3.5, 4.908163, 4.0, 5.0, 3.75, 3.857143, 5.0, 5.0625, 4.75, 4.673913, 4.0], \"xaxis\": \"x\", \"y\": [0.0, 0.0, 22.0, 57.0, 66.0, 19.0, 2.0, 0.0, 158.0, 1.0, 18.0, 44.0, 0.0, 166.0, 40.0, 95.0, 225.0, 8.0, 1.0, 45.0, 1.0, 1.0, 2.0, 3.0, 3.0, 13.0, 0.0, 1.0, 8.0, 8.0, 5.0, 0.0, 9.0, 0.0, 5.0, 0.0, 0.0, 11.0, 19.0, 11.0, 0.0, 0.0, 1.0, 0.0, 60.0, 20.0, 11.0, 33.0, 57.0, 176.0, 69.0, 17.0, 0.0, 116.0, 33.0, 10.0, 49.0, 30.0, 0.0, 2.0, 24.0, 0.0, 11.0, 0.0, 0.0, 32.0, 88.0, 1.0, 0.0, 0.0, 0.0, 0.0, 43.0, 4.0, 0.0, 5.0, 3.0, 32.0, 9.0, 5.0, 0.0, 5.0, 7.0, 1.0, 25.0, 12.0, 4.0, 0.0, 0.0, 43.0, 13.0, 9.0, 1.0, 43.0, 5.0, 9.0, 16.0, 4.0, 113.0, 22.0, 3.0, 13.0, 50.0, 0.0, 1.0, 9.0, 0.0, 3.0, 42.0, 0.0, 15.0, 32.0, 0.0, 8.0, 53.0, 55.0, 0.0, 0.0, 10.0, 0.0, 1.0, 20.0, 0.0, 0.0, 0.0, 0.0, 0.0, 0.0, 0.0, 1.0, 2.0, 34.0, 5.0, 0.0, 0.0, 0.0, 11.0, 0.0, 0.0, 0.0, 4.0, 0.0, 9.0, 1.0, 0.0, 29.0, 0.0, 0.0, 50.0, 6.0, 138.0, 0.0, 56.0, 0.0, 0.0, 0.0, 0.0, 0.0, 2.0, 13.0, 0.0, 17.0, 0.0, 2.0, 19.0, 2.0, 1.0, 28.0, 8.0, 4.0, 41.0, 0.0, 0.0, 0.0, 1.0, 13.0, 3.0, 1.0, 10.0, 5.0, 95.0, 6.0, 28.0, 0.0, 10.0, 1.0, 5.0, 167.0, 1.0, 0.0, 32.0, 0.0, 10.0, 4.0, 0.0, 0.0, 0.0, 0.0, 10.0, 72.0, 0.0, 7.0, 0.0, 2.0, 0.0, 0.0, 0.0, 8.0, 0.0, 0.0, 0.0, 0.0, 3.0, 0.0, 0.0, 1.0, 15.0, 0.0, 14.0, 15.0, 1.0, 4.0, 0.0, 0.0, 0.0, 48.0, 0.0, 0.0, 13.0, 21.0, 57.0, 21.0, 0.0, 0.0, 13.0, 50.0, 0.0, 4.0, 1.0, 10.0, 4.0, 13.0, 1.0, 0.0, 83.0, 51.0, 1.0, 0.0, 0.0, 0.0, 74.0, 40.0, 61.0, 3.0, 2.0, 5.0, 10.0, 2.0, 18.0, 0.0, 9.0, 15.0, 0.0, 9.0, 23.0, 1.0, 1.0, 13.0, 0.0, 3.0, 0.0, 19.0, 3.0, 51.0, 69.0, 23.0, 5.0, 15.0, 8.0, 56.0, 4.0, 32.0, 24.0, 7.0, 2.0, 29.0, 6.0, 35.0, 56.0, 54.0, 9.0, 3.0, 8.0, 27.0, 15.0, 14.0, 17.0, 25.0, 5.0, 20.0, 1.0, 34.0, 27.0, 0.0, 68.0, 94.0, 4.0, 0.0, 20.0, 15.0, 7.0, 110.0, 0.0, 1.0, 7.0, 27.0, 3.0, 17.0, 13.0, 9.0, 0.0], \"yaxis\": \"y\"}],\n",
       "                        {\"barmode\": \"relative\", \"legend\": {\"tracegroupgap\": 0}, \"margin\": {\"t\": 60}, \"template\": {\"data\": {\"bar\": [{\"error_x\": {\"color\": \"#2a3f5f\"}, \"error_y\": {\"color\": \"#2a3f5f\"}, \"marker\": {\"line\": {\"color\": \"#E5ECF6\", \"width\": 0.5}}, \"type\": \"bar\"}], \"barpolar\": [{\"marker\": {\"line\": {\"color\": \"#E5ECF6\", \"width\": 0.5}}, \"type\": \"barpolar\"}], \"carpet\": [{\"aaxis\": {\"endlinecolor\": \"#2a3f5f\", \"gridcolor\": \"white\", \"linecolor\": \"white\", \"minorgridcolor\": \"white\", \"startlinecolor\": \"#2a3f5f\"}, \"baxis\": {\"endlinecolor\": \"#2a3f5f\", \"gridcolor\": \"white\", \"linecolor\": \"white\", \"minorgridcolor\": \"white\", \"startlinecolor\": \"#2a3f5f\"}, \"type\": \"carpet\"}], \"choropleth\": [{\"colorbar\": {\"outlinewidth\": 0, \"ticks\": \"\"}, \"type\": \"choropleth\"}], \"contour\": [{\"colorbar\": {\"outlinewidth\": 0, \"ticks\": \"\"}, \"colorscale\": [[0.0, \"#0d0887\"], [0.1111111111111111, \"#46039f\"], [0.2222222222222222, \"#7201a8\"], [0.3333333333333333, \"#9c179e\"], [0.4444444444444444, \"#bd3786\"], [0.5555555555555556, \"#d8576b\"], [0.6666666666666666, \"#ed7953\"], [0.7777777777777778, \"#fb9f3a\"], [0.8888888888888888, \"#fdca26\"], [1.0, \"#f0f921\"]], \"type\": \"contour\"}], \"contourcarpet\": [{\"colorbar\": {\"outlinewidth\": 0, \"ticks\": \"\"}, \"type\": \"contourcarpet\"}], \"heatmap\": [{\"colorbar\": {\"outlinewidth\": 0, \"ticks\": \"\"}, \"colorscale\": [[0.0, \"#0d0887\"], [0.1111111111111111, \"#46039f\"], [0.2222222222222222, \"#7201a8\"], [0.3333333333333333, \"#9c179e\"], [0.4444444444444444, \"#bd3786\"], [0.5555555555555556, \"#d8576b\"], [0.6666666666666666, \"#ed7953\"], [0.7777777777777778, \"#fb9f3a\"], [0.8888888888888888, \"#fdca26\"], [1.0, \"#f0f921\"]], \"type\": \"heatmap\"}], \"heatmapgl\": [{\"colorbar\": {\"outlinewidth\": 0, \"ticks\": \"\"}, \"colorscale\": [[0.0, \"#0d0887\"], [0.1111111111111111, \"#46039f\"], [0.2222222222222222, \"#7201a8\"], [0.3333333333333333, \"#9c179e\"], [0.4444444444444444, \"#bd3786\"], [0.5555555555555556, \"#d8576b\"], [0.6666666666666666, \"#ed7953\"], [0.7777777777777778, \"#fb9f3a\"], [0.8888888888888888, \"#fdca26\"], [1.0, \"#f0f921\"]], \"type\": \"heatmapgl\"}], \"histogram\": [{\"marker\": {\"colorbar\": {\"outlinewidth\": 0, \"ticks\": \"\"}}, \"type\": \"histogram\"}], \"histogram2d\": [{\"colorbar\": {\"outlinewidth\": 0, \"ticks\": \"\"}, \"colorscale\": [[0.0, \"#0d0887\"], [0.1111111111111111, \"#46039f\"], [0.2222222222222222, \"#7201a8\"], [0.3333333333333333, \"#9c179e\"], [0.4444444444444444, \"#bd3786\"], [0.5555555555555556, \"#d8576b\"], [0.6666666666666666, \"#ed7953\"], [0.7777777777777778, \"#fb9f3a\"], [0.8888888888888888, \"#fdca26\"], [1.0, \"#f0f921\"]], \"type\": \"histogram2d\"}], \"histogram2dcontour\": [{\"colorbar\": {\"outlinewidth\": 0, \"ticks\": \"\"}, \"colorscale\": [[0.0, \"#0d0887\"], [0.1111111111111111, \"#46039f\"], [0.2222222222222222, \"#7201a8\"], [0.3333333333333333, \"#9c179e\"], [0.4444444444444444, \"#bd3786\"], [0.5555555555555556, \"#d8576b\"], [0.6666666666666666, \"#ed7953\"], [0.7777777777777778, \"#fb9f3a\"], [0.8888888888888888, \"#fdca26\"], [1.0, \"#f0f921\"]], \"type\": \"histogram2dcontour\"}], \"mesh3d\": [{\"colorbar\": {\"outlinewidth\": 0, \"ticks\": \"\"}, \"type\": \"mesh3d\"}], \"parcoords\": [{\"line\": {\"colorbar\": {\"outlinewidth\": 0, \"ticks\": \"\"}}, \"type\": \"parcoords\"}], \"pie\": [{\"automargin\": true, \"type\": \"pie\"}], \"scatter\": [{\"marker\": {\"colorbar\": {\"outlinewidth\": 0, \"ticks\": \"\"}}, \"type\": \"scatter\"}], \"scatter3d\": [{\"line\": {\"colorbar\": {\"outlinewidth\": 0, \"ticks\": \"\"}}, \"marker\": {\"colorbar\": {\"outlinewidth\": 0, \"ticks\": \"\"}}, \"type\": \"scatter3d\"}], \"scattercarpet\": [{\"marker\": {\"colorbar\": {\"outlinewidth\": 0, \"ticks\": \"\"}}, \"type\": \"scattercarpet\"}], \"scattergeo\": [{\"marker\": {\"colorbar\": {\"outlinewidth\": 0, \"ticks\": \"\"}}, \"type\": \"scattergeo\"}], \"scattergl\": [{\"marker\": {\"colorbar\": {\"outlinewidth\": 0, \"ticks\": \"\"}}, \"type\": \"scattergl\"}], \"scattermapbox\": [{\"marker\": {\"colorbar\": {\"outlinewidth\": 0, \"ticks\": \"\"}}, \"type\": \"scattermapbox\"}], \"scatterpolar\": [{\"marker\": {\"colorbar\": {\"outlinewidth\": 0, \"ticks\": \"\"}}, \"type\": \"scatterpolar\"}], \"scatterpolargl\": [{\"marker\": {\"colorbar\": {\"outlinewidth\": 0, \"ticks\": \"\"}}, \"type\": \"scatterpolargl\"}], \"scatterternary\": [{\"marker\": {\"colorbar\": {\"outlinewidth\": 0, \"ticks\": \"\"}}, \"type\": \"scatterternary\"}], \"surface\": [{\"colorbar\": {\"outlinewidth\": 0, \"ticks\": \"\"}, \"colorscale\": [[0.0, \"#0d0887\"], [0.1111111111111111, \"#46039f\"], [0.2222222222222222, \"#7201a8\"], [0.3333333333333333, \"#9c179e\"], [0.4444444444444444, \"#bd3786\"], [0.5555555555555556, \"#d8576b\"], [0.6666666666666666, \"#ed7953\"], [0.7777777777777778, \"#fb9f3a\"], [0.8888888888888888, \"#fdca26\"], [1.0, \"#f0f921\"]], \"type\": \"surface\"}], \"table\": [{\"cells\": {\"fill\": {\"color\": \"#EBF0F8\"}, \"line\": {\"color\": \"white\"}}, \"header\": {\"fill\": {\"color\": \"#C8D4E3\"}, \"line\": {\"color\": \"white\"}}, \"type\": \"table\"}]}, \"layout\": {\"annotationdefaults\": {\"arrowcolor\": \"#2a3f5f\", \"arrowhead\": 0, \"arrowwidth\": 1}, \"coloraxis\": {\"colorbar\": {\"outlinewidth\": 0, \"ticks\": \"\"}}, \"colorscale\": {\"diverging\": [[0, \"#8e0152\"], [0.1, \"#c51b7d\"], [0.2, \"#de77ae\"], [0.3, \"#f1b6da\"], [0.4, \"#fde0ef\"], [0.5, \"#f7f7f7\"], [0.6, \"#e6f5d0\"], [0.7, \"#b8e186\"], [0.8, \"#7fbc41\"], [0.9, \"#4d9221\"], [1, \"#276419\"]], \"sequential\": [[0.0, \"#0d0887\"], [0.1111111111111111, \"#46039f\"], [0.2222222222222222, \"#7201a8\"], [0.3333333333333333, \"#9c179e\"], [0.4444444444444444, \"#bd3786\"], [0.5555555555555556, \"#d8576b\"], [0.6666666666666666, \"#ed7953\"], [0.7777777777777778, \"#fb9f3a\"], [0.8888888888888888, \"#fdca26\"], [1.0, \"#f0f921\"]], \"sequentialminus\": [[0.0, \"#0d0887\"], [0.1111111111111111, \"#46039f\"], [0.2222222222222222, \"#7201a8\"], [0.3333333333333333, \"#9c179e\"], [0.4444444444444444, \"#bd3786\"], [0.5555555555555556, \"#d8576b\"], [0.6666666666666666, \"#ed7953\"], [0.7777777777777778, \"#fb9f3a\"], [0.8888888888888888, \"#fdca26\"], [1.0, \"#f0f921\"]]}, \"colorway\": [\"#636efa\", \"#EF553B\", \"#00cc96\", \"#ab63fa\", \"#FFA15A\", \"#19d3f3\", \"#FF6692\", \"#B6E880\", \"#FF97FF\", \"#FECB52\"], \"font\": {\"color\": \"#2a3f5f\"}, \"geo\": {\"bgcolor\": \"white\", \"lakecolor\": \"white\", \"landcolor\": \"#E5ECF6\", \"showlakes\": true, \"showland\": true, \"subunitcolor\": \"white\"}, \"hoverlabel\": {\"align\": \"left\"}, \"hovermode\": \"closest\", \"mapbox\": {\"style\": \"light\"}, \"paper_bgcolor\": \"white\", \"plot_bgcolor\": \"#E5ECF6\", \"polar\": {\"angularaxis\": {\"gridcolor\": \"white\", \"linecolor\": \"white\", \"ticks\": \"\"}, \"bgcolor\": \"#E5ECF6\", \"radialaxis\": {\"gridcolor\": \"white\", \"linecolor\": \"white\", \"ticks\": \"\"}}, \"scene\": {\"xaxis\": {\"backgroundcolor\": \"#E5ECF6\", \"gridcolor\": \"white\", \"gridwidth\": 2, \"linecolor\": \"white\", \"showbackground\": true, \"ticks\": \"\", \"zerolinecolor\": \"white\"}, \"yaxis\": {\"backgroundcolor\": \"#E5ECF6\", \"gridcolor\": \"white\", \"gridwidth\": 2, \"linecolor\": \"white\", \"showbackground\": true, \"ticks\": \"\", \"zerolinecolor\": \"white\"}, \"zaxis\": {\"backgroundcolor\": \"#E5ECF6\", \"gridcolor\": \"white\", \"gridwidth\": 2, \"linecolor\": \"white\", \"showbackground\": true, \"ticks\": \"\", \"zerolinecolor\": \"white\"}}, \"shapedefaults\": {\"line\": {\"color\": \"#2a3f5f\"}}, \"ternary\": {\"aaxis\": {\"gridcolor\": \"white\", \"linecolor\": \"white\", \"ticks\": \"\"}, \"baxis\": {\"gridcolor\": \"white\", \"linecolor\": \"white\", \"ticks\": \"\"}, \"bgcolor\": \"#E5ECF6\", \"caxis\": {\"gridcolor\": \"white\", \"linecolor\": \"white\", \"ticks\": \"\"}}, \"title\": {\"x\": 0.05}, \"xaxis\": {\"automargin\": true, \"gridcolor\": \"white\", \"linecolor\": \"white\", \"ticks\": \"\", \"title\": {\"standoff\": 15}, \"zerolinecolor\": \"white\", \"zerolinewidth\": 2}, \"yaxis\": {\"automargin\": true, \"gridcolor\": \"white\", \"linecolor\": \"white\", \"ticks\": \"\", \"title\": {\"standoff\": 15}, \"zerolinecolor\": \"white\", \"zerolinewidth\": 2}}}, \"xaxis\": {\"anchor\": \"y\", \"domain\": [0.0, 1.0], \"title\": {\"text\": \"E_grade\"}}, \"yaxis\": {\"anchor\": \"x\", \"domain\": [0.0, 1.0], \"title\": {\"text\": \"avg of n_feedback_requests\"}}},\n",
       "                        {\"responsive\": true}\n",
       "                    ).then(function(){\n",
       "                            \n",
       "var gd = document.getElementById('759f8343-64e2-48db-bbef-339a7bf68459');\n",
       "var x = new MutationObserver(function (mutations, observer) {{\n",
       "        var display = window.getComputedStyle(gd).display;\n",
       "        if (!display || display === 'none') {{\n",
       "            console.log([gd, 'removed!']);\n",
       "            Plotly.purge(gd);\n",
       "            observer.disconnect();\n",
       "        }}\n",
       "}});\n",
       "\n",
       "// Listen for the removal of the full notebook cells\n",
       "var notebookContainer = gd.closest('#notebook-container');\n",
       "if (notebookContainer) {{\n",
       "    x.observe(notebookContainer, {childList: true});\n",
       "}}\n",
       "\n",
       "// Listen for the clearing of the current output cell\n",
       "var outputEl = gd.closest('.output');\n",
       "if (outputEl) {{\n",
       "    x.observe(outputEl, {childList: true});\n",
       "}}\n",
       "\n",
       "                        })\n",
       "                };\n",
       "                });\n",
       "            </script>\n",
       "        </div>"
      ]
     },
     "metadata": {},
     "output_type": "display_data"
    }
   ],
   "source": [
    "students.plot.hist(x=\"E_grade\",y=\"n_feedback_requests\", histfunc=\"avg\",nbins=20)"
   ]
  },
  {
   "cell_type": "code",
   "execution_count": 66,
   "metadata": {},
   "outputs": [
    {
     "data": {
      "application/vnd.plotly.v1+json": {
       "config": {
        "plotlyServerURL": "https://plot.ly"
       },
       "data": [
        {
         "alignmentgroup": "True",
         "bingroup": "x",
         "histfunc": "avg",
         "hovertemplate": "E_grade=%{x}<br>avg of n_activities=%{y}<extra></extra>",
         "legendgroup": "",
         "marker": {
          "color": "#636efa"
         },
         "name": "",
         "nbinsx": 20,
         "offsetgroup": "",
         "orientation": "v",
         "showlegend": false,
         "type": "histogram",
         "x": [
          4,
          5.666666666666667,
          5,
          5.333333333333333,
          5,
          5.166666666666667,
          5.333333333333333,
          4,
          5.666666666666667,
          5.333333333333333,
          5,
          5.5,
          5,
          4.333333333333333,
          4.5,
          5.166666666666667,
          4.666666666666667,
          5.166666666666667,
          5.333333333333333,
          4.833333333333333,
          4.166666666666667,
          4,
          4.833333333333333,
          5.5,
          5,
          4.833333333333333,
          4.5,
          4.333333333333333,
          5,
          5,
          5.833333333333333,
          5.5,
          4,
          4.25,
          4.833333333333333,
          4,
          5,
          4.5,
          5.333333333333333,
          4.833333333333333,
          4.166666666666667,
          4.5,
          4,
          4.166666666666667,
          5,
          4.166666666666667,
          5.5,
          5,
          5.666666666666667,
          5.333333333333333,
          5.166666666666667,
          3.6666666666666665,
          4.5,
          4.833333333333333,
          5.833333333333333,
          5.333333333333333,
          5.166666666666667,
          5,
          3.5,
          4.666666666666667,
          5.5,
          5.333333333333333,
          5.5,
          4.5,
          5,
          5.166666666666667,
          5.5,
          4.166666666666667,
          4,
          4.166666666666667,
          4,
          6,
          5.5,
          5.166666666666667,
          4.5,
          4.833333333333333,
          5.166666666666667,
          4.833333333333333,
          5.5,
          5.166666666666667,
          5.333333333333333,
          4.166666666666667,
          5.25,
          5.3333330000000005,
          4.1666669999999995,
          2.5,
          5,
          3.8333333333333335,
          6,
          5.166666666666667,
          5.333333333333333,
          5.166666666666667,
          4.5,
          4.666666666666667,
          5.333333333333333,
          4.833333333333333,
          4.833333333333333,
          5.5,
          5.333333333333333,
          5.333333333333333,
          5.5,
          5.333333333333333,
          5,
          3,
          5.333333333333333,
          5.333333333333333,
          3,
          5.333333333333333,
          4.833333333333333,
          4.5,
          5.166666666666667,
          4.666666666666667,
          4.666666666666667,
          4.166666666666667,
          4.833333333333333,
          5.5,
          3.5,
          3.5,
          5.166666666666667,
          4.333333333333333,
          5.333333333333333,
          5.666666666666667,
          3.8333333333333335,
          4.333333333333333,
          5,
          3,
          2,
          4.666666666666667,
          2,
          4.642857,
          5,
          4.25,
          5.5,
          4.75,
          3.8333333333333335,
          4.666666666666667,
          4.666666666666667,
          5.5,
          5,
          4.5,
          3.5,
          5.166666666666667,
          5,
          4.75,
          5.666666666666667,
          4.166666666666667,
          4,
          3,
          3.8333333333333335,
          5,
          5.333333333333333,
          5.666666666666667,
          5.5,
          5,
          4.5,
          3.5,
          5.5,
          4.833333333333333,
          4.5,
          4.833333333333333,
          0,
          5.5,
          5.333333333333333,
          5.5,
          5.166666666666667,
          5.5,
          5,
          4.833333333333333,
          4.666666666666667,
          5.666666666666667,
          5,
          4.5,
          5.5,
          2.5,
          5.666666666666667,
          5.136364,
          4.166666666666667,
          5,
          5.0625,
          5.1666669999999995,
          4.5,
          5.833333333333333,
          4.666666666666667,
          4.5,
          5,
          4.75,
          5.666666666666667,
          5.666666666666667,
          4,
          5.333333333333333,
          4.833333333333333,
          4.833333333333333,
          5,
          4.833333333333333,
          4,
          4.166666666666667,
          4.5,
          4.25,
          4.833333333333333,
          4.5,
          6,
          5.5,
          5.833333333333333,
          3.3333333333333335,
          5.166666666666667,
          5.75,
          4.75,
          4,
          4.5,
          4.833333333333333,
          5.5,
          4.5,
          4.25,
          4.5,
          5,
          4.5,
          4.1666669999999995,
          4,
          4.75,
          4.5,
          4,
          5.5,
          5.5,
          4.75,
          2.5,
          5.25,
          4.5,
          5.5,
          5.5,
          4.75,
          5.25,
          4.5,
          5.5,
          4.25,
          3.75,
          5.5,
          4.25,
          4.5,
          5.75,
          4.75,
          3.75,
          4,
          4,
          4,
          4.5,
          5.25,
          5.25,
          5.75,
          5.25,
          4.25,
          4.75,
          4.5,
          5,
          5,
          4,
          5,
          4.1666669999999995,
          5,
          4.5,
          4,
          6,
          3.5,
          3.5,
          4.25,
          4.444444,
          5,
          5,
          3.333333,
          4.75,
          5.5,
          4.5,
          5,
          5.5,
          5.5,
          5,
          4.5,
          6,
          5.5,
          5.5,
          5.5,
          5.5,
          4.5,
          4.285714,
          4,
          4.8333330000000005,
          4.5,
          4.5,
          5.5,
          6,
          5.5,
          5,
          3.5,
          5.5,
          4.5,
          5.5,
          4.5,
          5,
          4.5,
          3.5,
          4.35,
          5,
          5.5,
          5,
          3.5,
          5.5,
          6,
          5.5,
          4,
          4.5,
          4.5,
          3.5,
          4.908163,
          4,
          5,
          3.75,
          3.857143,
          5,
          5.0625,
          4.75,
          4.673913,
          4
         ],
         "xaxis": "x",
         "y": [
          29,
          124,
          109,
          119,
          97,
          48,
          88,
          26,
          204,
          203,
          100,
          173,
          94,
          175,
          43,
          88,
          215,
          53,
          133,
          103,
          98,
          81,
          65,
          145,
          102,
          52,
          28,
          183,
          171,
          34,
          72,
          199,
          124,
          38,
          230,
          14,
          11,
          113,
          158,
          175,
          54,
          16,
          88,
          85,
          80,
          95,
          88,
          70,
          82,
          209,
          66,
          44,
          67,
          93,
          100,
          108,
          145,
          138,
          21,
          143,
          122,
          86,
          30,
          117,
          142,
          113,
          132,
          71,
          24,
          66,
          18,
          15,
          132,
          108,
          23,
          75,
          98,
          130,
          80,
          111,
          116,
          63,
          57,
          90,
          107,
          16,
          76,
          35,
          13,
          142,
          110,
          96,
          108,
          107,
          98,
          97,
          23,
          26,
          129,
          128,
          80,
          123,
          85,
          13,
          166,
          121,
          12,
          149,
          208,
          44,
          216,
          130,
          43,
          123,
          93,
          89,
          4,
          9,
          126,
          78,
          91,
          134,
          84,
          77,
          109,
          2,
          3,
          94,
          4,
          70,
          118,
          189,
          118,
          100,
          79,
          95,
          91,
          2,
          7,
          106,
          21,
          189,
          154,
          153,
          144,
          118,
          15,
          4,
          78,
          131,
          128,
          153,
          107,
          113,
          168,
          5,
          74,
          107,
          46,
          100,
          0,
          99,
          89,
          66,
          82,
          128,
          87,
          144,
          91,
          145,
          87,
          44,
          128,
          0,
          179,
          19,
          33,
          9,
          83,
          157,
          94,
          77,
          68,
          103,
          159,
          44,
          169,
          301,
          14,
          214,
          96,
          59,
          13,
          89,
          2,
          53,
          9,
          27,
          56,
          73,
          105,
          92,
          121,
          42,
          125,
          82,
          14,
          21,
          11,
          29,
          66,
          80,
          36,
          34,
          45,
          42,
          54,
          88,
          26,
          32,
          35,
          23,
          13,
          30,
          2,
          109,
          13,
          32,
          46,
          31,
          52,
          27,
          20,
          115,
          83,
          114,
          42,
          70,
          65,
          27,
          15,
          15,
          44,
          18,
          36,
          52,
          46,
          35,
          36,
          21,
          80,
          47,
          85,
          75,
          14,
          11,
          6,
          20,
          62,
          67,
          72,
          27,
          6,
          42,
          38,
          29,
          95,
          54,
          40,
          80,
          22,
          8,
          15,
          41,
          27,
          20,
          21,
          26,
          14,
          44,
          14,
          13,
          28,
          11,
          23,
          27,
          9,
          39,
          53,
          59,
          11,
          21,
          16,
          23,
          14,
          17,
          10,
          18,
          5,
          21,
          8,
          33,
          18,
          0,
          55,
          92,
          6,
          14,
          7,
          33,
          16,
          90,
          6,
          9,
          12,
          19,
          18,
          19,
          16,
          24,
          3
         ],
         "yaxis": "y"
        }
       ],
       "layout": {
        "barmode": "relative",
        "legend": {
         "tracegroupgap": 0
        },
        "margin": {
         "t": 60
        },
        "template": {
         "data": {
          "bar": [
           {
            "error_x": {
             "color": "#2a3f5f"
            },
            "error_y": {
             "color": "#2a3f5f"
            },
            "marker": {
             "line": {
              "color": "#E5ECF6",
              "width": 0.5
             }
            },
            "type": "bar"
           }
          ],
          "barpolar": [
           {
            "marker": {
             "line": {
              "color": "#E5ECF6",
              "width": 0.5
             }
            },
            "type": "barpolar"
           }
          ],
          "carpet": [
           {
            "aaxis": {
             "endlinecolor": "#2a3f5f",
             "gridcolor": "white",
             "linecolor": "white",
             "minorgridcolor": "white",
             "startlinecolor": "#2a3f5f"
            },
            "baxis": {
             "endlinecolor": "#2a3f5f",
             "gridcolor": "white",
             "linecolor": "white",
             "minorgridcolor": "white",
             "startlinecolor": "#2a3f5f"
            },
            "type": "carpet"
           }
          ],
          "choropleth": [
           {
            "colorbar": {
             "outlinewidth": 0,
             "ticks": ""
            },
            "type": "choropleth"
           }
          ],
          "contour": [
           {
            "colorbar": {
             "outlinewidth": 0,
             "ticks": ""
            },
            "colorscale": [
             [
              0,
              "#0d0887"
             ],
             [
              0.1111111111111111,
              "#46039f"
             ],
             [
              0.2222222222222222,
              "#7201a8"
             ],
             [
              0.3333333333333333,
              "#9c179e"
             ],
             [
              0.4444444444444444,
              "#bd3786"
             ],
             [
              0.5555555555555556,
              "#d8576b"
             ],
             [
              0.6666666666666666,
              "#ed7953"
             ],
             [
              0.7777777777777778,
              "#fb9f3a"
             ],
             [
              0.8888888888888888,
              "#fdca26"
             ],
             [
              1,
              "#f0f921"
             ]
            ],
            "type": "contour"
           }
          ],
          "contourcarpet": [
           {
            "colorbar": {
             "outlinewidth": 0,
             "ticks": ""
            },
            "type": "contourcarpet"
           }
          ],
          "heatmap": [
           {
            "colorbar": {
             "outlinewidth": 0,
             "ticks": ""
            },
            "colorscale": [
             [
              0,
              "#0d0887"
             ],
             [
              0.1111111111111111,
              "#46039f"
             ],
             [
              0.2222222222222222,
              "#7201a8"
             ],
             [
              0.3333333333333333,
              "#9c179e"
             ],
             [
              0.4444444444444444,
              "#bd3786"
             ],
             [
              0.5555555555555556,
              "#d8576b"
             ],
             [
              0.6666666666666666,
              "#ed7953"
             ],
             [
              0.7777777777777778,
              "#fb9f3a"
             ],
             [
              0.8888888888888888,
              "#fdca26"
             ],
             [
              1,
              "#f0f921"
             ]
            ],
            "type": "heatmap"
           }
          ],
          "heatmapgl": [
           {
            "colorbar": {
             "outlinewidth": 0,
             "ticks": ""
            },
            "colorscale": [
             [
              0,
              "#0d0887"
             ],
             [
              0.1111111111111111,
              "#46039f"
             ],
             [
              0.2222222222222222,
              "#7201a8"
             ],
             [
              0.3333333333333333,
              "#9c179e"
             ],
             [
              0.4444444444444444,
              "#bd3786"
             ],
             [
              0.5555555555555556,
              "#d8576b"
             ],
             [
              0.6666666666666666,
              "#ed7953"
             ],
             [
              0.7777777777777778,
              "#fb9f3a"
             ],
             [
              0.8888888888888888,
              "#fdca26"
             ],
             [
              1,
              "#f0f921"
             ]
            ],
            "type": "heatmapgl"
           }
          ],
          "histogram": [
           {
            "marker": {
             "colorbar": {
              "outlinewidth": 0,
              "ticks": ""
             }
            },
            "type": "histogram"
           }
          ],
          "histogram2d": [
           {
            "colorbar": {
             "outlinewidth": 0,
             "ticks": ""
            },
            "colorscale": [
             [
              0,
              "#0d0887"
             ],
             [
              0.1111111111111111,
              "#46039f"
             ],
             [
              0.2222222222222222,
              "#7201a8"
             ],
             [
              0.3333333333333333,
              "#9c179e"
             ],
             [
              0.4444444444444444,
              "#bd3786"
             ],
             [
              0.5555555555555556,
              "#d8576b"
             ],
             [
              0.6666666666666666,
              "#ed7953"
             ],
             [
              0.7777777777777778,
              "#fb9f3a"
             ],
             [
              0.8888888888888888,
              "#fdca26"
             ],
             [
              1,
              "#f0f921"
             ]
            ],
            "type": "histogram2d"
           }
          ],
          "histogram2dcontour": [
           {
            "colorbar": {
             "outlinewidth": 0,
             "ticks": ""
            },
            "colorscale": [
             [
              0,
              "#0d0887"
             ],
             [
              0.1111111111111111,
              "#46039f"
             ],
             [
              0.2222222222222222,
              "#7201a8"
             ],
             [
              0.3333333333333333,
              "#9c179e"
             ],
             [
              0.4444444444444444,
              "#bd3786"
             ],
             [
              0.5555555555555556,
              "#d8576b"
             ],
             [
              0.6666666666666666,
              "#ed7953"
             ],
             [
              0.7777777777777778,
              "#fb9f3a"
             ],
             [
              0.8888888888888888,
              "#fdca26"
             ],
             [
              1,
              "#f0f921"
             ]
            ],
            "type": "histogram2dcontour"
           }
          ],
          "mesh3d": [
           {
            "colorbar": {
             "outlinewidth": 0,
             "ticks": ""
            },
            "type": "mesh3d"
           }
          ],
          "parcoords": [
           {
            "line": {
             "colorbar": {
              "outlinewidth": 0,
              "ticks": ""
             }
            },
            "type": "parcoords"
           }
          ],
          "pie": [
           {
            "automargin": true,
            "type": "pie"
           }
          ],
          "scatter": [
           {
            "marker": {
             "colorbar": {
              "outlinewidth": 0,
              "ticks": ""
             }
            },
            "type": "scatter"
           }
          ],
          "scatter3d": [
           {
            "line": {
             "colorbar": {
              "outlinewidth": 0,
              "ticks": ""
             }
            },
            "marker": {
             "colorbar": {
              "outlinewidth": 0,
              "ticks": ""
             }
            },
            "type": "scatter3d"
           }
          ],
          "scattercarpet": [
           {
            "marker": {
             "colorbar": {
              "outlinewidth": 0,
              "ticks": ""
             }
            },
            "type": "scattercarpet"
           }
          ],
          "scattergeo": [
           {
            "marker": {
             "colorbar": {
              "outlinewidth": 0,
              "ticks": ""
             }
            },
            "type": "scattergeo"
           }
          ],
          "scattergl": [
           {
            "marker": {
             "colorbar": {
              "outlinewidth": 0,
              "ticks": ""
             }
            },
            "type": "scattergl"
           }
          ],
          "scattermapbox": [
           {
            "marker": {
             "colorbar": {
              "outlinewidth": 0,
              "ticks": ""
             }
            },
            "type": "scattermapbox"
           }
          ],
          "scatterpolar": [
           {
            "marker": {
             "colorbar": {
              "outlinewidth": 0,
              "ticks": ""
             }
            },
            "type": "scatterpolar"
           }
          ],
          "scatterpolargl": [
           {
            "marker": {
             "colorbar": {
              "outlinewidth": 0,
              "ticks": ""
             }
            },
            "type": "scatterpolargl"
           }
          ],
          "scatterternary": [
           {
            "marker": {
             "colorbar": {
              "outlinewidth": 0,
              "ticks": ""
             }
            },
            "type": "scatterternary"
           }
          ],
          "surface": [
           {
            "colorbar": {
             "outlinewidth": 0,
             "ticks": ""
            },
            "colorscale": [
             [
              0,
              "#0d0887"
             ],
             [
              0.1111111111111111,
              "#46039f"
             ],
             [
              0.2222222222222222,
              "#7201a8"
             ],
             [
              0.3333333333333333,
              "#9c179e"
             ],
             [
              0.4444444444444444,
              "#bd3786"
             ],
             [
              0.5555555555555556,
              "#d8576b"
             ],
             [
              0.6666666666666666,
              "#ed7953"
             ],
             [
              0.7777777777777778,
              "#fb9f3a"
             ],
             [
              0.8888888888888888,
              "#fdca26"
             ],
             [
              1,
              "#f0f921"
             ]
            ],
            "type": "surface"
           }
          ],
          "table": [
           {
            "cells": {
             "fill": {
              "color": "#EBF0F8"
             },
             "line": {
              "color": "white"
             }
            },
            "header": {
             "fill": {
              "color": "#C8D4E3"
             },
             "line": {
              "color": "white"
             }
            },
            "type": "table"
           }
          ]
         },
         "layout": {
          "annotationdefaults": {
           "arrowcolor": "#2a3f5f",
           "arrowhead": 0,
           "arrowwidth": 1
          },
          "coloraxis": {
           "colorbar": {
            "outlinewidth": 0,
            "ticks": ""
           }
          },
          "colorscale": {
           "diverging": [
            [
             0,
             "#8e0152"
            ],
            [
             0.1,
             "#c51b7d"
            ],
            [
             0.2,
             "#de77ae"
            ],
            [
             0.3,
             "#f1b6da"
            ],
            [
             0.4,
             "#fde0ef"
            ],
            [
             0.5,
             "#f7f7f7"
            ],
            [
             0.6,
             "#e6f5d0"
            ],
            [
             0.7,
             "#b8e186"
            ],
            [
             0.8,
             "#7fbc41"
            ],
            [
             0.9,
             "#4d9221"
            ],
            [
             1,
             "#276419"
            ]
           ],
           "sequential": [
            [
             0,
             "#0d0887"
            ],
            [
             0.1111111111111111,
             "#46039f"
            ],
            [
             0.2222222222222222,
             "#7201a8"
            ],
            [
             0.3333333333333333,
             "#9c179e"
            ],
            [
             0.4444444444444444,
             "#bd3786"
            ],
            [
             0.5555555555555556,
             "#d8576b"
            ],
            [
             0.6666666666666666,
             "#ed7953"
            ],
            [
             0.7777777777777778,
             "#fb9f3a"
            ],
            [
             0.8888888888888888,
             "#fdca26"
            ],
            [
             1,
             "#f0f921"
            ]
           ],
           "sequentialminus": [
            [
             0,
             "#0d0887"
            ],
            [
             0.1111111111111111,
             "#46039f"
            ],
            [
             0.2222222222222222,
             "#7201a8"
            ],
            [
             0.3333333333333333,
             "#9c179e"
            ],
            [
             0.4444444444444444,
             "#bd3786"
            ],
            [
             0.5555555555555556,
             "#d8576b"
            ],
            [
             0.6666666666666666,
             "#ed7953"
            ],
            [
             0.7777777777777778,
             "#fb9f3a"
            ],
            [
             0.8888888888888888,
             "#fdca26"
            ],
            [
             1,
             "#f0f921"
            ]
           ]
          },
          "colorway": [
           "#636efa",
           "#EF553B",
           "#00cc96",
           "#ab63fa",
           "#FFA15A",
           "#19d3f3",
           "#FF6692",
           "#B6E880",
           "#FF97FF",
           "#FECB52"
          ],
          "font": {
           "color": "#2a3f5f"
          },
          "geo": {
           "bgcolor": "white",
           "lakecolor": "white",
           "landcolor": "#E5ECF6",
           "showlakes": true,
           "showland": true,
           "subunitcolor": "white"
          },
          "hoverlabel": {
           "align": "left"
          },
          "hovermode": "closest",
          "mapbox": {
           "style": "light"
          },
          "paper_bgcolor": "white",
          "plot_bgcolor": "#E5ECF6",
          "polar": {
           "angularaxis": {
            "gridcolor": "white",
            "linecolor": "white",
            "ticks": ""
           },
           "bgcolor": "#E5ECF6",
           "radialaxis": {
            "gridcolor": "white",
            "linecolor": "white",
            "ticks": ""
           }
          },
          "scene": {
           "xaxis": {
            "backgroundcolor": "#E5ECF6",
            "gridcolor": "white",
            "gridwidth": 2,
            "linecolor": "white",
            "showbackground": true,
            "ticks": "",
            "zerolinecolor": "white"
           },
           "yaxis": {
            "backgroundcolor": "#E5ECF6",
            "gridcolor": "white",
            "gridwidth": 2,
            "linecolor": "white",
            "showbackground": true,
            "ticks": "",
            "zerolinecolor": "white"
           },
           "zaxis": {
            "backgroundcolor": "#E5ECF6",
            "gridcolor": "white",
            "gridwidth": 2,
            "linecolor": "white",
            "showbackground": true,
            "ticks": "",
            "zerolinecolor": "white"
           }
          },
          "shapedefaults": {
           "line": {
            "color": "#2a3f5f"
           }
          },
          "ternary": {
           "aaxis": {
            "gridcolor": "white",
            "linecolor": "white",
            "ticks": ""
           },
           "baxis": {
            "gridcolor": "white",
            "linecolor": "white",
            "ticks": ""
           },
           "bgcolor": "#E5ECF6",
           "caxis": {
            "gridcolor": "white",
            "linecolor": "white",
            "ticks": ""
           }
          },
          "title": {
           "x": 0.05
          },
          "xaxis": {
           "automargin": true,
           "gridcolor": "white",
           "linecolor": "white",
           "ticks": "",
           "title": {
            "standoff": 15
           },
           "zerolinecolor": "white",
           "zerolinewidth": 2
          },
          "yaxis": {
           "automargin": true,
           "gridcolor": "white",
           "linecolor": "white",
           "ticks": "",
           "title": {
            "standoff": 15
           },
           "zerolinecolor": "white",
           "zerolinewidth": 2
          }
         }
        },
        "xaxis": {
         "anchor": "y",
         "domain": [
          0,
          1
         ],
         "title": {
          "text": "E_grade"
         }
        },
        "yaxis": {
         "anchor": "x",
         "domain": [
          0,
          1
         ],
         "title": {
          "text": "avg of n_activities"
         }
        }
       }
      },
      "text/html": [
       "<div>\n",
       "        \n",
       "        \n",
       "            <div id=\"50519e90-d591-4050-9f55-37ffb919a8ac\" class=\"plotly-graph-div\" style=\"height:525px; width:100%;\"></div>\n",
       "            <script type=\"text/javascript\">\n",
       "                require([\"plotly\"], function(Plotly) {\n",
       "                    window.PLOTLYENV=window.PLOTLYENV || {};\n",
       "                    \n",
       "                if (document.getElementById(\"50519e90-d591-4050-9f55-37ffb919a8ac\")) {\n",
       "                    Plotly.newPlot(\n",
       "                        '50519e90-d591-4050-9f55-37ffb919a8ac',\n",
       "                        [{\"alignmentgroup\": \"True\", \"bingroup\": \"x\", \"histfunc\": \"avg\", \"hovertemplate\": \"E_grade=%{x}<br>avg of n_activities=%{y}<extra></extra>\", \"legendgroup\": \"\", \"marker\": {\"color\": \"#636efa\"}, \"name\": \"\", \"nbinsx\": 20, \"offsetgroup\": \"\", \"orientation\": \"v\", \"showlegend\": false, \"type\": \"histogram\", \"x\": [4.0, 5.666666666666667, 5.0, 5.333333333333333, 5.0, 5.166666666666667, 5.333333333333333, 4.0, 5.666666666666667, 5.333333333333333, 5.0, 5.5, 5.0, 4.333333333333333, 4.5, 5.166666666666667, 4.666666666666667, 5.166666666666667, 5.333333333333333, 4.833333333333333, 4.166666666666667, 4.0, 4.833333333333333, 5.5, 5.0, 4.833333333333333, 4.5, 4.333333333333333, 5.0, 5.0, 5.833333333333333, 5.5, 4.0, 4.25, 4.833333333333333, 4.0, 5.0, 4.5, 5.333333333333333, 4.833333333333333, 4.166666666666667, 4.5, 4.0, 4.166666666666667, 5.0, 4.166666666666667, 5.5, 5.0, 5.666666666666667, 5.333333333333333, 5.166666666666667, 3.6666666666666665, 4.5, 4.833333333333333, 5.833333333333333, 5.333333333333333, 5.166666666666667, 5.0, 3.5, 4.666666666666667, 5.5, 5.333333333333333, 5.5, 4.5, 5.0, 5.166666666666667, 5.5, 4.166666666666667, 4.0, 4.166666666666667, 4.0, 6.0, 5.5, 5.166666666666667, 4.5, 4.833333333333333, 5.166666666666667, 4.833333333333333, 5.5, 5.166666666666667, 5.333333333333333, 4.166666666666667, 5.25, 5.3333330000000005, 4.1666669999999995, 2.5, 5.0, 3.8333333333333335, 6.0, 5.166666666666667, 5.333333333333333, 5.166666666666667, 4.5, 4.666666666666667, 5.333333333333333, 4.833333333333333, 4.833333333333333, 5.5, 5.333333333333333, 5.333333333333333, 5.5, 5.333333333333333, 5.0, 3.0, 5.333333333333333, 5.333333333333333, 3.0, 5.333333333333333, 4.833333333333333, 4.5, 5.166666666666667, 4.666666666666667, 4.666666666666667, 4.166666666666667, 4.833333333333333, 5.5, 3.5, 3.5, 5.166666666666667, 4.333333333333333, 5.333333333333333, 5.666666666666667, 3.8333333333333335, 4.333333333333333, 5.0, 3.0, 2.0, 4.666666666666667, 2.0, 4.642857, 5.0, 4.25, 5.5, 4.75, 3.8333333333333335, 4.666666666666667, 4.666666666666667, 5.5, 5.0, 4.5, 3.5, 5.166666666666667, 5.0, 4.75, 5.666666666666667, 4.166666666666667, 4.0, 3.0, 3.8333333333333335, 5.0, 5.333333333333333, 5.666666666666667, 5.5, 5.0, 4.5, 3.5, 5.5, 4.833333333333333, 4.5, 4.833333333333333, 0.0, 5.5, 5.333333333333333, 5.5, 5.166666666666667, 5.5, 5.0, 4.833333333333333, 4.666666666666667, 5.666666666666667, 5.0, 4.5, 5.5, 2.5, 5.666666666666667, 5.136364, 4.166666666666667, 5.0, 5.0625, 5.1666669999999995, 4.5, 5.833333333333333, 4.666666666666667, 4.5, 5.0, 4.75, 5.666666666666667, 5.666666666666667, 4.0, 5.333333333333333, 4.833333333333333, 4.833333333333333, 5.0, 4.833333333333333, 4.0, 4.166666666666667, 4.5, 4.25, 4.833333333333333, 4.5, 6.0, 5.5, 5.833333333333333, 3.3333333333333335, 5.166666666666667, 5.75, 4.75, 4.0, 4.5, 4.833333333333333, 5.5, 4.5, 4.25, 4.5, 5.0, 4.5, 4.1666669999999995, 4.0, 4.75, 4.5, 4.0, 5.5, 5.5, 4.75, 2.5, 5.25, 4.5, 5.5, 5.5, 4.75, 5.25, 4.5, 5.5, 4.25, 3.75, 5.5, 4.25, 4.5, 5.75, 4.75, 3.75, 4.0, 4.0, 4.0, 4.5, 5.25, 5.25, 5.75, 5.25, 4.25, 4.75, 4.5, 5.0, 5.0, 4.0, 5.0, 4.1666669999999995, 5.0, 4.5, 4.0, 6.0, 3.5, 3.5, 4.25, 4.444444, 5.0, 5.0, 3.333333, 4.75, 5.5, 4.5, 5.0, 5.5, 5.5, 5.0, 4.5, 6.0, 5.5, 5.5, 5.5, 5.5, 4.5, 4.285714, 4.0, 4.8333330000000005, 4.5, 4.5, 5.5, 6.0, 5.5, 5.0, 3.5, 5.5, 4.5, 5.5, 4.5, 5.0, 4.5, 3.5, 4.35, 5.0, 5.5, 5.0, 3.5, 5.5, 6.0, 5.5, 4.0, 4.5, 4.5, 3.5, 4.908163, 4.0, 5.0, 3.75, 3.857143, 5.0, 5.0625, 4.75, 4.673913, 4.0], \"xaxis\": \"x\", \"y\": [29.0, 124.0, 109.0, 119.0, 97.0, 48.0, 88.0, 26.0, 204.0, 203.0, 100.0, 173.0, 94.0, 175.0, 43.0, 88.0, 215.0, 53.0, 133.0, 103.0, 98.0, 81.0, 65.0, 145.0, 102.0, 52.0, 28.0, 183.0, 171.0, 34.0, 72.0, 199.0, 124.0, 38.0, 230.0, 14.0, 11.0, 113.0, 158.0, 175.0, 54.0, 16.0, 88.0, 85.0, 80.0, 95.0, 88.0, 70.0, 82.0, 209.0, 66.0, 44.0, 67.0, 93.0, 100.0, 108.0, 145.0, 138.0, 21.0, 143.0, 122.0, 86.0, 30.0, 117.0, 142.0, 113.0, 132.0, 71.0, 24.0, 66.0, 18.0, 15.0, 132.0, 108.0, 23.0, 75.0, 98.0, 130.0, 80.0, 111.0, 116.0, 63.0, 57.0, 90.0, 107.0, 16.0, 76.0, 35.0, 13.0, 142.0, 110.0, 96.0, 108.0, 107.0, 98.0, 97.0, 23.0, 26.0, 129.0, 128.0, 80.0, 123.0, 85.0, 13.0, 166.0, 121.0, 12.0, 149.0, 208.0, 44.0, 216.0, 130.0, 43.0, 123.0, 93.0, 89.0, 4.0, 9.0, 126.0, 78.0, 91.0, 134.0, 84.0, 77.0, 109.0, 2.0, 3.0, 94.0, 4.0, 70.0, 118.0, 189.0, 118.0, 100.0, 79.0, 95.0, 91.0, 2.0, 7.0, 106.0, 21.0, 189.0, 154.0, 153.0, 144.0, 118.0, 15.0, 4.0, 78.0, 131.0, 128.0, 153.0, 107.0, 113.0, 168.0, 5.0, 74.0, 107.0, 46.0, 100.0, 0.0, 99.0, 89.0, 66.0, 82.0, 128.0, 87.0, 144.0, 91.0, 145.0, 87.0, 44.0, 128.0, 0.0, 179.0, 19.0, 33.0, 9.0, 83.0, 157.0, 94.0, 77.0, 68.0, 103.0, 159.0, 44.0, 169.0, 301.0, 14.0, 214.0, 96.0, 59.0, 13.0, 89.0, 2.0, 53.0, 9.0, 27.0, 56.0, 73.0, 105.0, 92.0, 121.0, 42.0, 125.0, 82.0, 14.0, 21.0, 11.0, 29.0, 66.0, 80.0, 36.0, 34.0, 45.0, 42.0, 54.0, 88.0, 26.0, 32.0, 35.0, 23.0, 13.0, 30.0, 2.0, 109.0, 13.0, 32.0, 46.0, 31.0, 52.0, 27.0, 20.0, 115.0, 83.0, 114.0, 42.0, 70.0, 65.0, 27.0, 15.0, 15.0, 44.0, 18.0, 36.0, 52.0, 46.0, 35.0, 36.0, 21.0, 80.0, 47.0, 85.0, 75.0, 14.0, 11.0, 6.0, 20.0, 62.0, 67.0, 72.0, 27.0, 6.0, 42.0, 38.0, 29.0, 95.0, 54.0, 40.0, 80.0, 22.0, 8.0, 15.0, 41.0, 27.0, 20.0, 21.0, 26.0, 14.0, 44.0, 14.0, 13.0, 28.0, 11.0, 23.0, 27.0, 9.0, 39.0, 53.0, 59.0, 11.0, 21.0, 16.0, 23.0, 14.0, 17.0, 10.0, 18.0, 5.0, 21.0, 8.0, 33.0, 18.0, 0.0, 55.0, 92.0, 6.0, 14.0, 7.0, 33.0, 16.0, 90.0, 6.0, 9.0, 12.0, 19.0, 18.0, 19.0, 16.0, 24.0, 3.0], \"yaxis\": \"y\"}],\n",
       "                        {\"barmode\": \"relative\", \"legend\": {\"tracegroupgap\": 0}, \"margin\": {\"t\": 60}, \"template\": {\"data\": {\"bar\": [{\"error_x\": {\"color\": \"#2a3f5f\"}, \"error_y\": {\"color\": \"#2a3f5f\"}, \"marker\": {\"line\": {\"color\": \"#E5ECF6\", \"width\": 0.5}}, \"type\": \"bar\"}], \"barpolar\": [{\"marker\": {\"line\": {\"color\": \"#E5ECF6\", \"width\": 0.5}}, \"type\": \"barpolar\"}], \"carpet\": [{\"aaxis\": {\"endlinecolor\": \"#2a3f5f\", \"gridcolor\": \"white\", \"linecolor\": \"white\", \"minorgridcolor\": \"white\", \"startlinecolor\": \"#2a3f5f\"}, \"baxis\": {\"endlinecolor\": \"#2a3f5f\", \"gridcolor\": \"white\", \"linecolor\": \"white\", \"minorgridcolor\": \"white\", \"startlinecolor\": \"#2a3f5f\"}, \"type\": \"carpet\"}], \"choropleth\": [{\"colorbar\": {\"outlinewidth\": 0, \"ticks\": \"\"}, \"type\": \"choropleth\"}], \"contour\": [{\"colorbar\": {\"outlinewidth\": 0, \"ticks\": \"\"}, \"colorscale\": [[0.0, \"#0d0887\"], [0.1111111111111111, \"#46039f\"], [0.2222222222222222, \"#7201a8\"], [0.3333333333333333, \"#9c179e\"], [0.4444444444444444, \"#bd3786\"], [0.5555555555555556, \"#d8576b\"], [0.6666666666666666, \"#ed7953\"], [0.7777777777777778, \"#fb9f3a\"], [0.8888888888888888, \"#fdca26\"], [1.0, \"#f0f921\"]], \"type\": \"contour\"}], \"contourcarpet\": [{\"colorbar\": {\"outlinewidth\": 0, \"ticks\": \"\"}, \"type\": \"contourcarpet\"}], \"heatmap\": [{\"colorbar\": {\"outlinewidth\": 0, \"ticks\": \"\"}, \"colorscale\": [[0.0, \"#0d0887\"], [0.1111111111111111, \"#46039f\"], [0.2222222222222222, \"#7201a8\"], [0.3333333333333333, \"#9c179e\"], [0.4444444444444444, \"#bd3786\"], [0.5555555555555556, \"#d8576b\"], [0.6666666666666666, \"#ed7953\"], [0.7777777777777778, \"#fb9f3a\"], [0.8888888888888888, \"#fdca26\"], [1.0, \"#f0f921\"]], \"type\": \"heatmap\"}], \"heatmapgl\": [{\"colorbar\": {\"outlinewidth\": 0, \"ticks\": \"\"}, \"colorscale\": [[0.0, \"#0d0887\"], [0.1111111111111111, \"#46039f\"], [0.2222222222222222, \"#7201a8\"], [0.3333333333333333, \"#9c179e\"], [0.4444444444444444, \"#bd3786\"], [0.5555555555555556, \"#d8576b\"], [0.6666666666666666, \"#ed7953\"], [0.7777777777777778, \"#fb9f3a\"], [0.8888888888888888, \"#fdca26\"], [1.0, \"#f0f921\"]], \"type\": \"heatmapgl\"}], \"histogram\": [{\"marker\": {\"colorbar\": {\"outlinewidth\": 0, \"ticks\": \"\"}}, \"type\": \"histogram\"}], \"histogram2d\": [{\"colorbar\": {\"outlinewidth\": 0, \"ticks\": \"\"}, \"colorscale\": [[0.0, \"#0d0887\"], [0.1111111111111111, \"#46039f\"], [0.2222222222222222, \"#7201a8\"], [0.3333333333333333, \"#9c179e\"], [0.4444444444444444, \"#bd3786\"], [0.5555555555555556, \"#d8576b\"], [0.6666666666666666, \"#ed7953\"], [0.7777777777777778, \"#fb9f3a\"], [0.8888888888888888, \"#fdca26\"], [1.0, \"#f0f921\"]], \"type\": \"histogram2d\"}], \"histogram2dcontour\": [{\"colorbar\": {\"outlinewidth\": 0, \"ticks\": \"\"}, \"colorscale\": [[0.0, \"#0d0887\"], [0.1111111111111111, \"#46039f\"], [0.2222222222222222, \"#7201a8\"], [0.3333333333333333, \"#9c179e\"], [0.4444444444444444, \"#bd3786\"], [0.5555555555555556, \"#d8576b\"], [0.6666666666666666, \"#ed7953\"], [0.7777777777777778, \"#fb9f3a\"], [0.8888888888888888, \"#fdca26\"], [1.0, \"#f0f921\"]], \"type\": \"histogram2dcontour\"}], \"mesh3d\": [{\"colorbar\": {\"outlinewidth\": 0, \"ticks\": \"\"}, \"type\": \"mesh3d\"}], \"parcoords\": [{\"line\": {\"colorbar\": {\"outlinewidth\": 0, \"ticks\": \"\"}}, \"type\": \"parcoords\"}], \"pie\": [{\"automargin\": true, \"type\": \"pie\"}], \"scatter\": [{\"marker\": {\"colorbar\": {\"outlinewidth\": 0, \"ticks\": \"\"}}, \"type\": \"scatter\"}], \"scatter3d\": [{\"line\": {\"colorbar\": {\"outlinewidth\": 0, \"ticks\": \"\"}}, \"marker\": {\"colorbar\": {\"outlinewidth\": 0, \"ticks\": \"\"}}, \"type\": \"scatter3d\"}], \"scattercarpet\": [{\"marker\": {\"colorbar\": {\"outlinewidth\": 0, \"ticks\": \"\"}}, \"type\": \"scattercarpet\"}], \"scattergeo\": [{\"marker\": {\"colorbar\": {\"outlinewidth\": 0, \"ticks\": \"\"}}, \"type\": \"scattergeo\"}], \"scattergl\": [{\"marker\": {\"colorbar\": {\"outlinewidth\": 0, \"ticks\": \"\"}}, \"type\": \"scattergl\"}], \"scattermapbox\": [{\"marker\": {\"colorbar\": {\"outlinewidth\": 0, \"ticks\": \"\"}}, \"type\": \"scattermapbox\"}], \"scatterpolar\": [{\"marker\": {\"colorbar\": {\"outlinewidth\": 0, \"ticks\": \"\"}}, \"type\": \"scatterpolar\"}], \"scatterpolargl\": [{\"marker\": {\"colorbar\": {\"outlinewidth\": 0, \"ticks\": \"\"}}, \"type\": \"scatterpolargl\"}], \"scatterternary\": [{\"marker\": {\"colorbar\": {\"outlinewidth\": 0, \"ticks\": \"\"}}, \"type\": \"scatterternary\"}], \"surface\": [{\"colorbar\": {\"outlinewidth\": 0, \"ticks\": \"\"}, \"colorscale\": [[0.0, \"#0d0887\"], [0.1111111111111111, \"#46039f\"], [0.2222222222222222, \"#7201a8\"], [0.3333333333333333, \"#9c179e\"], [0.4444444444444444, \"#bd3786\"], [0.5555555555555556, \"#d8576b\"], [0.6666666666666666, \"#ed7953\"], [0.7777777777777778, \"#fb9f3a\"], [0.8888888888888888, \"#fdca26\"], [1.0, \"#f0f921\"]], \"type\": \"surface\"}], \"table\": [{\"cells\": {\"fill\": {\"color\": \"#EBF0F8\"}, \"line\": {\"color\": \"white\"}}, \"header\": {\"fill\": {\"color\": \"#C8D4E3\"}, \"line\": {\"color\": \"white\"}}, \"type\": \"table\"}]}, \"layout\": {\"annotationdefaults\": {\"arrowcolor\": \"#2a3f5f\", \"arrowhead\": 0, \"arrowwidth\": 1}, \"coloraxis\": {\"colorbar\": {\"outlinewidth\": 0, \"ticks\": \"\"}}, \"colorscale\": {\"diverging\": [[0, \"#8e0152\"], [0.1, \"#c51b7d\"], [0.2, \"#de77ae\"], [0.3, \"#f1b6da\"], [0.4, \"#fde0ef\"], [0.5, \"#f7f7f7\"], [0.6, \"#e6f5d0\"], [0.7, \"#b8e186\"], [0.8, \"#7fbc41\"], [0.9, \"#4d9221\"], [1, \"#276419\"]], \"sequential\": [[0.0, \"#0d0887\"], [0.1111111111111111, \"#46039f\"], [0.2222222222222222, \"#7201a8\"], [0.3333333333333333, \"#9c179e\"], [0.4444444444444444, \"#bd3786\"], [0.5555555555555556, \"#d8576b\"], [0.6666666666666666, \"#ed7953\"], [0.7777777777777778, \"#fb9f3a\"], [0.8888888888888888, \"#fdca26\"], [1.0, \"#f0f921\"]], \"sequentialminus\": [[0.0, \"#0d0887\"], [0.1111111111111111, \"#46039f\"], [0.2222222222222222, \"#7201a8\"], [0.3333333333333333, \"#9c179e\"], [0.4444444444444444, \"#bd3786\"], [0.5555555555555556, \"#d8576b\"], [0.6666666666666666, \"#ed7953\"], [0.7777777777777778, \"#fb9f3a\"], [0.8888888888888888, \"#fdca26\"], [1.0, \"#f0f921\"]]}, \"colorway\": [\"#636efa\", \"#EF553B\", \"#00cc96\", \"#ab63fa\", \"#FFA15A\", \"#19d3f3\", \"#FF6692\", \"#B6E880\", \"#FF97FF\", \"#FECB52\"], \"font\": {\"color\": \"#2a3f5f\"}, \"geo\": {\"bgcolor\": \"white\", \"lakecolor\": \"white\", \"landcolor\": \"#E5ECF6\", \"showlakes\": true, \"showland\": true, \"subunitcolor\": \"white\"}, \"hoverlabel\": {\"align\": \"left\"}, \"hovermode\": \"closest\", \"mapbox\": {\"style\": \"light\"}, \"paper_bgcolor\": \"white\", \"plot_bgcolor\": \"#E5ECF6\", \"polar\": {\"angularaxis\": {\"gridcolor\": \"white\", \"linecolor\": \"white\", \"ticks\": \"\"}, \"bgcolor\": \"#E5ECF6\", \"radialaxis\": {\"gridcolor\": \"white\", \"linecolor\": \"white\", \"ticks\": \"\"}}, \"scene\": {\"xaxis\": {\"backgroundcolor\": \"#E5ECF6\", \"gridcolor\": \"white\", \"gridwidth\": 2, \"linecolor\": \"white\", \"showbackground\": true, \"ticks\": \"\", \"zerolinecolor\": \"white\"}, \"yaxis\": {\"backgroundcolor\": \"#E5ECF6\", \"gridcolor\": \"white\", \"gridwidth\": 2, \"linecolor\": \"white\", \"showbackground\": true, \"ticks\": \"\", \"zerolinecolor\": \"white\"}, \"zaxis\": {\"backgroundcolor\": \"#E5ECF6\", \"gridcolor\": \"white\", \"gridwidth\": 2, \"linecolor\": \"white\", \"showbackground\": true, \"ticks\": \"\", \"zerolinecolor\": \"white\"}}, \"shapedefaults\": {\"line\": {\"color\": \"#2a3f5f\"}}, \"ternary\": {\"aaxis\": {\"gridcolor\": \"white\", \"linecolor\": \"white\", \"ticks\": \"\"}, \"baxis\": {\"gridcolor\": \"white\", \"linecolor\": \"white\", \"ticks\": \"\"}, \"bgcolor\": \"#E5ECF6\", \"caxis\": {\"gridcolor\": \"white\", \"linecolor\": \"white\", \"ticks\": \"\"}}, \"title\": {\"x\": 0.05}, \"xaxis\": {\"automargin\": true, \"gridcolor\": \"white\", \"linecolor\": \"white\", \"ticks\": \"\", \"title\": {\"standoff\": 15}, \"zerolinecolor\": \"white\", \"zerolinewidth\": 2}, \"yaxis\": {\"automargin\": true, \"gridcolor\": \"white\", \"linecolor\": \"white\", \"ticks\": \"\", \"title\": {\"standoff\": 15}, \"zerolinecolor\": \"white\", \"zerolinewidth\": 2}}}, \"xaxis\": {\"anchor\": \"y\", \"domain\": [0.0, 1.0], \"title\": {\"text\": \"E_grade\"}}, \"yaxis\": {\"anchor\": \"x\", \"domain\": [0.0, 1.0], \"title\": {\"text\": \"avg of n_activities\"}}},\n",
       "                        {\"responsive\": true}\n",
       "                    ).then(function(){\n",
       "                            \n",
       "var gd = document.getElementById('50519e90-d591-4050-9f55-37ffb919a8ac');\n",
       "var x = new MutationObserver(function (mutations, observer) {{\n",
       "        var display = window.getComputedStyle(gd).display;\n",
       "        if (!display || display === 'none') {{\n",
       "            console.log([gd, 'removed!']);\n",
       "            Plotly.purge(gd);\n",
       "            observer.disconnect();\n",
       "        }}\n",
       "}});\n",
       "\n",
       "// Listen for the removal of the full notebook cells\n",
       "var notebookContainer = gd.closest('#notebook-container');\n",
       "if (notebookContainer) {{\n",
       "    x.observe(notebookContainer, {childList: true});\n",
       "}}\n",
       "\n",
       "// Listen for the clearing of the current output cell\n",
       "var outputEl = gd.closest('.output');\n",
       "if (outputEl) {{\n",
       "    x.observe(outputEl, {childList: true});\n",
       "}}\n",
       "\n",
       "                        })\n",
       "                };\n",
       "                });\n",
       "            </script>\n",
       "        </div>"
      ]
     },
     "metadata": {},
     "output_type": "display_data"
    }
   ],
   "source": [
    "students.plot.hist(x=\"E_grade\",y=\"n_activities\", histfunc=\"avg\",nbins=20)"
   ]
  },
  {
   "cell_type": "code",
   "execution_count": 34,
   "metadata": {},
   "outputs": [
    {
     "data": {
      "application/vnd.plotly.v1+json": {
       "config": {
        "plotlyServerURL": "https://plot.ly"
       },
       "data": [
        {
         "hovertemplate": "n_feedback_requests=%{x}<br>E_grade=%{marker.color}<extra></extra>",
         "legendgroup": "",
         "marker": {
          "color": [
           4,
           5.666666666666667,
           5,
           5.333333333333333,
           5,
           5.166666666666667,
           5.333333333333333,
           4,
           5.666666666666667,
           5.333333333333333,
           5,
           5.5,
           5,
           4.333333333333333,
           4.5,
           5.166666666666667,
           4.666666666666667,
           5.166666666666667,
           5.333333333333333,
           4.833333333333333,
           4.166666666666667,
           4,
           4.833333333333333,
           5.5,
           5,
           4.833333333333333,
           4.5,
           4.333333333333333,
           5,
           5,
           5.833333333333333,
           5.5,
           4,
           4.25,
           4.833333333333333,
           4,
           5,
           4.5,
           5.333333333333333,
           4.833333333333333,
           4.166666666666667,
           4.5,
           4,
           4.166666666666667,
           5,
           4.166666666666667,
           5.5,
           5,
           5.666666666666667,
           5.333333333333333,
           5.166666666666667,
           3.6666666666666665,
           4.5,
           4.833333333333333,
           5.833333333333333,
           5.333333333333333,
           5.166666666666667,
           5,
           3.5,
           4.666666666666667,
           5.5,
           5.333333333333333,
           5.5,
           4.5,
           5,
           5.166666666666667,
           5.5,
           4.166666666666667,
           4,
           4.166666666666667,
           4,
           6,
           5.5,
           5.166666666666667,
           4.5,
           4.833333333333333,
           5.166666666666667,
           4.833333333333333,
           5.5,
           5.166666666666667,
           5.333333333333333,
           4.166666666666667,
           5.25,
           5.3333330000000005,
           4.1666669999999995,
           2.5,
           5,
           3.8333333333333335,
           6,
           5.166666666666667,
           5.333333333333333,
           5.166666666666667,
           4.5,
           4.666666666666667,
           5.333333333333333,
           4.833333333333333,
           4.833333333333333,
           5.5,
           5.333333333333333,
           5.333333333333333,
           5.5,
           5.333333333333333,
           5,
           3,
           5.333333333333333,
           5.333333333333333,
           3,
           5.333333333333333,
           4.833333333333333,
           4.5,
           5.166666666666667,
           4.666666666666667,
           4.666666666666667,
           4.166666666666667,
           4.833333333333333,
           5.5,
           3.5,
           3.5,
           5.166666666666667,
           4.333333333333333,
           5.333333333333333,
           5.666666666666667,
           3.8333333333333335,
           4.333333333333333,
           5,
           3,
           2,
           4.666666666666667,
           2,
           4.642857,
           5,
           4.25,
           5.5,
           4.75,
           3.8333333333333335,
           4.666666666666667,
           4.666666666666667,
           5.5,
           5,
           4.5,
           3.5,
           5.166666666666667,
           5,
           4.75,
           5.666666666666667,
           4.166666666666667,
           4,
           3,
           3.8333333333333335,
           5,
           5.333333333333333,
           5.666666666666667,
           5.5,
           5,
           4.5,
           3.5,
           5.5,
           4.833333333333333,
           4.5,
           4.833333333333333,
           0,
           5.5,
           5.333333333333333,
           5.5,
           5.166666666666667,
           5.5,
           5,
           4.833333333333333,
           4.666666666666667,
           5.666666666666667,
           5,
           4.5,
           5.5,
           2.5,
           5.666666666666667,
           5.136364,
           4.166666666666667,
           5,
           5.0625,
           5.1666669999999995,
           4.5,
           5.833333333333333,
           4.666666666666667,
           4.5,
           5,
           4.75,
           5.666666666666667,
           5.666666666666667,
           4,
           5.333333333333333,
           4.833333333333333,
           4.833333333333333,
           5,
           4.833333333333333,
           4,
           4.166666666666667,
           4.5,
           4.25,
           4.833333333333333,
           4.5,
           6,
           5.5,
           5.833333333333333,
           3.3333333333333335,
           5.166666666666667,
           5.75,
           4.75,
           4,
           4.5,
           4.833333333333333,
           5.5,
           4.5,
           4.25,
           4.5,
           5,
           4.5,
           4.1666669999999995,
           4,
           4.75,
           4.5,
           4,
           5.5,
           5.5,
           4.75,
           2.5,
           5.25,
           4.5,
           5.5,
           5.5,
           4.75,
           5.25,
           4.5,
           5.5,
           4.25,
           3.75,
           5.5,
           4.25,
           4.5,
           5.75,
           4.75,
           3.75,
           4,
           4,
           4,
           4.5,
           5.25,
           5.25,
           5.75,
           5.25,
           4.25,
           4.75,
           4.5,
           5,
           5,
           4,
           5,
           4.1666669999999995,
           5,
           4.5,
           4,
           6,
           3.5,
           3.5,
           4.25,
           4.444444,
           5,
           5,
           3.333333,
           4.75,
           5.5,
           4.5,
           5,
           5.5,
           5.5,
           5,
           4.5,
           6,
           5.5,
           5.5,
           5.5,
           5.5,
           4.5,
           4.285714,
           4,
           4.8333330000000005,
           4.5,
           4.5,
           5.5,
           6,
           5.5,
           5,
           3.5,
           5.5,
           4.5,
           5.5,
           4.5,
           5,
           4.5,
           3.5,
           4.35,
           5,
           5.5,
           5,
           3.5,
           5.5,
           6,
           5.5,
           4,
           4.5,
           4.5,
           3.5,
           4.908163,
           4,
           5,
           3.75,
           3.857143,
           5,
           5.0625,
           4.75,
           4.673913,
           4
          ],
          "coloraxis": "coloraxis",
          "symbol": "circle"
         },
         "mode": "markers",
         "name": "",
         "orientation": "v",
         "showlegend": false,
         "type": "scatter",
         "x": [
          0,
          0,
          22,
          57,
          66,
          19,
          2,
          0,
          158,
          1,
          18,
          44,
          0,
          166,
          40,
          95,
          225,
          8,
          1,
          45,
          1,
          1,
          2,
          3,
          3,
          13,
          0,
          1,
          8,
          8,
          5,
          0,
          9,
          0,
          5,
          0,
          0,
          11,
          19,
          11,
          0,
          0,
          1,
          0,
          60,
          20,
          11,
          33,
          57,
          176,
          69,
          17,
          0,
          116,
          33,
          10,
          49,
          30,
          0,
          2,
          24,
          0,
          11,
          0,
          0,
          32,
          88,
          1,
          0,
          0,
          0,
          0,
          43,
          4,
          0,
          5,
          3,
          32,
          9,
          5,
          0,
          5,
          7,
          1,
          25,
          12,
          4,
          0,
          0,
          43,
          13,
          9,
          1,
          43,
          5,
          9,
          16,
          4,
          113,
          22,
          3,
          13,
          50,
          0,
          1,
          9,
          0,
          3,
          42,
          0,
          15,
          32,
          0,
          8,
          53,
          55,
          0,
          0,
          10,
          0,
          1,
          20,
          0,
          0,
          0,
          0,
          0,
          0,
          0,
          1,
          2,
          34,
          5,
          0,
          0,
          0,
          11,
          0,
          0,
          0,
          4,
          0,
          9,
          1,
          0,
          29,
          0,
          0,
          50,
          6,
          138,
          0,
          56,
          0,
          0,
          0,
          0,
          0,
          2,
          13,
          0,
          17,
          0,
          2,
          19,
          2,
          1,
          28,
          8,
          4,
          41,
          0,
          0,
          0,
          1,
          13,
          3,
          1,
          10,
          5,
          95,
          6,
          28,
          0,
          10,
          1,
          5,
          167,
          1,
          0,
          32,
          0,
          10,
          4,
          0,
          0,
          0,
          0,
          10,
          72,
          0,
          7,
          0,
          2,
          0,
          0,
          0,
          8,
          0,
          0,
          0,
          0,
          3,
          0,
          0,
          1,
          15,
          0,
          14,
          15,
          1,
          4,
          0,
          0,
          0,
          48,
          0,
          0,
          13,
          21,
          57,
          21,
          0,
          0,
          13,
          50,
          0,
          4,
          1,
          10,
          4,
          13,
          1,
          0,
          83,
          51,
          1,
          0,
          0,
          0,
          74,
          40,
          61,
          3,
          2,
          5,
          10,
          2,
          18,
          0,
          9,
          15,
          0,
          9,
          23,
          1,
          1,
          13,
          0,
          3,
          0,
          19,
          3,
          51,
          69,
          23,
          5,
          15,
          8,
          56,
          4,
          32,
          24,
          7,
          2,
          29,
          6,
          35,
          56,
          54,
          9,
          3,
          8,
          27,
          15,
          14,
          17,
          25,
          5,
          20,
          1,
          34,
          27,
          0,
          68,
          94,
          4,
          0,
          20,
          15,
          7,
          110,
          0,
          1,
          7,
          27,
          3,
          17,
          13,
          9,
          0
         ],
         "xaxis": "x",
         "y": [
          4,
          5.666666666666667,
          5,
          5.333333333333333,
          5,
          5.166666666666667,
          5.333333333333333,
          4,
          5.666666666666667,
          5.333333333333333,
          5,
          5.5,
          5,
          4.333333333333333,
          4.5,
          5.166666666666667,
          4.666666666666667,
          5.166666666666667,
          5.333333333333333,
          4.833333333333333,
          4.166666666666667,
          4,
          4.833333333333333,
          5.5,
          5,
          4.833333333333333,
          4.5,
          4.333333333333333,
          5,
          5,
          5.833333333333333,
          5.5,
          4,
          4.25,
          4.833333333333333,
          4,
          5,
          4.5,
          5.333333333333333,
          4.833333333333333,
          4.166666666666667,
          4.5,
          4,
          4.166666666666667,
          5,
          4.166666666666667,
          5.5,
          5,
          5.666666666666667,
          5.333333333333333,
          5.166666666666667,
          3.6666666666666665,
          4.5,
          4.833333333333333,
          5.833333333333333,
          5.333333333333333,
          5.166666666666667,
          5,
          3.5,
          4.666666666666667,
          5.5,
          5.333333333333333,
          5.5,
          4.5,
          5,
          5.166666666666667,
          5.5,
          4.166666666666667,
          4,
          4.166666666666667,
          4,
          6,
          5.5,
          5.166666666666667,
          4.5,
          4.833333333333333,
          5.166666666666667,
          4.833333333333333,
          5.5,
          5.166666666666667,
          5.333333333333333,
          4.166666666666667,
          5.25,
          5.3333330000000005,
          4.1666669999999995,
          2.5,
          5,
          3.8333333333333335,
          6,
          5.166666666666667,
          5.333333333333333,
          5.166666666666667,
          4.5,
          4.666666666666667,
          5.333333333333333,
          4.833333333333333,
          4.833333333333333,
          5.5,
          5.333333333333333,
          5.333333333333333,
          5.5,
          5.333333333333333,
          5,
          3,
          5.333333333333333,
          5.333333333333333,
          3,
          5.333333333333333,
          4.833333333333333,
          4.5,
          5.166666666666667,
          4.666666666666667,
          4.666666666666667,
          4.166666666666667,
          4.833333333333333,
          5.5,
          3.5,
          3.5,
          5.166666666666667,
          4.333333333333333,
          5.333333333333333,
          5.666666666666667,
          3.8333333333333335,
          4.333333333333333,
          5,
          3,
          2,
          4.666666666666667,
          2,
          4.642857,
          5,
          4.25,
          5.5,
          4.75,
          3.8333333333333335,
          4.666666666666667,
          4.666666666666667,
          5.5,
          5,
          4.5,
          3.5,
          5.166666666666667,
          5,
          4.75,
          5.666666666666667,
          4.166666666666667,
          4,
          3,
          3.8333333333333335,
          5,
          5.333333333333333,
          5.666666666666667,
          5.5,
          5,
          4.5,
          3.5,
          5.5,
          4.833333333333333,
          4.5,
          4.833333333333333,
          0,
          5.5,
          5.333333333333333,
          5.5,
          5.166666666666667,
          5.5,
          5,
          4.833333333333333,
          4.666666666666667,
          5.666666666666667,
          5,
          4.5,
          5.5,
          2.5,
          5.666666666666667,
          5.136364,
          4.166666666666667,
          5,
          5.0625,
          5.1666669999999995,
          4.5,
          5.833333333333333,
          4.666666666666667,
          4.5,
          5,
          4.75,
          5.666666666666667,
          5.666666666666667,
          4,
          5.333333333333333,
          4.833333333333333,
          4.833333333333333,
          5,
          4.833333333333333,
          4,
          4.166666666666667,
          4.5,
          4.25,
          4.833333333333333,
          4.5,
          6,
          5.5,
          5.833333333333333,
          3.3333333333333335,
          5.166666666666667,
          5.75,
          4.75,
          4,
          4.5,
          4.833333333333333,
          5.5,
          4.5,
          4.25,
          4.5,
          5,
          4.5,
          4.1666669999999995,
          4,
          4.75,
          4.5,
          4,
          5.5,
          5.5,
          4.75,
          2.5,
          5.25,
          4.5,
          5.5,
          5.5,
          4.75,
          5.25,
          4.5,
          5.5,
          4.25,
          3.75,
          5.5,
          4.25,
          4.5,
          5.75,
          4.75,
          3.75,
          4,
          4,
          4,
          4.5,
          5.25,
          5.25,
          5.75,
          5.25,
          4.25,
          4.75,
          4.5,
          5,
          5,
          4,
          5,
          4.1666669999999995,
          5,
          4.5,
          4,
          6,
          3.5,
          3.5,
          4.25,
          4.444444,
          5,
          5,
          3.333333,
          4.75,
          5.5,
          4.5,
          5,
          5.5,
          5.5,
          5,
          4.5,
          6,
          5.5,
          5.5,
          5.5,
          5.5,
          4.5,
          4.285714,
          4,
          4.8333330000000005,
          4.5,
          4.5,
          5.5,
          6,
          5.5,
          5,
          3.5,
          5.5,
          4.5,
          5.5,
          4.5,
          5,
          4.5,
          3.5,
          4.35,
          5,
          5.5,
          5,
          3.5,
          5.5,
          6,
          5.5,
          4,
          4.5,
          4.5,
          3.5,
          4.908163,
          4,
          5,
          3.75,
          3.857143,
          5,
          5.0625,
          4.75,
          4.673913,
          4
         ],
         "yaxis": "y"
        },
        {
         "hovertemplate": "<b>OLS trendline</b><br>E_grade = 0.0047421 * n_feedback_requests + 4.67118<br>R<sup>2</sup>=0.036879<br><br>n_feedback_requests=%{x}<br>E_grade=%{y} <b>(trend)</b><extra></extra>",
         "legendgroup": "",
         "marker": {
          "symbol": "circle"
         },
         "mode": "lines",
         "name": "",
         "showlegend": false,
         "type": "scatter",
         "x": [
          0,
          0,
          0,
          0,
          0,
          0,
          0,
          0,
          0,
          0,
          0,
          0,
          0,
          0,
          0,
          0,
          0,
          0,
          0,
          0,
          0,
          0,
          0,
          0,
          0,
          0,
          0,
          0,
          0,
          0,
          0,
          0,
          0,
          0,
          0,
          0,
          0,
          0,
          0,
          0,
          0,
          0,
          0,
          0,
          0,
          0,
          0,
          0,
          0,
          0,
          0,
          0,
          0,
          0,
          0,
          0,
          0,
          0,
          0,
          0,
          0,
          0,
          0,
          0,
          0,
          0,
          0,
          0,
          0,
          0,
          0,
          0,
          0,
          0,
          0,
          0,
          0,
          0,
          0,
          0,
          0,
          0,
          0,
          0,
          0,
          0,
          0,
          0,
          0,
          0,
          0,
          0,
          0,
          0,
          0,
          0,
          0,
          0,
          0,
          1,
          1,
          1,
          1,
          1,
          1,
          1,
          1,
          1,
          1,
          1,
          1,
          1,
          1,
          1,
          1,
          1,
          1,
          1,
          1,
          1,
          1,
          1,
          1,
          1,
          1,
          1,
          2,
          2,
          2,
          2,
          2,
          2,
          2,
          2,
          2,
          2,
          2,
          3,
          3,
          3,
          3,
          3,
          3,
          3,
          3,
          3,
          3,
          3,
          3,
          4,
          4,
          4,
          4,
          4,
          4,
          4,
          4,
          4,
          4,
          4,
          5,
          5,
          5,
          5,
          5,
          5,
          5,
          5,
          5,
          5,
          5,
          5,
          6,
          6,
          6,
          7,
          7,
          7,
          7,
          7,
          8,
          8,
          8,
          8,
          8,
          8,
          8,
          8,
          9,
          9,
          9,
          9,
          9,
          9,
          9,
          9,
          9,
          9,
          10,
          10,
          10,
          10,
          10,
          10,
          10,
          10,
          11,
          11,
          11,
          11,
          11,
          12,
          13,
          13,
          13,
          13,
          13,
          13,
          13,
          13,
          13,
          13,
          14,
          14,
          15,
          15,
          15,
          15,
          15,
          15,
          15,
          16,
          17,
          17,
          17,
          17,
          18,
          18,
          19,
          19,
          19,
          19,
          20,
          20,
          20,
          20,
          21,
          21,
          22,
          22,
          23,
          23,
          24,
          24,
          25,
          25,
          27,
          27,
          27,
          28,
          28,
          29,
          29,
          30,
          32,
          32,
          32,
          32,
          32,
          33,
          33,
          34,
          34,
          35,
          40,
          40,
          41,
          42,
          43,
          43,
          43,
          44,
          45,
          48,
          49,
          50,
          50,
          50,
          51,
          51,
          53,
          54,
          55,
          56,
          56,
          56,
          57,
          57,
          57,
          60,
          61,
          66,
          68,
          69,
          69,
          72,
          74,
          83,
          88,
          94,
          95,
          95,
          110,
          113,
          116,
          138,
          158,
          166,
          167,
          176,
          225
         ],
         "xaxis": "x",
         "y": [
          4.6711788233037135,
          4.6711788233037135,
          4.6711788233037135,
          4.6711788233037135,
          4.6711788233037135,
          4.6711788233037135,
          4.6711788233037135,
          4.6711788233037135,
          4.6711788233037135,
          4.6711788233037135,
          4.6711788233037135,
          4.6711788233037135,
          4.6711788233037135,
          4.6711788233037135,
          4.6711788233037135,
          4.6711788233037135,
          4.6711788233037135,
          4.6711788233037135,
          4.6711788233037135,
          4.6711788233037135,
          4.6711788233037135,
          4.6711788233037135,
          4.6711788233037135,
          4.6711788233037135,
          4.6711788233037135,
          4.6711788233037135,
          4.6711788233037135,
          4.6711788233037135,
          4.6711788233037135,
          4.6711788233037135,
          4.6711788233037135,
          4.6711788233037135,
          4.6711788233037135,
          4.6711788233037135,
          4.6711788233037135,
          4.6711788233037135,
          4.6711788233037135,
          4.6711788233037135,
          4.6711788233037135,
          4.6711788233037135,
          4.6711788233037135,
          4.6711788233037135,
          4.6711788233037135,
          4.6711788233037135,
          4.6711788233037135,
          4.6711788233037135,
          4.6711788233037135,
          4.6711788233037135,
          4.6711788233037135,
          4.6711788233037135,
          4.6711788233037135,
          4.6711788233037135,
          4.6711788233037135,
          4.6711788233037135,
          4.6711788233037135,
          4.6711788233037135,
          4.6711788233037135,
          4.6711788233037135,
          4.6711788233037135,
          4.6711788233037135,
          4.6711788233037135,
          4.6711788233037135,
          4.6711788233037135,
          4.6711788233037135,
          4.6711788233037135,
          4.6711788233037135,
          4.6711788233037135,
          4.6711788233037135,
          4.6711788233037135,
          4.6711788233037135,
          4.6711788233037135,
          4.6711788233037135,
          4.6711788233037135,
          4.6711788233037135,
          4.6711788233037135,
          4.6711788233037135,
          4.6711788233037135,
          4.6711788233037135,
          4.6711788233037135,
          4.6711788233037135,
          4.6711788233037135,
          4.6711788233037135,
          4.6711788233037135,
          4.6711788233037135,
          4.6711788233037135,
          4.6711788233037135,
          4.6711788233037135,
          4.6711788233037135,
          4.6711788233037135,
          4.6711788233037135,
          4.6711788233037135,
          4.6711788233037135,
          4.6711788233037135,
          4.6711788233037135,
          4.6711788233037135,
          4.6711788233037135,
          4.6711788233037135,
          4.6711788233037135,
          4.6711788233037135,
          4.675920922702891,
          4.675920922702891,
          4.675920922702891,
          4.675920922702891,
          4.675920922702891,
          4.675920922702891,
          4.675920922702891,
          4.675920922702891,
          4.675920922702891,
          4.675920922702891,
          4.675920922702891,
          4.675920922702891,
          4.675920922702891,
          4.675920922702891,
          4.675920922702891,
          4.675920922702891,
          4.675920922702891,
          4.675920922702891,
          4.675920922702891,
          4.675920922702891,
          4.675920922702891,
          4.675920922702891,
          4.675920922702891,
          4.675920922702891,
          4.675920922702891,
          4.675920922702891,
          4.675920922702891,
          4.680663022102068,
          4.680663022102068,
          4.680663022102068,
          4.680663022102068,
          4.680663022102068,
          4.680663022102068,
          4.680663022102068,
          4.680663022102068,
          4.680663022102068,
          4.680663022102068,
          4.680663022102068,
          4.685405121501245,
          4.685405121501245,
          4.685405121501245,
          4.685405121501245,
          4.685405121501245,
          4.685405121501245,
          4.685405121501245,
          4.685405121501245,
          4.685405121501245,
          4.685405121501245,
          4.685405121501245,
          4.685405121501245,
          4.690147220900422,
          4.690147220900422,
          4.690147220900422,
          4.690147220900422,
          4.690147220900422,
          4.690147220900422,
          4.690147220900422,
          4.690147220900422,
          4.690147220900422,
          4.690147220900422,
          4.690147220900422,
          4.694889320299599,
          4.694889320299599,
          4.694889320299599,
          4.694889320299599,
          4.694889320299599,
          4.694889320299599,
          4.694889320299599,
          4.694889320299599,
          4.694889320299599,
          4.694889320299599,
          4.694889320299599,
          4.694889320299599,
          4.699631419698776,
          4.699631419698776,
          4.699631419698776,
          4.704373519097954,
          4.704373519097954,
          4.704373519097954,
          4.704373519097954,
          4.704373519097954,
          4.7091156184971315,
          4.7091156184971315,
          4.7091156184971315,
          4.7091156184971315,
          4.7091156184971315,
          4.7091156184971315,
          4.7091156184971315,
          4.7091156184971315,
          4.713857717896309,
          4.713857717896309,
          4.713857717896309,
          4.713857717896309,
          4.713857717896309,
          4.713857717896309,
          4.713857717896309,
          4.713857717896309,
          4.713857717896309,
          4.713857717896309,
          4.718599817295486,
          4.718599817295486,
          4.718599817295486,
          4.718599817295486,
          4.718599817295486,
          4.718599817295486,
          4.718599817295486,
          4.718599817295486,
          4.723341916694663,
          4.723341916694663,
          4.723341916694663,
          4.723341916694663,
          4.723341916694663,
          4.72808401609384,
          4.732826115493017,
          4.732826115493017,
          4.732826115493017,
          4.732826115493017,
          4.732826115493017,
          4.732826115493017,
          4.732826115493017,
          4.732826115493017,
          4.732826115493017,
          4.732826115493017,
          4.737568214892194,
          4.737568214892194,
          4.742310314291371,
          4.742310314291371,
          4.742310314291371,
          4.742310314291371,
          4.742310314291371,
          4.742310314291371,
          4.742310314291371,
          4.7470524136905485,
          4.751794513089726,
          4.751794513089726,
          4.751794513089726,
          4.751794513089726,
          4.756536612488903,
          4.756536612488903,
          4.76127871188808,
          4.76127871188808,
          4.76127871188808,
          4.76127871188808,
          4.766020811287257,
          4.766020811287257,
          4.766020811287257,
          4.766020811287257,
          4.770762910686435,
          4.770762910686435,
          4.775505010085612,
          4.775505010085612,
          4.780247109484789,
          4.780247109484789,
          4.7849892088839665,
          4.7849892088839665,
          4.789731308283144,
          4.789731308283144,
          4.799215507081498,
          4.799215507081498,
          4.799215507081498,
          4.803957606480675,
          4.803957606480675,
          4.808699705879852,
          4.808699705879852,
          4.813441805279029,
          4.822926004077384,
          4.822926004077384,
          4.822926004077384,
          4.822926004077384,
          4.822926004077384,
          4.827668103476561,
          4.827668103476561,
          4.832410202875739,
          4.832410202875739,
          4.837152302274916,
          4.860862799270802,
          4.860862799270802,
          4.865604898669979,
          4.870346998069156,
          4.875089097468333,
          4.875089097468333,
          4.875089097468333,
          4.87983119686751,
          4.884573296266687,
          4.8987995944642195,
          4.903541693863397,
          4.908283793262574,
          4.908283793262574,
          4.908283793262574,
          4.913025892661751,
          4.913025892661751,
          4.922510091460105,
          4.927252190859282,
          4.9319942902584595,
          4.936736389657637,
          4.936736389657637,
          4.936736389657637,
          4.941478489056814,
          4.941478489056814,
          4.941478489056814,
          4.955704787254345,
          4.960446886653523,
          4.984157383649409,
          4.993641582447763,
          4.99838368184694,
          4.99838368184694,
          5.012609980044472,
          5.022094178842826,
          5.064773073435421,
          5.088483570431308,
          5.11693616682637,
          5.121678266225548,
          5.121678266225548,
          5.1928097572132055,
          5.207036055410737,
          5.221262353608269,
          5.325588540390167,
          5.4204305283737115,
          5.458367323567129,
          5.463109422966306,
          5.505788317558901,
          5.738151188118584
         ],
         "yaxis": "y"
        }
       ],
       "layout": {
        "coloraxis": {
         "colorbar": {
          "title": {
           "text": "E_grade"
          }
         },
         "colorscale": [
          [
           0,
           "#0d0887"
          ],
          [
           0.1111111111111111,
           "#46039f"
          ],
          [
           0.2222222222222222,
           "#7201a8"
          ],
          [
           0.3333333333333333,
           "#9c179e"
          ],
          [
           0.4444444444444444,
           "#bd3786"
          ],
          [
           0.5555555555555556,
           "#d8576b"
          ],
          [
           0.6666666666666666,
           "#ed7953"
          ],
          [
           0.7777777777777778,
           "#fb9f3a"
          ],
          [
           0.8888888888888888,
           "#fdca26"
          ],
          [
           1,
           "#f0f921"
          ]
         ]
        },
        "legend": {
         "tracegroupgap": 0
        },
        "margin": {
         "t": 60
        },
        "template": {
         "data": {
          "bar": [
           {
            "error_x": {
             "color": "#2a3f5f"
            },
            "error_y": {
             "color": "#2a3f5f"
            },
            "marker": {
             "line": {
              "color": "#E5ECF6",
              "width": 0.5
             }
            },
            "type": "bar"
           }
          ],
          "barpolar": [
           {
            "marker": {
             "line": {
              "color": "#E5ECF6",
              "width": 0.5
             }
            },
            "type": "barpolar"
           }
          ],
          "carpet": [
           {
            "aaxis": {
             "endlinecolor": "#2a3f5f",
             "gridcolor": "white",
             "linecolor": "white",
             "minorgridcolor": "white",
             "startlinecolor": "#2a3f5f"
            },
            "baxis": {
             "endlinecolor": "#2a3f5f",
             "gridcolor": "white",
             "linecolor": "white",
             "minorgridcolor": "white",
             "startlinecolor": "#2a3f5f"
            },
            "type": "carpet"
           }
          ],
          "choropleth": [
           {
            "colorbar": {
             "outlinewidth": 0,
             "ticks": ""
            },
            "type": "choropleth"
           }
          ],
          "contour": [
           {
            "colorbar": {
             "outlinewidth": 0,
             "ticks": ""
            },
            "colorscale": [
             [
              0,
              "#0d0887"
             ],
             [
              0.1111111111111111,
              "#46039f"
             ],
             [
              0.2222222222222222,
              "#7201a8"
             ],
             [
              0.3333333333333333,
              "#9c179e"
             ],
             [
              0.4444444444444444,
              "#bd3786"
             ],
             [
              0.5555555555555556,
              "#d8576b"
             ],
             [
              0.6666666666666666,
              "#ed7953"
             ],
             [
              0.7777777777777778,
              "#fb9f3a"
             ],
             [
              0.8888888888888888,
              "#fdca26"
             ],
             [
              1,
              "#f0f921"
             ]
            ],
            "type": "contour"
           }
          ],
          "contourcarpet": [
           {
            "colorbar": {
             "outlinewidth": 0,
             "ticks": ""
            },
            "type": "contourcarpet"
           }
          ],
          "heatmap": [
           {
            "colorbar": {
             "outlinewidth": 0,
             "ticks": ""
            },
            "colorscale": [
             [
              0,
              "#0d0887"
             ],
             [
              0.1111111111111111,
              "#46039f"
             ],
             [
              0.2222222222222222,
              "#7201a8"
             ],
             [
              0.3333333333333333,
              "#9c179e"
             ],
             [
              0.4444444444444444,
              "#bd3786"
             ],
             [
              0.5555555555555556,
              "#d8576b"
             ],
             [
              0.6666666666666666,
              "#ed7953"
             ],
             [
              0.7777777777777778,
              "#fb9f3a"
             ],
             [
              0.8888888888888888,
              "#fdca26"
             ],
             [
              1,
              "#f0f921"
             ]
            ],
            "type": "heatmap"
           }
          ],
          "heatmapgl": [
           {
            "colorbar": {
             "outlinewidth": 0,
             "ticks": ""
            },
            "colorscale": [
             [
              0,
              "#0d0887"
             ],
             [
              0.1111111111111111,
              "#46039f"
             ],
             [
              0.2222222222222222,
              "#7201a8"
             ],
             [
              0.3333333333333333,
              "#9c179e"
             ],
             [
              0.4444444444444444,
              "#bd3786"
             ],
             [
              0.5555555555555556,
              "#d8576b"
             ],
             [
              0.6666666666666666,
              "#ed7953"
             ],
             [
              0.7777777777777778,
              "#fb9f3a"
             ],
             [
              0.8888888888888888,
              "#fdca26"
             ],
             [
              1,
              "#f0f921"
             ]
            ],
            "type": "heatmapgl"
           }
          ],
          "histogram": [
           {
            "marker": {
             "colorbar": {
              "outlinewidth": 0,
              "ticks": ""
             }
            },
            "type": "histogram"
           }
          ],
          "histogram2d": [
           {
            "colorbar": {
             "outlinewidth": 0,
             "ticks": ""
            },
            "colorscale": [
             [
              0,
              "#0d0887"
             ],
             [
              0.1111111111111111,
              "#46039f"
             ],
             [
              0.2222222222222222,
              "#7201a8"
             ],
             [
              0.3333333333333333,
              "#9c179e"
             ],
             [
              0.4444444444444444,
              "#bd3786"
             ],
             [
              0.5555555555555556,
              "#d8576b"
             ],
             [
              0.6666666666666666,
              "#ed7953"
             ],
             [
              0.7777777777777778,
              "#fb9f3a"
             ],
             [
              0.8888888888888888,
              "#fdca26"
             ],
             [
              1,
              "#f0f921"
             ]
            ],
            "type": "histogram2d"
           }
          ],
          "histogram2dcontour": [
           {
            "colorbar": {
             "outlinewidth": 0,
             "ticks": ""
            },
            "colorscale": [
             [
              0,
              "#0d0887"
             ],
             [
              0.1111111111111111,
              "#46039f"
             ],
             [
              0.2222222222222222,
              "#7201a8"
             ],
             [
              0.3333333333333333,
              "#9c179e"
             ],
             [
              0.4444444444444444,
              "#bd3786"
             ],
             [
              0.5555555555555556,
              "#d8576b"
             ],
             [
              0.6666666666666666,
              "#ed7953"
             ],
             [
              0.7777777777777778,
              "#fb9f3a"
             ],
             [
              0.8888888888888888,
              "#fdca26"
             ],
             [
              1,
              "#f0f921"
             ]
            ],
            "type": "histogram2dcontour"
           }
          ],
          "mesh3d": [
           {
            "colorbar": {
             "outlinewidth": 0,
             "ticks": ""
            },
            "type": "mesh3d"
           }
          ],
          "parcoords": [
           {
            "line": {
             "colorbar": {
              "outlinewidth": 0,
              "ticks": ""
             }
            },
            "type": "parcoords"
           }
          ],
          "pie": [
           {
            "automargin": true,
            "type": "pie"
           }
          ],
          "scatter": [
           {
            "marker": {
             "colorbar": {
              "outlinewidth": 0,
              "ticks": ""
             }
            },
            "type": "scatter"
           }
          ],
          "scatter3d": [
           {
            "line": {
             "colorbar": {
              "outlinewidth": 0,
              "ticks": ""
             }
            },
            "marker": {
             "colorbar": {
              "outlinewidth": 0,
              "ticks": ""
             }
            },
            "type": "scatter3d"
           }
          ],
          "scattercarpet": [
           {
            "marker": {
             "colorbar": {
              "outlinewidth": 0,
              "ticks": ""
             }
            },
            "type": "scattercarpet"
           }
          ],
          "scattergeo": [
           {
            "marker": {
             "colorbar": {
              "outlinewidth": 0,
              "ticks": ""
             }
            },
            "type": "scattergeo"
           }
          ],
          "scattergl": [
           {
            "marker": {
             "colorbar": {
              "outlinewidth": 0,
              "ticks": ""
             }
            },
            "type": "scattergl"
           }
          ],
          "scattermapbox": [
           {
            "marker": {
             "colorbar": {
              "outlinewidth": 0,
              "ticks": ""
             }
            },
            "type": "scattermapbox"
           }
          ],
          "scatterpolar": [
           {
            "marker": {
             "colorbar": {
              "outlinewidth": 0,
              "ticks": ""
             }
            },
            "type": "scatterpolar"
           }
          ],
          "scatterpolargl": [
           {
            "marker": {
             "colorbar": {
              "outlinewidth": 0,
              "ticks": ""
             }
            },
            "type": "scatterpolargl"
           }
          ],
          "scatterternary": [
           {
            "marker": {
             "colorbar": {
              "outlinewidth": 0,
              "ticks": ""
             }
            },
            "type": "scatterternary"
           }
          ],
          "surface": [
           {
            "colorbar": {
             "outlinewidth": 0,
             "ticks": ""
            },
            "colorscale": [
             [
              0,
              "#0d0887"
             ],
             [
              0.1111111111111111,
              "#46039f"
             ],
             [
              0.2222222222222222,
              "#7201a8"
             ],
             [
              0.3333333333333333,
              "#9c179e"
             ],
             [
              0.4444444444444444,
              "#bd3786"
             ],
             [
              0.5555555555555556,
              "#d8576b"
             ],
             [
              0.6666666666666666,
              "#ed7953"
             ],
             [
              0.7777777777777778,
              "#fb9f3a"
             ],
             [
              0.8888888888888888,
              "#fdca26"
             ],
             [
              1,
              "#f0f921"
             ]
            ],
            "type": "surface"
           }
          ],
          "table": [
           {
            "cells": {
             "fill": {
              "color": "#EBF0F8"
             },
             "line": {
              "color": "white"
             }
            },
            "header": {
             "fill": {
              "color": "#C8D4E3"
             },
             "line": {
              "color": "white"
             }
            },
            "type": "table"
           }
          ]
         },
         "layout": {
          "annotationdefaults": {
           "arrowcolor": "#2a3f5f",
           "arrowhead": 0,
           "arrowwidth": 1
          },
          "coloraxis": {
           "colorbar": {
            "outlinewidth": 0,
            "ticks": ""
           }
          },
          "colorscale": {
           "diverging": [
            [
             0,
             "#8e0152"
            ],
            [
             0.1,
             "#c51b7d"
            ],
            [
             0.2,
             "#de77ae"
            ],
            [
             0.3,
             "#f1b6da"
            ],
            [
             0.4,
             "#fde0ef"
            ],
            [
             0.5,
             "#f7f7f7"
            ],
            [
             0.6,
             "#e6f5d0"
            ],
            [
             0.7,
             "#b8e186"
            ],
            [
             0.8,
             "#7fbc41"
            ],
            [
             0.9,
             "#4d9221"
            ],
            [
             1,
             "#276419"
            ]
           ],
           "sequential": [
            [
             0,
             "#0d0887"
            ],
            [
             0.1111111111111111,
             "#46039f"
            ],
            [
             0.2222222222222222,
             "#7201a8"
            ],
            [
             0.3333333333333333,
             "#9c179e"
            ],
            [
             0.4444444444444444,
             "#bd3786"
            ],
            [
             0.5555555555555556,
             "#d8576b"
            ],
            [
             0.6666666666666666,
             "#ed7953"
            ],
            [
             0.7777777777777778,
             "#fb9f3a"
            ],
            [
             0.8888888888888888,
             "#fdca26"
            ],
            [
             1,
             "#f0f921"
            ]
           ],
           "sequentialminus": [
            [
             0,
             "#0d0887"
            ],
            [
             0.1111111111111111,
             "#46039f"
            ],
            [
             0.2222222222222222,
             "#7201a8"
            ],
            [
             0.3333333333333333,
             "#9c179e"
            ],
            [
             0.4444444444444444,
             "#bd3786"
            ],
            [
             0.5555555555555556,
             "#d8576b"
            ],
            [
             0.6666666666666666,
             "#ed7953"
            ],
            [
             0.7777777777777778,
             "#fb9f3a"
            ],
            [
             0.8888888888888888,
             "#fdca26"
            ],
            [
             1,
             "#f0f921"
            ]
           ]
          },
          "colorway": [
           "#636efa",
           "#EF553B",
           "#00cc96",
           "#ab63fa",
           "#FFA15A",
           "#19d3f3",
           "#FF6692",
           "#B6E880",
           "#FF97FF",
           "#FECB52"
          ],
          "font": {
           "color": "#2a3f5f"
          },
          "geo": {
           "bgcolor": "white",
           "lakecolor": "white",
           "landcolor": "#E5ECF6",
           "showlakes": true,
           "showland": true,
           "subunitcolor": "white"
          },
          "hoverlabel": {
           "align": "left"
          },
          "hovermode": "closest",
          "mapbox": {
           "style": "light"
          },
          "paper_bgcolor": "white",
          "plot_bgcolor": "#E5ECF6",
          "polar": {
           "angularaxis": {
            "gridcolor": "white",
            "linecolor": "white",
            "ticks": ""
           },
           "bgcolor": "#E5ECF6",
           "radialaxis": {
            "gridcolor": "white",
            "linecolor": "white",
            "ticks": ""
           }
          },
          "scene": {
           "xaxis": {
            "backgroundcolor": "#E5ECF6",
            "gridcolor": "white",
            "gridwidth": 2,
            "linecolor": "white",
            "showbackground": true,
            "ticks": "",
            "zerolinecolor": "white"
           },
           "yaxis": {
            "backgroundcolor": "#E5ECF6",
            "gridcolor": "white",
            "gridwidth": 2,
            "linecolor": "white",
            "showbackground": true,
            "ticks": "",
            "zerolinecolor": "white"
           },
           "zaxis": {
            "backgroundcolor": "#E5ECF6",
            "gridcolor": "white",
            "gridwidth": 2,
            "linecolor": "white",
            "showbackground": true,
            "ticks": "",
            "zerolinecolor": "white"
           }
          },
          "shapedefaults": {
           "line": {
            "color": "#2a3f5f"
           }
          },
          "ternary": {
           "aaxis": {
            "gridcolor": "white",
            "linecolor": "white",
            "ticks": ""
           },
           "baxis": {
            "gridcolor": "white",
            "linecolor": "white",
            "ticks": ""
           },
           "bgcolor": "#E5ECF6",
           "caxis": {
            "gridcolor": "white",
            "linecolor": "white",
            "ticks": ""
           }
          },
          "title": {
           "x": 0.05
          },
          "xaxis": {
           "automargin": true,
           "gridcolor": "white",
           "linecolor": "white",
           "ticks": "",
           "title": {
            "standoff": 15
           },
           "zerolinecolor": "white",
           "zerolinewidth": 2
          },
          "yaxis": {
           "automargin": true,
           "gridcolor": "white",
           "linecolor": "white",
           "ticks": "",
           "title": {
            "standoff": 15
           },
           "zerolinecolor": "white",
           "zerolinewidth": 2
          }
         }
        },
        "xaxis": {
         "anchor": "y",
         "domain": [
          0,
          1
         ],
         "title": {
          "text": "n_feedback_requests"
         }
        },
        "yaxis": {
         "anchor": "x",
         "domain": [
          0,
          1
         ],
         "title": {
          "text": "E_grade"
         }
        }
       }
      },
      "text/html": [
       "<div>\n",
       "        \n",
       "        \n",
       "            <div id=\"46e65772-161f-430c-a7d7-0360b0a58dc0\" class=\"plotly-graph-div\" style=\"height:525px; width:100%;\"></div>\n",
       "            <script type=\"text/javascript\">\n",
       "                require([\"plotly\"], function(Plotly) {\n",
       "                    window.PLOTLYENV=window.PLOTLYENV || {};\n",
       "                    \n",
       "                if (document.getElementById(\"46e65772-161f-430c-a7d7-0360b0a58dc0\")) {\n",
       "                    Plotly.newPlot(\n",
       "                        '46e65772-161f-430c-a7d7-0360b0a58dc0',\n",
       "                        [{\"hovertemplate\": \"n_feedback_requests=%{x}<br>E_grade=%{marker.color}<extra></extra>\", \"legendgroup\": \"\", \"marker\": {\"color\": [4.0, 5.666666666666667, 5.0, 5.333333333333333, 5.0, 5.166666666666667, 5.333333333333333, 4.0, 5.666666666666667, 5.333333333333333, 5.0, 5.5, 5.0, 4.333333333333333, 4.5, 5.166666666666667, 4.666666666666667, 5.166666666666667, 5.333333333333333, 4.833333333333333, 4.166666666666667, 4.0, 4.833333333333333, 5.5, 5.0, 4.833333333333333, 4.5, 4.333333333333333, 5.0, 5.0, 5.833333333333333, 5.5, 4.0, 4.25, 4.833333333333333, 4.0, 5.0, 4.5, 5.333333333333333, 4.833333333333333, 4.166666666666667, 4.5, 4.0, 4.166666666666667, 5.0, 4.166666666666667, 5.5, 5.0, 5.666666666666667, 5.333333333333333, 5.166666666666667, 3.6666666666666665, 4.5, 4.833333333333333, 5.833333333333333, 5.333333333333333, 5.166666666666667, 5.0, 3.5, 4.666666666666667, 5.5, 5.333333333333333, 5.5, 4.5, 5.0, 5.166666666666667, 5.5, 4.166666666666667, 4.0, 4.166666666666667, 4.0, 6.0, 5.5, 5.166666666666667, 4.5, 4.833333333333333, 5.166666666666667, 4.833333333333333, 5.5, 5.166666666666667, 5.333333333333333, 4.166666666666667, 5.25, 5.3333330000000005, 4.1666669999999995, 2.5, 5.0, 3.8333333333333335, 6.0, 5.166666666666667, 5.333333333333333, 5.166666666666667, 4.5, 4.666666666666667, 5.333333333333333, 4.833333333333333, 4.833333333333333, 5.5, 5.333333333333333, 5.333333333333333, 5.5, 5.333333333333333, 5.0, 3.0, 5.333333333333333, 5.333333333333333, 3.0, 5.333333333333333, 4.833333333333333, 4.5, 5.166666666666667, 4.666666666666667, 4.666666666666667, 4.166666666666667, 4.833333333333333, 5.5, 3.5, 3.5, 5.166666666666667, 4.333333333333333, 5.333333333333333, 5.666666666666667, 3.8333333333333335, 4.333333333333333, 5.0, 3.0, 2.0, 4.666666666666667, 2.0, 4.642857, 5.0, 4.25, 5.5, 4.75, 3.8333333333333335, 4.666666666666667, 4.666666666666667, 5.5, 5.0, 4.5, 3.5, 5.166666666666667, 5.0, 4.75, 5.666666666666667, 4.166666666666667, 4.0, 3.0, 3.8333333333333335, 5.0, 5.333333333333333, 5.666666666666667, 5.5, 5.0, 4.5, 3.5, 5.5, 4.833333333333333, 4.5, 4.833333333333333, 0.0, 5.5, 5.333333333333333, 5.5, 5.166666666666667, 5.5, 5.0, 4.833333333333333, 4.666666666666667, 5.666666666666667, 5.0, 4.5, 5.5, 2.5, 5.666666666666667, 5.136364, 4.166666666666667, 5.0, 5.0625, 5.1666669999999995, 4.5, 5.833333333333333, 4.666666666666667, 4.5, 5.0, 4.75, 5.666666666666667, 5.666666666666667, 4.0, 5.333333333333333, 4.833333333333333, 4.833333333333333, 5.0, 4.833333333333333, 4.0, 4.166666666666667, 4.5, 4.25, 4.833333333333333, 4.5, 6.0, 5.5, 5.833333333333333, 3.3333333333333335, 5.166666666666667, 5.75, 4.75, 4.0, 4.5, 4.833333333333333, 5.5, 4.5, 4.25, 4.5, 5.0, 4.5, 4.1666669999999995, 4.0, 4.75, 4.5, 4.0, 5.5, 5.5, 4.75, 2.5, 5.25, 4.5, 5.5, 5.5, 4.75, 5.25, 4.5, 5.5, 4.25, 3.75, 5.5, 4.25, 4.5, 5.75, 4.75, 3.75, 4.0, 4.0, 4.0, 4.5, 5.25, 5.25, 5.75, 5.25, 4.25, 4.75, 4.5, 5.0, 5.0, 4.0, 5.0, 4.1666669999999995, 5.0, 4.5, 4.0, 6.0, 3.5, 3.5, 4.25, 4.444444, 5.0, 5.0, 3.333333, 4.75, 5.5, 4.5, 5.0, 5.5, 5.5, 5.0, 4.5, 6.0, 5.5, 5.5, 5.5, 5.5, 4.5, 4.285714, 4.0, 4.8333330000000005, 4.5, 4.5, 5.5, 6.0, 5.5, 5.0, 3.5, 5.5, 4.5, 5.5, 4.5, 5.0, 4.5, 3.5, 4.35, 5.0, 5.5, 5.0, 3.5, 5.5, 6.0, 5.5, 4.0, 4.5, 4.5, 3.5, 4.908163, 4.0, 5.0, 3.75, 3.857143, 5.0, 5.0625, 4.75, 4.673913, 4.0], \"coloraxis\": \"coloraxis\", \"symbol\": \"circle\"}, \"mode\": \"markers\", \"name\": \"\", \"orientation\": \"v\", \"showlegend\": false, \"type\": \"scatter\", \"x\": [0.0, 0.0, 22.0, 57.0, 66.0, 19.0, 2.0, 0.0, 158.0, 1.0, 18.0, 44.0, 0.0, 166.0, 40.0, 95.0, 225.0, 8.0, 1.0, 45.0, 1.0, 1.0, 2.0, 3.0, 3.0, 13.0, 0.0, 1.0, 8.0, 8.0, 5.0, 0.0, 9.0, 0.0, 5.0, 0.0, 0.0, 11.0, 19.0, 11.0, 0.0, 0.0, 1.0, 0.0, 60.0, 20.0, 11.0, 33.0, 57.0, 176.0, 69.0, 17.0, 0.0, 116.0, 33.0, 10.0, 49.0, 30.0, 0.0, 2.0, 24.0, 0.0, 11.0, 0.0, 0.0, 32.0, 88.0, 1.0, 0.0, 0.0, 0.0, 0.0, 43.0, 4.0, 0.0, 5.0, 3.0, 32.0, 9.0, 5.0, 0.0, 5.0, 7.0, 1.0, 25.0, 12.0, 4.0, 0.0, 0.0, 43.0, 13.0, 9.0, 1.0, 43.0, 5.0, 9.0, 16.0, 4.0, 113.0, 22.0, 3.0, 13.0, 50.0, 0.0, 1.0, 9.0, 0.0, 3.0, 42.0, 0.0, 15.0, 32.0, 0.0, 8.0, 53.0, 55.0, 0.0, 0.0, 10.0, 0.0, 1.0, 20.0, 0.0, 0.0, 0.0, 0.0, 0.0, 0.0, 0.0, 1.0, 2.0, 34.0, 5.0, 0.0, 0.0, 0.0, 11.0, 0.0, 0.0, 0.0, 4.0, 0.0, 9.0, 1.0, 0.0, 29.0, 0.0, 0.0, 50.0, 6.0, 138.0, 0.0, 56.0, 0.0, 0.0, 0.0, 0.0, 0.0, 2.0, 13.0, 0.0, 17.0, 0.0, 2.0, 19.0, 2.0, 1.0, 28.0, 8.0, 4.0, 41.0, 0.0, 0.0, 0.0, 1.0, 13.0, 3.0, 1.0, 10.0, 5.0, 95.0, 6.0, 28.0, 0.0, 10.0, 1.0, 5.0, 167.0, 1.0, 0.0, 32.0, 0.0, 10.0, 4.0, 0.0, 0.0, 0.0, 0.0, 10.0, 72.0, 0.0, 7.0, 0.0, 2.0, 0.0, 0.0, 0.0, 8.0, 0.0, 0.0, 0.0, 0.0, 3.0, 0.0, 0.0, 1.0, 15.0, 0.0, 14.0, 15.0, 1.0, 4.0, 0.0, 0.0, 0.0, 48.0, 0.0, 0.0, 13.0, 21.0, 57.0, 21.0, 0.0, 0.0, 13.0, 50.0, 0.0, 4.0, 1.0, 10.0, 4.0, 13.0, 1.0, 0.0, 83.0, 51.0, 1.0, 0.0, 0.0, 0.0, 74.0, 40.0, 61.0, 3.0, 2.0, 5.0, 10.0, 2.0, 18.0, 0.0, 9.0, 15.0, 0.0, 9.0, 23.0, 1.0, 1.0, 13.0, 0.0, 3.0, 0.0, 19.0, 3.0, 51.0, 69.0, 23.0, 5.0, 15.0, 8.0, 56.0, 4.0, 32.0, 24.0, 7.0, 2.0, 29.0, 6.0, 35.0, 56.0, 54.0, 9.0, 3.0, 8.0, 27.0, 15.0, 14.0, 17.0, 25.0, 5.0, 20.0, 1.0, 34.0, 27.0, 0.0, 68.0, 94.0, 4.0, 0.0, 20.0, 15.0, 7.0, 110.0, 0.0, 1.0, 7.0, 27.0, 3.0, 17.0, 13.0, 9.0, 0.0], \"xaxis\": \"x\", \"y\": [4.0, 5.666666666666667, 5.0, 5.333333333333333, 5.0, 5.166666666666667, 5.333333333333333, 4.0, 5.666666666666667, 5.333333333333333, 5.0, 5.5, 5.0, 4.333333333333333, 4.5, 5.166666666666667, 4.666666666666667, 5.166666666666667, 5.333333333333333, 4.833333333333333, 4.166666666666667, 4.0, 4.833333333333333, 5.5, 5.0, 4.833333333333333, 4.5, 4.333333333333333, 5.0, 5.0, 5.833333333333333, 5.5, 4.0, 4.25, 4.833333333333333, 4.0, 5.0, 4.5, 5.333333333333333, 4.833333333333333, 4.166666666666667, 4.5, 4.0, 4.166666666666667, 5.0, 4.166666666666667, 5.5, 5.0, 5.666666666666667, 5.333333333333333, 5.166666666666667, 3.6666666666666665, 4.5, 4.833333333333333, 5.833333333333333, 5.333333333333333, 5.166666666666667, 5.0, 3.5, 4.666666666666667, 5.5, 5.333333333333333, 5.5, 4.5, 5.0, 5.166666666666667, 5.5, 4.166666666666667, 4.0, 4.166666666666667, 4.0, 6.0, 5.5, 5.166666666666667, 4.5, 4.833333333333333, 5.166666666666667, 4.833333333333333, 5.5, 5.166666666666667, 5.333333333333333, 4.166666666666667, 5.25, 5.3333330000000005, 4.1666669999999995, 2.5, 5.0, 3.8333333333333335, 6.0, 5.166666666666667, 5.333333333333333, 5.166666666666667, 4.5, 4.666666666666667, 5.333333333333333, 4.833333333333333, 4.833333333333333, 5.5, 5.333333333333333, 5.333333333333333, 5.5, 5.333333333333333, 5.0, 3.0, 5.333333333333333, 5.333333333333333, 3.0, 5.333333333333333, 4.833333333333333, 4.5, 5.166666666666667, 4.666666666666667, 4.666666666666667, 4.166666666666667, 4.833333333333333, 5.5, 3.5, 3.5, 5.166666666666667, 4.333333333333333, 5.333333333333333, 5.666666666666667, 3.8333333333333335, 4.333333333333333, 5.0, 3.0, 2.0, 4.666666666666667, 2.0, 4.642857, 5.0, 4.25, 5.5, 4.75, 3.8333333333333335, 4.666666666666667, 4.666666666666667, 5.5, 5.0, 4.5, 3.5, 5.166666666666667, 5.0, 4.75, 5.666666666666667, 4.166666666666667, 4.0, 3.0, 3.8333333333333335, 5.0, 5.333333333333333, 5.666666666666667, 5.5, 5.0, 4.5, 3.5, 5.5, 4.833333333333333, 4.5, 4.833333333333333, 0.0, 5.5, 5.333333333333333, 5.5, 5.166666666666667, 5.5, 5.0, 4.833333333333333, 4.666666666666667, 5.666666666666667, 5.0, 4.5, 5.5, 2.5, 5.666666666666667, 5.136364, 4.166666666666667, 5.0, 5.0625, 5.1666669999999995, 4.5, 5.833333333333333, 4.666666666666667, 4.5, 5.0, 4.75, 5.666666666666667, 5.666666666666667, 4.0, 5.333333333333333, 4.833333333333333, 4.833333333333333, 5.0, 4.833333333333333, 4.0, 4.166666666666667, 4.5, 4.25, 4.833333333333333, 4.5, 6.0, 5.5, 5.833333333333333, 3.3333333333333335, 5.166666666666667, 5.75, 4.75, 4.0, 4.5, 4.833333333333333, 5.5, 4.5, 4.25, 4.5, 5.0, 4.5, 4.1666669999999995, 4.0, 4.75, 4.5, 4.0, 5.5, 5.5, 4.75, 2.5, 5.25, 4.5, 5.5, 5.5, 4.75, 5.25, 4.5, 5.5, 4.25, 3.75, 5.5, 4.25, 4.5, 5.75, 4.75, 3.75, 4.0, 4.0, 4.0, 4.5, 5.25, 5.25, 5.75, 5.25, 4.25, 4.75, 4.5, 5.0, 5.0, 4.0, 5.0, 4.1666669999999995, 5.0, 4.5, 4.0, 6.0, 3.5, 3.5, 4.25, 4.444444, 5.0, 5.0, 3.333333, 4.75, 5.5, 4.5, 5.0, 5.5, 5.5, 5.0, 4.5, 6.0, 5.5, 5.5, 5.5, 5.5, 4.5, 4.285714, 4.0, 4.8333330000000005, 4.5, 4.5, 5.5, 6.0, 5.5, 5.0, 3.5, 5.5, 4.5, 5.5, 4.5, 5.0, 4.5, 3.5, 4.35, 5.0, 5.5, 5.0, 3.5, 5.5, 6.0, 5.5, 4.0, 4.5, 4.5, 3.5, 4.908163, 4.0, 5.0, 3.75, 3.857143, 5.0, 5.0625, 4.75, 4.673913, 4.0], \"yaxis\": \"y\"}, {\"hovertemplate\": \"<b>OLS trendline</b><br>E_grade = 0.0047421 * n_feedback_requests + 4.67118<br>R<sup>2</sup>=0.036879<br><br>n_feedback_requests=%{x}<br>E_grade=%{y} <b>(trend)</b><extra></extra>\", \"legendgroup\": \"\", \"marker\": {\"symbol\": \"circle\"}, \"mode\": \"lines\", \"name\": \"\", \"showlegend\": false, \"type\": \"scatter\", \"x\": [0.0, 0.0, 0.0, 0.0, 0.0, 0.0, 0.0, 0.0, 0.0, 0.0, 0.0, 0.0, 0.0, 0.0, 0.0, 0.0, 0.0, 0.0, 0.0, 0.0, 0.0, 0.0, 0.0, 0.0, 0.0, 0.0, 0.0, 0.0, 0.0, 0.0, 0.0, 0.0, 0.0, 0.0, 0.0, 0.0, 0.0, 0.0, 0.0, 0.0, 0.0, 0.0, 0.0, 0.0, 0.0, 0.0, 0.0, 0.0, 0.0, 0.0, 0.0, 0.0, 0.0, 0.0, 0.0, 0.0, 0.0, 0.0, 0.0, 0.0, 0.0, 0.0, 0.0, 0.0, 0.0, 0.0, 0.0, 0.0, 0.0, 0.0, 0.0, 0.0, 0.0, 0.0, 0.0, 0.0, 0.0, 0.0, 0.0, 0.0, 0.0, 0.0, 0.0, 0.0, 0.0, 0.0, 0.0, 0.0, 0.0, 0.0, 0.0, 0.0, 0.0, 0.0, 0.0, 0.0, 0.0, 0.0, 0.0, 1.0, 1.0, 1.0, 1.0, 1.0, 1.0, 1.0, 1.0, 1.0, 1.0, 1.0, 1.0, 1.0, 1.0, 1.0, 1.0, 1.0, 1.0, 1.0, 1.0, 1.0, 1.0, 1.0, 1.0, 1.0, 1.0, 1.0, 2.0, 2.0, 2.0, 2.0, 2.0, 2.0, 2.0, 2.0, 2.0, 2.0, 2.0, 3.0, 3.0, 3.0, 3.0, 3.0, 3.0, 3.0, 3.0, 3.0, 3.0, 3.0, 3.0, 4.0, 4.0, 4.0, 4.0, 4.0, 4.0, 4.0, 4.0, 4.0, 4.0, 4.0, 5.0, 5.0, 5.0, 5.0, 5.0, 5.0, 5.0, 5.0, 5.0, 5.0, 5.0, 5.0, 6.0, 6.0, 6.0, 7.0, 7.0, 7.0, 7.0, 7.0, 8.0, 8.0, 8.0, 8.0, 8.0, 8.0, 8.0, 8.0, 9.0, 9.0, 9.0, 9.0, 9.0, 9.0, 9.0, 9.0, 9.0, 9.0, 10.0, 10.0, 10.0, 10.0, 10.0, 10.0, 10.0, 10.0, 11.0, 11.0, 11.0, 11.0, 11.0, 12.0, 13.0, 13.0, 13.0, 13.0, 13.0, 13.0, 13.0, 13.0, 13.0, 13.0, 14.0, 14.0, 15.0, 15.0, 15.0, 15.0, 15.0, 15.0, 15.0, 16.0, 17.0, 17.0, 17.0, 17.0, 18.0, 18.0, 19.0, 19.0, 19.0, 19.0, 20.0, 20.0, 20.0, 20.0, 21.0, 21.0, 22.0, 22.0, 23.0, 23.0, 24.0, 24.0, 25.0, 25.0, 27.0, 27.0, 27.0, 28.0, 28.0, 29.0, 29.0, 30.0, 32.0, 32.0, 32.0, 32.0, 32.0, 33.0, 33.0, 34.0, 34.0, 35.0, 40.0, 40.0, 41.0, 42.0, 43.0, 43.0, 43.0, 44.0, 45.0, 48.0, 49.0, 50.0, 50.0, 50.0, 51.0, 51.0, 53.0, 54.0, 55.0, 56.0, 56.0, 56.0, 57.0, 57.0, 57.0, 60.0, 61.0, 66.0, 68.0, 69.0, 69.0, 72.0, 74.0, 83.0, 88.0, 94.0, 95.0, 95.0, 110.0, 113.0, 116.0, 138.0, 158.0, 166.0, 167.0, 176.0, 225.0], \"xaxis\": \"x\", \"y\": [4.6711788233037135, 4.6711788233037135, 4.6711788233037135, 4.6711788233037135, 4.6711788233037135, 4.6711788233037135, 4.6711788233037135, 4.6711788233037135, 4.6711788233037135, 4.6711788233037135, 4.6711788233037135, 4.6711788233037135, 4.6711788233037135, 4.6711788233037135, 4.6711788233037135, 4.6711788233037135, 4.6711788233037135, 4.6711788233037135, 4.6711788233037135, 4.6711788233037135, 4.6711788233037135, 4.6711788233037135, 4.6711788233037135, 4.6711788233037135, 4.6711788233037135, 4.6711788233037135, 4.6711788233037135, 4.6711788233037135, 4.6711788233037135, 4.6711788233037135, 4.6711788233037135, 4.6711788233037135, 4.6711788233037135, 4.6711788233037135, 4.6711788233037135, 4.6711788233037135, 4.6711788233037135, 4.6711788233037135, 4.6711788233037135, 4.6711788233037135, 4.6711788233037135, 4.6711788233037135, 4.6711788233037135, 4.6711788233037135, 4.6711788233037135, 4.6711788233037135, 4.6711788233037135, 4.6711788233037135, 4.6711788233037135, 4.6711788233037135, 4.6711788233037135, 4.6711788233037135, 4.6711788233037135, 4.6711788233037135, 4.6711788233037135, 4.6711788233037135, 4.6711788233037135, 4.6711788233037135, 4.6711788233037135, 4.6711788233037135, 4.6711788233037135, 4.6711788233037135, 4.6711788233037135, 4.6711788233037135, 4.6711788233037135, 4.6711788233037135, 4.6711788233037135, 4.6711788233037135, 4.6711788233037135, 4.6711788233037135, 4.6711788233037135, 4.6711788233037135, 4.6711788233037135, 4.6711788233037135, 4.6711788233037135, 4.6711788233037135, 4.6711788233037135, 4.6711788233037135, 4.6711788233037135, 4.6711788233037135, 4.6711788233037135, 4.6711788233037135, 4.6711788233037135, 4.6711788233037135, 4.6711788233037135, 4.6711788233037135, 4.6711788233037135, 4.6711788233037135, 4.6711788233037135, 4.6711788233037135, 4.6711788233037135, 4.6711788233037135, 4.6711788233037135, 4.6711788233037135, 4.6711788233037135, 4.6711788233037135, 4.6711788233037135, 4.6711788233037135, 4.6711788233037135, 4.675920922702891, 4.675920922702891, 4.675920922702891, 4.675920922702891, 4.675920922702891, 4.675920922702891, 4.675920922702891, 4.675920922702891, 4.675920922702891, 4.675920922702891, 4.675920922702891, 4.675920922702891, 4.675920922702891, 4.675920922702891, 4.675920922702891, 4.675920922702891, 4.675920922702891, 4.675920922702891, 4.675920922702891, 4.675920922702891, 4.675920922702891, 4.675920922702891, 4.675920922702891, 4.675920922702891, 4.675920922702891, 4.675920922702891, 4.675920922702891, 4.680663022102068, 4.680663022102068, 4.680663022102068, 4.680663022102068, 4.680663022102068, 4.680663022102068, 4.680663022102068, 4.680663022102068, 4.680663022102068, 4.680663022102068, 4.680663022102068, 4.685405121501245, 4.685405121501245, 4.685405121501245, 4.685405121501245, 4.685405121501245, 4.685405121501245, 4.685405121501245, 4.685405121501245, 4.685405121501245, 4.685405121501245, 4.685405121501245, 4.685405121501245, 4.690147220900422, 4.690147220900422, 4.690147220900422, 4.690147220900422, 4.690147220900422, 4.690147220900422, 4.690147220900422, 4.690147220900422, 4.690147220900422, 4.690147220900422, 4.690147220900422, 4.694889320299599, 4.694889320299599, 4.694889320299599, 4.694889320299599, 4.694889320299599, 4.694889320299599, 4.694889320299599, 4.694889320299599, 4.694889320299599, 4.694889320299599, 4.694889320299599, 4.694889320299599, 4.699631419698776, 4.699631419698776, 4.699631419698776, 4.704373519097954, 4.704373519097954, 4.704373519097954, 4.704373519097954, 4.704373519097954, 4.7091156184971315, 4.7091156184971315, 4.7091156184971315, 4.7091156184971315, 4.7091156184971315, 4.7091156184971315, 4.7091156184971315, 4.7091156184971315, 4.713857717896309, 4.713857717896309, 4.713857717896309, 4.713857717896309, 4.713857717896309, 4.713857717896309, 4.713857717896309, 4.713857717896309, 4.713857717896309, 4.713857717896309, 4.718599817295486, 4.718599817295486, 4.718599817295486, 4.718599817295486, 4.718599817295486, 4.718599817295486, 4.718599817295486, 4.718599817295486, 4.723341916694663, 4.723341916694663, 4.723341916694663, 4.723341916694663, 4.723341916694663, 4.72808401609384, 4.732826115493017, 4.732826115493017, 4.732826115493017, 4.732826115493017, 4.732826115493017, 4.732826115493017, 4.732826115493017, 4.732826115493017, 4.732826115493017, 4.732826115493017, 4.737568214892194, 4.737568214892194, 4.742310314291371, 4.742310314291371, 4.742310314291371, 4.742310314291371, 4.742310314291371, 4.742310314291371, 4.742310314291371, 4.7470524136905485, 4.751794513089726, 4.751794513089726, 4.751794513089726, 4.751794513089726, 4.756536612488903, 4.756536612488903, 4.76127871188808, 4.76127871188808, 4.76127871188808, 4.76127871188808, 4.766020811287257, 4.766020811287257, 4.766020811287257, 4.766020811287257, 4.770762910686435, 4.770762910686435, 4.775505010085612, 4.775505010085612, 4.780247109484789, 4.780247109484789, 4.7849892088839665, 4.7849892088839665, 4.789731308283144, 4.789731308283144, 4.799215507081498, 4.799215507081498, 4.799215507081498, 4.803957606480675, 4.803957606480675, 4.808699705879852, 4.808699705879852, 4.813441805279029, 4.822926004077384, 4.822926004077384, 4.822926004077384, 4.822926004077384, 4.822926004077384, 4.827668103476561, 4.827668103476561, 4.832410202875739, 4.832410202875739, 4.837152302274916, 4.860862799270802, 4.860862799270802, 4.865604898669979, 4.870346998069156, 4.875089097468333, 4.875089097468333, 4.875089097468333, 4.87983119686751, 4.884573296266687, 4.8987995944642195, 4.903541693863397, 4.908283793262574, 4.908283793262574, 4.908283793262574, 4.913025892661751, 4.913025892661751, 4.922510091460105, 4.927252190859282, 4.9319942902584595, 4.936736389657637, 4.936736389657637, 4.936736389657637, 4.941478489056814, 4.941478489056814, 4.941478489056814, 4.955704787254345, 4.960446886653523, 4.984157383649409, 4.993641582447763, 4.99838368184694, 4.99838368184694, 5.012609980044472, 5.022094178842826, 5.064773073435421, 5.088483570431308, 5.11693616682637, 5.121678266225548, 5.121678266225548, 5.1928097572132055, 5.207036055410737, 5.221262353608269, 5.325588540390167, 5.4204305283737115, 5.458367323567129, 5.463109422966306, 5.505788317558901, 5.738151188118584], \"yaxis\": \"y\"}],\n",
       "                        {\"coloraxis\": {\"colorbar\": {\"title\": {\"text\": \"E_grade\"}}, \"colorscale\": [[0.0, \"#0d0887\"], [0.1111111111111111, \"#46039f\"], [0.2222222222222222, \"#7201a8\"], [0.3333333333333333, \"#9c179e\"], [0.4444444444444444, \"#bd3786\"], [0.5555555555555556, \"#d8576b\"], [0.6666666666666666, \"#ed7953\"], [0.7777777777777778, \"#fb9f3a\"], [0.8888888888888888, \"#fdca26\"], [1.0, \"#f0f921\"]]}, \"legend\": {\"tracegroupgap\": 0}, \"margin\": {\"t\": 60}, \"template\": {\"data\": {\"bar\": [{\"error_x\": {\"color\": \"#2a3f5f\"}, \"error_y\": {\"color\": \"#2a3f5f\"}, \"marker\": {\"line\": {\"color\": \"#E5ECF6\", \"width\": 0.5}}, \"type\": \"bar\"}], \"barpolar\": [{\"marker\": {\"line\": {\"color\": \"#E5ECF6\", \"width\": 0.5}}, \"type\": \"barpolar\"}], \"carpet\": [{\"aaxis\": {\"endlinecolor\": \"#2a3f5f\", \"gridcolor\": \"white\", \"linecolor\": \"white\", \"minorgridcolor\": \"white\", \"startlinecolor\": \"#2a3f5f\"}, \"baxis\": {\"endlinecolor\": \"#2a3f5f\", \"gridcolor\": \"white\", \"linecolor\": \"white\", \"minorgridcolor\": \"white\", \"startlinecolor\": \"#2a3f5f\"}, \"type\": \"carpet\"}], \"choropleth\": [{\"colorbar\": {\"outlinewidth\": 0, \"ticks\": \"\"}, \"type\": \"choropleth\"}], \"contour\": [{\"colorbar\": {\"outlinewidth\": 0, \"ticks\": \"\"}, \"colorscale\": [[0.0, \"#0d0887\"], [0.1111111111111111, \"#46039f\"], [0.2222222222222222, \"#7201a8\"], [0.3333333333333333, \"#9c179e\"], [0.4444444444444444, \"#bd3786\"], [0.5555555555555556, \"#d8576b\"], [0.6666666666666666, \"#ed7953\"], [0.7777777777777778, \"#fb9f3a\"], [0.8888888888888888, \"#fdca26\"], [1.0, \"#f0f921\"]], \"type\": \"contour\"}], \"contourcarpet\": [{\"colorbar\": {\"outlinewidth\": 0, \"ticks\": \"\"}, \"type\": \"contourcarpet\"}], \"heatmap\": [{\"colorbar\": {\"outlinewidth\": 0, \"ticks\": \"\"}, \"colorscale\": [[0.0, \"#0d0887\"], [0.1111111111111111, \"#46039f\"], [0.2222222222222222, \"#7201a8\"], [0.3333333333333333, \"#9c179e\"], [0.4444444444444444, \"#bd3786\"], [0.5555555555555556, \"#d8576b\"], [0.6666666666666666, \"#ed7953\"], [0.7777777777777778, \"#fb9f3a\"], [0.8888888888888888, \"#fdca26\"], [1.0, \"#f0f921\"]], \"type\": \"heatmap\"}], \"heatmapgl\": [{\"colorbar\": {\"outlinewidth\": 0, \"ticks\": \"\"}, \"colorscale\": [[0.0, \"#0d0887\"], [0.1111111111111111, \"#46039f\"], [0.2222222222222222, \"#7201a8\"], [0.3333333333333333, \"#9c179e\"], [0.4444444444444444, \"#bd3786\"], [0.5555555555555556, \"#d8576b\"], [0.6666666666666666, \"#ed7953\"], [0.7777777777777778, \"#fb9f3a\"], [0.8888888888888888, \"#fdca26\"], [1.0, \"#f0f921\"]], \"type\": \"heatmapgl\"}], \"histogram\": [{\"marker\": {\"colorbar\": {\"outlinewidth\": 0, \"ticks\": \"\"}}, \"type\": \"histogram\"}], \"histogram2d\": [{\"colorbar\": {\"outlinewidth\": 0, \"ticks\": \"\"}, \"colorscale\": [[0.0, \"#0d0887\"], [0.1111111111111111, \"#46039f\"], [0.2222222222222222, \"#7201a8\"], [0.3333333333333333, \"#9c179e\"], [0.4444444444444444, \"#bd3786\"], [0.5555555555555556, \"#d8576b\"], [0.6666666666666666, \"#ed7953\"], [0.7777777777777778, \"#fb9f3a\"], [0.8888888888888888, \"#fdca26\"], [1.0, \"#f0f921\"]], \"type\": \"histogram2d\"}], \"histogram2dcontour\": [{\"colorbar\": {\"outlinewidth\": 0, \"ticks\": \"\"}, \"colorscale\": [[0.0, \"#0d0887\"], [0.1111111111111111, \"#46039f\"], [0.2222222222222222, \"#7201a8\"], [0.3333333333333333, \"#9c179e\"], [0.4444444444444444, \"#bd3786\"], [0.5555555555555556, \"#d8576b\"], [0.6666666666666666, \"#ed7953\"], [0.7777777777777778, \"#fb9f3a\"], [0.8888888888888888, \"#fdca26\"], [1.0, \"#f0f921\"]], \"type\": \"histogram2dcontour\"}], \"mesh3d\": [{\"colorbar\": {\"outlinewidth\": 0, \"ticks\": \"\"}, \"type\": \"mesh3d\"}], \"parcoords\": [{\"line\": {\"colorbar\": {\"outlinewidth\": 0, \"ticks\": \"\"}}, \"type\": \"parcoords\"}], \"pie\": [{\"automargin\": true, \"type\": \"pie\"}], \"scatter\": [{\"marker\": {\"colorbar\": {\"outlinewidth\": 0, \"ticks\": \"\"}}, \"type\": \"scatter\"}], \"scatter3d\": [{\"line\": {\"colorbar\": {\"outlinewidth\": 0, \"ticks\": \"\"}}, \"marker\": {\"colorbar\": {\"outlinewidth\": 0, \"ticks\": \"\"}}, \"type\": \"scatter3d\"}], \"scattercarpet\": [{\"marker\": {\"colorbar\": {\"outlinewidth\": 0, \"ticks\": \"\"}}, \"type\": \"scattercarpet\"}], \"scattergeo\": [{\"marker\": {\"colorbar\": {\"outlinewidth\": 0, \"ticks\": \"\"}}, \"type\": \"scattergeo\"}], \"scattergl\": [{\"marker\": {\"colorbar\": {\"outlinewidth\": 0, \"ticks\": \"\"}}, \"type\": \"scattergl\"}], \"scattermapbox\": [{\"marker\": {\"colorbar\": {\"outlinewidth\": 0, \"ticks\": \"\"}}, \"type\": \"scattermapbox\"}], \"scatterpolar\": [{\"marker\": {\"colorbar\": {\"outlinewidth\": 0, \"ticks\": \"\"}}, \"type\": \"scatterpolar\"}], \"scatterpolargl\": [{\"marker\": {\"colorbar\": {\"outlinewidth\": 0, \"ticks\": \"\"}}, \"type\": \"scatterpolargl\"}], \"scatterternary\": [{\"marker\": {\"colorbar\": {\"outlinewidth\": 0, \"ticks\": \"\"}}, \"type\": \"scatterternary\"}], \"surface\": [{\"colorbar\": {\"outlinewidth\": 0, \"ticks\": \"\"}, \"colorscale\": [[0.0, \"#0d0887\"], [0.1111111111111111, \"#46039f\"], [0.2222222222222222, \"#7201a8\"], [0.3333333333333333, \"#9c179e\"], [0.4444444444444444, \"#bd3786\"], [0.5555555555555556, \"#d8576b\"], [0.6666666666666666, \"#ed7953\"], [0.7777777777777778, \"#fb9f3a\"], [0.8888888888888888, \"#fdca26\"], [1.0, \"#f0f921\"]], \"type\": \"surface\"}], \"table\": [{\"cells\": {\"fill\": {\"color\": \"#EBF0F8\"}, \"line\": {\"color\": \"white\"}}, \"header\": {\"fill\": {\"color\": \"#C8D4E3\"}, \"line\": {\"color\": \"white\"}}, \"type\": \"table\"}]}, \"layout\": {\"annotationdefaults\": {\"arrowcolor\": \"#2a3f5f\", \"arrowhead\": 0, \"arrowwidth\": 1}, \"coloraxis\": {\"colorbar\": {\"outlinewidth\": 0, \"ticks\": \"\"}}, \"colorscale\": {\"diverging\": [[0, \"#8e0152\"], [0.1, \"#c51b7d\"], [0.2, \"#de77ae\"], [0.3, \"#f1b6da\"], [0.4, \"#fde0ef\"], [0.5, \"#f7f7f7\"], [0.6, \"#e6f5d0\"], [0.7, \"#b8e186\"], [0.8, \"#7fbc41\"], [0.9, \"#4d9221\"], [1, \"#276419\"]], \"sequential\": [[0.0, \"#0d0887\"], [0.1111111111111111, \"#46039f\"], [0.2222222222222222, \"#7201a8\"], [0.3333333333333333, \"#9c179e\"], [0.4444444444444444, \"#bd3786\"], [0.5555555555555556, \"#d8576b\"], [0.6666666666666666, \"#ed7953\"], [0.7777777777777778, \"#fb9f3a\"], [0.8888888888888888, \"#fdca26\"], [1.0, \"#f0f921\"]], \"sequentialminus\": [[0.0, \"#0d0887\"], [0.1111111111111111, \"#46039f\"], [0.2222222222222222, \"#7201a8\"], [0.3333333333333333, \"#9c179e\"], [0.4444444444444444, \"#bd3786\"], [0.5555555555555556, \"#d8576b\"], [0.6666666666666666, \"#ed7953\"], [0.7777777777777778, \"#fb9f3a\"], [0.8888888888888888, \"#fdca26\"], [1.0, \"#f0f921\"]]}, \"colorway\": [\"#636efa\", \"#EF553B\", \"#00cc96\", \"#ab63fa\", \"#FFA15A\", \"#19d3f3\", \"#FF6692\", \"#B6E880\", \"#FF97FF\", \"#FECB52\"], \"font\": {\"color\": \"#2a3f5f\"}, \"geo\": {\"bgcolor\": \"white\", \"lakecolor\": \"white\", \"landcolor\": \"#E5ECF6\", \"showlakes\": true, \"showland\": true, \"subunitcolor\": \"white\"}, \"hoverlabel\": {\"align\": \"left\"}, \"hovermode\": \"closest\", \"mapbox\": {\"style\": \"light\"}, \"paper_bgcolor\": \"white\", \"plot_bgcolor\": \"#E5ECF6\", \"polar\": {\"angularaxis\": {\"gridcolor\": \"white\", \"linecolor\": \"white\", \"ticks\": \"\"}, \"bgcolor\": \"#E5ECF6\", \"radialaxis\": {\"gridcolor\": \"white\", \"linecolor\": \"white\", \"ticks\": \"\"}}, \"scene\": {\"xaxis\": {\"backgroundcolor\": \"#E5ECF6\", \"gridcolor\": \"white\", \"gridwidth\": 2, \"linecolor\": \"white\", \"showbackground\": true, \"ticks\": \"\", \"zerolinecolor\": \"white\"}, \"yaxis\": {\"backgroundcolor\": \"#E5ECF6\", \"gridcolor\": \"white\", \"gridwidth\": 2, \"linecolor\": \"white\", \"showbackground\": true, \"ticks\": \"\", \"zerolinecolor\": \"white\"}, \"zaxis\": {\"backgroundcolor\": \"#E5ECF6\", \"gridcolor\": \"white\", \"gridwidth\": 2, \"linecolor\": \"white\", \"showbackground\": true, \"ticks\": \"\", \"zerolinecolor\": \"white\"}}, \"shapedefaults\": {\"line\": {\"color\": \"#2a3f5f\"}}, \"ternary\": {\"aaxis\": {\"gridcolor\": \"white\", \"linecolor\": \"white\", \"ticks\": \"\"}, \"baxis\": {\"gridcolor\": \"white\", \"linecolor\": \"white\", \"ticks\": \"\"}, \"bgcolor\": \"#E5ECF6\", \"caxis\": {\"gridcolor\": \"white\", \"linecolor\": \"white\", \"ticks\": \"\"}}, \"title\": {\"x\": 0.05}, \"xaxis\": {\"automargin\": true, \"gridcolor\": \"white\", \"linecolor\": \"white\", \"ticks\": \"\", \"title\": {\"standoff\": 15}, \"zerolinecolor\": \"white\", \"zerolinewidth\": 2}, \"yaxis\": {\"automargin\": true, \"gridcolor\": \"white\", \"linecolor\": \"white\", \"ticks\": \"\", \"title\": {\"standoff\": 15}, \"zerolinecolor\": \"white\", \"zerolinewidth\": 2}}}, \"xaxis\": {\"anchor\": \"y\", \"domain\": [0.0, 1.0], \"title\": {\"text\": \"n_feedback_requests\"}}, \"yaxis\": {\"anchor\": \"x\", \"domain\": [0.0, 1.0], \"title\": {\"text\": \"E_grade\"}}},\n",
       "                        {\"responsive\": true}\n",
       "                    ).then(function(){\n",
       "                            \n",
       "var gd = document.getElementById('46e65772-161f-430c-a7d7-0360b0a58dc0');\n",
       "var x = new MutationObserver(function (mutations, observer) {{\n",
       "        var display = window.getComputedStyle(gd).display;\n",
       "        if (!display || display === 'none') {{\n",
       "            console.log([gd, 'removed!']);\n",
       "            Plotly.purge(gd);\n",
       "            observer.disconnect();\n",
       "        }}\n",
       "}});\n",
       "\n",
       "// Listen for the removal of the full notebook cells\n",
       "var notebookContainer = gd.closest('#notebook-container');\n",
       "if (notebookContainer) {{\n",
       "    x.observe(notebookContainer, {childList: true});\n",
       "}}\n",
       "\n",
       "// Listen for the clearing of the current output cell\n",
       "var outputEl = gd.closest('.output');\n",
       "if (outputEl) {{\n",
       "    x.observe(outputEl, {childList: true});\n",
       "}}\n",
       "\n",
       "                        })\n",
       "                };\n",
       "                });\n",
       "            </script>\n",
       "        </div>"
      ]
     },
     "metadata": {},
     "output_type": "display_data"
    }
   ],
   "source": [
    "students.plot.scatter(x=\"n_feedback_requests\",y=\"E_grade\",color='E_grade',trendline=\"ols\")"
   ]
  },
  {
   "cell_type": "code",
   "execution_count": null,
   "metadata": {},
   "outputs": [],
   "source": []
  },
  {
   "cell_type": "code",
   "execution_count": null,
   "metadata": {},
   "outputs": [],
   "source": [
    "\n",
    "\n",
    "\n",
    "\n",
    "\n",
    "\n",
    "\n",
    "\n",
    "\n",
    "\n",
    "\n",
    "\n",
    "\n",
    "\n",
    "\n",
    "\n",
    "\n",
    "\n",
    "\n",
    "\n",
    "\n",
    "\n",
    "\n",
    "\n",
    "\n",
    "\n",
    "\n",
    "\n",
    "\n",
    "\n",
    "\n"
   ]
  }
 ],
 "metadata": {
  "kernelspec": {
   "display_name": "EPFL dualt",
   "language": "python",
   "name": "dualt"
  },
  "language_info": {
   "codemirror_mode": {
    "name": "ipython",
    "version": 3
   },
   "file_extension": ".py",
   "mimetype": "text/x-python",
   "name": "python",
   "nbconvert_exporter": "python",
   "pygments_lexer": "ipython3",
   "version": "3.6.10"
  }
 },
 "nbformat": 4,
 "nbformat_minor": 4
}
