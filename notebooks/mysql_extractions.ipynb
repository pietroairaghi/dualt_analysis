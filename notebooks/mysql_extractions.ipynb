{
 "cells": [
  {
   "cell_type": "code",
   "execution_count": 1,
   "metadata": {},
   "outputs": [],
   "source": [
    "import mysql.connector\n",
    "from mysql.connector import errorcode\n",
    "import pandas as pd\n",
    "import numpy as np\n",
    "\n",
    "config = {\n",
    "  'user': 'root',\n",
    "  'password': '',\n",
    "  'host': 'localhost',\n",
    "  'database': 'dualt_ticino',\n",
    "  'raise_on_warnings': True\n",
    "}\n",
    "\n",
    "try:\n",
    "    cnx = mysql.connector.connect(**config)\n",
    "except mysql.connector.Error as err:\n",
    "    if err.errno == errorcode.ER_ACCESS_DENIED_ERROR:\n",
    "        print(\"Something is wrong with your user name or password\")\n",
    "    elif err.errno == errorcode.ER_BAD_DB_ERROR:\n",
    "        print(\"Database does not exist\")\n",
    "    else:\n",
    "        print(err)\n",
    "\n",
    "import mysql.connector\n",
    "\n",
    "data_folder = \"../data/\"\n",
    "\n",
    "\n",
    "def fetch_table_data(table_name):\n",
    "    \n",
    "    cursor = cnx.cursor()\n",
    "    cursor.execute('select * from ' + table_name)\n",
    "\n",
    "    header = [row[0] for row in cursor.description]\n",
    "\n",
    "    rows = cursor.fetchall()\n",
    "\n",
    "    # Closing connection\n",
    "    cnx.close()\n",
    "\n",
    "    return header, rows\n",
    "\n",
    "\n",
    "def export(table_name):\n",
    "    header, rows = fetch_table_data(table_name)\n",
    "\n",
    "    # Create csv file\n",
    "    f = open(table_name + '.csv', 'w')\n",
    "\n",
    "    # Write header\n",
    "    f.write(','.join(header) + '\\n')\n",
    "\n",
    "    for row in rows:\n",
    "        f.write(','.join(str(r) for r in row) + '\\n')\n",
    "\n",
    "    f.close()\n",
    "    print(str(len(rows)) + ' rows written successfully to ' + f.name)\n",
    "\n",
    "\n",
    "# Tables to be exported\n",
    "#export('TABLE_1')\n",
    "#export('TABLE_2')"
   ]
  },
  {
   "cell_type": "code",
   "execution_count": 4,
   "metadata": {},
   "outputs": [
    {
     "name": "stdout",
     "output_type": "stream",
     "text": [
      "SELECT no_idObject as ac_activity, no_sender, no_recipient, no_type, no_timestamp, no_isRead, au_evaluation, tr.ar_evaluation FROM notifications AS n RIGHT JOIN activities_users ON n.no_idObject = activities_users.ac_activity RIGHT JOIN users ON activities_users.us_user = users.us_user RIGHT JOIN activities_responsables AS tr ON tr.ac_activity = n.no_idObject WHERE no_type = 'feedback response' OR no_type='feedback request' ORDER BY no_timestamp ASC \n"
     ]
    },
    {
     "data": {
      "text/plain": [
       "True"
      ]
     },
     "execution_count": 4,
     "metadata": {},
     "output_type": "execute_result"
    }
   ],
   "source": [
    "cursor = cnx.cursor()\n",
    "\n",
    "query = (\"SELECT no_idObject as ac_activity, no_sender, no_recipient, \"\n",
    "             \"no_type, no_timestamp, no_isRead, au_evaluation, tr.ar_evaluation \"\n",
    "         \"FROM notifications AS n \"\n",
    "             \"RIGHT JOIN activities_users ON n.no_idObject = activities_users.ac_activity \"\n",
    "             \"RIGHT JOIN users ON activities_users.us_user = users.us_user \"\n",
    "             \"RIGHT JOIN activities_responsables AS tr ON tr.ac_activity = n.no_idObject \"\n",
    "         \"WHERE no_type = 'feedback response' OR no_type='feedback request' \"\n",
    "         \"ORDER BY no_timestamp ASC \"\n",
    "        )\n",
    "\n",
    "cursor.execute(query)\n",
    "\n",
    "activities = {}\n",
    "for (ac_activity, no_sender, no_recipient, no_type, no_timestamp, no_isRead, au_evaluation, ar_evaluation) in cursor:\n",
    "    ac_activity = int(ac_activity)\n",
    "    if not activities.get(ac_activity):\n",
    "        activities[ac_activity] = {\n",
    "            'requests':[],\n",
    "            'responses':[], \n",
    "            'edits': [],\n",
    "            'sender':None,\n",
    "            'recipient':None,\n",
    "            'supervisor_grade':None,\n",
    "            'student_grade':None\n",
    "        }\n",
    "    \n",
    "    action = 'responses'\n",
    "    recipient = no_sender\n",
    "    sender = no_recipient\n",
    "    if no_type == 'feedback request':\n",
    "        action = 'requests'\n",
    "        recipient = no_recipient\n",
    "        sender = no_sender\n",
    "        \n",
    "    activities[ac_activity]['sender'] = sender\n",
    "    activities[ac_activity]['recipient'] = recipient\n",
    "    activities[ac_activity]['student_grade'] = au_evaluation\n",
    "    activities[ac_activity]['supervisor_grade'] = ar_evaluation\n",
    "        \n",
    "    activities[ac_activity][action].append(no_timestamp)\n",
    "\n",
    "cursor.close()"
   ]
  },
  {
   "cell_type": "code",
   "execution_count": 6,
   "metadata": {},
   "outputs": [
    {
     "data": {
      "text/plain": [
       "True"
      ]
     },
     "execution_count": 6,
     "metadata": {},
     "output_type": "execute_result"
    }
   ],
   "source": [
    "cursor = cnx.cursor()\n",
    "\n",
    "query = (\"\"\"\n",
    "        SELECT ac_activity, data \n",
    "        FROM LOG_activities \n",
    "         WHERE operazione='U'\n",
    "         \"\"\")\n",
    "\n",
    "cursor.execute(query)\n",
    "\n",
    "for (ac_activity, data) in cursor:\n",
    "    if not activities.get(ac_activity):\n",
    "        continue\n",
    "        \n",
    "    activities[ac_activity]['edits'].append(data)\n",
    "\n",
    "cursor.close()"
   ]
  },
  {
   "cell_type": "code",
   "execution_count": 8,
   "metadata": {},
   "outputs": [],
   "source": [
    "activities_feedbacks_info = []\n",
    "for activity,v in activities.items():\n",
    "    requests    = v['requests']\n",
    "    responses   = v['responses']\n",
    "    edits       = v['edits']\n",
    "    sender      = v['sender']\n",
    "    recipient   = v['recipient']\n",
    "    student_grade    = v['student_grade']\n",
    "    supervisor_grade = v['supervisor_grade']\n",
    "    end_date  = None\n",
    "    no_end    = False\n",
    "    \n",
    "    for request_date in requests:\n",
    "        start_date = request_date\n",
    "        if no_end or (end_date and request_date < end_date):\n",
    "            continue\n",
    "        end_date = None\n",
    "        no_end   = True\n",
    "        for response_date in responses:\n",
    "            if response_date < request_date:\n",
    "                continue\n",
    "            no_end   = False\n",
    "            end_date = response_date\n",
    "            break\n",
    "        \n",
    "        request_times = 1\n",
    "        for _request_date in requests:\n",
    "            if _request_date > start_date and (no_end or _request_date < end_date):\n",
    "                request_times+=1\n",
    "                \n",
    "        delay_hours = None\n",
    "        if end_date:\n",
    "            delay_hours = round((end_date-start_date).total_seconds()/60/60)\n",
    "            \n",
    "        edits_between = 0\n",
    "        edits_after   = 0\n",
    "        if end_date:\n",
    "            next_response_date = None\n",
    "            \n",
    "            for response_date in responses:\n",
    "                if response_date <= end_date:\n",
    "                    continue\n",
    "                next_response_date = response_date\n",
    "                break\n",
    "            \n",
    "            \n",
    "            for edit_date in edits:\n",
    "                if edit_date > start_date and edit_date < end_date:\n",
    "                    edits_between += 1\n",
    "                if edit_date > end_date and (not next_response_date or edit_date < next_response_date):\n",
    "                    edits_after += 1\n",
    "                \n",
    "            \n",
    "        activity_info = {\n",
    "                         'ac_activity':activity, 'sender': sender, 'recipient': recipient,\n",
    "                         'request_date':start_date,'response_date':end_date, 'delay_hours':delay_hours,\n",
    "                         'times_before_answer':request_times,\n",
    "                         'edits_between': edits_between, 'edits_after': edits_after,\n",
    "                         'student_grade': student_grade, 'supervisor_grade':supervisor_grade\n",
    "                        }\n",
    "        \n",
    "        activities_feedbacks_info.append(activity_info)"
   ]
  },
  {
   "cell_type": "code",
   "execution_count": 10,
   "metadata": {},
   "outputs": [
    {
     "name": "stdout",
     "output_type": "stream",
     "text": [
      "1051: Unknown table 'dualt_ticino.activities_feedbacks_info'\n"
     ]
    }
   ],
   "source": [
    "cursor = cnx.cursor()\n",
    "\n",
    "try:\n",
    "    cursor.execute(\"DROP TABLE IF EXISTS activities_feedbacks_info; \");\n",
    "except Exception as e:\n",
    "    print(e)\n",
    "\n",
    "query = (\n",
    "         \"CREATE TABLE activities_feedbacks_info \"\n",
    "         \"     ( ac_activity INT(11) NOT NULL , \"\n",
    "         \"       sender INT(11) NOT NULL , \"\n",
    "         \"       recipient INT(11) NOT NULL , \"\n",
    "         \"       request_date TIMESTAMP NOT NULL , \"\n",
    "         \"       response_date TIMESTAMP NULL DEFAULT NULL , \"\n",
    "         \"       delay_hours INT(5) NULL DEFAULT NULL , \"\n",
    "         \"       edits_between INT(3) NULL DEFAULT NULL , \"\n",
    "         \"       edits_after INT(3) NULL DEFAULT NULL , \"\n",
    "         \"       times_before_answer INT(3) NOT NULL DEFAULT '1', \"\n",
    "         \"       student_grade DECIMAL(3,2) NULL DEFAULT NULL , \" \n",
    "         \"       supervisor_grade DECIMAL(3,2) NULL DEFAULT NULL , \" \n",
    "         \"INDEX (ac_activity)) ENGINE = InnoDB;\"\n",
    "        )\n",
    "\n",
    "cursor.execute(query);"
   ]
  },
  {
   "cell_type": "code",
   "execution_count": 11,
   "metadata": {},
   "outputs": [
    {
     "data": {
      "text/plain": [
       "True"
      ]
     },
     "execution_count": 11,
     "metadata": {},
     "output_type": "execute_result"
    }
   ],
   "source": [
    "cursor.executemany(\"\"\"\n",
    "    INSERT INTO activities_feedbacks_info \n",
    "        (ac_activity, sender, recipient, \n",
    "            request_date, response_date, \n",
    "            delay_hours, edits_between, \n",
    "            edits_after, times_before_answer,\n",
    "            student_grade, supervisor_grade\n",
    "        )\n",
    "    VALUES (\n",
    "        %(ac_activity)s, %(sender)s, %(recipient)s, \n",
    "        %(request_date)s, %(response_date)s, %(delay_hours)s, \n",
    "        %(edits_between)s, %(edits_after)s, %(times_before_answer)s,\n",
    "        %(student_grade)s, %(supervisor_grade)s)\"\"\", activities_feedbacks_info)\n",
    "\n",
    "cursor.close()"
   ]
  },
  {
   "cell_type": "code",
   "execution_count": 12,
   "metadata": {},
   "outputs": [],
   "source": [
    "cnx.commit() "
   ]
  },
  {
   "cell_type": "code",
   "execution_count": 13,
   "metadata": {},
   "outputs": [],
   "source": [
    "query = (\"SELECT info.*, a.activity_school_year, a.start_year \"\n",
    "         \"FROM activities_feedbacks_info AS info \"\n",
    "         \"NATURAL JOIN activities_users \"\n",
    "         \"NATURAL LEFT JOIN V_all_activities_users AS a \"\n",
    "         \"ORDER BY info.request_date\"\n",
    "        )\n",
    "results = pd.read_sql_query(query, cnx)"
   ]
  },
  {
   "cell_type": "code",
   "execution_count": 14,
   "metadata": {},
   "outputs": [],
   "source": [
    "results.to_csv(f\"{data_folder}activities_feedbacks_info.csv\", index=False)"
   ]
  },
  {
   "cell_type": "code",
   "execution_count": null,
   "metadata": {},
   "outputs": [],
   "source": []
  },
  {
   "cell_type": "code",
   "execution_count": 21,
   "metadata": {},
   "outputs": [],
   "source": [
    "query = (\"SELECT t1.*,t2.sent FROM \"\n",
    "         \"(SELECT no_recipient AS us_user, COUNT(*) AS received FROM `notifications` WHERE no_type = 'feedback request' GROUP BY no_recipient) AS t1 \"\n",
    "         \"NATURAL LEFT JOIN (SELECT no_sender AS us_user,COUNT(*) AS sent FROM notifications WHERE no_type = 'feedback response' GROUP BY no_sender) AS t2 \"\n",
    "         \"NATURAL JOIN users_userTypes \"\n",
    "         \"WHERE ut_user_type = 'formatore'\"\n",
    "        )\n",
    "results = pd.read_sql_query(query, cnx)\n",
    "results.to_csv(f\"{data_folder}supervisors_feedbacks.csv\", index=False)"
   ]
  },
  {
   "cell_type": "code",
   "execution_count": null,
   "metadata": {},
   "outputs": [],
   "source": []
  },
  {
   "cell_type": "code",
   "execution_count": 75,
   "metadata": {},
   "outputs": [],
   "source": [
    "query = (\"\"\"SELECT month, activity_school_year, start_year, n_activities, n_recipes, n_experiences,\n",
    "                ROUND(AVG(n_user_activities),2) AS avg_n_user_activities,\n",
    "                ROUND(AVG(n_user_recipes),2) AS avg_n_user_recipes,\n",
    "                ROUND(AVG(n_user_experiences),2) AS avg_n_user_experiences\n",
    "\n",
    "            FROM (SELECT MONTH(ac_date) AS month, activity_school_year, start_year, us_user, COUNT(*) AS n_user_activities, \n",
    "                        SUM(at_activityType = 'recipe') AS n_user_recipes, \n",
    "                        SUM(at_activityType = 'experience') AS n_user_experiences \n",
    "                    FROM activities_users_school_year\n",
    "                    GROUP BY us_user, MONTH(ac_date), activity_school_year, start_year) AS activities_per_user\n",
    "            NATURAL LEFT JOIN (\n",
    "                SELECT MONTH(ac_date) AS month, activity_school_year, start_year, COUNT(*) AS n_activities, \n",
    "                    SUM(at_activityType = 'recipe') AS n_recipes, \n",
    "                    SUM(at_activityType = 'experience') AS n_experiences \n",
    "                FROM activities_users_school_year\n",
    "                GROUP BY MONTH(ac_date), activity_school_year, start_year\n",
    "            ) AS n_act\n",
    "            WHERE activity_school_year <= 3\n",
    "            GROUP BY month, activity_school_year, start_year\n",
    "\"\"\")\n",
    "results = pd.read_sql_query(query, cnx)"
   ]
  },
  {
   "cell_type": "code",
   "execution_count": 76,
   "metadata": {},
   "outputs": [],
   "source": [
    "results.to_csv(f\"{data_folder}years_test.csv\", index=False)"
   ]
  },
  {
   "cell_type": "code",
   "execution_count": null,
   "metadata": {},
   "outputs": [],
   "source": []
  },
  {
   "cell_type": "code",
   "execution_count": null,
   "metadata": {},
   "outputs": [],
   "source": []
  },
  {
   "cell_type": "code",
   "execution_count": 77,
   "metadata": {},
   "outputs": [],
   "source": [
    "cnx.close()"
   ]
  },
  {
   "cell_type": "code",
   "execution_count": null,
   "metadata": {},
   "outputs": [],
   "source": []
  },
  {
   "cell_type": "code",
   "execution_count": null,
   "metadata": {},
   "outputs": [],
   "source": []
  },
  {
   "cell_type": "code",
   "execution_count": null,
   "metadata": {},
   "outputs": [],
   "source": []
  },
  {
   "cell_type": "code",
   "execution_count": null,
   "metadata": {},
   "outputs": [],
   "source": []
  },
  {
   "cell_type": "code",
   "execution_count": null,
   "metadata": {},
   "outputs": [],
   "source": []
  },
  {
   "cell_type": "code",
   "execution_count": null,
   "metadata": {},
   "outputs": [],
   "source": []
  },
  {
   "cell_type": "code",
   "execution_count": null,
   "metadata": {},
   "outputs": [],
   "source": []
  }
 ],
 "metadata": {
  "kernelspec": {
   "display_name": "EPFL dualt",
   "language": "python",
   "name": "dualt"
  },
  "language_info": {
   "codemirror_mode": {
    "name": "ipython",
    "version": 3
   },
   "file_extension": ".py",
   "mimetype": "text/x-python",
   "name": "python",
   "nbconvert_exporter": "python",
   "pygments_lexer": "ipython3",
   "version": "3.6.10"
  }
 },
 "nbformat": 4,
 "nbformat_minor": 4
}
