{
 "cells": [
  {
   "cell_type": "code",
   "execution_count": 1,
   "metadata": {},
   "outputs": [],
   "source": [
    "import pandas as pd\n",
    "import numpy as np\n",
    "import matplotlib.pyplot as plt\n",
    "import seaborn as sns\n",
    "from am4chart import *"
   ]
  },
  {
   "cell_type": "code",
   "execution_count": 2,
   "metadata": {},
   "outputs": [],
   "source": [
    "def get_loc(df,ix,default=0,cols=None):\n",
    "    try:\n",
    "        if(cols):\n",
    "            return df.loc[ix][cols]\n",
    "        return df.loc[ix]\n",
    "    except TypeError:\n",
    "        return default\n",
    "\n",
    "def normalizePer(df,col,sum_col,group_col,copy_of = None,new_name=None):\n",
    "    if not new_name:\n",
    "        new_name = col\n",
    "    if not copy_of:\n",
    "        copy_of  = col\n",
    "        \n",
    "    df[new_name] = df[copy_of]\n",
    "    \n",
    "    total = df[[group_col,sum_col]].groupby(group_col).sum()\n",
    "    \n",
    "    for xi in total.index:\n",
    "        tot  = total.loc[xi,sum_col]\n",
    "        mask = df_months[group_col]==xi\n",
    "        df.loc[mask,new_name] = df[mask][new_name].divide(tot/100)"
   ]
  },
  {
   "cell_type": "code",
   "execution_count": 3,
   "metadata": {},
   "outputs": [],
   "source": [
    "pd.options.display.max_columns = None\n",
    "pd.options.display.max_rows    = None"
   ]
  },
  {
   "cell_type": "code",
   "execution_count": 4,
   "metadata": {},
   "outputs": [],
   "source": [
    "data_folder = \"../data/\""
   ]
  },
  {
   "cell_type": "code",
   "execution_count": 5,
   "metadata": {},
   "outputs": [
    {
     "data": {
      "text/html": [
       "<script>         \n",
       "        require.config({\n",
       "          paths: {\n",
       "             d3: '//cdnjs.cloudflare.com/ajax/libs/d3/5.15.0/d3.min',\n",
       "             amchart_core: 'http://www.amcharts.com/lib/4/core',\n",
       "             amchart_charts: 'http://www.amcharts.com/lib/4/charts',\n",
       "             'amcharts4/themes/animated': 'http://www.amcharts.com/lib/4/themes/animated',\n",
       "          },\n",
       "          shim: {\n",
       "             amchart_core: {\n",
       "                  init: function () {\n",
       "                      return window.am4core;\n",
       "                  }\n",
       "              },\n",
       "              amchart_charts: {\n",
       "                  deps: ['amchart_core'],\n",
       "                  exports: 'amchart_charts',\n",
       "                  init: function () {\n",
       "                      return window.am4charts;\n",
       "                  }\n",
       "              },\n",
       "              'amcharts4/themes/animated': {\n",
       "                  deps: ['amchart_core'],\n",
       "                  init: function () {\n",
       "                      return window.am4themes_animated;\n",
       "                  }\n",
       "              }\n",
       "          }\n",
       "        });\n",
       "        \n",
       "        \n",
       "        function lineDateCallback(params,canvasID){\n",
       "\n",
       "            return function(am4core,am4charts,am4themes_animated){\n",
       "            \n",
       "                var data   = params['data'];\n",
       "                var series = params['series'];\n",
       "                \n",
       "                \n",
       "                am4core.useTheme(am4themes_animated);\n",
       "\n",
       "                // Create chart instance\n",
       "                var chart = am4core.create(canvasID, am4charts.XYChart);\n",
       "                chart.colors.step = 5;\n",
       "\n",
       "                // Add data\n",
       "                chart.data = data\n",
       "\n",
       "                // Create axes\n",
       "                var dateAxis = chart.xAxes.push(new am4charts.DateAxis());\n",
       "                dateAxis.renderer.grid.template.location = 0;\n",
       "\n",
       "                var valueAxis = chart.yAxes.push(new am4charts.ValueAxis());\n",
       "\n",
       "                chart.scrollbarX = new am4core.Scrollbar();\n",
       "                chart.cursor = new am4charts.XYCursor();\n",
       "\n",
       "                // Create series\n",
       "                function createSeries(field, name) {\n",
       "                    var series = chart.series.push(new am4charts.LineSeries());\n",
       "                    series.dataFields.valueY = field;\n",
       "                    series.dataFields.dateX = \"x\";\n",
       "                    series.name = name;\n",
       "                    series.tooltipText = \"{dateX}: [b]{valueY}[/]\";\n",
       "                    series.strokeWidth = 2;\n",
       "\n",
       "                    var bullet = series.bullets.push(new am4charts.CircleBullet());\n",
       "                    bullet.circle.stroke = am4core.color(\"#fff\");\n",
       "                    bullet.circle.strokeWidth = 2;\n",
       "\n",
       "                    // Add scrollbar\n",
       "                    //chart.scrollbarX.series.push(series);\n",
       "\n",
       "                    // Add cursor\n",
       "                    chart.cursor.xAxis = dateAxis;\n",
       "                    chart.cursor.snapToSeries = series;\n",
       "\n",
       "                    return series;\n",
       "                }\n",
       "\n",
       "                series.forEach(element => createSeries(element, element));\n",
       "\n",
       "                chart.legend = new am4charts.Legend();\n",
       "                chart.cursor = new am4charts.XYCursor();\n",
       "            }\n",
       "\n",
       "        }\n",
       "        \n",
       "        \n",
       "        function columnCallback(params,canvasID){\n",
       "            \n",
       "            return function(am4core, am4charts, am4themes_animated) {\n",
       "                \n",
       "                var legend = params['legend'];\n",
       "                var data   = params['data'];\n",
       "                var series = params['series'];\n",
       "                var cTitle = params['title'];\n",
       "                \n",
       "                if(legend === undefined){\n",
       "                    legend = true;\n",
       "                }\n",
       "                \n",
       "                /* Chart code */\n",
       "                // Themes begin\n",
       "                am4core.useTheme(am4themes_animated);\n",
       "                // Themes end\n",
       "\n",
       "\n",
       "\n",
       "\n",
       "                let chart = am4core.create(canvasID, am4charts.XYChart)\n",
       "                chart.colors.step = 5;\n",
       "                \n",
       "                if(cTitle){\n",
       "                    let title = chart.titles.create();\n",
       "                    title.text = cTitle;\n",
       "                    title.fontSize = 18;\n",
       "                    title.marginBottom = 10;\n",
       "                }\n",
       "                \n",
       "                if(legend){\n",
       "                    chart.legend = new am4charts.Legend()\n",
       "                    chart.legend.position = 'bottom'\n",
       "                    chart.legend.paddingBottom = 20\n",
       "                    chart.legend.maxWidth = undefined;\n",
       "                    chart.legend.valueLabels.template.align = \"center\";\n",
       "                    chart.legend.valueLabels.template.textAlign = \"center\"; \n",
       "                }\n",
       "\n",
       "                let xAxis = chart.xAxes.push(new am4charts.CategoryAxis())\n",
       "                xAxis.dataFields.category = 'x'\n",
       "                xAxis.renderer.cellStartLocation = 0.1\n",
       "                xAxis.renderer.cellEndLocation = 0.9\n",
       "                xAxis.renderer.grid.template.location = 0;\n",
       "                xAxis.renderer.minGridDistance = 1;\n",
       "                \n",
       "                let label = xAxis.renderer.labels.template;\n",
       "                label.wrap = true;\n",
       "                label.maxWidth = 120;\n",
       "\n",
       "                let yAxis = chart.yAxes.push(new am4charts.ValueAxis());\n",
       "                yAxis.min = 0;\n",
       "\n",
       "                function createSeries(value, name,stacked=false) {\n",
       "                    let series = chart.series.push(new am4charts.ColumnSeries())\n",
       "                    series.name = name\n",
       "                    series.dataFields.valueY = value\n",
       "                    series.dataFields.categoryX = 'x'\n",
       "                    \n",
       "                    series.stacked = stacked;\n",
       "                    //series.columns.template.width = am4core.percent(95);\n",
       "                    \n",
       "                    series.columns.template.tooltipText = \"{name}: [bold]{valueY}[/]\";\n",
       "                    series.tooltip.pointerOrientation = \"down\";\n",
       "                    series.columns.template.tooltipY = -3;\n",
       "\n",
       "                    var bullet = false\n",
       "\n",
       "                    if(bullet) {\n",
       "                        let bullet = series.bullets.push(new am4charts.LabelBullet())\n",
       "                        bullet.dy = -10;\n",
       "                        bullet.label.text = '{valueY}'\n",
       "                        bullet.label.truncate = false;\n",
       "                        bullet.label.fill = am4core.color('#000000')\n",
       "                    }                    \n",
       "\n",
       "                    return series;\n",
       "                }\n",
       "\n",
       "                chart.data = data\n",
       "                \n",
       "                Object.keys(series).forEach(function(key, index) {\n",
       "                    createSeries(key, key,this[key])\n",
       "                }, series);\n",
       "            }\n",
       "        \n",
       "        }\n",
       "        \n",
       "        \n",
       "        function pieCallback(params,canvasID) {\n",
       "            return function(am4core, am4charts, am4themes_animated) {\n",
       "                var data = params['data'];\n",
       "                \n",
       "                am4core.useTheme(am4themes_animated);\n",
       "\n",
       "                 // Create chart instance\n",
       "                var chart = am4core.create(canvasID, am4charts.PieChart);\n",
       "\n",
       "                // Add data\n",
       "                chart.data = data;\n",
       "\n",
       "                // Add and configure Series\n",
       "                var pieSeries = chart.series.push(new am4charts.PieSeries());\n",
       "                pieSeries.dataFields.value = \"y\";\n",
       "                pieSeries.dataFields.category = \"x\";\n",
       "\n",
       "                // Add export\n",
       "                chart.exporting.menu = new am4core.ExportMenu();\n",
       "                \n",
       "                \n",
       "            };\n",
       "        }\n",
       "        \n",
       "        \n",
       "        </script>"
      ],
      "text/plain": [
       "<IPython.core.display.HTML object>"
      ]
     },
     "metadata": {},
     "output_type": "display_data"
    }
   ],
   "source": [
    "am4 = Amchart()"
   ]
  },
  {
   "cell_type": "markdown",
   "metadata": {},
   "source": [
    "# INFO:\n",
    "## Raw informations:\n",
    " - Total activities: 33,728\n",
    " - Total users: 1,052\n",
    " - Start year: 2013 (104 users)\n",
    "     - Following years: 2014: 113, 2015: 105, 2016: 103, 2017: 81, 2018: 144, 2019: 155\n",
    "\n",
    "All the data in this notebook are coming from the merge of two DBs in Ticino. This is still not perfect considering some redundancy (to be fixed in the future)\n",
    "\n",
    "[months](http://chili.ineeda.space/data/months.htm),\n",
    "[months_supervisors](http://chili.ineeda.space/data/months_supervisors.htm),\n",
    "[users](http://chili.ineeda.space/data/users.htm),\n",
    "[activities](http://chili.ineeda.space/data/activities.htm)\n",
    "\n",
    "[other notebook](http://chili.ineeda.space/notebooks/preprocess_pipeline.html)"
   ]
  },
  {
   "cell_type": "markdown",
   "metadata": {},
   "source": [
    "# Data Loading and Cleaning"
   ]
  },
  {
   "cell_type": "code",
   "execution_count": 49,
   "metadata": {},
   "outputs": [
    {
     "data": {
      "text/html": [
       "<div>\n",
       "<style scoped>\n",
       "    .dataframe tbody tr th:only-of-type {\n",
       "        vertical-align: middle;\n",
       "    }\n",
       "\n",
       "    .dataframe tbody tr th {\n",
       "        vertical-align: top;\n",
       "    }\n",
       "\n",
       "    .dataframe thead th {\n",
       "        text-align: right;\n",
       "    }\n",
       "</style>\n",
       "<table border=\"1\" class=\"dataframe\">\n",
       "  <thead>\n",
       "    <tr style=\"text-align: right;\">\n",
       "      <th></th>\n",
       "      <th>month</th>\n",
       "      <th>activity_school_year</th>\n",
       "      <th>n_users_per_year</th>\n",
       "      <th>n_logins</th>\n",
       "      <th>n_activities</th>\n",
       "      <th>n_recipes</th>\n",
       "      <th>n_experiences</th>\n",
       "      <th>avg_n_user_activities</th>\n",
       "      <th>avg_n_user_recipes</th>\n",
       "      <th>avg_n_user_experiences</th>\n",
       "      <th>n_files</th>\n",
       "      <th>n_files_recipes</th>\n",
       "      <th>n_files_experiences</th>\n",
       "      <th>avg_n_files</th>\n",
       "      <th>avg_n_files_recipes</th>\n",
       "      <th>avg_n_files_experiences</th>\n",
       "      <th>std_n_files</th>\n",
       "      <th>std_n_files_recipes</th>\n",
       "      <th>std_n_files_experiences</th>\n",
       "      <th>n_feedback_requests</th>\n",
       "      <th>n_feedback_responses</th>\n",
       "      <th>n_feedback_requests_recipes</th>\n",
       "      <th>n_feedback_responses_recipes</th>\n",
       "      <th>n_feedback_requests_experiences</th>\n",
       "      <th>n_feedback_responses_experiences</th>\n",
       "      <th>n_in_curriculum</th>\n",
       "      <th>n_in_curriculum_recipes</th>\n",
       "      <th>n_in_curriculum_experiences</th>\n",
       "      <th>n_in_curriculum_insert_date</th>\n",
       "      <th>n_in_curriculum_insert_date_recipes</th>\n",
       "      <th>n_in_curriculum_insert_date_experiences</th>\n",
       "      <th>avg_activity_total_length</th>\n",
       "      <th>std_activity_total_length</th>\n",
       "      <th>avg_len_descriptions</th>\n",
       "      <th>std_len_descriptions</th>\n",
       "      <th>avg_len_steps</th>\n",
       "      <th>std_len_steps</th>\n",
       "      <th>avg_len_observations</th>\n",
       "      <th>std_len_observations</th>\n",
       "      <th>avg_sum_len_reflections</th>\n",
       "      <th>std_avg_sum_len_reflections</th>\n",
       "      <th>avg_avg_len_reflections</th>\n",
       "      <th>std_avg_len_reflections</th>\n",
       "      <th>avg_len_bilancio</th>\n",
       "      <th>std_len_bilancio</th>\n",
       "      <th>avg_len_competenze</th>\n",
       "      <th>std_len_competenze</th>\n",
       "      <th>avg_len_miglioramenti</th>\n",
       "      <th>std_len_miglioramenti</th>\n",
       "      <th>avg_len_critici</th>\n",
       "      <th>std_len_critici</th>\n",
       "      <th>total_reflections</th>\n",
       "      <th>total_null_reflections</th>\n",
       "      <th>n_edits</th>\n",
       "      <th>perc_total_feedback_requests</th>\n",
       "      <th>perc_total_feedback_requests_recipes</th>\n",
       "      <th>perc_total_feedback_requests_experiences</th>\n",
       "      <th>perc_feedback_responses</th>\n",
       "      <th>perc_feedback_responses_recipes</th>\n",
       "      <th>perc_feedback_responses_experiences</th>\n",
       "      <th>perc_in_curriculum</th>\n",
       "      <th>perc_recipes_in_curriculum</th>\n",
       "      <th>perc_experiences_in_curriculum</th>\n",
       "      <th>perc_in_curriculum_insert_date</th>\n",
       "      <th>perc_recipes_in_curriculum_insert_date</th>\n",
       "      <th>perc_experiences_in_curriculum_insert_date</th>\n",
       "    </tr>\n",
       "  </thead>\n",
       "  <tbody>\n",
       "    <tr>\n",
       "      <th>0</th>\n",
       "      <td>1</td>\n",
       "      <td>1</td>\n",
       "      <td>547</td>\n",
       "      <td>2512</td>\n",
       "      <td>1259.0</td>\n",
       "      <td>947.0</td>\n",
       "      <td>312.0</td>\n",
       "      <td>4.43</td>\n",
       "      <td>3.33</td>\n",
       "      <td>1.10</td>\n",
       "      <td>3437.0</td>\n",
       "      <td>3061.0</td>\n",
       "      <td>376.0</td>\n",
       "      <td>9.0</td>\n",
       "      <td>9.0</td>\n",
       "      <td>1.0</td>\n",
       "      <td>5.5266</td>\n",
       "      <td>6.0612</td>\n",
       "      <td>2.2693</td>\n",
       "      <td>292.0</td>\n",
       "      <td>0.0</td>\n",
       "      <td>225.0</td>\n",
       "      <td>0.0</td>\n",
       "      <td>67.0</td>\n",
       "      <td>0.0</td>\n",
       "      <td>1174.0</td>\n",
       "      <td>909.0</td>\n",
       "      <td>265.0</td>\n",
       "      <td>222.0</td>\n",
       "      <td>169.0</td>\n",
       "      <td>53.0</td>\n",
       "      <td>114.0</td>\n",
       "      <td>88.88</td>\n",
       "      <td>9.0</td>\n",
       "      <td>18.89</td>\n",
       "      <td>96.0</td>\n",
       "      <td>71.90</td>\n",
       "      <td>8.0</td>\n",
       "      <td>15.71</td>\n",
       "      <td>5.59</td>\n",
       "      <td>7.35</td>\n",
       "      <td>3.42</td>\n",
       "      <td>6.15</td>\n",
       "      <td>5.61</td>\n",
       "      <td>10.24</td>\n",
       "      <td>7.91</td>\n",
       "      <td>11.18</td>\n",
       "      <td>4.55</td>\n",
       "      <td>8.32</td>\n",
       "      <td>4.28</td>\n",
       "      <td>9.71</td>\n",
       "      <td>427.0</td>\n",
       "      <td>819.0</td>\n",
       "      <td>8964.0</td>\n",
       "      <td>23.19</td>\n",
       "      <td>23.76</td>\n",
       "      <td>21.47</td>\n",
       "      <td>0.0</td>\n",
       "      <td>0.0</td>\n",
       "      <td>0.0</td>\n",
       "      <td>93.25</td>\n",
       "      <td>72.20</td>\n",
       "      <td>21.05</td>\n",
       "      <td>17.63</td>\n",
       "      <td>13.42</td>\n",
       "      <td>4.21</td>\n",
       "    </tr>\n",
       "    <tr>\n",
       "      <th>1</th>\n",
       "      <td>1</td>\n",
       "      <td>2</td>\n",
       "      <td>376</td>\n",
       "      <td>2012</td>\n",
       "      <td>1093.0</td>\n",
       "      <td>367.0</td>\n",
       "      <td>726.0</td>\n",
       "      <td>5.66</td>\n",
       "      <td>1.90</td>\n",
       "      <td>3.76</td>\n",
       "      <td>1976.0</td>\n",
       "      <td>1379.0</td>\n",
       "      <td>597.0</td>\n",
       "      <td>9.0</td>\n",
       "      <td>6.0</td>\n",
       "      <td>2.0</td>\n",
       "      <td>4.5558</td>\n",
       "      <td>5.4339</td>\n",
       "      <td>4.3932</td>\n",
       "      <td>96.0</td>\n",
       "      <td>0.0</td>\n",
       "      <td>62.0</td>\n",
       "      <td>0.0</td>\n",
       "      <td>34.0</td>\n",
       "      <td>0.0</td>\n",
       "      <td>1023.0</td>\n",
       "      <td>323.0</td>\n",
       "      <td>700.0</td>\n",
       "      <td>74.0</td>\n",
       "      <td>51.0</td>\n",
       "      <td>23.0</td>\n",
       "      <td>149.0</td>\n",
       "      <td>138.80</td>\n",
       "      <td>11.0</td>\n",
       "      <td>32.23</td>\n",
       "      <td>129.0</td>\n",
       "      <td>118.40</td>\n",
       "      <td>6.0</td>\n",
       "      <td>15.28</td>\n",
       "      <td>5.93</td>\n",
       "      <td>8.44</td>\n",
       "      <td>4.42</td>\n",
       "      <td>7.20</td>\n",
       "      <td>3.43</td>\n",
       "      <td>8.46</td>\n",
       "      <td>11.18</td>\n",
       "      <td>17.22</td>\n",
       "      <td>3.66</td>\n",
       "      <td>9.07</td>\n",
       "      <td>5.46</td>\n",
       "      <td>11.25</td>\n",
       "      <td>289.0</td>\n",
       "      <td>795.0</td>\n",
       "      <td>6386.0</td>\n",
       "      <td>8.78</td>\n",
       "      <td>16.89</td>\n",
       "      <td>4.68</td>\n",
       "      <td>0.0</td>\n",
       "      <td>0.0</td>\n",
       "      <td>0.0</td>\n",
       "      <td>93.60</td>\n",
       "      <td>29.55</td>\n",
       "      <td>64.04</td>\n",
       "      <td>6.77</td>\n",
       "      <td>4.67</td>\n",
       "      <td>2.10</td>\n",
       "    </tr>\n",
       "    <tr>\n",
       "      <th>2</th>\n",
       "      <td>1</td>\n",
       "      <td>3</td>\n",
       "      <td>225</td>\n",
       "      <td>1333</td>\n",
       "      <td>805.0</td>\n",
       "      <td>328.0</td>\n",
       "      <td>477.0</td>\n",
       "      <td>7.06</td>\n",
       "      <td>2.88</td>\n",
       "      <td>4.18</td>\n",
       "      <td>596.0</td>\n",
       "      <td>500.0</td>\n",
       "      <td>96.0</td>\n",
       "      <td>11.0</td>\n",
       "      <td>10.0</td>\n",
       "      <td>1.0</td>\n",
       "      <td>7.6447</td>\n",
       "      <td>8.4491</td>\n",
       "      <td>2.8290</td>\n",
       "      <td>43.0</td>\n",
       "      <td>0.0</td>\n",
       "      <td>23.0</td>\n",
       "      <td>0.0</td>\n",
       "      <td>20.0</td>\n",
       "      <td>0.0</td>\n",
       "      <td>682.0</td>\n",
       "      <td>240.0</td>\n",
       "      <td>442.0</td>\n",
       "      <td>1.0</td>\n",
       "      <td>0.0</td>\n",
       "      <td>1.0</td>\n",
       "      <td>145.0</td>\n",
       "      <td>143.14</td>\n",
       "      <td>18.0</td>\n",
       "      <td>43.84</td>\n",
       "      <td>134.0</td>\n",
       "      <td>138.50</td>\n",
       "      <td>3.0</td>\n",
       "      <td>15.33</td>\n",
       "      <td>7.39</td>\n",
       "      <td>8.24</td>\n",
       "      <td>3.87</td>\n",
       "      <td>4.32</td>\n",
       "      <td>8.88</td>\n",
       "      <td>22.76</td>\n",
       "      <td>11.68</td>\n",
       "      <td>10.23</td>\n",
       "      <td>4.95</td>\n",
       "      <td>7.09</td>\n",
       "      <td>4.06</td>\n",
       "      <td>10.96</td>\n",
       "      <td>106.0</td>\n",
       "      <td>690.0</td>\n",
       "      <td>4169.0</td>\n",
       "      <td>5.34</td>\n",
       "      <td>7.01</td>\n",
       "      <td>4.19</td>\n",
       "      <td>0.0</td>\n",
       "      <td>0.0</td>\n",
       "      <td>0.0</td>\n",
       "      <td>84.72</td>\n",
       "      <td>29.81</td>\n",
       "      <td>54.91</td>\n",
       "      <td>0.12</td>\n",
       "      <td>0.00</td>\n",
       "      <td>0.12</td>\n",
       "    </tr>\n",
       "    <tr>\n",
       "      <th>3</th>\n",
       "      <td>2</td>\n",
       "      <td>1</td>\n",
       "      <td>547</td>\n",
       "      <td>3019</td>\n",
       "      <td>1139.0</td>\n",
       "      <td>728.0</td>\n",
       "      <td>411.0</td>\n",
       "      <td>3.64</td>\n",
       "      <td>2.33</td>\n",
       "      <td>1.31</td>\n",
       "      <td>3843.0</td>\n",
       "      <td>3483.0</td>\n",
       "      <td>360.0</td>\n",
       "      <td>11.0</td>\n",
       "      <td>10.0</td>\n",
       "      <td>1.0</td>\n",
       "      <td>6.7857</td>\n",
       "      <td>7.2533</td>\n",
       "      <td>2.2828</td>\n",
       "      <td>249.0</td>\n",
       "      <td>0.0</td>\n",
       "      <td>181.0</td>\n",
       "      <td>0.0</td>\n",
       "      <td>68.0</td>\n",
       "      <td>0.0</td>\n",
       "      <td>1006.0</td>\n",
       "      <td>663.0</td>\n",
       "      <td>343.0</td>\n",
       "      <td>197.0</td>\n",
       "      <td>148.0</td>\n",
       "      <td>49.0</td>\n",
       "      <td>124.0</td>\n",
       "      <td>115.75</td>\n",
       "      <td>9.0</td>\n",
       "      <td>23.87</td>\n",
       "      <td>107.0</td>\n",
       "      <td>97.56</td>\n",
       "      <td>8.0</td>\n",
       "      <td>16.05</td>\n",
       "      <td>6.65</td>\n",
       "      <td>8.11</td>\n",
       "      <td>3.92</td>\n",
       "      <td>6.68</td>\n",
       "      <td>6.18</td>\n",
       "      <td>11.10</td>\n",
       "      <td>10.05</td>\n",
       "      <td>13.65</td>\n",
       "      <td>5.27</td>\n",
       "      <td>9.06</td>\n",
       "      <td>5.09</td>\n",
       "      <td>11.09</td>\n",
       "      <td>396.0</td>\n",
       "      <td>734.0</td>\n",
       "      <td>7554.0</td>\n",
       "      <td>21.86</td>\n",
       "      <td>24.86</td>\n",
       "      <td>16.55</td>\n",
       "      <td>0.0</td>\n",
       "      <td>0.0</td>\n",
       "      <td>0.0</td>\n",
       "      <td>88.32</td>\n",
       "      <td>58.21</td>\n",
       "      <td>30.11</td>\n",
       "      <td>17.30</td>\n",
       "      <td>12.99</td>\n",
       "      <td>4.30</td>\n",
       "    </tr>\n",
       "    <tr>\n",
       "      <th>4</th>\n",
       "      <td>2</td>\n",
       "      <td>2</td>\n",
       "      <td>376</td>\n",
       "      <td>2025</td>\n",
       "      <td>1234.0</td>\n",
       "      <td>334.0</td>\n",
       "      <td>900.0</td>\n",
       "      <td>6.63</td>\n",
       "      <td>1.80</td>\n",
       "      <td>4.84</td>\n",
       "      <td>2134.0</td>\n",
       "      <td>1285.0</td>\n",
       "      <td>849.0</td>\n",
       "      <td>10.0</td>\n",
       "      <td>7.0</td>\n",
       "      <td>3.0</td>\n",
       "      <td>7.8019</td>\n",
       "      <td>8.3508</td>\n",
       "      <td>5.7190</td>\n",
       "      <td>87.0</td>\n",
       "      <td>0.0</td>\n",
       "      <td>37.0</td>\n",
       "      <td>0.0</td>\n",
       "      <td>50.0</td>\n",
       "      <td>0.0</td>\n",
       "      <td>1158.0</td>\n",
       "      <td>299.0</td>\n",
       "      <td>859.0</td>\n",
       "      <td>145.0</td>\n",
       "      <td>36.0</td>\n",
       "      <td>109.0</td>\n",
       "      <td>140.0</td>\n",
       "      <td>135.08</td>\n",
       "      <td>7.0</td>\n",
       "      <td>32.46</td>\n",
       "      <td>128.0</td>\n",
       "      <td>119.78</td>\n",
       "      <td>5.0</td>\n",
       "      <td>13.92</td>\n",
       "      <td>4.14</td>\n",
       "      <td>6.43</td>\n",
       "      <td>3.33</td>\n",
       "      <td>5.87</td>\n",
       "      <td>3.77</td>\n",
       "      <td>7.43</td>\n",
       "      <td>6.68</td>\n",
       "      <td>14.41</td>\n",
       "      <td>3.26</td>\n",
       "      <td>6.54</td>\n",
       "      <td>2.86</td>\n",
       "      <td>7.16</td>\n",
       "      <td>239.0</td>\n",
       "      <td>984.0</td>\n",
       "      <td>7422.0</td>\n",
       "      <td>7.05</td>\n",
       "      <td>11.08</td>\n",
       "      <td>5.56</td>\n",
       "      <td>0.0</td>\n",
       "      <td>0.0</td>\n",
       "      <td>0.0</td>\n",
       "      <td>93.84</td>\n",
       "      <td>24.23</td>\n",
       "      <td>69.61</td>\n",
       "      <td>11.75</td>\n",
       "      <td>2.92</td>\n",
       "      <td>8.83</td>\n",
       "    </tr>\n",
       "  </tbody>\n",
       "</table>\n",
       "</div>"
      ],
      "text/plain": [
       "   month  activity_school_year  n_users_per_year  n_logins  n_activities  \\\n",
       "0      1                     1               547      2512        1259.0   \n",
       "1      1                     2               376      2012        1093.0   \n",
       "2      1                     3               225      1333         805.0   \n",
       "3      2                     1               547      3019        1139.0   \n",
       "4      2                     2               376      2025        1234.0   \n",
       "\n",
       "   n_recipes  n_experiences  avg_n_user_activities  avg_n_user_recipes  \\\n",
       "0      947.0          312.0                   4.43                3.33   \n",
       "1      367.0          726.0                   5.66                1.90   \n",
       "2      328.0          477.0                   7.06                2.88   \n",
       "3      728.0          411.0                   3.64                2.33   \n",
       "4      334.0          900.0                   6.63                1.80   \n",
       "\n",
       "   avg_n_user_experiences  n_files  n_files_recipes  n_files_experiences  \\\n",
       "0                    1.10   3437.0           3061.0                376.0   \n",
       "1                    3.76   1976.0           1379.0                597.0   \n",
       "2                    4.18    596.0            500.0                 96.0   \n",
       "3                    1.31   3843.0           3483.0                360.0   \n",
       "4                    4.84   2134.0           1285.0                849.0   \n",
       "\n",
       "   avg_n_files  avg_n_files_recipes  avg_n_files_experiences  std_n_files  \\\n",
       "0          9.0                  9.0                      1.0       5.5266   \n",
       "1          9.0                  6.0                      2.0       4.5558   \n",
       "2         11.0                 10.0                      1.0       7.6447   \n",
       "3         11.0                 10.0                      1.0       6.7857   \n",
       "4         10.0                  7.0                      3.0       7.8019   \n",
       "\n",
       "   std_n_files_recipes  std_n_files_experiences  n_feedback_requests  \\\n",
       "0               6.0612                   2.2693                292.0   \n",
       "1               5.4339                   4.3932                 96.0   \n",
       "2               8.4491                   2.8290                 43.0   \n",
       "3               7.2533                   2.2828                249.0   \n",
       "4               8.3508                   5.7190                 87.0   \n",
       "\n",
       "   n_feedback_responses  n_feedback_requests_recipes  \\\n",
       "0                   0.0                        225.0   \n",
       "1                   0.0                         62.0   \n",
       "2                   0.0                         23.0   \n",
       "3                   0.0                        181.0   \n",
       "4                   0.0                         37.0   \n",
       "\n",
       "   n_feedback_responses_recipes  n_feedback_requests_experiences  \\\n",
       "0                           0.0                             67.0   \n",
       "1                           0.0                             34.0   \n",
       "2                           0.0                             20.0   \n",
       "3                           0.0                             68.0   \n",
       "4                           0.0                             50.0   \n",
       "\n",
       "   n_feedback_responses_experiences  n_in_curriculum  n_in_curriculum_recipes  \\\n",
       "0                               0.0           1174.0                    909.0   \n",
       "1                               0.0           1023.0                    323.0   \n",
       "2                               0.0            682.0                    240.0   \n",
       "3                               0.0           1006.0                    663.0   \n",
       "4                               0.0           1158.0                    299.0   \n",
       "\n",
       "   n_in_curriculum_experiences  n_in_curriculum_insert_date  \\\n",
       "0                        265.0                        222.0   \n",
       "1                        700.0                         74.0   \n",
       "2                        442.0                          1.0   \n",
       "3                        343.0                        197.0   \n",
       "4                        859.0                        145.0   \n",
       "\n",
       "   n_in_curriculum_insert_date_recipes  \\\n",
       "0                                169.0   \n",
       "1                                 51.0   \n",
       "2                                  0.0   \n",
       "3                                148.0   \n",
       "4                                 36.0   \n",
       "\n",
       "   n_in_curriculum_insert_date_experiences  avg_activity_total_length  \\\n",
       "0                                     53.0                      114.0   \n",
       "1                                     23.0                      149.0   \n",
       "2                                      1.0                      145.0   \n",
       "3                                     49.0                      124.0   \n",
       "4                                    109.0                      140.0   \n",
       "\n",
       "   std_activity_total_length  avg_len_descriptions  std_len_descriptions  \\\n",
       "0                      88.88                   9.0                 18.89   \n",
       "1                     138.80                  11.0                 32.23   \n",
       "2                     143.14                  18.0                 43.84   \n",
       "3                     115.75                   9.0                 23.87   \n",
       "4                     135.08                   7.0                 32.46   \n",
       "\n",
       "   avg_len_steps  std_len_steps  avg_len_observations  std_len_observations  \\\n",
       "0           96.0          71.90                   8.0                 15.71   \n",
       "1          129.0         118.40                   6.0                 15.28   \n",
       "2          134.0         138.50                   3.0                 15.33   \n",
       "3          107.0          97.56                   8.0                 16.05   \n",
       "4          128.0         119.78                   5.0                 13.92   \n",
       "\n",
       "   avg_sum_len_reflections  std_avg_sum_len_reflections  \\\n",
       "0                     5.59                         7.35   \n",
       "1                     5.93                         8.44   \n",
       "2                     7.39                         8.24   \n",
       "3                     6.65                         8.11   \n",
       "4                     4.14                         6.43   \n",
       "\n",
       "   avg_avg_len_reflections  std_avg_len_reflections  avg_len_bilancio  \\\n",
       "0                     3.42                     6.15              5.61   \n",
       "1                     4.42                     7.20              3.43   \n",
       "2                     3.87                     4.32              8.88   \n",
       "3                     3.92                     6.68              6.18   \n",
       "4                     3.33                     5.87              3.77   \n",
       "\n",
       "   std_len_bilancio  avg_len_competenze  std_len_competenze  \\\n",
       "0             10.24                7.91               11.18   \n",
       "1              8.46               11.18               17.22   \n",
       "2             22.76               11.68               10.23   \n",
       "3             11.10               10.05               13.65   \n",
       "4              7.43                6.68               14.41   \n",
       "\n",
       "   avg_len_miglioramenti  std_len_miglioramenti  avg_len_critici  \\\n",
       "0                   4.55                   8.32             4.28   \n",
       "1                   3.66                   9.07             5.46   \n",
       "2                   4.95                   7.09             4.06   \n",
       "3                   5.27                   9.06             5.09   \n",
       "4                   3.26                   6.54             2.86   \n",
       "\n",
       "   std_len_critici  total_reflections  total_null_reflections  n_edits  \\\n",
       "0             9.71              427.0                   819.0   8964.0   \n",
       "1            11.25              289.0                   795.0   6386.0   \n",
       "2            10.96              106.0                   690.0   4169.0   \n",
       "3            11.09              396.0                   734.0   7554.0   \n",
       "4             7.16              239.0                   984.0   7422.0   \n",
       "\n",
       "   perc_total_feedback_requests  perc_total_feedback_requests_recipes  \\\n",
       "0                         23.19                                 23.76   \n",
       "1                          8.78                                 16.89   \n",
       "2                          5.34                                  7.01   \n",
       "3                         21.86                                 24.86   \n",
       "4                          7.05                                 11.08   \n",
       "\n",
       "   perc_total_feedback_requests_experiences  perc_feedback_responses  \\\n",
       "0                                     21.47                      0.0   \n",
       "1                                      4.68                      0.0   \n",
       "2                                      4.19                      0.0   \n",
       "3                                     16.55                      0.0   \n",
       "4                                      5.56                      0.0   \n",
       "\n",
       "   perc_feedback_responses_recipes  perc_feedback_responses_experiences  \\\n",
       "0                              0.0                                  0.0   \n",
       "1                              0.0                                  0.0   \n",
       "2                              0.0                                  0.0   \n",
       "3                              0.0                                  0.0   \n",
       "4                              0.0                                  0.0   \n",
       "\n",
       "   perc_in_curriculum  perc_recipes_in_curriculum  \\\n",
       "0               93.25                       72.20   \n",
       "1               93.60                       29.55   \n",
       "2               84.72                       29.81   \n",
       "3               88.32                       58.21   \n",
       "4               93.84                       24.23   \n",
       "\n",
       "   perc_experiences_in_curriculum  perc_in_curriculum_insert_date  \\\n",
       "0                           21.05                           17.63   \n",
       "1                           64.04                            6.77   \n",
       "2                           54.91                            0.12   \n",
       "3                           30.11                           17.30   \n",
       "4                           69.61                           11.75   \n",
       "\n",
       "   perc_recipes_in_curriculum_insert_date  \\\n",
       "0                                   13.42   \n",
       "1                                    4.67   \n",
       "2                                    0.00   \n",
       "3                                   12.99   \n",
       "4                                    2.92   \n",
       "\n",
       "   perc_experiences_in_curriculum_insert_date  \n",
       "0                                        4.21  \n",
       "1                                        2.10  \n",
       "2                                        0.12  \n",
       "3                                        4.30  \n",
       "4                                        8.83  "
      ]
     },
     "execution_count": 49,
     "metadata": {},
     "output_type": "execute_result"
    }
   ],
   "source": [
    "df_months = pd.read_csv(f\"{data_folder}months.csv\").fillna(0).sort_values(by=['month','activity_school_year'])\n",
    "df_months.head()"
   ]
  },
  {
   "cell_type": "code",
   "execution_count": 7,
   "metadata": {},
   "outputs": [],
   "source": [
    "#month_map={1:'Jan', 2:'Feb', 3:'Mar', 4:'Apr', 5:'May', 6:'Jun', 7:'Jul', 8:'Aug', 9:'Sep', 10:'Oct', 11:'Nov', 12:'Dec'}\n",
    "#df_months.replace({'month':month_map},inplace=True)"
   ]
  },
  {
   "cell_type": "code",
   "execution_count": 50,
   "metadata": {},
   "outputs": [],
   "source": [
    "y_users = df_months['n_users_per_year']\n",
    "df_months['norm_avg_n_user_recipes']        = df_months['n_recipes'].divide(y_users)\n",
    "df_months['norm_avg_n_user_experiences']    = df_months['n_experiences'].divide(y_users)\n",
    "df_months['norm_avg_n_activities']          = df_months['n_activities'].divide(y_users)"
   ]
  },
  {
   "cell_type": "markdown",
   "metadata": {},
   "source": [
    "# Data Exploring"
   ]
  },
  {
   "cell_type": "markdown",
   "metadata": {},
   "source": [
    "## Apprentices"
   ]
  },
  {
   "cell_type": "markdown",
   "metadata": {},
   "source": [
    "### # of activities"
   ]
  },
  {
   "cell_type": "code",
   "execution_count": 9,
   "metadata": {
    "scrolled": false
   },
   "outputs": [
    {
     "data": {
      "application/javascript": [
       "element.append('<div id=\"chartdiv_d722e1e9-9ef2-11ea-8567-7c5cf8500ef5\" class=\"am4jy\" style=\"height: 500px;\"></div>');"
      ],
      "text/plain": [
       "<IPython.core.display.Javascript object>"
      ]
     },
     "metadata": {},
     "output_type": "display_data"
    },
    {
     "data": {
      "application/javascript": [
       "$('#chartdiv_d722e1e9-9ef2-11ea-8567-7c5cf8500ef5').parent(\"div\").css(\"width\",\"100%\").css(\"overflow-y\",\"hidden\");"
      ],
      "text/plain": [
       "<IPython.core.display.Javascript object>"
      ]
     },
     "metadata": {},
     "output_type": "display_data"
    },
    {
     "data": {
      "application/javascript": [
       "var params = {};\n",
       "        params['series'] = {'year 1': 0, 'year 2': 0, 'year 3': 0};\n",
       "        \n",
       "        params['title'] = \"Total number of activities per month\";\n",
       "            \n",
       "        params['legend'] = true;\n",
       "            \n",
       "        \n",
       "        params['data'] = [{'x': 1, 'year 1': 1259.0, 'year 2': 1093.0, 'year 3': 805.0}, {'x': 2, 'year 1': 1139.0, 'year 2': 1234.0, 'year 3': 728.0}, {'x': 3, 'year 1': 1228.0, 'year 2': 1493.0, 'year 3': 592.0}, {'x': 4, 'year 1': 1074.0, 'year 2': 1100.0, 'year 3': 610.0}, {'x': 5, 'year 1': 1429.0, 'year 2': 987.0, 'year 3': 1635.0}, {'x': 6, 'year 1': 1002.0, 'year 2': 1269.0, 'year 3': 2883.0}, {'x': 7, 'year 1': 393.0, 'year 2': 168.0, 'year 3': 0.0}, {'x': 8, 'year 1': 522.0, 'year 2': 666.0, 'year 3': 42.0}, {'x': 9, 'year 1': 100.0, 'year 2': 687.0, 'year 3': 436.0}, {'x': 10, 'year 1': 580.0, 'year 2': 1265.0, 'year 3': 767.0}, {'x': 11, 'year 1': 1119.0, 'year 2': 1213.0, 'year 3': 1009.0}, {'x': 12, 'year 1': 1000.0, 'year 2': 943.0, 'year 3': 504.0}];\n",
       "        \n",
       "        require(['amchart_core', 'amchart_charts', 'amcharts4/themes/animated'], columnCallback(params,\"chartdiv_d722e1e9-9ef2-11ea-8567-7c5cf8500ef5\") , function (err) {\n",
       "            console.log(err);\n",
       "        });\n",
       "        "
      ],
      "text/plain": [
       "<IPython.core.display.Javascript object>"
      ]
     },
     "metadata": {},
     "output_type": "display_data"
    }
   ],
   "source": [
    "column = am4.ColumnChart()\n",
    "column.setTitle(\"Total number of activities per month\")\n",
    "column.fromDataFrame(df_months, \"month\", \"n_activities\", hue=\"activity_school_year\", hue_prefix=\"year \")\n",
    "column.plot()"
   ]
  },
  {
   "cell_type": "code",
   "execution_count": 10,
   "metadata": {},
   "outputs": [
    {
     "data": {
      "application/javascript": [
       "element.append('<div id=\"chartdiv_d80df8fe-9ef2-11ea-95ed-7c5cf8500ef5\" class=\"am4jy\" style=\"height: 500px;\"></div>');"
      ],
      "text/plain": [
       "<IPython.core.display.Javascript object>"
      ]
     },
     "metadata": {},
     "output_type": "display_data"
    },
    {
     "data": {
      "application/javascript": [
       "$('#chartdiv_d80df8fe-9ef2-11ea-95ed-7c5cf8500ef5').parent(\"div\").css(\"width\",\"100%\").css(\"overflow-y\",\"hidden\");"
      ],
      "text/plain": [
       "<IPython.core.display.Javascript object>"
      ]
     },
     "metadata": {},
     "output_type": "display_data"
    },
    {
     "data": {
      "application/javascript": [
       "var params = {};\n",
       "        params['series'] = {'year 1': 0, 'year 2': 0, 'year 3': 0};\n",
       "        \n",
       "        params['title'] = \"[bold]Average[/] number of activities per all the users per month\";\n",
       "            \n",
       "        params['legend'] = true;\n",
       "            \n",
       "        \n",
       "        params['data'] = [{'x': 1, 'year 1': 2.3016453382084094, 'year 2': 2.9069148936170213, 'year 3': 3.577777777777778}, {'x': 2, 'year 1': 2.082266910420475, 'year 2': 3.2819148936170213, 'year 3': 3.2355555555555555}, {'x': 3, 'year 1': 2.2449725776965264, 'year 2': 3.970744680851064, 'year 3': 2.631111111111111}, {'x': 4, 'year 1': 1.963436928702011, 'year 2': 2.925531914893617, 'year 3': 2.7111111111111112}, {'x': 5, 'year 1': 2.612431444241316, 'year 2': 2.625, 'year 3': 7.266666666666667}, {'x': 6, 'year 1': 1.8318098720292504, 'year 2': 3.375, 'year 3': 12.813333333333333}, {'x': 7, 'year 1': 0.7184643510054844, 'year 2': 0.44680851063829785, 'year 3': 0.0}, {'x': 8, 'year 1': 0.9542961608775137, 'year 2': 1.7712765957446808, 'year 3': 0.18666666666666668}, {'x': 9, 'year 1': 0.18281535648994515, 'year 2': 1.827127659574468, 'year 3': 1.9377777777777778}, {'x': 10, 'year 1': 1.0603290676416819, 'year 2': 3.3643617021276597, 'year 3': 3.408888888888889}, {'x': 11, 'year 1': 2.045703839122486, 'year 2': 3.226063829787234, 'year 3': 4.484444444444445}, {'x': 12, 'year 1': 1.8281535648994516, 'year 2': 2.507978723404255, 'year 3': 2.24}];\n",
       "        \n",
       "        require(['amchart_core', 'amchart_charts', 'amcharts4/themes/animated'], columnCallback(params,\"chartdiv_d80df8fe-9ef2-11ea-95ed-7c5cf8500ef5\") , function (err) {\n",
       "            console.log(err);\n",
       "        });\n",
       "        "
      ],
      "text/plain": [
       "<IPython.core.display.Javascript object>"
      ]
     },
     "metadata": {},
     "output_type": "display_data"
    }
   ],
   "source": [
    "column = am4.ColumnChart()\n",
    "column.setTitle(\"[bold]Average[/] number of activities per all the users per month\")\n",
    "column.fromDataFrame(df_months, \"month\", \n",
    "                     \"norm_avg_n_activities\", \n",
    "                     hue=\"activity_school_year\", hue_prefix=\"year \")\n",
    "column.plot()"
   ]
  },
  {
   "cell_type": "code",
   "execution_count": 11,
   "metadata": {},
   "outputs": [
    {
     "data": {
      "application/javascript": [
       "element.append('<div id=\"chartdiv_d878efad-9ef2-11ea-99e0-7c5cf8500ef5\" class=\"am4jy\" style=\"height: 500px;\"></div>');"
      ],
      "text/plain": [
       "<IPython.core.display.Javascript object>"
      ]
     },
     "metadata": {},
     "output_type": "display_data"
    },
    {
     "data": {
      "application/javascript": [
       "$('#chartdiv_d878efad-9ef2-11ea-99e0-7c5cf8500ef5').parent(\"div\").css(\"width\",\"100%\").css(\"overflow-y\",\"hidden\");"
      ],
      "text/plain": [
       "<IPython.core.display.Javascript object>"
      ]
     },
     "metadata": {},
     "output_type": "display_data"
    },
    {
     "data": {
      "application/javascript": [
       "var params = {};\n",
       "        params['series'] = {'year 1 - norm_avg_n_user_recipes': 0, 'year 1 - norm_avg_n_user_experiences': 1, 'year 2 - norm_avg_n_user_recipes': 0, 'year 2 - norm_avg_n_user_experiences': 1, 'year 3 - norm_avg_n_user_recipes': 0, 'year 3 - norm_avg_n_user_experiences': 1};\n",
       "        \n",
       "        params['title'] = \"Average number of [bold]activities[/] per user per month\";\n",
       "            \n",
       "        params['legend'] = true;\n",
       "            \n",
       "        \n",
       "        params['data'] = [{'x': 1, 'year 1 - norm_avg_n_user_recipes': 1.7312614259597807, 'year 1 - norm_avg_n_user_experiences': 0.5703839122486288, 'year 2 - norm_avg_n_user_recipes': 0.976063829787234, 'year 2 - norm_avg_n_user_experiences': 1.9308510638297873, 'year 3 - norm_avg_n_user_recipes': 1.4577777777777778, 'year 3 - norm_avg_n_user_experiences': 2.12}, {'x': 2, 'year 1 - norm_avg_n_user_recipes': 1.3308957952468008, 'year 1 - norm_avg_n_user_experiences': 0.7513711151736746, 'year 2 - norm_avg_n_user_recipes': 0.8882978723404256, 'year 2 - norm_avg_n_user_experiences': 2.393617021276596, 'year 3 - norm_avg_n_user_recipes': 0.5644444444444444, 'year 3 - norm_avg_n_user_experiences': 2.671111111111111}, {'x': 3, 'year 1 - norm_avg_n_user_recipes': 1.5959780621572213, 'year 1 - norm_avg_n_user_experiences': 0.6489945155393053, 'year 2 - norm_avg_n_user_recipes': 1.4388297872340425, 'year 2 - norm_avg_n_user_experiences': 2.5319148936170213, 'year 3 - norm_avg_n_user_recipes': 0.9111111111111111, 'year 3 - norm_avg_n_user_experiences': 1.72}, {'x': 4, 'year 1 - norm_avg_n_user_recipes': 1.1846435100548447, 'year 1 - norm_avg_n_user_experiences': 0.7787934186471663, 'year 2 - norm_avg_n_user_recipes': 1.3377659574468086, 'year 2 - norm_avg_n_user_experiences': 1.5877659574468086, 'year 3 - norm_avg_n_user_recipes': 0.6755555555555556, 'year 3 - norm_avg_n_user_experiences': 2.0355555555555553}, {'x': 5, 'year 1 - norm_avg_n_user_recipes': 1.5356489945155394, 'year 1 - norm_avg_n_user_experiences': 1.076782449725777, 'year 2 - norm_avg_n_user_recipes': 1.5079787234042554, 'year 2 - norm_avg_n_user_experiences': 1.1170212765957446, 'year 3 - norm_avg_n_user_recipes': 3.3644444444444446, 'year 3 - norm_avg_n_user_experiences': 3.902222222222222}, {'x': 6, 'year 1 - norm_avg_n_user_recipes': 0.7020109689213894, 'year 1 - norm_avg_n_user_experiences': 1.129798903107861, 'year 2 - norm_avg_n_user_recipes': 0.925531914893617, 'year 2 - norm_avg_n_user_experiences': 2.449468085106383, 'year 3 - norm_avg_n_user_recipes': 2.4355555555555557, 'year 3 - norm_avg_n_user_experiences': 10.377777777777778}, {'x': 7, 'year 1 - norm_avg_n_user_recipes': 0.3126142595978062, 'year 1 - norm_avg_n_user_experiences': 0.40585009140767825, 'year 2 - norm_avg_n_user_recipes': 0.17287234042553193, 'year 2 - norm_avg_n_user_experiences': 0.27393617021276595, 'year 3 - norm_avg_n_user_recipes': 0.0, 'year 3 - norm_avg_n_user_experiences': 0.0}, {'x': 8, 'year 1 - norm_avg_n_user_recipes': 0.5027422303473492, 'year 1 - norm_avg_n_user_experiences': 0.4515539305301645, 'year 2 - norm_avg_n_user_recipes': 0.47606382978723405, 'year 2 - norm_avg_n_user_experiences': 1.2952127659574468, 'year 3 - norm_avg_n_user_recipes': 0.18666666666666668, 'year 3 - norm_avg_n_user_experiences': 0.0}, {'x': 9, 'year 1 - norm_avg_n_user_recipes': 0.12979890310786105, 'year 1 - norm_avg_n_user_experiences': 0.05301645338208409, 'year 2 - norm_avg_n_user_recipes': 0.8723404255319149, 'year 2 - norm_avg_n_user_experiences': 0.9547872340425532, 'year 3 - norm_avg_n_user_recipes': 1.191111111111111, 'year 3 - norm_avg_n_user_experiences': 0.7466666666666667}, {'x': 10, 'year 1 - norm_avg_n_user_recipes': 0.793418647166362, 'year 1 - norm_avg_n_user_experiences': 0.26691042047531993, 'year 2 - norm_avg_n_user_recipes': 1.2606382978723405, 'year 2 - norm_avg_n_user_experiences': 2.103723404255319, 'year 3 - norm_avg_n_user_recipes': 1.6977777777777778, 'year 3 - norm_avg_n_user_experiences': 1.711111111111111}, {'x': 11, 'year 1 - norm_avg_n_user_recipes': 1.5612431444241317, 'year 1 - norm_avg_n_user_experiences': 0.4844606946983547, 'year 2 - norm_avg_n_user_recipes': 1.4015957446808511, 'year 2 - norm_avg_n_user_experiences': 1.824468085106383, 'year 3 - norm_avg_n_user_recipes': 2.453333333333333, 'year 3 - norm_avg_n_user_experiences': 2.031111111111111}, {'x': 12, 'year 1 - norm_avg_n_user_recipes': 1.396709323583181, 'year 1 - norm_avg_n_user_experiences': 0.43144424131627057, 'year 2 - norm_avg_n_user_recipes': 0.9175531914893617, 'year 2 - norm_avg_n_user_experiences': 1.5904255319148937, 'year 3 - norm_avg_n_user_recipes': 0.9822222222222222, 'year 3 - norm_avg_n_user_experiences': 1.2577777777777779}];\n",
       "        \n",
       "        require(['amchart_core', 'amchart_charts', 'amcharts4/themes/animated'], columnCallback(params,\"chartdiv_d878efad-9ef2-11ea-99e0-7c5cf8500ef5\") , function (err) {\n",
       "            console.log(err);\n",
       "        });\n",
       "        "
      ],
      "text/plain": [
       "<IPython.core.display.Javascript object>"
      ]
     },
     "metadata": {},
     "output_type": "display_data"
    }
   ],
   "source": [
    "column = am4.ColumnChart()\n",
    "column.setTitle(\"Average number of [bold]activities[/] per user per month\")\n",
    "column.fromDataFrame(df_months, \"month\", \n",
    "                     [\"norm_avg_n_user_recipes\",\"norm_avg_n_user_experiences\"], \n",
    "                     hue=\"activity_school_year\", hue_prefix=\"year \")\n",
    "column.plot()"
   ]
  },
  {
   "cell_type": "markdown",
   "metadata": {},
   "source": [
    "----------\n",
    "\n",
    "### Files"
   ]
  },
  {
   "cell_type": "code",
   "execution_count": 12,
   "metadata": {},
   "outputs": [
    {
     "data": {
      "application/javascript": [
       "element.append('<div id=\"chartdiv_d9c37939-9ef2-11ea-9a08-7c5cf8500ef5\" class=\"am4jy\" style=\"height: 500px;\"></div>');"
      ],
      "text/plain": [
       "<IPython.core.display.Javascript object>"
      ]
     },
     "metadata": {},
     "output_type": "display_data"
    },
    {
     "data": {
      "application/javascript": [
       "$('#chartdiv_d9c37939-9ef2-11ea-9a08-7c5cf8500ef5').parent(\"div\").css(\"width\",\"100%\").css(\"overflow-y\",\"hidden\");"
      ],
      "text/plain": [
       "<IPython.core.display.Javascript object>"
      ]
     },
     "metadata": {},
     "output_type": "display_data"
    },
    {
     "data": {
      "application/javascript": [
       "var params = {};\n",
       "        params['series'] = {'year 1 - norm_n_files_recipes': 0, 'year 1 - norm_n_files_experiences': 1, 'year 2 - norm_n_files_recipes': 0, 'year 2 - norm_n_files_experiences': 1, 'year 3 - norm_n_files_recipes': 0, 'year 3 - norm_n_files_experiences': 1};\n",
       "        \n",
       "        params['title'] = \"[bold]Normalized[/] number of activities's files per month\";\n",
       "            \n",
       "        params['legend'] = true;\n",
       "            \n",
       "        \n",
       "        params['data'] = [{'x': 1, 'year 1 - norm_n_files_recipes': 2.431294678316124, 'year 1 - norm_n_files_experiences': 0.29864972200158857, 'year 2 - norm_n_files_recipes': 1.261665141811528, 'year 2 - norm_n_files_experiences': 0.546203110704483, 'year 3 - norm_n_files_recipes': 0.6211180124223602, 'year 3 - norm_n_files_experiences': 0.11925465838509317}, {'x': 2, 'year 1 - norm_n_files_recipes': 3.057945566286216, 'year 1 - norm_n_files_experiences': 0.3160667251975417, 'year 2 - norm_n_files_recipes': 1.0413290113452187, 'year 2 - norm_n_files_experiences': 0.6880064829821718, 'year 3 - norm_n_files_recipes': 0.385989010989011, 'year 3 - norm_n_files_experiences': 0.10164835164835165}, {'x': 3, 'year 1 - norm_n_files_recipes': 3.8436482084690553, 'year 1 - norm_n_files_experiences': 0.4169381107491857, 'year 2 - norm_n_files_recipes': 1.7059611520428668, 'year 2 - norm_n_files_experiences': 0.39517749497655724, 'year 3 - norm_n_files_recipes': 1.027027027027027, 'year 3 - norm_n_files_experiences': 0.09121621621621621}, {'x': 4, 'year 1 - norm_n_files_recipes': 3.0772811918063314, 'year 1 - norm_n_files_experiences': 0.2644320297951583, 'year 2 - norm_n_files_recipes': 1.6136363636363635, 'year 2 - norm_n_files_experiences': 0.41909090909090907, 'year 3 - norm_n_files_recipes': 1.040983606557377, 'year 3 - norm_n_files_experiences': 0.3655737704918033}, {'x': 5, 'year 1 - norm_n_files_recipes': 2.2631210636808956, 'year 1 - norm_n_files_experiences': 0.1966410076976907, 'year 2 - norm_n_files_recipes': 1.7041540020263424, 'year 2 - norm_n_files_experiences': 0.2988855116514691, 'year 3 - norm_n_files_recipes': 0.44587155963302755, 'year 3 - norm_n_files_experiences': 0.11009174311926606}, {'x': 6, 'year 1 - norm_n_files_recipes': 1.2035928143712575, 'year 1 - norm_n_files_experiences': 0.2874251497005988, 'year 2 - norm_n_files_recipes': 0.47832939322301027, 'year 2 - norm_n_files_experiences': 0.4980299448384555, 'year 3 - norm_n_files_recipes': 0.11481096080471731, 'year 3 - norm_n_files_experiences': 0.08324661810613944}, {'x': 7, 'year 1 - norm_n_files_recipes': 1.2213740458015268, 'year 1 - norm_n_files_experiences': 0.40966921119592875, 'year 2 - norm_n_files_recipes': 1.9107142857142858, 'year 2 - norm_n_files_experiences': 0.13690476190476192, 'year 3 - norm_n_files_recipes': 0.0, 'year 3 - norm_n_files_experiences': 0.0}, {'x': 8, 'year 1 - norm_n_files_recipes': 2.371647509578544, 'year 1 - norm_n_files_experiences': 0.4904214559386973, 'year 2 - norm_n_files_recipes': 0.8933933933933934, 'year 2 - norm_n_files_experiences': 0.2702702702702703, 'year 3 - norm_n_files_recipes': 0.19047619047619047, 'year 3 - norm_n_files_experiences': 0.0}, {'x': 9, 'year 1 - norm_n_files_recipes': 1.73, 'year 1 - norm_n_files_experiences': 0.24, 'year 2 - norm_n_files_recipes': 2.0, 'year 2 - norm_n_files_experiences': 0.8602620087336245, 'year 3 - norm_n_files_recipes': 2.5688073394495414, 'year 3 - norm_n_files_experiences': 0.12614678899082568}, {'x': 10, 'year 1 - norm_n_files_recipes': 3.536206896551724, 'year 1 - norm_n_files_experiences': 0.3482758620689655, 'year 2 - norm_n_files_recipes': 1.6972332015810276, 'year 2 - norm_n_files_experiences': 0.5762845849802372, 'year 3 - norm_n_files_recipes': 2.0, 'year 3 - norm_n_files_experiences': 0.27509778357235987}, {'x': 11, 'year 1 - norm_n_files_recipes': 3.0428954423592494, 'year 1 - norm_n_files_experiences': 0.3780160857908847, 'year 2 - norm_n_files_recipes': 1.855729596042869, 'year 2 - norm_n_files_experiences': 0.5144270403957131, 'year 3 - norm_n_files_recipes': 1.7145688800792864, 'year 3 - norm_n_files_experiences': 0.1595639246778989}, {'x': 12, 'year 1 - norm_n_files_recipes': 3.119, 'year 1 - norm_n_files_experiences': 0.387, 'year 2 - norm_n_files_recipes': 1.3934252386002122, 'year 2 - norm_n_files_experiences': 0.542948038176034, 'year 3 - norm_n_files_recipes': 1.4722222222222223, 'year 3 - norm_n_files_experiences': 0.17063492063492064}];\n",
       "        \n",
       "        require(['amchart_core', 'amchart_charts', 'amcharts4/themes/animated'], columnCallback(params,\"chartdiv_d9c37939-9ef2-11ea-9a08-7c5cf8500ef5\") , function (err) {\n",
       "            console.log(err);\n",
       "        });\n",
       "        "
      ],
      "text/plain": [
       "<IPython.core.display.Javascript object>"
      ]
     },
     "metadata": {},
     "output_type": "display_data"
    }
   ],
   "source": [
    "# normalize wrt number of activities per month\n",
    "df_months['norm_n_files_recipes'] = df_months['n_files_recipes'].divide(df_months['n_activities'])\n",
    "df_months['norm_n_files_experiences'] = df_months['n_files_experiences'].divide(df_months['n_activities'])\n",
    "\n",
    "column = am4.ColumnChart()\n",
    "column.setTitle(\"[bold]Normalized[/] number of activities's files per month\")\n",
    "column.fromDataFrame(df_months, \"month\", \n",
    "                     ['norm_n_files_recipes','norm_n_files_experiences'], \n",
    "                     hue=\"activity_school_year\", hue_prefix=\"year \")\n",
    "column.plot()"
   ]
  },
  {
   "cell_type": "markdown",
   "metadata": {},
   "source": [
    "And the average grouped by years:"
   ]
  },
  {
   "cell_type": "code",
   "execution_count": 13,
   "metadata": {},
   "outputs": [
    {
     "data": {
      "text/html": [
       "<div>\n",
       "<style scoped>\n",
       "    .dataframe tbody tr th:only-of-type {\n",
       "        vertical-align: middle;\n",
       "    }\n",
       "\n",
       "    .dataframe tbody tr th {\n",
       "        vertical-align: top;\n",
       "    }\n",
       "\n",
       "    .dataframe thead th {\n",
       "        text-align: right;\n",
       "    }\n",
       "</style>\n",
       "<table border=\"1\" class=\"dataframe\">\n",
       "  <thead>\n",
       "    <tr style=\"text-align: right;\">\n",
       "      <th></th>\n",
       "      <th>n_files</th>\n",
       "      <th>avg_n_files</th>\n",
       "      <th>std_n_files</th>\n",
       "    </tr>\n",
       "    <tr>\n",
       "      <th>activity_school_year</th>\n",
       "      <th></th>\n",
       "      <th></th>\n",
       "      <th></th>\n",
       "    </tr>\n",
       "  </thead>\n",
       "  <tbody>\n",
       "    <tr>\n",
       "      <th>1</th>\n",
       "      <td>2752.416667</td>\n",
       "      <td>10.250000</td>\n",
       "      <td>6.486850</td>\n",
       "    </tr>\n",
       "    <tr>\n",
       "      <th>2</th>\n",
       "      <td>1946.666667</td>\n",
       "      <td>10.583333</td>\n",
       "      <td>7.176258</td>\n",
       "    </tr>\n",
       "    <tr>\n",
       "      <th>3</th>\n",
       "      <td>799.833333</td>\n",
       "      <td>9.416667</td>\n",
       "      <td>5.447183</td>\n",
       "    </tr>\n",
       "  </tbody>\n",
       "</table>\n",
       "</div>"
      ],
      "text/plain": [
       "                          n_files  avg_n_files  std_n_files\n",
       "activity_school_year                                       \n",
       "1                     2752.416667    10.250000     6.486850\n",
       "2                     1946.666667    10.583333     7.176258\n",
       "3                      799.833333     9.416667     5.447183"
      ]
     },
     "execution_count": 13,
     "metadata": {},
     "output_type": "execute_result"
    }
   ],
   "source": [
    "df_months[['activity_school_year','n_files','avg_n_files','std_n_files']]\\\n",
    "    .groupby('activity_school_year').mean()"
   ]
  },
  {
   "cell_type": "markdown",
   "metadata": {},
   "source": [
    "### Feedbacks and Curriculum"
   ]
  },
  {
   "cell_type": "code",
   "execution_count": 17,
   "metadata": {},
   "outputs": [
    {
     "data": {
      "application/javascript": [
       "element.append('<div id=\"chartdiv_e5da17c4-9ef2-11ea-892d-7c5cf8500ef5\" class=\"am4jy\" style=\"height: 500px;\"></div>');"
      ],
      "text/plain": [
       "<IPython.core.display.Javascript object>"
      ]
     },
     "metadata": {},
     "output_type": "display_data"
    },
    {
     "data": {
      "application/javascript": [
       "$('#chartdiv_e5da17c4-9ef2-11ea-892d-7c5cf8500ef5').parent(\"div\").css(\"width\",\"100%\").css(\"overflow-y\",\"hidden\");"
      ],
      "text/plain": [
       "<IPython.core.display.Javascript object>"
      ]
     },
     "metadata": {},
     "output_type": "display_data"
    },
    {
     "data": {
      "application/javascript": [
       "var params = {};\n",
       "        params['series'] = {'year 1 - perc_total_feedback_requests_recipes': 0, 'year 1 - perc_total_feedback_requests_experiences': 1, 'year 2 - perc_total_feedback_requests_recipes': 0, 'year 2 - perc_total_feedback_requests_experiences': 1, 'year 3 - perc_total_feedback_requests_recipes': 0, 'year 3 - perc_total_feedback_requests_experiences': 1};\n",
       "        \n",
       "        params['title'] = \"% of activities with requests for feedback per month\";\n",
       "            \n",
       "        params['legend'] = false;\n",
       "            \n",
       "        \n",
       "        params['data'] = [{'x': 1, 'year 1 - perc_total_feedback_requests_recipes': 23.76, 'year 1 - perc_total_feedback_requests_experiences': 21.47, 'year 2 - perc_total_feedback_requests_recipes': 16.89, 'year 2 - perc_total_feedback_requests_experiences': 4.68, 'year 3 - perc_total_feedback_requests_recipes': 7.01, 'year 3 - perc_total_feedback_requests_experiences': 4.19}, {'x': 2, 'year 1 - perc_total_feedback_requests_recipes': 24.86, 'year 1 - perc_total_feedback_requests_experiences': 16.55, 'year 2 - perc_total_feedback_requests_recipes': 11.08, 'year 2 - perc_total_feedback_requests_experiences': 5.56, 'year 3 - perc_total_feedback_requests_recipes': 16.54, 'year 3 - perc_total_feedback_requests_experiences': 3.99}, {'x': 3, 'year 1 - perc_total_feedback_requests_recipes': 21.76, 'year 1 - perc_total_feedback_requests_experiences': 19.44, 'year 2 - perc_total_feedback_requests_recipes': 19.22, 'year 2 - perc_total_feedback_requests_experiences': 6.09, 'year 3 - perc_total_feedback_requests_recipes': 34.63, 'year 3 - perc_total_feedback_requests_experiences': 15.5}, {'x': 4, 'year 1 - perc_total_feedback_requests_recipes': 21.6, 'year 1 - perc_total_feedback_requests_experiences': 16.67, 'year 2 - perc_total_feedback_requests_recipes': 18.69, 'year 2 - perc_total_feedback_requests_experiences': 5.19, 'year 3 - perc_total_feedback_requests_recipes': 15.79, 'year 3 - perc_total_feedback_requests_experiences': 7.64}, {'x': 5, 'year 1 - perc_total_feedback_requests_recipes': 26.19, 'year 1 - perc_total_feedback_requests_experiences': 14.43, 'year 2 - perc_total_feedback_requests_recipes': 12.17, 'year 2 - perc_total_feedback_requests_experiences': 11.19, 'year 3 - perc_total_feedback_requests_recipes': 4.49, 'year 3 - perc_total_feedback_requests_experiences': 12.19}, {'x': 6, 'year 1 - perc_total_feedback_requests_recipes': 11.98, 'year 1 - perc_total_feedback_requests_experiences': 10.84, 'year 2 - perc_total_feedback_requests_recipes': 7.47, 'year 2 - perc_total_feedback_requests_experiences': 2.93, 'year 3 - perc_total_feedback_requests_recipes': 4.2, 'year 3 - perc_total_feedback_requests_experiences': 10.32}, {'x': 7, 'year 1 - perc_total_feedback_requests_recipes': 15.2, 'year 1 - perc_total_feedback_requests_experiences': 20.72, 'year 2 - perc_total_feedback_requests_recipes': 13.85, 'year 2 - perc_total_feedback_requests_experiences': 15.53, 'year 3 - perc_total_feedback_requests_recipes': 0.0, 'year 3 - perc_total_feedback_requests_experiences': 0.0}, {'x': 8, 'year 1 - perc_total_feedback_requests_recipes': 19.64, 'year 1 - perc_total_feedback_requests_experiences': 14.17, 'year 2 - perc_total_feedback_requests_recipes': 9.5, 'year 2 - perc_total_feedback_requests_experiences': 6.98, 'year 3 - perc_total_feedback_requests_recipes': 0.0, 'year 3 - perc_total_feedback_requests_experiences': 0.0}, {'x': 9, 'year 1 - perc_total_feedback_requests_recipes': 33.8, 'year 1 - perc_total_feedback_requests_experiences': 13.79, 'year 2 - perc_total_feedback_requests_recipes': 19.21, 'year 2 - perc_total_feedback_requests_experiences': 11.98, 'year 3 - perc_total_feedback_requests_recipes': 17.91, 'year 3 - perc_total_feedback_requests_experiences': 17.26}, {'x': 10, 'year 1 - perc_total_feedback_requests_recipes': 32.49, 'year 1 - perc_total_feedback_requests_experiences': 34.25, 'year 2 - perc_total_feedback_requests_recipes': 17.51, 'year 2 - perc_total_feedback_requests_experiences': 14.16, 'year 3 - perc_total_feedback_requests_recipes': 13.09, 'year 3 - perc_total_feedback_requests_experiences': 22.6}, {'x': 11, 'year 1 - perc_total_feedback_requests_recipes': 32.08, 'year 1 - perc_total_feedback_requests_experiences': 26.04, 'year 2 - perc_total_feedback_requests_recipes': 17.27, 'year 2 - perc_total_feedback_requests_experiences': 10.2, 'year 3 - perc_total_feedback_requests_recipes': 9.96, 'year 3 - perc_total_feedback_requests_experiences': 7.44}, {'x': 12, 'year 1 - perc_total_feedback_requests_recipes': 20.68, 'year 1 - perc_total_feedback_requests_experiences': 19.92, 'year 2 - perc_total_feedback_requests_recipes': 12.17, 'year 2 - perc_total_feedback_requests_experiences': 6.86, 'year 3 - perc_total_feedback_requests_recipes': 8.14, 'year 3 - perc_total_feedback_requests_experiences': 11.66}];\n",
       "        \n",
       "        require(['amchart_core', 'amchart_charts', 'amcharts4/themes/animated'], columnCallback(params,\"chartdiv_e5da17c4-9ef2-11ea-892d-7c5cf8500ef5\") , function (err) {\n",
       "            console.log(err);\n",
       "        });\n",
       "        "
      ],
      "text/plain": [
       "<IPython.core.display.Javascript object>"
      ]
     },
     "metadata": {},
     "output_type": "display_data"
    }
   ],
   "source": [
    "column = am4.ColumnChart()\n",
    "column.setTitle(\"% of activities with requests for feedback per month\")\n",
    "column.showLegend(False)\n",
    "column.fromDataFrame(df_months, \"month\", \n",
    "                     ['perc_total_feedback_requests_recipes','perc_total_feedback_requests_experiences'], \n",
    "                     hue=\"activity_school_year\", hue_prefix=\"year \")\n",
    "column.plot()"
   ]
  },
  {
   "cell_type": "code",
   "execution_count": 18,
   "metadata": {},
   "outputs": [],
   "source": [
    "normalizePer(df_months,'perc_total_feedback_requests_recipes',\n",
    "             'n_feedback_requests','activity_school_year','n_feedback_requests_recipes')\n",
    "normalizePer(df_months,'perc_total_feedback_requests_experiences',\n",
    "             'n_feedback_requests','activity_school_year','n_feedback_requests_experiences')"
   ]
  },
  {
   "cell_type": "code",
   "execution_count": 20,
   "metadata": {
    "scrolled": false
   },
   "outputs": [
    {
     "data": {
      "application/javascript": [
       "element.append('<div id=\"chartdiv_f67f6978-9ef2-11ea-bc61-7c5cf8500ef5\" class=\"am4jy\" style=\"height: 500px;\"></div>');"
      ],
      "text/plain": [
       "<IPython.core.display.Javascript object>"
      ]
     },
     "metadata": {},
     "output_type": "display_data"
    },
    {
     "data": {
      "application/javascript": [
       "$('#chartdiv_f67f6978-9ef2-11ea-bc61-7c5cf8500ef5').parent(\"div\").css(\"width\",\"100%\").css(\"overflow-y\",\"hidden\");"
      ],
      "text/plain": [
       "<IPython.core.display.Javascript object>"
      ]
     },
     "metadata": {},
     "output_type": "display_data"
    },
    {
     "data": {
      "application/javascript": [
       "var params = {};\n",
       "        params['series'] = {'year 1 - perc_total_feedback_requests_recipes': 0, 'year 1 - perc_total_feedback_requests_experiences': 1, 'year 2 - perc_total_feedback_requests_recipes': 0, 'year 2 - perc_total_feedback_requests_experiences': 1, 'year 3 - perc_total_feedback_requests_recipes': 0, 'year 3 - perc_total_feedback_requests_experiences': 1};\n",
       "        \n",
       "        params['title'] = \"% of feedback requests over the school year\";\n",
       "            \n",
       "        params['legend'] = false;\n",
       "            \n",
       "        \n",
       "        params['data'] = [{'x': 1, 'year 1 - perc_total_feedback_requests_recipes': 9.546033092914723, 'year 1 - perc_total_feedback_requests_experiences': 2.8425965210012727, 'year 2 - perc_total_feedback_requests_recipes': 4.920634920634921, 'year 2 - perc_total_feedback_requests_experiences': 2.6984126984126986, 'year 3 - perc_total_feedback_requests_recipes': 2.217936354869817, 'year 3 - perc_total_feedback_requests_experiences': 1.9286403085824495}, {'x': 2, 'year 1 - perc_total_feedback_requests_recipes': 7.6792532880780655, 'year 1 - perc_total_feedback_requests_experiences': 2.8850233347475602, 'year 2 - perc_total_feedback_requests_recipes': 2.9365079365079367, 'year 2 - perc_total_feedback_requests_experiences': 3.9682539682539684, 'year 3 - perc_total_feedback_requests_recipes': 2.025072324011572, 'year 3 - perc_total_feedback_requests_experiences': 2.3143683702989395}, {'x': 3, 'year 1 - perc_total_feedback_requests_recipes': 8.061094611794655, 'year 1 - perc_total_feedback_requests_experiences': 2.927450148493848, 'year 2 - perc_total_feedback_requests_recipes': 8.253968253968255, 'year 2 - perc_total_feedback_requests_experiences': 4.603174603174604, 'year 3 - perc_total_feedback_requests_recipes': 6.846673095467696, 'year 3 - perc_total_feedback_requests_experiences': 5.785920925747349}, {'x': 4, 'year 1 - perc_total_feedback_requests_recipes': 5.9397539244802715, 'year 1 - perc_total_feedback_requests_experiences': 3.0123037759864233, 'year 2 - perc_total_feedback_requests_recipes': 7.4603174603174605, 'year 2 - perc_total_feedback_requests_experiences': 2.4603174603174605, 'year 3 - perc_total_feedback_requests_recipes': 2.3143683702989395, 'year 3 - perc_total_feedback_requests_experiences': 3.3751205400192865}, {'x': 5, 'year 1 - perc_total_feedback_requests_recipes': 9.333899024183284, 'year 1 - perc_total_feedback_requests_experiences': 3.6062791684344506, 'year 2 - perc_total_feedback_requests_recipes': 5.476190476190476, 'year 2 - perc_total_feedback_requests_experiences': 3.7301587301587302, 'year 3 - perc_total_feedback_requests_recipes': 3.278688524590164, 'year 3 - perc_total_feedback_requests_experiences': 10.318225650916105}, {'x': 6, 'year 1 - perc_total_feedback_requests_recipes': 1.9516334323292321, 'year 1 - perc_total_feedback_requests_experiences': 2.8425965210012727, 'year 2 - perc_total_feedback_requests_recipes': 2.0634920634920637, 'year 2 - perc_total_feedback_requests_experiences': 2.142857142857143, 'year 3 - perc_total_feedback_requests_recipes': 2.217936354869817, 'year 3 - perc_total_feedback_requests_experiences': 23.240115718418515}, {'x': 7, 'year 1 - perc_total_feedback_requests_recipes': 1.103097157403479, 'year 1 - perc_total_feedback_requests_experiences': 1.9516334323292321, 'year 2 - perc_total_feedback_requests_recipes': 0.7142857142857143, 'year 2 - perc_total_feedback_requests_experiences': 1.2698412698412698, 'year 3 - perc_total_feedback_requests_recipes': 0.0, 'year 3 - perc_total_feedback_requests_experiences': 0.0}, {'x': 8, 'year 1 - perc_total_feedback_requests_recipes': 2.2910479422995333, 'year 1 - perc_total_feedback_requests_experiences': 1.4849384811200679, 'year 2 - perc_total_feedback_requests_recipes': 1.3492063492063493, 'year 2 - perc_total_feedback_requests_experiences': 2.6984126984126986, 'year 3 - perc_total_feedback_requests_recipes': 0.0, 'year 3 - perc_total_feedback_requests_experiences': 0.0}, {'x': 9, 'year 1 - perc_total_feedback_requests_recipes': 1.0182435299109036, 'year 1 - perc_total_feedback_requests_experiences': 0.1697072549851506, 'year 2 - perc_total_feedback_requests_recipes': 5.0, 'year 2 - perc_total_feedback_requests_experiences': 3.412698412698413, 'year 3 - perc_total_feedback_requests_recipes': 4.628736740597879, 'year 3 - perc_total_feedback_requests_experiences': 2.796528447444552}, {'x': 10, 'year 1 - perc_total_feedback_requests_recipes': 5.9821807382265595, 'year 1 - perc_total_feedback_requests_experiences': 2.1213406873143827, 'year 2 - perc_total_feedback_requests_recipes': 6.587301587301588, 'year 2 - perc_total_feedback_requests_experiences': 8.88888888888889, 'year 3 - perc_total_feedback_requests_recipes': 4.821600771456124, 'year 3 - perc_total_feedback_requests_experiences': 8.389585342333655}, {'x': 11, 'year 1 - perc_total_feedback_requests_recipes': 11.624946966482817, 'year 1 - perc_total_feedback_requests_experiences': 2.927450148493848, 'year 2 - perc_total_feedback_requests_recipes': 7.222222222222222, 'year 2 - perc_total_feedback_requests_experiences': 5.555555555555555, 'year 3 - perc_total_feedback_requests_recipes': 5.303760848601736, 'year 3 - perc_total_feedback_requests_experiences': 3.278688524590164}, {'x': 12, 'year 1 - perc_total_feedback_requests_recipes': 6.703436571913449, 'year 1 - perc_total_feedback_requests_experiences': 1.9940602460755197, 'year 2 - perc_total_feedback_requests_recipes': 3.3333333333333335, 'year 2 - perc_total_feedback_requests_experiences': 3.253968253968254, 'year 3 - perc_total_feedback_requests_recipes': 1.7357762777242045, 'year 3 - perc_total_feedback_requests_experiences': 3.1822565091610415}];\n",
       "        \n",
       "        require(['amchart_core', 'amchart_charts', 'amcharts4/themes/animated'], columnCallback(params,\"chartdiv_f67f6978-9ef2-11ea-bc61-7c5cf8500ef5\") , function (err) {\n",
       "            console.log(err);\n",
       "        });\n",
       "        "
      ],
      "text/plain": [
       "<IPython.core.display.Javascript object>"
      ]
     },
     "metadata": {},
     "output_type": "display_data"
    }
   ],
   "source": [
    "column = am4.ColumnChart()\n",
    "column.setTitle(\"% of feedback requests over the school year\")\n",
    "column.showLegend(False)\n",
    "column.fromDataFrame(df_months, \"month\", \n",
    "                     ['perc_total_feedback_requests_recipes','perc_total_feedback_requests_experiences'], \n",
    "                     hue=\"activity_school_year\", hue_prefix=\"year \")\n",
    "column.plot()"
   ]
  },
  {
   "cell_type": "markdown",
   "metadata": {},
   "source": [
    "TODO: try with request date"
   ]
  },
  {
   "cell_type": "code",
   "execution_count": 21,
   "metadata": {},
   "outputs": [
    {
     "data": {
      "application/javascript": [
       "element.append('<div id=\"chartdiv_fa614056-9ef2-11ea-be36-7c5cf8500ef5\" class=\"am4jy\" style=\"height: 500px;\"></div>');"
      ],
      "text/plain": [
       "<IPython.core.display.Javascript object>"
      ]
     },
     "metadata": {},
     "output_type": "display_data"
    },
    {
     "data": {
      "application/javascript": [
       "$('#chartdiv_fa614056-9ef2-11ea-be36-7c5cf8500ef5').parent(\"div\").css(\"width\",\"100%\").css(\"overflow-y\",\"hidden\");"
      ],
      "text/plain": [
       "<IPython.core.display.Javascript object>"
      ]
     },
     "metadata": {},
     "output_type": "display_data"
    },
    {
     "data": {
      "application/javascript": [
       "var params = {};\n",
       "        params['series'] = {'year 1': 0, 'year 2': 0, 'year 3': 0};\n",
       "        \n",
       "        params['title'] = \"% of activities in curriculum per month\";\n",
       "            \n",
       "        params['legend'] = true;\n",
       "            \n",
       "        \n",
       "        params['data'] = [{'x': 1, 'year 1': 72.2, 'year 2': 29.55, 'year 3': 29.81}, {'x': 2, 'year 1': 58.21, 'year 2': 24.23, 'year 3': 9.62}, {'x': 3, 'year 1': 75.24, 'year 2': 34.36, 'year 3': 29.39}, {'x': 4, 'year 1': 62.01, 'year 2': 43.0, 'year 3': 17.21}, {'x': 5, 'year 1': 60.81, 'year 2': 48.53, 'year 3': 28.56}, {'x': 6, 'year 1': 33.43, 'year 2': 24.19, 'year 3': 10.06}, {'x': 7, 'year 1': 35.62, 'year 2': 31.55, 'year 3': 0.0}, {'x': 8, 'year 1': 46.74, 'year 2': 15.92, 'year 3': 0.0}, {'x': 9, 'year 1': 30.0, 'year 2': 41.92, 'year 3': 44.04}, {'x': 10, 'year 1': 78.1, 'year 2': 41.34, 'year 3': 31.42}, {'x': 11, 'year 1': 76.76, 'year 2': 41.47, 'year 3': 35.48}, {'x': 12, 'year 1': 70.4, 'year 2': 37.33, 'year 3': 25.79}];\n",
       "        \n",
       "        require(['amchart_core', 'amchart_charts', 'amcharts4/themes/animated'], columnCallback(params,\"chartdiv_fa614056-9ef2-11ea-be36-7c5cf8500ef5\") , function (err) {\n",
       "            console.log(err);\n",
       "        });\n",
       "        "
      ],
      "text/plain": [
       "<IPython.core.display.Javascript object>"
      ]
     },
     "metadata": {},
     "output_type": "display_data"
    }
   ],
   "source": [
    "column = am4.ColumnChart()\n",
    "column.setTitle(\"% of activities in curriculum per month\")\n",
    "column.fromDataFrame(df_months, \"month\", \n",
    "                     ['perc_recipes_in_curriculum'], \n",
    "                     hue=\"activity_school_year\", hue_prefix=\"year \")\n",
    "column.plot()"
   ]
  },
  {
   "cell_type": "markdown",
   "metadata": {},
   "source": [
    "TODO: CONTROLLARE BENE LA QUERY n_activities per via del \"final\".\n",
    "TODO: vedere se moltiplicare i due"
   ]
  },
  {
   "cell_type": "code",
   "execution_count": 22,
   "metadata": {},
   "outputs": [],
   "source": [
    "normalizePer(df_months,'norm_perc_recipes_in_curriculum',\n",
    "             'n_activities','activity_school_year','n_in_curriculum_recipes')\n",
    "normalizePer(df_months,'norm_perc_experiences_in_curriculum',\n",
    "             'n_activities','activity_school_year','n_in_curriculum_experiences')"
   ]
  },
  {
   "cell_type": "code",
   "execution_count": 24,
   "metadata": {},
   "outputs": [
    {
     "data": {
      "application/javascript": [
       "element.append('<div id=\"chartdiv_012623c2-9ef3-11ea-992b-7c5cf8500ef5\" class=\"am4jy\" style=\"height: 500px;\"></div>');"
      ],
      "text/plain": [
       "<IPython.core.display.Javascript object>"
      ]
     },
     "metadata": {},
     "output_type": "display_data"
    },
    {
     "data": {
      "application/javascript": [
       "$('#chartdiv_012623c2-9ef3-11ea-992b-7c5cf8500ef5').parent(\"div\").css(\"width\",\"100%\").css(\"overflow-y\",\"hidden\");"
      ],
      "text/plain": [
       "<IPython.core.display.Javascript object>"
      ]
     },
     "metadata": {},
     "output_type": "display_data"
    },
    {
     "data": {
      "application/javascript": [
       "var params = {};\n",
       "        params['series'] = {'year 1 - norm_perc_recipes_in_curriculum': 0, 'year 1 - norm_perc_experiences_in_curriculum': 1, 'year 2 - norm_perc_recipes_in_curriculum': 0, 'year 2 - norm_perc_experiences_in_curriculum': 1, 'year 3 - norm_perc_recipes_in_curriculum': 0, 'year 3 - norm_perc_experiences_in_curriculum': 1};\n",
       "        \n",
       "        params['title'] = \"[bold]Normalized[/] number of activities in curriculum per month\";\n",
       "            \n",
       "        params['legend'] = false;\n",
       "            \n",
       "        \n",
       "        params['data'] = [{'x': 1, 'year 1 - norm_perc_recipes_in_curriculum': 8.381742738589212, 'year 1 - norm_perc_experiences_in_curriculum': 2.4435223605348084, 'year 2 - norm_perc_recipes_in_curriculum': 2.6654563459316716, 'year 2 - norm_perc_experiences_in_curriculum': 5.7765307806568735, 'year 3 - norm_perc_recipes_in_curriculum': 2.39736290080911, 'year 3 - norm_perc_experiences_in_curriculum': 4.415143342323444}, {'x': 2, 'year 1 - norm_perc_recipes_in_curriculum': 6.1134163208852, 'year 1 - norm_perc_experiences_in_curriculum': 3.1627478100507145, 'year 2 - norm_perc_recipes_in_curriculum': 2.467403862023436, 'year 2 - norm_perc_experiences_in_curriculum': 7.088628486548935, 'year 3 - norm_perc_recipes_in_curriculum': 0.6992308460693237, 'year 3 - norm_perc_experiences_in_curriculum': 5.414044550993907}, {'x': 3, 'year 1 - norm_perc_recipes_in_curriculum': 8.520055325034578, 'year 1 - norm_perc_experiences_in_curriculum': 3.0336560627017057, 'year 2 - norm_perc_recipes_in_curriculum': 4.233371843538538, 'year 2 - norm_perc_experiences_in_curriculum': 7.814820927545799, 'year 3 - norm_perc_recipes_in_curriculum': 1.7380881030866047, 'year 3 - norm_perc_experiences_in_curriculum': 2.9967036260113873}, {'x': 4, 'year 1 - norm_perc_recipes_in_curriculum': 6.141078838174273, 'year 1 - norm_perc_experiences_in_curriculum': 3.660673121254034, 'year 2 - norm_perc_recipes_in_curriculum': 3.903284370358145, 'year 2 - norm_perc_experiences_in_curriculum': 4.761511800627166, 'year 3 - norm_perc_recipes_in_curriculum': 1.0488462691039857, 'year 3 - norm_perc_experiences_in_curriculum': 4.185396064329238}, {'x': 5, 'year 1 - norm_perc_recipes_in_curriculum': 8.0129091747349, 'year 1 - norm_perc_experiences_in_curriculum': 5.006915629322268, 'year 2 - norm_perc_recipes_in_curriculum': 3.9527974913352035, 'year 2 - norm_perc_experiences_in_curriculum': 3.4576662815646144, 'year 3 - norm_perc_recipes_in_curriculum': 4.66486864449106, 'year 3 - norm_perc_experiences_in_curriculum': 8.210967935271201}, {'x': 6, 'year 1 - norm_perc_recipes_in_curriculum': 3.0889810972798526, 'year 1 - norm_perc_experiences_in_curriculum': 5.375749193176579, 'year 2 - norm_perc_recipes_in_curriculum': 2.5334213566595145, 'year 2 - norm_perc_experiences_in_curriculum': 7.0061066182538365, 'year 3 - norm_perc_recipes_in_curriculum': 2.8968135051443413, 'year 3 - norm_perc_experiences_in_curriculum': 22.22555189291779}, {'x': 7, 'year 1 - norm_perc_recipes_in_curriculum': 1.2909174734900877, 'year 1 - norm_perc_experiences_in_curriculum': 1.871830336560627, 'year 2 - norm_perc_recipes_in_curriculum': 0.4373659019640204, 'year 2 - norm_perc_experiences_in_curriculum': 0.7922099356329427, 'year 3 - norm_perc_recipes_in_curriculum': 0.0, 'year 3 - norm_perc_experiences_in_curriculum': 0.0}, {'x': 8, 'year 1 - norm_perc_recipes_in_curriculum': 2.2498847395112955, 'year 1 - norm_perc_experiences_in_curriculum': 2.185338865836791, 'year 2 - norm_perc_recipes_in_curriculum': 0.8747318039280408, 'year 2 - norm_perc_experiences_in_curriculum': 3.895032183528635, 'year 3 - norm_perc_recipes_in_curriculum': 0.0, 'year 3 - norm_perc_experiences_in_curriculum': 0.0}, {'x': 9, 'year 1 - norm_perc_recipes_in_curriculum': 0.2766251728907331, 'year 1 - norm_perc_experiences_in_curriculum': 0.22130013831258644, 'year 2 - norm_perc_recipes_in_curriculum': 2.376629806898828, 'year 2 - norm_perc_experiences_in_curriculum': 2.871761016669417, 'year 3 - norm_perc_recipes_in_curriculum': 1.917890320647288, 'year 3 - norm_perc_experiences_in_curriculum': 1.6082309459594446}, {'x': 10, 'year 1 - norm_perc_recipes_in_curriculum': 4.177040110650069, 'year 1 - norm_perc_experiences_in_curriculum': 1.1065006915629323, 'year 2 - norm_perc_recipes_in_curriculum': 4.315893711833636, 'year 2 - norm_perc_experiences_in_curriculum': 5.330912691863343, 'year 3 - norm_perc_recipes_in_curriculum': 2.4073519128958147, 'year 3 - norm_perc_experiences_in_curriculum': 3.5560883028668466}, {'x': 11, 'year 1 - norm_perc_recipes_in_curriculum': 7.920700783771323, 'year 1 - norm_perc_experiences_in_curriculum': 1.8810511756569848, 'year 2 - norm_perc_recipes_in_curriculum': 4.150849975243439, 'year 2 - norm_perc_experiences_in_curriculum': 5.570226109919128, 'year 3 - norm_perc_recipes_in_curriculum': 3.5760663270402557, 'year 3 - norm_perc_experiences_in_curriculum': 4.175407052242533}, {'x': 12, 'year 1 - norm_perc_recipes_in_curriculum': 6.491470723835869, 'year 1 - norm_perc_experiences_in_curriculum': 1.8626094974642693, 'year 2 - norm_perc_recipes_in_curriculum': 2.9047697639874563, 'year 2 - norm_perc_experiences_in_curriculum': 4.794520547945205, 'year 3 - norm_perc_recipes_in_curriculum': 1.2985715712716013, 'year 3 - norm_perc_experiences_in_curriculum': 2.5272200579362702}];\n",
       "        \n",
       "        require(['amchart_core', 'amchart_charts', 'amcharts4/themes/animated'], columnCallback(params,\"chartdiv_012623c2-9ef3-11ea-992b-7c5cf8500ef5\") , function (err) {\n",
       "            console.log(err);\n",
       "        });\n",
       "        "
      ],
      "text/plain": [
       "<IPython.core.display.Javascript object>"
      ]
     },
     "metadata": {},
     "output_type": "display_data"
    }
   ],
   "source": [
    "column = am4.ColumnChart()\n",
    "column.setTitle(\"[bold]Normalized[/] number of activities in curriculum per month\")\n",
    "column.showLegend(False)\n",
    "column.fromDataFrame(df_months, \"month\", \n",
    "                     ['norm_perc_recipes_in_curriculum','norm_perc_experiences_in_curriculum'], \n",
    "                     hue=\"activity_school_year\", hue_prefix=\"year \")\n",
    "column.plot()"
   ]
  },
  {
   "cell_type": "markdown",
   "metadata": {},
   "source": [
    "### Lengths\n",
    "(total length: description + steps + observations)"
   ]
  },
  {
   "cell_type": "code",
   "execution_count": 25,
   "metadata": {},
   "outputs": [
    {
     "data": {
      "application/javascript": [
       "element.append('<div id=\"chartdiv_04528d93-9ef3-11ea-9bc3-7c5cf8500ef5\" class=\"am4jy\" style=\"height: 500px;\"></div>');"
      ],
      "text/plain": [
       "<IPython.core.display.Javascript object>"
      ]
     },
     "metadata": {},
     "output_type": "display_data"
    },
    {
     "data": {
      "application/javascript": [
       "$('#chartdiv_04528d93-9ef3-11ea-9bc3-7c5cf8500ef5').parent(\"div\").css(\"width\",\"100%\").css(\"overflow-y\",\"hidden\");"
      ],
      "text/plain": [
       "<IPython.core.display.Javascript object>"
      ]
     },
     "metadata": {},
     "output_type": "display_data"
    },
    {
     "data": {
      "application/javascript": [
       "var params = {};\n",
       "        params['series'] = {'year 1': 0, 'year 2': 0, 'year 3': 0};\n",
       "        \n",
       "        params['title'] = \"Activity total length per month\";\n",
       "            \n",
       "        params['legend'] = true;\n",
       "            \n",
       "        \n",
       "        params['data'] = [{'x': 1, 'year 1': 114.0, 'year 2': 149.0, 'year 3': 145.0}, {'x': 2, 'year 1': 124.0, 'year 2': 140.0, 'year 3': 150.0}, {'x': 3, 'year 1': 132.0, 'year 2': 134.0, 'year 3': 182.0}, {'x': 4, 'year 1': 125.0, 'year 2': 144.0, 'year 3': 174.0}, {'x': 5, 'year 1': 117.0, 'year 2': 143.0, 'year 3': 149.0}, {'x': 6, 'year 1': 139.0, 'year 2': 135.0, 'year 3': 158.0}, {'x': 7, 'year 1': 166.0, 'year 2': 156.0, 'year 3': 0.0}, {'x': 8, 'year 1': 119.0, 'year 2': 157.0, 'year 3': 110.0}, {'x': 9, 'year 1': 106.0, 'year 2': 146.0, 'year 3': 136.0}, {'x': 10, 'year 1': 119.0, 'year 2': 157.0, 'year 3': 137.0}, {'x': 11, 'year 1': 116.0, 'year 2': 143.0, 'year 3': 146.0}, {'x': 12, 'year 1': 110.0, 'year 2': 153.0, 'year 3': 167.0}];\n",
       "        \n",
       "        require(['amchart_core', 'amchart_charts', 'amcharts4/themes/animated'], columnCallback(params,\"chartdiv_04528d93-9ef3-11ea-9bc3-7c5cf8500ef5\") , function (err) {\n",
       "            console.log(err);\n",
       "        });\n",
       "        "
      ],
      "text/plain": [
       "<IPython.core.display.Javascript object>"
      ]
     },
     "metadata": {},
     "output_type": "display_data"
    }
   ],
   "source": [
    "column = am4.ColumnChart()\n",
    "column.setTitle(\"Activity total length per month\")\n",
    "column.fromDataFrame(df_months, \"month\", \n",
    "                     ['avg_activity_total_length'], \n",
    "                     hue=\"activity_school_year\", hue_prefix=\"year \")\n",
    "column.plot()"
   ]
  },
  {
   "cell_type": "code",
   "execution_count": 28,
   "metadata": {},
   "outputs": [
    {
     "data": {
      "application/javascript": [
       "element.append('<div id=\"chartdiv_0de78d95-9ef3-11ea-9453-7c5cf8500ef5\" class=\"am4jy\" style=\"height: 500px;\"></div>');"
      ],
      "text/plain": [
       "<IPython.core.display.Javascript object>"
      ]
     },
     "metadata": {},
     "output_type": "display_data"
    },
    {
     "data": {
      "application/javascript": [
       "$('#chartdiv_0de78d95-9ef3-11ea-9453-7c5cf8500ef5').parent(\"div\").css(\"width\",\"100%\").css(\"overflow-y\",\"hidden\");"
      ],
      "text/plain": [
       "<IPython.core.display.Javascript object>"
      ]
     },
     "metadata": {},
     "output_type": "display_data"
    },
    {
     "data": {
      "application/javascript": [
       "var params = {};\n",
       "        params['series'] = {'year 1 - avg_len_descriptions': 0, 'year 1 - avg_len_steps': 1, 'year 1 - avg_len_observations': 1, 'year 2 - avg_len_descriptions': 0, 'year 2 - avg_len_steps': 1, 'year 2 - avg_len_observations': 1, 'year 3 - avg_len_descriptions': 0, 'year 3 - avg_len_steps': 1, 'year 3 - avg_len_observations': 1};\n",
       "        \n",
       "        params['title'] = \"Activity total length per month\";\n",
       "            \n",
       "        params['legend'] = true;\n",
       "            \n",
       "        \n",
       "        params['data'] = [{'x': 1, 'year 1 - avg_len_descriptions': 9.0, 'year 1 - avg_len_steps': 96.0, 'year 1 - avg_len_observations': 8.0, 'year 2 - avg_len_descriptions': 11.0, 'year 2 - avg_len_steps': 129.0, 'year 2 - avg_len_observations': 6.0, 'year 3 - avg_len_descriptions': 18.0, 'year 3 - avg_len_steps': 134.0, 'year 3 - avg_len_observations': 3.0}, {'x': 2, 'year 1 - avg_len_descriptions': 9.0, 'year 1 - avg_len_steps': 107.0, 'year 1 - avg_len_observations': 8.0, 'year 2 - avg_len_descriptions': 7.0, 'year 2 - avg_len_steps': 128.0, 'year 2 - avg_len_observations': 5.0, 'year 3 - avg_len_descriptions': 9.0, 'year 3 - avg_len_steps': 136.0, 'year 3 - avg_len_observations': 4.0}, {'x': 3, 'year 1 - avg_len_descriptions': 9.0, 'year 1 - avg_len_steps': 115.0, 'year 1 - avg_len_observations': 9.0, 'year 2 - avg_len_descriptions': 6.0, 'year 2 - avg_len_steps': 123.0, 'year 2 - avg_len_observations': 5.0, 'year 3 - avg_len_descriptions': 8.0, 'year 3 - avg_len_steps': 166.0, 'year 3 - avg_len_observations': 5.0}, {'x': 4, 'year 1 - avg_len_descriptions': 9.0, 'year 1 - avg_len_steps': 109.0, 'year 1 - avg_len_observations': 9.0, 'year 2 - avg_len_descriptions': 10.0, 'year 2 - avg_len_steps': 126.0, 'year 2 - avg_len_observations': 8.0, 'year 3 - avg_len_descriptions': 10.0, 'year 3 - avg_len_steps': 156.0, 'year 3 - avg_len_observations': 7.0}, {'x': 5, 'year 1 - avg_len_descriptions': 9.0, 'year 1 - avg_len_steps': 101.0, 'year 1 - avg_len_observations': 6.0, 'year 2 - avg_len_descriptions': 10.0, 'year 2 - avg_len_steps': 124.0, 'year 2 - avg_len_observations': 6.0, 'year 3 - avg_len_descriptions': 5.0, 'year 3 - avg_len_steps': 139.0, 'year 3 - avg_len_observations': 3.0}, {'x': 6, 'year 1 - avg_len_descriptions': 11.0, 'year 1 - avg_len_steps': 124.0, 'year 1 - avg_len_observations': 6.0, 'year 2 - avg_len_descriptions': 38.0, 'year 2 - avg_len_steps': 123.0, 'year 2 - avg_len_observations': 5.0, 'year 3 - avg_len_descriptions': 8.0, 'year 3 - avg_len_steps': 147.0, 'year 3 - avg_len_observations': 4.0}, {'x': 7, 'year 1 - avg_len_descriptions': 18.0, 'year 1 - avg_len_steps': 140.0, 'year 1 - avg_len_observations': 11.0, 'year 2 - avg_len_descriptions': 8.0, 'year 2 - avg_len_steps': 140.0, 'year 2 - avg_len_observations': 7.0, 'year 3 - avg_len_descriptions': 0.0, 'year 3 - avg_len_steps': 0.0, 'year 3 - avg_len_observations': 0.0}, {'x': 8, 'year 1 - avg_len_descriptions': 9.0, 'year 1 - avg_len_steps': 103.0, 'year 1 - avg_len_observations': 5.0, 'year 2 - avg_len_descriptions': 10.0, 'year 2 - avg_len_steps': 136.0, 'year 2 - avg_len_observations': 4.0, 'year 3 - avg_len_descriptions': 2.0, 'year 3 - avg_len_steps': 105.0, 'year 3 - avg_len_observations': 8.0}, {'x': 9, 'year 1 - avg_len_descriptions': 6.0, 'year 1 - avg_len_steps': 92.0, 'year 1 - avg_len_observations': 9.0, 'year 2 - avg_len_descriptions': 15.0, 'year 2 - avg_len_steps': 122.0, 'year 2 - avg_len_observations': 8.0, 'year 3 - avg_len_descriptions': 7.0, 'year 3 - avg_len_steps': 123.0, 'year 3 - avg_len_observations': 6.0}, {'x': 10, 'year 1 - avg_len_descriptions': 9.0, 'year 1 - avg_len_steps': 104.0, 'year 1 - avg_len_observations': 9.0, 'year 2 - avg_len_descriptions': 18.0, 'year 2 - avg_len_steps': 137.0, 'year 2 - avg_len_observations': 7.0, 'year 3 - avg_len_descriptions': 9.0, 'year 3 - avg_len_steps': 121.0, 'year 3 - avg_len_observations': 7.0}, {'x': 11, 'year 1 - avg_len_descriptions': 9.0, 'year 1 - avg_len_steps': 99.0, 'year 1 - avg_len_observations': 10.0, 'year 2 - avg_len_descriptions': 10.0, 'year 2 - avg_len_steps': 126.0, 'year 2 - avg_len_observations': 8.0, 'year 3 - avg_len_descriptions': 8.0, 'year 3 - avg_len_steps': 136.0, 'year 3 - avg_len_observations': 5.0}, {'x': 12, 'year 1 - avg_len_descriptions': 9.0, 'year 1 - avg_len_steps': 95.0, 'year 1 - avg_len_observations': 8.0, 'year 2 - avg_len_descriptions': 10.0, 'year 2 - avg_len_steps': 133.0, 'year 2 - avg_len_observations': 9.0, 'year 3 - avg_len_descriptions': 6.0, 'year 3 - avg_len_steps': 159.0, 'year 3 - avg_len_observations': 4.0}];\n",
       "        \n",
       "        require(['amchart_core', 'amchart_charts', 'amcharts4/themes/animated'], columnCallback(params,\"chartdiv_0de78d95-9ef3-11ea-9453-7c5cf8500ef5\") , function (err) {\n",
       "            console.log(err);\n",
       "        });\n",
       "        "
      ],
      "text/plain": [
       "<IPython.core.display.Javascript object>"
      ]
     },
     "metadata": {},
     "output_type": "display_data"
    }
   ],
   "source": [
    "column = am4.ColumnChart()\n",
    "column.setTitle(\"Activity total length per month\")\n",
    "column.fromDataFrame(df_months, \"month\", \n",
    "                     ['avg_len_descriptions','avg_len_steps','avg_len_observations'], \n",
    "                     hue=\"activity_school_year\", hue_prefix=\"year \")\n",
    "column.plot()"
   ]
  },
  {
   "cell_type": "code",
   "execution_count": 29,
   "metadata": {},
   "outputs": [
    {
     "data": {
      "text/html": [
       "<div>\n",
       "<style scoped>\n",
       "    .dataframe tbody tr th:only-of-type {\n",
       "        vertical-align: middle;\n",
       "    }\n",
       "\n",
       "    .dataframe tbody tr th {\n",
       "        vertical-align: top;\n",
       "    }\n",
       "\n",
       "    .dataframe thead th {\n",
       "        text-align: right;\n",
       "    }\n",
       "</style>\n",
       "<table border=\"1\" class=\"dataframe\">\n",
       "  <thead>\n",
       "    <tr style=\"text-align: right;\">\n",
       "      <th></th>\n",
       "      <th>avg_activity_total_length</th>\n",
       "      <th>std_activity_total_length</th>\n",
       "    </tr>\n",
       "    <tr>\n",
       "      <th>activity_school_year</th>\n",
       "      <th></th>\n",
       "      <th></th>\n",
       "    </tr>\n",
       "  </thead>\n",
       "  <tbody>\n",
       "    <tr>\n",
       "      <th>1</th>\n",
       "      <td>123.916667</td>\n",
       "      <td>115.520000</td>\n",
       "    </tr>\n",
       "    <tr>\n",
       "      <th>2</th>\n",
       "      <td>146.416667</td>\n",
       "      <td>149.583333</td>\n",
       "    </tr>\n",
       "    <tr>\n",
       "      <th>3</th>\n",
       "      <td>137.833333</td>\n",
       "      <td>152.120833</td>\n",
       "    </tr>\n",
       "  </tbody>\n",
       "</table>\n",
       "</div>"
      ],
      "text/plain": [
       "                      avg_activity_total_length  std_activity_total_length\n",
       "activity_school_year                                                      \n",
       "1                                    123.916667                 115.520000\n",
       "2                                    146.416667                 149.583333\n",
       "3                                    137.833333                 152.120833"
      ]
     },
     "execution_count": 29,
     "metadata": {},
     "output_type": "execute_result"
    }
   ],
   "source": [
    "df_months[['activity_school_year','avg_activity_total_length','std_activity_total_length']]\\\n",
    "    .groupby('activity_school_year').mean()"
   ]
  },
  {
   "cell_type": "markdown",
   "metadata": {},
   "source": [
    "Note: std very high because of NULL descriptions. TODO: try without NULL descriptions"
   ]
  },
  {
   "cell_type": "code",
   "execution_count": 30,
   "metadata": {},
   "outputs": [
    {
     "data": {
      "application/javascript": [
       "element.append('<div id=\"chartdiv_10c464f9-9ef3-11ea-b105-7c5cf8500ef5\" class=\"am4jy\" style=\"height: 500px;\"></div>');"
      ],
      "text/plain": [
       "<IPython.core.display.Javascript object>"
      ]
     },
     "metadata": {},
     "output_type": "display_data"
    },
    {
     "data": {
      "application/javascript": [
       "$('#chartdiv_10c464f9-9ef3-11ea-b105-7c5cf8500ef5').parent(\"div\").css(\"width\",\"100%\").css(\"overflow-y\",\"hidden\");"
      ],
      "text/plain": [
       "<IPython.core.display.Javascript object>"
      ]
     },
     "metadata": {},
     "output_type": "display_data"
    },
    {
     "data": {
      "application/javascript": [
       "var params = {};\n",
       "        params['series'] = {'year 1': 0, 'year 2': 0, 'year 3': 0};\n",
       "        \n",
       "        params['title'] = \"Average reflections total length per month\";\n",
       "            \n",
       "        params['legend'] = true;\n",
       "            \n",
       "        \n",
       "        params['data'] = [{'x': 1, 'year 1': 5.59, 'year 2': 5.93, 'year 3': 7.39}, {'x': 2, 'year 1': 6.65, 'year 2': 4.14, 'year 3': 6.78}, {'x': 3, 'year 1': 6.25, 'year 2': 4.19, 'year 3': 7.09}, {'x': 4, 'year 1': 5.62, 'year 2': 5.87, 'year 3': 8.88}, {'x': 5, 'year 1': 5.95, 'year 2': 6.1, 'year 3': 5.5}, {'x': 6, 'year 1': 5.91, 'year 2': 5.97, 'year 3': 7.22}, {'x': 7, 'year 1': 9.91, 'year 2': 9.04, 'year 3': 0.0}, {'x': 8, 'year 1': 6.65, 'year 2': 8.48, 'year 3': 0.0}, {'x': 9, 'year 1': 9.78, 'year 2': 7.82, 'year 3': 8.78}, {'x': 10, 'year 1': 6.39, 'year 2': 4.92, 'year 3': 6.29}, {'x': 11, 'year 1': 5.64, 'year 2': 4.67, 'year 3': 8.14}, {'x': 12, 'year 1': 5.48, 'year 2': 5.44, 'year 3': 6.22}];\n",
       "        \n",
       "        require(['amchart_core', 'amchart_charts', 'amcharts4/themes/animated'], columnCallback(params,\"chartdiv_10c464f9-9ef3-11ea-b105-7c5cf8500ef5\") , function (err) {\n",
       "            console.log(err);\n",
       "        });\n",
       "        "
      ],
      "text/plain": [
       "<IPython.core.display.Javascript object>"
      ]
     },
     "metadata": {},
     "output_type": "display_data"
    }
   ],
   "source": [
    "column = am4.ColumnChart()\n",
    "column.setTitle(\"Average reflections total length per month\")\n",
    "column.fromDataFrame(df_months, \"month\", \n",
    "                     ['avg_sum_len_reflections'], \n",
    "                     hue=\"activity_school_year\", hue_prefix=\"year \")\n",
    "column.plot()"
   ]
  },
  {
   "cell_type": "code",
   "execution_count": 33,
   "metadata": {},
   "outputs": [
    {
     "data": {
      "application/javascript": [
       "element.append('<div id=\"chartdiv_1ad8f421-9ef3-11ea-ba68-7c5cf8500ef5\" class=\"am4jy\" style=\"height: 500px;\"></div>');"
      ],
      "text/plain": [
       "<IPython.core.display.Javascript object>"
      ]
     },
     "metadata": {},
     "output_type": "display_data"
    },
    {
     "data": {
      "application/javascript": [
       "$('#chartdiv_1ad8f421-9ef3-11ea-ba68-7c5cf8500ef5').parent(\"div\").css(\"width\",\"100%\").css(\"overflow-y\",\"hidden\");"
      ],
      "text/plain": [
       "<IPython.core.display.Javascript object>"
      ]
     },
     "metadata": {},
     "output_type": "display_data"
    },
    {
     "data": {
      "application/javascript": [
       "var params = {};\n",
       "        params['series'] = {'year 1 - avg_len_bilancio': 0, 'year 1 - avg_len_competenze': 1, 'year 1 - avg_len_miglioramenti': 1, 'year 1 - avg_len_critici': 1, 'year 2 - avg_len_bilancio': 0, 'year 2 - avg_len_competenze': 1, 'year 2 - avg_len_miglioramenti': 1, 'year 2 - avg_len_critici': 1, 'year 3 - avg_len_bilancio': 0, 'year 3 - avg_len_competenze': 1, 'year 3 - avg_len_miglioramenti': 1, 'year 3 - avg_len_critici': 1};\n",
       "        \n",
       "        params['title'] = \"Total length of average reflections per month\";\n",
       "            \n",
       "        params['legend'] = true;\n",
       "            \n",
       "        \n",
       "        params['data'] = [{'x': 1, 'year 1 - avg_len_bilancio': 5.61, 'year 1 - avg_len_competenze': 7.91, 'year 1 - avg_len_miglioramenti': 4.55, 'year 1 - avg_len_critici': 4.28, 'year 2 - avg_len_bilancio': 3.43, 'year 2 - avg_len_competenze': 11.18, 'year 2 - avg_len_miglioramenti': 3.66, 'year 2 - avg_len_critici': 5.46, 'year 3 - avg_len_bilancio': 8.88, 'year 3 - avg_len_competenze': 11.68, 'year 3 - avg_len_miglioramenti': 4.95, 'year 3 - avg_len_critici': 4.06}, {'x': 2, 'year 1 - avg_len_bilancio': 6.18, 'year 1 - avg_len_competenze': 10.05, 'year 1 - avg_len_miglioramenti': 5.27, 'year 1 - avg_len_critici': 5.09, 'year 2 - avg_len_bilancio': 3.77, 'year 2 - avg_len_competenze': 6.68, 'year 2 - avg_len_miglioramenti': 3.26, 'year 2 - avg_len_critici': 2.86, 'year 3 - avg_len_bilancio': 5.69, 'year 3 - avg_len_competenze': 10.98, 'year 3 - avg_len_miglioramenti': 5.76, 'year 3 - avg_len_critici': 4.67}, {'x': 3, 'year 1 - avg_len_bilancio': 5.71, 'year 1 - avg_len_competenze': 8.76, 'year 1 - avg_len_miglioramenti': 5.55, 'year 1 - avg_len_critici': 5.0, 'year 2 - avg_len_bilancio': 3.48, 'year 2 - avg_len_competenze': 7.21, 'year 2 - avg_len_miglioramenti': 2.81, 'year 2 - avg_len_critici': 3.21, 'year 3 - avg_len_bilancio': 5.67, 'year 3 - avg_len_competenze': 10.76, 'year 3 - avg_len_miglioramenti': 5.86, 'year 3 - avg_len_critici': 6.06}, {'x': 4, 'year 1 - avg_len_bilancio': 5.31, 'year 1 - avg_len_competenze': 8.14, 'year 1 - avg_len_miglioramenti': 4.96, 'year 1 - avg_len_critici': 4.08, 'year 2 - avg_len_bilancio': 5.4, 'year 2 - avg_len_competenze': 7.62, 'year 2 - avg_len_miglioramenti': 3.87, 'year 2 - avg_len_critici': 6.58, 'year 3 - avg_len_bilancio': 8.06, 'year 3 - avg_len_competenze': 13.66, 'year 3 - avg_len_miglioramenti': 7.69, 'year 3 - avg_len_critici': 6.1}, {'x': 5, 'year 1 - avg_len_bilancio': 5.69, 'year 1 - avg_len_competenze': 8.6, 'year 1 - avg_len_miglioramenti': 4.89, 'year 1 - avg_len_critici': 4.62, 'year 2 - avg_len_bilancio': 5.48, 'year 2 - avg_len_competenze': 9.77, 'year 2 - avg_len_miglioramenti': 4.89, 'year 2 - avg_len_critici': 4.24, 'year 3 - avg_len_bilancio': 4.38, 'year 3 - avg_len_competenze': 9.34, 'year 3 - avg_len_miglioramenti': 4.59, 'year 3 - avg_len_critici': 3.7}, {'x': 6, 'year 1 - avg_len_bilancio': 5.42, 'year 1 - avg_len_competenze': 8.26, 'year 1 - avg_len_miglioramenti': 4.74, 'year 1 - avg_len_critici': 5.21, 'year 2 - avg_len_bilancio': 5.14, 'year 2 - avg_len_competenze': 8.58, 'year 2 - avg_len_miglioramenti': 3.85, 'year 2 - avg_len_critici': 6.3, 'year 3 - avg_len_bilancio': 5.3, 'year 3 - avg_len_competenze': 13.62, 'year 3 - avg_len_miglioramenti': 5.06, 'year 3 - avg_len_critici': 4.9}, {'x': 7, 'year 1 - avg_len_bilancio': 9.85, 'year 1 - avg_len_competenze': 14.24, 'year 1 - avg_len_miglioramenti': 6.65, 'year 1 - avg_len_critici': 8.92, 'year 2 - avg_len_bilancio': 6.59, 'year 2 - avg_len_competenze': 12.83, 'year 2 - avg_len_miglioramenti': 7.83, 'year 2 - avg_len_critici': 8.9, 'year 3 - avg_len_bilancio': 0.0, 'year 3 - avg_len_competenze': 0.0, 'year 3 - avg_len_miglioramenti': 0.0, 'year 3 - avg_len_critici': 0.0}, {'x': 8, 'year 1 - avg_len_bilancio': 7.05, 'year 1 - avg_len_competenze': 10.12, 'year 1 - avg_len_miglioramenti': 6.31, 'year 1 - avg_len_critici': 3.11, 'year 2 - avg_len_bilancio': 7.37, 'year 2 - avg_len_competenze': 13.26, 'year 2 - avg_len_miglioramenti': 5.93, 'year 2 - avg_len_critici': 7.35, 'year 3 - avg_len_bilancio': 0.0, 'year 3 - avg_len_competenze': 0.0, 'year 3 - avg_len_miglioramenti': 0.0, 'year 3 - avg_len_critici': 0.0}, {'x': 9, 'year 1 - avg_len_bilancio': 9.13, 'year 1 - avg_len_competenze': 15.91, 'year 1 - avg_len_miglioramenti': 8.93, 'year 1 - avg_len_critici': 5.17, 'year 2 - avg_len_bilancio': 6.73, 'year 2 - avg_len_competenze': 11.77, 'year 2 - avg_len_miglioramenti': 6.68, 'year 2 - avg_len_critici': 6.07, 'year 3 - avg_len_bilancio': 7.44, 'year 3 - avg_len_competenze': 14.06, 'year 3 - avg_len_miglioramenti': 6.06, 'year 3 - avg_len_critici': 7.57}, {'x': 10, 'year 1 - avg_len_bilancio': 7.16, 'year 1 - avg_len_competenze': 9.5, 'year 1 - avg_len_miglioramenti': 4.65, 'year 1 - avg_len_critici': 4.26, 'year 2 - avg_len_bilancio': 4.78, 'year 2 - avg_len_competenze': 6.63, 'year 2 - avg_len_miglioramenti': 3.72, 'year 2 - avg_len_critici': 4.57, 'year 3 - avg_len_bilancio': 5.96, 'year 3 - avg_len_competenze': 8.96, 'year 3 - avg_len_miglioramenti': 5.34, 'year 3 - avg_len_critici': 4.9}, {'x': 11, 'year 1 - avg_len_bilancio': 5.32, 'year 1 - avg_len_competenze': 7.69, 'year 1 - avg_len_miglioramenti': 4.89, 'year 1 - avg_len_critici': 4.65, 'year 2 - avg_len_bilancio': 4.49, 'year 2 - avg_len_competenze': 6.78, 'year 2 - avg_len_miglioramenti': 3.71, 'year 2 - avg_len_critici': 3.72, 'year 3 - avg_len_bilancio': 6.65, 'year 3 - avg_len_competenze': 12.44, 'year 3 - avg_len_miglioramenti': 6.46, 'year 3 - avg_len_critici': 7.01}, {'x': 12, 'year 1 - avg_len_bilancio': 5.63, 'year 1 - avg_len_competenze': 7.4, 'year 1 - avg_len_miglioramenti': 4.34, 'year 1 - avg_len_critici': 4.57, 'year 2 - avg_len_bilancio': 3.17, 'year 2 - avg_len_competenze': 10.58, 'year 2 - avg_len_miglioramenti': 3.31, 'year 2 - avg_len_critici': 4.7, 'year 3 - avg_len_bilancio': 4.59, 'year 3 - avg_len_competenze': 11.18, 'year 3 - avg_len_miglioramenti': 4.31, 'year 3 - avg_len_critici': 4.78}];\n",
       "        \n",
       "        require(['amchart_core', 'amchart_charts', 'amcharts4/themes/animated'], columnCallback(params,\"chartdiv_1ad8f421-9ef3-11ea-ba68-7c5cf8500ef5\") , function (err) {\n",
       "            console.log(err);\n",
       "        });\n",
       "        "
      ],
      "text/plain": [
       "<IPython.core.display.Javascript object>"
      ]
     },
     "metadata": {},
     "output_type": "display_data"
    }
   ],
   "source": [
    "column = am4.ColumnChart()\n",
    "column.setTitle(\"Total length of average reflections per month\")\n",
    "column.fromDataFrame(df_months, \"month\", \n",
    "                     ['avg_len_bilancio','avg_len_competenze','avg_len_miglioramenti','avg_len_critici'], \n",
    "                     hue=\"activity_school_year\", hue_prefix=\"year \")\n",
    "column.plot()"
   ]
  },
  {
   "cell_type": "markdown",
   "metadata": {},
   "source": [
    "### Edits"
   ]
  },
  {
   "cell_type": "code",
   "execution_count": 34,
   "metadata": {},
   "outputs": [
    {
     "data": {
      "application/javascript": [
       "element.append('<div id=\"chartdiv_1d457a3f-9ef3-11ea-abbf-7c5cf8500ef5\" class=\"am4jy\" style=\"height: 500px;\"></div>');"
      ],
      "text/plain": [
       "<IPython.core.display.Javascript object>"
      ]
     },
     "metadata": {},
     "output_type": "display_data"
    },
    {
     "data": {
      "application/javascript": [
       "$('#chartdiv_1d457a3f-9ef3-11ea-abbf-7c5cf8500ef5').parent(\"div\").css(\"width\",\"100%\").css(\"overflow-y\",\"hidden\");"
      ],
      "text/plain": [
       "<IPython.core.display.Javascript object>"
      ]
     },
     "metadata": {},
     "output_type": "display_data"
    },
    {
     "data": {
      "application/javascript": [
       "var params = {};\n",
       "        params['series'] = {'year 1': 0, 'year 2': 0, 'year 3': 0};\n",
       "        \n",
       "        params['title'] = \"Edits per months\";\n",
       "            \n",
       "        params['legend'] = true;\n",
       "            \n",
       "        \n",
       "        params['data'] = [{'x': 1, 'year 1': 8964.0, 'year 2': 6386.0, 'year 3': 4169.0}, {'x': 2, 'year 1': 7554.0, 'year 2': 7422.0, 'year 3': 2937.0}, {'x': 3, 'year 1': 9814.0, 'year 2': 7603.0, 'year 3': 3382.0}, {'x': 4, 'year 1': 8130.0, 'year 2': 8324.0, 'year 3': 3617.0}, {'x': 5, 'year 1': 10230.0, 'year 2': 7165.0, 'year 3': 12487.0}, {'x': 6, 'year 1': 5540.0, 'year 2': 6010.0, 'year 3': 16508.0}, {'x': 7, 'year 1': 1910.0, 'year 2': 1934.0, 'year 3': 0.0}, {'x': 8, 'year 1': 2895.0, 'year 2': 5626.0, 'year 3': 46.0}, {'x': 9, 'year 1': 456.0, 'year 2': 5000.0, 'year 3': 3840.0}, {'x': 10, 'year 1': 4515.0, 'year 2': 8674.0, 'year 3': 4667.0}, {'x': 11, 'year 1': 9118.0, 'year 2': 8009.0, 'year 3': 7045.0}, {'x': 12, 'year 1': 7413.0, 'year 2': 5237.0, 'year 3': 3624.0}];\n",
       "        \n",
       "        require(['amchart_core', 'amchart_charts', 'amcharts4/themes/animated'], columnCallback(params,\"chartdiv_1d457a3f-9ef3-11ea-abbf-7c5cf8500ef5\") , function (err) {\n",
       "            console.log(err);\n",
       "        });\n",
       "        "
      ],
      "text/plain": [
       "<IPython.core.display.Javascript object>"
      ]
     },
     "metadata": {},
     "output_type": "display_data"
    }
   ],
   "source": [
    "column = am4.ColumnChart()\n",
    "column.setTitle(\"Edits per months\")\n",
    "column.fromDataFrame(df_months, \"month\", \n",
    "                     'n_edits', \n",
    "                     hue=\"activity_school_year\", hue_prefix=\"year \")\n",
    "column.plot()"
   ]
  },
  {
   "cell_type": "markdown",
   "metadata": {},
   "source": [
    "### Logins"
   ]
  },
  {
   "cell_type": "code",
   "execution_count": 35,
   "metadata": {},
   "outputs": [
    {
     "data": {
      "text/html": [
       "<div>\n",
       "<style scoped>\n",
       "    .dataframe tbody tr th:only-of-type {\n",
       "        vertical-align: middle;\n",
       "    }\n",
       "\n",
       "    .dataframe tbody tr th {\n",
       "        vertical-align: top;\n",
       "    }\n",
       "\n",
       "    .dataframe thead th {\n",
       "        text-align: right;\n",
       "    }\n",
       "</style>\n",
       "<table border=\"1\" class=\"dataframe\">\n",
       "  <thead>\n",
       "    <tr style=\"text-align: right;\">\n",
       "      <th></th>\n",
       "      <th>us_user</th>\n",
       "      <th>date</th>\n",
       "      <th>user_school_year</th>\n",
       "      <th>month</th>\n",
       "      <th>dayofweek</th>\n",
       "      <th>hour</th>\n",
       "      <th>minute</th>\n",
       "    </tr>\n",
       "  </thead>\n",
       "  <tbody>\n",
       "    <tr>\n",
       "      <th>0</th>\n",
       "      <td>20</td>\n",
       "      <td>2013-11-25 15:30:13</td>\n",
       "      <td>1</td>\n",
       "      <td>11</td>\n",
       "      <td>2</td>\n",
       "      <td>15</td>\n",
       "      <td>30</td>\n",
       "    </tr>\n",
       "    <tr>\n",
       "      <th>1</th>\n",
       "      <td>20</td>\n",
       "      <td>2013-12-19 14:11:06</td>\n",
       "      <td>1</td>\n",
       "      <td>12</td>\n",
       "      <td>5</td>\n",
       "      <td>14</td>\n",
       "      <td>11</td>\n",
       "    </tr>\n",
       "    <tr>\n",
       "      <th>2</th>\n",
       "      <td>20</td>\n",
       "      <td>2014-01-08 18:50:53</td>\n",
       "      <td>1</td>\n",
       "      <td>1</td>\n",
       "      <td>4</td>\n",
       "      <td>18</td>\n",
       "      <td>50</td>\n",
       "    </tr>\n",
       "    <tr>\n",
       "      <th>3</th>\n",
       "      <td>20</td>\n",
       "      <td>2014-01-08 20:14:51</td>\n",
       "      <td>1</td>\n",
       "      <td>1</td>\n",
       "      <td>4</td>\n",
       "      <td>20</td>\n",
       "      <td>14</td>\n",
       "    </tr>\n",
       "    <tr>\n",
       "      <th>4</th>\n",
       "      <td>20</td>\n",
       "      <td>2014-01-14 10:56:35</td>\n",
       "      <td>1</td>\n",
       "      <td>1</td>\n",
       "      <td>3</td>\n",
       "      <td>10</td>\n",
       "      <td>56</td>\n",
       "    </tr>\n",
       "  </tbody>\n",
       "</table>\n",
       "</div>"
      ],
      "text/plain": [
       "   us_user                date  user_school_year  month  dayofweek  hour  \\\n",
       "0       20 2013-11-25 15:30:13                 1     11          2    15   \n",
       "1       20 2013-12-19 14:11:06                 1     12          5    14   \n",
       "2       20 2014-01-08 18:50:53                 1      1          4    18   \n",
       "3       20 2014-01-08 20:14:51                 1      1          4    20   \n",
       "4       20 2014-01-14 10:56:35                 1      1          3    10   \n",
       "\n",
       "   minute  \n",
       "0      30  \n",
       "1      11  \n",
       "2      50  \n",
       "3      14  \n",
       "4      56  "
      ]
     },
     "execution_count": 35,
     "metadata": {},
     "output_type": "execute_result"
    }
   ],
   "source": [
    "df_students_logins = pd.read_csv(f\"{data_folder}students_logins.csv\")\\\n",
    "                        .drop(['ut_user_type','start_semester','start_year'],axis=1)\n",
    "df_students_logins['date'] = df_students_logins['date'].astype('datetime64')\n",
    "df_students_logins.head()"
   ]
  },
  {
   "cell_type": "code",
   "execution_count": 37,
   "metadata": {},
   "outputs": [],
   "source": [
    "date_hist = pd.DataFrame(df_students_logins['date'].groupby([df_students_logins[\"date\"].dt.dayofweek,df_students_logins[\"date\"].dt.hour]).count())\n",
    "date_hist = date_hist.rename(columns={\"date\": \"count\"})\n",
    "date_hist = pd.DataFrame([(x,y,get_loc(date_hist,(x,y),0,'count')) for x in range(7) for y in range(24)])\n",
    "date_hist.columns = ['dayofweek','hour','count']"
   ]
  },
  {
   "cell_type": "code",
   "execution_count": 41,
   "metadata": {},
   "outputs": [
    {
     "data": {
      "application/javascript": [
       "element.append('<div id=\"chartdiv_cb91ad77-9ef3-11ea-ba2e-7c5cf8500ef5\" class=\"am4jy\" style=\"height: 500px;\"></div>');"
      ],
      "text/plain": [
       "<IPython.core.display.Javascript object>"
      ]
     },
     "metadata": {},
     "output_type": "display_data"
    },
    {
     "data": {
      "application/javascript": [
       "$('#chartdiv_cb91ad77-9ef3-11ea-ba2e-7c5cf8500ef5').parent(\"div\").css(\"width\",\"100%\").css(\"overflow-y\",\"hidden\");"
      ],
      "text/plain": [
       "<IPython.core.display.Javascript object>"
      ]
     },
     "metadata": {},
     "output_type": "display_data"
    },
    {
     "data": {
      "application/javascript": [
       "var params = {};\n",
       "        params['series'] = {'0': 0, '1': 0, '2': 0, '3': 0, '4': 0, '5': 0, '6': 0, '7': 0, '8': 0, '9': 0, '10': 0, '11': 0, '12': 0, '13': 0, '14': 0, '15': 0, '16': 0, '17': 0, '18': 0, '19': 0, '20': 0, '21': 0, '22': 0, '23': 0};\n",
       "        \n",
       "        params['title'] = \"Apprentices logins\";\n",
       "            \n",
       "        params['legend'] = false;\n",
       "            \n",
       "        \n",
       "        params['data'] = [{'x': 0, '0': 24, '1': 15, '2': 10, '3': 73, '4': 111, '5': 125, '6': 308, '7': 417, '8': 446, '9': 666, '10': 576, '11': 648, '12': 903, '13': 1095, '14': 977, '15': 770, '16': 749, '17': 641, '18': 690, '19': 584, '20': 471, '21': 312, '22': 197, '23': 102}, {'x': 1, '0': 80, '1': 12, '2': 6, '3': 9, '4': 56, '5': 180, '6': 201, '7': 422, '8': 757, '9': 534, '10': 511, '11': 544, '12': 821, '13': 937, '14': 996, '15': 850, '16': 767, '17': 609, '18': 672, '19': 742, '20': 665, '21': 596, '22': 278, '23': 167}, {'x': 2, '0': 80, '1': 41, '2': 7, '3': 38, '4': 60, '5': 201, '6': 379, '7': 396, '8': 578, '9': 654, '10': 748, '11': 650, '12': 857, '13': 1194, '14': 905, '15': 807, '16': 499, '17': 591, '18': 574, '19': 710, '20': 700, '21': 597, '22': 200, '23': 70}, {'x': 3, '0': 69, '1': 13, '2': 0, '3': 6, '4': 69, '5': 185, '6': 285, '7': 287, '8': 396, '9': 605, '10': 606, '11': 572, '12': 638, '13': 1089, '14': 1152, '15': 670, '16': 568, '17': 458, '18': 510, '19': 412, '20': 398, '21': 350, '22': 225, '23': 105}, {'x': 4, '0': 61, '1': 13, '2': 6, '3': 4, '4': 17, '5': 73, '6': 210, '7': 431, '8': 351, '9': 450, '10': 536, '11': 427, '12': 644, '13': 690, '14': 650, '15': 604, '16': 456, '17': 405, '18': 255, '19': 215, '20': 242, '21': 107, '22': 109, '23': 103}, {'x': 5, '0': 58, '1': 17, '2': 4, '3': 3, '4': 14, '5': 66, '6': 58, '7': 171, '8': 218, '9': 466, '10': 512, '11': 521, '12': 388, '13': 467, '14': 588, '15': 543, '16': 405, '17': 251, '18': 239, '19': 382, '20': 282, '21': 249, '22': 132, '23': 100}, {'x': 6, '0': 63, '1': 47, '2': 26, '3': 6, '4': 8, '5': 14, '6': 72, '7': 119, '8': 273, '9': 462, '10': 492, '11': 546, '12': 756, '13': 859, '14': 950, '15': 812, '16': 630, '17': 551, '18': 613, '19': 534, '20': 447, '21': 297, '22': 163, '23': 78}];\n",
       "        \n",
       "        require(['amchart_core', 'amchart_charts', 'amcharts4/themes/animated'], columnCallback(params,\"chartdiv_cb91ad77-9ef3-11ea-ba2e-7c5cf8500ef5\") , function (err) {\n",
       "            console.log(err);\n",
       "        });\n",
       "        "
      ],
      "text/plain": [
       "<IPython.core.display.Javascript object>"
      ]
     },
     "metadata": {},
     "output_type": "display_data"
    }
   ],
   "source": [
    "column = am4.ColumnChart()\n",
    "column.setTitle(\"Apprentices logins\")\n",
    "column.showLegend(False)\n",
    "column.fromDataFrame(date_hist, \"dayofweek\", \n",
    "                     'count', \n",
    "                     hue=\"hour\")\n",
    "column.plot()"
   ]
  },
  {
   "cell_type": "markdown",
   "metadata": {},
   "source": [
    "--------------\n",
    "## Supervisors"
   ]
  },
  {
   "cell_type": "code",
   "execution_count": 45,
   "metadata": {},
   "outputs": [
    {
     "data": {
      "text/html": [
       "<div>\n",
       "<style scoped>\n",
       "    .dataframe tbody tr th:only-of-type {\n",
       "        vertical-align: middle;\n",
       "    }\n",
       "\n",
       "    .dataframe tbody tr th {\n",
       "        vertical-align: top;\n",
       "    }\n",
       "\n",
       "    .dataframe thead th {\n",
       "        text-align: right;\n",
       "    }\n",
       "</style>\n",
       "<table border=\"1\" class=\"dataframe\">\n",
       "  <thead>\n",
       "    <tr style=\"text-align: right;\">\n",
       "      <th></th>\n",
       "      <th>month</th>\n",
       "      <th>activity_school_year</th>\n",
       "      <th>n_users_per_year</th>\n",
       "      <th>n_logins</th>\n",
       "      <th>n_activities</th>\n",
       "      <th>n_recipes</th>\n",
       "      <th>n_experiences</th>\n",
       "      <th>avg_n_user_activities</th>\n",
       "      <th>avg_n_user_recipes</th>\n",
       "      <th>avg_n_user_experiences</th>\n",
       "      <th>n_files</th>\n",
       "      <th>n_files_recipes</th>\n",
       "      <th>n_files_experiences</th>\n",
       "      <th>avg_n_files</th>\n",
       "      <th>avg_n_files_recipes</th>\n",
       "      <th>avg_n_files_experiences</th>\n",
       "      <th>std_n_files</th>\n",
       "      <th>std_n_files_recipes</th>\n",
       "      <th>std_n_files_experiences</th>\n",
       "      <th>n_feedback_requests</th>\n",
       "      <th>n_feedback_responses</th>\n",
       "      <th>n_feedback_requests_recipes</th>\n",
       "      <th>n_feedback_responses_recipes</th>\n",
       "      <th>n_feedback_requests_experiences</th>\n",
       "      <th>n_feedback_responses_experiences</th>\n",
       "      <th>n_in_curriculum</th>\n",
       "      <th>n_in_curriculum_recipes</th>\n",
       "      <th>n_in_curriculum_experiences</th>\n",
       "      <th>n_in_curriculum_insert_date</th>\n",
       "      <th>n_in_curriculum_insert_date_recipes</th>\n",
       "      <th>n_in_curriculum_insert_date_experiences</th>\n",
       "      <th>avg_activity_total_length</th>\n",
       "      <th>std_activity_total_length</th>\n",
       "      <th>avg_len_descriptions</th>\n",
       "      <th>std_len_descriptions</th>\n",
       "      <th>avg_len_steps</th>\n",
       "      <th>std_len_steps</th>\n",
       "      <th>avg_len_observations</th>\n",
       "      <th>std_len_observations</th>\n",
       "      <th>avg_sum_len_reflections</th>\n",
       "      <th>std_avg_sum_len_reflections</th>\n",
       "      <th>avg_avg_len_reflections</th>\n",
       "      <th>std_avg_len_reflections</th>\n",
       "      <th>avg_len_bilancio</th>\n",
       "      <th>std_len_bilancio</th>\n",
       "      <th>avg_len_competenze</th>\n",
       "      <th>std_len_competenze</th>\n",
       "      <th>avg_len_miglioramenti</th>\n",
       "      <th>std_len_miglioramenti</th>\n",
       "      <th>avg_len_critici</th>\n",
       "      <th>std_len_critici</th>\n",
       "      <th>total_reflections</th>\n",
       "      <th>total_null_reflections</th>\n",
       "      <th>n_edits</th>\n",
       "      <th>perc_total_feedback_requests</th>\n",
       "      <th>perc_total_feedback_requests_recipes</th>\n",
       "      <th>perc_total_feedback_requests_experiences</th>\n",
       "      <th>perc_feedback_responses</th>\n",
       "      <th>perc_feedback_responses_recipes</th>\n",
       "      <th>perc_feedback_responses_experiences</th>\n",
       "      <th>perc_in_curriculum</th>\n",
       "      <th>perc_recipes_in_curriculum</th>\n",
       "      <th>perc_experiences_in_curriculum</th>\n",
       "      <th>perc_in_curriculum_insert_date</th>\n",
       "      <th>perc_recipes_in_curriculum_insert_date</th>\n",
       "      <th>perc_experiences_in_curriculum_insert_date</th>\n",
       "    </tr>\n",
       "  </thead>\n",
       "  <tbody>\n",
       "    <tr>\n",
       "      <th>0</th>\n",
       "      <td>1</td>\n",
       "      <td>1</td>\n",
       "      <td>227</td>\n",
       "      <td>259</td>\n",
       "      <td>1259.0</td>\n",
       "      <td>947.0</td>\n",
       "      <td>312.0</td>\n",
       "      <td>4.43</td>\n",
       "      <td>3.33</td>\n",
       "      <td>1.10</td>\n",
       "      <td>3437.0</td>\n",
       "      <td>3061.0</td>\n",
       "      <td>376.0</td>\n",
       "      <td>9.0</td>\n",
       "      <td>9.0</td>\n",
       "      <td>1.0</td>\n",
       "      <td>5.5266</td>\n",
       "      <td>6.0612</td>\n",
       "      <td>2.2693</td>\n",
       "      <td>292.0</td>\n",
       "      <td>217.0</td>\n",
       "      <td>225.0</td>\n",
       "      <td>165.0</td>\n",
       "      <td>67.0</td>\n",
       "      <td>52.0</td>\n",
       "      <td>1174.0</td>\n",
       "      <td>909.0</td>\n",
       "      <td>265.0</td>\n",
       "      <td>222.0</td>\n",
       "      <td>169.0</td>\n",
       "      <td>53.0</td>\n",
       "      <td>16.0</td>\n",
       "      <td>0.0</td>\n",
       "      <td>1.0</td>\n",
       "      <td>0.0</td>\n",
       "      <td>14.0</td>\n",
       "      <td>0.0</td>\n",
       "      <td>1.0</td>\n",
       "      <td>0.0</td>\n",
       "      <td>4.84</td>\n",
       "      <td>7.30</td>\n",
       "      <td>2.66</td>\n",
       "      <td>5.19</td>\n",
       "      <td>4.38</td>\n",
       "      <td>9.77</td>\n",
       "      <td>7.55</td>\n",
       "      <td>14.28</td>\n",
       "      <td>4.01</td>\n",
       "      <td>7.87</td>\n",
       "      <td>3.44</td>\n",
       "      <td>8.69</td>\n",
       "      <td>0.0</td>\n",
       "      <td>1.0</td>\n",
       "      <td>8964.0</td>\n",
       "      <td>23.19</td>\n",
       "      <td>23.76</td>\n",
       "      <td>21.47</td>\n",
       "      <td>17.24</td>\n",
       "      <td>17.42</td>\n",
       "      <td>16.67</td>\n",
       "      <td>93.25</td>\n",
       "      <td>72.20</td>\n",
       "      <td>21.05</td>\n",
       "      <td>17.63</td>\n",
       "      <td>13.42</td>\n",
       "      <td>4.21</td>\n",
       "    </tr>\n",
       "    <tr>\n",
       "      <th>1</th>\n",
       "      <td>1</td>\n",
       "      <td>2</td>\n",
       "      <td>101</td>\n",
       "      <td>113</td>\n",
       "      <td>1093.0</td>\n",
       "      <td>367.0</td>\n",
       "      <td>726.0</td>\n",
       "      <td>5.66</td>\n",
       "      <td>1.90</td>\n",
       "      <td>3.76</td>\n",
       "      <td>1976.0</td>\n",
       "      <td>1379.0</td>\n",
       "      <td>597.0</td>\n",
       "      <td>9.0</td>\n",
       "      <td>6.0</td>\n",
       "      <td>2.0</td>\n",
       "      <td>4.5558</td>\n",
       "      <td>5.4339</td>\n",
       "      <td>4.3932</td>\n",
       "      <td>96.0</td>\n",
       "      <td>58.0</td>\n",
       "      <td>62.0</td>\n",
       "      <td>44.0</td>\n",
       "      <td>34.0</td>\n",
       "      <td>14.0</td>\n",
       "      <td>1023.0</td>\n",
       "      <td>323.0</td>\n",
       "      <td>700.0</td>\n",
       "      <td>74.0</td>\n",
       "      <td>51.0</td>\n",
       "      <td>23.0</td>\n",
       "      <td>0.0</td>\n",
       "      <td>0.0</td>\n",
       "      <td>0.0</td>\n",
       "      <td>0.0</td>\n",
       "      <td>0.0</td>\n",
       "      <td>0.0</td>\n",
       "      <td>0.0</td>\n",
       "      <td>0.0</td>\n",
       "      <td>3.36</td>\n",
       "      <td>4.59</td>\n",
       "      <td>1.75</td>\n",
       "      <td>3.33</td>\n",
       "      <td>3.02</td>\n",
       "      <td>5.85</td>\n",
       "      <td>4.77</td>\n",
       "      <td>7.25</td>\n",
       "      <td>3.31</td>\n",
       "      <td>9.37</td>\n",
       "      <td>2.32</td>\n",
       "      <td>6.82</td>\n",
       "      <td>0.0</td>\n",
       "      <td>0.0</td>\n",
       "      <td>6386.0</td>\n",
       "      <td>8.78</td>\n",
       "      <td>16.89</td>\n",
       "      <td>4.68</td>\n",
       "      <td>5.31</td>\n",
       "      <td>11.99</td>\n",
       "      <td>1.93</td>\n",
       "      <td>93.60</td>\n",
       "      <td>29.55</td>\n",
       "      <td>64.04</td>\n",
       "      <td>6.77</td>\n",
       "      <td>4.67</td>\n",
       "      <td>2.10</td>\n",
       "    </tr>\n",
       "    <tr>\n",
       "      <th>2</th>\n",
       "      <td>1</td>\n",
       "      <td>3</td>\n",
       "      <td>42</td>\n",
       "      <td>26</td>\n",
       "      <td>805.0</td>\n",
       "      <td>328.0</td>\n",
       "      <td>477.0</td>\n",
       "      <td>7.06</td>\n",
       "      <td>2.88</td>\n",
       "      <td>4.18</td>\n",
       "      <td>596.0</td>\n",
       "      <td>500.0</td>\n",
       "      <td>96.0</td>\n",
       "      <td>11.0</td>\n",
       "      <td>10.0</td>\n",
       "      <td>1.0</td>\n",
       "      <td>7.6447</td>\n",
       "      <td>8.4491</td>\n",
       "      <td>2.8290</td>\n",
       "      <td>43.0</td>\n",
       "      <td>20.0</td>\n",
       "      <td>23.0</td>\n",
       "      <td>11.0</td>\n",
       "      <td>20.0</td>\n",
       "      <td>9.0</td>\n",
       "      <td>682.0</td>\n",
       "      <td>240.0</td>\n",
       "      <td>442.0</td>\n",
       "      <td>1.0</td>\n",
       "      <td>0.0</td>\n",
       "      <td>1.0</td>\n",
       "      <td>0.0</td>\n",
       "      <td>0.0</td>\n",
       "      <td>0.0</td>\n",
       "      <td>0.0</td>\n",
       "      <td>0.0</td>\n",
       "      <td>0.0</td>\n",
       "      <td>0.0</td>\n",
       "      <td>0.0</td>\n",
       "      <td>5.47</td>\n",
       "      <td>6.76</td>\n",
       "      <td>2.38</td>\n",
       "      <td>2.19</td>\n",
       "      <td>5.03</td>\n",
       "      <td>8.99</td>\n",
       "      <td>5.69</td>\n",
       "      <td>9.13</td>\n",
       "      <td>7.17</td>\n",
       "      <td>7.63</td>\n",
       "      <td>4.00</td>\n",
       "      <td>11.33</td>\n",
       "      <td>0.0</td>\n",
       "      <td>0.0</td>\n",
       "      <td>4169.0</td>\n",
       "      <td>5.34</td>\n",
       "      <td>7.01</td>\n",
       "      <td>4.19</td>\n",
       "      <td>2.48</td>\n",
       "      <td>3.35</td>\n",
       "      <td>1.89</td>\n",
       "      <td>84.72</td>\n",
       "      <td>29.81</td>\n",
       "      <td>54.91</td>\n",
       "      <td>0.12</td>\n",
       "      <td>0.00</td>\n",
       "      <td>0.12</td>\n",
       "    </tr>\n",
       "    <tr>\n",
       "      <th>3</th>\n",
       "      <td>2</td>\n",
       "      <td>1</td>\n",
       "      <td>227</td>\n",
       "      <td>216</td>\n",
       "      <td>1139.0</td>\n",
       "      <td>728.0</td>\n",
       "      <td>411.0</td>\n",
       "      <td>3.64</td>\n",
       "      <td>2.33</td>\n",
       "      <td>1.31</td>\n",
       "      <td>3843.0</td>\n",
       "      <td>3483.0</td>\n",
       "      <td>360.0</td>\n",
       "      <td>11.0</td>\n",
       "      <td>10.0</td>\n",
       "      <td>1.0</td>\n",
       "      <td>6.7857</td>\n",
       "      <td>7.2533</td>\n",
       "      <td>2.2828</td>\n",
       "      <td>249.0</td>\n",
       "      <td>134.0</td>\n",
       "      <td>181.0</td>\n",
       "      <td>116.0</td>\n",
       "      <td>68.0</td>\n",
       "      <td>18.0</td>\n",
       "      <td>1006.0</td>\n",
       "      <td>663.0</td>\n",
       "      <td>343.0</td>\n",
       "      <td>197.0</td>\n",
       "      <td>148.0</td>\n",
       "      <td>49.0</td>\n",
       "      <td>0.0</td>\n",
       "      <td>0.0</td>\n",
       "      <td>0.0</td>\n",
       "      <td>0.0</td>\n",
       "      <td>0.0</td>\n",
       "      <td>0.0</td>\n",
       "      <td>0.0</td>\n",
       "      <td>0.0</td>\n",
       "      <td>5.34</td>\n",
       "      <td>7.46</td>\n",
       "      <td>3.21</td>\n",
       "      <td>6.42</td>\n",
       "      <td>4.48</td>\n",
       "      <td>8.98</td>\n",
       "      <td>7.74</td>\n",
       "      <td>15.31</td>\n",
       "      <td>3.86</td>\n",
       "      <td>7.74</td>\n",
       "      <td>5.26</td>\n",
       "      <td>13.99</td>\n",
       "      <td>0.0</td>\n",
       "      <td>0.0</td>\n",
       "      <td>7554.0</td>\n",
       "      <td>21.86</td>\n",
       "      <td>24.86</td>\n",
       "      <td>16.55</td>\n",
       "      <td>11.76</td>\n",
       "      <td>15.93</td>\n",
       "      <td>4.38</td>\n",
       "      <td>88.32</td>\n",
       "      <td>58.21</td>\n",
       "      <td>30.11</td>\n",
       "      <td>17.30</td>\n",
       "      <td>12.99</td>\n",
       "      <td>4.30</td>\n",
       "    </tr>\n",
       "    <tr>\n",
       "      <th>4</th>\n",
       "      <td>2</td>\n",
       "      <td>2</td>\n",
       "      <td>101</td>\n",
       "      <td>80</td>\n",
       "      <td>1234.0</td>\n",
       "      <td>334.0</td>\n",
       "      <td>900.0</td>\n",
       "      <td>6.63</td>\n",
       "      <td>1.80</td>\n",
       "      <td>4.84</td>\n",
       "      <td>2134.0</td>\n",
       "      <td>1285.0</td>\n",
       "      <td>849.0</td>\n",
       "      <td>10.0</td>\n",
       "      <td>7.0</td>\n",
       "      <td>3.0</td>\n",
       "      <td>7.8019</td>\n",
       "      <td>8.3508</td>\n",
       "      <td>5.7190</td>\n",
       "      <td>87.0</td>\n",
       "      <td>53.0</td>\n",
       "      <td>37.0</td>\n",
       "      <td>26.0</td>\n",
       "      <td>50.0</td>\n",
       "      <td>27.0</td>\n",
       "      <td>1158.0</td>\n",
       "      <td>299.0</td>\n",
       "      <td>859.0</td>\n",
       "      <td>145.0</td>\n",
       "      <td>36.0</td>\n",
       "      <td>109.0</td>\n",
       "      <td>0.0</td>\n",
       "      <td>0.0</td>\n",
       "      <td>0.0</td>\n",
       "      <td>0.0</td>\n",
       "      <td>0.0</td>\n",
       "      <td>0.0</td>\n",
       "      <td>0.0</td>\n",
       "      <td>0.0</td>\n",
       "      <td>4.34</td>\n",
       "      <td>4.63</td>\n",
       "      <td>2.69</td>\n",
       "      <td>3.23</td>\n",
       "      <td>4.30</td>\n",
       "      <td>6.86</td>\n",
       "      <td>6.25</td>\n",
       "      <td>8.99</td>\n",
       "      <td>2.92</td>\n",
       "      <td>5.45</td>\n",
       "      <td>3.90</td>\n",
       "      <td>10.21</td>\n",
       "      <td>0.0</td>\n",
       "      <td>0.0</td>\n",
       "      <td>7422.0</td>\n",
       "      <td>7.05</td>\n",
       "      <td>11.08</td>\n",
       "      <td>5.56</td>\n",
       "      <td>4.29</td>\n",
       "      <td>7.78</td>\n",
       "      <td>3.00</td>\n",
       "      <td>93.84</td>\n",
       "      <td>24.23</td>\n",
       "      <td>69.61</td>\n",
       "      <td>11.75</td>\n",
       "      <td>2.92</td>\n",
       "      <td>8.83</td>\n",
       "    </tr>\n",
       "  </tbody>\n",
       "</table>\n",
       "</div>"
      ],
      "text/plain": [
       "   month  activity_school_year  n_users_per_year  n_logins  n_activities  \\\n",
       "0      1                     1               227       259        1259.0   \n",
       "1      1                     2               101       113        1093.0   \n",
       "2      1                     3                42        26         805.0   \n",
       "3      2                     1               227       216        1139.0   \n",
       "4      2                     2               101        80        1234.0   \n",
       "\n",
       "   n_recipes  n_experiences  avg_n_user_activities  avg_n_user_recipes  \\\n",
       "0      947.0          312.0                   4.43                3.33   \n",
       "1      367.0          726.0                   5.66                1.90   \n",
       "2      328.0          477.0                   7.06                2.88   \n",
       "3      728.0          411.0                   3.64                2.33   \n",
       "4      334.0          900.0                   6.63                1.80   \n",
       "\n",
       "   avg_n_user_experiences  n_files  n_files_recipes  n_files_experiences  \\\n",
       "0                    1.10   3437.0           3061.0                376.0   \n",
       "1                    3.76   1976.0           1379.0                597.0   \n",
       "2                    4.18    596.0            500.0                 96.0   \n",
       "3                    1.31   3843.0           3483.0                360.0   \n",
       "4                    4.84   2134.0           1285.0                849.0   \n",
       "\n",
       "   avg_n_files  avg_n_files_recipes  avg_n_files_experiences  std_n_files  \\\n",
       "0          9.0                  9.0                      1.0       5.5266   \n",
       "1          9.0                  6.0                      2.0       4.5558   \n",
       "2         11.0                 10.0                      1.0       7.6447   \n",
       "3         11.0                 10.0                      1.0       6.7857   \n",
       "4         10.0                  7.0                      3.0       7.8019   \n",
       "\n",
       "   std_n_files_recipes  std_n_files_experiences  n_feedback_requests  \\\n",
       "0               6.0612                   2.2693                292.0   \n",
       "1               5.4339                   4.3932                 96.0   \n",
       "2               8.4491                   2.8290                 43.0   \n",
       "3               7.2533                   2.2828                249.0   \n",
       "4               8.3508                   5.7190                 87.0   \n",
       "\n",
       "   n_feedback_responses  n_feedback_requests_recipes  \\\n",
       "0                 217.0                        225.0   \n",
       "1                  58.0                         62.0   \n",
       "2                  20.0                         23.0   \n",
       "3                 134.0                        181.0   \n",
       "4                  53.0                         37.0   \n",
       "\n",
       "   n_feedback_responses_recipes  n_feedback_requests_experiences  \\\n",
       "0                         165.0                             67.0   \n",
       "1                          44.0                             34.0   \n",
       "2                          11.0                             20.0   \n",
       "3                         116.0                             68.0   \n",
       "4                          26.0                             50.0   \n",
       "\n",
       "   n_feedback_responses_experiences  n_in_curriculum  n_in_curriculum_recipes  \\\n",
       "0                              52.0           1174.0                    909.0   \n",
       "1                              14.0           1023.0                    323.0   \n",
       "2                               9.0            682.0                    240.0   \n",
       "3                              18.0           1006.0                    663.0   \n",
       "4                              27.0           1158.0                    299.0   \n",
       "\n",
       "   n_in_curriculum_experiences  n_in_curriculum_insert_date  \\\n",
       "0                        265.0                        222.0   \n",
       "1                        700.0                         74.0   \n",
       "2                        442.0                          1.0   \n",
       "3                        343.0                        197.0   \n",
       "4                        859.0                        145.0   \n",
       "\n",
       "   n_in_curriculum_insert_date_recipes  \\\n",
       "0                                169.0   \n",
       "1                                 51.0   \n",
       "2                                  0.0   \n",
       "3                                148.0   \n",
       "4                                 36.0   \n",
       "\n",
       "   n_in_curriculum_insert_date_experiences  avg_activity_total_length  \\\n",
       "0                                     53.0                       16.0   \n",
       "1                                     23.0                        0.0   \n",
       "2                                      1.0                        0.0   \n",
       "3                                     49.0                        0.0   \n",
       "4                                    109.0                        0.0   \n",
       "\n",
       "   std_activity_total_length  avg_len_descriptions  std_len_descriptions  \\\n",
       "0                        0.0                   1.0                   0.0   \n",
       "1                        0.0                   0.0                   0.0   \n",
       "2                        0.0                   0.0                   0.0   \n",
       "3                        0.0                   0.0                   0.0   \n",
       "4                        0.0                   0.0                   0.0   \n",
       "\n",
       "   avg_len_steps  std_len_steps  avg_len_observations  std_len_observations  \\\n",
       "0           14.0            0.0                   1.0                   0.0   \n",
       "1            0.0            0.0                   0.0                   0.0   \n",
       "2            0.0            0.0                   0.0                   0.0   \n",
       "3            0.0            0.0                   0.0                   0.0   \n",
       "4            0.0            0.0                   0.0                   0.0   \n",
       "\n",
       "   avg_sum_len_reflections  std_avg_sum_len_reflections  \\\n",
       "0                     4.84                         7.30   \n",
       "1                     3.36                         4.59   \n",
       "2                     5.47                         6.76   \n",
       "3                     5.34                         7.46   \n",
       "4                     4.34                         4.63   \n",
       "\n",
       "   avg_avg_len_reflections  std_avg_len_reflections  avg_len_bilancio  \\\n",
       "0                     2.66                     5.19              4.38   \n",
       "1                     1.75                     3.33              3.02   \n",
       "2                     2.38                     2.19              5.03   \n",
       "3                     3.21                     6.42              4.48   \n",
       "4                     2.69                     3.23              4.30   \n",
       "\n",
       "   std_len_bilancio  avg_len_competenze  std_len_competenze  \\\n",
       "0              9.77                7.55               14.28   \n",
       "1              5.85                4.77                7.25   \n",
       "2              8.99                5.69                9.13   \n",
       "3              8.98                7.74               15.31   \n",
       "4              6.86                6.25                8.99   \n",
       "\n",
       "   avg_len_miglioramenti  std_len_miglioramenti  avg_len_critici  \\\n",
       "0                   4.01                   7.87             3.44   \n",
       "1                   3.31                   9.37             2.32   \n",
       "2                   7.17                   7.63             4.00   \n",
       "3                   3.86                   7.74             5.26   \n",
       "4                   2.92                   5.45             3.90   \n",
       "\n",
       "   std_len_critici  total_reflections  total_null_reflections  n_edits  \\\n",
       "0             8.69                0.0                     1.0   8964.0   \n",
       "1             6.82                0.0                     0.0   6386.0   \n",
       "2            11.33                0.0                     0.0   4169.0   \n",
       "3            13.99                0.0                     0.0   7554.0   \n",
       "4            10.21                0.0                     0.0   7422.0   \n",
       "\n",
       "   perc_total_feedback_requests  perc_total_feedback_requests_recipes  \\\n",
       "0                         23.19                                 23.76   \n",
       "1                          8.78                                 16.89   \n",
       "2                          5.34                                  7.01   \n",
       "3                         21.86                                 24.86   \n",
       "4                          7.05                                 11.08   \n",
       "\n",
       "   perc_total_feedback_requests_experiences  perc_feedback_responses  \\\n",
       "0                                     21.47                    17.24   \n",
       "1                                      4.68                     5.31   \n",
       "2                                      4.19                     2.48   \n",
       "3                                     16.55                    11.76   \n",
       "4                                      5.56                     4.29   \n",
       "\n",
       "   perc_feedback_responses_recipes  perc_feedback_responses_experiences  \\\n",
       "0                            17.42                                16.67   \n",
       "1                            11.99                                 1.93   \n",
       "2                             3.35                                 1.89   \n",
       "3                            15.93                                 4.38   \n",
       "4                             7.78                                 3.00   \n",
       "\n",
       "   perc_in_curriculum  perc_recipes_in_curriculum  \\\n",
       "0               93.25                       72.20   \n",
       "1               93.60                       29.55   \n",
       "2               84.72                       29.81   \n",
       "3               88.32                       58.21   \n",
       "4               93.84                       24.23   \n",
       "\n",
       "   perc_experiences_in_curriculum  perc_in_curriculum_insert_date  \\\n",
       "0                           21.05                           17.63   \n",
       "1                           64.04                            6.77   \n",
       "2                           54.91                            0.12   \n",
       "3                           30.11                           17.30   \n",
       "4                           69.61                           11.75   \n",
       "\n",
       "   perc_recipes_in_curriculum_insert_date  \\\n",
       "0                                   13.42   \n",
       "1                                    4.67   \n",
       "2                                    0.00   \n",
       "3                                   12.99   \n",
       "4                                    2.92   \n",
       "\n",
       "   perc_experiences_in_curriculum_insert_date  \n",
       "0                                        4.21  \n",
       "1                                        2.10  \n",
       "2                                        0.12  \n",
       "3                                        4.30  \n",
       "4                                        8.83  "
      ]
     },
     "execution_count": 45,
     "metadata": {},
     "output_type": "execute_result"
    }
   ],
   "source": [
    "df_months_supervisors = pd.read_csv(f\"{data_folder}months_supervisors.csv\").fillna(0).sort_values(by=['month','activity_school_year'])\n",
    "df_months_supervisors.head()"
   ]
  },
  {
   "cell_type": "markdown",
   "metadata": {},
   "source": [
    "### Feedbacks"
   ]
  },
  {
   "cell_type": "code",
   "execution_count": 46,
   "metadata": {},
   "outputs": [],
   "source": [
    "normalizePer(df_months_supervisors,'perc_total_feedback_responses_recipes',\n",
    "             'n_feedback_responses','activity_school_year','n_feedback_responses_recipes')\n",
    "normalizePer(df_months_supervisors,'perc_total_feedback_responses_experiences',\n",
    "             'n_feedback_responses','activity_school_year','n_feedback_responses_experiences')"
   ]
  },
  {
   "cell_type": "code",
   "execution_count": 48,
   "metadata": {},
   "outputs": [
    {
     "data": {
      "application/javascript": [
       "element.append('<div id=\"chartdiv_edeb4420-9f04-11ea-95b5-7c5cf8500ef5\" class=\"am4jy\" style=\"height: 500px;\"></div>');"
      ],
      "text/plain": [
       "<IPython.core.display.Javascript object>"
      ]
     },
     "metadata": {},
     "output_type": "display_data"
    },
    {
     "data": {
      "application/javascript": [
       "$('#chartdiv_edeb4420-9f04-11ea-95b5-7c5cf8500ef5').parent(\"div\").css(\"width\",\"100%\").css(\"overflow-y\",\"hidden\");"
      ],
      "text/plain": [
       "<IPython.core.display.Javascript object>"
      ]
     },
     "metadata": {},
     "output_type": "display_data"
    },
    {
     "data": {
      "application/javascript": [
       "var params = {};\n",
       "        params['series'] = {'year 1 - perc_total_feedback_responses_recipes': 0, 'year 1 - perc_total_feedback_responses_experiences': 1, 'year 2 - perc_total_feedback_responses_recipes': 0, 'year 2 - perc_total_feedback_responses_experiences': 1, 'year 3 - perc_total_feedback_responses_recipes': 0, 'year 3 - perc_total_feedback_responses_experiences': 1};\n",
       "        \n",
       "        params['title'] = \"% of feedback responses over the school year\";\n",
       "            \n",
       "        params['legend'] = false;\n",
       "            \n",
       "        \n",
       "        params['data'] = [{'x': 1, 'year 1 - perc_total_feedback_responses_recipes': 10.16009852216749, 'year 1 - perc_total_feedback_responses_experiences': 3.201970443349754, 'year 2 - perc_total_feedback_responses_recipes': 5.365853658536586, 'year 2 - perc_total_feedback_responses_experiences': 1.707317073170732, 'year 3 - perc_total_feedback_responses_recipes': 4.489795918367347, 'year 3 - perc_total_feedback_responses_experiences': 3.6734693877551017}, {'x': 2, 'year 1 - perc_total_feedback_responses_recipes': 7.142857142857143, 'year 1 - perc_total_feedback_responses_experiences': 1.1083743842364533, 'year 2 - perc_total_feedback_responses_recipes': 3.1707317073170733, 'year 2 - perc_total_feedback_responses_experiences': 3.2926829268292686, 'year 3 - perc_total_feedback_responses_recipes': 2.4489795918367343, 'year 3 - perc_total_feedback_responses_experiences': 3.6734693877551017}, {'x': 3, 'year 1 - perc_total_feedback_responses_recipes': 8.620689655172415, 'year 1 - perc_total_feedback_responses_experiences': 1.7857142857142858, 'year 2 - perc_total_feedback_responses_recipes': 8.536585365853659, 'year 2 - perc_total_feedback_responses_experiences': 2.682926829268293, 'year 3 - perc_total_feedback_responses_recipes': 2.0408163265306123, 'year 3 - perc_total_feedback_responses_experiences': 0.4081632653061224}, {'x': 4, 'year 1 - perc_total_feedback_responses_recipes': 5.9113300492610845, 'year 1 - perc_total_feedback_responses_experiences': 3.386699507389163, 'year 2 - perc_total_feedback_responses_recipes': 8.048780487804878, 'year 2 - perc_total_feedback_responses_experiences': 1.829268292682927, 'year 3 - perc_total_feedback_responses_recipes': 2.0408163265306123, 'year 3 - perc_total_feedback_responses_experiences': 1.6326530612244896}, {'x': 5, 'year 1 - perc_total_feedback_responses_recipes': 9.667487684729066, 'year 1 - perc_total_feedback_responses_experiences': 2.2167487684729066, 'year 2 - perc_total_feedback_responses_recipes': 4.75609756097561, 'year 2 - perc_total_feedback_responses_experiences': 3.414634146341464, 'year 3 - perc_total_feedback_responses_recipes': 3.265306122448979, 'year 3 - perc_total_feedback_responses_experiences': 3.6734693877551017}, {'x': 6, 'year 1 - perc_total_feedback_responses_recipes': 2.647783251231527, 'year 1 - perc_total_feedback_responses_experiences': 3.017241379310345, 'year 2 - perc_total_feedback_responses_recipes': 1.5853658536585367, 'year 2 - perc_total_feedback_responses_experiences': 2.1951219512195124, 'year 3 - perc_total_feedback_responses_recipes': 0.8163265306122448, 'year 3 - perc_total_feedback_responses_experiences': 6.122448979591836}, {'x': 7, 'year 1 - perc_total_feedback_responses_recipes': 0.9852216748768474, 'year 1 - perc_total_feedback_responses_experiences': 0.8620689655172414, 'year 2 - perc_total_feedback_responses_recipes': 1.0975609756097562, 'year 2 - perc_total_feedback_responses_experiences': 0.7317073170731708, 'year 3 - perc_total_feedback_responses_recipes': 0.0, 'year 3 - perc_total_feedback_responses_experiences': 0.0}, {'x': 8, 'year 1 - perc_total_feedback_responses_recipes': 2.9556650246305423, 'year 1 - perc_total_feedback_responses_experiences': 1.4778325123152711, 'year 2 - perc_total_feedback_responses_recipes': 1.707317073170732, 'year 2 - perc_total_feedback_responses_experiences': 1.829268292682927, 'year 3 - perc_total_feedback_responses_recipes': 0.0, 'year 3 - perc_total_feedback_responses_experiences': 0.0}, {'x': 9, 'year 1 - perc_total_feedback_responses_recipes': 0.8620689655172414, 'year 1 - perc_total_feedback_responses_experiences': 0.24630541871921185, 'year 2 - perc_total_feedback_responses_recipes': 5.487804878048781, 'year 2 - perc_total_feedback_responses_experiences': 3.414634146341464, 'year 3 - perc_total_feedback_responses_recipes': 10.204081632653061, 'year 3 - perc_total_feedback_responses_experiences': 6.122448979591836}, {'x': 10, 'year 1 - perc_total_feedback_responses_recipes': 6.465517241379311, 'year 1 - perc_total_feedback_responses_experiences': 2.4630541871921183, 'year 2 - perc_total_feedback_responses_recipes': 10.0, 'year 2 - perc_total_feedback_responses_experiences': 7.439024390243903, 'year 3 - perc_total_feedback_responses_recipes': 6.530612244897958, 'year 3 - perc_total_feedback_responses_experiences': 28.163265306122447}, {'x': 11, 'year 1 - perc_total_feedback_responses_recipes': 12.315270935960593, 'year 1 - perc_total_feedback_responses_experiences': 2.7093596059113305, 'year 2 - perc_total_feedback_responses_recipes': 10.487804878048781, 'year 2 - perc_total_feedback_responses_experiences': 4.2682926829268295, 'year 3 - perc_total_feedback_responses_recipes': 6.938775510204081, 'year 3 - perc_total_feedback_responses_experiences': 5.7142857142857135}, {'x': 12, 'year 1 - perc_total_feedback_responses_recipes': 8.128078817733991, 'year 1 - perc_total_feedback_responses_experiences': 1.66256157635468, 'year 2 - perc_total_feedback_responses_recipes': 4.2682926829268295, 'year 2 - perc_total_feedback_responses_experiences': 2.682926829268293, 'year 3 - perc_total_feedback_responses_recipes': 2.0408163265306123, 'year 3 - perc_total_feedback_responses_experiences': 0.0}];\n",
       "        \n",
       "        require(['amchart_core', 'amchart_charts', 'amcharts4/themes/animated'], columnCallback(params,\"chartdiv_edeb4420-9f04-11ea-95b5-7c5cf8500ef5\") , function (err) {\n",
       "            console.log(err);\n",
       "        });\n",
       "        "
      ],
      "text/plain": [
       "<IPython.core.display.Javascript object>"
      ]
     },
     "metadata": {},
     "output_type": "display_data"
    }
   ],
   "source": [
    "column = am4.ColumnChart()\n",
    "column.setTitle(\"% of feedback responses over the school year\")\n",
    "column.showLegend(False)\n",
    "column.fromDataFrame(df_months_supervisors, \"month\", \n",
    "                     ['perc_total_feedback_responses_recipes','perc_total_feedback_responses_experiences'], \n",
    "                     hue=\"activity_school_year\", hue_prefix=\"year \")\n",
    "column.plot()"
   ]
  },
  {
   "cell_type": "code",
   "execution_count": 54,
   "metadata": {},
   "outputs": [],
   "source": [
    "df_months_supervisors['ration_response'] = (df_months_supervisors['n_feedback_responses']/df_months['n_feedback_requests']).fillna(0)"
   ]
  },
  {
   "cell_type": "code",
   "execution_count": 57,
   "metadata": {},
   "outputs": [
    {
     "data": {
      "application/javascript": [
       "element.append('<div id=\"chartdiv_15837a6c-9f06-11ea-9367-7c5cf8500ef5\" class=\"am4jy\" style=\"height: 500px;\"></div>');"
      ],
      "text/plain": [
       "<IPython.core.display.Javascript object>"
      ]
     },
     "metadata": {},
     "output_type": "display_data"
    },
    {
     "data": {
      "application/javascript": [
       "$('#chartdiv_15837a6c-9f06-11ea-9367-7c5cf8500ef5').parent(\"div\").css(\"width\",\"100%\").css(\"overflow-y\",\"hidden\");"
      ],
      "text/plain": [
       "<IPython.core.display.Javascript object>"
      ]
     },
     "metadata": {},
     "output_type": "display_data"
    },
    {
     "data": {
      "application/javascript": [
       "var params = {};\n",
       "        params['series'] = {'year 1': 0, 'year 2': 0, 'year 3': 0};\n",
       "        \n",
       "        params['title'] = \"Ratio responses/requests\";\n",
       "            \n",
       "        params['legend'] = false;\n",
       "            \n",
       "        \n",
       "        params['data'] = [{'x': 1, 'year 1': 0.7431506849315068, 'year 2': 0.6041666666666666, 'year 3': 0.46511627906976744}, {'x': 2, 'year 1': 0.5381526104417671, 'year 2': 0.6091954022988506, 'year 3': 0.3333333333333333}, {'x': 3, 'year 1': 0.6525096525096525, 'year 2': 0.5679012345679012, 'year 3': 0.04580152671755725}, {'x': 4, 'year 1': 0.7156398104265402, 'year 2': 0.648, 'year 3': 0.15254237288135594}, {'x': 5, 'year 1': 0.6327868852459017, 'year 2': 0.5775862068965517, 'year 3': 0.12056737588652482}, {'x': 6, 'year 1': 0.8141592920353983, 'year 2': 0.5849056603773585, 'year 3': 0.06439393939393939}, {'x': 7, 'year 1': 0.4166666666666667, 'year 2': 0.6, 'year 3': 0.0}, {'x': 8, 'year 1': 0.8089887640449438, 'year 2': 0.5686274509803921, 'year 3': 0.0}, {'x': 9, 'year 1': 0.6428571428571429, 'year 2': 0.6886792452830188, 'year 3': 0.5194805194805194}, {'x': 10, 'year 1': 0.7591623036649214, 'year 2': 0.7333333333333333, 'year 3': 0.6204379562043796}, {'x': 11, 'year 1': 0.7113702623906706, 'year 2': 0.7515527950310559, 'year 3': 0.34831460674157305}, {'x': 12, 'year 1': 0.775609756097561, 'year 2': 0.6867469879518072, 'year 3': 0.09803921568627451}];\n",
       "        \n",
       "        require(['amchart_core', 'amchart_charts', 'amcharts4/themes/animated'], columnCallback(params,\"chartdiv_15837a6c-9f06-11ea-9367-7c5cf8500ef5\") , function (err) {\n",
       "            console.log(err);\n",
       "        });\n",
       "        "
      ],
      "text/plain": [
       "<IPython.core.display.Javascript object>"
      ]
     },
     "metadata": {},
     "output_type": "display_data"
    }
   ],
   "source": [
    "column = am4.ColumnChart()\n",
    "column.setTitle(\"Ratio responses/requests\")\n",
    "column.showLegend(False)\n",
    "column.fromDataFrame(df_months_supervisors, \"month\", \n",
    "                     ['ration_response'], \n",
    "                     hue=\"activity_school_year\", hue_prefix=\"year \")\n",
    "column.plot()"
   ]
  },
  {
   "cell_type": "code",
   "execution_count": 58,
   "metadata": {},
   "outputs": [
    {
     "data": {
      "application/javascript": [
       "element.append('<div id=\"chartdiv_4239d46c-9f06-11ea-ad7c-7c5cf8500ef5\" class=\"am4jy\" style=\"height: 500px;\"></div>');"
      ],
      "text/plain": [
       "<IPython.core.display.Javascript object>"
      ]
     },
     "metadata": {},
     "output_type": "display_data"
    },
    {
     "data": {
      "application/javascript": [
       "$('#chartdiv_4239d46c-9f06-11ea-ad7c-7c5cf8500ef5').parent(\"div\").css(\"width\",\"100%\").css(\"overflow-y\",\"hidden\");"
      ],
      "text/plain": [
       "<IPython.core.display.Javascript object>"
      ]
     },
     "metadata": {},
     "output_type": "display_data"
    },
    {
     "data": {
      "application/javascript": [
       "var params = {};\n",
       "        params['series'] = {'year 1 - avg_len_bilancio': 0, 'year 1 - avg_len_competenze': 1, 'year 1 - avg_len_miglioramenti': 1, 'year 1 - avg_len_critici': 1, 'year 2 - avg_len_bilancio': 0, 'year 2 - avg_len_competenze': 1, 'year 2 - avg_len_miglioramenti': 1, 'year 2 - avg_len_critici': 1, 'year 3 - avg_len_bilancio': 0, 'year 3 - avg_len_competenze': 1, 'year 3 - avg_len_miglioramenti': 1, 'year 3 - avg_len_critici': 1};\n",
       "        \n",
       "        params['title'] = \"Total length of average feedbacks per month\";\n",
       "            \n",
       "        params['legend'] = true;\n",
       "            \n",
       "        \n",
       "        params['data'] = [{'x': 1, 'year 1 - avg_len_bilancio': 4.38, 'year 1 - avg_len_competenze': 7.55, 'year 1 - avg_len_miglioramenti': 4.01, 'year 1 - avg_len_critici': 3.44, 'year 2 - avg_len_bilancio': 3.02, 'year 2 - avg_len_competenze': 4.77, 'year 2 - avg_len_miglioramenti': 3.31, 'year 2 - avg_len_critici': 2.32, 'year 3 - avg_len_bilancio': 5.03, 'year 3 - avg_len_competenze': 5.69, 'year 3 - avg_len_miglioramenti': 7.17, 'year 3 - avg_len_critici': 4.0}, {'x': 2, 'year 1 - avg_len_bilancio': 4.48, 'year 1 - avg_len_competenze': 7.74, 'year 1 - avg_len_miglioramenti': 3.86, 'year 1 - avg_len_critici': 5.26, 'year 2 - avg_len_bilancio': 4.3, 'year 2 - avg_len_competenze': 6.25, 'year 2 - avg_len_miglioramenti': 2.92, 'year 2 - avg_len_critici': 3.9, 'year 3 - avg_len_bilancio': 5.04, 'year 3 - avg_len_competenze': 8.78, 'year 3 - avg_len_miglioramenti': 6.15, 'year 3 - avg_len_critici': 5.26}, {'x': 3, 'year 1 - avg_len_bilancio': 4.43, 'year 1 - avg_len_competenze': 9.04, 'year 1 - avg_len_miglioramenti': 4.84, 'year 1 - avg_len_critici': 4.01, 'year 2 - avg_len_bilancio': 4.91, 'year 2 - avg_len_competenze': 6.02, 'year 2 - avg_len_miglioramenti': 4.63, 'year 2 - avg_len_critici': 3.49, 'year 3 - avg_len_bilancio': 4.25, 'year 3 - avg_len_competenze': 7.92, 'year 3 - avg_len_miglioramenti': 2.5, 'year 3 - avg_len_critici': 13.17}, {'x': 4, 'year 1 - avg_len_bilancio': 4.55, 'year 1 - avg_len_competenze': 5.89, 'year 1 - avg_len_miglioramenti': 3.89, 'year 1 - avg_len_critici': 4.45, 'year 2 - avg_len_bilancio': 4.35, 'year 2 - avg_len_competenze': 6.59, 'year 2 - avg_len_miglioramenti': 3.55, 'year 2 - avg_len_critici': 7.82, 'year 3 - avg_len_bilancio': 0.67, 'year 3 - avg_len_competenze': 6.2, 'year 3 - avg_len_miglioramenti': 2.67, 'year 3 - avg_len_critici': 4.0}, {'x': 5, 'year 1 - avg_len_bilancio': 4.54, 'year 1 - avg_len_competenze': 6.52, 'year 1 - avg_len_miglioramenti': 4.27, 'year 1 - avg_len_critici': 4.5, 'year 2 - avg_len_bilancio': 5.37, 'year 2 - avg_len_competenze': 8.2, 'year 2 - avg_len_miglioramenti': 5.89, 'year 2 - avg_len_critici': 6.26, 'year 3 - avg_len_bilancio': 5.37, 'year 3 - avg_len_competenze': 5.0, 'year 3 - avg_len_miglioramenti': 12.52, 'year 3 - avg_len_critici': 7.81}, {'x': 6, 'year 1 - avg_len_bilancio': 3.08, 'year 1 - avg_len_competenze': 4.01, 'year 1 - avg_len_miglioramenti': 4.25, 'year 1 - avg_len_critici': 4.02, 'year 2 - avg_len_bilancio': 6.76, 'year 2 - avg_len_competenze': 6.13, 'year 2 - avg_len_miglioramenti': 5.07, 'year 2 - avg_len_critici': 6.82, 'year 3 - avg_len_bilancio': 1.81, 'year 3 - avg_len_competenze': 3.63, 'year 3 - avg_len_miglioramenti': 5.69, 'year 3 - avg_len_critici': 4.44}, {'x': 7, 'year 1 - avg_len_bilancio': 3.23, 'year 1 - avg_len_competenze': 5.14, 'year 1 - avg_len_miglioramenti': 3.18, 'year 1 - avg_len_critici': 5.09, 'year 2 - avg_len_bilancio': 3.47, 'year 2 - avg_len_competenze': 9.1, 'year 2 - avg_len_miglioramenti': 6.63, 'year 2 - avg_len_critici': 5.77, 'year 3 - avg_len_bilancio': 0.0, 'year 3 - avg_len_competenze': 0.0, 'year 3 - avg_len_miglioramenti': 0.0, 'year 3 - avg_len_critici': 0.0}, {'x': 8, 'year 1 - avg_len_bilancio': 5.57, 'year 1 - avg_len_competenze': 6.13, 'year 1 - avg_len_miglioramenti': 6.68, 'year 1 - avg_len_critici': 4.53, 'year 2 - avg_len_bilancio': 3.91, 'year 2 - avg_len_competenze': 8.76, 'year 2 - avg_len_miglioramenti': 4.93, 'year 2 - avg_len_critici': 5.24, 'year 3 - avg_len_bilancio': 0.0, 'year 3 - avg_len_competenze': 0.0, 'year 3 - avg_len_miglioramenti': 0.0, 'year 3 - avg_len_critici': 0.0}, {'x': 9, 'year 1 - avg_len_bilancio': 5.97, 'year 1 - avg_len_competenze': 12.39, 'year 1 - avg_len_miglioramenti': 7.78, 'year 1 - avg_len_critici': 5.67, 'year 2 - avg_len_bilancio': 4.93, 'year 2 - avg_len_competenze': 6.39, 'year 2 - avg_len_miglioramenti': 4.52, 'year 2 - avg_len_critici': 5.89, 'year 3 - avg_len_bilancio': 4.28, 'year 3 - avg_len_competenze': 10.2, 'year 3 - avg_len_miglioramenti': 3.39, 'year 3 - avg_len_critici': 8.66}, {'x': 10, 'year 1 - avg_len_bilancio': 3.71, 'year 1 - avg_len_competenze': 6.1, 'year 1 - avg_len_miglioramenti': 3.62, 'year 1 - avg_len_critici': 4.26, 'year 2 - avg_len_bilancio': 4.15, 'year 2 - avg_len_competenze': 4.4, 'year 2 - avg_len_miglioramenti': 4.17, 'year 2 - avg_len_critici': 3.89, 'year 3 - avg_len_bilancio': 4.07, 'year 3 - avg_len_competenze': 4.11, 'year 3 - avg_len_miglioramenti': 2.27, 'year 3 - avg_len_critici': 3.23}, {'x': 11, 'year 1 - avg_len_bilancio': 3.56, 'year 1 - avg_len_competenze': 7.17, 'year 1 - avg_len_miglioramenti': 3.99, 'year 1 - avg_len_critici': 4.75, 'year 2 - avg_len_bilancio': 3.96, 'year 2 - avg_len_competenze': 5.81, 'year 2 - avg_len_miglioramenti': 4.6, 'year 2 - avg_len_critici': 3.16, 'year 3 - avg_len_bilancio': 2.62, 'year 3 - avg_len_competenze': 7.46, 'year 3 - avg_len_miglioramenti': 5.13, 'year 3 - avg_len_critici': 6.27}, {'x': 12, 'year 1 - avg_len_bilancio': 4.72, 'year 1 - avg_len_competenze': 7.13, 'year 1 - avg_len_miglioramenti': 4.22, 'year 1 - avg_len_critici': 4.87, 'year 2 - avg_len_bilancio': 4.88, 'year 2 - avg_len_competenze': 6.85, 'year 2 - avg_len_miglioramenti': 5.93, 'year 2 - avg_len_critici': 4.83, 'year 3 - avg_len_bilancio': 1.83, 'year 3 - avg_len_competenze': 4.33, 'year 3 - avg_len_miglioramenti': 4.67, 'year 3 - avg_len_critici': 3.67}];\n",
       "        \n",
       "        require(['amchart_core', 'amchart_charts', 'amcharts4/themes/animated'], columnCallback(params,\"chartdiv_4239d46c-9f06-11ea-ad7c-7c5cf8500ef5\") , function (err) {\n",
       "            console.log(err);\n",
       "        });\n",
       "        "
      ],
      "text/plain": [
       "<IPython.core.display.Javascript object>"
      ]
     },
     "metadata": {},
     "output_type": "display_data"
    }
   ],
   "source": [
    "column = am4.ColumnChart()\n",
    "column.setTitle(\"Total length of average feedbacks per month\")\n",
    "column.fromDataFrame(df_months_supervisors, \"month\", \n",
    "                     ['avg_len_bilancio','avg_len_competenze','avg_len_miglioramenti','avg_len_critici'], \n",
    "                     hue=\"activity_school_year\", hue_prefix=\"year \")\n",
    "column.plot()"
   ]
  },
  {
   "cell_type": "markdown",
   "metadata": {},
   "source": [
    "### Logins"
   ]
  },
  {
   "cell_type": "code",
   "execution_count": 61,
   "metadata": {},
   "outputs": [],
   "source": [
    "df_supervisors_logins = pd.read_csv(f\"{data_folder}supervisors_logins.csv\")\\\n",
    "                        .drop(['ut_user_type','start_semester','start_year'],axis=1)\n",
    "df_supervisors_logins['date'] = df_supervisors_logins['date'].astype('datetime64')\n",
    "\n",
    "date_hist = pd.DataFrame(df_supervisors_logins['date'].groupby([df_supervisors_logins[\"date\"].dt.dayofweek,df_supervisors_logins[\"date\"].dt.hour]).count())\n",
    "date_hist = date_hist.rename(columns={\"date\": \"count\"})\n",
    "date_hist = pd.DataFrame([(x,y,get_loc(date_hist,(x,y),0,'count')) for x in range(7) for y in range(24)])\n",
    "date_hist.columns = ['dayofweek','hour','count']"
   ]
  },
  {
   "cell_type": "code",
   "execution_count": 62,
   "metadata": {},
   "outputs": [
    {
     "data": {
      "application/javascript": [
       "element.append('<div id=\"chartdiv_a05c9899-9f06-11ea-bf31-7c5cf8500ef5\" class=\"am4jy\" style=\"height: 500px;\"></div>');"
      ],
      "text/plain": [
       "<IPython.core.display.Javascript object>"
      ]
     },
     "metadata": {},
     "output_type": "display_data"
    },
    {
     "data": {
      "application/javascript": [
       "$('#chartdiv_a05c9899-9f06-11ea-bf31-7c5cf8500ef5').parent(\"div\").css(\"width\",\"100%\").css(\"overflow-y\",\"hidden\");"
      ],
      "text/plain": [
       "<IPython.core.display.Javascript object>"
      ]
     },
     "metadata": {},
     "output_type": "display_data"
    },
    {
     "data": {
      "application/javascript": [
       "var params = {};\n",
       "        params['series'] = {'0': 0, '1': 0, '2': 0, '3': 0, '4': 0, '5': 0, '6': 0, '7': 0, '8': 0, '9': 0, '10': 0, '11': 0, '12': 0, '13': 0, '14': 0, '15': 0, '16': 0, '17': 0, '18': 0, '19': 0, '20': 0, '21': 0, '22': 0, '23': 0};\n",
       "        \n",
       "        params['title'] = \"Supervisors logins\";\n",
       "            \n",
       "        params['legend'] = false;\n",
       "            \n",
       "        \n",
       "        params['data'] = [{'x': 0, '0': 2, '1': 0, '2': 1, '3': 0, '4': 0, '5': 15, '6': 31, '7': 30, '8': 48, '9': 39, '10': 43, '11': 55, '12': 48, '13': 85, '14': 55, '15': 43, '16': 48, '17': 23, '18': 35, '19': 33, '20': 23, '21': 21, '22': 9, '23': 2}, {'x': 1, '0': 1, '1': 0, '2': 0, '3': 0, '4': 3, '5': 15, '6': 26, '7': 38, '8': 30, '9': 31, '10': 22, '11': 42, '12': 42, '13': 76, '14': 60, '15': 66, '16': 46, '17': 34, '18': 29, '19': 46, '20': 21, '21': 16, '22': 11, '23': 5}, {'x': 2, '0': 1, '1': 0, '2': 0, '3': 0, '4': 10, '5': 10, '6': 23, '7': 26, '8': 31, '9': 30, '10': 34, '11': 41, '12': 44, '13': 54, '14': 49, '15': 38, '16': 32, '17': 24, '18': 21, '19': 7, '20': 13, '21': 16, '22': 15, '23': 1}, {'x': 3, '0': 1, '1': 0, '2': 0, '3': 4, '4': 2, '5': 9, '6': 25, '7': 22, '8': 38, '9': 35, '10': 24, '11': 30, '12': 46, '13': 55, '14': 55, '15': 45, '16': 36, '17': 39, '18': 30, '19': 23, '20': 18, '21': 22, '22': 11, '23': 4}, {'x': 4, '0': 4, '1': 0, '2': 0, '3': 1, '4': 5, '5': 10, '6': 25, '7': 29, '8': 53, '9': 43, '10': 27, '11': 40, '12': 40, '13': 52, '14': 58, '15': 31, '16': 33, '17': 21, '18': 14, '19': 13, '20': 18, '21': 9, '22': 6, '23': 8}, {'x': 5, '0': 1, '1': 1, '2': 0, '3': 0, '4': 1, '5': 2, '6': 15, '7': 11, '8': 17, '9': 13, '10': 24, '11': 23, '12': 21, '13': 24, '14': 21, '15': 22, '16': 34, '17': 27, '18': 14, '19': 14, '20': 11, '21': 13, '22': 4, '23': 4}, {'x': 6, '0': 2, '1': 0, '2': 0, '3': 0, '4': 1, '5': 4, '6': 7, '7': 5, '8': 10, '9': 16, '10': 23, '11': 15, '12': 9, '13': 23, '14': 35, '15': 19, '16': 24, '17': 19, '18': 20, '19': 15, '20': 14, '21': 16, '22': 11, '23': 3}];\n",
       "        \n",
       "        require(['amchart_core', 'amchart_charts', 'amcharts4/themes/animated'], columnCallback(params,\"chartdiv_a05c9899-9f06-11ea-bf31-7c5cf8500ef5\") , function (err) {\n",
       "            console.log(err);\n",
       "        });\n",
       "        "
      ],
      "text/plain": [
       "<IPython.core.display.Javascript object>"
      ]
     },
     "metadata": {},
     "output_type": "display_data"
    }
   ],
   "source": [
    "column = am4.ColumnChart()\n",
    "column.setTitle(\"Supervisors logins\")\n",
    "column.showLegend(False)\n",
    "column.fromDataFrame(date_hist, \"dayofweek\", \n",
    "                     'count', \n",
    "                     hue=\"hour\")\n",
    "column.plot()"
   ]
  }
 ],
 "metadata": {
  "kernelspec": {
   "display_name": "EPFL dualt",
   "language": "python",
   "name": "dualt"
  },
  "language_info": {
   "codemirror_mode": {
    "name": "ipython",
    "version": 3
   },
   "file_extension": ".py",
   "mimetype": "text/x-python",
   "name": "python",
   "nbconvert_exporter": "python",
   "pygments_lexer": "ipython3",
   "version": "3.6.10"
  }
 },
 "nbformat": 4,
 "nbformat_minor": 4
}
