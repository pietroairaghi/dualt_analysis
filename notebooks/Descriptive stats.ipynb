{
 "cells": [
  {
   "cell_type": "code",
   "execution_count": 1,
   "metadata": {},
   "outputs": [],
   "source": [
    "import pandas as pd\n",
    "pd.options.plotting.backend = \"plotly\"\n",
    "\n",
    "import numpy as np\n",
    "\n",
    "from am4chart import *"
   ]
  },
  {
   "cell_type": "code",
   "execution_count": 2,
   "metadata": {},
   "outputs": [],
   "source": [
    "def get_loc(df,ix,default=0,cols=None):\n",
    "    try:\n",
    "        if(cols):\n",
    "            return df.loc[ix][cols]\n",
    "        return df.loc[ix]\n",
    "    except TypeError:\n",
    "        return default\n",
    "\n",
    "def normalizePer(df,col,sum_col,group_col,copy_of = None,new_name=None):\n",
    "    if not new_name:\n",
    "        new_name = col\n",
    "    if not copy_of:\n",
    "        copy_of  = col\n",
    "        \n",
    "    df[new_name] = df[copy_of]\n",
    "    \n",
    "    total = df[[group_col,sum_col]].groupby(group_col).sum()\n",
    "    \n",
    "    for xi in total.index:\n",
    "        tot  = total.loc[xi,sum_col]\n",
    "        mask = df_months[group_col]==xi\n",
    "        df.loc[mask,new_name] = df[mask][new_name].divide(tot/100)"
   ]
  },
  {
   "cell_type": "code",
   "execution_count": 3,
   "metadata": {},
   "outputs": [],
   "source": [
    "pd.options.display.max_columns = None\n",
    "pd.options.display.max_rows    = None"
   ]
  },
  {
   "cell_type": "code",
   "execution_count": 4,
   "metadata": {},
   "outputs": [],
   "source": [
    "data_folder = \"../data/\""
   ]
  },
  {
   "cell_type": "code",
   "execution_count": 12,
   "metadata": {},
   "outputs": [
    {
     "data": {
      "text/html": [
       "<script>require.config({\n",
       "  paths: {\n",
       "\t d3: '//cdnjs.cloudflare.com/ajax/libs/d3/5.15.0/d3.min',\n",
       "\t amchart_core: 'http://www.amcharts.com/lib/4/core',\n",
       "\t amchart_charts: 'http://www.amcharts.com/lib/4/charts',\n",
       "\t 'amcharts4/themes/animated': 'http://www.amcharts.com/lib/4/themes/animated',\n",
       "\t 'amcharts4/themes/amcharts': 'http://www.amcharts.com/lib/4/themes/amcharts',\n",
       "\t 'amcharts4/themes/dataviz': 'http://www.amcharts.com/lib/4/themes/dataviz',\n",
       "\t 'amcharts4/themes/frozen': 'http://www.amcharts.com/lib/4/themes/frozen',\n",
       "\t 'amcharts4/themes/kelly': 'http://www.amcharts.com/lib/4/themes/kelly',\n",
       "\t 'amcharts4/themes/material': 'http://www.amcharts.com/lib/4/themes/material',\n",
       "\t 'amcharts4/themes/moonrisekingdom': 'http://www.amcharts.com/lib/4/themes/moonrisekingdom',\n",
       "\t 'amcharts4/themes/spiritedaway': 'http://www.amcharts.com/lib/4/themes/spiritedaway',\n",
       "  },\n",
       "  shim: {\n",
       "\t amchart_core: {\n",
       "\t\t  init: function () {\n",
       "\t\t\t  return window.am4core;\n",
       "\t\t  }\n",
       "\t  },\n",
       "\t  amchart_charts: {\n",
       "\t\t  deps: ['amchart_core'],\n",
       "\t\t  exports: 'amchart_charts',\n",
       "\t\t  init: function () {\n",
       "\t\t\t  return window.am4charts;\n",
       "\t\t  }\n",
       "\t  },\n",
       "\t  'amcharts4/themes/animated': {\n",
       "\t\t  deps: ['amchart_core'],\n",
       "\t\t  init: function () {\n",
       "\t\t\t  return window.am4themes_animated;\n",
       "\t\t  }\n",
       "\t  },\n",
       "\t  'amcharts4/themes/dataviz': {\n",
       "\t\t  deps: ['amchart_core'],\n",
       "\t\t  init: function () {\n",
       "\t\t\t  return window.am4themes_dataviz;\n",
       "\t\t  }\n",
       "\t  },\n",
       "\t  'amcharts4/themes/frozen': {\n",
       "\t\t  deps: ['amchart_core'],\n",
       "\t\t  init: function () {\n",
       "\t\t\t  return window.am4themes_frozen;\n",
       "\t\t  }\n",
       "\t  },\n",
       "\t  'amcharts4/themes/kelly': {\n",
       "\t\t  deps: ['amchart_core'],\n",
       "\t\t  init: function () {\n",
       "\t\t\t  return window.am4themes_kelly;\n",
       "\t\t  }\n",
       "\t  },\n",
       "\t  'amcharts4/themes/material': {\n",
       "\t\t  deps: ['amchart_core'],\n",
       "\t\t  init: function () {\n",
       "\t\t\t  return window.am4themes_material;\n",
       "\t\t  }\n",
       "\t  },\n",
       "\t  'amcharts4/themes/moonrisekingdom': {\n",
       "\t\t  deps: ['amchart_core'],\n",
       "\t\t  init: function () {\n",
       "\t\t\t  return window.am4themes_moonrisekingdom;\n",
       "\t\t  }\n",
       "\t  },\n",
       "\t  'amcharts4/themes/amcharts': {\n",
       "\t\t  deps: ['amchart_core'],\n",
       "\t\t  init: function () {\n",
       "\t\t\t  return window.am4themes_amcharts;\n",
       "\t\t  }\n",
       "\t  },\n",
       "\t  'amcharts4/themes/spiritedaway': {\n",
       "\t\t  deps: ['amchart_core'],\n",
       "\t\t  init: function () {\n",
       "\t\t\t  return window.am4themes_spiritedaway;\n",
       "\t\t  }\n",
       "\t  }\n",
       "  }\n",
       "});function new_columnCallback(params, canvasID) {\n",
       "\n",
       "    return function (am4core, am4charts, am4themes_animated) {\n",
       "\n",
       "        // Create chart instance\n",
       "        var chart = am4core.create(canvasID, am4charts.XYChart);\n",
       "        chart.numberFormatter.numberFormat = \"#.0\";\n",
       "\n",
       "// Add data\n",
       "        chart.data = [{\n",
       "            \"year\": \"2003\",\n",
       "            \"europe\": 2.5,\n",
       "            \"namerica\": 2.5,\n",
       "            \"asia\": 2.1,\n",
       "            \"lamerica\": 1.2,\n",
       "            \"meast\": 0.2,\n",
       "            \"africa\": 0.1\n",
       "        }, {\n",
       "            \"year\": \"2004\",\n",
       "            \"europe\": 2.6,\n",
       "            \"namerica\": 2.7,\n",
       "            \"asia\": 2.2,\n",
       "            \"lamerica\": 1.3,\n",
       "            \"meast\": 0.3,\n",
       "            \"africa\": 0.1\n",
       "        }, {\n",
       "            \"year\": \"2005\",\n",
       "            \"europe\": 2.8,\n",
       "            \"namerica\": 2.9,\n",
       "            \"asia\": 2.4,\n",
       "            \"lamerica\": 1.4,\n",
       "            \"meast\": 0.3,\n",
       "            \"africa\": 0.1\n",
       "        }];\n",
       "\n",
       "// Create axes\n",
       "        var categoryAxis = chart.xAxes.push(new am4charts.CategoryAxis());\n",
       "        categoryAxis.dataFields.category = \"year\";\n",
       "        categoryAxis.renderer.grid.template.location = 0;\n",
       "        categoryAxis.renderer.minGridDistance = 20;\n",
       "        categoryAxis.renderer.inside = true;\n",
       "        categoryAxis.renderer.labels.template.valign = \"top\";\n",
       "        categoryAxis.renderer.labels.template.fontSize = 20;\n",
       "        categoryAxis.renderer.cellStartLocation = 0.1;\n",
       "        categoryAxis.renderer.cellEndLocation = 0.9;\n",
       "\n",
       "        var valueAxis = chart.yAxes.push(new am4charts.ValueAxis());\n",
       "        valueAxis.min = 0;\n",
       "        valueAxis.title.text = \"Expenditure (M)\";\n",
       "\n",
       "// Create series\n",
       "        function createSeries(field, name) {\n",
       "            var series = chart.series.push(new am4charts.ColumnSeries());\n",
       "            series.dataFields.valueY = field;\n",
       "            series.dataFields.categoryX = \"year\";\n",
       "            series.name = name;\n",
       "            series.columns.template.tooltipText = \"{name}: [bold]{valueY}[/]\";\n",
       "            series.columns.template.width = am4core.percent(95);\n",
       "\n",
       "            var bullet = series.bullets.push(new am4charts.LabelBullet);\n",
       "            bullet.label.text = \"{name}\";\n",
       "            bullet.label.rotation = 90;\n",
       "            bullet.label.truncate = false;\n",
       "            bullet.label.hideOversized = false;\n",
       "            bullet.label.horizontalCenter = \"left\";\n",
       "            bullet.locationY = 1;\n",
       "            bullet.dy = 10;\n",
       "        }\n",
       "\n",
       "        chart.paddingBottom = 150;\n",
       "        chart.maskBullets = false;\n",
       "\n",
       "        createSeries(\"europe\", \"Europe\", false);\n",
       "        createSeries(\"namerica\", \"North America\", true);\n",
       "        createSeries(\"asia\", \"Asia\", false);\n",
       "        createSeries(\"lamerica\", \"Latin America\", true);\n",
       "        createSeries(\"meast\", \"Middle East\", true);\n",
       "        createSeries(\"africa\", \"Africa\", true);\n",
       "\n",
       "    }\n",
       "}\n",
       "\n",
       "\n",
       "function columnCallback(params, canvasID) {\n",
       "\n",
       "    return function (am4core, am4charts, am4themes_animated,am4theme=null) {\n",
       "\n",
       "        let legend = params['legend'];\n",
       "        let data = params['data'];\n",
       "        let series = params['series'];\n",
       "        let stacks = params['stacks'];\n",
       "\n",
       "        if (stacks == 1) {\n",
       "            stacks = 5; // to better differentiate colors\n",
       "        }\n",
       "\n",
       "        if (legend === undefined) {\n",
       "            legend = true;\n",
       "        }\n",
       "\n",
       "        /* Chart code */\n",
       "        // Themes begin\n",
       "        if(am4theme){\n",
       "            am4core.useTheme(am4theme);\n",
       "        }\n",
       "        am4core.useTheme(am4themes_animated);\n",
       "        // Themes end\n",
       "\n",
       "\n",
       "        let chart = am4core.create(canvasID, am4charts.XYChart);\n",
       "\n",
       "        var tot_colors = Object.keys(chart.colors._list).length;\n",
       "        if(!am4theme){\n",
       "            tot_colors = 20;\n",
       "        }\n",
       "\n",
       "        var stepColor = Math.ceil(tot_colors / stacks);\n",
       "        if(params['x_vals'].length<Object.keys(series).length && params['stacks']==1){\n",
       "            stepColor = 1;\n",
       "        }\n",
       "\n",
       "        chart.colors.step = stepColor;\n",
       "\n",
       "        if (params['title']) {\n",
       "            let title = chart.titles.create();\n",
       "            title.text = params['title'];\n",
       "            title.fontSize = 18;\n",
       "            title.marginBottom = 10;\n",
       "        }\n",
       "\n",
       "        if (legend) {\n",
       "            chart.legend = new am4charts.Legend();\n",
       "            chart.legend.position = 'bottom';\n",
       "            chart.legend.paddingLeft = 60;\n",
       "            chart.legend.maxWidth = undefined;\n",
       "            chart.legend.valueLabels.template.align = \"center\";\n",
       "            chart.legend.valueLabels.template.textAlign = \"center\";\n",
       "        }\n",
       "\n",
       "        let xAxis = chart.xAxes.push(new am4charts.CategoryAxis());\n",
       "        // Create value axis\n",
       "        xAxis.dataFields.category = 'x';\n",
       "        xAxis.renderer.cellStartLocation = 0.1;\n",
       "        xAxis.renderer.cellEndLocation = 0.9;\n",
       "        xAxis.renderer.grid.template.location = 0;\n",
       "        xAxis.renderer.minGridDistance = 1;\n",
       "\n",
       "        let label = xAxis.renderer.labels.template;\n",
       "        label.wrap = true;\n",
       "        label.maxWidth = 120;\n",
       "        if(params['hide_x_labels']){\n",
       "            label.hide()\n",
       "        }\n",
       "\n",
       "        let yAxis = chart.yAxes.push(new am4charts.ValueAxis());\n",
       "        if(params['log_scale']){\n",
       "\t\t\tyAxis.min = 1;\n",
       "\t\t\tyAxis.logarithmic = true;\n",
       "\t\t}\n",
       "\t\t\n",
       "\t\tif(params['min_y']){\n",
       "\t\t\tyAxis.min = params['min_y'];\n",
       "\t\t}\n",
       "\t\tif(params['max_y']){\n",
       "\t\t\tyAxis.max = params['max_y'];\n",
       "\t\t}\n",
       "\n",
       "\n",
       "\n",
       "        function createSeries(value, name, stacked = false, colorIndex = 0) {\n",
       "            let series = chart.series.push(new am4charts.ColumnSeries());\n",
       "            series.name = name;\n",
       "            series.dataFields.valueY = value;\n",
       "            series.dataFields.categoryX = 'x';\n",
       "\n",
       "            series.stacked = stacked;\n",
       "\n",
       "            series.columns.template.tooltipText = \"{name}: [bold]{valueY}[/]\";\n",
       "            series.tooltip.pointerOrientation = \"down\";\n",
       "            series.columns.template.tooltipY = -3;\n",
       "\n",
       "            if(params['stacks']!=1){\n",
       "                series.columns.template.fill = chart.colors.getIndex(colorIndex*2);\n",
       "                series.columns.template.stroke =chart.colors.getIndex(colorIndex*2);\n",
       "            }\n",
       "\n",
       "            let stocazzo = false;\n",
       "\n",
       "            if (stocazzo) {\n",
       "                let bullet = series.bullets.push(new am4charts.LabelBullet());\n",
       "                bullet.dy = -10;\n",
       "                bullet.label.text = '{valueY}';\n",
       "                bullet.label.truncate = false;\n",
       "                bullet.label.fill = am4core.color('#000000')\n",
       "            }\n",
       "\n",
       "            return series;\n",
       "        }\n",
       "\n",
       "        chart.data = data;\n",
       "\n",
       "        var colorIndex = 0\n",
       "        Object.keys(series).forEach(function (key, index) {\n",
       "            if(this[key]){\n",
       "                colorIndex++;\n",
       "            }else{\n",
       "                colorIndex=0;\n",
       "            }\n",
       "            createSeries(key, key, this[key],colorIndex)\n",
       "        }, series);\n",
       "\n",
       "        // check for dividers\n",
       "        if(params['range_divider']) {\n",
       "\n",
       "            var start_val = data[0]['x'];\n",
       "            colorIndex = 0;\n",
       "            for (index = 0; index < params['range_divider'].length; ++index) {\n",
       "                if((index+1) == params['range_divider'].length || params['range_divider'][index+1]){\n",
       "                    var end_val = data[index]['x'];\n",
       "\n",
       "                    var range = xAxis.axisRanges.create();\n",
       "                    range.category = start_val;\n",
       "                    range.endCategory = end_val;\n",
       "                    range.value = start_val;\n",
       "                    range.endValue = end_val;\n",
       "                    range.axisFill.fill = chart.colors.getIndex(colorIndex*4);\n",
       "                    range.axisFill.fillOpacity = 0.15;\n",
       "                    range.label.disabled = true;\n",
       "\n",
       "                    if((index+1) != params['range_divider'].length){\n",
       "                        start_val = data[index+1]['x'];\n",
       "                        colorIndex++;\n",
       "                    }\n",
       "\n",
       "                }\n",
       "            }\n",
       "        }\n",
       "\n",
       "        if(params['y_title']){\n",
       "            yAxis.title.text = params['y_title'];\n",
       "        }\n",
       "\n",
       "        if(params['x_title']){\n",
       "            xAxis.title.text = params['x_title'];\n",
       "        }\n",
       "\n",
       "        if(params['is_category'] && params['x_names_map']) {\n",
       "            xAxis.renderer.labels.template.adapter.add(\"textOutput\", function (text) {\n",
       "                var new_text = params['x_names_map'][text];\n",
       "                return new_text;\n",
       "            });\n",
       "        }\n",
       "\t\t\n",
       "\t\t//chart.exporting.menu = new am4core.ExportMenu();\n",
       "\n",
       "\n",
       "    }\n",
       "\n",
       "}function lineCallback(params, canvasID) {\n",
       "\n",
       "    return function (am4core, am4charts, am4themes_animated,am4theme=null) {\n",
       "\n",
       "        let legend = params['legend'];\n",
       "        let data = params['data'];\n",
       "        let series = params['series'];\n",
       "        let stacks = params['stacks'];\n",
       "\n",
       "\n",
       "        if(am4theme){\n",
       "            am4core.useTheme(am4theme);\n",
       "        }\n",
       "        am4core.useTheme(am4themes_animated);\n",
       "\n",
       "        // Create chart instance\n",
       "        let chart = am4core.create(canvasID, am4charts.XYChart);\n",
       "        chart.numberFormatter.numberFormat = \"#.0\";\n",
       "\n",
       "        var tot_colors = Object.keys(chart.colors._list).length;\n",
       "        if(!am4theme){\n",
       "            tot_colors = 20;\n",
       "        }\n",
       "\n",
       "        var stepColor = Math.ceil(tot_colors / stacks);\n",
       "        if(params['x_vals'].length<Object.keys(series).length || params['stacks']==1){\n",
       "            stepColor = 4;\n",
       "        }\n",
       "\n",
       "        chart.colors.step = stepColor;\n",
       "\n",
       "        // Add data\n",
       "        chart.data = data;\n",
       "\n",
       "        if (params['title']) {\n",
       "            let title = chart.titles.create();\n",
       "            title.text = params['title'];\n",
       "            title.fontSize = 18;\n",
       "            title.marginBottom = 10;\n",
       "        }\n",
       "\n",
       "        if (legend) {\n",
       "            chart.legend = new am4charts.Legend();\n",
       "            chart.legend.position = 'bottom';\n",
       "            chart.legend.paddingLeft = 60;\n",
       "            chart.legend.maxWidth = undefined;\n",
       "            chart.legend.valueLabels.template.align = \"center\";\n",
       "            chart.legend.valueLabels.template.textAlign = \"center\";\n",
       "        }\n",
       "\n",
       "        // Create axes\n",
       "        var axis_type = new am4charts.ValueAxis();\n",
       "        if(params['is_category']) {\n",
       "            axis_type = new am4charts.CategoryAxis();\n",
       "        }\n",
       "\n",
       "        let xAxis = chart.xAxes.push(axis_type);\n",
       "\n",
       "        xAxis.dataFields.category = 'x';\n",
       "\n",
       "        xAxis.renderer.cellStartLocation = 0.1;\n",
       "        xAxis.renderer.cellEndLocation = 0.9;\n",
       "        xAxis.renderer.grid.template.location = 0;\n",
       "        xAxis.renderer.minGridDistance = 1;\n",
       "\n",
       "        let label = xAxis.renderer.labels.template;\n",
       "        if(params['hide_x_labels']){\n",
       "            label.hide()\n",
       "        }\n",
       "\n",
       "\n",
       "// Create value axis\n",
       "        let yAxis = chart.yAxes.push(new am4charts.ValueAxis());\n",
       "        if(params['log_scale']){\n",
       "\t\t\tyAxis.min = 1;\n",
       "\t\t\tyAxis.logarithmic = true;\n",
       "\t\t}\n",
       "\t\t\n",
       "\t\tif(params['min_y']){\n",
       "\t\t\tyAxis.min = params['min_y'];\n",
       "\t\t}\n",
       "\t\tif(params['max_y']){\n",
       "\t\t\tyAxis.max = params['max_y'];\n",
       "\t\t}\n",
       "\n",
       "        // Create series\n",
       "        function createSeries(value, name, stacked=false) {\n",
       "            let series = chart.series.push(new am4charts.LineSeries());\n",
       "\n",
       "            series.name = name;\n",
       "\n",
       "            series.dataFields.categoryX = \"x\";\n",
       "            series.dataFields.valueX  = \"x\";\n",
       "            series.dataFields.valueY = value;\n",
       "            series.tensionX = 0.77;\n",
       "            //series1.dataFields.value = \"aValue\";\n",
       "\t\t\t\n",
       "\t\t\tif(params['stacks']!=1){\n",
       "\t\t\t\tseries.stroke = chart.colors.getIndex(colorIndex*2);\n",
       "\t\t\t\tseries.fill = chart.colors.getIndex(colorIndex*2);\n",
       "            }\n",
       "\t\t\t\n",
       "            series.strokeWidth = 2;\n",
       "\n",
       "            let bullet1 = series.bullets.push(new am4charts.CircleBullet());\n",
       "            if(0) {\n",
       "                series.heatRules.push({\n",
       "                    target: bullet1.circle,\n",
       "                    min: 3,\n",
       "                    max: 20,\n",
       "                    dataField: \"value\",\n",
       "                    property: \"radius\"\n",
       "                });\n",
       "            }\n",
       "\n",
       "            //bullet1.tooltipText = \"{valueX} x {valueY}: [bold]{value}[/]\";\n",
       "            bullet1.tooltipText = \"{valueY}\";\n",
       "\n",
       "            return series;\n",
       "        }\n",
       "\t\t\n",
       "\t\t\n",
       "        var colorIndex = 0\n",
       "        Object.keys(series).forEach(function (key, index) {\n",
       "            if(this[key]){\n",
       "                colorIndex++;\n",
       "            }else{\n",
       "                colorIndex=0;\n",
       "            }\n",
       "            createSeries(key, key, this[key],colorIndex)\n",
       "        }, series);\n",
       "\n",
       "        // check for dividers\n",
       "        if(params['range_divider']) {\n",
       "\n",
       "            var start_val = data[0]['x'];\n",
       "            colorIndex = 0;\n",
       "            for (index = 0; index < params['range_divider'].length; index++) {\n",
       "                if((index+1) == params['range_divider'].length || params['range_divider'][index]){\n",
       "\t\t\t\t\tif((index+1) == params['range_divider'].length){\n",
       "\t\t\t\t\t\tvar end_val = data[(index+1)*params['stacks']-1]['x'];\n",
       "\t\t\t\t\t}else{\n",
       "\t\t\t\t\t\tvar end_val = data[(index)*params['stacks']-1]['x'];\n",
       "\t\t\t\t\t}\n",
       "\n",
       "                    var range = xAxis.axisRanges.create();\n",
       "                    range.category = start_val;\n",
       "                    range.endCategory = end_val;\n",
       "                    range.value = start_val;\n",
       "                    range.endValue = end_val;\n",
       "                    range.axisFill.fill = chart.colors.getIndex(colorIndex*4);\n",
       "                    range.axisFill.fillOpacity = 0.15;\n",
       "                    range.label.disabled = true;\n",
       "\n",
       "                    if((index) != params['range_divider'].length){\n",
       "                        start_val = data[(index)*params['stacks']]['x'];\n",
       "                        colorIndex++;\n",
       "                    }\n",
       "\n",
       "                }\n",
       "            }\n",
       "        }\n",
       "\n",
       "\n",
       "        if(params['y_title']){\n",
       "            yAxis.title.text = params['y_title'];\n",
       "        }\n",
       "\n",
       "        if(params['x_title']){\n",
       "            xAxis.title.text = params['x_title'];\n",
       "        }\n",
       "\n",
       "        if(params['is_category'] && params['x_names_map']) {\n",
       "            xAxis.renderer.labels.template.adapter.add(\"textOutput\", function (text) {\n",
       "                var new_text = params['x_names_map'][text];\n",
       "                return new_text;\n",
       "            });\n",
       "        }\n",
       "\n",
       "        if(params['visible_labels']) {\n",
       "            xAxis.renderer.labels.template.adapter.add(\"textOutput\", function (text) {\n",
       "                if(!params['visible_labels'].includes(text)){\n",
       "                    text = \"\";\n",
       "                }\n",
       "                return text;\n",
       "            });\n",
       "        }\n",
       "\n",
       "        //chart.scrollbarX = new am4core.Scrollbar();\n",
       "        //chart.scrollbarX.hideGrips = true;\n",
       "        chart.swipeable = true;\n",
       "\t\t\n",
       "\t\t//chart.exporting.menu = new am4core.ExportMenu();\n",
       "\n",
       "\n",
       "    }\n",
       "\n",
       "}function lineDateCallback(params,canvasID){\n",
       "\n",
       "\treturn function(am4core,am4charts,am4themes_animated){\n",
       "\t\n",
       "\t\tvar data   = params['data'];\n",
       "\t\tvar series = params['series'];\n",
       "\t\t\n",
       "\t\t\n",
       "\t\tam4core.useTheme(am4themes_animated);\n",
       "\n",
       "\t\t// Create chart instance\n",
       "\t\tvar chart = am4core.create(canvasID, am4charts.XYChart);\n",
       "\t\tchart.colors.step = 5;\n",
       "\n",
       "\t\t// Add data\n",
       "\t\tchart.data = data\n",
       "\n",
       "\t\t// Create axes\n",
       "\t\tvar dateAxis = chart.xAxes.push(new am4charts.DateAxis());\n",
       "\t\tdateAxis.renderer.grid.template.location = 0;\n",
       "\n",
       "\t\tvar valueAxis = chart.yAxes.push(new am4charts.ValueAxis());\n",
       "\n",
       "\t\tchart.scrollbarX = new am4core.Scrollbar();\n",
       "\t\tchart.cursor = new am4charts.XYCursor();\n",
       "\n",
       "\t\t// Create series\n",
       "\t\tfunction createSeries(field, name) {\n",
       "\t\t\tvar series = chart.series.push(new am4charts.LineSeries());\n",
       "\t\t\tseries.dataFields.valueY = field;\n",
       "\t\t\tseries.dataFields.dateX = \"x\";\n",
       "\t\t\tseries.name = name;\n",
       "\t\t\tseries.tooltipText = \"{dateX}: [b]{valueY}[/]\";\n",
       "\t\t\tseries.strokeWidth = 2;\n",
       "\n",
       "\t\t\tvar bullet = series.bullets.push(new am4charts.CircleBullet());\n",
       "\t\t\tbullet.circle.stroke = am4core.color(\"#fff\");\n",
       "\t\t\tbullet.circle.strokeWidth = 2;\n",
       "\n",
       "\t\t\t// Add scrollbar\n",
       "\t\t\t//chart.scrollbarX.series.push(series);\n",
       "\n",
       "\t\t\t// Add cursor\n",
       "\t\t\tchart.cursor.xAxis = dateAxis;\n",
       "\t\t\tchart.cursor.snapToSeries = series;\n",
       "\n",
       "\t\t\treturn series;\n",
       "\t\t}\n",
       "\n",
       "\t\tseries.forEach(element => createSeries(element, element));\n",
       "\n",
       "\t\tchart.legend = new am4charts.Legend();\n",
       "\t\tchart.cursor = new am4charts.XYCursor();\n",
       "\t}\n",
       "\n",
       "}function pieCallback(params,canvasID) {\n",
       "\treturn function(am4core, am4charts, am4themes_animated) {\n",
       "\t\tvar data = params['data'];\n",
       "\t\t\n",
       "\t\tam4core.useTheme(am4themes_animated);\n",
       "\n",
       "\t\t // Create chart instance\n",
       "\t\tvar chart = am4core.create(canvasID, am4charts.PieChart);\n",
       "\n",
       "\t\t// Add data\n",
       "\t\tchart.data = data;\n",
       "\n",
       "\t\t// Add and configure Series\n",
       "\t\tvar pieSeries = chart.series.push(new am4charts.PieSeries());\n",
       "\t\tpieSeries.dataFields.value = \"y\";\n",
       "\t\tpieSeries.dataFields.category = \"x\";\n",
       "\n",
       "\t\t// Add export\n",
       "\t\tchart.exporting.menu = new am4core.ExportMenu();\n",
       "\t\t\n",
       "\t\t\n",
       "\t};\n",
       "}</script>"
      ],
      "text/plain": [
       "<IPython.core.display.HTML object>"
      ]
     },
     "metadata": {},
     "output_type": "display_data"
    }
   ],
   "source": [
    "am4 = Amchart()"
   ]
  },
  {
   "cell_type": "markdown",
   "metadata": {},
   "source": [
    "# INFO:\n",
    "## Raw informations:\n",
    " - Total activities: 33,728\n",
    " - Total users: 1,052\n",
    " - Start year: 2013 (104 users)\n",
    "     - Following years: 2014: 113, 2015: 105, 2016: 103, 2017: 81, 2018: 144, 2019: 155\n",
    "\n",
    "All the data in this notebook are coming from the merge of two DBs in Ticino. This is still not perfect considering some redundancy (to be fixed in the future)\n",
    "\n",
    "[months](http://chili.ineeda.space/data/months.htm),\n",
    "[months_supervisors](http://chili.ineeda.space/data/months_supervisors.htm),\n",
    "[users](http://chili.ineeda.space/data/users.htm),\n",
    "[activities](http://chili.ineeda.space/data/activities.htm)\n",
    "\n",
    "[other notebook](http://chili.ineeda.space/notebooks/preprocess_pipeline.html)"
   ]
  },
  {
   "cell_type": "markdown",
   "metadata": {},
   "source": [
    "# Data Loading and Cleaning"
   ]
  },
  {
   "cell_type": "code",
   "execution_count": 5,
   "metadata": {},
   "outputs": [],
   "source": [
    "month_map={1:'Jan', 2:'Feb', 3:'Mar', 4:'Apr', 5:'May', 6:'Jun', 7:'Jul', 8:'Aug', 9:'Sep', 10:'Oct', 11:'Nov', 12:'Dec'}\n",
    "month_order=['Aug','Sep','Oct','Nov','Dec','Jan','Feb','Mar','Apr','May','Jun','Jul']"
   ]
  },
  {
   "cell_type": "code",
   "execution_count": 6,
   "metadata": {},
   "outputs": [
    {
     "data": {
      "text/html": [
       "<div>\n",
       "<style scoped>\n",
       "    .dataframe tbody tr th:only-of-type {\n",
       "        vertical-align: middle;\n",
       "    }\n",
       "\n",
       "    .dataframe tbody tr th {\n",
       "        vertical-align: top;\n",
       "    }\n",
       "\n",
       "    .dataframe thead th {\n",
       "        text-align: right;\n",
       "    }\n",
       "</style>\n",
       "<table border=\"1\" class=\"dataframe\">\n",
       "  <thead>\n",
       "    <tr style=\"text-align: right;\">\n",
       "      <th></th>\n",
       "      <th>month</th>\n",
       "      <th>activity_school_year</th>\n",
       "      <th>n_users_per_year</th>\n",
       "      <th>n_logins</th>\n",
       "      <th>n_activities</th>\n",
       "      <th>n_recipes</th>\n",
       "      <th>n_experiences</th>\n",
       "      <th>avg_n_user_activities</th>\n",
       "      <th>avg_n_user_recipes</th>\n",
       "      <th>avg_n_user_experiences</th>\n",
       "      <th>n_files</th>\n",
       "      <th>n_files_recipes</th>\n",
       "      <th>n_files_experiences</th>\n",
       "      <th>avg_n_files</th>\n",
       "      <th>avg_n_files_recipes</th>\n",
       "      <th>avg_n_files_experiences</th>\n",
       "      <th>std_n_files</th>\n",
       "      <th>std_n_files_recipes</th>\n",
       "      <th>std_n_files_experiences</th>\n",
       "      <th>n_feedback_requests</th>\n",
       "      <th>n_feedback_responses</th>\n",
       "      <th>n_feedback_requests_recipes</th>\n",
       "      <th>n_feedback_responses_recipes</th>\n",
       "      <th>n_feedback_requests_experiences</th>\n",
       "      <th>n_feedback_responses_experiences</th>\n",
       "      <th>n_in_curriculum</th>\n",
       "      <th>n_in_curriculum_recipes</th>\n",
       "      <th>n_in_curriculum_experiences</th>\n",
       "      <th>n_in_curriculum_insert_date</th>\n",
       "      <th>n_in_curriculum_insert_date_recipes</th>\n",
       "      <th>n_in_curriculum_insert_date_experiences</th>\n",
       "      <th>avg_activity_total_length</th>\n",
       "      <th>std_activity_total_length</th>\n",
       "      <th>avg_len_descriptions</th>\n",
       "      <th>std_len_descriptions</th>\n",
       "      <th>avg_len_steps</th>\n",
       "      <th>std_len_steps</th>\n",
       "      <th>avg_len_observations</th>\n",
       "      <th>std_len_observations</th>\n",
       "      <th>avg_sum_len_reflections</th>\n",
       "      <th>std_avg_sum_len_reflections</th>\n",
       "      <th>avg_avg_len_reflections</th>\n",
       "      <th>std_avg_len_reflections</th>\n",
       "      <th>avg_len_bilancio</th>\n",
       "      <th>std_len_bilancio</th>\n",
       "      <th>avg_len_competenze</th>\n",
       "      <th>std_len_competenze</th>\n",
       "      <th>avg_len_miglioramenti</th>\n",
       "      <th>std_len_miglioramenti</th>\n",
       "      <th>avg_len_critici</th>\n",
       "      <th>std_len_critici</th>\n",
       "      <th>total_reflections</th>\n",
       "      <th>total_null_reflections</th>\n",
       "      <th>n_edits</th>\n",
       "      <th>perc_total_feedback_requests</th>\n",
       "      <th>perc_total_feedback_requests_recipes</th>\n",
       "      <th>perc_total_feedback_requests_experiences</th>\n",
       "      <th>perc_feedback_responses</th>\n",
       "      <th>perc_feedback_responses_recipes</th>\n",
       "      <th>perc_feedback_responses_experiences</th>\n",
       "      <th>perc_in_curriculum</th>\n",
       "      <th>perc_recipes_in_curriculum</th>\n",
       "      <th>perc_experiences_in_curriculum</th>\n",
       "      <th>perc_in_curriculum_insert_date</th>\n",
       "      <th>perc_recipes_in_curriculum_insert_date</th>\n",
       "      <th>perc_experiences_in_curriculum_insert_date</th>\n",
       "      <th>month_order</th>\n",
       "    </tr>\n",
       "  </thead>\n",
       "  <tbody>\n",
       "    <tr>\n",
       "      <th>21</th>\n",
       "      <td>Aug</td>\n",
       "      <td>1</td>\n",
       "      <td>547</td>\n",
       "      <td>175</td>\n",
       "      <td>71.0</td>\n",
       "      <td>29.0</td>\n",
       "      <td>42.0</td>\n",
       "      <td>3.55</td>\n",
       "      <td>1.45</td>\n",
       "      <td>2.10</td>\n",
       "      <td>60.0</td>\n",
       "      <td>43.0</td>\n",
       "      <td>17.0</td>\n",
       "      <td>6.0</td>\n",
       "      <td>5.0</td>\n",
       "      <td>1.0</td>\n",
       "      <td>3.3534</td>\n",
       "      <td>4.1610</td>\n",
       "      <td>1.4200</td>\n",
       "      <td>0.0</td>\n",
       "      <td>0.0</td>\n",
       "      <td>0.0</td>\n",
       "      <td>0.0</td>\n",
       "      <td>0.0</td>\n",
       "      <td>0.0</td>\n",
       "      <td>65.0</td>\n",
       "      <td>28.0</td>\n",
       "      <td>37.0</td>\n",
       "      <td>37.0</td>\n",
       "      <td>24.0</td>\n",
       "      <td>13.0</td>\n",
       "      <td>103.0</td>\n",
       "      <td>76.14</td>\n",
       "      <td>5.0</td>\n",
       "      <td>5.50</td>\n",
       "      <td>92.0</td>\n",
       "      <td>73.33</td>\n",
       "      <td>10.0</td>\n",
       "      <td>23.66</td>\n",
       "      <td>1.31</td>\n",
       "      <td>1.79</td>\n",
       "      <td>0.63</td>\n",
       "      <td>0.60</td>\n",
       "      <td>0.75</td>\n",
       "      <td>0.43</td>\n",
       "      <td>0.75</td>\n",
       "      <td>0.43</td>\n",
       "      <td>1.00</td>\n",
       "      <td>0.94</td>\n",
       "      <td>2.75</td>\n",
       "      <td>7.56</td>\n",
       "      <td>9.0</td>\n",
       "      <td>7.0</td>\n",
       "      <td>208.0</td>\n",
       "      <td>0.00</td>\n",
       "      <td>0.00</td>\n",
       "      <td>0.00</td>\n",
       "      <td>0.00</td>\n",
       "      <td>0.00</td>\n",
       "      <td>0.00</td>\n",
       "      <td>91.55</td>\n",
       "      <td>39.44</td>\n",
       "      <td>52.11</td>\n",
       "      <td>52.11</td>\n",
       "      <td>33.80</td>\n",
       "      <td>18.31</td>\n",
       "      <td>1</td>\n",
       "    </tr>\n",
       "    <tr>\n",
       "      <th>22</th>\n",
       "      <td>Aug</td>\n",
       "      <td>2</td>\n",
       "      <td>371</td>\n",
       "      <td>1420</td>\n",
       "      <td>532.0</td>\n",
       "      <td>273.0</td>\n",
       "      <td>259.0</td>\n",
       "      <td>6.05</td>\n",
       "      <td>3.10</td>\n",
       "      <td>2.94</td>\n",
       "      <td>1555.0</td>\n",
       "      <td>1300.0</td>\n",
       "      <td>255.0</td>\n",
       "      <td>10.0</td>\n",
       "      <td>9.0</td>\n",
       "      <td>2.0</td>\n",
       "      <td>4.8276</td>\n",
       "      <td>5.8386</td>\n",
       "      <td>4.0261</td>\n",
       "      <td>89.0</td>\n",
       "      <td>72.0</td>\n",
       "      <td>54.0</td>\n",
       "      <td>48.0</td>\n",
       "      <td>35.0</td>\n",
       "      <td>24.0</td>\n",
       "      <td>478.0</td>\n",
       "      <td>232.0</td>\n",
       "      <td>246.0</td>\n",
       "      <td>26.0</td>\n",
       "      <td>12.0</td>\n",
       "      <td>14.0</td>\n",
       "      <td>128.0</td>\n",
       "      <td>86.92</td>\n",
       "      <td>7.0</td>\n",
       "      <td>12.96</td>\n",
       "      <td>113.0</td>\n",
       "      <td>77.48</td>\n",
       "      <td>5.0</td>\n",
       "      <td>12.03</td>\n",
       "      <td>7.26</td>\n",
       "      <td>9.32</td>\n",
       "      <td>4.48</td>\n",
       "      <td>7.21</td>\n",
       "      <td>7.15</td>\n",
       "      <td>11.64</td>\n",
       "      <td>9.72</td>\n",
       "      <td>13.62</td>\n",
       "      <td>7.02</td>\n",
       "      <td>15.62</td>\n",
       "      <td>5.14</td>\n",
       "      <td>11.72</td>\n",
       "      <td>173.0</td>\n",
       "      <td>51.0</td>\n",
       "      <td>3206.0</td>\n",
       "      <td>16.73</td>\n",
       "      <td>19.78</td>\n",
       "      <td>13.51</td>\n",
       "      <td>13.53</td>\n",
       "      <td>17.58</td>\n",
       "      <td>9.27</td>\n",
       "      <td>89.85</td>\n",
       "      <td>43.61</td>\n",
       "      <td>46.24</td>\n",
       "      <td>4.89</td>\n",
       "      <td>2.26</td>\n",
       "      <td>2.63</td>\n",
       "      <td>1</td>\n",
       "    </tr>\n",
       "    <tr>\n",
       "      <th>23</th>\n",
       "      <td>Aug</td>\n",
       "      <td>3</td>\n",
       "      <td>224</td>\n",
       "      <td>910</td>\n",
       "      <td>585.0</td>\n",
       "      <td>152.0</td>\n",
       "      <td>433.0</td>\n",
       "      <td>9.75</td>\n",
       "      <td>2.53</td>\n",
       "      <td>7.22</td>\n",
       "      <td>654.0</td>\n",
       "      <td>490.0</td>\n",
       "      <td>164.0</td>\n",
       "      <td>11.0</td>\n",
       "      <td>10.0</td>\n",
       "      <td>1.0</td>\n",
       "      <td>6.0734</td>\n",
       "      <td>7.4977</td>\n",
       "      <td>2.8684</td>\n",
       "      <td>51.0</td>\n",
       "      <td>29.0</td>\n",
       "      <td>17.0</td>\n",
       "      <td>14.0</td>\n",
       "      <td>34.0</td>\n",
       "      <td>15.0</td>\n",
       "      <td>516.0</td>\n",
       "      <td>90.0</td>\n",
       "      <td>426.0</td>\n",
       "      <td>0.0</td>\n",
       "      <td>0.0</td>\n",
       "      <td>0.0</td>\n",
       "      <td>169.0</td>\n",
       "      <td>125.11</td>\n",
       "      <td>8.0</td>\n",
       "      <td>15.89</td>\n",
       "      <td>153.0</td>\n",
       "      <td>113.59</td>\n",
       "      <td>6.0</td>\n",
       "      <td>12.37</td>\n",
       "      <td>6.23</td>\n",
       "      <td>5.72</td>\n",
       "      <td>4.70</td>\n",
       "      <td>5.29</td>\n",
       "      <td>5.12</td>\n",
       "      <td>11.23</td>\n",
       "      <td>10.37</td>\n",
       "      <td>15.02</td>\n",
       "      <td>4.63</td>\n",
       "      <td>6.36</td>\n",
       "      <td>4.79</td>\n",
       "      <td>8.43</td>\n",
       "      <td>158.0</td>\n",
       "      <td>12.0</td>\n",
       "      <td>5107.0</td>\n",
       "      <td>8.72</td>\n",
       "      <td>11.18</td>\n",
       "      <td>7.85</td>\n",
       "      <td>4.96</td>\n",
       "      <td>9.21</td>\n",
       "      <td>3.46</td>\n",
       "      <td>88.21</td>\n",
       "      <td>15.38</td>\n",
       "      <td>72.82</td>\n",
       "      <td>0.00</td>\n",
       "      <td>0.00</td>\n",
       "      <td>0.00</td>\n",
       "      <td>1</td>\n",
       "    </tr>\n",
       "    <tr>\n",
       "      <th>24</th>\n",
       "      <td>Sep</td>\n",
       "      <td>1</td>\n",
       "      <td>547</td>\n",
       "      <td>521</td>\n",
       "      <td>173.0</td>\n",
       "      <td>96.0</td>\n",
       "      <td>77.0</td>\n",
       "      <td>2.62</td>\n",
       "      <td>1.45</td>\n",
       "      <td>1.17</td>\n",
       "      <td>355.0</td>\n",
       "      <td>248.0</td>\n",
       "      <td>107.0</td>\n",
       "      <td>8.0</td>\n",
       "      <td>6.0</td>\n",
       "      <td>2.0</td>\n",
       "      <td>5.2481</td>\n",
       "      <td>6.2521</td>\n",
       "      <td>2.8655</td>\n",
       "      <td>28.0</td>\n",
       "      <td>18.0</td>\n",
       "      <td>24.0</td>\n",
       "      <td>14.0</td>\n",
       "      <td>4.0</td>\n",
       "      <td>4.0</td>\n",
       "      <td>123.0</td>\n",
       "      <td>52.0</td>\n",
       "      <td>71.0</td>\n",
       "      <td>19.0</td>\n",
       "      <td>15.0</td>\n",
       "      <td>4.0</td>\n",
       "      <td>120.0</td>\n",
       "      <td>104.80</td>\n",
       "      <td>7.0</td>\n",
       "      <td>11.09</td>\n",
       "      <td>106.0</td>\n",
       "      <td>94.23</td>\n",
       "      <td>11.0</td>\n",
       "      <td>21.22</td>\n",
       "      <td>8.72</td>\n",
       "      <td>10.38</td>\n",
       "      <td>4.62</td>\n",
       "      <td>8.28</td>\n",
       "      <td>7.57</td>\n",
       "      <td>11.91</td>\n",
       "      <td>13.61</td>\n",
       "      <td>24.10</td>\n",
       "      <td>8.36</td>\n",
       "      <td>12.45</td>\n",
       "      <td>5.33</td>\n",
       "      <td>9.47</td>\n",
       "      <td>43.0</td>\n",
       "      <td>11.0</td>\n",
       "      <td>674.0</td>\n",
       "      <td>16.18</td>\n",
       "      <td>25.00</td>\n",
       "      <td>5.19</td>\n",
       "      <td>10.40</td>\n",
       "      <td>14.58</td>\n",
       "      <td>5.19</td>\n",
       "      <td>71.10</td>\n",
       "      <td>30.06</td>\n",
       "      <td>41.04</td>\n",
       "      <td>10.98</td>\n",
       "      <td>8.67</td>\n",
       "      <td>2.31</td>\n",
       "      <td>2</td>\n",
       "    </tr>\n",
       "    <tr>\n",
       "      <th>25</th>\n",
       "      <td>Sep</td>\n",
       "      <td>2</td>\n",
       "      <td>371</td>\n",
       "      <td>1666</td>\n",
       "      <td>614.0</td>\n",
       "      <td>303.0</td>\n",
       "      <td>311.0</td>\n",
       "      <td>3.81</td>\n",
       "      <td>1.88</td>\n",
       "      <td>1.93</td>\n",
       "      <td>1807.0</td>\n",
       "      <td>1299.0</td>\n",
       "      <td>508.0</td>\n",
       "      <td>10.0</td>\n",
       "      <td>8.0</td>\n",
       "      <td>2.0</td>\n",
       "      <td>5.7121</td>\n",
       "      <td>6.9026</td>\n",
       "      <td>4.6594</td>\n",
       "      <td>106.0</td>\n",
       "      <td>73.0</td>\n",
       "      <td>63.0</td>\n",
       "      <td>45.0</td>\n",
       "      <td>43.0</td>\n",
       "      <td>28.0</td>\n",
       "      <td>567.0</td>\n",
       "      <td>266.0</td>\n",
       "      <td>301.0</td>\n",
       "      <td>56.0</td>\n",
       "      <td>19.0</td>\n",
       "      <td>37.0</td>\n",
       "      <td>146.0</td>\n",
       "      <td>128.25</td>\n",
       "      <td>13.0</td>\n",
       "      <td>30.95</td>\n",
       "      <td>123.0</td>\n",
       "      <td>102.28</td>\n",
       "      <td>9.0</td>\n",
       "      <td>14.74</td>\n",
       "      <td>7.08</td>\n",
       "      <td>7.56</td>\n",
       "      <td>4.88</td>\n",
       "      <td>6.78</td>\n",
       "      <td>6.28</td>\n",
       "      <td>12.30</td>\n",
       "      <td>10.13</td>\n",
       "      <td>12.50</td>\n",
       "      <td>6.05</td>\n",
       "      <td>9.75</td>\n",
       "      <td>5.88</td>\n",
       "      <td>11.39</td>\n",
       "      <td>221.0</td>\n",
       "      <td>91.0</td>\n",
       "      <td>4782.0</td>\n",
       "      <td>17.26</td>\n",
       "      <td>20.79</td>\n",
       "      <td>13.83</td>\n",
       "      <td>11.89</td>\n",
       "      <td>14.85</td>\n",
       "      <td>9.00</td>\n",
       "      <td>92.35</td>\n",
       "      <td>43.32</td>\n",
       "      <td>49.02</td>\n",
       "      <td>9.12</td>\n",
       "      <td>3.09</td>\n",
       "      <td>6.03</td>\n",
       "      <td>2</td>\n",
       "    </tr>\n",
       "  </tbody>\n",
       "</table>\n",
       "</div>"
      ],
      "text/plain": [
       "   month  activity_school_year  n_users_per_year  n_logins  n_activities  \\\n",
       "21   Aug                     1               547       175          71.0   \n",
       "22   Aug                     2               371      1420         532.0   \n",
       "23   Aug                     3               224       910         585.0   \n",
       "24   Sep                     1               547       521         173.0   \n",
       "25   Sep                     2               371      1666         614.0   \n",
       "\n",
       "    n_recipes  n_experiences  avg_n_user_activities  avg_n_user_recipes  \\\n",
       "21       29.0           42.0                   3.55                1.45   \n",
       "22      273.0          259.0                   6.05                3.10   \n",
       "23      152.0          433.0                   9.75                2.53   \n",
       "24       96.0           77.0                   2.62                1.45   \n",
       "25      303.0          311.0                   3.81                1.88   \n",
       "\n",
       "    avg_n_user_experiences  n_files  n_files_recipes  n_files_experiences  \\\n",
       "21                    2.10     60.0             43.0                 17.0   \n",
       "22                    2.94   1555.0           1300.0                255.0   \n",
       "23                    7.22    654.0            490.0                164.0   \n",
       "24                    1.17    355.0            248.0                107.0   \n",
       "25                    1.93   1807.0           1299.0                508.0   \n",
       "\n",
       "    avg_n_files  avg_n_files_recipes  avg_n_files_experiences  std_n_files  \\\n",
       "21          6.0                  5.0                      1.0       3.3534   \n",
       "22         10.0                  9.0                      2.0       4.8276   \n",
       "23         11.0                 10.0                      1.0       6.0734   \n",
       "24          8.0                  6.0                      2.0       5.2481   \n",
       "25         10.0                  8.0                      2.0       5.7121   \n",
       "\n",
       "    std_n_files_recipes  std_n_files_experiences  n_feedback_requests  \\\n",
       "21               4.1610                   1.4200                  0.0   \n",
       "22               5.8386                   4.0261                 89.0   \n",
       "23               7.4977                   2.8684                 51.0   \n",
       "24               6.2521                   2.8655                 28.0   \n",
       "25               6.9026                   4.6594                106.0   \n",
       "\n",
       "    n_feedback_responses  n_feedback_requests_recipes  \\\n",
       "21                   0.0                          0.0   \n",
       "22                  72.0                         54.0   \n",
       "23                  29.0                         17.0   \n",
       "24                  18.0                         24.0   \n",
       "25                  73.0                         63.0   \n",
       "\n",
       "    n_feedback_responses_recipes  n_feedback_requests_experiences  \\\n",
       "21                           0.0                              0.0   \n",
       "22                          48.0                             35.0   \n",
       "23                          14.0                             34.0   \n",
       "24                          14.0                              4.0   \n",
       "25                          45.0                             43.0   \n",
       "\n",
       "    n_feedback_responses_experiences  n_in_curriculum  \\\n",
       "21                               0.0             65.0   \n",
       "22                              24.0            478.0   \n",
       "23                              15.0            516.0   \n",
       "24                               4.0            123.0   \n",
       "25                              28.0            567.0   \n",
       "\n",
       "    n_in_curriculum_recipes  n_in_curriculum_experiences  \\\n",
       "21                     28.0                         37.0   \n",
       "22                    232.0                        246.0   \n",
       "23                     90.0                        426.0   \n",
       "24                     52.0                         71.0   \n",
       "25                    266.0                        301.0   \n",
       "\n",
       "    n_in_curriculum_insert_date  n_in_curriculum_insert_date_recipes  \\\n",
       "21                         37.0                                 24.0   \n",
       "22                         26.0                                 12.0   \n",
       "23                          0.0                                  0.0   \n",
       "24                         19.0                                 15.0   \n",
       "25                         56.0                                 19.0   \n",
       "\n",
       "    n_in_curriculum_insert_date_experiences  avg_activity_total_length  \\\n",
       "21                                     13.0                      103.0   \n",
       "22                                     14.0                      128.0   \n",
       "23                                      0.0                      169.0   \n",
       "24                                      4.0                      120.0   \n",
       "25                                     37.0                      146.0   \n",
       "\n",
       "    std_activity_total_length  avg_len_descriptions  std_len_descriptions  \\\n",
       "21                      76.14                   5.0                  5.50   \n",
       "22                      86.92                   7.0                 12.96   \n",
       "23                     125.11                   8.0                 15.89   \n",
       "24                     104.80                   7.0                 11.09   \n",
       "25                     128.25                  13.0                 30.95   \n",
       "\n",
       "    avg_len_steps  std_len_steps  avg_len_observations  std_len_observations  \\\n",
       "21           92.0          73.33                  10.0                 23.66   \n",
       "22          113.0          77.48                   5.0                 12.03   \n",
       "23          153.0         113.59                   6.0                 12.37   \n",
       "24          106.0          94.23                  11.0                 21.22   \n",
       "25          123.0         102.28                   9.0                 14.74   \n",
       "\n",
       "    avg_sum_len_reflections  std_avg_sum_len_reflections  \\\n",
       "21                     1.31                         1.79   \n",
       "22                     7.26                         9.32   \n",
       "23                     6.23                         5.72   \n",
       "24                     8.72                        10.38   \n",
       "25                     7.08                         7.56   \n",
       "\n",
       "    avg_avg_len_reflections  std_avg_len_reflections  avg_len_bilancio  \\\n",
       "21                     0.63                     0.60              0.75   \n",
       "22                     4.48                     7.21              7.15   \n",
       "23                     4.70                     5.29              5.12   \n",
       "24                     4.62                     8.28              7.57   \n",
       "25                     4.88                     6.78              6.28   \n",
       "\n",
       "    std_len_bilancio  avg_len_competenze  std_len_competenze  \\\n",
       "21              0.43                0.75                0.43   \n",
       "22             11.64                9.72               13.62   \n",
       "23             11.23               10.37               15.02   \n",
       "24             11.91               13.61               24.10   \n",
       "25             12.30               10.13               12.50   \n",
       "\n",
       "    avg_len_miglioramenti  std_len_miglioramenti  avg_len_critici  \\\n",
       "21                   1.00                   0.94             2.75   \n",
       "22                   7.02                  15.62             5.14   \n",
       "23                   4.63                   6.36             4.79   \n",
       "24                   8.36                  12.45             5.33   \n",
       "25                   6.05                   9.75             5.88   \n",
       "\n",
       "    std_len_critici  total_reflections  total_null_reflections  n_edits  \\\n",
       "21             7.56                9.0                     7.0    208.0   \n",
       "22            11.72              173.0                    51.0   3206.0   \n",
       "23             8.43              158.0                    12.0   5107.0   \n",
       "24             9.47               43.0                    11.0    674.0   \n",
       "25            11.39              221.0                    91.0   4782.0   \n",
       "\n",
       "    perc_total_feedback_requests  perc_total_feedback_requests_recipes  \\\n",
       "21                          0.00                                  0.00   \n",
       "22                         16.73                                 19.78   \n",
       "23                          8.72                                 11.18   \n",
       "24                         16.18                                 25.00   \n",
       "25                         17.26                                 20.79   \n",
       "\n",
       "    perc_total_feedback_requests_experiences  perc_feedback_responses  \\\n",
       "21                                      0.00                     0.00   \n",
       "22                                     13.51                    13.53   \n",
       "23                                      7.85                     4.96   \n",
       "24                                      5.19                    10.40   \n",
       "25                                     13.83                    11.89   \n",
       "\n",
       "    perc_feedback_responses_recipes  perc_feedback_responses_experiences  \\\n",
       "21                             0.00                                 0.00   \n",
       "22                            17.58                                 9.27   \n",
       "23                             9.21                                 3.46   \n",
       "24                            14.58                                 5.19   \n",
       "25                            14.85                                 9.00   \n",
       "\n",
       "    perc_in_curriculum  perc_recipes_in_curriculum  \\\n",
       "21               91.55                       39.44   \n",
       "22               89.85                       43.61   \n",
       "23               88.21                       15.38   \n",
       "24               71.10                       30.06   \n",
       "25               92.35                       43.32   \n",
       "\n",
       "    perc_experiences_in_curriculum  perc_in_curriculum_insert_date  \\\n",
       "21                           52.11                           52.11   \n",
       "22                           46.24                            4.89   \n",
       "23                           72.82                            0.00   \n",
       "24                           41.04                           10.98   \n",
       "25                           49.02                            9.12   \n",
       "\n",
       "    perc_recipes_in_curriculum_insert_date  \\\n",
       "21                                   33.80   \n",
       "22                                    2.26   \n",
       "23                                    0.00   \n",
       "24                                    8.67   \n",
       "25                                    3.09   \n",
       "\n",
       "    perc_experiences_in_curriculum_insert_date  month_order  \n",
       "21                                       18.31            1  \n",
       "22                                        2.63            1  \n",
       "23                                        0.00            1  \n",
       "24                                        2.31            2  \n",
       "25                                        6.03            2  "
      ]
     },
     "execution_count": 6,
     "metadata": {},
     "output_type": "execute_result"
    }
   ],
   "source": [
    "df_months = pd.read_csv(f\"{data_folder}months.csv\").fillna(0)\n",
    "df_months.replace({'month':month_map},inplace=True)\n",
    "df_months['month_order'] = df_months['month'].map(dict(zip(month_order,range(1,13))))\n",
    "df_months.sort_values(by=['month_order','activity_school_year'],inplace=True)\n",
    "\n",
    "df_months.head()"
   ]
  },
  {
   "cell_type": "code",
   "execution_count": 7,
   "metadata": {},
   "outputs": [],
   "source": [
    "y_users = df_months['n_users_per_year']\n",
    "df_months['norm_avg_n_user_recipes']        = df_months['n_recipes'].divide(y_users)\n",
    "df_months['norm_avg_n_user_experiences']    = df_months['n_experiences'].divide(y_users)\n",
    "df_months['norm_avg_n_activities']          = df_months['n_activities'].divide(y_users)"
   ]
  },
  {
   "cell_type": "markdown",
   "metadata": {},
   "source": [
    "# Data Exploring"
   ]
  },
  {
   "cell_type": "markdown",
   "metadata": {},
   "source": [
    "## Apprentices"
   ]
  },
  {
   "cell_type": "markdown",
   "metadata": {},
   "source": [
    "### # of activities"
   ]
  },
  {
   "cell_type": "code",
   "execution_count": 10,
   "metadata": {},
   "outputs": [
    {
     "data": {
      "application/vnd.plotly.v1+json": {
       "config": {
        "plotlyServerURL": "https://plot.ly"
       },
       "data": [
        {
         "hovertemplate": "variable=n_recipes<br>activity_school_year=1<br>month=%{x}<br>value=%{y}<extra></extra>",
         "legendgroup": "n_recipes",
         "line": {
          "color": "#636efa",
          "dash": "solid"
         },
         "mode": "lines+markers",
         "name": "n_recipes",
         "orientation": "v",
         "showlegend": true,
         "type": "scatter",
         "x": [
          "Aug",
          "Sep",
          "Oct",
          "Nov",
          "Dec",
          "Jan",
          "Feb",
          "Mar",
          "Apr",
          "May",
          "Jun",
          "Jul"
         ],
         "xaxis": "x",
         "y": [
          29,
          96,
          436,
          855,
          768,
          959,
          745,
          874,
          648,
          857,
          391,
          171
         ],
         "yaxis": "y"
        },
        {
         "hovertemplate": "variable=n_recipes<br>activity_school_year=2<br>month=%{x}<br>value=%{y}<extra></extra>",
         "legendgroup": "n_recipes",
         "line": {
          "color": "#636efa",
          "dash": "solid"
         },
         "mode": "lines+markers",
         "name": "n_recipes",
         "orientation": "v",
         "showlegend": false,
         "type": "scatter",
         "x": [
          "Aug",
          "Sep",
          "Oct",
          "Nov",
          "Dec",
          "Jan",
          "Feb",
          "Mar",
          "Apr",
          "May",
          "Jun",
          "Jul"
         ],
         "xaxis": "x2",
         "y": [
          273,
          303,
          472,
          526,
          341,
          355,
          317,
          540,
          503,
          550,
          341,
          65
         ],
         "yaxis": "y2"
        },
        {
         "hovertemplate": "variable=n_recipes<br>activity_school_year=3<br>month=%{x}<br>value=%{y}<extra></extra>",
         "legendgroup": "n_recipes",
         "line": {
          "color": "#636efa",
          "dash": "solid"
         },
         "mode": "lines+markers",
         "name": "n_recipes",
         "orientation": "v",
         "showlegend": false,
         "type": "scatter",
         "x": [
          "Aug",
          "Sep",
          "Oct",
          "Nov",
          "Dec",
          "Jan",
          "Feb",
          "Mar",
          "Apr",
          "May",
          "Jun",
          "Jul"
         ],
         "xaxis": "x3",
         "y": [
          152,
          268,
          382,
          552,
          221,
          328,
          127,
          205,
          152,
          757,
          548,
          0
         ],
         "yaxis": "y3"
        },
        {
         "hovertemplate": "variable=n_experiences<br>activity_school_year=1<br>month=%{x}<br>value=%{y}<extra></extra>",
         "legendgroup": "n_experiences",
         "line": {
          "color": "#EF553B",
          "dash": "solid"
         },
         "mode": "lines+markers",
         "name": "n_experiences",
         "orientation": "v",
         "showlegend": true,
         "type": "scatter",
         "x": [
          "Aug",
          "Sep",
          "Oct",
          "Nov",
          "Dec",
          "Jan",
          "Feb",
          "Mar",
          "Apr",
          "May",
          "Jun",
          "Jul"
         ],
         "xaxis": "x",
         "y": [
          42,
          77,
          221,
          301,
          287,
          377,
          537,
          376,
          482,
          596,
          982,
          222
         ],
         "yaxis": "y"
        },
        {
         "hovertemplate": "variable=n_experiences<br>activity_school_year=2<br>month=%{x}<br>value=%{y}<extra></extra>",
         "legendgroup": "n_experiences",
         "line": {
          "color": "#EF553B",
          "dash": "solid"
         },
         "mode": "lines+markers",
         "name": "n_experiences",
         "orientation": "v",
         "showlegend": false,
         "type": "scatter",
         "x": [
          "Aug",
          "Sep",
          "Oct",
          "Nov",
          "Dec",
          "Jan",
          "Feb",
          "Mar",
          "Apr",
          "May",
          "Jun",
          "Jul"
         ],
         "xaxis": "x2",
         "y": [
          259,
          311,
          717,
          650,
          547,
          661,
          774,
          931,
          541,
          413,
          557,
          103
         ],
         "yaxis": "y2"
        },
        {
         "hovertemplate": "variable=n_experiences<br>activity_school_year=3<br>month=%{x}<br>value=%{y}<extra></extra>",
         "legendgroup": "n_experiences",
         "line": {
          "color": "#EF553B",
          "dash": "solid"
         },
         "mode": "lines+markers",
         "name": "n_experiences",
         "orientation": "v",
         "showlegend": false,
         "type": "scatter",
         "x": [
          "Aug",
          "Sep",
          "Oct",
          "Nov",
          "Dec",
          "Jan",
          "Feb",
          "Mar",
          "Apr",
          "May",
          "Jun",
          "Jul"
         ],
         "xaxis": "x3",
         "y": [
          433,
          168,
          384,
          457,
          283,
          477,
          601,
          387,
          458,
          878,
          2335,
          0
         ],
         "yaxis": "y3"
        },
        {
         "hovertemplate": "variable=n_feedback_responses<br>activity_school_year=1<br>month=%{x}<br>value=%{y}<extra></extra>",
         "legendgroup": "n_feedback_responses",
         "line": {
          "color": "#00cc96",
          "dash": "solid"
         },
         "mode": "lines+markers",
         "name": "n_feedback_responses",
         "orientation": "v",
         "showlegend": true,
         "type": "scatter",
         "x": [
          "Aug",
          "Sep",
          "Oct",
          "Nov",
          "Dec",
          "Jan",
          "Feb",
          "Mar",
          "Apr",
          "May",
          "Jun",
          "Jul"
         ],
         "xaxis": "x",
         "y": [
          0,
          18,
          145,
          244,
          159,
          217,
          134,
          169,
          151,
          193,
          92,
          30
         ],
         "yaxis": "y"
        },
        {
         "hovertemplate": "variable=n_feedback_responses<br>activity_school_year=2<br>month=%{x}<br>value=%{y}<extra></extra>",
         "legendgroup": "n_feedback_responses",
         "line": {
          "color": "#00cc96",
          "dash": "solid"
         },
         "mode": "lines+markers",
         "name": "n_feedback_responses",
         "orientation": "v",
         "showlegend": false,
         "type": "scatter",
         "x": [
          "Aug",
          "Sep",
          "Oct",
          "Nov",
          "Dec",
          "Jan",
          "Feb",
          "Mar",
          "Apr",
          "May",
          "Jun",
          "Jul"
         ],
         "xaxis": "x2",
         "y": [
          72,
          73,
          143,
          121,
          57,
          58,
          53,
          92,
          81,
          67,
          31,
          15
         ],
         "yaxis": "y2"
        },
        {
         "hovertemplate": "variable=n_feedback_responses<br>activity_school_year=3<br>month=%{x}<br>value=%{y}<extra></extra>",
         "legendgroup": "n_feedback_responses",
         "line": {
          "color": "#00cc96",
          "dash": "solid"
         },
         "mode": "lines+markers",
         "name": "n_feedback_responses",
         "orientation": "v",
         "showlegend": false,
         "type": "scatter",
         "x": [
          "Aug",
          "Sep",
          "Oct",
          "Nov",
          "Dec",
          "Jan",
          "Feb",
          "Mar",
          "Apr",
          "May",
          "Jun",
          "Jul"
         ],
         "xaxis": "x3",
         "y": [
          29,
          40,
          85,
          31,
          5,
          20,
          15,
          6,
          9,
          17,
          17,
          0
         ],
         "yaxis": "y3"
        },
        {
         "hovertemplate": "variable=n_edits<br>activity_school_year=1<br>month=%{x}<br>value=%{y}<extra></extra>",
         "legendgroup": "n_edits",
         "line": {
          "color": "#ab63fa",
          "dash": "solid"
         },
         "mode": "lines+markers",
         "name": "n_edits",
         "orientation": "v",
         "showlegend": true,
         "type": "scatter",
         "x": [
          "Aug",
          "Sep",
          "Oct",
          "Nov",
          "Dec",
          "Jan",
          "Feb",
          "Mar",
          "Apr",
          "May",
          "Jun",
          "Jul"
         ],
         "xaxis": "x",
         "y": [
          208,
          674,
          4656,
          9226,
          7567,
          9135,
          7795,
          9862,
          8272,
          10266,
          5869,
          1910
         ],
         "yaxis": "y"
        },
        {
         "hovertemplate": "variable=n_edits<br>activity_school_year=2<br>month=%{x}<br>value=%{y}<extra></extra>",
         "legendgroup": "n_edits",
         "line": {
          "color": "#ab63fa",
          "dash": "solid"
         },
         "mode": "lines+markers",
         "name": "n_edits",
         "orientation": "v",
         "showlegend": false,
         "type": "scatter",
         "x": [
          "Aug",
          "Sep",
          "Oct",
          "Nov",
          "Dec",
          "Jan",
          "Feb",
          "Mar",
          "Apr",
          "May",
          "Jun",
          "Jul"
         ],
         "xaxis": "x2",
         "y": [
          3206,
          4782,
          8533,
          7901,
          5083,
          6215,
          7181,
          7555,
          8182,
          7129,
          5681,
          1934
         ],
         "yaxis": "y2"
        },
        {
         "hovertemplate": "variable=n_edits<br>activity_school_year=3<br>month=%{x}<br>value=%{y}<extra></extra>",
         "legendgroup": "n_edits",
         "line": {
          "color": "#ab63fa",
          "dash": "solid"
         },
         "mode": "lines+markers",
         "name": "n_edits",
         "orientation": "v",
         "showlegend": false,
         "type": "scatter",
         "x": [
          "Aug",
          "Sep",
          "Oct",
          "Nov",
          "Dec",
          "Jan",
          "Feb",
          "Mar",
          "Apr",
          "May",
          "Jun",
          "Jul"
         ],
         "xaxis": "x3",
         "y": [
          5107,
          3840,
          4667,
          7045,
          3624,
          4169,
          2937,
          3382,
          3617,
          12487,
          16508,
          0
         ],
         "yaxis": "y3"
        }
       ],
       "layout": {
        "annotations": [
         {
          "font": {},
          "showarrow": false,
          "text": "activity_school_year=1",
          "x": 0.15999999999999998,
          "xanchor": "center",
          "xref": "paper",
          "y": 1,
          "yanchor": "bottom",
          "yref": "paper"
         },
         {
          "font": {},
          "showarrow": false,
          "text": "activity_school_year=2",
          "x": 0.49999999999999994,
          "xanchor": "center",
          "xref": "paper",
          "y": 1,
          "yanchor": "bottom",
          "yref": "paper"
         },
         {
          "font": {},
          "showarrow": false,
          "text": "activity_school_year=3",
          "x": 0.8399999999999999,
          "xanchor": "center",
          "xref": "paper",
          "y": 1,
          "yanchor": "bottom",
          "yref": "paper"
         }
        ],
        "legend": {
         "orientation": "h",
         "title": {
          "text": ""
         },
         "tracegroupgap": 0,
         "x": 0.5,
         "xanchor": "center",
         "y": -0.1,
         "yanchor": "top"
        },
        "margin": {
         "t": 60
        },
        "template": {
         "data": {
          "bar": [
           {
            "error_x": {
             "color": "#2a3f5f"
            },
            "error_y": {
             "color": "#2a3f5f"
            },
            "marker": {
             "line": {
              "color": "#E5ECF6",
              "width": 0.5
             }
            },
            "type": "bar"
           }
          ],
          "barpolar": [
           {
            "marker": {
             "line": {
              "color": "#E5ECF6",
              "width": 0.5
             }
            },
            "type": "barpolar"
           }
          ],
          "carpet": [
           {
            "aaxis": {
             "endlinecolor": "#2a3f5f",
             "gridcolor": "white",
             "linecolor": "white",
             "minorgridcolor": "white",
             "startlinecolor": "#2a3f5f"
            },
            "baxis": {
             "endlinecolor": "#2a3f5f",
             "gridcolor": "white",
             "linecolor": "white",
             "minorgridcolor": "white",
             "startlinecolor": "#2a3f5f"
            },
            "type": "carpet"
           }
          ],
          "choropleth": [
           {
            "colorbar": {
             "outlinewidth": 0,
             "ticks": ""
            },
            "type": "choropleth"
           }
          ],
          "contour": [
           {
            "colorbar": {
             "outlinewidth": 0,
             "ticks": ""
            },
            "colorscale": [
             [
              0,
              "#0d0887"
             ],
             [
              0.1111111111111111,
              "#46039f"
             ],
             [
              0.2222222222222222,
              "#7201a8"
             ],
             [
              0.3333333333333333,
              "#9c179e"
             ],
             [
              0.4444444444444444,
              "#bd3786"
             ],
             [
              0.5555555555555556,
              "#d8576b"
             ],
             [
              0.6666666666666666,
              "#ed7953"
             ],
             [
              0.7777777777777778,
              "#fb9f3a"
             ],
             [
              0.8888888888888888,
              "#fdca26"
             ],
             [
              1,
              "#f0f921"
             ]
            ],
            "type": "contour"
           }
          ],
          "contourcarpet": [
           {
            "colorbar": {
             "outlinewidth": 0,
             "ticks": ""
            },
            "type": "contourcarpet"
           }
          ],
          "heatmap": [
           {
            "colorbar": {
             "outlinewidth": 0,
             "ticks": ""
            },
            "colorscale": [
             [
              0,
              "#0d0887"
             ],
             [
              0.1111111111111111,
              "#46039f"
             ],
             [
              0.2222222222222222,
              "#7201a8"
             ],
             [
              0.3333333333333333,
              "#9c179e"
             ],
             [
              0.4444444444444444,
              "#bd3786"
             ],
             [
              0.5555555555555556,
              "#d8576b"
             ],
             [
              0.6666666666666666,
              "#ed7953"
             ],
             [
              0.7777777777777778,
              "#fb9f3a"
             ],
             [
              0.8888888888888888,
              "#fdca26"
             ],
             [
              1,
              "#f0f921"
             ]
            ],
            "type": "heatmap"
           }
          ],
          "heatmapgl": [
           {
            "colorbar": {
             "outlinewidth": 0,
             "ticks": ""
            },
            "colorscale": [
             [
              0,
              "#0d0887"
             ],
             [
              0.1111111111111111,
              "#46039f"
             ],
             [
              0.2222222222222222,
              "#7201a8"
             ],
             [
              0.3333333333333333,
              "#9c179e"
             ],
             [
              0.4444444444444444,
              "#bd3786"
             ],
             [
              0.5555555555555556,
              "#d8576b"
             ],
             [
              0.6666666666666666,
              "#ed7953"
             ],
             [
              0.7777777777777778,
              "#fb9f3a"
             ],
             [
              0.8888888888888888,
              "#fdca26"
             ],
             [
              1,
              "#f0f921"
             ]
            ],
            "type": "heatmapgl"
           }
          ],
          "histogram": [
           {
            "marker": {
             "colorbar": {
              "outlinewidth": 0,
              "ticks": ""
             }
            },
            "type": "histogram"
           }
          ],
          "histogram2d": [
           {
            "colorbar": {
             "outlinewidth": 0,
             "ticks": ""
            },
            "colorscale": [
             [
              0,
              "#0d0887"
             ],
             [
              0.1111111111111111,
              "#46039f"
             ],
             [
              0.2222222222222222,
              "#7201a8"
             ],
             [
              0.3333333333333333,
              "#9c179e"
             ],
             [
              0.4444444444444444,
              "#bd3786"
             ],
             [
              0.5555555555555556,
              "#d8576b"
             ],
             [
              0.6666666666666666,
              "#ed7953"
             ],
             [
              0.7777777777777778,
              "#fb9f3a"
             ],
             [
              0.8888888888888888,
              "#fdca26"
             ],
             [
              1,
              "#f0f921"
             ]
            ],
            "type": "histogram2d"
           }
          ],
          "histogram2dcontour": [
           {
            "colorbar": {
             "outlinewidth": 0,
             "ticks": ""
            },
            "colorscale": [
             [
              0,
              "#0d0887"
             ],
             [
              0.1111111111111111,
              "#46039f"
             ],
             [
              0.2222222222222222,
              "#7201a8"
             ],
             [
              0.3333333333333333,
              "#9c179e"
             ],
             [
              0.4444444444444444,
              "#bd3786"
             ],
             [
              0.5555555555555556,
              "#d8576b"
             ],
             [
              0.6666666666666666,
              "#ed7953"
             ],
             [
              0.7777777777777778,
              "#fb9f3a"
             ],
             [
              0.8888888888888888,
              "#fdca26"
             ],
             [
              1,
              "#f0f921"
             ]
            ],
            "type": "histogram2dcontour"
           }
          ],
          "mesh3d": [
           {
            "colorbar": {
             "outlinewidth": 0,
             "ticks": ""
            },
            "type": "mesh3d"
           }
          ],
          "parcoords": [
           {
            "line": {
             "colorbar": {
              "outlinewidth": 0,
              "ticks": ""
             }
            },
            "type": "parcoords"
           }
          ],
          "pie": [
           {
            "automargin": true,
            "type": "pie"
           }
          ],
          "scatter": [
           {
            "marker": {
             "colorbar": {
              "outlinewidth": 0,
              "ticks": ""
             }
            },
            "type": "scatter"
           }
          ],
          "scatter3d": [
           {
            "line": {
             "colorbar": {
              "outlinewidth": 0,
              "ticks": ""
             }
            },
            "marker": {
             "colorbar": {
              "outlinewidth": 0,
              "ticks": ""
             }
            },
            "type": "scatter3d"
           }
          ],
          "scattercarpet": [
           {
            "marker": {
             "colorbar": {
              "outlinewidth": 0,
              "ticks": ""
             }
            },
            "type": "scattercarpet"
           }
          ],
          "scattergeo": [
           {
            "marker": {
             "colorbar": {
              "outlinewidth": 0,
              "ticks": ""
             }
            },
            "type": "scattergeo"
           }
          ],
          "scattergl": [
           {
            "marker": {
             "colorbar": {
              "outlinewidth": 0,
              "ticks": ""
             }
            },
            "type": "scattergl"
           }
          ],
          "scattermapbox": [
           {
            "marker": {
             "colorbar": {
              "outlinewidth": 0,
              "ticks": ""
             }
            },
            "type": "scattermapbox"
           }
          ],
          "scatterpolar": [
           {
            "marker": {
             "colorbar": {
              "outlinewidth": 0,
              "ticks": ""
             }
            },
            "type": "scatterpolar"
           }
          ],
          "scatterpolargl": [
           {
            "marker": {
             "colorbar": {
              "outlinewidth": 0,
              "ticks": ""
             }
            },
            "type": "scatterpolargl"
           }
          ],
          "scatterternary": [
           {
            "marker": {
             "colorbar": {
              "outlinewidth": 0,
              "ticks": ""
             }
            },
            "type": "scatterternary"
           }
          ],
          "surface": [
           {
            "colorbar": {
             "outlinewidth": 0,
             "ticks": ""
            },
            "colorscale": [
             [
              0,
              "#0d0887"
             ],
             [
              0.1111111111111111,
              "#46039f"
             ],
             [
              0.2222222222222222,
              "#7201a8"
             ],
             [
              0.3333333333333333,
              "#9c179e"
             ],
             [
              0.4444444444444444,
              "#bd3786"
             ],
             [
              0.5555555555555556,
              "#d8576b"
             ],
             [
              0.6666666666666666,
              "#ed7953"
             ],
             [
              0.7777777777777778,
              "#fb9f3a"
             ],
             [
              0.8888888888888888,
              "#fdca26"
             ],
             [
              1,
              "#f0f921"
             ]
            ],
            "type": "surface"
           }
          ],
          "table": [
           {
            "cells": {
             "fill": {
              "color": "#EBF0F8"
             },
             "line": {
              "color": "white"
             }
            },
            "header": {
             "fill": {
              "color": "#C8D4E3"
             },
             "line": {
              "color": "white"
             }
            },
            "type": "table"
           }
          ]
         },
         "layout": {
          "annotationdefaults": {
           "arrowcolor": "#2a3f5f",
           "arrowhead": 0,
           "arrowwidth": 1
          },
          "coloraxis": {
           "colorbar": {
            "outlinewidth": 0,
            "ticks": ""
           }
          },
          "colorscale": {
           "diverging": [
            [
             0,
             "#8e0152"
            ],
            [
             0.1,
             "#c51b7d"
            ],
            [
             0.2,
             "#de77ae"
            ],
            [
             0.3,
             "#f1b6da"
            ],
            [
             0.4,
             "#fde0ef"
            ],
            [
             0.5,
             "#f7f7f7"
            ],
            [
             0.6,
             "#e6f5d0"
            ],
            [
             0.7,
             "#b8e186"
            ],
            [
             0.8,
             "#7fbc41"
            ],
            [
             0.9,
             "#4d9221"
            ],
            [
             1,
             "#276419"
            ]
           ],
           "sequential": [
            [
             0,
             "#0d0887"
            ],
            [
             0.1111111111111111,
             "#46039f"
            ],
            [
             0.2222222222222222,
             "#7201a8"
            ],
            [
             0.3333333333333333,
             "#9c179e"
            ],
            [
             0.4444444444444444,
             "#bd3786"
            ],
            [
             0.5555555555555556,
             "#d8576b"
            ],
            [
             0.6666666666666666,
             "#ed7953"
            ],
            [
             0.7777777777777778,
             "#fb9f3a"
            ],
            [
             0.8888888888888888,
             "#fdca26"
            ],
            [
             1,
             "#f0f921"
            ]
           ],
           "sequentialminus": [
            [
             0,
             "#0d0887"
            ],
            [
             0.1111111111111111,
             "#46039f"
            ],
            [
             0.2222222222222222,
             "#7201a8"
            ],
            [
             0.3333333333333333,
             "#9c179e"
            ],
            [
             0.4444444444444444,
             "#bd3786"
            ],
            [
             0.5555555555555556,
             "#d8576b"
            ],
            [
             0.6666666666666666,
             "#ed7953"
            ],
            [
             0.7777777777777778,
             "#fb9f3a"
            ],
            [
             0.8888888888888888,
             "#fdca26"
            ],
            [
             1,
             "#f0f921"
            ]
           ]
          },
          "colorway": [
           "#636efa",
           "#EF553B",
           "#00cc96",
           "#ab63fa",
           "#FFA15A",
           "#19d3f3",
           "#FF6692",
           "#B6E880",
           "#FF97FF",
           "#FECB52"
          ],
          "font": {
           "color": "#2a3f5f"
          },
          "geo": {
           "bgcolor": "white",
           "lakecolor": "white",
           "landcolor": "#E5ECF6",
           "showlakes": true,
           "showland": true,
           "subunitcolor": "white"
          },
          "hoverlabel": {
           "align": "left"
          },
          "hovermode": "closest",
          "mapbox": {
           "style": "light"
          },
          "paper_bgcolor": "white",
          "plot_bgcolor": "#E5ECF6",
          "polar": {
           "angularaxis": {
            "gridcolor": "white",
            "linecolor": "white",
            "ticks": ""
           },
           "bgcolor": "#E5ECF6",
           "radialaxis": {
            "gridcolor": "white",
            "linecolor": "white",
            "ticks": ""
           }
          },
          "scene": {
           "xaxis": {
            "backgroundcolor": "#E5ECF6",
            "gridcolor": "white",
            "gridwidth": 2,
            "linecolor": "white",
            "showbackground": true,
            "ticks": "",
            "zerolinecolor": "white"
           },
           "yaxis": {
            "backgroundcolor": "#E5ECF6",
            "gridcolor": "white",
            "gridwidth": 2,
            "linecolor": "white",
            "showbackground": true,
            "ticks": "",
            "zerolinecolor": "white"
           },
           "zaxis": {
            "backgroundcolor": "#E5ECF6",
            "gridcolor": "white",
            "gridwidth": 2,
            "linecolor": "white",
            "showbackground": true,
            "ticks": "",
            "zerolinecolor": "white"
           }
          },
          "shapedefaults": {
           "line": {
            "color": "#2a3f5f"
           }
          },
          "ternary": {
           "aaxis": {
            "gridcolor": "white",
            "linecolor": "white",
            "ticks": ""
           },
           "baxis": {
            "gridcolor": "white",
            "linecolor": "white",
            "ticks": ""
           },
           "bgcolor": "#E5ECF6",
           "caxis": {
            "gridcolor": "white",
            "linecolor": "white",
            "ticks": ""
           }
          },
          "title": {
           "x": 0.05
          },
          "xaxis": {
           "automargin": true,
           "gridcolor": "white",
           "linecolor": "white",
           "ticks": "",
           "title": {
            "standoff": 15
           },
           "zerolinecolor": "white",
           "zerolinewidth": 2
          },
          "yaxis": {
           "automargin": true,
           "gridcolor": "white",
           "linecolor": "white",
           "ticks": "",
           "title": {
            "standoff": 15
           },
           "zerolinecolor": "white",
           "zerolinewidth": 2
          }
         }
        },
        "xaxis": {
         "anchor": "y",
         "domain": [
          0,
          0.31999999999999995
         ],
         "tickangle": 45,
         "title": {
          "text": ""
         }
        },
        "xaxis2": {
         "anchor": "y2",
         "domain": [
          0.33999999999999997,
          0.6599999999999999
         ],
         "matches": "x",
         "tickangle": 45,
         "title": {
          "text": ""
         }
        },
        "xaxis3": {
         "anchor": "y3",
         "domain": [
          0.6799999999999999,
          0.9999999999999999
         ],
         "matches": "x",
         "tickangle": 45,
         "title": {
          "text": ""
         }
        },
        "yaxis": {
         "anchor": "x",
         "domain": [
          0,
          1
         ],
         "title": {
          "text": ""
         },
         "type": "log"
        },
        "yaxis2": {
         "anchor": "x2",
         "domain": [
          0,
          1
         ],
         "matches": "y",
         "showticklabels": false,
         "type": "log"
        },
        "yaxis3": {
         "anchor": "x3",
         "domain": [
          0,
          1
         ],
         "matches": "y",
         "showticklabels": false,
         "type": "log"
        }
       }
      },
      "text/html": [
       "<div>\n",
       "        \n",
       "        \n",
       "            <div id=\"adda12f3-b9da-423d-98a6-de15d72a9f19\" class=\"plotly-graph-div\" style=\"height:525px; width:100%;\"></div>\n",
       "            <script type=\"text/javascript\">\n",
       "                require([\"plotly\"], function(Plotly) {\n",
       "                    window.PLOTLYENV=window.PLOTLYENV || {};\n",
       "                    \n",
       "                if (document.getElementById(\"adda12f3-b9da-423d-98a6-de15d72a9f19\")) {\n",
       "                    Plotly.newPlot(\n",
       "                        'adda12f3-b9da-423d-98a6-de15d72a9f19',\n",
       "                        [{\"hovertemplate\": \"variable=n_recipes<br>activity_school_year=1<br>month=%{x}<br>value=%{y}<extra></extra>\", \"legendgroup\": \"n_recipes\", \"line\": {\"color\": \"#636efa\", \"dash\": \"solid\"}, \"mode\": \"lines+markers\", \"name\": \"n_recipes\", \"orientation\": \"v\", \"showlegend\": true, \"type\": \"scatter\", \"x\": [\"Aug\", \"Sep\", \"Oct\", \"Nov\", \"Dec\", \"Jan\", \"Feb\", \"Mar\", \"Apr\", \"May\", \"Jun\", \"Jul\"], \"xaxis\": \"x\", \"y\": [29.0, 96.0, 436.0, 855.0, 768.0, 959.0, 745.0, 874.0, 648.0, 857.0, 391.0, 171.0], \"yaxis\": \"y\"}, {\"hovertemplate\": \"variable=n_recipes<br>activity_school_year=2<br>month=%{x}<br>value=%{y}<extra></extra>\", \"legendgroup\": \"n_recipes\", \"line\": {\"color\": \"#636efa\", \"dash\": \"solid\"}, \"mode\": \"lines+markers\", \"name\": \"n_recipes\", \"orientation\": \"v\", \"showlegend\": false, \"type\": \"scatter\", \"x\": [\"Aug\", \"Sep\", \"Oct\", \"Nov\", \"Dec\", \"Jan\", \"Feb\", \"Mar\", \"Apr\", \"May\", \"Jun\", \"Jul\"], \"xaxis\": \"x2\", \"y\": [273.0, 303.0, 472.0, 526.0, 341.0, 355.0, 317.0, 540.0, 503.0, 550.0, 341.0, 65.0], \"yaxis\": \"y2\"}, {\"hovertemplate\": \"variable=n_recipes<br>activity_school_year=3<br>month=%{x}<br>value=%{y}<extra></extra>\", \"legendgroup\": \"n_recipes\", \"line\": {\"color\": \"#636efa\", \"dash\": \"solid\"}, \"mode\": \"lines+markers\", \"name\": \"n_recipes\", \"orientation\": \"v\", \"showlegend\": false, \"type\": \"scatter\", \"x\": [\"Aug\", \"Sep\", \"Oct\", \"Nov\", \"Dec\", \"Jan\", \"Feb\", \"Mar\", \"Apr\", \"May\", \"Jun\", \"Jul\"], \"xaxis\": \"x3\", \"y\": [152.0, 268.0, 382.0, 552.0, 221.0, 328.0, 127.0, 205.0, 152.0, 757.0, 548.0, 0.0], \"yaxis\": \"y3\"}, {\"hovertemplate\": \"variable=n_experiences<br>activity_school_year=1<br>month=%{x}<br>value=%{y}<extra></extra>\", \"legendgroup\": \"n_experiences\", \"line\": {\"color\": \"#EF553B\", \"dash\": \"solid\"}, \"mode\": \"lines+markers\", \"name\": \"n_experiences\", \"orientation\": \"v\", \"showlegend\": true, \"type\": \"scatter\", \"x\": [\"Aug\", \"Sep\", \"Oct\", \"Nov\", \"Dec\", \"Jan\", \"Feb\", \"Mar\", \"Apr\", \"May\", \"Jun\", \"Jul\"], \"xaxis\": \"x\", \"y\": [42.0, 77.0, 221.0, 301.0, 287.0, 377.0, 537.0, 376.0, 482.0, 596.0, 982.0, 222.0], \"yaxis\": \"y\"}, {\"hovertemplate\": \"variable=n_experiences<br>activity_school_year=2<br>month=%{x}<br>value=%{y}<extra></extra>\", \"legendgroup\": \"n_experiences\", \"line\": {\"color\": \"#EF553B\", \"dash\": \"solid\"}, \"mode\": \"lines+markers\", \"name\": \"n_experiences\", \"orientation\": \"v\", \"showlegend\": false, \"type\": \"scatter\", \"x\": [\"Aug\", \"Sep\", \"Oct\", \"Nov\", \"Dec\", \"Jan\", \"Feb\", \"Mar\", \"Apr\", \"May\", \"Jun\", \"Jul\"], \"xaxis\": \"x2\", \"y\": [259.0, 311.0, 717.0, 650.0, 547.0, 661.0, 774.0, 931.0, 541.0, 413.0, 557.0, 103.0], \"yaxis\": \"y2\"}, {\"hovertemplate\": \"variable=n_experiences<br>activity_school_year=3<br>month=%{x}<br>value=%{y}<extra></extra>\", \"legendgroup\": \"n_experiences\", \"line\": {\"color\": \"#EF553B\", \"dash\": \"solid\"}, \"mode\": \"lines+markers\", \"name\": \"n_experiences\", \"orientation\": \"v\", \"showlegend\": false, \"type\": \"scatter\", \"x\": [\"Aug\", \"Sep\", \"Oct\", \"Nov\", \"Dec\", \"Jan\", \"Feb\", \"Mar\", \"Apr\", \"May\", \"Jun\", \"Jul\"], \"xaxis\": \"x3\", \"y\": [433.0, 168.0, 384.0, 457.0, 283.0, 477.0, 601.0, 387.0, 458.0, 878.0, 2335.0, 0.0], \"yaxis\": \"y3\"}, {\"hovertemplate\": \"variable=n_feedback_responses<br>activity_school_year=1<br>month=%{x}<br>value=%{y}<extra></extra>\", \"legendgroup\": \"n_feedback_responses\", \"line\": {\"color\": \"#00cc96\", \"dash\": \"solid\"}, \"mode\": \"lines+markers\", \"name\": \"n_feedback_responses\", \"orientation\": \"v\", \"showlegend\": true, \"type\": \"scatter\", \"x\": [\"Aug\", \"Sep\", \"Oct\", \"Nov\", \"Dec\", \"Jan\", \"Feb\", \"Mar\", \"Apr\", \"May\", \"Jun\", \"Jul\"], \"xaxis\": \"x\", \"y\": [0.0, 18.0, 145.0, 244.0, 159.0, 217.0, 134.0, 169.0, 151.0, 193.0, 92.0, 30.0], \"yaxis\": \"y\"}, {\"hovertemplate\": \"variable=n_feedback_responses<br>activity_school_year=2<br>month=%{x}<br>value=%{y}<extra></extra>\", \"legendgroup\": \"n_feedback_responses\", \"line\": {\"color\": \"#00cc96\", \"dash\": \"solid\"}, \"mode\": \"lines+markers\", \"name\": \"n_feedback_responses\", \"orientation\": \"v\", \"showlegend\": false, \"type\": \"scatter\", \"x\": [\"Aug\", \"Sep\", \"Oct\", \"Nov\", \"Dec\", \"Jan\", \"Feb\", \"Mar\", \"Apr\", \"May\", \"Jun\", \"Jul\"], \"xaxis\": \"x2\", \"y\": [72.0, 73.0, 143.0, 121.0, 57.0, 58.0, 53.0, 92.0, 81.0, 67.0, 31.0, 15.0], \"yaxis\": \"y2\"}, {\"hovertemplate\": \"variable=n_feedback_responses<br>activity_school_year=3<br>month=%{x}<br>value=%{y}<extra></extra>\", \"legendgroup\": \"n_feedback_responses\", \"line\": {\"color\": \"#00cc96\", \"dash\": \"solid\"}, \"mode\": \"lines+markers\", \"name\": \"n_feedback_responses\", \"orientation\": \"v\", \"showlegend\": false, \"type\": \"scatter\", \"x\": [\"Aug\", \"Sep\", \"Oct\", \"Nov\", \"Dec\", \"Jan\", \"Feb\", \"Mar\", \"Apr\", \"May\", \"Jun\", \"Jul\"], \"xaxis\": \"x3\", \"y\": [29.0, 40.0, 85.0, 31.0, 5.0, 20.0, 15.0, 6.0, 9.0, 17.0, 17.0, 0.0], \"yaxis\": \"y3\"}, {\"hovertemplate\": \"variable=n_edits<br>activity_school_year=1<br>month=%{x}<br>value=%{y}<extra></extra>\", \"legendgroup\": \"n_edits\", \"line\": {\"color\": \"#ab63fa\", \"dash\": \"solid\"}, \"mode\": \"lines+markers\", \"name\": \"n_edits\", \"orientation\": \"v\", \"showlegend\": true, \"type\": \"scatter\", \"x\": [\"Aug\", \"Sep\", \"Oct\", \"Nov\", \"Dec\", \"Jan\", \"Feb\", \"Mar\", \"Apr\", \"May\", \"Jun\", \"Jul\"], \"xaxis\": \"x\", \"y\": [208.0, 674.0, 4656.0, 9226.0, 7567.0, 9135.0, 7795.0, 9862.0, 8272.0, 10266.0, 5869.0, 1910.0], \"yaxis\": \"y\"}, {\"hovertemplate\": \"variable=n_edits<br>activity_school_year=2<br>month=%{x}<br>value=%{y}<extra></extra>\", \"legendgroup\": \"n_edits\", \"line\": {\"color\": \"#ab63fa\", \"dash\": \"solid\"}, \"mode\": \"lines+markers\", \"name\": \"n_edits\", \"orientation\": \"v\", \"showlegend\": false, \"type\": \"scatter\", \"x\": [\"Aug\", \"Sep\", \"Oct\", \"Nov\", \"Dec\", \"Jan\", \"Feb\", \"Mar\", \"Apr\", \"May\", \"Jun\", \"Jul\"], \"xaxis\": \"x2\", \"y\": [3206.0, 4782.0, 8533.0, 7901.0, 5083.0, 6215.0, 7181.0, 7555.0, 8182.0, 7129.0, 5681.0, 1934.0], \"yaxis\": \"y2\"}, {\"hovertemplate\": \"variable=n_edits<br>activity_school_year=3<br>month=%{x}<br>value=%{y}<extra></extra>\", \"legendgroup\": \"n_edits\", \"line\": {\"color\": \"#ab63fa\", \"dash\": \"solid\"}, \"mode\": \"lines+markers\", \"name\": \"n_edits\", \"orientation\": \"v\", \"showlegend\": false, \"type\": \"scatter\", \"x\": [\"Aug\", \"Sep\", \"Oct\", \"Nov\", \"Dec\", \"Jan\", \"Feb\", \"Mar\", \"Apr\", \"May\", \"Jun\", \"Jul\"], \"xaxis\": \"x3\", \"y\": [5107.0, 3840.0, 4667.0, 7045.0, 3624.0, 4169.0, 2937.0, 3382.0, 3617.0, 12487.0, 16508.0, 0.0], \"yaxis\": \"y3\"}],\n",
       "                        {\"annotations\": [{\"font\": {}, \"showarrow\": false, \"text\": \"activity_school_year=1\", \"x\": 0.15999999999999998, \"xanchor\": \"center\", \"xref\": \"paper\", \"y\": 1.0, \"yanchor\": \"bottom\", \"yref\": \"paper\"}, {\"font\": {}, \"showarrow\": false, \"text\": \"activity_school_year=2\", \"x\": 0.49999999999999994, \"xanchor\": \"center\", \"xref\": \"paper\", \"y\": 1.0, \"yanchor\": \"bottom\", \"yref\": \"paper\"}, {\"font\": {}, \"showarrow\": false, \"text\": \"activity_school_year=3\", \"x\": 0.8399999999999999, \"xanchor\": \"center\", \"xref\": \"paper\", \"y\": 1.0, \"yanchor\": \"bottom\", \"yref\": \"paper\"}], \"legend\": {\"orientation\": \"h\", \"title\": {\"text\": \"\"}, \"tracegroupgap\": 0, \"x\": 0.5, \"xanchor\": \"center\", \"y\": -0.1, \"yanchor\": \"top\"}, \"margin\": {\"t\": 60}, \"template\": {\"data\": {\"bar\": [{\"error_x\": {\"color\": \"#2a3f5f\"}, \"error_y\": {\"color\": \"#2a3f5f\"}, \"marker\": {\"line\": {\"color\": \"#E5ECF6\", \"width\": 0.5}}, \"type\": \"bar\"}], \"barpolar\": [{\"marker\": {\"line\": {\"color\": \"#E5ECF6\", \"width\": 0.5}}, \"type\": \"barpolar\"}], \"carpet\": [{\"aaxis\": {\"endlinecolor\": \"#2a3f5f\", \"gridcolor\": \"white\", \"linecolor\": \"white\", \"minorgridcolor\": \"white\", \"startlinecolor\": \"#2a3f5f\"}, \"baxis\": {\"endlinecolor\": \"#2a3f5f\", \"gridcolor\": \"white\", \"linecolor\": \"white\", \"minorgridcolor\": \"white\", \"startlinecolor\": \"#2a3f5f\"}, \"type\": \"carpet\"}], \"choropleth\": [{\"colorbar\": {\"outlinewidth\": 0, \"ticks\": \"\"}, \"type\": \"choropleth\"}], \"contour\": [{\"colorbar\": {\"outlinewidth\": 0, \"ticks\": \"\"}, \"colorscale\": [[0.0, \"#0d0887\"], [0.1111111111111111, \"#46039f\"], [0.2222222222222222, \"#7201a8\"], [0.3333333333333333, \"#9c179e\"], [0.4444444444444444, \"#bd3786\"], [0.5555555555555556, \"#d8576b\"], [0.6666666666666666, \"#ed7953\"], [0.7777777777777778, \"#fb9f3a\"], [0.8888888888888888, \"#fdca26\"], [1.0, \"#f0f921\"]], \"type\": \"contour\"}], \"contourcarpet\": [{\"colorbar\": {\"outlinewidth\": 0, \"ticks\": \"\"}, \"type\": \"contourcarpet\"}], \"heatmap\": [{\"colorbar\": {\"outlinewidth\": 0, \"ticks\": \"\"}, \"colorscale\": [[0.0, \"#0d0887\"], [0.1111111111111111, \"#46039f\"], [0.2222222222222222, \"#7201a8\"], [0.3333333333333333, \"#9c179e\"], [0.4444444444444444, \"#bd3786\"], [0.5555555555555556, \"#d8576b\"], [0.6666666666666666, \"#ed7953\"], [0.7777777777777778, \"#fb9f3a\"], [0.8888888888888888, \"#fdca26\"], [1.0, \"#f0f921\"]], \"type\": \"heatmap\"}], \"heatmapgl\": [{\"colorbar\": {\"outlinewidth\": 0, \"ticks\": \"\"}, \"colorscale\": [[0.0, \"#0d0887\"], [0.1111111111111111, \"#46039f\"], [0.2222222222222222, \"#7201a8\"], [0.3333333333333333, \"#9c179e\"], [0.4444444444444444, \"#bd3786\"], [0.5555555555555556, \"#d8576b\"], [0.6666666666666666, \"#ed7953\"], [0.7777777777777778, \"#fb9f3a\"], [0.8888888888888888, \"#fdca26\"], [1.0, \"#f0f921\"]], \"type\": \"heatmapgl\"}], \"histogram\": [{\"marker\": {\"colorbar\": {\"outlinewidth\": 0, \"ticks\": \"\"}}, \"type\": \"histogram\"}], \"histogram2d\": [{\"colorbar\": {\"outlinewidth\": 0, \"ticks\": \"\"}, \"colorscale\": [[0.0, \"#0d0887\"], [0.1111111111111111, \"#46039f\"], [0.2222222222222222, \"#7201a8\"], [0.3333333333333333, \"#9c179e\"], [0.4444444444444444, \"#bd3786\"], [0.5555555555555556, \"#d8576b\"], [0.6666666666666666, \"#ed7953\"], [0.7777777777777778, \"#fb9f3a\"], [0.8888888888888888, \"#fdca26\"], [1.0, \"#f0f921\"]], \"type\": \"histogram2d\"}], \"histogram2dcontour\": [{\"colorbar\": {\"outlinewidth\": 0, \"ticks\": \"\"}, \"colorscale\": [[0.0, \"#0d0887\"], [0.1111111111111111, \"#46039f\"], [0.2222222222222222, \"#7201a8\"], [0.3333333333333333, \"#9c179e\"], [0.4444444444444444, \"#bd3786\"], [0.5555555555555556, \"#d8576b\"], [0.6666666666666666, \"#ed7953\"], [0.7777777777777778, \"#fb9f3a\"], [0.8888888888888888, \"#fdca26\"], [1.0, \"#f0f921\"]], \"type\": \"histogram2dcontour\"}], \"mesh3d\": [{\"colorbar\": {\"outlinewidth\": 0, \"ticks\": \"\"}, \"type\": \"mesh3d\"}], \"parcoords\": [{\"line\": {\"colorbar\": {\"outlinewidth\": 0, \"ticks\": \"\"}}, \"type\": \"parcoords\"}], \"pie\": [{\"automargin\": true, \"type\": \"pie\"}], \"scatter\": [{\"marker\": {\"colorbar\": {\"outlinewidth\": 0, \"ticks\": \"\"}}, \"type\": \"scatter\"}], \"scatter3d\": [{\"line\": {\"colorbar\": {\"outlinewidth\": 0, \"ticks\": \"\"}}, \"marker\": {\"colorbar\": {\"outlinewidth\": 0, \"ticks\": \"\"}}, \"type\": \"scatter3d\"}], \"scattercarpet\": [{\"marker\": {\"colorbar\": {\"outlinewidth\": 0, \"ticks\": \"\"}}, \"type\": \"scattercarpet\"}], \"scattergeo\": [{\"marker\": {\"colorbar\": {\"outlinewidth\": 0, \"ticks\": \"\"}}, \"type\": \"scattergeo\"}], \"scattergl\": [{\"marker\": {\"colorbar\": {\"outlinewidth\": 0, \"ticks\": \"\"}}, \"type\": \"scattergl\"}], \"scattermapbox\": [{\"marker\": {\"colorbar\": {\"outlinewidth\": 0, \"ticks\": \"\"}}, \"type\": \"scattermapbox\"}], \"scatterpolar\": [{\"marker\": {\"colorbar\": {\"outlinewidth\": 0, \"ticks\": \"\"}}, \"type\": \"scatterpolar\"}], \"scatterpolargl\": [{\"marker\": {\"colorbar\": {\"outlinewidth\": 0, \"ticks\": \"\"}}, \"type\": \"scatterpolargl\"}], \"scatterternary\": [{\"marker\": {\"colorbar\": {\"outlinewidth\": 0, \"ticks\": \"\"}}, \"type\": \"scatterternary\"}], \"surface\": [{\"colorbar\": {\"outlinewidth\": 0, \"ticks\": \"\"}, \"colorscale\": [[0.0, \"#0d0887\"], [0.1111111111111111, \"#46039f\"], [0.2222222222222222, \"#7201a8\"], [0.3333333333333333, \"#9c179e\"], [0.4444444444444444, \"#bd3786\"], [0.5555555555555556, \"#d8576b\"], [0.6666666666666666, \"#ed7953\"], [0.7777777777777778, \"#fb9f3a\"], [0.8888888888888888, \"#fdca26\"], [1.0, \"#f0f921\"]], \"type\": \"surface\"}], \"table\": [{\"cells\": {\"fill\": {\"color\": \"#EBF0F8\"}, \"line\": {\"color\": \"white\"}}, \"header\": {\"fill\": {\"color\": \"#C8D4E3\"}, \"line\": {\"color\": \"white\"}}, \"type\": \"table\"}]}, \"layout\": {\"annotationdefaults\": {\"arrowcolor\": \"#2a3f5f\", \"arrowhead\": 0, \"arrowwidth\": 1}, \"coloraxis\": {\"colorbar\": {\"outlinewidth\": 0, \"ticks\": \"\"}}, \"colorscale\": {\"diverging\": [[0, \"#8e0152\"], [0.1, \"#c51b7d\"], [0.2, \"#de77ae\"], [0.3, \"#f1b6da\"], [0.4, \"#fde0ef\"], [0.5, \"#f7f7f7\"], [0.6, \"#e6f5d0\"], [0.7, \"#b8e186\"], [0.8, \"#7fbc41\"], [0.9, \"#4d9221\"], [1, \"#276419\"]], \"sequential\": [[0.0, \"#0d0887\"], [0.1111111111111111, \"#46039f\"], [0.2222222222222222, \"#7201a8\"], [0.3333333333333333, \"#9c179e\"], [0.4444444444444444, \"#bd3786\"], [0.5555555555555556, \"#d8576b\"], [0.6666666666666666, \"#ed7953\"], [0.7777777777777778, \"#fb9f3a\"], [0.8888888888888888, \"#fdca26\"], [1.0, \"#f0f921\"]], \"sequentialminus\": [[0.0, \"#0d0887\"], [0.1111111111111111, \"#46039f\"], [0.2222222222222222, \"#7201a8\"], [0.3333333333333333, \"#9c179e\"], [0.4444444444444444, \"#bd3786\"], [0.5555555555555556, \"#d8576b\"], [0.6666666666666666, \"#ed7953\"], [0.7777777777777778, \"#fb9f3a\"], [0.8888888888888888, \"#fdca26\"], [1.0, \"#f0f921\"]]}, \"colorway\": [\"#636efa\", \"#EF553B\", \"#00cc96\", \"#ab63fa\", \"#FFA15A\", \"#19d3f3\", \"#FF6692\", \"#B6E880\", \"#FF97FF\", \"#FECB52\"], \"font\": {\"color\": \"#2a3f5f\"}, \"geo\": {\"bgcolor\": \"white\", \"lakecolor\": \"white\", \"landcolor\": \"#E5ECF6\", \"showlakes\": true, \"showland\": true, \"subunitcolor\": \"white\"}, \"hoverlabel\": {\"align\": \"left\"}, \"hovermode\": \"closest\", \"mapbox\": {\"style\": \"light\"}, \"paper_bgcolor\": \"white\", \"plot_bgcolor\": \"#E5ECF6\", \"polar\": {\"angularaxis\": {\"gridcolor\": \"white\", \"linecolor\": \"white\", \"ticks\": \"\"}, \"bgcolor\": \"#E5ECF6\", \"radialaxis\": {\"gridcolor\": \"white\", \"linecolor\": \"white\", \"ticks\": \"\"}}, \"scene\": {\"xaxis\": {\"backgroundcolor\": \"#E5ECF6\", \"gridcolor\": \"white\", \"gridwidth\": 2, \"linecolor\": \"white\", \"showbackground\": true, \"ticks\": \"\", \"zerolinecolor\": \"white\"}, \"yaxis\": {\"backgroundcolor\": \"#E5ECF6\", \"gridcolor\": \"white\", \"gridwidth\": 2, \"linecolor\": \"white\", \"showbackground\": true, \"ticks\": \"\", \"zerolinecolor\": \"white\"}, \"zaxis\": {\"backgroundcolor\": \"#E5ECF6\", \"gridcolor\": \"white\", \"gridwidth\": 2, \"linecolor\": \"white\", \"showbackground\": true, \"ticks\": \"\", \"zerolinecolor\": \"white\"}}, \"shapedefaults\": {\"line\": {\"color\": \"#2a3f5f\"}}, \"ternary\": {\"aaxis\": {\"gridcolor\": \"white\", \"linecolor\": \"white\", \"ticks\": \"\"}, \"baxis\": {\"gridcolor\": \"white\", \"linecolor\": \"white\", \"ticks\": \"\"}, \"bgcolor\": \"#E5ECF6\", \"caxis\": {\"gridcolor\": \"white\", \"linecolor\": \"white\", \"ticks\": \"\"}}, \"title\": {\"x\": 0.05}, \"xaxis\": {\"automargin\": true, \"gridcolor\": \"white\", \"linecolor\": \"white\", \"ticks\": \"\", \"title\": {\"standoff\": 15}, \"zerolinecolor\": \"white\", \"zerolinewidth\": 2}, \"yaxis\": {\"automargin\": true, \"gridcolor\": \"white\", \"linecolor\": \"white\", \"ticks\": \"\", \"title\": {\"standoff\": 15}, \"zerolinecolor\": \"white\", \"zerolinewidth\": 2}}}, \"xaxis\": {\"anchor\": \"y\", \"domain\": [0.0, 0.31999999999999995], \"tickangle\": 45, \"title\": {\"text\": \"\"}}, \"xaxis2\": {\"anchor\": \"y2\", \"domain\": [0.33999999999999997, 0.6599999999999999], \"matches\": \"x\", \"tickangle\": 45, \"title\": {\"text\": \"\"}}, \"xaxis3\": {\"anchor\": \"y3\", \"domain\": [0.6799999999999999, 0.9999999999999999], \"matches\": \"x\", \"tickangle\": 45, \"title\": {\"text\": \"\"}}, \"yaxis\": {\"anchor\": \"x\", \"domain\": [0.0, 1.0], \"title\": {\"text\": \"\"}, \"type\": \"log\"}, \"yaxis2\": {\"anchor\": \"x2\", \"domain\": [0.0, 1.0], \"matches\": \"y\", \"showticklabels\": false, \"type\": \"log\"}, \"yaxis3\": {\"anchor\": \"x3\", \"domain\": [0.0, 1.0], \"matches\": \"y\", \"showticklabels\": false, \"type\": \"log\"}},\n",
       "                        {\"responsive\": true}\n",
       "                    ).then(function(){\n",
       "                            \n",
       "var gd = document.getElementById('adda12f3-b9da-423d-98a6-de15d72a9f19');\n",
       "var x = new MutationObserver(function (mutations, observer) {{\n",
       "        var display = window.getComputedStyle(gd).display;\n",
       "        if (!display || display === 'none') {{\n",
       "            console.log([gd, 'removed!']);\n",
       "            Plotly.purge(gd);\n",
       "            observer.disconnect();\n",
       "        }}\n",
       "}});\n",
       "\n",
       "// Listen for the removal of the full notebook cells\n",
       "var notebookContainer = gd.closest('#notebook-container');\n",
       "if (notebookContainer) {{\n",
       "    x.observe(notebookContainer, {childList: true});\n",
       "}}\n",
       "\n",
       "// Listen for the clearing of the current output cell\n",
       "var outputEl = gd.closest('.output');\n",
       "if (outputEl) {{\n",
       "    x.observe(outputEl, {childList: true});\n",
       "}}\n",
       "\n",
       "                        })\n",
       "                };\n",
       "                });\n",
       "            </script>\n",
       "        </div>"
      ]
     },
     "metadata": {},
     "output_type": "display_data"
    }
   ],
   "source": [
    "fig = df_months.plot(x=\"month\", y=[\"n_recipes\",\"n_experiences\",\"n_feedback_responses\",\"n_edits\"],facet_col='activity_school_year')\n",
    "fig.update_layout(yaxis_title=\"\",\n",
    "                  legend_orientation=\"h\",legend=dict(x=0.5, y=-0.1,xanchor='center',yanchor='top'),legend_title_text='')\n",
    "fig.update_xaxes(title=dict(text=\"\"),tickangle=45)\n",
    "fig.update_yaxes(type=\"log\")\n",
    "fig.update_traces(mode='lines+markers')\n",
    "\n",
    "fig.show()"
   ]
  },
  {
   "cell_type": "code",
   "execution_count": 17,
   "metadata": {},
   "outputs": [
    {
     "data": {
      "application/javascript": [
       "element.append('<div id=\"chartdiv_e72a28d0-a78b-11ea-b6b3-c0335ee590ee\" style=\"height: 500px;\"></div>');"
      ],
      "text/plain": [
       "<IPython.core.display.Javascript object>"
      ]
     },
     "metadata": {},
     "output_type": "display_data"
    },
    {
     "data": {
      "application/javascript": [
       "$('#chartdiv_e72a28d0-a78b-11ea-b6b3-c0335ee590ee').parent(\"div\").css(\"width\",\"100%\").css(\"overflow-y\",\"hidden\");"
      ],
      "text/plain": [
       "<IPython.core.display.Javascript object>"
      ]
     },
     "metadata": {},
     "output_type": "display_data"
    },
    {
     "data": {
      "application/javascript": [
       "var params = {};params['title'] = \"Activities, feedback requests, feedback responses\";params['y_title'] = \"Count\";params['x_title'] = \"month\";params['is_category'] = 1;params['hues'] = [1, 2, 3];params['data'] = [{'x': 'Aug_1', 'year 1 - n_activities': 71.0}, {'x': 'Sep_1', 'year 1 - n_activities': 173.0}, {'x': 'Oct_1', 'year 1 - n_activities': 657.0}, {'x': 'Nov_1', 'year 1 - n_activities': 1156.0}, {'x': 'Dec_1', 'year 1 - n_activities': 1055.0}, {'x': 'Jan_1', 'year 1 - n_activities': 1336.0}, {'x': 'Feb_1', 'year 1 - n_activities': 1282.0}, {'x': 'Mar_1', 'year 1 - n_activities': 1250.0}, {'x': 'Apr_1', 'year 1 - n_activities': 1130.0}, {'x': 'May_1', 'year 1 - n_activities': 1453.0}, {'x': 'Jun_1', 'year 1 - n_activities': 1373.0}, {'x': 'Jul_1', 'year 1 - n_activities': 393.0}, {'x': 'Aug_1', 'year 1 - n_feedback_requests': 1e-08}, {'x': 'Sep_1', 'year 1 - n_feedback_requests': 28.0}, {'x': 'Oct_1', 'year 1 - n_feedback_requests': 191.0}, {'x': 'Nov_1', 'year 1 - n_feedback_requests': 343.0}, {'x': 'Dec_1', 'year 1 - n_feedback_requests': 205.0}, {'x': 'Jan_1', 'year 1 - n_feedback_requests': 292.0}, {'x': 'Feb_1', 'year 1 - n_feedback_requests': 249.0}, {'x': 'Mar_1', 'year 1 - n_feedback_requests': 259.0}, {'x': 'Apr_1', 'year 1 - n_feedback_requests': 211.0}, {'x': 'May_1', 'year 1 - n_feedback_requests': 305.0}, {'x': 'Jun_1', 'year 1 - n_feedback_requests': 113.0}, {'x': 'Jul_1', 'year 1 - n_feedback_requests': 72.0}, {'x': 'Aug_1', 'year 1 - n_feedback_responses': 1e-08}, {'x': 'Sep_1', 'year 1 - n_feedback_responses': 18.0}, {'x': 'Oct_1', 'year 1 - n_feedback_responses': 145.0}, {'x': 'Nov_1', 'year 1 - n_feedback_responses': 244.0}, {'x': 'Dec_1', 'year 1 - n_feedback_responses': 159.0}, {'x': 'Jan_1', 'year 1 - n_feedback_responses': 217.0}, {'x': 'Feb_1', 'year 1 - n_feedback_responses': 134.0}, {'x': 'Mar_1', 'year 1 - n_feedback_responses': 169.0}, {'x': 'Apr_1', 'year 1 - n_feedback_responses': 151.0}, {'x': 'May_1', 'year 1 - n_feedback_responses': 193.0}, {'x': 'Jun_1', 'year 1 - n_feedback_responses': 92.0}, {'x': 'Jul_1', 'year 1 - n_feedback_responses': 30.0}, {'x': 'Aug_1', 'year 1 - n_edits': 208.0}, {'x': 'Sep_1', 'year 1 - n_edits': 674.0}, {'x': 'Oct_1', 'year 1 - n_edits': 4656.0}, {'x': 'Nov_1', 'year 1 - n_edits': 9226.0}, {'x': 'Dec_1', 'year 1 - n_edits': 7567.0}, {'x': 'Jan_1', 'year 1 - n_edits': 9135.0}, {'x': 'Feb_1', 'year 1 - n_edits': 7795.0}, {'x': 'Mar_1', 'year 1 - n_edits': 9862.0}, {'x': 'Apr_1', 'year 1 - n_edits': 8272.0}, {'x': 'May_1', 'year 1 - n_edits': 10266.0}, {'x': 'Jun_1', 'year 1 - n_edits': 5869.0}, {'x': 'Jul_1', 'year 1 - n_edits': 1910.0}, {'x': 'Aug_2', 'year 2 - n_activities': 532.0}, {'x': 'Sep_2', 'year 2 - n_activities': 614.0}, {'x': 'Oct_2', 'year 2 - n_activities': 1189.0}, {'x': 'Nov_2', 'year 2 - n_activities': 1176.0}, {'x': 'Dec_2', 'year 2 - n_activities': 888.0}, {'x': 'Jan_2', 'year 2 - n_activities': 1016.0}, {'x': 'Feb_2', 'year 2 - n_activities': 1091.0}, {'x': 'Mar_2', 'year 2 - n_activities': 1471.0}, {'x': 'Apr_2', 'year 2 - n_activities': 1044.0}, {'x': 'May_2', 'year 2 - n_activities': 963.0}, {'x': 'Jun_2', 'year 2 - n_activities': 898.0}, {'x': 'Jul_2', 'year 2 - n_activities': 168.0}, {'x': 'Aug_2', 'year 2 - n_feedback_requests': 89.0}, {'x': 'Sep_2', 'year 2 - n_feedback_requests': 106.0}, {'x': 'Oct_2', 'year 2 - n_feedback_requests': 195.0}, {'x': 'Nov_2', 'year 2 - n_feedback_requests': 161.0}, {'x': 'Dec_2', 'year 2 - n_feedback_requests': 83.0}, {'x': 'Jan_2', 'year 2 - n_feedback_requests': 96.0}, {'x': 'Feb_2', 'year 2 - n_feedback_requests': 87.0}, {'x': 'Mar_2', 'year 2 - n_feedback_requests': 162.0}, {'x': 'Apr_2', 'year 2 - n_feedback_requests': 125.0}, {'x': 'May_2', 'year 2 - n_feedback_requests': 116.0}, {'x': 'Jun_2', 'year 2 - n_feedback_requests': 53.0}, {'x': 'Jul_2', 'year 2 - n_feedback_requests': 25.0}, {'x': 'Aug_2', 'year 2 - n_feedback_responses': 72.0}, {'x': 'Sep_2', 'year 2 - n_feedback_responses': 73.0}, {'x': 'Oct_2', 'year 2 - n_feedback_responses': 143.0}, {'x': 'Nov_2', 'year 2 - n_feedback_responses': 121.0}, {'x': 'Dec_2', 'year 2 - n_feedback_responses': 57.0}, {'x': 'Jan_2', 'year 2 - n_feedback_responses': 58.0}, {'x': 'Feb_2', 'year 2 - n_feedback_responses': 53.0}, {'x': 'Mar_2', 'year 2 - n_feedback_responses': 92.0}, {'x': 'Apr_2', 'year 2 - n_feedback_responses': 81.0}, {'x': 'May_2', 'year 2 - n_feedback_responses': 67.0}, {'x': 'Jun_2', 'year 2 - n_feedback_responses': 31.0}, {'x': 'Jul_2', 'year 2 - n_feedback_responses': 15.0}, {'x': 'Aug_2', 'year 2 - n_edits': 3206.0}, {'x': 'Sep_2', 'year 2 - n_edits': 4782.0}, {'x': 'Oct_2', 'year 2 - n_edits': 8533.0}, {'x': 'Nov_2', 'year 2 - n_edits': 7901.0}, {'x': 'Dec_2', 'year 2 - n_edits': 5083.0}, {'x': 'Jan_2', 'year 2 - n_edits': 6215.0}, {'x': 'Feb_2', 'year 2 - n_edits': 7181.0}, {'x': 'Mar_2', 'year 2 - n_edits': 7555.0}, {'x': 'Apr_2', 'year 2 - n_edits': 8182.0}, {'x': 'May_2', 'year 2 - n_edits': 7129.0}, {'x': 'Jun_2', 'year 2 - n_edits': 5681.0}, {'x': 'Jul_2', 'year 2 - n_edits': 1934.0}, {'x': 'Aug_3', 'year 3 - n_activities': 585.0}, {'x': 'Sep_3', 'year 3 - n_activities': 436.0}, {'x': 'Oct_3', 'year 3 - n_activities': 766.0}, {'x': 'Nov_3', 'year 3 - n_activities': 1009.0}, {'x': 'Dec_3', 'year 3 - n_activities': 504.0}, {'x': 'Jan_3', 'year 3 - n_activities': 805.0}, {'x': 'Feb_3', 'year 3 - n_activities': 728.0}, {'x': 'Mar_3', 'year 3 - n_activities': 592.0}, {'x': 'Apr_3', 'year 3 - n_activities': 610.0}, {'x': 'May_3', 'year 3 - n_activities': 1635.0}, {'x': 'Jun_3', 'year 3 - n_activities': 2883.0}, {'x': 'Jul_3', 'year 3 - n_activities': 1e-08}, {'x': 'Aug_3', 'year 3 - n_feedback_requests': 51.0}, {'x': 'Sep_3', 'year 3 - n_feedback_requests': 77.0}, {'x': 'Oct_3', 'year 3 - n_feedback_requests': 137.0}, {'x': 'Nov_3', 'year 3 - n_feedback_requests': 89.0}, {'x': 'Dec_3', 'year 3 - n_feedback_requests': 51.0}, {'x': 'Jan_3', 'year 3 - n_feedback_requests': 43.0}, {'x': 'Feb_3', 'year 3 - n_feedback_requests': 45.0}, {'x': 'Mar_3', 'year 3 - n_feedback_requests': 131.0}, {'x': 'Apr_3', 'year 3 - n_feedback_requests': 59.0}, {'x': 'May_3', 'year 3 - n_feedback_requests': 141.0}, {'x': 'Jun_3', 'year 3 - n_feedback_requests': 264.0}, {'x': 'Jul_3', 'year 3 - n_feedback_requests': 1e-08}, {'x': 'Aug_3', 'year 3 - n_feedback_responses': 29.0}, {'x': 'Sep_3', 'year 3 - n_feedback_responses': 40.0}, {'x': 'Oct_3', 'year 3 - n_feedback_responses': 85.0}, {'x': 'Nov_3', 'year 3 - n_feedback_responses': 31.0}, {'x': 'Dec_3', 'year 3 - n_feedback_responses': 5.0}, {'x': 'Jan_3', 'year 3 - n_feedback_responses': 20.0}, {'x': 'Feb_3', 'year 3 - n_feedback_responses': 15.0}, {'x': 'Mar_3', 'year 3 - n_feedback_responses': 6.0}, {'x': 'Apr_3', 'year 3 - n_feedback_responses': 9.0}, {'x': 'May_3', 'year 3 - n_feedback_responses': 17.0}, {'x': 'Jun_3', 'year 3 - n_feedback_responses': 17.0}, {'x': 'Jul_3', 'year 3 - n_feedback_responses': 1e-08}, {'x': 'Aug_3', 'year 3 - n_edits': 5107.0}, {'x': 'Sep_3', 'year 3 - n_edits': 3840.0}, {'x': 'Oct_3', 'year 3 - n_edits': 4667.0}, {'x': 'Nov_3', 'year 3 - n_edits': 7045.0}, {'x': 'Dec_3', 'year 3 - n_edits': 3624.0}, {'x': 'Jan_3', 'year 3 - n_edits': 4169.0}, {'x': 'Feb_3', 'year 3 - n_edits': 2937.0}, {'x': 'Mar_3', 'year 3 - n_edits': 3382.0}, {'x': 'Apr_3', 'year 3 - n_edits': 3617.0}, {'x': 'May_3', 'year 3 - n_edits': 12487.0}, {'x': 'Jun_3', 'year 3 - n_edits': 16508.0}, {'x': 'Jul_3', 'year 3 - n_edits': 1e-08}];params['x_vals'] = ['Aug_1', 'Sep_1', 'Oct_1', 'Nov_1', 'Dec_1', 'Jan_1', 'Feb_1', 'Mar_1', 'Apr_1', 'May_1', 'Jun_1', 'Jul_1', 'Aug_1', 'Sep_1', 'Oct_1', 'Nov_1', 'Dec_1', 'Jan_1', 'Feb_1', 'Mar_1', 'Apr_1', 'May_1', 'Jun_1', 'Jul_1', 'Aug_1', 'Sep_1', 'Oct_1', 'Nov_1', 'Dec_1', 'Jan_1', 'Feb_1', 'Mar_1', 'Apr_1', 'May_1', 'Jun_1', 'Jul_1', 'Aug_1', 'Sep_1', 'Oct_1', 'Nov_1', 'Dec_1', 'Jan_1', 'Feb_1', 'Mar_1', 'Apr_1', 'May_1', 'Jun_1', 'Jul_1', 'Aug_2', 'Sep_2', 'Oct_2', 'Nov_2', 'Dec_2', 'Jan_2', 'Feb_2', 'Mar_2', 'Apr_2', 'May_2', 'Jun_2', 'Jul_2', 'Aug_2', 'Sep_2', 'Oct_2', 'Nov_2', 'Dec_2', 'Jan_2', 'Feb_2', 'Mar_2', 'Apr_2', 'May_2', 'Jun_2', 'Jul_2', 'Aug_2', 'Sep_2', 'Oct_2', 'Nov_2', 'Dec_2', 'Jan_2', 'Feb_2', 'Mar_2', 'Apr_2', 'May_2', 'Jun_2', 'Jul_2', 'Aug_2', 'Sep_2', 'Oct_2', 'Nov_2', 'Dec_2', 'Jan_2', 'Feb_2', 'Mar_2', 'Apr_2', 'May_2', 'Jun_2', 'Jul_2', 'Aug_3', 'Sep_3', 'Oct_3', 'Nov_3', 'Dec_3', 'Jan_3', 'Feb_3', 'Mar_3', 'Apr_3', 'May_3', 'Jun_3', 'Jul_3', 'Aug_3', 'Sep_3', 'Oct_3', 'Nov_3', 'Dec_3', 'Jan_3', 'Feb_3', 'Mar_3', 'Apr_3', 'May_3', 'Jun_3', 'Jul_3', 'Aug_3', 'Sep_3', 'Oct_3', 'Nov_3', 'Dec_3', 'Jan_3', 'Feb_3', 'Mar_3', 'Apr_3', 'May_3', 'Jun_3', 'Jul_3', 'Aug_3', 'Sep_3', 'Oct_3', 'Nov_3', 'Dec_3', 'Jan_3', 'Feb_3', 'Mar_3', 'Apr_3', 'May_3', 'Jun_3', 'Jul_3'];params['stacks'] = 4;params['series'] = {'year 1 - n_activities': 0, 'year 1 - n_feedback_requests': 1, 'year 1 - n_feedback_responses': 1, 'year 1 - n_edits': 1, 'year 2 - n_activities': 0, 'year 2 - n_feedback_requests': 1, 'year 2 - n_feedback_responses': 1, 'year 2 - n_edits': 1, 'year 3 - n_activities': 0, 'year 3 - n_feedback_requests': 1, 'year 3 - n_feedback_responses': 1, 'year 3 - n_edits': 1};params['range_divider'] = [0, 0, 0, 0, 0, 0, 0, 0, 0, 0, 0, 0, 1, 0, 0, 0, 0, 0, 0, 0, 0, 0, 0, 0, 1, 0, 0, 0, 0, 0, 0, 0, 0, 0, 0, 0];params['x_names_map'] = {'Aug_1': 'Aug', 'Sep_1': 'Sep', 'Oct_1': 'Oct', 'Nov_1': 'Nov', 'Dec_1': 'Dec', 'Jan_1': 'Jan', 'Feb_1': 'Feb', 'Mar_1': 'Mar', 'Apr_1': 'Apr', 'May_1': 'May', 'Jun_1': 'Jun', 'Jul_1': 'Jul', 'Aug_2': 'Aug', 'Sep_2': 'Sep', 'Oct_2': 'Oct', 'Nov_2': 'Nov', 'Dec_2': 'Dec', 'Jan_2': 'Jan', 'Feb_2': 'Feb', 'Mar_2': 'Mar', 'Apr_2': 'Apr', 'May_2': 'May', 'Jun_2': 'Jun', 'Jul_2': 'Jul', 'Aug_3': 'Aug', 'Sep_3': 'Sep', 'Oct_3': 'Oct', 'Nov_3': 'Nov', 'Dec_3': 'Dec', 'Jan_3': 'Jan', 'Feb_3': 'Feb', 'Mar_3': 'Mar', 'Apr_3': 'Apr', 'May_3': 'May', 'Jun_3': 'Jun', 'Jul_3': 'Jul'};params['log_scale'] = true;params['legend'] = false;\n",
       "        require(['amchart_core', 'amchart_charts', 'amcharts4/themes/animated', 'amcharts4/themes/frozen'], lineCallback(params,\"chartdiv_e72a28d0-a78b-11ea-b6b3-c0335ee590ee\") , function (err) {\n",
       "            console.log(err);\n",
       "        });\n",
       "        "
      ],
      "text/plain": [
       "<IPython.core.display.Javascript object>"
      ]
     },
     "metadata": {},
     "output_type": "display_data"
    }
   ],
   "source": [
    "chart = am4.LineChart()\n",
    "chart.setTitle(\"Activities, feedback requests, feedback responses\")\n",
    "chart.set_y_label(\"Count\")\n",
    "chart.set_x_label(\"month\")\n",
    "chart.fromDataFrame(df_months, [\"month\",\"activity_school_year\"], [\"n_activities\",\"n_feedback_requests\",\"n_feedback_responses\",\"n_edits\"], \n",
    "                     hue=\"activity_school_year\", hue_prefix=\"year \",\n",
    "                     sorter=['activity_school_year','month_order'],\n",
    "                     separate_series=True, range_divider='activity_school_year',\n",
    "                     show_legend = False, x_axis_names=\"month\", log_scale=True\n",
    "                    )\n",
    "chart.plot()"
   ]
  },
  {
   "cell_type": "code",
   "execution_count": 10,
   "metadata": {},
   "outputs": [
    {
     "data": {
      "application/javascript": [
       "element.append('<div id=\"chartdiv_4db763fd-a50e-11ea-95be-7c5cf8500ef5\" style=\"height: 500px;\"></div>');"
      ],
      "text/plain": [
       "<IPython.core.display.Javascript object>"
      ]
     },
     "metadata": {},
     "output_type": "display_data"
    },
    {
     "data": {
      "application/javascript": [
       "$('#chartdiv_4db763fd-a50e-11ea-95be-7c5cf8500ef5').parent(\"div\").css(\"width\",\"100%\").css(\"overflow-y\",\"hidden\");"
      ],
      "text/plain": [
       "<IPython.core.display.Javascript object>"
      ]
     },
     "metadata": {},
     "output_type": "display_data"
    },
    {
     "data": {
      "application/javascript": [
       "var params = {};params['title'] = \"Total number of activities per month\";params['y_title'] = \"# activities\";params['x_title'] = \"month\";params['is_category'] = 1;params['hues'] = [1, 2, 3];params['data'] = [{'x': '01_1', 'year 1': 1336.0}, {'x': '02_1', 'year 1': 1282.0}, {'x': '03_1', 'year 1': 1250.0}, {'x': '04_1', 'year 1': 1130.0}, {'x': '05_1', 'year 1': 1453.0}, {'x': '06_1', 'year 1': 1373.0}, {'x': '07_1', 'year 1': 393.0}, {'x': '08_1', 'year 1': 71.0}, {'x': '09_1', 'year 1': 173.0}, {'x': '10_1', 'year 1': 657.0}, {'x': '11_1', 'year 1': 1156.0}, {'x': '12_1', 'year 1': 1055.0}, {'x': '01_2', 'year 2': 1016.0}, {'x': '02_2', 'year 2': 1091.0}, {'x': '03_2', 'year 2': 1471.0}, {'x': '04_2', 'year 2': 1044.0}, {'x': '05_2', 'year 2': 963.0}, {'x': '06_2', 'year 2': 898.0}, {'x': '07_2', 'year 2': 168.0}, {'x': '08_2', 'year 2': 532.0}, {'x': '09_2', 'year 2': 614.0}, {'x': '10_2', 'year 2': 1189.0}, {'x': '11_2', 'year 2': 1176.0}, {'x': '12_2', 'year 2': 888.0}, {'x': '01_3', 'year 3': 805.0}, {'x': '02_3', 'year 3': 728.0}, {'x': '03_3', 'year 3': 592.0}, {'x': '04_3', 'year 3': 610.0}, {'x': '05_3', 'year 3': 1635.0}, {'x': '06_3', 'year 3': 2883.0}, {'x': '07_3', 'year 3': 0.0}, {'x': '08_3', 'year 3': 585.0}, {'x': '09_3', 'year 3': 436.0}, {'x': '10_3', 'year 3': 766.0}, {'x': '11_3', 'year 3': 1009.0}, {'x': '12_3', 'year 3': 504.0}];params['x_vals'] = ['01_1', '02_1', '03_1', '04_1', '05_1', '06_1', '07_1', '08_1', '09_1', '10_1', '11_1', '12_1', '01_2', '02_2', '03_2', '04_2', '05_2', '06_2', '07_2', '08_2', '09_2', '10_2', '11_2', '12_2', '01_3', '02_3', '03_3', '04_3', '05_3', '06_3', '07_3', '08_3', '09_3', '10_3', '11_3', '12_3'];params['stacks'] = 1;params['series'] = {'year 1': 0, 'year 2': 0, 'year 3': 0};params['range_divider'] = [0, 0, 0, 0, 0, 0, 0, 0, 0, 0, 0, 0, 1, 0, 0, 0, 0, 0, 0, 0, 0, 0, 0, 0, 1, 0, 0, 0, 0, 0, 0, 0, 0, 0, 0, 0];params['x_names_map'] = {'01_1': '1', '02_1': '2', '03_1': '3', '04_1': '4', '05_1': '5', '06_1': '6', '07_1': '7', '08_1': '8', '09_1': '9', '10_1': '10', '11_1': '11', '12_1': '12', '01_2': '1', '02_2': '2', '03_2': '3', '04_2': '4', '05_2': '5', '06_2': '6', '07_2': '7', '08_2': '8', '09_2': '9', '10_2': '10', '11_2': '11', '12_2': '12', '01_3': '1', '02_3': '2', '03_3': '3', '04_3': '4', '05_3': '5', '06_3': '6', '07_3': '7', '08_3': '8', '09_3': '9', '10_3': '10', '11_3': '11', '12_3': '12'};params['legend'] = true;\n",
       "        require(['amchart_core', 'amchart_charts', 'amcharts4/themes/animated', 'amcharts4/themes/frozen'], lineCallback(params,\"chartdiv_4db763fd-a50e-11ea-95be-7c5cf8500ef5\") , function (err) {\n",
       "            console.log(err);\n",
       "        });\n",
       "        "
      ],
      "text/plain": [
       "<IPython.core.display.Javascript object>"
      ]
     },
     "metadata": {},
     "output_type": "display_data"
    }
   ],
   "source": [
    "chart = am4.LineChart()\n",
    "chart.setTitle(\"Total number of activities per month\")\n",
    "chart.set_y_label(\"# activities\")\n",
    "chart.set_x_label(\"month\")\n",
    "chart.fromDataFrame(df_months, [\"month\",\"activity_school_year\"], \"n_activities\", \n",
    "                     hue=\"activity_school_year\", hue_prefix=\"year \",\n",
    "                     sorter=['activity_school_year','month'],\n",
    "                     range_divider = \"activity_school_year\",\n",
    "                     show_legend = True, x_axis_names=\"month\"\n",
    "                    )\n",
    "chart.plot()"
   ]
  },
  {
   "cell_type": "code",
   "execution_count": 11,
   "metadata": {},
   "outputs": [
    {
     "data": {
      "application/javascript": [
       "element.append('<div id=\"chartdiv_4dbcbb60-a50e-11ea-b44d-7c5cf8500ef5\" style=\"height: 500px;\"></div>');"
      ],
      "text/plain": [
       "<IPython.core.display.Javascript object>"
      ]
     },
     "metadata": {},
     "output_type": "display_data"
    },
    {
     "data": {
      "application/javascript": [
       "$('#chartdiv_4dbcbb60-a50e-11ea-b44d-7c5cf8500ef5').parent(\"div\").css(\"width\",\"100%\").css(\"overflow-y\",\"hidden\");"
      ],
      "text/plain": [
       "<IPython.core.display.Javascript object>"
      ]
     },
     "metadata": {},
     "output_type": "display_data"
    },
    {
     "data": {
      "application/javascript": [
       "var params = {};params['title'] = \"Normalized [bold]average[/] number of activities per users per month\";params['y_title'] = \"average activities\";params['x_title'] = \"month\";params['is_category'] = 1;params['hues'] = [1, 2, 3];params['data'] = [{'x': '01_1', 'year 1': 2.4424131627056673}, {'x': '02_1', 'year 1': 2.343692870201097}, {'x': '03_1', 'year 1': 2.2851919561243146}, {'x': '04_1', 'year 1': 2.0658135283363803}, {'x': '05_1', 'year 1': 2.656307129798903}, {'x': '06_1', 'year 1': 2.510054844606947}, {'x': '07_1', 'year 1': 0.7184643510054844}, {'x': '08_1', 'year 1': 0.12979890310786105}, {'x': '09_1', 'year 1': 0.3162705667276051}, {'x': '10_1', 'year 1': 1.2010968921389398}, {'x': '11_1', 'year 1': 2.113345521023766}, {'x': '12_1', 'year 1': 1.9287020109689215}, {'x': '01_2', 'year 2': 2.738544474393531}, {'x': '02_2', 'year 2': 2.940700808625337}, {'x': '03_2', 'year 2': 3.964959568733154}, {'x': '04_2', 'year 2': 2.8140161725067387}, {'x': '05_2', 'year 2': 2.595687331536388}, {'x': '06_2', 'year 2': 2.420485175202156}, {'x': '07_2', 'year 2': 0.4528301886792453}, {'x': '08_2', 'year 2': 1.4339622641509433}, {'x': '09_2', 'year 2': 1.6549865229110512}, {'x': '10_2', 'year 2': 3.2048517520215634}, {'x': '11_2', 'year 2': 3.169811320754717}, {'x': '12_2', 'year 2': 2.393530997304582}, {'x': '01_3', 'year 3': 3.59375}, {'x': '02_3', 'year 3': 3.25}, {'x': '03_3', 'year 3': 2.642857142857143}, {'x': '04_3', 'year 3': 2.7232142857142856}, {'x': '05_3', 'year 3': 7.299107142857143}, {'x': '06_3', 'year 3': 12.870535714285714}, {'x': '07_3', 'year 3': 0.0}, {'x': '08_3', 'year 3': 2.611607142857143}, {'x': '09_3', 'year 3': 1.9464285714285714}, {'x': '10_3', 'year 3': 3.419642857142857}, {'x': '11_3', 'year 3': 4.504464285714286}, {'x': '12_3', 'year 3': 2.25}];params['x_vals'] = ['01_1', '02_1', '03_1', '04_1', '05_1', '06_1', '07_1', '08_1', '09_1', '10_1', '11_1', '12_1', '01_2', '02_2', '03_2', '04_2', '05_2', '06_2', '07_2', '08_2', '09_2', '10_2', '11_2', '12_2', '01_3', '02_3', '03_3', '04_3', '05_3', '06_3', '07_3', '08_3', '09_3', '10_3', '11_3', '12_3'];params['stacks'] = 1;params['series'] = {'year 1': 0, 'year 2': 0, 'year 3': 0};params['range_divider'] = [0, 0, 0, 0, 0, 0, 0, 0, 0, 0, 0, 0, 1, 0, 0, 0, 0, 0, 0, 0, 0, 0, 0, 0, 1, 0, 0, 0, 0, 0, 0, 0, 0, 0, 0, 0];params['x_names_map'] = {'01_1': '1', '02_1': '2', '03_1': '3', '04_1': '4', '05_1': '5', '06_1': '6', '07_1': '7', '08_1': '8', '09_1': '9', '10_1': '10', '11_1': '11', '12_1': '12', '01_2': '1', '02_2': '2', '03_2': '3', '04_2': '4', '05_2': '5', '06_2': '6', '07_2': '7', '08_2': '8', '09_2': '9', '10_2': '10', '11_2': '11', '12_2': '12', '01_3': '1', '02_3': '2', '03_3': '3', '04_3': '4', '05_3': '5', '06_3': '6', '07_3': '7', '08_3': '8', '09_3': '9', '10_3': '10', '11_3': '11', '12_3': '12'};params['legend'] = true;\n",
       "        require(['amchart_core', 'amchart_charts', 'amcharts4/themes/animated', 'amcharts4/themes/frozen'], lineCallback(params,\"chartdiv_4dbcbb60-a50e-11ea-b44d-7c5cf8500ef5\") , function (err) {\n",
       "            console.log(err);\n",
       "        });\n",
       "        "
      ],
      "text/plain": [
       "<IPython.core.display.Javascript object>"
      ]
     },
     "metadata": {},
     "output_type": "display_data"
    }
   ],
   "source": [
    "chart = am4.LineChart()\n",
    "chart.setTitle(\"Normalized [bold]average[/] number of activities per users per month\")\n",
    "chart.set_y_label(\"average activities\")\n",
    "chart.set_x_label(\"month\")\n",
    "chart.fromDataFrame(df_months,[\"month\",\"activity_school_year\"],\n",
    "                     \"norm_avg_n_activities\", \n",
    "                     hue=\"activity_school_year\", hue_prefix=\"year \",\n",
    "                     sorter=['activity_school_year','month'],\n",
    "                     range_divider = \"activity_school_year\",\n",
    "                     show_legend = True, x_axis_names=\"month\"\n",
    "                    )\n",
    "chart.plot()"
   ]
  },
  {
   "cell_type": "code",
   "execution_count": 12,
   "metadata": {},
   "outputs": [
    {
     "data": {
      "application/javascript": [
       "element.append('<div id=\"chartdiv_4dc2d5bd-a50e-11ea-bd76-7c5cf8500ef5\" style=\"height: 500px;\"></div>');"
      ],
      "text/plain": [
       "<IPython.core.display.Javascript object>"
      ]
     },
     "metadata": {},
     "output_type": "display_data"
    },
    {
     "data": {
      "application/javascript": [
       "$('#chartdiv_4dc2d5bd-a50e-11ea-bd76-7c5cf8500ef5').parent(\"div\").css(\"width\",\"100%\").css(\"overflow-y\",\"hidden\");"
      ],
      "text/plain": [
       "<IPython.core.display.Javascript object>"
      ]
     },
     "metadata": {},
     "output_type": "display_data"
    },
    {
     "data": {
      "application/javascript": [
       "var params = {};params['title'] = \"Average number of [bold]activities[/] per user per month\";params['y_title'] = \"average activities\";params['x_title'] = \"year\";params['hues'] = [1, 2, 3, 4, 5, 6, 7, 8, 9, 10, 11, 12];params['data'] = [{'x': 1, 'month 1 - norm_avg_n_user_recipes': 1.753199268738574, 'month 1 - norm_avg_n_user_experiences': 0.6892138939670932, 'month 2 - norm_avg_n_user_recipes': 1.3619744058500913, 'month 2 - norm_avg_n_user_experiences': 0.9817184643510055, 'month 3 - norm_avg_n_user_recipes': 1.5978062157221207, 'month 3 - norm_avg_n_user_experiences': 0.6873857404021938, 'month 4 - norm_avg_n_user_recipes': 1.1846435100548447, 'month 4 - norm_avg_n_user_experiences': 0.8811700182815356, 'month 5 - norm_avg_n_user_recipes': 1.56672760511883, 'month 5 - norm_avg_n_user_experiences': 1.089579524680073, 'month 6 - norm_avg_n_user_recipes': 0.7148080438756855, 'month 6 - norm_avg_n_user_experiences': 1.7952468007312614, 'month 7 - norm_avg_n_user_recipes': 0.3126142595978062, 'month 7 - norm_avg_n_user_experiences': 0.40585009140767825, 'month 8 - norm_avg_n_user_recipes': 0.05301645338208409, 'month 8 - norm_avg_n_user_experiences': 0.07678244972577697, 'month 9 - norm_avg_n_user_recipes': 0.17550274223034734, 'month 9 - norm_avg_n_user_experiences': 0.14076782449725778, 'month 10 - norm_avg_n_user_recipes': 0.7970749542961609, 'month 10 - norm_avg_n_user_experiences': 0.4040219378427788, 'month 11 - norm_avg_n_user_recipes': 1.563071297989031, 'month 11 - norm_avg_n_user_experiences': 0.5502742230347349, 'month 12 - norm_avg_n_user_recipes': 1.4040219378427787, 'month 12 - norm_avg_n_user_experiences': 0.5246800731261426}, {'x': 2, 'month 1 - norm_avg_n_user_recipes': 0.9568733153638814, 'month 1 - norm_avg_n_user_experiences': 1.7816711590296497, 'month 2 - norm_avg_n_user_recipes': 0.8544474393530997, 'month 2 - norm_avg_n_user_experiences': 2.0862533692722374, 'month 3 - norm_avg_n_user_recipes': 1.4555256064690028, 'month 3 - norm_avg_n_user_experiences': 2.509433962264151, 'month 4 - norm_avg_n_user_recipes': 1.3557951482479784, 'month 4 - norm_avg_n_user_experiences': 1.45822102425876, 'month 5 - norm_avg_n_user_recipes': 1.482479784366577, 'month 5 - norm_avg_n_user_experiences': 1.1132075471698113, 'month 6 - norm_avg_n_user_recipes': 0.9191374663072777, 'month 6 - norm_avg_n_user_experiences': 1.5013477088948788, 'month 7 - norm_avg_n_user_recipes': 0.1752021563342318, 'month 7 - norm_avg_n_user_experiences': 0.2776280323450135, 'month 8 - norm_avg_n_user_recipes': 0.7358490566037735, 'month 8 - norm_avg_n_user_experiences': 0.6981132075471698, 'month 9 - norm_avg_n_user_recipes': 0.816711590296496, 'month 9 - norm_avg_n_user_experiences': 0.8382749326145552, 'month 10 - norm_avg_n_user_recipes': 1.2722371967654986, 'month 10 - norm_avg_n_user_experiences': 1.9326145552560647, 'month 11 - norm_avg_n_user_recipes': 1.417789757412399, 'month 11 - norm_avg_n_user_experiences': 1.752021563342318, 'month 12 - norm_avg_n_user_recipes': 0.9191374663072777, 'month 12 - norm_avg_n_user_experiences': 1.4743935309973046}, {'x': 3, 'month 1 - norm_avg_n_user_recipes': 1.4642857142857142, 'month 1 - norm_avg_n_user_experiences': 2.1294642857142856, 'month 2 - norm_avg_n_user_recipes': 0.5669642857142857, 'month 2 - norm_avg_n_user_experiences': 2.6830357142857144, 'month 3 - norm_avg_n_user_recipes': 0.9151785714285714, 'month 3 - norm_avg_n_user_experiences': 1.7276785714285714, 'month 4 - norm_avg_n_user_recipes': 0.6785714285714286, 'month 4 - norm_avg_n_user_experiences': 2.044642857142857, 'month 5 - norm_avg_n_user_recipes': 3.3794642857142856, 'month 5 - norm_avg_n_user_experiences': 3.919642857142857, 'month 6 - norm_avg_n_user_recipes': 2.4464285714285716, 'month 6 - norm_avg_n_user_experiences': 10.424107142857142, 'month 7 - norm_avg_n_user_recipes': 0.0, 'month 7 - norm_avg_n_user_experiences': 0.0, 'month 8 - norm_avg_n_user_recipes': 0.6785714285714286, 'month 8 - norm_avg_n_user_experiences': 1.9330357142857142, 'month 9 - norm_avg_n_user_recipes': 1.1964285714285714, 'month 9 - norm_avg_n_user_experiences': 0.75, 'month 10 - norm_avg_n_user_recipes': 1.7053571428571428, 'month 10 - norm_avg_n_user_experiences': 1.7142857142857142, 'month 11 - norm_avg_n_user_recipes': 2.4642857142857144, 'month 11 - norm_avg_n_user_experiences': 2.0401785714285716, 'month 12 - norm_avg_n_user_recipes': 0.9866071428571429, 'month 12 - norm_avg_n_user_experiences': 1.2633928571428572}];params['x_vals'] = [1, 2, 3];params['stacks'] = 2;params['series'] = {'month 1 - norm_avg_n_user_recipes': 0, 'month 1 - norm_avg_n_user_experiences': 1, 'month 2 - norm_avg_n_user_recipes': 0, 'month 2 - norm_avg_n_user_experiences': 1, 'month 3 - norm_avg_n_user_recipes': 0, 'month 3 - norm_avg_n_user_experiences': 1, 'month 4 - norm_avg_n_user_recipes': 0, 'month 4 - norm_avg_n_user_experiences': 1, 'month 5 - norm_avg_n_user_recipes': 0, 'month 5 - norm_avg_n_user_experiences': 1, 'month 6 - norm_avg_n_user_recipes': 0, 'month 6 - norm_avg_n_user_experiences': 1, 'month 7 - norm_avg_n_user_recipes': 0, 'month 7 - norm_avg_n_user_experiences': 1, 'month 8 - norm_avg_n_user_recipes': 0, 'month 8 - norm_avg_n_user_experiences': 1, 'month 9 - norm_avg_n_user_recipes': 0, 'month 9 - norm_avg_n_user_experiences': 1, 'month 10 - norm_avg_n_user_recipes': 0, 'month 10 - norm_avg_n_user_experiences': 1, 'month 11 - norm_avg_n_user_recipes': 0, 'month 11 - norm_avg_n_user_experiences': 1, 'month 12 - norm_avg_n_user_recipes': 0, 'month 12 - norm_avg_n_user_experiences': 1};params['x_names_map'] = 0;params['legend'] = false;\n",
       "        require(['amchart_core', 'amchart_charts', 'amcharts4/themes/animated', 'amcharts4/themes/frozen'], columnCallback(params,\"chartdiv_4dc2d5bd-a50e-11ea-bd76-7c5cf8500ef5\") , function (err) {\n",
       "            console.log(err);\n",
       "        });\n",
       "        "
      ],
      "text/plain": [
       "<IPython.core.display.Javascript object>"
      ]
     },
     "metadata": {},
     "output_type": "display_data"
    }
   ],
   "source": [
    "column = am4.ColumnChart()\n",
    "column.setTitle(\"Average number of [bold]activities[/] per user per month\")\n",
    "column.set_y_label(\"average activities\")\n",
    "column.set_x_label(\"year\")\n",
    "column.fromDataFrame(df_months, \"activity_school_year\", \n",
    "                     [\"norm_avg_n_user_recipes\",\"norm_avg_n_user_experiences\"], \n",
    "                     hue=\"month\", hue_prefix=\"month \",\n",
    "                     show_legend = False\n",
    "                    )\n",
    "column.plot()"
   ]
  },
  {
   "cell_type": "markdown",
   "metadata": {},
   "source": [
    "----------\n",
    "\n",
    "### Files"
   ]
  },
  {
   "cell_type": "code",
   "execution_count": 13,
   "metadata": {},
   "outputs": [
    {
     "data": {
      "application/javascript": [
       "element.append('<div id=\"chartdiv_4dca28aa-a50e-11ea-a633-7c5cf8500ef5\" style=\"height: 500px;\"></div>');"
      ],
      "text/plain": [
       "<IPython.core.display.Javascript object>"
      ]
     },
     "metadata": {},
     "output_type": "display_data"
    },
    {
     "data": {
      "application/javascript": [
       "$('#chartdiv_4dca28aa-a50e-11ea-a633-7c5cf8500ef5').parent(\"div\").css(\"width\",\"100%\").css(\"overflow-y\",\"hidden\");"
      ],
      "text/plain": [
       "<IPython.core.display.Javascript object>"
      ]
     },
     "metadata": {},
     "output_type": "display_data"
    },
    {
     "data": {
      "application/javascript": [
       "var params = {};params['title'] = \"[bold]Normalized[/] number of activities's files per month\";params['y_title'] = \"# of files per activity\";params['x_title'] = \"year\";params['hues'] = [1, 2, 3, 4, 5, 6, 7, 8, 9, 10, 11, 12];params['data'] = [{'x': 1, 'month 1 - norm_n_files_recipes': 2.3293413173652695, 'month 1 - norm_n_files_experiences': 0.469311377245509, 'month 2 - norm_n_files_recipes': 2.7410296411856474, 'month 2 - norm_n_files_experiences': 0.39001560062402496, 'month 3 - norm_n_files_recipes': 3.776, 'month 3 - norm_n_files_experiences': 0.4296, 'month 4 - norm_n_files_recipes': 2.924778761061947, 'month 4 - norm_n_files_experiences': 0.38849557522123895, 'month 5 - norm_n_files_recipes': 2.225739848589126, 'month 5 - norm_n_files_experiences': 0.1961459050240881, 'month 6 - norm_n_files_recipes': 0.8827385287691187, 'month 6 - norm_n_files_experiences': 0.34595775673707213, 'month 7 - norm_n_files_recipes': 1.2213740458015268, 'month 7 - norm_n_files_experiences': 0.40966921119592875, 'month 8 - norm_n_files_recipes': 0.6056338028169014, 'month 8 - norm_n_files_experiences': 0.23943661971830985, 'month 9 - norm_n_files_recipes': 1.4335260115606936, 'month 9 - norm_n_files_experiences': 0.6184971098265896, 'month 10 - norm_n_files_recipes': 3.132420091324201, 'month 10 - norm_n_files_experiences': 0.4505327245053272, 'month 11 - norm_n_files_recipes': 2.9455017301038064, 'month 11 - norm_n_files_experiences': 0.4039792387543253, 'month 12 - norm_n_files_recipes': 2.9592417061611376, 'month 12 - norm_n_files_experiences': 0.4720379146919431}, {'x': 2, 'month 1 - norm_n_files_recipes': 1.3070866141732282, 'month 1 - norm_n_files_experiences': 0.3405511811023622, 'month 2 - norm_n_files_recipes': 1.149404216315307, 'month 2 - norm_n_files_experiences': 0.6498625114573785, 'month 3 - norm_n_files_recipes': 1.7314751869476546, 'month 3 - norm_n_files_experiences': 0.3840924541128484, 'month 4 - norm_n_files_recipes': 1.700191570881226, 'month 4 - norm_n_files_experiences': 0.29310344827586204, 'month 5 - norm_n_files_recipes': 1.7466251298026998, 'month 5 - norm_n_files_experiences': 0.30218068535825543, 'month 6 - norm_n_files_recipes': 0.6692650334075724, 'month 6 - norm_n_files_experiences': 0.4955456570155902, 'month 7 - norm_n_files_recipes': 1.9107142857142858, 'month 7 - norm_n_files_experiences': 0.13690476190476192, 'month 8 - norm_n_files_recipes': 2.443609022556391, 'month 8 - norm_n_files_experiences': 0.4793233082706767, 'month 9 - norm_n_files_recipes': 2.1156351791530943, 'month 9 - norm_n_files_experiences': 0.8273615635179153, 'month 10 - norm_n_files_recipes': 1.7998317914213624, 'month 10 - norm_n_files_experiences': 0.5340622371740958, 'month 11 - norm_n_files_recipes': 1.9141156462585034, 'month 11 - norm_n_files_experiences': 0.4931972789115646, 'month 12 - norm_n_files_recipes': 1.4763513513513513, 'month 12 - norm_n_files_experiences': 0.45157657657657657}, {'x': 3, 'month 1 - norm_n_files_recipes': 0.6211180124223602, 'month 1 - norm_n_files_experiences': 0.11925465838509317, 'month 2 - norm_n_files_recipes': 0.385989010989011, 'month 2 - norm_n_files_experiences': 0.10164835164835165, 'month 3 - norm_n_files_recipes': 1.027027027027027, 'month 3 - norm_n_files_experiences': 0.09121621621621621, 'month 4 - norm_n_files_recipes': 1.040983606557377, 'month 4 - norm_n_files_experiences': 0.3655737704918033, 'month 5 - norm_n_files_recipes': 0.44587155963302755, 'month 5 - norm_n_files_experiences': 0.11009174311926606, 'month 6 - norm_n_files_recipes': 0.11481096080471731, 'month 6 - norm_n_files_experiences': 0.08324661810613944, 'month 7 - norm_n_files_recipes': 0.0, 'month 7 - norm_n_files_experiences': 0.0, 'month 8 - norm_n_files_recipes': 0.8376068376068376, 'month 8 - norm_n_files_experiences': 0.28034188034188035, 'month 9 - norm_n_files_recipes': 2.5688073394495414, 'month 9 - norm_n_files_experiences': 0.12614678899082568, 'month 10 - norm_n_files_recipes': 2.0026109660574414, 'month 10 - norm_n_files_experiences': 0.2754569190600522, 'month 11 - norm_n_files_recipes': 1.7145688800792864, 'month 11 - norm_n_files_experiences': 0.1595639246778989, 'month 12 - norm_n_files_recipes': 1.4722222222222223, 'month 12 - norm_n_files_experiences': 0.17063492063492064}];params['x_vals'] = [1, 2, 3];params['stacks'] = 2;params['series'] = {'month 1 - norm_n_files_recipes': 0, 'month 1 - norm_n_files_experiences': 1, 'month 2 - norm_n_files_recipes': 0, 'month 2 - norm_n_files_experiences': 1, 'month 3 - norm_n_files_recipes': 0, 'month 3 - norm_n_files_experiences': 1, 'month 4 - norm_n_files_recipes': 0, 'month 4 - norm_n_files_experiences': 1, 'month 5 - norm_n_files_recipes': 0, 'month 5 - norm_n_files_experiences': 1, 'month 6 - norm_n_files_recipes': 0, 'month 6 - norm_n_files_experiences': 1, 'month 7 - norm_n_files_recipes': 0, 'month 7 - norm_n_files_experiences': 1, 'month 8 - norm_n_files_recipes': 0, 'month 8 - norm_n_files_experiences': 1, 'month 9 - norm_n_files_recipes': 0, 'month 9 - norm_n_files_experiences': 1, 'month 10 - norm_n_files_recipes': 0, 'month 10 - norm_n_files_experiences': 1, 'month 11 - norm_n_files_recipes': 0, 'month 11 - norm_n_files_experiences': 1, 'month 12 - norm_n_files_recipes': 0, 'month 12 - norm_n_files_experiences': 1};params['x_names_map'] = 0;params['legend'] = false;\n",
       "        require(['amchart_core', 'amchart_charts', 'amcharts4/themes/animated', 'amcharts4/themes/frozen'], columnCallback(params,\"chartdiv_4dca28aa-a50e-11ea-a633-7c5cf8500ef5\") , function (err) {\n",
       "            console.log(err);\n",
       "        });\n",
       "        "
      ],
      "text/plain": [
       "<IPython.core.display.Javascript object>"
      ]
     },
     "metadata": {},
     "output_type": "display_data"
    }
   ],
   "source": [
    "# normalize wrt number of activities per month\n",
    "df_months['norm_n_files_recipes'] = df_months['n_files_recipes'].divide(df_months['n_activities'])\n",
    "df_months['norm_n_files_experiences'] = df_months['n_files_experiences'].divide(df_months['n_activities'])\n",
    "\n",
    "column = am4.ColumnChart()\n",
    "column.setTitle(\"[bold]Normalized[/] number of activities's files per month\")\n",
    "column.set_y_label(\"# of files per activity\")\n",
    "column.set_x_label(\"year\")\n",
    "column.fromDataFrame(df_months, \"activity_school_year\", \n",
    "                     ['norm_n_files_recipes','norm_n_files_experiences'], \n",
    "                     hue=\"month\", hue_prefix=\"month \",\n",
    "                     show_legend = False\n",
    "                    )\n",
    "column.plot()"
   ]
  },
  {
   "cell_type": "markdown",
   "metadata": {},
   "source": [
    "And the average grouped by years:"
   ]
  },
  {
   "cell_type": "code",
   "execution_count": 14,
   "metadata": {},
   "outputs": [
    {
     "data": {
      "text/html": [
       "<div>\n",
       "<style scoped>\n",
       "    .dataframe tbody tr th:only-of-type {\n",
       "        vertical-align: middle;\n",
       "    }\n",
       "\n",
       "    .dataframe tbody tr th {\n",
       "        vertical-align: top;\n",
       "    }\n",
       "\n",
       "    .dataframe thead th {\n",
       "        text-align: right;\n",
       "    }\n",
       "</style>\n",
       "<table border=\"1\" class=\"dataframe\">\n",
       "  <thead>\n",
       "    <tr style=\"text-align: right;\">\n",
       "      <th></th>\n",
       "      <th>n_files</th>\n",
       "      <th>avg_n_files</th>\n",
       "      <th>std_n_files</th>\n",
       "    </tr>\n",
       "    <tr>\n",
       "      <th>activity_school_year</th>\n",
       "      <th></th>\n",
       "      <th></th>\n",
       "      <th></th>\n",
       "    </tr>\n",
       "  </thead>\n",
       "  <tbody>\n",
       "    <tr>\n",
       "      <th>1</th>\n",
       "      <td>2738.500000</td>\n",
       "      <td>9.666667</td>\n",
       "      <td>6.282992</td>\n",
       "    </tr>\n",
       "    <tr>\n",
       "      <th>2</th>\n",
       "      <td>1906.083333</td>\n",
       "      <td>10.583333</td>\n",
       "      <td>7.111450</td>\n",
       "    </tr>\n",
       "    <tr>\n",
       "      <th>3</th>\n",
       "      <td>853.666667</td>\n",
       "      <td>9.833333</td>\n",
       "      <td>5.787942</td>\n",
       "    </tr>\n",
       "  </tbody>\n",
       "</table>\n",
       "</div>"
      ],
      "text/plain": [
       "                          n_files  avg_n_files  std_n_files\n",
       "activity_school_year                                       \n",
       "1                     2738.500000     9.666667     6.282992\n",
       "2                     1906.083333    10.583333     7.111450\n",
       "3                      853.666667     9.833333     5.787942"
      ]
     },
     "execution_count": 14,
     "metadata": {},
     "output_type": "execute_result"
    }
   ],
   "source": [
    "df_months[['activity_school_year','n_files','avg_n_files','std_n_files']]\\\n",
    "    .groupby('activity_school_year').mean()"
   ]
  },
  {
   "cell_type": "markdown",
   "metadata": {},
   "source": [
    "### Feedbacks and Curriculum"
   ]
  },
  {
   "cell_type": "code",
   "execution_count": 15,
   "metadata": {},
   "outputs": [
    {
     "data": {
      "application/javascript": [
       "element.append('<div id=\"chartdiv_4dd4fe60-a50e-11ea-86c1-7c5cf8500ef5\" style=\"height: 500px;\"></div>');"
      ],
      "text/plain": [
       "<IPython.core.display.Javascript object>"
      ]
     },
     "metadata": {},
     "output_type": "display_data"
    },
    {
     "data": {
      "application/javascript": [
       "$('#chartdiv_4dd4fe60-a50e-11ea-86c1-7c5cf8500ef5').parent(\"div\").css(\"width\",\"100%\").css(\"overflow-y\",\"hidden\");"
      ],
      "text/plain": [
       "<IPython.core.display.Javascript object>"
      ]
     },
     "metadata": {},
     "output_type": "display_data"
    },
    {
     "data": {
      "application/javascript": [
       "var params = {};params['title'] = \"% of activities with requests for feedback per month\";params['y_title'] = \"% activities with request\";params['x_title'] = \"year\";params['hues'] = [1, 2, 3, 4, 5, 6, 7, 8, 9, 10, 11, 12];params['data'] = [{'x': 1, 'month 1 - perc_total_feedback_requests_recipes': 23.46, 'month 1 - perc_total_feedback_requests_experiences': 17.77, 'month 2 - perc_total_feedback_requests_recipes': 24.3, 'month 2 - perc_total_feedback_requests_experiences': 12.66, 'month 3 - perc_total_feedback_requests_recipes': 21.74, 'month 3 - perc_total_feedback_requests_experiences': 18.35, 'month 4 - perc_total_feedback_requests_recipes': 21.6, 'month 4 - perc_total_feedback_requests_experiences': 14.73, 'month 5 - perc_total_feedback_requests_recipes': 25.67, 'month 5 - perc_total_feedback_requests_experiences': 14.26, 'month 6 - perc_total_feedback_requests_recipes': 11.76, 'month 6 - perc_total_feedback_requests_experiences': 6.82, 'month 7 - perc_total_feedback_requests_recipes': 15.2, 'month 7 - perc_total_feedback_requests_experiences': 20.72, 'month 8 - perc_total_feedback_requests_recipes': 0.0, 'month 8 - perc_total_feedback_requests_experiences': 0.0, 'month 9 - perc_total_feedback_requests_recipes': 25.0, 'month 9 - perc_total_feedback_requests_experiences': 5.19, 'month 10 - perc_total_feedback_requests_recipes': 32.34, 'month 10 - perc_total_feedback_requests_experiences': 22.62, 'month 11 - perc_total_feedback_requests_recipes': 32.05, 'month 11 - perc_total_feedback_requests_experiences': 22.92, 'month 12 - perc_total_feedback_requests_recipes': 20.57, 'month 12 - perc_total_feedback_requests_experiences': 16.38}, {'x': 2, 'month 1 - perc_total_feedback_requests_recipes': 17.46, 'month 1 - perc_total_feedback_requests_experiences': 5.14, 'month 2 - perc_total_feedback_requests_recipes': 11.67, 'month 2 - perc_total_feedback_requests_experiences': 6.46, 'month 3 - perc_total_feedback_requests_recipes': 19.26, 'month 3 - perc_total_feedback_requests_experiences': 6.23, 'month 4 - perc_total_feedback_requests_recipes': 18.69, 'month 4 - perc_total_feedback_requests_experiences': 5.73, 'month 5 - perc_total_feedback_requests_recipes': 12.55, 'month 5 - perc_total_feedback_requests_experiences': 11.38, 'month 6 - perc_total_feedback_requests_recipes': 7.62, 'month 6 - perc_total_feedback_requests_experiences': 4.85, 'month 7 - perc_total_feedback_requests_recipes': 13.85, 'month 7 - perc_total_feedback_requests_experiences': 15.53, 'month 8 - perc_total_feedback_requests_recipes': 19.78, 'month 8 - perc_total_feedback_requests_experiences': 13.51, 'month 9 - perc_total_feedback_requests_recipes': 20.79, 'month 9 - perc_total_feedback_requests_experiences': 13.83, 'month 10 - perc_total_feedback_requests_recipes': 17.58, 'month 10 - perc_total_feedback_requests_experiences': 15.62, 'month 11 - perc_total_feedback_requests_recipes': 17.3, 'month 11 - perc_total_feedback_requests_experiences': 10.77, 'month 12 - perc_total_feedback_requests_recipes': 12.32, 'month 12 - perc_total_feedback_requests_experiences': 7.5}, {'x': 3, 'month 1 - perc_total_feedback_requests_recipes': 7.01, 'month 1 - perc_total_feedback_requests_experiences': 4.19, 'month 2 - perc_total_feedback_requests_recipes': 16.54, 'month 2 - perc_total_feedback_requests_experiences': 3.99, 'month 3 - perc_total_feedback_requests_recipes': 34.63, 'month 3 - perc_total_feedback_requests_experiences': 15.5, 'month 4 - perc_total_feedback_requests_recipes': 15.79, 'month 4 - perc_total_feedback_requests_experiences': 7.64, 'month 5 - perc_total_feedback_requests_recipes': 4.49, 'month 5 - perc_total_feedback_requests_experiences': 12.19, 'month 6 - perc_total_feedback_requests_recipes': 4.2, 'month 6 - perc_total_feedback_requests_experiences': 10.32, 'month 7 - perc_total_feedback_requests_recipes': 0.0, 'month 7 - perc_total_feedback_requests_experiences': 0.0, 'month 8 - perc_total_feedback_requests_recipes': 11.18, 'month 8 - perc_total_feedback_requests_experiences': 7.85, 'month 9 - perc_total_feedback_requests_recipes': 17.91, 'month 9 - perc_total_feedback_requests_experiences': 17.26, 'month 10 - perc_total_feedback_requests_recipes': 13.09, 'month 10 - perc_total_feedback_requests_experiences': 22.66, 'month 11 - perc_total_feedback_requests_recipes': 9.96, 'month 11 - perc_total_feedback_requests_experiences': 7.44, 'month 12 - perc_total_feedback_requests_recipes': 8.14, 'month 12 - perc_total_feedback_requests_experiences': 11.66}];params['x_vals'] = [1, 2, 3];params['stacks'] = 2;params['series'] = {'month 1 - perc_total_feedback_requests_recipes': 0, 'month 1 - perc_total_feedback_requests_experiences': 1, 'month 2 - perc_total_feedback_requests_recipes': 0, 'month 2 - perc_total_feedback_requests_experiences': 1, 'month 3 - perc_total_feedback_requests_recipes': 0, 'month 3 - perc_total_feedback_requests_experiences': 1, 'month 4 - perc_total_feedback_requests_recipes': 0, 'month 4 - perc_total_feedback_requests_experiences': 1, 'month 5 - perc_total_feedback_requests_recipes': 0, 'month 5 - perc_total_feedback_requests_experiences': 1, 'month 6 - perc_total_feedback_requests_recipes': 0, 'month 6 - perc_total_feedback_requests_experiences': 1, 'month 7 - perc_total_feedback_requests_recipes': 0, 'month 7 - perc_total_feedback_requests_experiences': 1, 'month 8 - perc_total_feedback_requests_recipes': 0, 'month 8 - perc_total_feedback_requests_experiences': 1, 'month 9 - perc_total_feedback_requests_recipes': 0, 'month 9 - perc_total_feedback_requests_experiences': 1, 'month 10 - perc_total_feedback_requests_recipes': 0, 'month 10 - perc_total_feedback_requests_experiences': 1, 'month 11 - perc_total_feedback_requests_recipes': 0, 'month 11 - perc_total_feedback_requests_experiences': 1, 'month 12 - perc_total_feedback_requests_recipes': 0, 'month 12 - perc_total_feedback_requests_experiences': 1};params['x_names_map'] = 0;params['legend'] = false;\n",
       "        require(['amchart_core', 'amchart_charts', 'amcharts4/themes/animated', 'amcharts4/themes/frozen'], columnCallback(params,\"chartdiv_4dd4fe60-a50e-11ea-86c1-7c5cf8500ef5\") , function (err) {\n",
       "            console.log(err);\n",
       "        });\n",
       "        "
      ],
      "text/plain": [
       "<IPython.core.display.Javascript object>"
      ]
     },
     "metadata": {},
     "output_type": "display_data"
    }
   ],
   "source": [
    "column = am4.ColumnChart()\n",
    "column.setTitle(\"% of activities with requests for feedback per month\")\n",
    "column.set_y_label(\"% activities with request\")\n",
    "column.set_x_label(\"year\")\n",
    "column.fromDataFrame(df_months, \"activity_school_year\", \n",
    "                     ['perc_total_feedback_requests_recipes','perc_total_feedback_requests_experiences'], \n",
    "                     hue=\"month\", hue_prefix=\"month \",\n",
    "                     show_legend = False\n",
    "                    )\n",
    "column.plot()"
   ]
  },
  {
   "cell_type": "code",
   "execution_count": 16,
   "metadata": {},
   "outputs": [],
   "source": [
    "normalizePer(df_months,'perc_total_feedback_requests_recipes',\n",
    "             'n_feedback_requests','activity_school_year','n_feedback_requests_recipes')\n",
    "normalizePer(df_months,'perc_total_feedback_requests_experiences',\n",
    "             'n_feedback_requests','activity_school_year','n_feedback_requests_experiences')"
   ]
  },
  {
   "cell_type": "code",
   "execution_count": 17,
   "metadata": {
    "scrolled": false
   },
   "outputs": [
    {
     "data": {
      "application/javascript": [
       "element.append('<div id=\"chartdiv_4de9e432-a50e-11ea-aeba-7c5cf8500ef5\" style=\"height: 500px;\"></div>');"
      ],
      "text/plain": [
       "<IPython.core.display.Javascript object>"
      ]
     },
     "metadata": {},
     "output_type": "display_data"
    },
    {
     "data": {
      "application/javascript": [
       "$('#chartdiv_4de9e432-a50e-11ea-aeba-7c5cf8500ef5').parent(\"div\").css(\"width\",\"100%\").css(\"overflow-y\",\"hidden\");"
      ],
      "text/plain": [
       "<IPython.core.display.Javascript object>"
      ]
     },
     "metadata": {},
     "output_type": "display_data"
    },
    {
     "data": {
      "application/javascript": [
       "var params = {};params['title'] = \"% of feedback requests over the school year\";params['y_title'] = \"% activities with request\";params['x_title'] = \"year\";params['hues'] = [1, 2, 3, 4, 5, 6, 7, 8, 9, 10, 11, 12];params['data'] = [{'x': 1, 'month 1 - perc_total_feedback_requests_recipes': 9.920634920634921, 'month 1 - perc_total_feedback_requests_experiences': 2.9541446208112876, 'month 2 - perc_total_feedback_requests_recipes': 7.980599647266314, 'month 2 - perc_total_feedback_requests_experiences': 2.998236331569665, 'month 3 - perc_total_feedback_requests_recipes': 8.37742504409171, 'month 3 - perc_total_feedback_requests_experiences': 3.0423280423280423, 'month 4 - perc_total_feedback_requests_recipes': 6.172839506172839, 'month 4 - perc_total_feedback_requests_experiences': 3.130511463844797, 'month 5 - perc_total_feedback_requests_recipes': 9.700176366843033, 'month 5 - perc_total_feedback_requests_experiences': 3.747795414462081, 'month 6 - perc_total_feedback_requests_recipes': 2.0282186948853616, 'month 6 - perc_total_feedback_requests_experiences': 2.9541446208112876, 'month 7 - perc_total_feedback_requests_recipes': 1.146384479717813, 'month 7 - perc_total_feedback_requests_experiences': 2.0282186948853616, 'month 8 - perc_total_feedback_requests_recipes': 0.0, 'month 8 - perc_total_feedback_requests_experiences': 0.0, 'month 9 - perc_total_feedback_requests_recipes': 1.0582010582010581, 'month 9 - perc_total_feedback_requests_experiences': 0.1763668430335097, 'month 10 - perc_total_feedback_requests_recipes': 6.216931216931217, 'month 10 - perc_total_feedback_requests_experiences': 2.2045855379188715, 'month 11 - perc_total_feedback_requests_recipes': 12.081128747795415, 'month 11 - perc_total_feedback_requests_experiences': 3.0423280423280423, 'month 12 - perc_total_feedback_requests_recipes': 6.966490299823633, 'month 12 - perc_total_feedback_requests_experiences': 2.072310405643739}, {'x': 2, 'month 1 - perc_total_feedback_requests_recipes': 4.776579352850539, 'month 1 - perc_total_feedback_requests_experiences': 2.6194144838212634, 'month 2 - perc_total_feedback_requests_recipes': 2.8505392912172574, 'month 2 - perc_total_feedback_requests_experiences': 3.852080123266564, 'month 3 - perc_total_feedback_requests_recipes': 8.012326656394453, 'month 3 - perc_total_feedback_requests_experiences': 4.468412942989214, 'month 4 - perc_total_feedback_requests_recipes': 7.24191063174114, 'month 4 - perc_total_feedback_requests_experiences': 2.3882896764252695, 'month 5 - perc_total_feedback_requests_recipes': 5.315870570107858, 'month 5 - perc_total_feedback_requests_experiences': 3.62095531587057, 'month 6 - perc_total_feedback_requests_recipes': 2.0030816640986133, 'month 6 - perc_total_feedback_requests_experiences': 2.0801232665639446, 'month 7 - perc_total_feedback_requests_recipes': 0.6933744221879815, 'month 7 - perc_total_feedback_requests_experiences': 1.2326656394453004, 'month 8 - perc_total_feedback_requests_recipes': 4.160246533127889, 'month 8 - perc_total_feedback_requests_experiences': 2.6964560862865947, 'month 9 - perc_total_feedback_requests_recipes': 4.85362095531587, 'month 9 - perc_total_feedback_requests_experiences': 3.312788906009245, 'month 10 - perc_total_feedback_requests_recipes': 6.394453004622496, 'month 10 - perc_total_feedback_requests_experiences': 8.628659476117104, 'month 11 - perc_total_feedback_requests_recipes': 7.010785824345146, 'month 11 - perc_total_feedback_requests_experiences': 5.3929121725731894, 'month 12 - perc_total_feedback_requests_recipes': 3.2357473035439135, 'month 12 - perc_total_feedback_requests_experiences': 3.158705701078582}, {'x': 3, 'month 1 - perc_total_feedback_requests_recipes': 2.113970588235294, 'month 1 - perc_total_feedback_requests_experiences': 1.838235294117647, 'month 2 - perc_total_feedback_requests_recipes': 1.9301470588235292, 'month 2 - perc_total_feedback_requests_experiences': 2.205882352941176, 'month 3 - perc_total_feedback_requests_recipes': 6.525735294117647, 'month 3 - perc_total_feedback_requests_experiences': 5.514705882352941, 'month 4 - perc_total_feedback_requests_recipes': 2.205882352941176, 'month 4 - perc_total_feedback_requests_experiences': 3.2169117647058822, 'month 5 - perc_total_feedback_requests_recipes': 3.1249999999999996, 'month 5 - perc_total_feedback_requests_experiences': 9.834558823529411, 'month 6 - perc_total_feedback_requests_recipes': 2.113970588235294, 'month 6 - perc_total_feedback_requests_experiences': 22.150735294117645, 'month 7 - perc_total_feedback_requests_recipes': 0.0, 'month 7 - perc_total_feedback_requests_experiences': 0.0, 'month 8 - perc_total_feedback_requests_recipes': 1.5624999999999998, 'month 8 - perc_total_feedback_requests_experiences': 3.1249999999999996, 'month 9 - perc_total_feedback_requests_recipes': 4.411764705882352, 'month 9 - perc_total_feedback_requests_experiences': 2.665441176470588, 'month 10 - perc_total_feedback_requests_recipes': 4.595588235294118, 'month 10 - perc_total_feedback_requests_experiences': 7.9963235294117645, 'month 11 - perc_total_feedback_requests_recipes': 5.055147058823529, 'month 11 - perc_total_feedback_requests_experiences': 3.1249999999999996, 'month 12 - perc_total_feedback_requests_recipes': 1.6544117647058822, 'month 12 - perc_total_feedback_requests_experiences': 3.0330882352941173}];params['x_vals'] = [1, 2, 3];params['stacks'] = 2;params['series'] = {'month 1 - perc_total_feedback_requests_recipes': 0, 'month 1 - perc_total_feedback_requests_experiences': 1, 'month 2 - perc_total_feedback_requests_recipes': 0, 'month 2 - perc_total_feedback_requests_experiences': 1, 'month 3 - perc_total_feedback_requests_recipes': 0, 'month 3 - perc_total_feedback_requests_experiences': 1, 'month 4 - perc_total_feedback_requests_recipes': 0, 'month 4 - perc_total_feedback_requests_experiences': 1, 'month 5 - perc_total_feedback_requests_recipes': 0, 'month 5 - perc_total_feedback_requests_experiences': 1, 'month 6 - perc_total_feedback_requests_recipes': 0, 'month 6 - perc_total_feedback_requests_experiences': 1, 'month 7 - perc_total_feedback_requests_recipes': 0, 'month 7 - perc_total_feedback_requests_experiences': 1, 'month 8 - perc_total_feedback_requests_recipes': 0, 'month 8 - perc_total_feedback_requests_experiences': 1, 'month 9 - perc_total_feedback_requests_recipes': 0, 'month 9 - perc_total_feedback_requests_experiences': 1, 'month 10 - perc_total_feedback_requests_recipes': 0, 'month 10 - perc_total_feedback_requests_experiences': 1, 'month 11 - perc_total_feedback_requests_recipes': 0, 'month 11 - perc_total_feedback_requests_experiences': 1, 'month 12 - perc_total_feedback_requests_recipes': 0, 'month 12 - perc_total_feedback_requests_experiences': 1};params['x_names_map'] = 0;params['legend'] = false;\n",
       "        require(['amchart_core', 'amchart_charts', 'amcharts4/themes/animated', 'amcharts4/themes/frozen'], columnCallback(params,\"chartdiv_4de9e432-a50e-11ea-aeba-7c5cf8500ef5\") , function (err) {\n",
       "            console.log(err);\n",
       "        });\n",
       "        "
      ],
      "text/plain": [
       "<IPython.core.display.Javascript object>"
      ]
     },
     "metadata": {},
     "output_type": "display_data"
    }
   ],
   "source": [
    "column = am4.ColumnChart()\n",
    "column.setTitle(\"% of feedback requests over the school year\")\n",
    "column.set_y_label(\"% activities with request\")\n",
    "column.set_x_label(\"year\")\n",
    "column.fromDataFrame(df_months, \"activity_school_year\", \n",
    "                     ['perc_total_feedback_requests_recipes','perc_total_feedback_requests_experiences'], \n",
    "                     hue=\"month\", hue_prefix=\"month \",\n",
    "                     show_legend = False\n",
    "                    )\n",
    "column.plot()"
   ]
  },
  {
   "cell_type": "markdown",
   "metadata": {},
   "source": [
    "TODO: try with request date"
   ]
  },
  {
   "cell_type": "code",
   "execution_count": 18,
   "metadata": {},
   "outputs": [
    {
     "data": {
      "application/javascript": [
       "element.append('<div id=\"chartdiv_4df02745-a50e-11ea-ab41-7c5cf8500ef5\" style=\"height: 500px;\"></div>');"
      ],
      "text/plain": [
       "<IPython.core.display.Javascript object>"
      ]
     },
     "metadata": {},
     "output_type": "display_data"
    },
    {
     "data": {
      "application/javascript": [
       "$('#chartdiv_4df02745-a50e-11ea-ab41-7c5cf8500ef5').parent(\"div\").css(\"width\",\"100%\").css(\"overflow-y\",\"hidden\");"
      ],
      "text/plain": [
       "<IPython.core.display.Javascript object>"
      ]
     },
     "metadata": {},
     "output_type": "display_data"
    },
    {
     "data": {
      "application/javascript": [
       "var params = {};params['title'] = \"% of activities in curriculum per month\";params['y_title'] = \"% activities in curriculum\";params['x_title'] = \"year\";params['hues'] = [1, 2, 3, 4, 5, 6, 7, 8, 9, 10, 11, 12];params['data'] = [{'x': 1, 'month 1': 68.79, 'month 2': 52.81, 'month 3': 73.92, 'month 4': 58.94, 'month 5': 60.77, 'month 6': 24.84, 'month 7': 35.62, 'month 8': 39.44, 'month 9': 30.06, 'month 10': 69.25, 'month 11': 74.39, 'month 12': 67.11}, {'x': 2, 'month 1': 30.81, 'month 2': 26.12, 'month 3': 34.87, 'month 4': 45.31, 'month 5': 48.29, 'month 6': 33.52, 'month 7': 31.55, 'month 8': 43.61, 'month 9': 43.32, 'month 10': 43.82, 'month 11': 42.69, 'month 12': 39.19}, {'x': 3, 'month 1': 29.81, 'month 2': 9.62, 'month 3': 29.39, 'month 4': 17.21, 'month 5': 28.56, 'month 6': 10.06, 'month 7': 0.0, 'month 8': 15.38, 'month 9': 44.04, 'month 10': 31.46, 'month 11': 35.48, 'month 12': 25.79}];params['x_vals'] = [1, 2, 3];params['stacks'] = 1;params['series'] = {'month 1': 0, 'month 2': 0, 'month 3': 0, 'month 4': 0, 'month 5': 0, 'month 6': 0, 'month 7': 0, 'month 8': 0, 'month 9': 0, 'month 10': 0, 'month 11': 0, 'month 12': 0};params['x_names_map'] = 0;params['legend'] = false;\n",
       "        require(['amchart_core', 'amchart_charts', 'amcharts4/themes/animated', 'amcharts4/themes/frozen'], columnCallback(params,\"chartdiv_4df02745-a50e-11ea-ab41-7c5cf8500ef5\") , function (err) {\n",
       "            console.log(err);\n",
       "        });\n",
       "        "
      ],
      "text/plain": [
       "<IPython.core.display.Javascript object>"
      ]
     },
     "metadata": {},
     "output_type": "display_data"
    }
   ],
   "source": [
    "column = am4.ColumnChart()\n",
    "column.setTitle(\"% of activities in curriculum per month\")\n",
    "column.set_y_label(\"% activities in curriculum\")\n",
    "column.set_x_label(\"year\")\n",
    "column.fromDataFrame(df_months, \"activity_school_year\", \n",
    "                     ['perc_recipes_in_curriculum'], \n",
    "                     hue=\"month\", hue_prefix=\"month \",\n",
    "                     show_legend = False\n",
    "                    )\n",
    "column.plot()"
   ]
  },
  {
   "cell_type": "markdown",
   "metadata": {},
   "source": [
    "TODO: CONTROLLARE BENE LA QUERY n_activities per via del \"final\".\n",
    "TODO: vedere se moltiplicare i due"
   ]
  },
  {
   "cell_type": "code",
   "execution_count": 19,
   "metadata": {},
   "outputs": [],
   "source": [
    "normalizePer(df_months,'norm_perc_recipes_in_curriculum',\n",
    "             'n_activities','activity_school_year','n_in_curriculum_recipes')\n",
    "normalizePer(df_months,'norm_perc_experiences_in_curriculum',\n",
    "             'n_activities','activity_school_year','n_in_curriculum_experiences')"
   ]
  },
  {
   "cell_type": "code",
   "execution_count": 20,
   "metadata": {},
   "outputs": [
    {
     "data": {
      "application/javascript": [
       "element.append('<div id=\"chartdiv_4dfed13e-a50e-11ea-850f-7c5cf8500ef5\" style=\"height: 500px;\"></div>');"
      ],
      "text/plain": [
       "<IPython.core.display.Javascript object>"
      ]
     },
     "metadata": {},
     "output_type": "display_data"
    },
    {
     "data": {
      "application/javascript": [
       "$('#chartdiv_4dfed13e-a50e-11ea-850f-7c5cf8500ef5').parent(\"div\").css(\"width\",\"100%\").css(\"overflow-y\",\"hidden\");"
      ],
      "text/plain": [
       "<IPython.core.display.Javascript object>"
      ]
     },
     "metadata": {},
     "output_type": "display_data"
    },
    {
     "data": {
      "application/javascript": [
       "var params = {};params['title'] = \"[bold]Normalized[/] % of activities in curriculum per month\";params['y_title'] = \"% activities in curriculum\";params['x_title'] = \"year\";params['hues'] = [1, 2, 3, 4, 5, 6, 7, 8, 9, 10, 11, 12];params['data'] = [{'x': 1, 'month 1 - norm_perc_recipes_in_curriculum': 8.111925147850648, 'month 1 - norm_perc_experiences_in_curriculum': 2.912878453526348, 'month 2 - norm_perc_recipes_in_curriculum': 5.975814281931326, 'month 2 - norm_perc_experiences_in_curriculum': 4.122164356960014, 'month 3 - norm_perc_recipes_in_curriculum': 8.156059669873775, 'month 3 - norm_perc_experiences_in_curriculum': 3.089416541618854, 'month 4 - norm_perc_recipes_in_curriculum': 5.878718333480448, 'month 4 - norm_perc_experiences_in_curriculum': 3.9809338864860093, 'month 5 - norm_perc_recipes_in_curriculum': 7.794156589284138, 'month 5 - norm_perc_experiences_in_curriculum': 4.854797422543913, 'month 6 - norm_perc_recipes_in_curriculum': 3.0099744019772263, 'month 6 - norm_perc_experiences_in_curriculum': 8.31494394915703, 'month 7 - norm_perc_recipes_in_curriculum': 1.2357666166475416, 'month 7 - norm_perc_experiences_in_curriculum': 1.7918615941389353, 'month 8 - norm_perc_recipes_in_curriculum': 0.24715332332950832, 'month 8 - norm_perc_experiences_in_curriculum': 0.326595462971136, 'month 9 - norm_perc_recipes_in_curriculum': 0.4589990290405155, 'month 9 - norm_perc_experiences_in_curriculum': 0.6267102127283961, 'month 10 - norm_perc_recipes_in_curriculum': 4.01624150410451, 'month 10 - norm_perc_experiences_in_curriculum': 1.7124194544973077, 'month 11 - norm_perc_recipes_in_curriculum': 7.591137787977756, 'month 11 - norm_perc_experiences_in_curriculum': 2.1184570571100716, 'month 12 - norm_perc_recipes_in_curriculum': 6.249448318474711, 'month 12 - norm_perc_experiences_in_curriculum': 2.2243799099655748}, {'x': 2, 'month 1 - norm_perc_recipes_in_curriculum': 2.832579185520362, 'month 1 - norm_perc_experiences_in_curriculum': 5.746606334841629, 'month 2 - norm_perc_recipes_in_curriculum': 2.579185520361991, 'month 2 - norm_perc_experiences_in_curriculum': 6.65158371040724, 'month 3 - norm_perc_recipes_in_curriculum': 4.642533936651584, 'month 3 - norm_perc_experiences_in_curriculum': 8.380090497737557, 'month 4 - norm_perc_recipes_in_curriculum': 4.280542986425339, 'month 4 - norm_perc_experiences_in_curriculum': 4.733031674208145, 'month 5 - norm_perc_recipes_in_curriculum': 4.208144796380091, 'month 5 - norm_perc_experiences_in_curriculum': 3.728506787330317, 'month 6 - norm_perc_recipes_in_curriculum': 2.723981900452489, 'month 6 - norm_perc_experiences_in_curriculum': 4.4343891402714934, 'month 7 - norm_perc_recipes_in_curriculum': 0.4796380090497738, 'month 7 - norm_perc_experiences_in_curriculum': 0.8687782805429864, 'month 8 - norm_perc_recipes_in_curriculum': 2.0995475113122173, 'month 8 - norm_perc_experiences_in_curriculum': 2.226244343891403, 'month 9 - norm_perc_recipes_in_curriculum': 2.4072398190045248, 'month 9 - norm_perc_experiences_in_curriculum': 2.723981900452489, 'month 10 - norm_perc_recipes_in_curriculum': 4.714932126696833, 'month 10 - norm_perc_experiences_in_curriculum': 5.1855203619909505, 'month 11 - norm_perc_recipes_in_curriculum': 4.542986425339366, 'month 11 - norm_perc_experiences_in_curriculum': 5.782805429864253, 'month 12 - norm_perc_recipes_in_curriculum': 3.1493212669683257, 'month 12 - norm_perc_experiences_in_curriculum': 4.8054298642533935}, {'x': 3, 'month 1 - norm_perc_recipes_in_curriculum': 2.2742348147446223, 'month 1 - norm_perc_experiences_in_curriculum': 4.188382450488013, 'month 2 - norm_perc_recipes_in_curriculum': 0.6633184876338482, 'month 2 - norm_perc_experiences_in_curriculum': 5.135980289964939, 'month 3 - norm_perc_recipes_in_curriculum': 1.6488202406898511, 'month 3 - norm_perc_experiences_in_curriculum': 2.8427935184307778, 'month 4 - norm_perc_recipes_in_curriculum': 0.9949777314507723, 'month 4 - norm_perc_experiences_in_curriculum': 3.97043494740832, 'month 5 - norm_perc_recipes_in_curriculum': 4.425281910357245, 'month 5 - norm_perc_experiences_in_curriculum': 7.789254240500331, 'month 6 - norm_perc_recipes_in_curriculum': 2.7480337344830854, 'month 6 - norm_perc_experiences_in_curriculum': 21.084051928361603, 'month 7 - norm_perc_recipes_in_curriculum': 0.0, 'month 7 - norm_perc_experiences_in_curriculum': 0.0, 'month 8 - norm_perc_recipes_in_curriculum': 0.8528380555292334, 'month 8 - norm_perc_experiences_in_curriculum': 4.036766796171705, 'month 9 - norm_perc_recipes_in_curriculum': 1.8193878517956978, 'month 9 - norm_perc_experiences_in_curriculum': 1.5256325215578508, 'month 10 - norm_perc_recipes_in_curriculum': 2.2837107931393916, 'month 10 - norm_perc_experiences_in_curriculum': 3.363972330143087, 'month 11 - norm_perc_recipes_in_curriculum': 3.392400265327395, 'month 11 - norm_perc_experiences_in_curriculum': 3.9609589690135505, 'month 12 - norm_perc_recipes_in_curriculum': 1.2318771913200037, 'month 12 - norm_perc_experiences_in_curriculum': 2.3974225338766226}];params['x_vals'] = [1, 2, 3];params['stacks'] = 2;params['series'] = {'month 1 - norm_perc_recipes_in_curriculum': 0, 'month 1 - norm_perc_experiences_in_curriculum': 1, 'month 2 - norm_perc_recipes_in_curriculum': 0, 'month 2 - norm_perc_experiences_in_curriculum': 1, 'month 3 - norm_perc_recipes_in_curriculum': 0, 'month 3 - norm_perc_experiences_in_curriculum': 1, 'month 4 - norm_perc_recipes_in_curriculum': 0, 'month 4 - norm_perc_experiences_in_curriculum': 1, 'month 5 - norm_perc_recipes_in_curriculum': 0, 'month 5 - norm_perc_experiences_in_curriculum': 1, 'month 6 - norm_perc_recipes_in_curriculum': 0, 'month 6 - norm_perc_experiences_in_curriculum': 1, 'month 7 - norm_perc_recipes_in_curriculum': 0, 'month 7 - norm_perc_experiences_in_curriculum': 1, 'month 8 - norm_perc_recipes_in_curriculum': 0, 'month 8 - norm_perc_experiences_in_curriculum': 1, 'month 9 - norm_perc_recipes_in_curriculum': 0, 'month 9 - norm_perc_experiences_in_curriculum': 1, 'month 10 - norm_perc_recipes_in_curriculum': 0, 'month 10 - norm_perc_experiences_in_curriculum': 1, 'month 11 - norm_perc_recipes_in_curriculum': 0, 'month 11 - norm_perc_experiences_in_curriculum': 1, 'month 12 - norm_perc_recipes_in_curriculum': 0, 'month 12 - norm_perc_experiences_in_curriculum': 1};params['x_names_map'] = 0;params['legend'] = false;\n",
       "        require(['amchart_core', 'amchart_charts', 'amcharts4/themes/animated', 'amcharts4/themes/frozen'], columnCallback(params,\"chartdiv_4dfed13e-a50e-11ea-850f-7c5cf8500ef5\") , function (err) {\n",
       "            console.log(err);\n",
       "        });\n",
       "        "
      ],
      "text/plain": [
       "<IPython.core.display.Javascript object>"
      ]
     },
     "metadata": {},
     "output_type": "display_data"
    }
   ],
   "source": [
    "column = am4.ColumnChart()\n",
    "column.setTitle(\"[bold]Normalized[/] % of activities in curriculum per month\")\n",
    "\n",
    "column.set_y_label(\"% activities in curriculum\")\n",
    "column.set_x_label(\"year\")\n",
    "column.fromDataFrame(df_months, \"activity_school_year\", \n",
    "                     ['norm_perc_recipes_in_curriculum','norm_perc_experiences_in_curriculum'], \n",
    "                     hue=\"month\", hue_prefix=\"month \",\n",
    "                     show_legend = False\n",
    "                    )\n",
    "column.plot()"
   ]
  },
  {
   "cell_type": "markdown",
   "metadata": {},
   "source": [
    "### Lengths\n",
    "(total length: description + steps + observations)"
   ]
  },
  {
   "cell_type": "code",
   "execution_count": 21,
   "metadata": {},
   "outputs": [
    {
     "data": {
      "application/javascript": [
       "element.append('<div id=\"chartdiv_4e044f77-a50e-11ea-b66a-7c5cf8500ef5\" style=\"height: 500px;\"></div>');"
      ],
      "text/plain": [
       "<IPython.core.display.Javascript object>"
      ]
     },
     "metadata": {},
     "output_type": "display_data"
    },
    {
     "data": {
      "application/javascript": [
       "$('#chartdiv_4e044f77-a50e-11ea-b66a-7c5cf8500ef5').parent(\"div\").css(\"width\",\"100%\").css(\"overflow-y\",\"hidden\");"
      ],
      "text/plain": [
       "<IPython.core.display.Javascript object>"
      ]
     },
     "metadata": {},
     "output_type": "display_data"
    },
    {
     "data": {
      "application/javascript": [
       "var params = {};params['title'] = \"Activity total length per month\";params['y_title'] = \"Total lenght average\";params['x_title'] = \"year\";params['hues'] = [1, 2, 3, 4, 5, 6, 7, 8, 9, 10, 11, 12];params['data'] = [{'x': 1, 'month 1': 125.0, 'month 2': 132.0, 'month 3': 134.0, 'month 4': 145.0, 'month 5': 122.0, 'month 6': 134.0, 'month 7': 220.0, 'month 8': 103.0, 'month 9': 120.0, 'month 10': 128.0, 'month 11': 128.0, 'month 12': 125.0}, {'x': 2, 'month 1': 152.0, 'month 2': 154.0, 'month 3': 146.0, 'month 4': 164.0, 'month 5': 153.0, 'month 6': 140.0, 'month 7': 143.0, 'month 8': 128.0, 'month 9': 146.0, 'month 10': 172.0, 'month 11': 155.0, 'month 12': 177.0}, {'x': 3, 'month 1': 146.0, 'month 2': 193.0, 'month 3': 175.0, 'month 4': 215.0, 'month 5': 163.0, 'month 6': 172.0, 'month 7': 0.0, 'month 8': 169.0, 'month 9': 157.0, 'month 10': 153.0, 'month 11': 157.0, 'month 12': 138.0}];params['x_vals'] = [1, 2, 3];params['stacks'] = 1;params['series'] = {'month 1': 0, 'month 2': 0, 'month 3': 0, 'month 4': 0, 'month 5': 0, 'month 6': 0, 'month 7': 0, 'month 8': 0, 'month 9': 0, 'month 10': 0, 'month 11': 0, 'month 12': 0};params['x_names_map'] = 0;params['legend'] = false;\n",
       "        require(['amchart_core', 'amchart_charts', 'amcharts4/themes/animated', 'amcharts4/themes/frozen'], columnCallback(params,\"chartdiv_4e044f77-a50e-11ea-b66a-7c5cf8500ef5\") , function (err) {\n",
       "            console.log(err);\n",
       "        });\n",
       "        "
      ],
      "text/plain": [
       "<IPython.core.display.Javascript object>"
      ]
     },
     "metadata": {},
     "output_type": "display_data"
    }
   ],
   "source": [
    "column = am4.ColumnChart()\n",
    "column.setTitle(\"Activity total length per month\")\n",
    "column.set_y_label(\"Total lenght average\")\n",
    "column.set_x_label(\"year\")\n",
    "column.fromDataFrame(df_months, \"activity_school_year\", \n",
    "                     ['avg_activity_total_length'],\n",
    "                     hue=\"month\", hue_prefix=\"month \",\n",
    "                     show_legend = False\n",
    "                    )\n",
    "column.plot()"
   ]
  },
  {
   "cell_type": "code",
   "execution_count": 22,
   "metadata": {},
   "outputs": [
    {
     "data": {
      "application/javascript": [
       "element.append('<div id=\"chartdiv_4e09a2bf-a50e-11ea-a2e9-7c5cf8500ef5\" style=\"height: 500px;\"></div>');"
      ],
      "text/plain": [
       "<IPython.core.display.Javascript object>"
      ]
     },
     "metadata": {},
     "output_type": "display_data"
    },
    {
     "data": {
      "application/javascript": [
       "$('#chartdiv_4e09a2bf-a50e-11ea-a2e9-7c5cf8500ef5').parent(\"div\").css(\"width\",\"100%\").css(\"overflow-y\",\"hidden\");"
      ],
      "text/plain": [
       "<IPython.core.display.Javascript object>"
      ]
     },
     "metadata": {},
     "output_type": "display_data"
    },
    {
     "data": {
      "application/javascript": [
       "var params = {};params['title'] = \"Activity total length per month\";params['y_title'] = \"Total lenght average\";params['x_title'] = \"year\";params['hues'] = [1, 2, 3, 4, 5, 6, 7, 8, 9, 10, 11, 12];params['data'] = [{'x': 1, 'month 1 - avg_len_descriptions': 10.0, 'month 1 - avg_len_steps': 106.0, 'month 1 - avg_len_observations': 9.0, 'month 2 - avg_len_descriptions': 8.0, 'month 2 - avg_len_steps': 116.0, 'month 2 - avg_len_observations': 9.0, 'month 3 - avg_len_descriptions': 9.0, 'month 3 - avg_len_steps': 118.0, 'month 3 - avg_len_observations': 10.0, 'month 4 - avg_len_descriptions': 10.0, 'month 4 - avg_len_steps': 127.0, 'month 4 - avg_len_observations': 13.0, 'month 5 - avg_len_descriptions': 9.0, 'month 5 - avg_len_steps': 105.0, 'month 5 - avg_len_observations': 7.0, 'month 6 - avg_len_descriptions': 11.0, 'month 6 - avg_len_steps': 118.0, 'month 6 - avg_len_observations': 7.0, 'month 7 - avg_len_descriptions': 13.0, 'month 7 - avg_len_steps': 193.0, 'month 7 - avg_len_observations': 14.0, 'month 8 - avg_len_descriptions': 5.0, 'month 8 - avg_len_steps': 92.0, 'month 8 - avg_len_observations': 10.0, 'month 9 - avg_len_descriptions': 7.0, 'month 9 - avg_len_steps': 106.0, 'month 9 - avg_len_observations': 11.0, 'month 10 - avg_len_descriptions': 9.0, 'month 10 - avg_len_steps': 111.0, 'month 10 - avg_len_observations': 10.0, 'month 11 - avg_len_descriptions': 9.0, 'month 11 - avg_len_steps': 109.0, 'month 11 - avg_len_observations': 11.0, 'month 12 - avg_len_descriptions': 8.0, 'month 12 - avg_len_steps': 108.0, 'month 12 - avg_len_observations': 9.0}, {'x': 2, 'month 1 - avg_len_descriptions': 9.0, 'month 1 - avg_len_steps': 134.0, 'month 1 - avg_len_observations': 5.0, 'month 2 - avg_len_descriptions': 6.0, 'month 2 - avg_len_steps': 142.0, 'month 2 - avg_len_observations': 5.0, 'month 3 - avg_len_descriptions': 6.0, 'month 3 - avg_len_steps': 134.0, 'month 3 - avg_len_observations': 5.0, 'month 4 - avg_len_descriptions': 8.0, 'month 4 - avg_len_steps': 148.0, 'month 4 - avg_len_observations': 11.0, 'month 5 - avg_len_descriptions': 11.0, 'month 5 - avg_len_steps': 132.0, 'month 5 - avg_len_observations': 9.0, 'month 6 - avg_len_descriptions': 5.0, 'month 6 - avg_len_steps': 129.0, 'month 6 - avg_len_observations': 8.0, 'month 7 - avg_len_descriptions': 6.0, 'month 7 - avg_len_steps': 130.0, 'month 7 - avg_len_observations': 10.0, 'month 8 - avg_len_descriptions': 7.0, 'month 8 - avg_len_steps': 113.0, 'month 8 - avg_len_observations': 5.0, 'month 9 - avg_len_descriptions': 13.0, 'month 9 - avg_len_steps': 123.0, 'month 9 - avg_len_observations': 9.0, 'month 10 - avg_len_descriptions': 11.0, 'month 10 - avg_len_steps': 151.0, 'month 10 - avg_len_observations': 9.0, 'month 11 - avg_len_descriptions': 10.0, 'month 11 - avg_len_steps': 138.0, 'month 11 - avg_len_observations': 8.0, 'month 12 - avg_len_descriptions': 12.0, 'month 12 - avg_len_steps': 152.0, 'month 12 - avg_len_observations': 9.0}, {'x': 3, 'month 1 - avg_len_descriptions': 6.0, 'month 1 - avg_len_steps': 133.0, 'month 1 - avg_len_observations': 3.0, 'month 2 - avg_len_descriptions': 12.0, 'month 2 - avg_len_steps': 169.0, 'month 2 - avg_len_observations': 6.0, 'month 3 - avg_len_descriptions': 11.0, 'month 3 - avg_len_steps': 153.0, 'month 3 - avg_len_observations': 7.0, 'month 4 - avg_len_descriptions': 13.0, 'month 4 - avg_len_steps': 189.0, 'month 4 - avg_len_observations': 11.0, 'month 5 - avg_len_descriptions': 7.0, 'month 5 - avg_len_steps': 149.0, 'month 5 - avg_len_observations': 3.0, 'month 6 - avg_len_descriptions': 9.0, 'month 6 - avg_len_steps': 156.0, 'month 6 - avg_len_observations': 5.0, 'month 7 - avg_len_descriptions': 0.0, 'month 7 - avg_len_steps': 0.0, 'month 7 - avg_len_observations': 0.0, 'month 8 - avg_len_descriptions': 8.0, 'month 8 - avg_len_steps': 153.0, 'month 8 - avg_len_observations': 6.0, 'month 9 - avg_len_descriptions': 8.0, 'month 9 - avg_len_steps': 142.0, 'month 9 - avg_len_observations': 9.0, 'month 10 - avg_len_descriptions': 9.0, 'month 10 - avg_len_steps': 136.0, 'month 10 - avg_len_observations': 10.0, 'month 11 - avg_len_descriptions': 8.0, 'month 11 - avg_len_steps': 142.0, 'month 11 - avg_len_observations': 7.0, 'month 12 - avg_len_descriptions': 6.0, 'month 12 - avg_len_steps': 126.0, 'month 12 - avg_len_observations': 3.0}];params['x_vals'] = [1, 2, 3];params['stacks'] = 3;params['series'] = {'month 1 - avg_len_descriptions': 0, 'month 1 - avg_len_steps': 1, 'month 1 - avg_len_observations': 1, 'month 2 - avg_len_descriptions': 0, 'month 2 - avg_len_steps': 1, 'month 2 - avg_len_observations': 1, 'month 3 - avg_len_descriptions': 0, 'month 3 - avg_len_steps': 1, 'month 3 - avg_len_observations': 1, 'month 4 - avg_len_descriptions': 0, 'month 4 - avg_len_steps': 1, 'month 4 - avg_len_observations': 1, 'month 5 - avg_len_descriptions': 0, 'month 5 - avg_len_steps': 1, 'month 5 - avg_len_observations': 1, 'month 6 - avg_len_descriptions': 0, 'month 6 - avg_len_steps': 1, 'month 6 - avg_len_observations': 1, 'month 7 - avg_len_descriptions': 0, 'month 7 - avg_len_steps': 1, 'month 7 - avg_len_observations': 1, 'month 8 - avg_len_descriptions': 0, 'month 8 - avg_len_steps': 1, 'month 8 - avg_len_observations': 1, 'month 9 - avg_len_descriptions': 0, 'month 9 - avg_len_steps': 1, 'month 9 - avg_len_observations': 1, 'month 10 - avg_len_descriptions': 0, 'month 10 - avg_len_steps': 1, 'month 10 - avg_len_observations': 1, 'month 11 - avg_len_descriptions': 0, 'month 11 - avg_len_steps': 1, 'month 11 - avg_len_observations': 1, 'month 12 - avg_len_descriptions': 0, 'month 12 - avg_len_steps': 1, 'month 12 - avg_len_observations': 1};params['x_names_map'] = 0;params['legend'] = false;\n",
       "        require(['amchart_core', 'amchart_charts', 'amcharts4/themes/animated', 'amcharts4/themes/frozen'], columnCallback(params,\"chartdiv_4e09a2bf-a50e-11ea-a2e9-7c5cf8500ef5\") , function (err) {\n",
       "            console.log(err);\n",
       "        });\n",
       "        "
      ],
      "text/plain": [
       "<IPython.core.display.Javascript object>"
      ]
     },
     "metadata": {},
     "output_type": "display_data"
    }
   ],
   "source": [
    "column = am4.ColumnChart()\n",
    "column.setTitle(\"Activity total length per month\")\n",
    "column.set_y_label(\"Total lenght average\")\n",
    "column.set_x_label(\"year\")\n",
    "column.fromDataFrame(df_months, \"activity_school_year\", \n",
    "                     ['avg_len_descriptions','avg_len_steps','avg_len_observations'], \n",
    "                     hue=\"month\", hue_prefix=\"month \",\n",
    "                     show_legend = False\n",
    "                    )\n",
    "column.plot()"
   ]
  },
  {
   "cell_type": "code",
   "execution_count": 23,
   "metadata": {},
   "outputs": [
    {
     "data": {
      "text/html": [
       "<div>\n",
       "<style scoped>\n",
       "    .dataframe tbody tr th:only-of-type {\n",
       "        vertical-align: middle;\n",
       "    }\n",
       "\n",
       "    .dataframe tbody tr th {\n",
       "        vertical-align: top;\n",
       "    }\n",
       "\n",
       "    .dataframe thead th {\n",
       "        text-align: right;\n",
       "    }\n",
       "</style>\n",
       "<table border=\"1\" class=\"dataframe\">\n",
       "  <thead>\n",
       "    <tr style=\"text-align: right;\">\n",
       "      <th></th>\n",
       "      <th>avg_activity_total_length</th>\n",
       "      <th>std_activity_total_length</th>\n",
       "    </tr>\n",
       "    <tr>\n",
       "      <th>activity_school_year</th>\n",
       "      <th></th>\n",
       "      <th></th>\n",
       "    </tr>\n",
       "  </thead>\n",
       "  <tbody>\n",
       "    <tr>\n",
       "      <th>1</th>\n",
       "      <td>134.666667</td>\n",
       "      <td>120.981667</td>\n",
       "    </tr>\n",
       "    <tr>\n",
       "      <th>2</th>\n",
       "      <td>152.500000</td>\n",
       "      <td>151.664167</td>\n",
       "    </tr>\n",
       "    <tr>\n",
       "      <th>3</th>\n",
       "      <td>153.166667</td>\n",
       "      <td>128.285000</td>\n",
       "    </tr>\n",
       "  </tbody>\n",
       "</table>\n",
       "</div>"
      ],
      "text/plain": [
       "                      avg_activity_total_length  std_activity_total_length\n",
       "activity_school_year                                                      \n",
       "1                                    134.666667                 120.981667\n",
       "2                                    152.500000                 151.664167\n",
       "3                                    153.166667                 128.285000"
      ]
     },
     "execution_count": 23,
     "metadata": {},
     "output_type": "execute_result"
    }
   ],
   "source": [
    "df_months[['activity_school_year','avg_activity_total_length','std_activity_total_length']]\\\n",
    "    .groupby('activity_school_year').mean()"
   ]
  },
  {
   "cell_type": "markdown",
   "metadata": {},
   "source": [
    "Note: std very high because of NULL descriptions. TODO: try without NULL descriptions"
   ]
  },
  {
   "cell_type": "code",
   "execution_count": 24,
   "metadata": {},
   "outputs": [
    {
     "data": {
      "application/javascript": [
       "element.append('<div id=\"chartdiv_4e14ed77-a50e-11ea-b8b4-7c5cf8500ef5\" style=\"height: 500px;\"></div>');"
      ],
      "text/plain": [
       "<IPython.core.display.Javascript object>"
      ]
     },
     "metadata": {},
     "output_type": "display_data"
    },
    {
     "data": {
      "application/javascript": [
       "$('#chartdiv_4e14ed77-a50e-11ea-b8b4-7c5cf8500ef5').parent(\"div\").css(\"width\",\"100%\").css(\"overflow-y\",\"hidden\");"
      ],
      "text/plain": [
       "<IPython.core.display.Javascript object>"
      ]
     },
     "metadata": {},
     "output_type": "display_data"
    },
    {
     "data": {
      "application/javascript": [
       "var params = {};params['title'] = \"[bold]Average[/] reflections total length per month\";params['y_title'] = \"Total average lenght average\";params['x_title'] = \"year\";params['hues'] = [1, 2, 3, 4, 5, 6, 7, 8, 9, 10, 11, 12];params['data'] = [{'x': 1, 'month 1': 5.25, 'month 2': 6.19, 'month 3': 5.88, 'month 4': 5.11, 'month 5': 5.6, 'month 6': 5.36, 'month 7': 8.87, 'month 8': 1.31, 'month 9': 8.72, 'month 10': 5.46, 'month 11': 5.08, 'month 12': 5.06}, {'x': 2, 'month 1': 5.49, 'month 2': 3.99, 'month 3': 4.02, 'month 4': 5.58, 'month 5': 5.53, 'month 6': 5.78, 'month 7': 8.19, 'month 8': 7.26, 'month 9': 7.08, 'month 10': 4.72, 'month 11': 4.48, 'month 12': 5.22}, {'x': 3, 'month 1': 6.73, 'month 2': 6.49, 'month 3': 7.05, 'month 4': 8.6, 'month 5': 5.43, 'month 6': 7.19, 'month 7': 0.0, 'month 8': 6.23, 'month 9': 7.78, 'month 10': 5.14, 'month 11': 7.77, 'month 12': 6.18}];params['x_vals'] = [1, 2, 3];params['stacks'] = 1;params['series'] = {'month 1': 0, 'month 2': 0, 'month 3': 0, 'month 4': 0, 'month 5': 0, 'month 6': 0, 'month 7': 0, 'month 8': 0, 'month 9': 0, 'month 10': 0, 'month 11': 0, 'month 12': 0};params['x_names_map'] = 0;params['legend'] = false;\n",
       "        require(['amchart_core', 'amchart_charts', 'amcharts4/themes/animated', 'amcharts4/themes/frozen'], columnCallback(params,\"chartdiv_4e14ed77-a50e-11ea-b8b4-7c5cf8500ef5\") , function (err) {\n",
       "            console.log(err);\n",
       "        });\n",
       "        "
      ],
      "text/plain": [
       "<IPython.core.display.Javascript object>"
      ]
     },
     "metadata": {},
     "output_type": "display_data"
    }
   ],
   "source": [
    "column = am4.ColumnChart()\n",
    "column.setTitle(\"[bold]Average[/] reflections total length per month\")\n",
    "column.set_y_label(\"Total average lenght average\")\n",
    "column.set_x_label(\"year\")\n",
    "column.fromDataFrame(df_months, \"activity_school_year\", \n",
    "                     ['avg_sum_len_reflections'], \n",
    "                     hue=\"month\", hue_prefix=\"month \",\n",
    "                     show_legend = False\n",
    "                    )\n",
    "column.plot()"
   ]
  },
  {
   "cell_type": "code",
   "execution_count": 25,
   "metadata": {},
   "outputs": [
    {
     "data": {
      "application/javascript": [
       "element.append('<div id=\"chartdiv_4e1a1d8b-a50e-11ea-a80c-7c5cf8500ef5\" style=\"height: 500px;\"></div>');"
      ],
      "text/plain": [
       "<IPython.core.display.Javascript object>"
      ]
     },
     "metadata": {},
     "output_type": "display_data"
    },
    {
     "data": {
      "application/javascript": [
       "$('#chartdiv_4e1a1d8b-a50e-11ea-a80c-7c5cf8500ef5').parent(\"div\").css(\"width\",\"100%\").css(\"overflow-y\",\"hidden\");"
      ],
      "text/plain": [
       "<IPython.core.display.Javascript object>"
      ]
     },
     "metadata": {},
     "output_type": "display_data"
    },
    {
     "data": {
      "application/javascript": [
       "var params = {};params['title'] = \"Total length of average reflections per month\";params['y_title'] = \"Total lenght of average\";params['x_title'] = \"year\";params['hues'] = [1, 2, 3, 4, 5, 6, 7, 8, 9, 10, 11, 12];params['data'] = [{'x': 1, 'month 1 - avg_len_bilancio': 5.02, 'month 1 - avg_len_competenze': 7.77, 'month 1 - avg_len_miglioramenti': 4.21, 'month 1 - avg_len_critici': 3.98, 'month 2 - avg_len_bilancio': 5.66, 'month 2 - avg_len_competenze': 9.13, 'month 2 - avg_len_miglioramenti': 4.8, 'month 2 - avg_len_critici': 5.19, 'month 3 - avg_len_bilancio': 5.16, 'month 3 - avg_len_competenze': 8.29, 'month 3 - avg_len_miglioramenti': 5.11, 'month 3 - avg_len_critici': 4.95, 'month 4 - avg_len_bilancio': 4.92, 'month 4 - avg_len_competenze': 7.21, 'month 4 - avg_len_miglioramenti': 4.45, 'month 4 - avg_len_critici': 3.87, 'month 5 - avg_len_bilancio': 5.22, 'month 5 - avg_len_competenze': 7.84, 'month 5 - avg_len_miglioramenti': 4.72, 'month 5 - avg_len_critici': 4.62, 'month 6 - avg_len_bilancio': 4.61, 'month 6 - avg_len_competenze': 7.15, 'month 6 - avg_len_miglioramenti': 4.58, 'month 6 - avg_len_critici': 5.11, 'month 7 - avg_len_bilancio': 8.75, 'month 7 - avg_len_competenze': 12.48, 'month 7 - avg_len_miglioramenti': 5.81, 'month 7 - avg_len_critici': 8.46, 'month 8 - avg_len_bilancio': 0.75, 'month 8 - avg_len_competenze': 0.75, 'month 8 - avg_len_miglioramenti': 1.0, 'month 8 - avg_len_critici': 2.75, 'month 9 - avg_len_bilancio': 7.57, 'month 9 - avg_len_competenze': 13.61, 'month 9 - avg_len_miglioramenti': 8.36, 'month 9 - avg_len_critici': 5.33, 'month 10 - avg_len_bilancio': 5.76, 'month 10 - avg_len_competenze': 7.68, 'month 10 - avg_len_miglioramenti': 4.04, 'month 10 - avg_len_critici': 4.35, 'month 11 - avg_len_bilancio': 4.5, 'month 11 - avg_len_competenze': 7.11, 'month 11 - avg_len_miglioramenti': 4.42, 'month 11 - avg_len_critici': 4.28, 'month 12 - avg_len_bilancio': 4.87, 'month 12 - avg_len_competenze': 7.04, 'month 12 - avg_len_miglioramenti': 3.97, 'month 12 - avg_len_critici': 4.36}, {'x': 2, 'month 1 - avg_len_bilancio': 3.2, 'month 1 - avg_len_competenze': 10.28, 'month 1 - avg_len_miglioramenti': 3.4, 'month 1 - avg_len_critici': 5.07, 'month 2 - avg_len_bilancio': 3.55, 'month 2 - avg_len_competenze': 6.23, 'month 2 - avg_len_miglioramenti': 2.99, 'month 2 - avg_len_critici': 3.17, 'month 3 - avg_len_bilancio': 3.34, 'month 3 - avg_len_competenze': 6.71, 'month 3 - avg_len_miglioramenti': 2.72, 'month 3 - avg_len_critici': 3.25, 'month 4 - avg_len_bilancio': 4.89, 'month 4 - avg_len_competenze': 6.97, 'month 4 - avg_len_miglioramenti': 3.64, 'month 4 - avg_len_critici': 6.81, 'month 5 - avg_len_bilancio': 4.76, 'month 5 - avg_len_competenze': 8.69, 'month 5 - avg_len_miglioramenti': 4.53, 'month 5 - avg_len_critici': 4.14, 'month 6 - avg_len_bilancio': 4.98, 'month 6 - avg_len_competenze': 7.99, 'month 6 - avg_len_miglioramenti': 3.83, 'month 6 - avg_len_critici': 6.33, 'month 7 - avg_len_bilancio': 5.74, 'month 7 - avg_len_competenze': 11.19, 'month 7 - avg_len_miglioramenti': 7.27, 'month 7 - avg_len_critici': 8.56, 'month 8 - avg_len_bilancio': 7.15, 'month 8 - avg_len_competenze': 9.72, 'month 8 - avg_len_miglioramenti': 7.02, 'month 8 - avg_len_critici': 5.14, 'month 9 - avg_len_bilancio': 6.28, 'month 9 - avg_len_competenze': 10.13, 'month 9 - avg_len_miglioramenti': 6.05, 'month 9 - avg_len_critici': 5.88, 'month 10 - avg_len_bilancio': 4.45, 'month 10 - avg_len_competenze': 6.06, 'month 10 - avg_len_miglioramenti': 3.73, 'month 10 - avg_len_critici': 4.64, 'month 11 - avg_len_bilancio': 4.18, 'month 11 - avg_len_competenze': 6.22, 'month 11 - avg_len_miglioramenti': 3.93, 'month 11 - avg_len_critici': 3.57, 'month 12 - avg_len_bilancio': 3.06, 'month 12 - avg_len_competenze': 9.68, 'month 12 - avg_len_miglioramenti': 3.38, 'month 12 - avg_len_critici': 4.78}, {'x': 3, 'month 1 - avg_len_bilancio': 7.81, 'month 1 - avg_len_competenze': 10.19, 'month 1 - avg_len_miglioramenti': 5.01, 'month 1 - avg_len_critici': 3.93, 'month 2 - avg_len_bilancio': 5.45, 'month 2 - avg_len_competenze': 10.52, 'month 2 - avg_len_miglioramenti': 5.52, 'month 2 - avg_len_critici': 4.49, 'month 3 - avg_len_bilancio': 5.61, 'month 3 - avg_len_competenze': 10.7, 'month 3 - avg_len_miglioramenti': 5.8, 'month 3 - avg_len_critici': 6.11, 'month 4 - avg_len_bilancio': 7.8, 'month 4 - avg_len_competenze': 13.23, 'month 4 - avg_len_miglioramenti': 7.45, 'month 4 - avg_len_critici': 5.91, 'month 5 - avg_len_bilancio': 4.39, 'month 5 - avg_len_competenze': 9.22, 'month 5 - avg_len_miglioramenti': 4.49, 'month 5 - avg_len_critici': 3.61, 'month 6 - avg_len_bilancio': 5.28, 'month 6 - avg_len_competenze': 13.57, 'month 6 - avg_len_miglioramenti': 5.04, 'month 6 - avg_len_critici': 4.88, 'month 7 - avg_len_bilancio': 0.0, 'month 7 - avg_len_competenze': 0.0, 'month 7 - avg_len_miglioramenti': 0.0, 'month 7 - avg_len_critici': 0.0, 'month 8 - avg_len_bilancio': 5.12, 'month 8 - avg_len_competenze': 10.37, 'month 8 - avg_len_miglioramenti': 4.63, 'month 8 - avg_len_critici': 4.79, 'month 9 - avg_len_bilancio': 6.56, 'month 9 - avg_len_competenze': 11.93, 'month 9 - avg_len_miglioramenti': 5.13, 'month 9 - avg_len_critici': 7.51, 'month 10 - avg_len_bilancio': 4.93, 'month 10 - avg_len_competenze': 7.36, 'month 10 - avg_len_miglioramenti': 4.31, 'month 10 - avg_len_critici': 3.96, 'month 11 - avg_len_bilancio': 6.23, 'month 11 - avg_len_competenze': 11.76, 'month 11 - avg_len_miglioramenti': 6.16, 'month 11 - avg_len_critici': 6.95, 'month 12 - avg_len_bilancio': 4.56, 'month 12 - avg_len_competenze': 11.11, 'month 12 - avg_len_miglioramenti': 4.28, 'month 12 - avg_len_critici': 4.75}];params['x_vals'] = [1, 2, 3];params['stacks'] = 4;params['series'] = {'month 1 - avg_len_bilancio': 0, 'month 1 - avg_len_competenze': 1, 'month 1 - avg_len_miglioramenti': 1, 'month 1 - avg_len_critici': 1, 'month 2 - avg_len_bilancio': 0, 'month 2 - avg_len_competenze': 1, 'month 2 - avg_len_miglioramenti': 1, 'month 2 - avg_len_critici': 1, 'month 3 - avg_len_bilancio': 0, 'month 3 - avg_len_competenze': 1, 'month 3 - avg_len_miglioramenti': 1, 'month 3 - avg_len_critici': 1, 'month 4 - avg_len_bilancio': 0, 'month 4 - avg_len_competenze': 1, 'month 4 - avg_len_miglioramenti': 1, 'month 4 - avg_len_critici': 1, 'month 5 - avg_len_bilancio': 0, 'month 5 - avg_len_competenze': 1, 'month 5 - avg_len_miglioramenti': 1, 'month 5 - avg_len_critici': 1, 'month 6 - avg_len_bilancio': 0, 'month 6 - avg_len_competenze': 1, 'month 6 - avg_len_miglioramenti': 1, 'month 6 - avg_len_critici': 1, 'month 7 - avg_len_bilancio': 0, 'month 7 - avg_len_competenze': 1, 'month 7 - avg_len_miglioramenti': 1, 'month 7 - avg_len_critici': 1, 'month 8 - avg_len_bilancio': 0, 'month 8 - avg_len_competenze': 1, 'month 8 - avg_len_miglioramenti': 1, 'month 8 - avg_len_critici': 1, 'month 9 - avg_len_bilancio': 0, 'month 9 - avg_len_competenze': 1, 'month 9 - avg_len_miglioramenti': 1, 'month 9 - avg_len_critici': 1, 'month 10 - avg_len_bilancio': 0, 'month 10 - avg_len_competenze': 1, 'month 10 - avg_len_miglioramenti': 1, 'month 10 - avg_len_critici': 1, 'month 11 - avg_len_bilancio': 0, 'month 11 - avg_len_competenze': 1, 'month 11 - avg_len_miglioramenti': 1, 'month 11 - avg_len_critici': 1, 'month 12 - avg_len_bilancio': 0, 'month 12 - avg_len_competenze': 1, 'month 12 - avg_len_miglioramenti': 1, 'month 12 - avg_len_critici': 1};params['x_names_map'] = 0;params['legend'] = false;\n",
       "        require(['amchart_core', 'amchart_charts', 'amcharts4/themes/animated', 'amcharts4/themes/frozen'], columnCallback(params,\"chartdiv_4e1a1d8b-a50e-11ea-a80c-7c5cf8500ef5\") , function (err) {\n",
       "            console.log(err);\n",
       "        });\n",
       "        "
      ],
      "text/plain": [
       "<IPython.core.display.Javascript object>"
      ]
     },
     "metadata": {},
     "output_type": "display_data"
    }
   ],
   "source": [
    "column = am4.ColumnChart()\n",
    "column.setTitle(\"Total length of average reflections per month\")\n",
    "column.set_y_label(\"Total lenght of average\")\n",
    "column.set_x_label(\"year\")\n",
    "column.fromDataFrame(df_months, \"activity_school_year\", \n",
    "                     ['avg_len_bilancio','avg_len_competenze','avg_len_miglioramenti','avg_len_critici'], \n",
    "                     hue=\"month\", hue_prefix=\"month \",\n",
    "                     show_legend = False\n",
    "                    )\n",
    "column.plot()"
   ]
  },
  {
   "cell_type": "markdown",
   "metadata": {},
   "source": [
    "### Edits"
   ]
  },
  {
   "cell_type": "code",
   "execution_count": 11,
   "metadata": {},
   "outputs": [
    {
     "data": {
      "application/javascript": [
       "element.append('<div id=\"chartdiv_2707b8cd-a564-11ea-a405-7c5cf8500ef5\" style=\"height: 500px;\"></div>');"
      ],
      "text/plain": [
       "<IPython.core.display.Javascript object>"
      ]
     },
     "metadata": {},
     "output_type": "display_data"
    },
    {
     "data": {
      "application/javascript": [
       "$('#chartdiv_2707b8cd-a564-11ea-a405-7c5cf8500ef5').parent(\"div\").css(\"width\",\"100%\").css(\"overflow-y\",\"hidden\");"
      ],
      "text/plain": [
       "<IPython.core.display.Javascript object>"
      ]
     },
     "metadata": {},
     "output_type": "display_data"
    },
    {
     "data": {
      "application/javascript": [
       "var params = {};params['title'] = \"Edits per months\";params['y_title'] = \"# of edits\";params['x_title'] = \"year\";params['is_category'] = 1;params['hues'] = [1, 2, 3];params['data'] = [{'x': '01_1', 'year 1': 9135.0}, {'x': '02_1', 'year 1': 7795.0}, {'x': '03_1', 'year 1': 9862.0}, {'x': '04_1', 'year 1': 8272.0}, {'x': '05_1', 'year 1': 10266.0}, {'x': '06_1', 'year 1': 5869.0}, {'x': '07_1', 'year 1': 1910.0}, {'x': '08_1', 'year 1': 208.0}, {'x': '09_1', 'year 1': 674.0}, {'x': '10_1', 'year 1': 4656.0}, {'x': '11_1', 'year 1': 9226.0}, {'x': '12_1', 'year 1': 7567.0}, {'x': '01_2', 'year 2': 6215.0}, {'x': '02_2', 'year 2': 7181.0}, {'x': '03_2', 'year 2': 7555.0}, {'x': '04_2', 'year 2': 8182.0}, {'x': '05_2', 'year 2': 7129.0}, {'x': '06_2', 'year 2': 5681.0}, {'x': '07_2', 'year 2': 1934.0}, {'x': '08_2', 'year 2': 3206.0}, {'x': '09_2', 'year 2': 4782.0}, {'x': '10_2', 'year 2': 8533.0}, {'x': '11_2', 'year 2': 7901.0}, {'x': '12_2', 'year 2': 5083.0}, {'x': '01_3', 'year 3': 4169.0}, {'x': '02_3', 'year 3': 2937.0}, {'x': '03_3', 'year 3': 3382.0}, {'x': '04_3', 'year 3': 3617.0}, {'x': '05_3', 'year 3': 12487.0}, {'x': '06_3', 'year 3': 16508.0}, {'x': '07_3', 'year 3': 0.0}, {'x': '08_3', 'year 3': 5107.0}, {'x': '09_3', 'year 3': 3840.0}, {'x': '10_3', 'year 3': 4667.0}, {'x': '11_3', 'year 3': 7045.0}, {'x': '12_3', 'year 3': 3624.0}];params['x_vals'] = ['01_1', '02_1', '03_1', '04_1', '05_1', '06_1', '07_1', '08_1', '09_1', '10_1', '11_1', '12_1', '01_2', '02_2', '03_2', '04_2', '05_2', '06_2', '07_2', '08_2', '09_2', '10_2', '11_2', '12_2', '01_3', '02_3', '03_3', '04_3', '05_3', '06_3', '07_3', '08_3', '09_3', '10_3', '11_3', '12_3'];params['stacks'] = 1;params['series'] = {'year 1': 0, 'year 2': 0, 'year 3': 0};params['range_divider'] = [0, 0, 0, 0, 0, 0, 0, 0, 0, 0, 0, 0, 1, 0, 0, 0, 0, 0, 0, 0, 0, 0, 0, 0, 1, 0, 0, 0, 0, 0, 0, 0, 0, 0, 0, 0];params['x_names_map'] = {'01_1': '1', '02_1': '2', '03_1': '3', '04_1': '4', '05_1': '5', '06_1': '6', '07_1': '7', '08_1': '8', '09_1': '9', '10_1': '10', '11_1': '11', '12_1': '12', '01_2': '1', '02_2': '2', '03_2': '3', '04_2': '4', '05_2': '5', '06_2': '6', '07_2': '7', '08_2': '8', '09_2': '9', '10_2': '10', '11_2': '11', '12_2': '12', '01_3': '1', '02_3': '2', '03_3': '3', '04_3': '4', '05_3': '5', '06_3': '6', '07_3': '7', '08_3': '8', '09_3': '9', '10_3': '10', '11_3': '11', '12_3': '12'};params['legend'] = true;\n",
       "        require(['amchart_core', 'amchart_charts', 'amcharts4/themes/animated', 'amcharts4/themes/frozen'], lineCallback(params,\"chartdiv_2707b8cd-a564-11ea-a405-7c5cf8500ef5\") , function (err) {\n",
       "            console.log(err);\n",
       "        });\n",
       "        "
      ],
      "text/plain": [
       "<IPython.core.display.Javascript object>"
      ]
     },
     "metadata": {},
     "output_type": "display_data"
    }
   ],
   "source": [
    "chart = am4.LineChart()\n",
    "chart.setTitle(\"Edits per months\")\n",
    "chart.set_y_label(\"# of edits\")\n",
    "chart.set_x_label(\"year\")\n",
    "chart.fromDataFrame(df_months, [\"month\",\"activity_school_year\"], \"n_edits\", \n",
    "                     hue=\"activity_school_year\", hue_prefix=\"year \",\n",
    "                     sorter=['activity_school_year','month'],\n",
    "                     range_divider = \"activity_school_year\",\n",
    "                     show_legend = True, x_axis_names=\"month\"\n",
    "                    )\n",
    "chart.plot()"
   ]
  },
  {
   "cell_type": "markdown",
   "metadata": {},
   "source": [
    "### Logins"
   ]
  },
  {
   "cell_type": "code",
   "execution_count": 34,
   "metadata": {},
   "outputs": [
    {
     "data": {
      "text/html": [
       "<div>\n",
       "<style scoped>\n",
       "    .dataframe tbody tr th:only-of-type {\n",
       "        vertical-align: middle;\n",
       "    }\n",
       "\n",
       "    .dataframe tbody tr th {\n",
       "        vertical-align: top;\n",
       "    }\n",
       "\n",
       "    .dataframe thead th {\n",
       "        text-align: right;\n",
       "    }\n",
       "</style>\n",
       "<table border=\"1\" class=\"dataframe\">\n",
       "  <thead>\n",
       "    <tr style=\"text-align: right;\">\n",
       "      <th></th>\n",
       "      <th>us_user</th>\n",
       "      <th>date</th>\n",
       "      <th>user_school_year</th>\n",
       "      <th>month</th>\n",
       "      <th>dayofweek</th>\n",
       "      <th>hour</th>\n",
       "      <th>minute</th>\n",
       "    </tr>\n",
       "  </thead>\n",
       "  <tbody>\n",
       "    <tr>\n",
       "      <th>0</th>\n",
       "      <td>20</td>\n",
       "      <td>2013-11-25 15:30:13</td>\n",
       "      <td>1</td>\n",
       "      <td>11</td>\n",
       "      <td>2</td>\n",
       "      <td>15</td>\n",
       "      <td>30</td>\n",
       "    </tr>\n",
       "    <tr>\n",
       "      <th>1</th>\n",
       "      <td>20</td>\n",
       "      <td>2013-12-19 14:11:06</td>\n",
       "      <td>1</td>\n",
       "      <td>12</td>\n",
       "      <td>5</td>\n",
       "      <td>14</td>\n",
       "      <td>11</td>\n",
       "    </tr>\n",
       "    <tr>\n",
       "      <th>2</th>\n",
       "      <td>20</td>\n",
       "      <td>2014-01-08 18:50:53</td>\n",
       "      <td>1</td>\n",
       "      <td>1</td>\n",
       "      <td>4</td>\n",
       "      <td>18</td>\n",
       "      <td>50</td>\n",
       "    </tr>\n",
       "    <tr>\n",
       "      <th>3</th>\n",
       "      <td>20</td>\n",
       "      <td>2014-01-08 20:14:51</td>\n",
       "      <td>1</td>\n",
       "      <td>1</td>\n",
       "      <td>4</td>\n",
       "      <td>20</td>\n",
       "      <td>14</td>\n",
       "    </tr>\n",
       "    <tr>\n",
       "      <th>4</th>\n",
       "      <td>20</td>\n",
       "      <td>2014-01-14 10:56:35</td>\n",
       "      <td>1</td>\n",
       "      <td>1</td>\n",
       "      <td>3</td>\n",
       "      <td>10</td>\n",
       "      <td>56</td>\n",
       "    </tr>\n",
       "  </tbody>\n",
       "</table>\n",
       "</div>"
      ],
      "text/plain": [
       "   us_user                date  user_school_year  month  dayofweek  hour  \\\n",
       "0       20 2013-11-25 15:30:13                 1     11          2    15   \n",
       "1       20 2013-12-19 14:11:06                 1     12          5    14   \n",
       "2       20 2014-01-08 18:50:53                 1      1          4    18   \n",
       "3       20 2014-01-08 20:14:51                 1      1          4    20   \n",
       "4       20 2014-01-14 10:56:35                 1      1          3    10   \n",
       "\n",
       "   minute  \n",
       "0      30  \n",
       "1      11  \n",
       "2      50  \n",
       "3      14  \n",
       "4      56  "
      ]
     },
     "execution_count": 34,
     "metadata": {},
     "output_type": "execute_result"
    }
   ],
   "source": [
    "df_students_logins = pd.read_csv(f\"{data_folder}students_logins.csv\")\\\n",
    "                        .drop(['ut_user_type','start_semester','start_year'],axis=1)\n",
    "df_students_logins['date'] = df_students_logins['date'].astype('datetime64')\n",
    "df_students_logins.head()"
   ]
  },
  {
   "cell_type": "code",
   "execution_count": 35,
   "metadata": {},
   "outputs": [],
   "source": [
    "date_hist = pd.DataFrame(df_students_logins['date'].groupby([df_students_logins[\"date\"].dt.dayofweek,df_students_logins[\"date\"].dt.hour]).count())\n",
    "date_hist = date_hist.rename(columns={\"date\": \"count\"})\n",
    "date_hist = pd.DataFrame([(x,y,get_loc(date_hist,(x,y),0,'count')) for x in range(7) for y in range(24)])\n",
    "date_hist.columns = ['dayofweek','hour','count']"
   ]
  },
  {
   "cell_type": "code",
   "execution_count": null,
   "metadata": {},
   "outputs": [],
   "source": [
    "chart = am4.LineChart()\n",
    "chart.setTitle(\"Apprentices logins\")\n",
    "chart.set_y_label(\"# logins\")\n",
    "chart.set_x_label(\"hour\")\n",
    "chart.fromDataFrame(date_hist, ['hour'], \"count\", \n",
    "                     hue=\"dayofweek\", x_axis_names = \"hour\",\n",
    "                     show_legend = True\n",
    "                    )\n",
    "chart.plot()"
   ]
  },
  {
   "cell_type": "code",
   "execution_count": 40,
   "metadata": {},
   "outputs": [
    {
     "data": {
      "application/javascript": [
       "element.append('<div id=\"chartdiv_bd2b4aaf-a570-11ea-a262-7c5cf8500ef5\" style=\"height: 500px;\"></div>');"
      ],
      "text/plain": [
       "<IPython.core.display.Javascript object>"
      ]
     },
     "metadata": {},
     "output_type": "display_data"
    },
    {
     "data": {
      "application/javascript": [
       "$('#chartdiv_bd2b4aaf-a570-11ea-a262-7c5cf8500ef5').parent(\"div\").css(\"width\",\"100%\").css(\"overflow-y\",\"hidden\");"
      ],
      "text/plain": [
       "<IPython.core.display.Javascript object>"
      ]
     },
     "metadata": {},
     "output_type": "display_data"
    },
    {
     "data": {
      "application/javascript": [
       "var params = {};params['title'] = \"Apprentices logins\";params['y_title'] = \"# logins\";params['x_title'] = \"hour\";params['hues'] = [0, 1, 2, 3, 4, 5, 6];params['data'] = [{'x': 0, '0': 24, '1': 80, '2': 80, '3': 69, '4': 61, '5': 58, '6': 63}, {'x': 1, '0': 15, '1': 12, '2': 41, '3': 13, '4': 13, '5': 17, '6': 47}, {'x': 2, '0': 10, '1': 6, '2': 7, '3': 0, '4': 6, '5': 4, '6': 26}, {'x': 3, '0': 73, '1': 9, '2': 38, '3': 6, '4': 4, '5': 3, '6': 6}, {'x': 4, '0': 111, '1': 56, '2': 60, '3': 69, '4': 17, '5': 14, '6': 8}, {'x': 5, '0': 125, '1': 180, '2': 201, '3': 185, '4': 73, '5': 66, '6': 14}, {'x': 6, '0': 308, '1': 201, '2': 379, '3': 285, '4': 210, '5': 58, '6': 72}, {'x': 7, '0': 417, '1': 422, '2': 396, '3': 287, '4': 431, '5': 171, '6': 119}, {'x': 8, '0': 446, '1': 757, '2': 578, '3': 396, '4': 351, '5': 218, '6': 273}, {'x': 9, '0': 666, '1': 534, '2': 654, '3': 605, '4': 450, '5': 466, '6': 462}, {'x': 10, '0': 576, '1': 511, '2': 748, '3': 606, '4': 536, '5': 512, '6': 492}, {'x': 11, '0': 648, '1': 544, '2': 650, '3': 572, '4': 427, '5': 521, '6': 546}, {'x': 12, '0': 903, '1': 821, '2': 857, '3': 638, '4': 644, '5': 388, '6': 756}, {'x': 13, '0': 1095, '1': 937, '2': 1194, '3': 1089, '4': 690, '5': 467, '6': 859}, {'x': 14, '0': 977, '1': 996, '2': 905, '3': 1152, '4': 650, '5': 588, '6': 950}, {'x': 15, '0': 770, '1': 850, '2': 807, '3': 670, '4': 604, '5': 543, '6': 812}, {'x': 16, '0': 749, '1': 767, '2': 499, '3': 568, '4': 456, '5': 405, '6': 630}, {'x': 17, '0': 641, '1': 609, '2': 591, '3': 458, '4': 405, '5': 251, '6': 551}, {'x': 18, '0': 690, '1': 672, '2': 574, '3': 510, '4': 255, '5': 239, '6': 613}, {'x': 19, '0': 584, '1': 742, '2': 710, '3': 412, '4': 215, '5': 382, '6': 534}, {'x': 20, '0': 471, '1': 665, '2': 700, '3': 398, '4': 242, '5': 282, '6': 447}, {'x': 21, '0': 312, '1': 596, '2': 597, '3': 350, '4': 107, '5': 249, '6': 297}, {'x': 22, '0': 197, '1': 278, '2': 200, '3': 225, '4': 109, '5': 132, '6': 163}, {'x': 23, '0': 102, '1': 167, '2': 70, '3': 105, '4': 103, '5': 100, '6': 78}];params['x_vals'] = [0, 1, 2, 3, 4, 5, 6, 7, 8, 9, 10, 11, 12, 13, 14, 15, 16, 17, 18, 19, 20, 21, 22, 23];params['stacks'] = 1;params['series'] = {'0': 0, '1': 0, '2': 0, '3': 0, '4': 0, '5': 0, '6': 0};params['x_names_map'] = {'0': '0', '1': '1', '2': '2', '3': '3', '4': '4', '5': '5', '6': '6', '7': '7', '8': '8', '9': '9', '10': '10', '11': '11', '12': '12', '13': '13', '14': '14', '15': '15', '16': '16', '17': '17', '18': '18', '19': '19', '20': '20', '21': '21', '22': '22', '23': '23'};params['legend'] = true;\n",
       "        require(['amchart_core', 'amchart_charts', 'amcharts4/themes/animated', 'amcharts4/themes/frozen'], lineCallback(params,\"chartdiv_bd2b4aaf-a570-11ea-a262-7c5cf8500ef5\") , function (err) {\n",
       "            console.log(err);\n",
       "        });\n",
       "        "
      ],
      "text/plain": [
       "<IPython.core.display.Javascript object>"
      ]
     },
     "metadata": {},
     "output_type": "display_data"
    }
   ],
   "source": [
    "chart = am4.LineChart()\n",
    "chart.setTitle(\"Apprentices logins\")\n",
    "chart.set_y_label(\"# logins\")\n",
    "chart.set_x_label(\"hour\")\n",
    "chart.fromDataFrame(date_hist, ['hour'], \"count\", \n",
    "                     hue=\"dayofweek\", x_axis_names = \"hour\",\n",
    "                     show_legend = True\n",
    "                    )\n",
    "chart.plot()"
   ]
  },
  {
   "cell_type": "code",
   "execution_count": 49,
   "metadata": {},
   "outputs": [
    {
     "data": {
      "application/javascript": [
       "element.append('<div id=\"chartdiv_3bd1f92a-a571-11ea-9a4c-7c5cf8500ef5\" style=\"height: 500px;\"></div>');"
      ],
      "text/plain": [
       "<IPython.core.display.Javascript object>"
      ]
     },
     "metadata": {},
     "output_type": "display_data"
    },
    {
     "data": {
      "application/javascript": [
       "$('#chartdiv_3bd1f92a-a571-11ea-9a4c-7c5cf8500ef5').parent(\"div\").css(\"width\",\"100%\").css(\"overflow-y\",\"hidden\");"
      ],
      "text/plain": [
       "<IPython.core.display.Javascript object>"
      ]
     },
     "metadata": {},
     "output_type": "display_data"
    },
    {
     "data": {
      "application/javascript": [
       "var params = {};params['title'] = \"Cumulate apprentices logins\";params['y_title'] = \"# logins\";params['x_title'] = \"hour\";params['data'] = [{'x': 0, 'count': 435}, {'x': 1, 'count': 158}, {'x': 2, 'count': 59}, {'x': 3, 'count': 139}, {'x': 4, 'count': 335}, {'x': 5, 'count': 844}, {'x': 6, 'count': 1513}, {'x': 7, 'count': 2243}, {'x': 8, 'count': 3019}, {'x': 9, 'count': 3837}, {'x': 10, 'count': 3981}, {'x': 11, 'count': 3908}, {'x': 12, 'count': 5007}, {'x': 13, 'count': 6331}, {'x': 14, 'count': 6218}, {'x': 15, 'count': 5056}, {'x': 16, 'count': 4074}, {'x': 17, 'count': 3506}, {'x': 18, 'count': 3553}, {'x': 19, 'count': 3579}, {'x': 20, 'count': 3205}, {'x': 21, 'count': 2508}, {'x': 22, 'count': 1304}, {'x': 23, 'count': 725}];params['x_vals'] = [0, 1, 2, 3, 4, 5, 6, 7, 8, 9, 10, 11, 12, 13, 14, 15, 16, 17, 18, 19, 20, 21, 22, 23];params['stacks'] = 1;params['series'] = {'count': 0};params['x_names_map'] = {'0': '0', '1': '1', '2': '2', '3': '3', '4': '4', '5': '5', '6': '6', '7': '7', '8': '8', '9': '9', '10': '10', '11': '11', '12': '12', '13': '13', '14': '14', '15': '15', '16': '16', '17': '17', '18': '18', '19': '19', '20': '20', '21': '21', '22': '22', '23': '23'};params['legend'] = true;\n",
       "        require(['amchart_core', 'amchart_charts', 'amcharts4/themes/animated', 'amcharts4/themes/frozen'], lineCallback(params,\"chartdiv_3bd1f92a-a571-11ea-9a4c-7c5cf8500ef5\") , function (err) {\n",
       "            console.log(err);\n",
       "        });\n",
       "        "
      ],
      "text/plain": [
       "<IPython.core.display.Javascript object>"
      ]
     },
     "metadata": {},
     "output_type": "display_data"
    }
   ],
   "source": [
    "chart = am4.LineChart()\n",
    "chart.setTitle(\"Cumulate apprentices logins\")\n",
    "chart.set_y_label(\"# logins\")\n",
    "chart.set_x_label(\"hour\")\n",
    "chart.fromDataFrame(date_hist.groupby(\"hour\").sum().reset_index(), ['hour'], \"count\", \n",
    "                     x_axis_names = \"hour\",\n",
    "                     show_legend = True\n",
    "                    )\n",
    "chart.plot()"
   ]
  },
  {
   "cell_type": "code",
   "execution_count": 39,
   "metadata": {},
   "outputs": [
    {
     "data": {
      "application/javascript": [
       "element.append('<div id=\"chartdiv_bb677a88-a570-11ea-8e37-7c5cf8500ef5\" style=\"height: 500px;\"></div>');"
      ],
      "text/plain": [
       "<IPython.core.display.Javascript object>"
      ]
     },
     "metadata": {},
     "output_type": "display_data"
    },
    {
     "data": {
      "application/javascript": [
       "$('#chartdiv_bb677a88-a570-11ea-8e37-7c5cf8500ef5').parent(\"div\").css(\"width\",\"100%\").css(\"overflow-y\",\"hidden\");"
      ],
      "text/plain": [
       "<IPython.core.display.Javascript object>"
      ]
     },
     "metadata": {},
     "output_type": "display_data"
    },
    {
     "data": {
      "application/javascript": [
       "var params = {};params['title'] = \"Apprentices logins\";params['y_title'] = \"# logins\";params['x_title'] = \"hour\";params['is_category'] = 1;params['hues'] = [0, 1, 2, 3, 4, 5, 6];params['data'] = [{'x': '0_00', '0': 24}, {'x': '0_01', '0': 15}, {'x': '0_02', '0': 10}, {'x': '0_03', '0': 73}, {'x': '0_04', '0': 111}, {'x': '0_05', '0': 125}, {'x': '0_06', '0': 308}, {'x': '0_07', '0': 417}, {'x': '0_08', '0': 446}, {'x': '0_09', '0': 666}, {'x': '0_10', '0': 576}, {'x': '0_11', '0': 648}, {'x': '0_12', '0': 903}, {'x': '0_13', '0': 1095}, {'x': '0_14', '0': 977}, {'x': '0_15', '0': 770}, {'x': '0_16', '0': 749}, {'x': '0_17', '0': 641}, {'x': '0_18', '0': 690}, {'x': '0_19', '0': 584}, {'x': '0_20', '0': 471}, {'x': '0_21', '0': 312}, {'x': '0_22', '0': 197}, {'x': '0_23', '0': 102}, {'x': '1_00', '1': 80}, {'x': '1_01', '1': 12}, {'x': '1_02', '1': 6}, {'x': '1_03', '1': 9}, {'x': '1_04', '1': 56}, {'x': '1_05', '1': 180}, {'x': '1_06', '1': 201}, {'x': '1_07', '1': 422}, {'x': '1_08', '1': 757}, {'x': '1_09', '1': 534}, {'x': '1_10', '1': 511}, {'x': '1_11', '1': 544}, {'x': '1_12', '1': 821}, {'x': '1_13', '1': 937}, {'x': '1_14', '1': 996}, {'x': '1_15', '1': 850}, {'x': '1_16', '1': 767}, {'x': '1_17', '1': 609}, {'x': '1_18', '1': 672}, {'x': '1_19', '1': 742}, {'x': '1_20', '1': 665}, {'x': '1_21', '1': 596}, {'x': '1_22', '1': 278}, {'x': '1_23', '1': 167}, {'x': '2_00', '2': 80}, {'x': '2_01', '2': 41}, {'x': '2_02', '2': 7}, {'x': '2_03', '2': 38}, {'x': '2_04', '2': 60}, {'x': '2_05', '2': 201}, {'x': '2_06', '2': 379}, {'x': '2_07', '2': 396}, {'x': '2_08', '2': 578}, {'x': '2_09', '2': 654}, {'x': '2_10', '2': 748}, {'x': '2_11', '2': 650}, {'x': '2_12', '2': 857}, {'x': '2_13', '2': 1194}, {'x': '2_14', '2': 905}, {'x': '2_15', '2': 807}, {'x': '2_16', '2': 499}, {'x': '2_17', '2': 591}, {'x': '2_18', '2': 574}, {'x': '2_19', '2': 710}, {'x': '2_20', '2': 700}, {'x': '2_21', '2': 597}, {'x': '2_22', '2': 200}, {'x': '2_23', '2': 70}, {'x': '3_00', '3': 69}, {'x': '3_01', '3': 13}, {'x': '3_02', '3': 0}, {'x': '3_03', '3': 6}, {'x': '3_04', '3': 69}, {'x': '3_05', '3': 185}, {'x': '3_06', '3': 285}, {'x': '3_07', '3': 287}, {'x': '3_08', '3': 396}, {'x': '3_09', '3': 605}, {'x': '3_10', '3': 606}, {'x': '3_11', '3': 572}, {'x': '3_12', '3': 638}, {'x': '3_13', '3': 1089}, {'x': '3_14', '3': 1152}, {'x': '3_15', '3': 670}, {'x': '3_16', '3': 568}, {'x': '3_17', '3': 458}, {'x': '3_18', '3': 510}, {'x': '3_19', '3': 412}, {'x': '3_20', '3': 398}, {'x': '3_21', '3': 350}, {'x': '3_22', '3': 225}, {'x': '3_23', '3': 105}, {'x': '4_00', '4': 61}, {'x': '4_01', '4': 13}, {'x': '4_02', '4': 6}, {'x': '4_03', '4': 4}, {'x': '4_04', '4': 17}, {'x': '4_05', '4': 73}, {'x': '4_06', '4': 210}, {'x': '4_07', '4': 431}, {'x': '4_08', '4': 351}, {'x': '4_09', '4': 450}, {'x': '4_10', '4': 536}, {'x': '4_11', '4': 427}, {'x': '4_12', '4': 644}, {'x': '4_13', '4': 690}, {'x': '4_14', '4': 650}, {'x': '4_15', '4': 604}, {'x': '4_16', '4': 456}, {'x': '4_17', '4': 405}, {'x': '4_18', '4': 255}, {'x': '4_19', '4': 215}, {'x': '4_20', '4': 242}, {'x': '4_21', '4': 107}, {'x': '4_22', '4': 109}, {'x': '4_23', '4': 103}, {'x': '5_00', '5': 58}, {'x': '5_01', '5': 17}, {'x': '5_02', '5': 4}, {'x': '5_03', '5': 3}, {'x': '5_04', '5': 14}, {'x': '5_05', '5': 66}, {'x': '5_06', '5': 58}, {'x': '5_07', '5': 171}, {'x': '5_08', '5': 218}, {'x': '5_09', '5': 466}, {'x': '5_10', '5': 512}, {'x': '5_11', '5': 521}, {'x': '5_12', '5': 388}, {'x': '5_13', '5': 467}, {'x': '5_14', '5': 588}, {'x': '5_15', '5': 543}, {'x': '5_16', '5': 405}, {'x': '5_17', '5': 251}, {'x': '5_18', '5': 239}, {'x': '5_19', '5': 382}, {'x': '5_20', '5': 282}, {'x': '5_21', '5': 249}, {'x': '5_22', '5': 132}, {'x': '5_23', '5': 100}, {'x': '6_00', '6': 63}, {'x': '6_01', '6': 47}, {'x': '6_02', '6': 26}, {'x': '6_03', '6': 6}, {'x': '6_04', '6': 8}, {'x': '6_05', '6': 14}, {'x': '6_06', '6': 72}, {'x': '6_07', '6': 119}, {'x': '6_08', '6': 273}, {'x': '6_09', '6': 462}, {'x': '6_10', '6': 492}, {'x': '6_11', '6': 546}, {'x': '6_12', '6': 756}, {'x': '6_13', '6': 859}, {'x': '6_14', '6': 950}, {'x': '6_15', '6': 812}, {'x': '6_16', '6': 630}, {'x': '6_17', '6': 551}, {'x': '6_18', '6': 613}, {'x': '6_19', '6': 534}, {'x': '6_20', '6': 447}, {'x': '6_21', '6': 297}, {'x': '6_22', '6': 163}, {'x': '6_23', '6': 78}];params['x_vals'] = ['0_00', '0_01', '0_02', '0_03', '0_04', '0_05', '0_06', '0_07', '0_08', '0_09', '0_10', '0_11', '0_12', '0_13', '0_14', '0_15', '0_16', '0_17', '0_18', '0_19', '0_20', '0_21', '0_22', '0_23', '1_00', '1_01', '1_02', '1_03', '1_04', '1_05', '1_06', '1_07', '1_08', '1_09', '1_10', '1_11', '1_12', '1_13', '1_14', '1_15', '1_16', '1_17', '1_18', '1_19', '1_20', '1_21', '1_22', '1_23', '2_00', '2_01', '2_02', '2_03', '2_04', '2_05', '2_06', '2_07', '2_08', '2_09', '2_10', '2_11', '2_12', '2_13', '2_14', '2_15', '2_16', '2_17', '2_18', '2_19', '2_20', '2_21', '2_22', '2_23', '3_00', '3_01', '3_02', '3_03', '3_04', '3_05', '3_06', '3_07', '3_08', '3_09', '3_10', '3_11', '3_12', '3_13', '3_14', '3_15', '3_16', '3_17', '3_18', '3_19', '3_20', '3_21', '3_22', '3_23', '4_00', '4_01', '4_02', '4_03', '4_04', '4_05', '4_06', '4_07', '4_08', '4_09', '4_10', '4_11', '4_12', '4_13', '4_14', '4_15', '4_16', '4_17', '4_18', '4_19', '4_20', '4_21', '4_22', '4_23', '5_00', '5_01', '5_02', '5_03', '5_04', '5_05', '5_06', '5_07', '5_08', '5_09', '5_10', '5_11', '5_12', '5_13', '5_14', '5_15', '5_16', '5_17', '5_18', '5_19', '5_20', '5_21', '5_22', '5_23', '6_00', '6_01', '6_02', '6_03', '6_04', '6_05', '6_06', '6_07', '6_08', '6_09', '6_10', '6_11', '6_12', '6_13', '6_14', '6_15', '6_16', '6_17', '6_18', '6_19', '6_20', '6_21', '6_22', '6_23'];params['stacks'] = 1;params['series'] = {'0': 0, '1': 0, '2': 0, '3': 0, '4': 0, '5': 0, '6': 0};params['range_divider'] = [0, 0, 0, 0, 0, 0, 0, 0, 0, 0, 0, 0, 0, 0, 0, 0, 0, 0, 0, 0, 0, 0, 0, 0, 1, 0, 0, 0, 0, 0, 0, 0, 0, 0, 0, 0, 0, 0, 0, 0, 0, 0, 0, 0, 0, 0, 0, 0, 1, 0, 0, 0, 0, 0, 0, 0, 0, 0, 0, 0, 0, 0, 0, 0, 0, 0, 0, 0, 0, 0, 0, 0, 1, 0, 0, 0, 0, 0, 0, 0, 0, 0, 0, 0, 0, 0, 0, 0, 0, 0, 0, 0, 0, 0, 0, 0, 1, 0, 0, 0, 0, 0, 0, 0, 0, 0, 0, 0, 0, 0, 0, 0, 0, 0, 0, 0, 0, 0, 0, 0, 1, 0, 0, 0, 0, 0, 0, 0, 0, 0, 0, 0, 0, 0, 0, 0, 0, 0, 0, 0, 0, 0, 0, 0, 1, 0, 0, 0, 0, 0, 0, 0, 0, 0, 0, 0, 0, 0, 0, 0, 0, 0, 0, 0, 0, 0, 0, 0];params['x_names_map'] = {'0_00': '0', '0_01': '1', '0_02': '2', '0_03': '3', '0_04': '4', '0_05': '5', '0_06': '6', '0_07': '7', '0_08': '8', '0_09': '9', '0_10': '10', '0_11': '11', '0_12': '12', '0_13': '13', '0_14': '14', '0_15': '15', '0_16': '16', '0_17': '17', '0_18': '18', '0_19': '19', '0_20': '20', '0_21': '21', '0_22': '22', '0_23': '23', '1_00': '0', '1_01': '1', '1_02': '2', '1_03': '3', '1_04': '4', '1_05': '5', '1_06': '6', '1_07': '7', '1_08': '8', '1_09': '9', '1_10': '10', '1_11': '11', '1_12': '12', '1_13': '13', '1_14': '14', '1_15': '15', '1_16': '16', '1_17': '17', '1_18': '18', '1_19': '19', '1_20': '20', '1_21': '21', '1_22': '22', '1_23': '23', '2_00': '0', '2_01': '1', '2_02': '2', '2_03': '3', '2_04': '4', '2_05': '5', '2_06': '6', '2_07': '7', '2_08': '8', '2_09': '9', '2_10': '10', '2_11': '11', '2_12': '12', '2_13': '13', '2_14': '14', '2_15': '15', '2_16': '16', '2_17': '17', '2_18': '18', '2_19': '19', '2_20': '20', '2_21': '21', '2_22': '22', '2_23': '23', '3_00': '0', '3_01': '1', '3_02': '2', '3_03': '3', '3_04': '4', '3_05': '5', '3_06': '6', '3_07': '7', '3_08': '8', '3_09': '9', '3_10': '10', '3_11': '11', '3_12': '12', '3_13': '13', '3_14': '14', '3_15': '15', '3_16': '16', '3_17': '17', '3_18': '18', '3_19': '19', '3_20': '20', '3_21': '21', '3_22': '22', '3_23': '23', '4_00': '0', '4_01': '1', '4_02': '2', '4_03': '3', '4_04': '4', '4_05': '5', '4_06': '6', '4_07': '7', '4_08': '8', '4_09': '9', '4_10': '10', '4_11': '11', '4_12': '12', '4_13': '13', '4_14': '14', '4_15': '15', '4_16': '16', '4_17': '17', '4_18': '18', '4_19': '19', '4_20': '20', '4_21': '21', '4_22': '22', '4_23': '23', '5_00': '0', '5_01': '1', '5_02': '2', '5_03': '3', '5_04': '4', '5_05': '5', '5_06': '6', '5_07': '7', '5_08': '8', '5_09': '9', '5_10': '10', '5_11': '11', '5_12': '12', '5_13': '13', '5_14': '14', '5_15': '15', '5_16': '16', '5_17': '17', '5_18': '18', '5_19': '19', '5_20': '20', '5_21': '21', '5_22': '22', '5_23': '23', '6_00': '0', '6_01': '1', '6_02': '2', '6_03': '3', '6_04': '4', '6_05': '5', '6_06': '6', '6_07': '7', '6_08': '8', '6_09': '9', '6_10': '10', '6_11': '11', '6_12': '12', '6_13': '13', '6_14': '14', '6_15': '15', '6_16': '16', '6_17': '17', '6_18': '18', '6_19': '19', '6_20': '20', '6_21': '21', '6_22': '22', '6_23': '23'};params['visible_labels'] = ['6', '12', '18', '0'];params['legend'] = true;\n",
       "        require(['amchart_core', 'amchart_charts', 'amcharts4/themes/animated', 'amcharts4/themes/frozen'], lineCallback(params,\"chartdiv_bb677a88-a570-11ea-8e37-7c5cf8500ef5\") , function (err) {\n",
       "            console.log(err);\n",
       "        });\n",
       "        "
      ],
      "text/plain": [
       "<IPython.core.display.Javascript object>"
      ]
     },
     "metadata": {},
     "output_type": "display_data"
    }
   ],
   "source": [
    "chart = am4.LineChart()\n",
    "chart.setTitle(\"Apprentices logins\")\n",
    "chart.set_y_label(\"# logins\")\n",
    "chart.set_x_label(\"hour\")\n",
    "chart.fromDataFrame(date_hist, ['dayofweek','hour'], \"count\", \n",
    "                     hue=\"dayofweek\", x_axis_names = \"hour\",\n",
    "                     range_divider = \"dayofweek\",\n",
    "                     show_legend = True, visible_labels=['6','12','18','0']\n",
    "                    )\n",
    "chart.plot()"
   ]
  },
  {
   "cell_type": "markdown",
   "metadata": {},
   "source": [
    "--------------\n",
    "## Supervisors"
   ]
  },
  {
   "cell_type": "code",
   "execution_count": 53,
   "metadata": {},
   "outputs": [
    {
     "data": {
      "text/html": [
       "<div>\n",
       "<style scoped>\n",
       "    .dataframe tbody tr th:only-of-type {\n",
       "        vertical-align: middle;\n",
       "    }\n",
       "\n",
       "    .dataframe tbody tr th {\n",
       "        vertical-align: top;\n",
       "    }\n",
       "\n",
       "    .dataframe thead th {\n",
       "        text-align: right;\n",
       "    }\n",
       "</style>\n",
       "<table border=\"1\" class=\"dataframe\">\n",
       "  <thead>\n",
       "    <tr style=\"text-align: right;\">\n",
       "      <th></th>\n",
       "      <th>month</th>\n",
       "      <th>activity_school_year</th>\n",
       "      <th>n_users_per_year</th>\n",
       "      <th>n_logins</th>\n",
       "      <th>n_activities</th>\n",
       "      <th>n_recipes</th>\n",
       "      <th>n_experiences</th>\n",
       "      <th>avg_n_user_activities</th>\n",
       "      <th>avg_n_user_recipes</th>\n",
       "      <th>avg_n_user_experiences</th>\n",
       "      <th>n_files</th>\n",
       "      <th>n_files_recipes</th>\n",
       "      <th>n_files_experiences</th>\n",
       "      <th>avg_n_files</th>\n",
       "      <th>avg_n_files_recipes</th>\n",
       "      <th>avg_n_files_experiences</th>\n",
       "      <th>std_n_files</th>\n",
       "      <th>std_n_files_recipes</th>\n",
       "      <th>std_n_files_experiences</th>\n",
       "      <th>n_feedback_requests</th>\n",
       "      <th>n_feedback_responses</th>\n",
       "      <th>n_feedback_requests_recipes</th>\n",
       "      <th>n_feedback_responses_recipes</th>\n",
       "      <th>n_feedback_requests_experiences</th>\n",
       "      <th>n_feedback_responses_experiences</th>\n",
       "      <th>n_in_curriculum</th>\n",
       "      <th>n_in_curriculum_recipes</th>\n",
       "      <th>n_in_curriculum_experiences</th>\n",
       "      <th>n_in_curriculum_insert_date</th>\n",
       "      <th>n_in_curriculum_insert_date_recipes</th>\n",
       "      <th>n_in_curriculum_insert_date_experiences</th>\n",
       "      <th>avg_activity_total_length</th>\n",
       "      <th>std_activity_total_length</th>\n",
       "      <th>avg_len_descriptions</th>\n",
       "      <th>std_len_descriptions</th>\n",
       "      <th>avg_len_steps</th>\n",
       "      <th>std_len_steps</th>\n",
       "      <th>avg_len_observations</th>\n",
       "      <th>std_len_observations</th>\n",
       "      <th>avg_sum_len_reflections</th>\n",
       "      <th>std_avg_sum_len_reflections</th>\n",
       "      <th>avg_avg_len_reflections</th>\n",
       "      <th>std_avg_len_reflections</th>\n",
       "      <th>avg_len_bilancio</th>\n",
       "      <th>std_len_bilancio</th>\n",
       "      <th>avg_len_competenze</th>\n",
       "      <th>std_len_competenze</th>\n",
       "      <th>avg_len_miglioramenti</th>\n",
       "      <th>std_len_miglioramenti</th>\n",
       "      <th>avg_len_critici</th>\n",
       "      <th>std_len_critici</th>\n",
       "      <th>total_reflections</th>\n",
       "      <th>total_null_reflections</th>\n",
       "      <th>n_edits</th>\n",
       "      <th>perc_total_feedback_requests</th>\n",
       "      <th>perc_total_feedback_requests_recipes</th>\n",
       "      <th>perc_total_feedback_requests_experiences</th>\n",
       "      <th>perc_feedback_responses</th>\n",
       "      <th>perc_feedback_responses_recipes</th>\n",
       "      <th>perc_feedback_responses_experiences</th>\n",
       "      <th>perc_in_curriculum</th>\n",
       "      <th>perc_recipes_in_curriculum</th>\n",
       "      <th>perc_experiences_in_curriculum</th>\n",
       "      <th>perc_in_curriculum_insert_date</th>\n",
       "      <th>perc_recipes_in_curriculum_insert_date</th>\n",
       "      <th>perc_experiences_in_curriculum_insert_date</th>\n",
       "    </tr>\n",
       "  </thead>\n",
       "  <tbody>\n",
       "    <tr>\n",
       "      <th>0</th>\n",
       "      <td>1</td>\n",
       "      <td>1</td>\n",
       "      <td>227</td>\n",
       "      <td>267</td>\n",
       "      <td>1336.0</td>\n",
       "      <td>959.0</td>\n",
       "      <td>377.0</td>\n",
       "      <td>4.61</td>\n",
       "      <td>3.31</td>\n",
       "      <td>1.30</td>\n",
       "      <td>3739.0</td>\n",
       "      <td>3112.0</td>\n",
       "      <td>627.0</td>\n",
       "      <td>9.0</td>\n",
       "      <td>8.0</td>\n",
       "      <td>1.0</td>\n",
       "      <td>5.5525</td>\n",
       "      <td>6.2082</td>\n",
       "      <td>3.5440</td>\n",
       "      <td>292.0</td>\n",
       "      <td>217.0</td>\n",
       "      <td>225.0</td>\n",
       "      <td>165.0</td>\n",
       "      <td>67.0</td>\n",
       "      <td>52.0</td>\n",
       "      <td>1249.0</td>\n",
       "      <td>919.0</td>\n",
       "      <td>330.0</td>\n",
       "      <td>221.0</td>\n",
       "      <td>169.0</td>\n",
       "      <td>52.0</td>\n",
       "      <td>16.0</td>\n",
       "      <td>0.0</td>\n",
       "      <td>1.0</td>\n",
       "      <td>0.0</td>\n",
       "      <td>14.0</td>\n",
       "      <td>0.0</td>\n",
       "      <td>1.0</td>\n",
       "      <td>0.0</td>\n",
       "      <td>4.84</td>\n",
       "      <td>7.30</td>\n",
       "      <td>2.66</td>\n",
       "      <td>5.19</td>\n",
       "      <td>4.38</td>\n",
       "      <td>9.77</td>\n",
       "      <td>7.55</td>\n",
       "      <td>14.28</td>\n",
       "      <td>4.01</td>\n",
       "      <td>7.87</td>\n",
       "      <td>3.44</td>\n",
       "      <td>8.69</td>\n",
       "      <td>89.0</td>\n",
       "      <td>94.0</td>\n",
       "      <td>9135.0</td>\n",
       "      <td>21.86</td>\n",
       "      <td>23.46</td>\n",
       "      <td>17.77</td>\n",
       "      <td>16.24</td>\n",
       "      <td>17.21</td>\n",
       "      <td>13.79</td>\n",
       "      <td>93.49</td>\n",
       "      <td>68.79</td>\n",
       "      <td>24.70</td>\n",
       "      <td>16.54</td>\n",
       "      <td>12.65</td>\n",
       "      <td>3.89</td>\n",
       "    </tr>\n",
       "    <tr>\n",
       "      <th>1</th>\n",
       "      <td>1</td>\n",
       "      <td>2</td>\n",
       "      <td>101</td>\n",
       "      <td>105</td>\n",
       "      <td>1016.0</td>\n",
       "      <td>355.0</td>\n",
       "      <td>661.0</td>\n",
       "      <td>5.43</td>\n",
       "      <td>1.90</td>\n",
       "      <td>3.53</td>\n",
       "      <td>1674.0</td>\n",
       "      <td>1328.0</td>\n",
       "      <td>346.0</td>\n",
       "      <td>9.0</td>\n",
       "      <td>7.0</td>\n",
       "      <td>1.0</td>\n",
       "      <td>4.2780</td>\n",
       "      <td>5.2542</td>\n",
       "      <td>2.6519</td>\n",
       "      <td>96.0</td>\n",
       "      <td>58.0</td>\n",
       "      <td>62.0</td>\n",
       "      <td>44.0</td>\n",
       "      <td>34.0</td>\n",
       "      <td>14.0</td>\n",
       "      <td>948.0</td>\n",
       "      <td>313.0</td>\n",
       "      <td>635.0</td>\n",
       "      <td>75.0</td>\n",
       "      <td>51.0</td>\n",
       "      <td>24.0</td>\n",
       "      <td>0.0</td>\n",
       "      <td>0.0</td>\n",
       "      <td>0.0</td>\n",
       "      <td>0.0</td>\n",
       "      <td>0.0</td>\n",
       "      <td>0.0</td>\n",
       "      <td>0.0</td>\n",
       "      <td>0.0</td>\n",
       "      <td>3.36</td>\n",
       "      <td>4.59</td>\n",
       "      <td>1.75</td>\n",
       "      <td>3.33</td>\n",
       "      <td>3.02</td>\n",
       "      <td>5.85</td>\n",
       "      <td>4.77</td>\n",
       "      <td>7.25</td>\n",
       "      <td>3.31</td>\n",
       "      <td>9.37</td>\n",
       "      <td>2.32</td>\n",
       "      <td>6.82</td>\n",
       "      <td>17.0</td>\n",
       "      <td>39.0</td>\n",
       "      <td>6215.0</td>\n",
       "      <td>9.45</td>\n",
       "      <td>17.46</td>\n",
       "      <td>5.14</td>\n",
       "      <td>5.71</td>\n",
       "      <td>12.39</td>\n",
       "      <td>2.12</td>\n",
       "      <td>93.31</td>\n",
       "      <td>30.81</td>\n",
       "      <td>62.50</td>\n",
       "      <td>7.38</td>\n",
       "      <td>5.02</td>\n",
       "      <td>2.36</td>\n",
       "    </tr>\n",
       "    <tr>\n",
       "      <th>2</th>\n",
       "      <td>1</td>\n",
       "      <td>3</td>\n",
       "      <td>40</td>\n",
       "      <td>26</td>\n",
       "      <td>805.0</td>\n",
       "      <td>328.0</td>\n",
       "      <td>477.0</td>\n",
       "      <td>7.06</td>\n",
       "      <td>2.88</td>\n",
       "      <td>4.18</td>\n",
       "      <td>596.0</td>\n",
       "      <td>500.0</td>\n",
       "      <td>96.0</td>\n",
       "      <td>11.0</td>\n",
       "      <td>10.0</td>\n",
       "      <td>1.0</td>\n",
       "      <td>7.6447</td>\n",
       "      <td>8.4491</td>\n",
       "      <td>2.8290</td>\n",
       "      <td>43.0</td>\n",
       "      <td>20.0</td>\n",
       "      <td>23.0</td>\n",
       "      <td>11.0</td>\n",
       "      <td>20.0</td>\n",
       "      <td>9.0</td>\n",
       "      <td>682.0</td>\n",
       "      <td>240.0</td>\n",
       "      <td>442.0</td>\n",
       "      <td>1.0</td>\n",
       "      <td>0.0</td>\n",
       "      <td>1.0</td>\n",
       "      <td>0.0</td>\n",
       "      <td>0.0</td>\n",
       "      <td>0.0</td>\n",
       "      <td>0.0</td>\n",
       "      <td>0.0</td>\n",
       "      <td>0.0</td>\n",
       "      <td>0.0</td>\n",
       "      <td>0.0</td>\n",
       "      <td>5.47</td>\n",
       "      <td>6.76</td>\n",
       "      <td>2.38</td>\n",
       "      <td>2.19</td>\n",
       "      <td>5.03</td>\n",
       "      <td>8.99</td>\n",
       "      <td>5.69</td>\n",
       "      <td>9.13</td>\n",
       "      <td>7.17</td>\n",
       "      <td>7.63</td>\n",
       "      <td>4.00</td>\n",
       "      <td>11.33</td>\n",
       "      <td>11.0</td>\n",
       "      <td>4.0</td>\n",
       "      <td>4169.0</td>\n",
       "      <td>5.34</td>\n",
       "      <td>7.01</td>\n",
       "      <td>4.19</td>\n",
       "      <td>2.48</td>\n",
       "      <td>3.35</td>\n",
       "      <td>1.89</td>\n",
       "      <td>84.72</td>\n",
       "      <td>29.81</td>\n",
       "      <td>54.91</td>\n",
       "      <td>0.12</td>\n",
       "      <td>0.00</td>\n",
       "      <td>0.12</td>\n",
       "    </tr>\n",
       "    <tr>\n",
       "      <th>3</th>\n",
       "      <td>2</td>\n",
       "      <td>1</td>\n",
       "      <td>227</td>\n",
       "      <td>217</td>\n",
       "      <td>1282.0</td>\n",
       "      <td>745.0</td>\n",
       "      <td>537.0</td>\n",
       "      <td>3.96</td>\n",
       "      <td>2.30</td>\n",
       "      <td>1.66</td>\n",
       "      <td>4014.0</td>\n",
       "      <td>3514.0</td>\n",
       "      <td>500.0</td>\n",
       "      <td>11.0</td>\n",
       "      <td>10.0</td>\n",
       "      <td>1.0</td>\n",
       "      <td>6.7077</td>\n",
       "      <td>7.3370</td>\n",
       "      <td>2.7850</td>\n",
       "      <td>249.0</td>\n",
       "      <td>134.0</td>\n",
       "      <td>181.0</td>\n",
       "      <td>116.0</td>\n",
       "      <td>68.0</td>\n",
       "      <td>18.0</td>\n",
       "      <td>1144.0</td>\n",
       "      <td>677.0</td>\n",
       "      <td>467.0</td>\n",
       "      <td>192.0</td>\n",
       "      <td>143.0</td>\n",
       "      <td>49.0</td>\n",
       "      <td>0.0</td>\n",
       "      <td>0.0</td>\n",
       "      <td>0.0</td>\n",
       "      <td>0.0</td>\n",
       "      <td>0.0</td>\n",
       "      <td>0.0</td>\n",
       "      <td>0.0</td>\n",
       "      <td>0.0</td>\n",
       "      <td>5.34</td>\n",
       "      <td>7.46</td>\n",
       "      <td>3.21</td>\n",
       "      <td>6.42</td>\n",
       "      <td>4.48</td>\n",
       "      <td>8.98</td>\n",
       "      <td>7.74</td>\n",
       "      <td>15.31</td>\n",
       "      <td>3.86</td>\n",
       "      <td>7.74</td>\n",
       "      <td>5.26</td>\n",
       "      <td>13.99</td>\n",
       "      <td>58.0</td>\n",
       "      <td>67.0</td>\n",
       "      <td>7795.0</td>\n",
       "      <td>19.42</td>\n",
       "      <td>24.30</td>\n",
       "      <td>12.66</td>\n",
       "      <td>10.45</td>\n",
       "      <td>15.57</td>\n",
       "      <td>3.35</td>\n",
       "      <td>89.24</td>\n",
       "      <td>52.81</td>\n",
       "      <td>36.43</td>\n",
       "      <td>14.98</td>\n",
       "      <td>11.15</td>\n",
       "      <td>3.82</td>\n",
       "    </tr>\n",
       "    <tr>\n",
       "      <th>4</th>\n",
       "      <td>2</td>\n",
       "      <td>2</td>\n",
       "      <td>101</td>\n",
       "      <td>80</td>\n",
       "      <td>1091.0</td>\n",
       "      <td>317.0</td>\n",
       "      <td>774.0</td>\n",
       "      <td>6.23</td>\n",
       "      <td>1.81</td>\n",
       "      <td>4.42</td>\n",
       "      <td>1963.0</td>\n",
       "      <td>1254.0</td>\n",
       "      <td>709.0</td>\n",
       "      <td>10.0</td>\n",
       "      <td>8.0</td>\n",
       "      <td>2.0</td>\n",
       "      <td>8.0259</td>\n",
       "      <td>8.4525</td>\n",
       "      <td>5.6257</td>\n",
       "      <td>87.0</td>\n",
       "      <td>53.0</td>\n",
       "      <td>37.0</td>\n",
       "      <td>26.0</td>\n",
       "      <td>50.0</td>\n",
       "      <td>27.0</td>\n",
       "      <td>1020.0</td>\n",
       "      <td>285.0</td>\n",
       "      <td>735.0</td>\n",
       "      <td>150.0</td>\n",
       "      <td>41.0</td>\n",
       "      <td>109.0</td>\n",
       "      <td>0.0</td>\n",
       "      <td>0.0</td>\n",
       "      <td>0.0</td>\n",
       "      <td>0.0</td>\n",
       "      <td>0.0</td>\n",
       "      <td>0.0</td>\n",
       "      <td>0.0</td>\n",
       "      <td>0.0</td>\n",
       "      <td>4.34</td>\n",
       "      <td>4.63</td>\n",
       "      <td>2.69</td>\n",
       "      <td>3.23</td>\n",
       "      <td>4.30</td>\n",
       "      <td>6.86</td>\n",
       "      <td>6.25</td>\n",
       "      <td>8.99</td>\n",
       "      <td>2.92</td>\n",
       "      <td>5.45</td>\n",
       "      <td>3.90</td>\n",
       "      <td>10.21</td>\n",
       "      <td>24.0</td>\n",
       "      <td>27.0</td>\n",
       "      <td>7181.0</td>\n",
       "      <td>7.97</td>\n",
       "      <td>11.67</td>\n",
       "      <td>6.46</td>\n",
       "      <td>4.86</td>\n",
       "      <td>8.20</td>\n",
       "      <td>3.49</td>\n",
       "      <td>93.49</td>\n",
       "      <td>26.12</td>\n",
       "      <td>67.37</td>\n",
       "      <td>13.75</td>\n",
       "      <td>3.76</td>\n",
       "      <td>9.99</td>\n",
       "    </tr>\n",
       "  </tbody>\n",
       "</table>\n",
       "</div>"
      ],
      "text/plain": [
       "   month  activity_school_year  n_users_per_year  n_logins  n_activities  \\\n",
       "0      1                     1               227       267        1336.0   \n",
       "1      1                     2               101       105        1016.0   \n",
       "2      1                     3                40        26         805.0   \n",
       "3      2                     1               227       217        1282.0   \n",
       "4      2                     2               101        80        1091.0   \n",
       "\n",
       "   n_recipes  n_experiences  avg_n_user_activities  avg_n_user_recipes  \\\n",
       "0      959.0          377.0                   4.61                3.31   \n",
       "1      355.0          661.0                   5.43                1.90   \n",
       "2      328.0          477.0                   7.06                2.88   \n",
       "3      745.0          537.0                   3.96                2.30   \n",
       "4      317.0          774.0                   6.23                1.81   \n",
       "\n",
       "   avg_n_user_experiences  n_files  n_files_recipes  n_files_experiences  \\\n",
       "0                    1.30   3739.0           3112.0                627.0   \n",
       "1                    3.53   1674.0           1328.0                346.0   \n",
       "2                    4.18    596.0            500.0                 96.0   \n",
       "3                    1.66   4014.0           3514.0                500.0   \n",
       "4                    4.42   1963.0           1254.0                709.0   \n",
       "\n",
       "   avg_n_files  avg_n_files_recipes  avg_n_files_experiences  std_n_files  \\\n",
       "0          9.0                  8.0                      1.0       5.5525   \n",
       "1          9.0                  7.0                      1.0       4.2780   \n",
       "2         11.0                 10.0                      1.0       7.6447   \n",
       "3         11.0                 10.0                      1.0       6.7077   \n",
       "4         10.0                  8.0                      2.0       8.0259   \n",
       "\n",
       "   std_n_files_recipes  std_n_files_experiences  n_feedback_requests  \\\n",
       "0               6.2082                   3.5440                292.0   \n",
       "1               5.2542                   2.6519                 96.0   \n",
       "2               8.4491                   2.8290                 43.0   \n",
       "3               7.3370                   2.7850                249.0   \n",
       "4               8.4525                   5.6257                 87.0   \n",
       "\n",
       "   n_feedback_responses  n_feedback_requests_recipes  \\\n",
       "0                 217.0                        225.0   \n",
       "1                  58.0                         62.0   \n",
       "2                  20.0                         23.0   \n",
       "3                 134.0                        181.0   \n",
       "4                  53.0                         37.0   \n",
       "\n",
       "   n_feedback_responses_recipes  n_feedback_requests_experiences  \\\n",
       "0                         165.0                             67.0   \n",
       "1                          44.0                             34.0   \n",
       "2                          11.0                             20.0   \n",
       "3                         116.0                             68.0   \n",
       "4                          26.0                             50.0   \n",
       "\n",
       "   n_feedback_responses_experiences  n_in_curriculum  n_in_curriculum_recipes  \\\n",
       "0                              52.0           1249.0                    919.0   \n",
       "1                              14.0            948.0                    313.0   \n",
       "2                               9.0            682.0                    240.0   \n",
       "3                              18.0           1144.0                    677.0   \n",
       "4                              27.0           1020.0                    285.0   \n",
       "\n",
       "   n_in_curriculum_experiences  n_in_curriculum_insert_date  \\\n",
       "0                        330.0                        221.0   \n",
       "1                        635.0                         75.0   \n",
       "2                        442.0                          1.0   \n",
       "3                        467.0                        192.0   \n",
       "4                        735.0                        150.0   \n",
       "\n",
       "   n_in_curriculum_insert_date_recipes  \\\n",
       "0                                169.0   \n",
       "1                                 51.0   \n",
       "2                                  0.0   \n",
       "3                                143.0   \n",
       "4                                 41.0   \n",
       "\n",
       "   n_in_curriculum_insert_date_experiences  avg_activity_total_length  \\\n",
       "0                                     52.0                       16.0   \n",
       "1                                     24.0                        0.0   \n",
       "2                                      1.0                        0.0   \n",
       "3                                     49.0                        0.0   \n",
       "4                                    109.0                        0.0   \n",
       "\n",
       "   std_activity_total_length  avg_len_descriptions  std_len_descriptions  \\\n",
       "0                        0.0                   1.0                   0.0   \n",
       "1                        0.0                   0.0                   0.0   \n",
       "2                        0.0                   0.0                   0.0   \n",
       "3                        0.0                   0.0                   0.0   \n",
       "4                        0.0                   0.0                   0.0   \n",
       "\n",
       "   avg_len_steps  std_len_steps  avg_len_observations  std_len_observations  \\\n",
       "0           14.0            0.0                   1.0                   0.0   \n",
       "1            0.0            0.0                   0.0                   0.0   \n",
       "2            0.0            0.0                   0.0                   0.0   \n",
       "3            0.0            0.0                   0.0                   0.0   \n",
       "4            0.0            0.0                   0.0                   0.0   \n",
       "\n",
       "   avg_sum_len_reflections  std_avg_sum_len_reflections  \\\n",
       "0                     4.84                         7.30   \n",
       "1                     3.36                         4.59   \n",
       "2                     5.47                         6.76   \n",
       "3                     5.34                         7.46   \n",
       "4                     4.34                         4.63   \n",
       "\n",
       "   avg_avg_len_reflections  std_avg_len_reflections  avg_len_bilancio  \\\n",
       "0                     2.66                     5.19              4.38   \n",
       "1                     1.75                     3.33              3.02   \n",
       "2                     2.38                     2.19              5.03   \n",
       "3                     3.21                     6.42              4.48   \n",
       "4                     2.69                     3.23              4.30   \n",
       "\n",
       "   std_len_bilancio  avg_len_competenze  std_len_competenze  \\\n",
       "0              9.77                7.55               14.28   \n",
       "1              5.85                4.77                7.25   \n",
       "2              8.99                5.69                9.13   \n",
       "3              8.98                7.74               15.31   \n",
       "4              6.86                6.25                8.99   \n",
       "\n",
       "   avg_len_miglioramenti  std_len_miglioramenti  avg_len_critici  \\\n",
       "0                   4.01                   7.87             3.44   \n",
       "1                   3.31                   9.37             2.32   \n",
       "2                   7.17                   7.63             4.00   \n",
       "3                   3.86                   7.74             5.26   \n",
       "4                   2.92                   5.45             3.90   \n",
       "\n",
       "   std_len_critici  total_reflections  total_null_reflections  n_edits  \\\n",
       "0             8.69               89.0                    94.0   9135.0   \n",
       "1             6.82               17.0                    39.0   6215.0   \n",
       "2            11.33               11.0                     4.0   4169.0   \n",
       "3            13.99               58.0                    67.0   7795.0   \n",
       "4            10.21               24.0                    27.0   7181.0   \n",
       "\n",
       "   perc_total_feedback_requests  perc_total_feedback_requests_recipes  \\\n",
       "0                         21.86                                 23.46   \n",
       "1                          9.45                                 17.46   \n",
       "2                          5.34                                  7.01   \n",
       "3                         19.42                                 24.30   \n",
       "4                          7.97                                 11.67   \n",
       "\n",
       "   perc_total_feedback_requests_experiences  perc_feedback_responses  \\\n",
       "0                                     17.77                    16.24   \n",
       "1                                      5.14                     5.71   \n",
       "2                                      4.19                     2.48   \n",
       "3                                     12.66                    10.45   \n",
       "4                                      6.46                     4.86   \n",
       "\n",
       "   perc_feedback_responses_recipes  perc_feedback_responses_experiences  \\\n",
       "0                            17.21                                13.79   \n",
       "1                            12.39                                 2.12   \n",
       "2                             3.35                                 1.89   \n",
       "3                            15.57                                 3.35   \n",
       "4                             8.20                                 3.49   \n",
       "\n",
       "   perc_in_curriculum  perc_recipes_in_curriculum  \\\n",
       "0               93.49                       68.79   \n",
       "1               93.31                       30.81   \n",
       "2               84.72                       29.81   \n",
       "3               89.24                       52.81   \n",
       "4               93.49                       26.12   \n",
       "\n",
       "   perc_experiences_in_curriculum  perc_in_curriculum_insert_date  \\\n",
       "0                           24.70                           16.54   \n",
       "1                           62.50                            7.38   \n",
       "2                           54.91                            0.12   \n",
       "3                           36.43                           14.98   \n",
       "4                           67.37                           13.75   \n",
       "\n",
       "   perc_recipes_in_curriculum_insert_date  \\\n",
       "0                                   12.65   \n",
       "1                                    5.02   \n",
       "2                                    0.00   \n",
       "3                                   11.15   \n",
       "4                                    3.76   \n",
       "\n",
       "   perc_experiences_in_curriculum_insert_date  \n",
       "0                                        3.89  \n",
       "1                                        2.36  \n",
       "2                                        0.12  \n",
       "3                                        3.82  \n",
       "4                                        9.99  "
      ]
     },
     "execution_count": 53,
     "metadata": {},
     "output_type": "execute_result"
    }
   ],
   "source": [
    "df_months_supervisors = pd.read_csv(f\"{data_folder}months_supervisors.csv\").fillna(0).sort_values(by=['month','activity_school_year'])\n",
    "df_months_supervisors.head()"
   ]
  },
  {
   "cell_type": "markdown",
   "metadata": {},
   "source": [
    "### Feedbacks"
   ]
  },
  {
   "cell_type": "code",
   "execution_count": 54,
   "metadata": {},
   "outputs": [],
   "source": [
    "normalizePer(df_months_supervisors,'perc_total_feedback_responses_recipes',\n",
    "             'n_feedback_responses','activity_school_year','n_feedback_responses_recipes')\n",
    "normalizePer(df_months_supervisors,'perc_total_feedback_responses_experiences',\n",
    "             'n_feedback_responses','activity_school_year','n_feedback_responses_experiences')"
   ]
  },
  {
   "cell_type": "code",
   "execution_count": 55,
   "metadata": {},
   "outputs": [
    {
     "data": {
      "application/javascript": [
       "element.append('<div id=\"chartdiv_6521958f-a571-11ea-99d2-7c5cf8500ef5\" style=\"height: 500px;\"></div>');"
      ],
      "text/plain": [
       "<IPython.core.display.Javascript object>"
      ]
     },
     "metadata": {},
     "output_type": "display_data"
    },
    {
     "data": {
      "application/javascript": [
       "$('#chartdiv_6521958f-a571-11ea-99d2-7c5cf8500ef5').parent(\"div\").css(\"width\",\"100%\").css(\"overflow-y\",\"hidden\");"
      ],
      "text/plain": [
       "<IPython.core.display.Javascript object>"
      ]
     },
     "metadata": {},
     "output_type": "display_data"
    },
    {
     "data": {
      "application/javascript": [
       "var params = {};params['title'] = \"% of feedback responses over the school year\";params['y_title'] = \"% of responses\";params['x_title'] = \"year\";params['hues'] = [1, 2, 3, 4, 5, 6, 7, 8, 9, 10, 11, 12];params['data'] = [{'x': 1, 'month 1 - perc_total_feedback_responses_recipes': 10.631443298969073, 'month 1 - perc_total_feedback_responses_experiences': 3.350515463917526, 'month 2 - perc_total_feedback_responses_recipes': 7.474226804123711, 'month 2 - perc_total_feedback_responses_experiences': 1.1597938144329898, 'month 3 - perc_total_feedback_responses_recipes': 9.02061855670103, 'month 3 - perc_total_feedback_responses_experiences': 1.8685567010309279, 'month 4 - perc_total_feedback_responses_recipes': 6.185567010309279, 'month 4 - perc_total_feedback_responses_experiences': 3.543814432989691, 'month 5 - perc_total_feedback_responses_recipes': 10.1159793814433, 'month 5 - perc_total_feedback_responses_experiences': 2.3195876288659796, 'month 6 - perc_total_feedback_responses_recipes': 2.770618556701031, 'month 6 - perc_total_feedback_responses_experiences': 3.1572164948453607, 'month 7 - perc_total_feedback_responses_recipes': 1.0309278350515465, 'month 7 - perc_total_feedback_responses_experiences': 0.9020618556701031, 'month 8 - perc_total_feedback_responses_recipes': 0.0, 'month 8 - perc_total_feedback_responses_experiences': 0.0, 'month 9 - perc_total_feedback_responses_recipes': 0.9020618556701031, 'month 9 - perc_total_feedback_responses_experiences': 0.2577319587628866, 'month 10 - perc_total_feedback_responses_recipes': 6.765463917525773, 'month 10 - perc_total_feedback_responses_experiences': 2.577319587628866, 'month 11 - perc_total_feedback_responses_recipes': 12.88659793814433, 'month 11 - perc_total_feedback_responses_experiences': 2.8350515463917527, 'month 12 - perc_total_feedback_responses_recipes': 8.505154639175258, 'month 12 - perc_total_feedback_responses_experiences': 1.7396907216494846}, {'x': 2, 'month 1 - perc_total_feedback_responses_recipes': 5.098493626882966, 'month 1 - perc_total_feedback_responses_experiences': 1.6222479721900347, 'month 2 - perc_total_feedback_responses_recipes': 3.0127462340672073, 'month 2 - perc_total_feedback_responses_experiences': 3.128621089223638, 'month 3 - perc_total_feedback_responses_recipes': 8.111239860950173, 'month 3 - perc_total_feedback_responses_experiences': 2.549246813441483, 'month 4 - perc_total_feedback_responses_recipes': 7.647740440324449, 'month 4 - perc_total_feedback_responses_experiences': 1.7381228273464657, 'month 5 - perc_total_feedback_responses_recipes': 4.5191193511008105, 'month 5 - perc_total_feedback_responses_experiences': 3.2444959443800694, 'month 6 - perc_total_feedback_responses_recipes': 1.5063731170336037, 'month 6 - perc_total_feedback_responses_experiences': 2.0857473928157586, 'month 7 - perc_total_feedback_responses_recipes': 1.0428736964078793, 'month 7 - perc_total_feedback_responses_experiences': 0.6952491309385863, 'month 8 - perc_total_feedback_responses_recipes': 5.5619930475086905, 'month 8 - perc_total_feedback_responses_experiences': 2.7809965237543453, 'month 9 - perc_total_feedback_responses_recipes': 5.214368482039397, 'month 9 - perc_total_feedback_responses_experiences': 3.2444959443800694, 'month 10 - perc_total_feedback_responses_recipes': 9.501738122827346, 'month 10 - perc_total_feedback_responses_experiences': 7.068366164542294, 'month 11 - perc_total_feedback_responses_recipes': 9.96523754345307, 'month 11 - perc_total_feedback_responses_experiences': 4.055619930475086, 'month 12 - perc_total_feedback_responses_recipes': 4.055619930475086, 'month 12 - perc_total_feedback_responses_experiences': 2.549246813441483}, {'x': 3, 'month 1 - perc_total_feedback_responses_recipes': 4.014598540145985, 'month 1 - perc_total_feedback_responses_experiences': 3.284671532846715, 'month 2 - perc_total_feedback_responses_recipes': 2.18978102189781, 'month 2 - perc_total_feedback_responses_experiences': 3.284671532846715, 'month 3 - perc_total_feedback_responses_recipes': 1.824817518248175, 'month 3 - perc_total_feedback_responses_experiences': 0.36496350364963503, 'month 4 - perc_total_feedback_responses_recipes': 1.824817518248175, 'month 4 - perc_total_feedback_responses_experiences': 1.4598540145985401, 'month 5 - perc_total_feedback_responses_recipes': 2.9197080291970803, 'month 5 - perc_total_feedback_responses_experiences': 3.284671532846715, 'month 6 - perc_total_feedback_responses_recipes': 0.7299270072992701, 'month 6 - perc_total_feedback_responses_experiences': 5.474452554744525, 'month 7 - perc_total_feedback_responses_recipes': 0.0, 'month 7 - perc_total_feedback_responses_experiences': 0.0, 'month 8 - perc_total_feedback_responses_recipes': 5.10948905109489, 'month 8 - perc_total_feedback_responses_experiences': 5.474452554744525, 'month 9 - perc_total_feedback_responses_recipes': 9.124087591240874, 'month 9 - perc_total_feedback_responses_experiences': 5.474452554744525, 'month 10 - perc_total_feedback_responses_recipes': 5.839416058394161, 'month 10 - perc_total_feedback_responses_experiences': 25.182481751824817, 'month 11 - perc_total_feedback_responses_recipes': 6.204379562043795, 'month 11 - perc_total_feedback_responses_experiences': 5.10948905109489, 'month 12 - perc_total_feedback_responses_recipes': 1.824817518248175, 'month 12 - perc_total_feedback_responses_experiences': 0.0}];params['x_vals'] = [1, 2, 3];params['stacks'] = 2;params['series'] = {'month 1 - perc_total_feedback_responses_recipes': 0, 'month 1 - perc_total_feedback_responses_experiences': 1, 'month 2 - perc_total_feedback_responses_recipes': 0, 'month 2 - perc_total_feedback_responses_experiences': 1, 'month 3 - perc_total_feedback_responses_recipes': 0, 'month 3 - perc_total_feedback_responses_experiences': 1, 'month 4 - perc_total_feedback_responses_recipes': 0, 'month 4 - perc_total_feedback_responses_experiences': 1, 'month 5 - perc_total_feedback_responses_recipes': 0, 'month 5 - perc_total_feedback_responses_experiences': 1, 'month 6 - perc_total_feedback_responses_recipes': 0, 'month 6 - perc_total_feedback_responses_experiences': 1, 'month 7 - perc_total_feedback_responses_recipes': 0, 'month 7 - perc_total_feedback_responses_experiences': 1, 'month 8 - perc_total_feedback_responses_recipes': 0, 'month 8 - perc_total_feedback_responses_experiences': 1, 'month 9 - perc_total_feedback_responses_recipes': 0, 'month 9 - perc_total_feedback_responses_experiences': 1, 'month 10 - perc_total_feedback_responses_recipes': 0, 'month 10 - perc_total_feedback_responses_experiences': 1, 'month 11 - perc_total_feedback_responses_recipes': 0, 'month 11 - perc_total_feedback_responses_experiences': 1, 'month 12 - perc_total_feedback_responses_recipes': 0, 'month 12 - perc_total_feedback_responses_experiences': 1};params['x_names_map'] = 0;params['legend'] = false;\n",
       "        require(['amchart_core', 'amchart_charts', 'amcharts4/themes/animated', 'amcharts4/themes/frozen'], columnCallback(params,\"chartdiv_6521958f-a571-11ea-99d2-7c5cf8500ef5\") , function (err) {\n",
       "            console.log(err);\n",
       "        });\n",
       "        "
      ],
      "text/plain": [
       "<IPython.core.display.Javascript object>"
      ]
     },
     "metadata": {},
     "output_type": "display_data"
    }
   ],
   "source": [
    "column = am4.ColumnChart()\n",
    "column.setTitle(\"% of feedback responses over the school year\")\n",
    "column.set_y_label(\"% of responses\")\n",
    "column.set_x_label(\"year\")\n",
    "column.fromDataFrame(df_months_supervisors, \"activity_school_year\", \n",
    "                     ['perc_total_feedback_responses_recipes','perc_total_feedback_responses_experiences'], \n",
    "                     hue=\"month\", hue_prefix=\"month \",\n",
    "                     show_legend = False\n",
    "                    )\n",
    "column.plot()"
   ]
  },
  {
   "cell_type": "code",
   "execution_count": 56,
   "metadata": {},
   "outputs": [],
   "source": [
    "df_months_supervisors['ration_response'] = (df_months_supervisors['n_feedback_responses']/df_months['n_feedback_requests']).fillna(0)"
   ]
  },
  {
   "cell_type": "code",
   "execution_count": 57,
   "metadata": {},
   "outputs": [
    {
     "data": {
      "application/javascript": [
       "element.append('<div id=\"chartdiv_66ac32a4-a571-11ea-8b69-7c5cf8500ef5\" style=\"height: 500px;\"></div>');"
      ],
      "text/plain": [
       "<IPython.core.display.Javascript object>"
      ]
     },
     "metadata": {},
     "output_type": "display_data"
    },
    {
     "data": {
      "application/javascript": [
       "$('#chartdiv_66ac32a4-a571-11ea-8b69-7c5cf8500ef5').parent(\"div\").css(\"width\",\"100%\").css(\"overflow-y\",\"hidden\");"
      ],
      "text/plain": [
       "<IPython.core.display.Javascript object>"
      ]
     },
     "metadata": {},
     "output_type": "display_data"
    },
    {
     "data": {
      "application/javascript": [
       "var params = {};params['title'] = \"Ratio responses/requests\";params['y_title'] = \"responses/request\";params['x_title'] = \"year\";params['hues'] = [1, 2, 3, 4, 5, 6, 7, 8, 9, 10, 11, 12];params['data'] = [{'x': 1, 'month 1': 0.7431506849315068, 'month 2': 0.5381526104417671, 'month 3': 0.6525096525096525, 'month 4': 0.7156398104265402, 'month 5': 0.6327868852459017, 'month 6': 0.8141592920353983, 'month 7': 0.4166666666666667, 'month 8': 0.0, 'month 9': 0.6428571428571429, 'month 10': 0.7591623036649214, 'month 11': 0.7113702623906706, 'month 12': 0.775609756097561}, {'x': 2, 'month 1': 0.6041666666666666, 'month 2': 0.6091954022988506, 'month 3': 0.5679012345679012, 'month 4': 0.648, 'month 5': 0.5775862068965517, 'month 6': 0.5849056603773585, 'month 7': 0.6, 'month 8': 0.8089887640449438, 'month 9': 0.6886792452830188, 'month 10': 0.7333333333333333, 'month 11': 0.7515527950310559, 'month 12': 0.6867469879518072}, {'x': 3, 'month 1': 0.46511627906976744, 'month 2': 0.3333333333333333, 'month 3': 0.04580152671755725, 'month 4': 0.15254237288135594, 'month 5': 0.12056737588652482, 'month 6': 0.06439393939393939, 'month 7': 0.0, 'month 8': 0.5686274509803921, 'month 9': 0.5194805194805194, 'month 10': 0.6204379562043796, 'month 11': 0.34831460674157305, 'month 12': 0.09803921568627451}];params['x_vals'] = [1, 2, 3];params['stacks'] = 1;params['series'] = {'month 1': 0, 'month 2': 0, 'month 3': 0, 'month 4': 0, 'month 5': 0, 'month 6': 0, 'month 7': 0, 'month 8': 0, 'month 9': 0, 'month 10': 0, 'month 11': 0, 'month 12': 0};params['x_names_map'] = 0;params['legend'] = false;\n",
       "        require(['amchart_core', 'amchart_charts', 'amcharts4/themes/animated', 'amcharts4/themes/frozen'], columnCallback(params,\"chartdiv_66ac32a4-a571-11ea-8b69-7c5cf8500ef5\") , function (err) {\n",
       "            console.log(err);\n",
       "        });\n",
       "        "
      ],
      "text/plain": [
       "<IPython.core.display.Javascript object>"
      ]
     },
     "metadata": {},
     "output_type": "display_data"
    }
   ],
   "source": [
    "column = am4.ColumnChart()\n",
    "column.setTitle(\"Ratio responses/requests\")\n",
    "column.set_y_label(\"responses/request\")\n",
    "column.set_x_label(\"year\")\n",
    "column.fromDataFrame(df_months_supervisors, \"activity_school_year\", \n",
    "                     ['ration_response'], \n",
    "                     hue=\"month\", hue_prefix=\"month \",\n",
    "                     show_legend = False\n",
    "                    )\n",
    "column.plot()"
   ]
  },
  {
   "cell_type": "code",
   "execution_count": 58,
   "metadata": {},
   "outputs": [
    {
     "data": {
      "application/javascript": [
       "element.append('<div id=\"chartdiv_676a2aae-a571-11ea-9cde-7c5cf8500ef5\" style=\"height: 500px;\"></div>');"
      ],
      "text/plain": [
       "<IPython.core.display.Javascript object>"
      ]
     },
     "metadata": {},
     "output_type": "display_data"
    },
    {
     "data": {
      "application/javascript": [
       "$('#chartdiv_676a2aae-a571-11ea-9cde-7c5cf8500ef5').parent(\"div\").css(\"width\",\"100%\").css(\"overflow-y\",\"hidden\");"
      ],
      "text/plain": [
       "<IPython.core.display.Javascript object>"
      ]
     },
     "metadata": {},
     "output_type": "display_data"
    },
    {
     "data": {
      "application/javascript": [
       "var params = {};params['title'] = \"Total length of average feedbacks per month\";params['y_title'] = \"Total length\";params['x_title'] = \"year\";params['hues'] = [1, 2, 3, 4, 5, 6, 7, 8, 9, 10, 11, 12];params['data'] = [{'x': 1, 'month 1 - avg_len_bilancio': 4.38, 'month 1 - avg_len_competenze': 7.55, 'month 1 - avg_len_miglioramenti': 4.01, 'month 1 - avg_len_critici': 3.44, 'month 2 - avg_len_bilancio': 4.48, 'month 2 - avg_len_competenze': 7.74, 'month 2 - avg_len_miglioramenti': 3.86, 'month 2 - avg_len_critici': 5.26, 'month 3 - avg_len_bilancio': 4.43, 'month 3 - avg_len_competenze': 9.04, 'month 3 - avg_len_miglioramenti': 4.84, 'month 3 - avg_len_critici': 4.01, 'month 4 - avg_len_bilancio': 4.55, 'month 4 - avg_len_competenze': 5.89, 'month 4 - avg_len_miglioramenti': 3.89, 'month 4 - avg_len_critici': 4.45, 'month 5 - avg_len_bilancio': 4.54, 'month 5 - avg_len_competenze': 6.52, 'month 5 - avg_len_miglioramenti': 4.27, 'month 5 - avg_len_critici': 4.5, 'month 6 - avg_len_bilancio': 3.08, 'month 6 - avg_len_competenze': 4.01, 'month 6 - avg_len_miglioramenti': 4.25, 'month 6 - avg_len_critici': 4.02, 'month 7 - avg_len_bilancio': 3.23, 'month 7 - avg_len_competenze': 5.14, 'month 7 - avg_len_miglioramenti': 3.18, 'month 7 - avg_len_critici': 5.09, 'month 8 - avg_len_bilancio': 0.0, 'month 8 - avg_len_competenze': 0.0, 'month 8 - avg_len_miglioramenti': 0.0, 'month 8 - avg_len_critici': 0.0, 'month 9 - avg_len_bilancio': 5.97, 'month 9 - avg_len_competenze': 12.39, 'month 9 - avg_len_miglioramenti': 7.78, 'month 9 - avg_len_critici': 5.67, 'month 10 - avg_len_bilancio': 3.71, 'month 10 - avg_len_competenze': 6.1, 'month 10 - avg_len_miglioramenti': 3.62, 'month 10 - avg_len_critici': 4.26, 'month 11 - avg_len_bilancio': 3.56, 'month 11 - avg_len_competenze': 7.17, 'month 11 - avg_len_miglioramenti': 3.99, 'month 11 - avg_len_critici': 4.75, 'month 12 - avg_len_bilancio': 4.72, 'month 12 - avg_len_competenze': 7.13, 'month 12 - avg_len_miglioramenti': 4.22, 'month 12 - avg_len_critici': 4.87}, {'x': 2, 'month 1 - avg_len_bilancio': 3.02, 'month 1 - avg_len_competenze': 4.77, 'month 1 - avg_len_miglioramenti': 3.31, 'month 1 - avg_len_critici': 2.32, 'month 2 - avg_len_bilancio': 4.3, 'month 2 - avg_len_competenze': 6.25, 'month 2 - avg_len_miglioramenti': 2.92, 'month 2 - avg_len_critici': 3.9, 'month 3 - avg_len_bilancio': 4.91, 'month 3 - avg_len_competenze': 6.02, 'month 3 - avg_len_miglioramenti': 4.63, 'month 3 - avg_len_critici': 3.49, 'month 4 - avg_len_bilancio': 4.35, 'month 4 - avg_len_competenze': 6.59, 'month 4 - avg_len_miglioramenti': 3.55, 'month 4 - avg_len_critici': 7.82, 'month 5 - avg_len_bilancio': 5.37, 'month 5 - avg_len_competenze': 8.2, 'month 5 - avg_len_miglioramenti': 5.89, 'month 5 - avg_len_critici': 6.26, 'month 6 - avg_len_bilancio': 6.76, 'month 6 - avg_len_competenze': 6.13, 'month 6 - avg_len_miglioramenti': 5.07, 'month 6 - avg_len_critici': 6.82, 'month 7 - avg_len_bilancio': 3.47, 'month 7 - avg_len_competenze': 9.1, 'month 7 - avg_len_miglioramenti': 6.63, 'month 7 - avg_len_critici': 5.77, 'month 8 - avg_len_bilancio': 5.57, 'month 8 - avg_len_competenze': 6.13, 'month 8 - avg_len_miglioramenti': 6.68, 'month 8 - avg_len_critici': 4.53, 'month 9 - avg_len_bilancio': 4.93, 'month 9 - avg_len_competenze': 6.39, 'month 9 - avg_len_miglioramenti': 4.52, 'month 9 - avg_len_critici': 5.89, 'month 10 - avg_len_bilancio': 4.15, 'month 10 - avg_len_competenze': 4.4, 'month 10 - avg_len_miglioramenti': 4.17, 'month 10 - avg_len_critici': 3.89, 'month 11 - avg_len_bilancio': 3.96, 'month 11 - avg_len_competenze': 5.81, 'month 11 - avg_len_miglioramenti': 4.6, 'month 11 - avg_len_critici': 3.16, 'month 12 - avg_len_bilancio': 4.88, 'month 12 - avg_len_competenze': 6.85, 'month 12 - avg_len_miglioramenti': 5.93, 'month 12 - avg_len_critici': 4.83}, {'x': 3, 'month 1 - avg_len_bilancio': 5.03, 'month 1 - avg_len_competenze': 5.69, 'month 1 - avg_len_miglioramenti': 7.17, 'month 1 - avg_len_critici': 4.0, 'month 2 - avg_len_bilancio': 5.04, 'month 2 - avg_len_competenze': 8.78, 'month 2 - avg_len_miglioramenti': 6.15, 'month 2 - avg_len_critici': 5.26, 'month 3 - avg_len_bilancio': 4.25, 'month 3 - avg_len_competenze': 7.92, 'month 3 - avg_len_miglioramenti': 2.5, 'month 3 - avg_len_critici': 13.17, 'month 4 - avg_len_bilancio': 0.67, 'month 4 - avg_len_competenze': 6.2, 'month 4 - avg_len_miglioramenti': 2.67, 'month 4 - avg_len_critici': 4.0, 'month 5 - avg_len_bilancio': 5.37, 'month 5 - avg_len_competenze': 5.0, 'month 5 - avg_len_miglioramenti': 12.52, 'month 5 - avg_len_critici': 7.81, 'month 6 - avg_len_bilancio': 1.81, 'month 6 - avg_len_competenze': 3.63, 'month 6 - avg_len_miglioramenti': 5.69, 'month 6 - avg_len_critici': 4.44, 'month 7 - avg_len_bilancio': 0.0, 'month 7 - avg_len_competenze': 0.0, 'month 7 - avg_len_miglioramenti': 0.0, 'month 7 - avg_len_critici': 0.0, 'month 8 - avg_len_bilancio': 3.91, 'month 8 - avg_len_competenze': 8.76, 'month 8 - avg_len_miglioramenti': 4.93, 'month 8 - avg_len_critici': 5.24, 'month 9 - avg_len_bilancio': 4.28, 'month 9 - avg_len_competenze': 10.2, 'month 9 - avg_len_miglioramenti': 3.39, 'month 9 - avg_len_critici': 8.66, 'month 10 - avg_len_bilancio': 4.07, 'month 10 - avg_len_competenze': 4.11, 'month 10 - avg_len_miglioramenti': 2.27, 'month 10 - avg_len_critici': 3.23, 'month 11 - avg_len_bilancio': 2.62, 'month 11 - avg_len_competenze': 7.46, 'month 11 - avg_len_miglioramenti': 5.13, 'month 11 - avg_len_critici': 6.27, 'month 12 - avg_len_bilancio': 1.83, 'month 12 - avg_len_competenze': 4.33, 'month 12 - avg_len_miglioramenti': 4.67, 'month 12 - avg_len_critici': 3.67}];params['x_vals'] = [1, 2, 3];params['stacks'] = 4;params['series'] = {'month 1 - avg_len_bilancio': 0, 'month 1 - avg_len_competenze': 1, 'month 1 - avg_len_miglioramenti': 1, 'month 1 - avg_len_critici': 1, 'month 2 - avg_len_bilancio': 0, 'month 2 - avg_len_competenze': 1, 'month 2 - avg_len_miglioramenti': 1, 'month 2 - avg_len_critici': 1, 'month 3 - avg_len_bilancio': 0, 'month 3 - avg_len_competenze': 1, 'month 3 - avg_len_miglioramenti': 1, 'month 3 - avg_len_critici': 1, 'month 4 - avg_len_bilancio': 0, 'month 4 - avg_len_competenze': 1, 'month 4 - avg_len_miglioramenti': 1, 'month 4 - avg_len_critici': 1, 'month 5 - avg_len_bilancio': 0, 'month 5 - avg_len_competenze': 1, 'month 5 - avg_len_miglioramenti': 1, 'month 5 - avg_len_critici': 1, 'month 6 - avg_len_bilancio': 0, 'month 6 - avg_len_competenze': 1, 'month 6 - avg_len_miglioramenti': 1, 'month 6 - avg_len_critici': 1, 'month 7 - avg_len_bilancio': 0, 'month 7 - avg_len_competenze': 1, 'month 7 - avg_len_miglioramenti': 1, 'month 7 - avg_len_critici': 1, 'month 8 - avg_len_bilancio': 0, 'month 8 - avg_len_competenze': 1, 'month 8 - avg_len_miglioramenti': 1, 'month 8 - avg_len_critici': 1, 'month 9 - avg_len_bilancio': 0, 'month 9 - avg_len_competenze': 1, 'month 9 - avg_len_miglioramenti': 1, 'month 9 - avg_len_critici': 1, 'month 10 - avg_len_bilancio': 0, 'month 10 - avg_len_competenze': 1, 'month 10 - avg_len_miglioramenti': 1, 'month 10 - avg_len_critici': 1, 'month 11 - avg_len_bilancio': 0, 'month 11 - avg_len_competenze': 1, 'month 11 - avg_len_miglioramenti': 1, 'month 11 - avg_len_critici': 1, 'month 12 - avg_len_bilancio': 0, 'month 12 - avg_len_competenze': 1, 'month 12 - avg_len_miglioramenti': 1, 'month 12 - avg_len_critici': 1};params['x_names_map'] = 0;params['legend'] = false;\n",
       "        require(['amchart_core', 'amchart_charts', 'amcharts4/themes/animated', 'amcharts4/themes/frozen'], columnCallback(params,\"chartdiv_676a2aae-a571-11ea-9cde-7c5cf8500ef5\") , function (err) {\n",
       "            console.log(err);\n",
       "        });\n",
       "        "
      ],
      "text/plain": [
       "<IPython.core.display.Javascript object>"
      ]
     },
     "metadata": {},
     "output_type": "display_data"
    }
   ],
   "source": [
    "column = am4.ColumnChart()\n",
    "column.setTitle(\"Total length of average feedbacks per month\")\n",
    "column.set_y_label(\"Total length\")\n",
    "column.set_x_label(\"year\")\n",
    "column.fromDataFrame(df_months_supervisors, \"activity_school_year\", \n",
    "                     ['avg_len_bilancio','avg_len_competenze','avg_len_miglioramenti','avg_len_critici'], \n",
    "                     hue=\"month\", hue_prefix=\"month \",\n",
    "                     show_legend = False\n",
    "                    )\n",
    "column.plot()"
   ]
  },
  {
   "cell_type": "code",
   "execution_count": null,
   "metadata": {},
   "outputs": [],
   "source": []
  },
  {
   "cell_type": "code",
   "execution_count": 13,
   "metadata": {},
   "outputs": [],
   "source": [
    "df_supervisors_feedback = pd.read_csv(f\"{data_folder}supervisors_feedbacks.csv\")\n",
    "df_supervisors_feedback.fillna(0, inplace=True)\n",
    "df_supervisors_feedback['ratio'] = df_supervisors_feedback['sent']/df_supervisors_feedback['received']\n",
    "df_supervisors_feedback.loc[df_supervisors_feedback['ratio']>1,'ratio'] = 1.0"
   ]
  },
  {
   "cell_type": "code",
   "execution_count": 14,
   "metadata": {},
   "outputs": [
    {
     "data": {
      "application/javascript": [
       "element.append('<div id=\"chartdiv_4e2d5274-a569-11ea-9198-7c5cf8500ef5\" style=\"height: 500px;\"></div>');"
      ],
      "text/plain": [
       "<IPython.core.display.Javascript object>"
      ]
     },
     "metadata": {},
     "output_type": "display_data"
    },
    {
     "data": {
      "application/javascript": [
       "$('#chartdiv_4e2d5274-a569-11ea-9198-7c5cf8500ef5').parent(\"div\").css(\"width\",\"100%\").css(\"overflow-y\",\"hidden\");"
      ],
      "text/plain": [
       "<IPython.core.display.Javascript object>"
      ]
     },
     "metadata": {},
     "output_type": "display_data"
    },
    {
     "data": {
      "application/javascript": [
       "var params = {};params['title'] = \"Histogram: ratio responses/requests per supervisor\";params['y_title'] = \"log10 count\";params['x_title'] = \"ratio responses/requests\";params['data'] = [{'x': 0.0, 'count': 91}, {'x': 0.05, 'count': 1}, {'x': 0.1, 'count': 4}, {'x': 0.15, 'count': 5}, {'x': 0.2, 'count': 7}, {'x': 0.25, 'count': 5}, {'x': 0.3, 'count': 2}, {'x': 0.35, 'count': 3}, {'x': 0.4, 'count': 9}, {'x': 0.45, 'count': 3}, {'x': 0.5, 'count': 6}, {'x': 0.55, 'count': 6}, {'x': 0.6, 'count': 3}, {'x': 0.65, 'count': 3}, {'x': 0.7, 'count': 4}, {'x': 0.75, 'count': 2}, {'x': 0.8, 'count': 2}, {'x': 0.85, 'count': 1}, {'x': 0.9, 'count': 4}, {'x': 0.95, 'count': 3}, {'x': 1.0, 'count': 40}];params['x_vals'] = [0.0, 0.05, 0.1, 0.15, 0.2, 0.25, 0.3, 0.35, 0.4, 0.45, 0.5, 0.55, 0.6, 0.65, 0.7, 0.75, 0.8, 0.85, 0.9, 0.95, 1.0];params['stacks'] = 1;params['series'] = {'count': 0};params['x_names_map'] = 0;params['log_scale'] = true;params['legend'] = false;\n",
       "        require(['amchart_core', 'amchart_charts', 'amcharts4/themes/animated', 'amcharts4/themes/frozen'], columnCallback(params,\"chartdiv_4e2d5274-a569-11ea-9198-7c5cf8500ef5\") , function (err) {\n",
       "            console.log(err);\n",
       "        });\n",
       "        "
      ],
      "text/plain": [
       "<IPython.core.display.Javascript object>"
      ]
     },
     "metadata": {},
     "output_type": "display_data"
    }
   ],
   "source": [
    "bins = 21\n",
    "data_range = df_supervisors_feedback['ratio'].max()-df_supervisors_feedback['ratio'].min()\n",
    "hist_step  = data_range/(bins-1)\n",
    "\n",
    "df_supervisors_feedback['ratio_hist'] = round((df_supervisors_feedback['ratio']/hist_step).astype(int)*hist_step,2)\n",
    "\n",
    "df_hist = df_supervisors_feedback.groupby([\"ratio_hist\"]).count()[['us_user']].reset_index().rename(columns={'us_user': 'count'})\n",
    "\n",
    "chart = am4.ColumnChart()\n",
    "chart.setTitle(\"Histogram: ratio responses/requests per supervisor\")\n",
    "chart.set_y_label(\"log10 count\")\n",
    "chart.set_x_label(\"ratio responses/requests\")\n",
    "chart.fromDataFrame(df_hist, \"ratio_hist\", \"count\", log_scale=True,\n",
    "                    show_legend=False)\n",
    "chart.plot()"
   ]
  },
  {
   "cell_type": "code",
   "execution_count": 15,
   "metadata": {},
   "outputs": [
    {
     "data": {
      "application/javascript": [
       "element.append('<div id=\"chartdiv_4e5154fe-a569-11ea-8e6a-7c5cf8500ef5\" style=\"height: 500px;\"></div>');"
      ],
      "text/plain": [
       "<IPython.core.display.Javascript object>"
      ]
     },
     "metadata": {},
     "output_type": "display_data"
    },
    {
     "data": {
      "application/javascript": [
       "$('#chartdiv_4e5154fe-a569-11ea-8e6a-7c5cf8500ef5').parent(\"div\").css(\"width\",\"100%\").css(\"overflow-y\",\"hidden\");"
      ],
      "text/plain": [
       "<IPython.core.display.Javascript object>"
      ]
     },
     "metadata": {},
     "output_type": "display_data"
    },
    {
     "data": {
      "application/javascript": [
       "var params = {};params['title'] = \"Ratio responses/requests per each supervisor\";params['y_title'] = \"% responses over requests\";params['x_title'] = \"supervisors\";params['data'] = [{'x': 605, 'ratio': 0.0}, {'x': 703, 'ratio': 0.0}, {'x': 631, 'ratio': 0.0}, {'x': 501020, 'ratio': 0.0}, {'x': 593, 'ratio': 0.0}, {'x': 574, 'ratio': 0.0}, {'x': 567, 'ratio': 0.0}, {'x': 514, 'ratio': 0.0}, {'x': 510, 'ratio': 0.0}, {'x': 504, 'ratio': 0.0}, {'x': 483, 'ratio': 0.0}, {'x': 450, 'ratio': 0.0}, {'x': 704, 'ratio': 0.0}, {'x': 449, 'ratio': 0.0}, {'x': 429, 'ratio': 0.0}, {'x': 422, 'ratio': 0.0}, {'x': 392, 'ratio': 0.0}, {'x': 390, 'ratio': 0.0}, {'x': 389, 'ratio': 0.0}, {'x': 384, 'ratio': 0.0}, {'x': 383, 'ratio': 0.0}, {'x': 377, 'ratio': 0.0}, {'x': 362, 'ratio': 0.0}, {'x': 357, 'ratio': 0.0}, {'x': 341, 'ratio': 0.0}, {'x': 448, 'ratio': 0.0}, {'x': 339, 'ratio': 0.0}, {'x': 705, 'ratio': 0.0}, {'x': 762, 'ratio': 0.0}, {'x': 501003, 'ratio': 0.0}, {'x': 500999, 'ratio': 0.0}, {'x': 500955, 'ratio': 0.0}, {'x': 500944, 'ratio': 0.0}, {'x': 500939, 'ratio': 0.0}, {'x': 500862, 'ratio': 0.0}, {'x': 500852, 'ratio': 0.0}, {'x': 500849, 'ratio': 0.0}, {'x': 500848, 'ratio': 0.0}, {'x': 500847, 'ratio': 0.0}, {'x': 500839, 'ratio': 0.0}, {'x': 733, 'ratio': 0.0}, {'x': 500770, 'ratio': 0.0}, {'x': 500593, 'ratio': 0.0}, {'x': 500445, 'ratio': 0.0}, {'x': 500392, 'ratio': 0.0}, {'x': 500389, 'ratio': 0.0}, {'x': 500359, 'ratio': 0.0}, {'x': 500311, 'ratio': 0.0}, {'x': 500199, 'ratio': 0.0}, {'x': 500123, 'ratio': 0.0}, {'x': 500096, 'ratio': 0.0}, {'x': 786, 'ratio': 0.0}, {'x': 773, 'ratio': 0.0}, {'x': 500674, 'ratio': 0.0}, {'x': 335, 'ratio': 0.0}, {'x': 501026, 'ratio': 0.0}, {'x': 116, 'ratio': 0.0}, {'x': 201, 'ratio': 0.0}, {'x': 199, 'ratio': 0.0}, {'x': 196, 'ratio': 0.0}, {'x': 195, 'ratio': 0.0}, {'x': 192, 'ratio': 0.0}, {'x': 129, 'ratio': 0.0}, {'x': 86, 'ratio': 0.0}, {'x': 123, 'ratio': 0.0}, {'x': 117, 'ratio': 0.0}, {'x': 99, 'ratio': 0.0}, {'x': 95, 'ratio': 0.0}, {'x': 112, 'ratio': 0.0}, {'x': 90, 'ratio': 0.0}, {'x': 111, 'ratio': 0.0}, {'x': 331, 'ratio': 0.0}, {'x': 110, 'ratio': 0.0}, {'x': 109, 'ratio': 0.0}, {'x': 102, 'ratio': 0.0}, {'x': 108, 'ratio': 0.0}, {'x': 103, 'ratio': 0.0}, {'x': 114, 'ratio': 0.0}, {'x': 202, 'ratio': 0.0}, {'x': 126, 'ratio': 0.0}, {'x': 6, 'ratio': 0.0}, {'x': 96, 'ratio': 0.0}, {'x': 329, 'ratio': 0.0}, {'x': 328, 'ratio': 0.0}, {'x': 318, 'ratio': 0.0}, {'x': 314, 'ratio': 0.0}, {'x': 105, 'ratio': 0.0}, {'x': 311, 'ratio': 0.0}, {'x': 302, 'ratio': 0.02857142857142857}, {'x': 500625, 'ratio': 0.041666666666666664}, {'x': 317, 'ratio': 0.04285714285714286}, {'x': 342, 'ratio': 0.07792207792207792}, {'x': 500864, 'ratio': 0.1111111111111111}, {'x': 500317, 'ratio': 0.12}, {'x': 500903, 'ratio': 0.125}, {'x': 118, 'ratio': 0.15}, {'x': 92, 'ratio': 0.15789473684210525}, {'x': 100, 'ratio': 0.16666666666666666}, {'x': 97, 'ratio': 0.16666666666666666}, {'x': 128, 'ratio': 0.18055555555555555}, {'x': 662, 'ratio': 0.18181818181818182}, {'x': 500843, 'ratio': 0.2}, {'x': 312, 'ratio': 0.21951219512195122}, {'x': 427, 'ratio': 0.2222222222222222}, {'x': 771, 'ratio': 0.2222222222222222}, {'x': 353, 'ratio': 0.22388059701492538}, {'x': 500817, 'ratio': 0.23076923076923078}, {'x': 459, 'ratio': 0.23809523809523808}, {'x': 120, 'ratio': 0.25}, {'x': 500342, 'ratio': 0.25}, {'x': 500200, 'ratio': 0.2857142857142857}, {'x': 500964, 'ratio': 0.2857142857142857}, {'x': 500388, 'ratio': 0.3}, {'x': 500113, 'ratio': 0.3076923076923077}, {'x': 500961, 'ratio': 0.3333333333333333}, {'x': 89, 'ratio': 0.36363636363636365}, {'x': 541, 'ratio': 0.3880597014925373}, {'x': 451, 'ratio': 0.3953488372093023}, {'x': 345, 'ratio': 0.4}, {'x': 500974, 'ratio': 0.4117647058823529}, {'x': 500198, 'ratio': 0.42857142857142855}, {'x': 500948, 'ratio': 0.42857142857142855}, {'x': 501010, 'ratio': 0.43333333333333335}, {'x': 500312, 'ratio': 0.4336283185840708}, {'x': 500353, 'ratio': 0.4375}, {'x': 113, 'ratio': 0.4375}, {'x': 455, 'ratio': 0.4411764705882353}, {'x': 501012, 'ratio': 0.47058823529411764}, {'x': 340, 'ratio': 0.47058823529411764}, {'x': 788, 'ratio': 0.47368421052631576}, {'x': 372, 'ratio': 0.5}, {'x': 500905, 'ratio': 0.5}, {'x': 718, 'ratio': 0.5}, {'x': 500555, 'ratio': 0.5277777777777778}, {'x': 313, 'ratio': 0.53125}, {'x': 625, 'ratio': 0.5321428571428571}, {'x': 550, 'ratio': 0.5555555555555556}, {'x': 500203, 'ratio': 0.5636363636363636}, {'x': 770, 'ratio': 0.58}, {'x': 198, 'ratio': 0.5818181818181818}, {'x': 500615, 'ratio': 0.6}, {'x': 500860, 'ratio': 0.6}, {'x': 500378, 'ratio': 0.6296296296296297}, {'x': 500352, 'ratio': 0.6339285714285714}, {'x': 500663, 'ratio': 0.6470588235294118}, {'x': 767, 'ratio': 0.6551724137931034}, {'x': 101, 'ratio': 0.6720430107526881}, {'x': 500086, 'ratio': 0.6862745098039216}, {'x': 336, 'ratio': 0.7317784256559767}, {'x': 500897, 'ratio': 0.7368421052631579}, {'x': 378, 'ratio': 0.7435897435897436}, {'x': 500850, 'ratio': 0.7450980392156863}, {'x': 500904, 'ratio': 0.75}, {'x': 500722, 'ratio': 0.7857142857142857}, {'x': 121, 'ratio': 0.8}, {'x': 324, 'ratio': 0.8484848484848485}, {'x': 500118, 'ratio': 0.8571428571428571}, {'x': 500720, 'ratio': 0.9019607843137255}, {'x': 93, 'ratio': 0.9111111111111111}, {'x': 671, 'ratio': 0.9166666666666666}, {'x': 590, 'ratio': 0.9230769230769231}, {'x': 500424, 'ratio': 0.9550561797752809}, {'x': 452, 'ratio': 0.967741935483871}, {'x': 500455, 'ratio': 0.9714285714285714}, {'x': 87, 'ratio': 1.0}, {'x': 500910, 'ratio': 1.0}, {'x': 500856, 'ratio': 1.0}, {'x': 500994, 'ratio': 1.0}, {'x': 500902, 'ratio': 1.0}, {'x': 5, 'ratio': 1.0}, {'x': 500901, 'ratio': 1.0}, {'x': 501015, 'ratio': 1.0}, {'x': 500899, 'ratio': 1.0}, {'x': 500972, 'ratio': 1.0}, {'x': 500194, 'ratio': 1.0}, {'x': 500769, 'ratio': 1.0}, {'x': 330, 'ratio': 1.0}, {'x': 343, 'ratio': 1.0}, {'x': 346, 'ratio': 1.0}, {'x': 369, 'ratio': 1.0}, {'x': 424, 'ratio': 1.0}, {'x': 446, 'ratio': 1.0}, {'x': 200, 'ratio': 1.0}, {'x': 485, 'ratio': 1.0}, {'x': 194, 'ratio': 1.0}, {'x': 559, 'ratio': 1.0}, {'x': 576, 'ratio': 1.0}, {'x': 610, 'ratio': 1.0}, {'x': 500819, 'ratio': 1.0}, {'x': 615, 'ratio': 1.0}, {'x': 787, 'ratio': 1.0}, {'x': 500093, 'ratio': 1.0}, {'x': 500101, 'ratio': 1.0}, {'x': 500306, 'ratio': 1.0}, {'x': 500336, 'ratio': 1.0}, {'x': 500369, 'ratio': 1.0}, {'x': 500377, 'ratio': 1.0}, {'x': 500427, 'ratio': 1.0}, {'x': 500429, 'ratio': 1.0}, {'x': 500485, 'ratio': 1.0}, {'x': 500504, 'ratio': 1.0}, {'x': 500767, 'ratio': 1.0}, {'x': 663, 'ratio': 1.0}, {'x': 4, 'ratio': 1.0}];params['x_vals'] = [605, 703, 631, 501020, 593, 574, 567, 514, 510, 504, 483, 450, 704, 449, 429, 422, 392, 390, 389, 384, 383, 377, 362, 357, 341, 448, 339, 705, 762, 501003, 500999, 500955, 500944, 500939, 500862, 500852, 500849, 500848, 500847, 500839, 733, 500770, 500593, 500445, 500392, 500389, 500359, 500311, 500199, 500123, 500096, 786, 773, 500674, 335, 501026, 116, 201, 199, 196, 195, 192, 129, 86, 123, 117, 99, 95, 112, 90, 111, 331, 110, 109, 102, 108, 103, 114, 202, 126, 6, 96, 329, 328, 318, 314, 105, 311, 302, 500625, 317, 342, 500864, 500317, 500903, 118, 92, 100, 97, 128, 662, 500843, 312, 427, 771, 353, 500817, 459, 120, 500342, 500200, 500964, 500388, 500113, 500961, 89, 541, 451, 345, 500974, 500198, 500948, 501010, 500312, 500353, 113, 455, 501012, 340, 788, 372, 500905, 718, 500555, 313, 625, 550, 500203, 770, 198, 500615, 500860, 500378, 500352, 500663, 767, 101, 500086, 336, 500897, 378, 500850, 500904, 500722, 121, 324, 500118, 500720, 93, 671, 590, 500424, 452, 500455, 87, 500910, 500856, 500994, 500902, 5, 500901, 501015, 500899, 500972, 500194, 500769, 330, 343, 346, 369, 424, 446, 200, 485, 194, 559, 576, 610, 500819, 615, 787, 500093, 500101, 500306, 500336, 500369, 500377, 500427, 500429, 500485, 500504, 500767, 663, 4];params['stacks'] = 1;params['series'] = {'ratio': 0};params['x_names_map'] = 0;params['hide_x_labels'] = true;params['legend'] = false;\n",
       "        require(['amchart_core', 'amchart_charts', 'amcharts4/themes/animated', 'amcharts4/themes/frozen'], columnCallback(params,\"chartdiv_4e5154fe-a569-11ea-8e6a-7c5cf8500ef5\") , function (err) {\n",
       "            console.log(err);\n",
       "        });\n",
       "        "
      ],
      "text/plain": [
       "<IPython.core.display.Javascript object>"
      ]
     },
     "metadata": {},
     "output_type": "display_data"
    }
   ],
   "source": [
    "chart = am4.ColumnChart()\n",
    "chart.setTitle(\"Ratio responses/requests per each supervisor\")\n",
    "chart.set_y_label(\"% responses over requests\")\n",
    "chart.set_x_label(\"supervisors\")\n",
    "chart.fromDataFrame(df_supervisors_feedback, \"us_user\", \"ratio\",\n",
    "                    sorter=\"ratio\", \n",
    "                    hide_x_labels = True,\n",
    "                    show_legend=False)\n",
    "chart.plot()"
   ]
  },
  {
   "cell_type": "code",
   "execution_count": 16,
   "metadata": {},
   "outputs": [
    {
     "data": {
      "text/html": [
       "<div>\n",
       "<style scoped>\n",
       "    .dataframe tbody tr th:only-of-type {\n",
       "        vertical-align: middle;\n",
       "    }\n",
       "\n",
       "    .dataframe tbody tr th {\n",
       "        vertical-align: top;\n",
       "    }\n",
       "\n",
       "    .dataframe thead th {\n",
       "        text-align: right;\n",
       "    }\n",
       "</style>\n",
       "<table border=\"1\" class=\"dataframe\">\n",
       "  <thead>\n",
       "    <tr style=\"text-align: right;\">\n",
       "      <th></th>\n",
       "      <th>ac_activity</th>\n",
       "      <th>request_date</th>\n",
       "      <th>response_date</th>\n",
       "      <th>delay_hours</th>\n",
       "      <th>edits_between</th>\n",
       "      <th>edits_after</th>\n",
       "      <th>times_before_answer</th>\n",
       "      <th>activity_school_year</th>\n",
       "    </tr>\n",
       "  </thead>\n",
       "  <tbody>\n",
       "    <tr>\n",
       "      <th>0</th>\n",
       "      <td>438</td>\n",
       "      <td>2014-02-04 13:57:46</td>\n",
       "      <td>NaN</td>\n",
       "      <td>NaN</td>\n",
       "      <td>0</td>\n",
       "      <td>0</td>\n",
       "      <td>1</td>\n",
       "      <td>1</td>\n",
       "    </tr>\n",
       "    <tr>\n",
       "      <th>1</th>\n",
       "      <td>579</td>\n",
       "      <td>2014-02-04 15:20:18</td>\n",
       "      <td>NaN</td>\n",
       "      <td>NaN</td>\n",
       "      <td>0</td>\n",
       "      <td>0</td>\n",
       "      <td>1</td>\n",
       "      <td>1</td>\n",
       "    </tr>\n",
       "    <tr>\n",
       "      <th>2</th>\n",
       "      <td>723</td>\n",
       "      <td>2014-02-20 14:42:12</td>\n",
       "      <td>2014-11-17 20:59:09</td>\n",
       "      <td>6486.0</td>\n",
       "      <td>1</td>\n",
       "      <td>0</td>\n",
       "      <td>1</td>\n",
       "      <td>1</td>\n",
       "    </tr>\n",
       "    <tr>\n",
       "      <th>3</th>\n",
       "      <td>844</td>\n",
       "      <td>2014-02-25 13:32:38</td>\n",
       "      <td>NaN</td>\n",
       "      <td>NaN</td>\n",
       "      <td>0</td>\n",
       "      <td>0</td>\n",
       "      <td>2</td>\n",
       "      <td>1</td>\n",
       "    </tr>\n",
       "    <tr>\n",
       "      <th>4</th>\n",
       "      <td>845</td>\n",
       "      <td>2014-02-25 14:15:32</td>\n",
       "      <td>NaN</td>\n",
       "      <td>NaN</td>\n",
       "      <td>0</td>\n",
       "      <td>0</td>\n",
       "      <td>1</td>\n",
       "      <td>1</td>\n",
       "    </tr>\n",
       "  </tbody>\n",
       "</table>\n",
       "</div>"
      ],
      "text/plain": [
       "   ac_activity         request_date        response_date  delay_hours  \\\n",
       "0          438  2014-02-04 13:57:46                  NaN          NaN   \n",
       "1          579  2014-02-04 15:20:18                  NaN          NaN   \n",
       "2          723  2014-02-20 14:42:12  2014-11-17 20:59:09       6486.0   \n",
       "3          844  2014-02-25 13:32:38                  NaN          NaN   \n",
       "4          845  2014-02-25 14:15:32                  NaN          NaN   \n",
       "\n",
       "   edits_between  edits_after  times_before_answer  activity_school_year  \n",
       "0              0            0                    1                     1  \n",
       "1              0            0                    1                     1  \n",
       "2              1            0                    1                     1  \n",
       "3              0            0                    2                     1  \n",
       "4              0            0                    1                     1  "
      ]
     },
     "execution_count": 16,
     "metadata": {},
     "output_type": "execute_result"
    }
   ],
   "source": [
    "df_feedbacks_info = pd.read_csv(f\"{data_folder}activities_feedbacks_info.csv\")\n",
    "df_feedbacks_info.head()"
   ]
  },
  {
   "cell_type": "code",
   "execution_count": 17,
   "metadata": {},
   "outputs": [
    {
     "name": "stdout",
     "output_type": "stream",
     "text": [
      "There are 2960/4965 without answer (59.62%)\n"
     ]
    }
   ],
   "source": [
    "no_answer = df_feedbacks_info['response_date'].isnull().sum()\n",
    "print(f'There are {no_answer}/{len(df_feedbacks_info)} without answer ({round(no_answer/len(df_feedbacks_info),4)*100}%)')"
   ]
  },
  {
   "cell_type": "code",
   "execution_count": 18,
   "metadata": {},
   "outputs": [],
   "source": [
    "df_feedbacks_info.dropna(inplace=True)\n",
    "df_feedbacks_info['delay_days'] = df_feedbacks_info['delay_hours']/24"
   ]
  },
  {
   "cell_type": "code",
   "execution_count": 30,
   "metadata": {},
   "outputs": [
    {
     "data": {
      "application/javascript": [
       "element.append('<div id=\"chartdiv_460aae1a-a56a-11ea-b1a1-7c5cf8500ef5\" style=\"height: 500px;\"></div>');"
      ],
      "text/plain": [
       "<IPython.core.display.Javascript object>"
      ]
     },
     "metadata": {},
     "output_type": "display_data"
    },
    {
     "data": {
      "application/javascript": [
       "$('#chartdiv_460aae1a-a56a-11ea-b1a1-7c5cf8500ef5').parent(\"div\").css(\"width\",\"100%\").css(\"overflow-y\",\"hidden\");"
      ],
      "text/plain": [
       "<IPython.core.display.Javascript object>"
      ]
     },
     "metadata": {},
     "output_type": "display_data"
    },
    {
     "data": {
      "application/javascript": [
       "var params = {};params['title'] = \"# of requests before a feedback\";params['y_title'] = \"Log10 count\";params['x_title'] = \"requests before an answer\";params['hues'] = [1, 2, 3];params['data'] = [{'x': 1, 'year 1': 946, 'year 2': 545, 'year 3': 175}, {'x': 2, 'year 1': 164, 'year 2': 70, 'year 3': 20}, {'x': 3, 'year 1': 44, 'year 2': 14, 'year 3': 6}, {'x': 4, 'year 1': 9, 'year 2': 0, 'year 3': 3}, {'x': 5, 'year 1': 2, 'year 2': 0, 'year 3': 0}, {'x': 6, 'year 1': 2, 'year 2': 0, 'year 3': 0}, {'x': 7, 'year 1': 2, 'year 2': 0, 'year 3': 0}, {'x': 8, 'year 1': 2, 'year 2': 0, 'year 3': 0}, {'x': 9, 'year 1': 1, 'year 2': 0, 'year 3': 0}];params['x_vals'] = [1, 2, 3, 4, 5, 6, 7, 8, 9];params['stacks'] = 1;params['series'] = {'year 1': 0, 'year 2': 0, 'year 3': 0};params['x_names_map'] = 0;params['log_scale'] = false;params['legend'] = true;\n",
       "        require(['amchart_core', 'amchart_charts', 'amcharts4/themes/animated', 'amcharts4/themes/frozen'], columnCallback(params,\"chartdiv_460aae1a-a56a-11ea-b1a1-7c5cf8500ef5\") , function (err) {\n",
       "            console.log(err);\n",
       "        });\n",
       "        "
      ],
      "text/plain": [
       "<IPython.core.display.Javascript object>"
      ]
     },
     "metadata": {},
     "output_type": "display_data"
    }
   ],
   "source": [
    "df_hist = df_feedbacks_info.groupby([\"activity_school_year\",\"times_before_answer\"]).count()[['ac_activity']].reset_index().rename(columns={'ac_activity': 'count'})\n",
    "\n",
    "chart = am4.ColumnChart()\n",
    "chart.setTitle(\"# of requests before a feedback\")\n",
    "chart.set_y_label(\"Log10 count\")\n",
    "chart.set_x_label(\"requests before an answer\")\n",
    "chart.fromDataFrame(df_hist, \"times_before_answer\", \"count\", \n",
    "                     hue=\"activity_school_year\", hue_prefix=\"year \",\n",
    "                     log_scale = False\n",
    "                    )\n",
    "chart.plot()"
   ]
  },
  {
   "cell_type": "code",
   "execution_count": 26,
   "metadata": {},
   "outputs": [],
   "source": [
    "bins = 50\n",
    "data_range = df_feedbacks_info['delay_days'].max()-df_feedbacks_info['delay_days'].min()\n",
    "hist_step  = int(data_range/bins)\n",
    "\n",
    "df_feedbacks_info['delay_days_hist'] = (df_feedbacks_info['delay_days']/hist_step).astype(int)*hist_step"
   ]
  },
  {
   "cell_type": "code",
   "execution_count": 29,
   "metadata": {},
   "outputs": [
    {
     "data": {
      "application/javascript": [
       "element.append('<div id=\"chartdiv_120ef064-a56a-11ea-b4c2-7c5cf8500ef5\" style=\"height: 500px;\"></div>');"
      ],
      "text/plain": [
       "<IPython.core.display.Javascript object>"
      ]
     },
     "metadata": {},
     "output_type": "display_data"
    },
    {
     "data": {
      "application/javascript": [
       "$('#chartdiv_120ef064-a56a-11ea-b4c2-7c5cf8500ef5').parent(\"div\").css(\"width\",\"100%\").css(\"overflow-y\",\"hidden\");"
      ],
      "text/plain": [
       "<IPython.core.display.Javascript object>"
      ]
     },
     "metadata": {},
     "output_type": "display_data"
    },
    {
     "data": {
      "application/javascript": [
       "var params = {};params['title'] = \"Histogram: days before an answer\";params['y_title'] = \"Log count\";params['x_title'] = \"days before an answer\";params['hues'] = [3, 1, 2];params['data'] = [{'x': 0, 'year 3': 97, 'year 1': 0, 'year 2': 0}, {'x': 14, 'year 3': 19, 'year 1': 130, 'year 2': 40}, {'x': 28, 'year 3': 16, 'year 1': 61, 'year 2': 46}, {'x': 42, 'year 3': 35, 'year 1': 37, 'year 2': 13}, {'x': 56, 'year 3': 12, 'year 1': 29, 'year 2': 25}, {'x': 70, 'year 3': 7, 'year 1': 13, 'year 2': 15}, {'x': 84, 'year 3': 2, 'year 1': 23, 'year 2': 6}, {'x': 98, 'year 3': 5, 'year 1': 14, 'year 2': 69}, {'x': 112, 'year 3': 2, 'year 1': 8, 'year 2': 11}, {'x': 126, 'year 3': 1, 'year 1': 9, 'year 2': 13}, {'x': 140, 'year 3': 0, 'year 1': 8, 'year 2': 5}, {'x': 154, 'year 3': 1, 'year 1': 12, 'year 2': 3}, {'x': 168, 'year 3': 0, 'year 1': 6, 'year 2': 7}, {'x': 182, 'year 3': 3, 'year 1': 2, 'year 2': 5}, {'x': 196, 'year 3': 2, 'year 1': 1, 'year 2': 4}, {'x': 210, 'year 3': 0, 'year 1': 2, 'year 2': 3}, {'x': 224, 'year 3': 0, 'year 1': 4, 'year 2': 3}, {'x': 238, 'year 3': 0, 'year 1': 0, 'year 2': 2}, {'x': 252, 'year 3': 0, 'year 1': 3, 'year 2': 2}, {'x': 266, 'year 3': 0, 'year 1': 9, 'year 2': 0}, {'x': 280, 'year 3': 0, 'year 1': 3, 'year 2': 1}, {'x': 294, 'year 3': 2, 'year 1': 9, 'year 2': 0}, {'x': 308, 'year 3': 0, 'year 1': 2, 'year 2': 2}, {'x': 322, 'year 3': 0, 'year 1': 1, 'year 2': 1}, {'x': 336, 'year 3': 0, 'year 1': 1, 'year 2': 0}, {'x': 350, 'year 3': 0, 'year 1': 7, 'year 2': 5}, {'x': 364, 'year 3': 0, 'year 1': 1, 'year 2': 1}, {'x': 378, 'year 3': 0, 'year 1': 2, 'year 2': 2}, {'x': 392, 'year 3': 0, 'year 1': 1, 'year 2': 1}, {'x': 406, 'year 3': 0, 'year 1': 1, 'year 2': 0}, {'x': 420, 'year 3': 0, 'year 1': 1, 'year 2': 3}, {'x': 448, 'year 3': 0, 'year 1': 9, 'year 2': 0}, {'x': 462, 'year 3': 0, 'year 1': 2, 'year 2': 1}, {'x': 476, 'year 3': 0, 'year 1': 2, 'year 2': 2}, {'x': 490, 'year 3': 0, 'year 1': 0, 'year 2': 1}, {'x': 504, 'year 3': 0, 'year 1': 1, 'year 2': 0}, {'x': 574, 'year 3': 0, 'year 1': 2, 'year 2': 1}, {'x': 602, 'year 3': 0, 'year 1': 2, 'year 2': 0}, {'x': 658, 'year 3': 0, 'year 1': 1, 'year 2': 0}, {'x': 672, 'year 3': 0, 'year 1': 1, 'year 2': 0}, {'x': 714, 'year 3': 0, 'year 1': 2, 'year 2': 0}];params['x_vals'] = [0, 14, 28, 42, 56, 70, 84, 98, 112, 126, 140, 154, 168, 182, 196, 210, 224, 238, 252, 266, 280, 294, 308, 322, 336, 350, 364, 378, 392, 406, 420, 448, 462, 476, 490, 504, 574, 602, 658, 672, 714];params['stacks'] = 1;params['series'] = {'year 3': 0, 'year 1': 0, 'year 2': 0};params['x_names_map'] = 0;params['log_scale'] = false;params['legend'] = true;\n",
       "        require(['amchart_core', 'amchart_charts', 'amcharts4/themes/animated', 'amcharts4/themes/frozen'], columnCallback(params,\"chartdiv_120ef064-a56a-11ea-b4c2-7c5cf8500ef5\") , function (err) {\n",
       "            console.log(err);\n",
       "        });\n",
       "        "
      ],
      "text/plain": [
       "<IPython.core.display.Javascript object>"
      ]
     },
     "metadata": {},
     "output_type": "display_data"
    }
   ],
   "source": [
    "df_hist = df_feedbacks_info.groupby([\"activity_school_year\",\"delay_days_hist\"]).size().reset_index(name='count')\n",
    "\n",
    "chart = am4.ColumnChart()\n",
    "chart.setTitle(\"Histogram: days before an answer\")\n",
    "chart.set_y_label(\"Log count\")\n",
    "chart.set_x_label(\"days before an answer\")\n",
    "chart.fromDataFrame(df_hist[df_hist['count']<150], \"delay_days_hist\", \"count\", \n",
    "                     hue=\"activity_school_year\", hue_prefix=\"year \",\n",
    "                     log_scale = False,\n",
    "                    )\n",
    "chart.plot()"
   ]
  },
  {
   "cell_type": "code",
   "execution_count": null,
   "metadata": {},
   "outputs": [],
   "source": []
  },
  {
   "cell_type": "code",
   "execution_count": 32,
   "metadata": {},
   "outputs": [
    {
     "data": {
      "application/javascript": [
       "element.append('<div id=\"chartdiv_67dae93e-a56d-11ea-9a07-7c5cf8500ef5\" style=\"height: 500px;\"></div>');"
      ],
      "text/plain": [
       "<IPython.core.display.Javascript object>"
      ]
     },
     "metadata": {},
     "output_type": "display_data"
    },
    {
     "data": {
      "application/javascript": [
       "$('#chartdiv_67dae93e-a56d-11ea-9a07-7c5cf8500ef5').parent(\"div\").css(\"width\",\"100%\").css(\"overflow-y\",\"hidden\");"
      ],
      "text/plain": [
       "<IPython.core.display.Javascript object>"
      ]
     },
     "metadata": {},
     "output_type": "display_data"
    },
    {
     "data": {
      "application/javascript": [
       "var params = {};params['title'] = \"Histogram: edits after a feedback\";params['y_title'] = \"count\";params['x_title'] = \"# of edits after an answer\";params['hues'] = [1, 2, 3];params['data'] = [{'x': 0, 'year 1': 585, 'year 2': 200, 'year 3': 21}, {'x': 1, 'year 1': 341, 'year 2': 286, 'year 3': 136}, {'x': 2, 'year 1': 99, 'year 2': 95, 'year 3': 25}, {'x': 3, 'year 1': 61, 'year 2': 30, 'year 3': 11}, {'x': 4, 'year 1': 34, 'year 2': 8, 'year 3': 6}, {'x': 5, 'year 1': 17, 'year 2': 3, 'year 3': 3}, {'x': 6, 'year 1': 12, 'year 2': 2, 'year 3': 2}, {'x': 7, 'year 1': 3, 'year 2': 3, 'year 3': 0}, {'x': 8, 'year 1': 2, 'year 2': 0, 'year 3': 0}, {'x': 9, 'year 1': 4, 'year 2': 0, 'year 3': 0}, {'x': 10, 'year 1': 2, 'year 2': 0, 'year 3': 0}, {'x': 11, 'year 1': 3, 'year 2': 1, 'year 3': 0}, {'x': 12, 'year 1': 3, 'year 2': 0, 'year 3': 0}, {'x': 13, 'year 1': 3, 'year 2': 0, 'year 3': 0}, {'x': 14, 'year 1': 2, 'year 2': 0, 'year 3': 0}, {'x': 15, 'year 1': 1, 'year 2': 0, 'year 3': 0}, {'x': 24, 'year 1': 0, 'year 2': 1, 'year 3': 0}];params['x_vals'] = [0, 1, 2, 3, 4, 5, 6, 7, 8, 9, 10, 11, 12, 13, 14, 15, 24];params['stacks'] = 1;params['series'] = {'year 1': 0, 'year 2': 0, 'year 3': 0};params['x_names_map'] = 0;params['log_scale'] = false;params['min_y'] = 0.1;params['legend'] = true;\n",
       "        require(['amchart_core', 'amchart_charts', 'amcharts4/themes/animated', 'amcharts4/themes/frozen'], columnCallback(params,\"chartdiv_67dae93e-a56d-11ea-9a07-7c5cf8500ef5\") , function (err) {\n",
       "            console.log(err);\n",
       "        });\n",
       "        "
      ],
      "text/plain": [
       "<IPython.core.display.Javascript object>"
      ]
     },
     "metadata": {},
     "output_type": "display_data"
    }
   ],
   "source": [
    "requests_count = df_feedbacks_info['activity_school_year'].value_counts()\n",
    "df_hist = df_feedbacks_info.groupby([\"activity_school_year\",\"edits_after\"]).size().reset_index(name='count')\n",
    "df_hist['count_norm'] = df_hist['count'].div(df_hist['activity_school_year'].map(requests_count))\n",
    "\n",
    "chart = am4.ColumnChart()\n",
    "chart.setTitle(\"Histogram: edits after a feedback\")\n",
    "chart.set_y_label(\"count\")\n",
    "chart.set_x_label(\"# of edits after an answer\")\n",
    "chart.fromDataFrame(df_hist, \"edits_after\", \"count\", \n",
    "                     hue=\"activity_school_year\", hue_prefix=\"year \",\n",
    "                     log_scale = False, min_y = 0.1\n",
    "                    )\n",
    "chart.plot()"
   ]
  },
  {
   "cell_type": "code",
   "execution_count": 46,
   "metadata": {
    "scrolled": false
   },
   "outputs": [
    {
     "data": {
      "application/javascript": [
       "element.append('<div id=\"chartdiv_4f85948d-a50e-11ea-abf2-7c5cf8500ef5\" style=\"height: 500px;\"></div>');"
      ],
      "text/plain": [
       "<IPython.core.display.Javascript object>"
      ]
     },
     "metadata": {},
     "output_type": "display_data"
    },
    {
     "data": {
      "application/javascript": [
       "$('#chartdiv_4f85948d-a50e-11ea-abf2-7c5cf8500ef5').parent(\"div\").css(\"width\",\"100%\").css(\"overflow-y\",\"hidden\");"
      ],
      "text/plain": [
       "<IPython.core.display.Javascript object>"
      ]
     },
     "metadata": {},
     "output_type": "display_data"
    },
    {
     "data": {
      "application/javascript": [
       "var params = {};params['title'] = \"Histogram: [bold]normalized[/] edits after a feedback\";params['y_title'] = \"Log count\";params['x_title'] = \"# of edits after an answer per feedback request\";params['hues'] = [1, 2, 3];params['data'] = [{'x': 0, 'year 1': 0.4991467576791809, 'year 2': 0.3179650238473768, 'year 3': 0.10294117647058823}, {'x': 1, 'year 1': 0.2909556313993174, 'year 2': 0.4546899841017488, 'year 3': 0.6666666666666666}, {'x': 2, 'year 1': 0.08447098976109214, 'year 2': 0.151033386327504, 'year 3': 0.12254901960784313}, {'x': 3, 'year 1': 0.05204778156996587, 'year 2': 0.04769475357710652, 'year 3': 0.05392156862745098}, {'x': 4, 'year 1': 0.02901023890784983, 'year 2': 0.012718600953895072, 'year 3': 0.029411764705882353}, {'x': 5, 'year 1': 0.014505119453924915, 'year 2': 0.0047694753577106515, 'year 3': 0.014705882352941176}, {'x': 6, 'year 1': 0.010238907849829351, 'year 2': 0.003179650238473768, 'year 3': 0.00980392156862745}, {'x': 7, 'year 1': 0.002559726962457338, 'year 2': 0.0047694753577106515, 'year 3': 0}, {'x': 8, 'year 1': 0.0017064846416382253, 'year 2': 0, 'year 3': 0}, {'x': 9, 'year 1': 0.0034129692832764505, 'year 2': 0, 'year 3': 0}, {'x': 10, 'year 1': 0.0017064846416382253, 'year 2': 0, 'year 3': 0}, {'x': 11, 'year 1': 0.002559726962457338, 'year 2': 0.001589825119236884, 'year 3': 0}, {'x': 12, 'year 1': 0.002559726962457338, 'year 2': 0, 'year 3': 0}, {'x': 13, 'year 1': 0.002559726962457338, 'year 2': 0, 'year 3': 0}, {'x': 14, 'year 1': 0.0017064846416382253, 'year 2': 0, 'year 3': 0}, {'x': 15, 'year 1': 0.0008532423208191126, 'year 2': 0, 'year 3': 0}, {'x': 24, 'year 1': 0, 'year 2': 0.001589825119236884, 'year 3': 0}];params['x_vals'] = [0, 1, 2, 3, 4, 5, 6, 7, 8, 9, 10, 11, 12, 13, 14, 15, 24];params['stacks'] = 1;params['series'] = {'year 1': 0, 'year 2': 0, 'year 3': 0};params['x_names_map'] = 0;params['legend'] = true;\n",
       "        require(['amchart_core', 'amchart_charts', 'amcharts4/themes/animated', 'amcharts4/themes/frozen'], columnCallback(params,\"chartdiv_4f85948d-a50e-11ea-abf2-7c5cf8500ef5\") , function (err) {\n",
       "            console.log(err);\n",
       "        });\n",
       "        "
      ],
      "text/plain": [
       "<IPython.core.display.Javascript object>"
      ]
     },
     "metadata": {},
     "output_type": "display_data"
    }
   ],
   "source": [
    "chart = am4.ColumnChart()\n",
    "chart.setTitle(\"Histogram: [bold]normalized[/] edits after a feedback\")\n",
    "chart.set_y_label(\"Log count\")\n",
    "chart.set_x_label(\"# of edits after an answer per feedback request\")\n",
    "chart.fromDataFrame(df_hist, \"edits_after\", \"count_norm\", \n",
    "                     hue=\"activity_school_year\", hue_prefix=\"year \",\n",
    "                    )\n",
    "chart.plot()"
   ]
  },
  {
   "cell_type": "markdown",
   "metadata": {},
   "source": [
    "### Logins"
   ]
  },
  {
   "cell_type": "code",
   "execution_count": 47,
   "metadata": {},
   "outputs": [],
   "source": [
    "df_supervisors_logins = pd.read_csv(f\"{data_folder}supervisors_logins.csv\")\\\n",
    "                        .drop(['ut_user_type','start_semester','start_year'],axis=1)\n",
    "df_supervisors_logins['date'] = df_supervisors_logins['date'].astype('datetime64')\n",
    "\n",
    "date_hist = pd.DataFrame(df_supervisors_logins['date'].groupby([df_supervisors_logins[\"date\"].dt.dayofweek,df_supervisors_logins[\"date\"].dt.hour]).count())\n",
    "date_hist = date_hist.rename(columns={\"date\": \"count\"})\n",
    "date_hist = pd.DataFrame([(x,y,get_loc(date_hist,(x,y),0,'count')) for x in range(7) for y in range(24)])\n",
    "date_hist.columns = ['dayofweek','hour','count']"
   ]
  },
  {
   "cell_type": "code",
   "execution_count": 48,
   "metadata": {},
   "outputs": [
    {
     "data": {
      "application/javascript": [
       "element.append('<div id=\"chartdiv_4fa43fd3-a50e-11ea-859a-7c5cf8500ef5\" style=\"height: 500px;\"></div>');"
      ],
      "text/plain": [
       "<IPython.core.display.Javascript object>"
      ]
     },
     "metadata": {},
     "output_type": "display_data"
    },
    {
     "data": {
      "application/javascript": [
       "$('#chartdiv_4fa43fd3-a50e-11ea-859a-7c5cf8500ef5').parent(\"div\").css(\"width\",\"100%\").css(\"overflow-y\",\"hidden\");"
      ],
      "text/plain": [
       "<IPython.core.display.Javascript object>"
      ]
     },
     "metadata": {},
     "output_type": "display_data"
    },
    {
     "data": {
      "application/javascript": [
       "var params = {};params['title'] = \"Supervisors logins\";params['y_title'] = \"# logins\";params['x_title'] = \"hour\";params['is_category'] = 1;params['hues'] = [0, 1, 2, 3, 4, 5, 6];params['data'] = [{'x': '0_00', '0': 2}, {'x': '0_01', '0': 0}, {'x': '0_02', '0': 1}, {'x': '0_03', '0': 0}, {'x': '0_04', '0': 0}, {'x': '0_05', '0': 15}, {'x': '0_06', '0': 31}, {'x': '0_07', '0': 30}, {'x': '0_08', '0': 48}, {'x': '0_09', '0': 39}, {'x': '0_10', '0': 43}, {'x': '0_11', '0': 55}, {'x': '0_12', '0': 48}, {'x': '0_13', '0': 85}, {'x': '0_14', '0': 55}, {'x': '0_15', '0': 43}, {'x': '0_16', '0': 48}, {'x': '0_17', '0': 23}, {'x': '0_18', '0': 35}, {'x': '0_19', '0': 33}, {'x': '0_20', '0': 23}, {'x': '0_21', '0': 21}, {'x': '0_22', '0': 9}, {'x': '0_23', '0': 2}, {'x': '1_00', '1': 1}, {'x': '1_01', '1': 0}, {'x': '1_02', '1': 0}, {'x': '1_03', '1': 0}, {'x': '1_04', '1': 3}, {'x': '1_05', '1': 15}, {'x': '1_06', '1': 26}, {'x': '1_07', '1': 38}, {'x': '1_08', '1': 30}, {'x': '1_09', '1': 31}, {'x': '1_10', '1': 22}, {'x': '1_11', '1': 42}, {'x': '1_12', '1': 42}, {'x': '1_13', '1': 76}, {'x': '1_14', '1': 60}, {'x': '1_15', '1': 66}, {'x': '1_16', '1': 46}, {'x': '1_17', '1': 34}, {'x': '1_18', '1': 29}, {'x': '1_19', '1': 46}, {'x': '1_20', '1': 21}, {'x': '1_21', '1': 16}, {'x': '1_22', '1': 11}, {'x': '1_23', '1': 5}, {'x': '2_00', '2': 1}, {'x': '2_01', '2': 0}, {'x': '2_02', '2': 0}, {'x': '2_03', '2': 0}, {'x': '2_04', '2': 10}, {'x': '2_05', '2': 10}, {'x': '2_06', '2': 23}, {'x': '2_07', '2': 26}, {'x': '2_08', '2': 31}, {'x': '2_09', '2': 30}, {'x': '2_10', '2': 34}, {'x': '2_11', '2': 41}, {'x': '2_12', '2': 44}, {'x': '2_13', '2': 54}, {'x': '2_14', '2': 49}, {'x': '2_15', '2': 38}, {'x': '2_16', '2': 32}, {'x': '2_17', '2': 24}, {'x': '2_18', '2': 21}, {'x': '2_19', '2': 7}, {'x': '2_20', '2': 13}, {'x': '2_21', '2': 16}, {'x': '2_22', '2': 15}, {'x': '2_23', '2': 1}, {'x': '3_00', '3': 1}, {'x': '3_01', '3': 0}, {'x': '3_02', '3': 0}, {'x': '3_03', '3': 4}, {'x': '3_04', '3': 2}, {'x': '3_05', '3': 9}, {'x': '3_06', '3': 25}, {'x': '3_07', '3': 22}, {'x': '3_08', '3': 38}, {'x': '3_09', '3': 35}, {'x': '3_10', '3': 24}, {'x': '3_11', '3': 30}, {'x': '3_12', '3': 46}, {'x': '3_13', '3': 55}, {'x': '3_14', '3': 55}, {'x': '3_15', '3': 45}, {'x': '3_16', '3': 36}, {'x': '3_17', '3': 39}, {'x': '3_18', '3': 30}, {'x': '3_19', '3': 23}, {'x': '3_20', '3': 18}, {'x': '3_21', '3': 22}, {'x': '3_22', '3': 11}, {'x': '3_23', '3': 4}, {'x': '4_00', '4': 4}, {'x': '4_01', '4': 0}, {'x': '4_02', '4': 0}, {'x': '4_03', '4': 1}, {'x': '4_04', '4': 5}, {'x': '4_05', '4': 10}, {'x': '4_06', '4': 25}, {'x': '4_07', '4': 29}, {'x': '4_08', '4': 53}, {'x': '4_09', '4': 43}, {'x': '4_10', '4': 27}, {'x': '4_11', '4': 40}, {'x': '4_12', '4': 40}, {'x': '4_13', '4': 52}, {'x': '4_14', '4': 58}, {'x': '4_15', '4': 31}, {'x': '4_16', '4': 33}, {'x': '4_17', '4': 21}, {'x': '4_18', '4': 14}, {'x': '4_19', '4': 13}, {'x': '4_20', '4': 18}, {'x': '4_21', '4': 9}, {'x': '4_22', '4': 6}, {'x': '4_23', '4': 8}, {'x': '5_00', '5': 1}, {'x': '5_01', '5': 1}, {'x': '5_02', '5': 0}, {'x': '5_03', '5': 0}, {'x': '5_04', '5': 1}, {'x': '5_05', '5': 2}, {'x': '5_06', '5': 15}, {'x': '5_07', '5': 11}, {'x': '5_08', '5': 17}, {'x': '5_09', '5': 13}, {'x': '5_10', '5': 24}, {'x': '5_11', '5': 23}, {'x': '5_12', '5': 21}, {'x': '5_13', '5': 24}, {'x': '5_14', '5': 21}, {'x': '5_15', '5': 22}, {'x': '5_16', '5': 34}, {'x': '5_17', '5': 27}, {'x': '5_18', '5': 14}, {'x': '5_19', '5': 14}, {'x': '5_20', '5': 11}, {'x': '5_21', '5': 13}, {'x': '5_22', '5': 4}, {'x': '5_23', '5': 4}, {'x': '6_00', '6': 2}, {'x': '6_01', '6': 0}, {'x': '6_02', '6': 0}, {'x': '6_03', '6': 0}, {'x': '6_04', '6': 1}, {'x': '6_05', '6': 4}, {'x': '6_06', '6': 7}, {'x': '6_07', '6': 5}, {'x': '6_08', '6': 10}, {'x': '6_09', '6': 16}, {'x': '6_10', '6': 23}, {'x': '6_11', '6': 15}, {'x': '6_12', '6': 9}, {'x': '6_13', '6': 23}, {'x': '6_14', '6': 35}, {'x': '6_15', '6': 19}, {'x': '6_16', '6': 24}, {'x': '6_17', '6': 19}, {'x': '6_18', '6': 20}, {'x': '6_19', '6': 15}, {'x': '6_20', '6': 14}, {'x': '6_21', '6': 16}, {'x': '6_22', '6': 11}, {'x': '6_23', '6': 3}];params['x_vals'] = ['0_00', '0_01', '0_02', '0_03', '0_04', '0_05', '0_06', '0_07', '0_08', '0_09', '0_10', '0_11', '0_12', '0_13', '0_14', '0_15', '0_16', '0_17', '0_18', '0_19', '0_20', '0_21', '0_22', '0_23', '1_00', '1_01', '1_02', '1_03', '1_04', '1_05', '1_06', '1_07', '1_08', '1_09', '1_10', '1_11', '1_12', '1_13', '1_14', '1_15', '1_16', '1_17', '1_18', '1_19', '1_20', '1_21', '1_22', '1_23', '2_00', '2_01', '2_02', '2_03', '2_04', '2_05', '2_06', '2_07', '2_08', '2_09', '2_10', '2_11', '2_12', '2_13', '2_14', '2_15', '2_16', '2_17', '2_18', '2_19', '2_20', '2_21', '2_22', '2_23', '3_00', '3_01', '3_02', '3_03', '3_04', '3_05', '3_06', '3_07', '3_08', '3_09', '3_10', '3_11', '3_12', '3_13', '3_14', '3_15', '3_16', '3_17', '3_18', '3_19', '3_20', '3_21', '3_22', '3_23', '4_00', '4_01', '4_02', '4_03', '4_04', '4_05', '4_06', '4_07', '4_08', '4_09', '4_10', '4_11', '4_12', '4_13', '4_14', '4_15', '4_16', '4_17', '4_18', '4_19', '4_20', '4_21', '4_22', '4_23', '5_00', '5_01', '5_02', '5_03', '5_04', '5_05', '5_06', '5_07', '5_08', '5_09', '5_10', '5_11', '5_12', '5_13', '5_14', '5_15', '5_16', '5_17', '5_18', '5_19', '5_20', '5_21', '5_22', '5_23', '6_00', '6_01', '6_02', '6_03', '6_04', '6_05', '6_06', '6_07', '6_08', '6_09', '6_10', '6_11', '6_12', '6_13', '6_14', '6_15', '6_16', '6_17', '6_18', '6_19', '6_20', '6_21', '6_22', '6_23'];params['stacks'] = 1;params['series'] = {'0': 0, '1': 0, '2': 0, '3': 0, '4': 0, '5': 0, '6': 0};params['range_divider'] = [0, 0, 0, 0, 0, 0, 0, 0, 0, 0, 0, 0, 0, 0, 0, 0, 0, 0, 0, 0, 0, 0, 0, 0, 1, 0, 0, 0, 0, 0, 0, 0, 0, 0, 0, 0, 0, 0, 0, 0, 0, 0, 0, 0, 0, 0, 0, 0, 1, 0, 0, 0, 0, 0, 0, 0, 0, 0, 0, 0, 0, 0, 0, 0, 0, 0, 0, 0, 0, 0, 0, 0, 1, 0, 0, 0, 0, 0, 0, 0, 0, 0, 0, 0, 0, 0, 0, 0, 0, 0, 0, 0, 0, 0, 0, 0, 1, 0, 0, 0, 0, 0, 0, 0, 0, 0, 0, 0, 0, 0, 0, 0, 0, 0, 0, 0, 0, 0, 0, 0, 1, 0, 0, 0, 0, 0, 0, 0, 0, 0, 0, 0, 0, 0, 0, 0, 0, 0, 0, 0, 0, 0, 0, 0, 1, 0, 0, 0, 0, 0, 0, 0, 0, 0, 0, 0, 0, 0, 0, 0, 0, 0, 0, 0, 0, 0, 0, 0];params['x_names_map'] = {'0_00': '0', '0_01': '1', '0_02': '2', '0_03': '3', '0_04': '4', '0_05': '5', '0_06': '6', '0_07': '7', '0_08': '8', '0_09': '9', '0_10': '10', '0_11': '11', '0_12': '12', '0_13': '13', '0_14': '14', '0_15': '15', '0_16': '16', '0_17': '17', '0_18': '18', '0_19': '19', '0_20': '20', '0_21': '21', '0_22': '22', '0_23': '23', '1_00': '0', '1_01': '1', '1_02': '2', '1_03': '3', '1_04': '4', '1_05': '5', '1_06': '6', '1_07': '7', '1_08': '8', '1_09': '9', '1_10': '10', '1_11': '11', '1_12': '12', '1_13': '13', '1_14': '14', '1_15': '15', '1_16': '16', '1_17': '17', '1_18': '18', '1_19': '19', '1_20': '20', '1_21': '21', '1_22': '22', '1_23': '23', '2_00': '0', '2_01': '1', '2_02': '2', '2_03': '3', '2_04': '4', '2_05': '5', '2_06': '6', '2_07': '7', '2_08': '8', '2_09': '9', '2_10': '10', '2_11': '11', '2_12': '12', '2_13': '13', '2_14': '14', '2_15': '15', '2_16': '16', '2_17': '17', '2_18': '18', '2_19': '19', '2_20': '20', '2_21': '21', '2_22': '22', '2_23': '23', '3_00': '0', '3_01': '1', '3_02': '2', '3_03': '3', '3_04': '4', '3_05': '5', '3_06': '6', '3_07': '7', '3_08': '8', '3_09': '9', '3_10': '10', '3_11': '11', '3_12': '12', '3_13': '13', '3_14': '14', '3_15': '15', '3_16': '16', '3_17': '17', '3_18': '18', '3_19': '19', '3_20': '20', '3_21': '21', '3_22': '22', '3_23': '23', '4_00': '0', '4_01': '1', '4_02': '2', '4_03': '3', '4_04': '4', '4_05': '5', '4_06': '6', '4_07': '7', '4_08': '8', '4_09': '9', '4_10': '10', '4_11': '11', '4_12': '12', '4_13': '13', '4_14': '14', '4_15': '15', '4_16': '16', '4_17': '17', '4_18': '18', '4_19': '19', '4_20': '20', '4_21': '21', '4_22': '22', '4_23': '23', '5_00': '0', '5_01': '1', '5_02': '2', '5_03': '3', '5_04': '4', '5_05': '5', '5_06': '6', '5_07': '7', '5_08': '8', '5_09': '9', '5_10': '10', '5_11': '11', '5_12': '12', '5_13': '13', '5_14': '14', '5_15': '15', '5_16': '16', '5_17': '17', '5_18': '18', '5_19': '19', '5_20': '20', '5_21': '21', '5_22': '22', '5_23': '23', '6_00': '0', '6_01': '1', '6_02': '2', '6_03': '3', '6_04': '4', '6_05': '5', '6_06': '6', '6_07': '7', '6_08': '8', '6_09': '9', '6_10': '10', '6_11': '11', '6_12': '12', '6_13': '13', '6_14': '14', '6_15': '15', '6_16': '16', '6_17': '17', '6_18': '18', '6_19': '19', '6_20': '20', '6_21': '21', '6_22': '22', '6_23': '23'};params['visible_labels'] = ['6', '12', '18', '0'];params['legend'] = true;\n",
       "        require(['amchart_core', 'amchart_charts', 'amcharts4/themes/animated', 'amcharts4/themes/frozen'], lineCallback(params,\"chartdiv_4fa43fd3-a50e-11ea-859a-7c5cf8500ef5\") , function (err) {\n",
       "            console.log(err);\n",
       "        });\n",
       "        "
      ],
      "text/plain": [
       "<IPython.core.display.Javascript object>"
      ]
     },
     "metadata": {},
     "output_type": "display_data"
    }
   ],
   "source": [
    "chart = am4.LineChart()\n",
    "chart.setTitle(\"Supervisors logins\")\n",
    "chart.set_y_label(\"# logins\")\n",
    "chart.set_x_label(\"hour\")\n",
    "chart.fromDataFrame(date_hist, ['dayofweek','hour'], \"count\", \n",
    "                     hue=\"dayofweek\", x_axis_names = \"hour\",\n",
    "                     range_divider = \"dayofweek\",\n",
    "                     show_legend = True, visible_labels=['6','12','18','0']\n",
    "                    )\n",
    "chart.plot()"
   ]
  },
  {
   "cell_type": "code",
   "execution_count": null,
   "metadata": {},
   "outputs": [],
   "source": []
  },
  {
   "cell_type": "markdown",
   "metadata": {},
   "source": [
    "## Years considerations:"
   ]
  },
  {
   "cell_type": "code",
   "execution_count": 49,
   "metadata": {},
   "outputs": [
    {
     "data": {
      "text/html": [
       "<div>\n",
       "<style scoped>\n",
       "    .dataframe tbody tr th:only-of-type {\n",
       "        vertical-align: middle;\n",
       "    }\n",
       "\n",
       "    .dataframe tbody tr th {\n",
       "        vertical-align: top;\n",
       "    }\n",
       "\n",
       "    .dataframe thead th {\n",
       "        text-align: right;\n",
       "    }\n",
       "</style>\n",
       "<table border=\"1\" class=\"dataframe\">\n",
       "  <thead>\n",
       "    <tr style=\"text-align: right;\">\n",
       "      <th></th>\n",
       "      <th>month</th>\n",
       "      <th>activity_school_year</th>\n",
       "      <th>start_year</th>\n",
       "      <th>n_activities</th>\n",
       "      <th>n_recipes</th>\n",
       "      <th>n_experiences</th>\n",
       "      <th>avg_n_user_activities</th>\n",
       "      <th>avg_n_user_recipes</th>\n",
       "      <th>avg_n_user_experiences</th>\n",
       "    </tr>\n",
       "  </thead>\n",
       "  <tbody>\n",
       "    <tr>\n",
       "      <th>0</th>\n",
       "      <td>1</td>\n",
       "      <td>1</td>\n",
       "      <td>2013</td>\n",
       "      <td>176</td>\n",
       "      <td>150.0</td>\n",
       "      <td>26.0</td>\n",
       "      <td>5.03</td>\n",
       "      <td>4.29</td>\n",
       "      <td>0.74</td>\n",
       "    </tr>\n",
       "    <tr>\n",
       "      <th>1</th>\n",
       "      <td>1</td>\n",
       "      <td>1</td>\n",
       "      <td>2014</td>\n",
       "      <td>245</td>\n",
       "      <td>191.0</td>\n",
       "      <td>54.0</td>\n",
       "      <td>5.98</td>\n",
       "      <td>4.66</td>\n",
       "      <td>1.32</td>\n",
       "    </tr>\n",
       "    <tr>\n",
       "      <th>2</th>\n",
       "      <td>1</td>\n",
       "      <td>1</td>\n",
       "      <td>2015</td>\n",
       "      <td>170</td>\n",
       "      <td>69.0</td>\n",
       "      <td>101.0</td>\n",
       "      <td>5.15</td>\n",
       "      <td>2.09</td>\n",
       "      <td>3.06</td>\n",
       "    </tr>\n",
       "    <tr>\n",
       "      <th>3</th>\n",
       "      <td>1</td>\n",
       "      <td>1</td>\n",
       "      <td>2016</td>\n",
       "      <td>131</td>\n",
       "      <td>98.0</td>\n",
       "      <td>33.0</td>\n",
       "      <td>3.45</td>\n",
       "      <td>2.58</td>\n",
       "      <td>0.87</td>\n",
       "    </tr>\n",
       "    <tr>\n",
       "      <th>4</th>\n",
       "      <td>1</td>\n",
       "      <td>1</td>\n",
       "      <td>2017</td>\n",
       "      <td>160</td>\n",
       "      <td>109.0</td>\n",
       "      <td>51.0</td>\n",
       "      <td>4.32</td>\n",
       "      <td>2.95</td>\n",
       "      <td>1.38</td>\n",
       "    </tr>\n",
       "  </tbody>\n",
       "</table>\n",
       "</div>"
      ],
      "text/plain": [
       "   month  activity_school_year  start_year  n_activities  n_recipes  \\\n",
       "0      1                     1        2013           176      150.0   \n",
       "1      1                     1        2014           245      191.0   \n",
       "2      1                     1        2015           170       69.0   \n",
       "3      1                     1        2016           131       98.0   \n",
       "4      1                     1        2017           160      109.0   \n",
       "\n",
       "   n_experiences  avg_n_user_activities  avg_n_user_recipes  \\\n",
       "0           26.0                   5.03                4.29   \n",
       "1           54.0                   5.98                4.66   \n",
       "2          101.0                   5.15                2.09   \n",
       "3           33.0                   3.45                2.58   \n",
       "4           51.0                   4.32                2.95   \n",
       "\n",
       "   avg_n_user_experiences  \n",
       "0                    0.74  \n",
       "1                    1.32  \n",
       "2                    3.06  \n",
       "3                    0.87  \n",
       "4                    1.38  "
      ]
     },
     "execution_count": 49,
     "metadata": {},
     "output_type": "execute_result"
    }
   ],
   "source": [
    "df_years = pd.read_csv(f\"{data_folder}years_test.csv\")\n",
    "df_years.head()"
   ]
  },
  {
   "cell_type": "code",
   "execution_count": 50,
   "metadata": {},
   "outputs": [
    {
     "data": {
      "application/javascript": [
       "element.append('<div id=\"chartdiv_4facf287-a50e-11ea-898f-7c5cf8500ef5\" style=\"height: 500px;\"></div>');"
      ],
      "text/plain": [
       "<IPython.core.display.Javascript object>"
      ]
     },
     "metadata": {},
     "output_type": "display_data"
    },
    {
     "data": {
      "application/javascript": [
       "$('#chartdiv_4facf287-a50e-11ea-898f-7c5cf8500ef5').parent(\"div\").css(\"width\",\"100%\").css(\"overflow-y\",\"hidden\");"
      ],
      "text/plain": [
       "<IPython.core.display.Javascript object>"
      ]
     },
     "metadata": {},
     "output_type": "display_data"
    },
    {
     "data": {
      "application/javascript": [
       "var params = {};params['title'] = \"Total number of [bold]activities[/] per month\";params['y_title'] = \"number of activities\";params['x_title'] = \"year\";params['hues'] = [1, 2, 3, 4, 5, 6, 7, 8, 11, 12, 9, 10];params['data'] = [{'x': 2013, 'month 1': 176, 'month 2': 269, 'month 3': 205, 'month 4': 213, 'month 5': 236, 'month 6': 163, 'month 7': 102, 'month 8': 4, 'month 11': 57, 'month 12': 171, 'month 9': 0, 'month 10': 0}, {'x': 2014, 'month 1': 245, 'month 2': 90, 'month 3': 165, 'month 4': 132, 'month 5': 211, 'month 6': 131, 'month 7': 53, 'month 8': 0, 'month 11': 98, 'month 12': 118, 'month 9': 0, 'month 10': 0}, {'x': 2015, 'month 1': 170, 'month 2': 333, 'month 3': 172, 'month 4': 285, 'month 5': 266, 'month 6': 611, 'month 7': 22, 'month 8': 50, 'month 11': 185, 'month 12': 184, 'month 9': 123, 'month 10': 193}, {'x': 2016, 'month 1': 131, 'month 2': 147, 'month 3': 131, 'month 4': 42, 'month 5': 175, 'month 6': 201, 'month 7': 84, 'month 8': 6, 'month 11': 174, 'month 12': 103, 'month 9': 27, 'month 10': 131}, {'x': 2017, 'month 1': 160, 'month 2': 123, 'month 3': 167, 'month 4': 169, 'month 5': 144, 'month 6': 94, 'month 7': 100, 'month 8': 10, 'month 11': 154, 'month 12': 69, 'month 9': 20, 'month 10': 86}, {'x': 2018, 'month 1': 200, 'month 2': 200, 'month 3': 117, 'month 4': 106, 'month 5': 301, 'month 6': 173, 'month 7': 32, 'month 8': 1, 'month 11': 130, 'month 12': 236, 'month 9': 0, 'month 10': 52}, {'x': 2019, 'month 1': 254, 'month 2': 120, 'month 3': 293, 'month 4': 183, 'month 5': 120, 'month 6': 0, 'month 7': 0, 'month 8': 0, 'month 11': 358, 'month 12': 174, 'month 9': 3, 'month 10': 195}];params['x_vals'] = [2013, 2014, 2015, 2016, 2017, 2018, 2019];params['stacks'] = 1;params['series'] = {'month 1': 0, 'month 2': 0, 'month 3': 0, 'month 4': 0, 'month 5': 0, 'month 6': 0, 'month 7': 0, 'month 8': 0, 'month 11': 0, 'month 12': 0, 'month 9': 0, 'month 10': 0};params['x_names_map'] = 0;params['legend'] = false;\n",
       "        require(['amchart_core', 'amchart_charts', 'amcharts4/themes/animated', 'amcharts4/themes/frozen'], columnCallback(params,\"chartdiv_4facf287-a50e-11ea-898f-7c5cf8500ef5\") , function (err) {\n",
       "            console.log(err);\n",
       "        });\n",
       "        "
      ],
      "text/plain": [
       "<IPython.core.display.Javascript object>"
      ]
     },
     "metadata": {},
     "output_type": "display_data"
    }
   ],
   "source": [
    "first_year = df_years[df_years['activity_school_year']==1]\n",
    "\n",
    "column = am4.ColumnChart()\n",
    "column.setTitle(\"Total number of [bold]activities[/] per month\")\n",
    "column.set_y_label(\"number of activities\")\n",
    "column.set_x_label(\"year\")\n",
    "column.fromDataFrame(first_year, [\"start_year\"], \n",
    "                     [\"n_activities\"], \n",
    "                     hue=\"month\", hue_prefix=\"month \",\n",
    "                     show_legend = False\n",
    "                    )\n",
    "column.plot()"
   ]
  },
  {
   "cell_type": "code",
   "execution_count": 51,
   "metadata": {},
   "outputs": [
    {
     "data": {
      "application/javascript": [
       "element.append('<div id=\"chartdiv_4fb1fb71-a50e-11ea-97cc-7c5cf8500ef5\" style=\"height: 500px;\"></div>');"
      ],
      "text/plain": [
       "<IPython.core.display.Javascript object>"
      ]
     },
     "metadata": {},
     "output_type": "display_data"
    },
    {
     "data": {
      "application/javascript": [
       "$('#chartdiv_4fb1fb71-a50e-11ea-97cc-7c5cf8500ef5').parent(\"div\").css(\"width\",\"100%\").css(\"overflow-y\",\"hidden\");"
      ],
      "text/plain": [
       "<IPython.core.display.Javascript object>"
      ]
     },
     "metadata": {},
     "output_type": "display_data"
    },
    {
     "data": {
      "application/javascript": [
       "var params = {};params['title'] = \"Average number of [bold]activities[/] per user per month\";params['y_title'] = \"average number of activities\";params['x_title'] = \"year\";params['hues'] = [1, 2, 3, 4, 5, 6, 7, 8, 11, 12, 9, 10];params['data'] = [{'x': 2013, 'month 1': 5.03, 'month 2': 5.72, 'month 3': 5.86, 'month 4': 5.76, 'month 5': 6.74, 'month 6': 3.88, 'month 7': 5.67, 'month 8': 4.0, 'month 11': 1.54, 'month 12': 4.5, 'month 9': 0, 'month 10': 0}, {'x': 2014, 'month 1': 5.98, 'month 2': 2.9, 'month 3': 3.59, 'month 4': 3.22, 'month 5': 4.8, 'month 6': 4.09, 'month 7': 6.63, 'month 8': 0, 'month 11': 1.88, 'month 12': 3.28, 'month 9': 0, 'month 10': 0}, {'x': 2015, 'month 1': 5.15, 'month 2': 4.44, 'month 3': 3.02, 'month 4': 5.94, 'month 5': 6.82, 'month 6': 17.46, 'month 7': 3.14, 'month 8': 3.85, 'month 11': 4.51, 'month 12': 3.35, 'month 9': 3.62, 'month 10': 4.2}, {'x': 2016, 'month 1': 3.45, 'month 2': 3.34, 'month 3': 2.57, 'month 4': 2.63, 'month 5': 3.89, 'month 6': 4.67, 'month 7': 4.94, 'month 8': 3.0, 'month 11': 3.41, 'month 12': 2.29, 'month 9': 1.59, 'month 10': 3.28}, {'x': 2017, 'month 1': 4.32, 'month 2': 2.93, 'month 3': 4.39, 'month 4': 5.12, 'month 5': 5.76, 'month 6': 4.27, 'month 7': 7.69, 'month 8': 3.33, 'month 11': 3.67, 'month 12': 3.45, 'month 9': 1.54, 'month 10': 2.87}, {'x': 2018, 'month 1': 3.85, 'month 2': 4.44, 'month 3': 3.66, 'month 4': 2.52, 'month 5': 6.69, 'month 6': 4.02, 'month 7': 2.13, 'month 8': 1.0, 'month 11': 2.83, 'month 12': 4.92, 'month 9': 0, 'month 10': 1.24}, {'x': 2019, 'month 1': 4.7, 'month 2': 3.0, 'month 3': 4.88, 'month 4': 4.58, 'month 5': 3.53, 'month 6': 0, 'month 7': 0, 'month 8': 0, 'month 11': 5.59, 'month 12': 3.28, 'month 9': 1.5, 'month 10': 4.53}];params['x_vals'] = [2013, 2014, 2015, 2016, 2017, 2018, 2019];params['stacks'] = 1;params['series'] = {'month 1': 0, 'month 2': 0, 'month 3': 0, 'month 4': 0, 'month 5': 0, 'month 6': 0, 'month 7': 0, 'month 8': 0, 'month 11': 0, 'month 12': 0, 'month 9': 0, 'month 10': 0};params['x_names_map'] = 0;params['legend'] = false;\n",
       "        require(['amchart_core', 'amchart_charts', 'amcharts4/themes/animated', 'amcharts4/themes/frozen'], columnCallback(params,\"chartdiv_4fb1fb71-a50e-11ea-97cc-7c5cf8500ef5\") , function (err) {\n",
       "            console.log(err);\n",
       "        });\n",
       "        "
      ],
      "text/plain": [
       "<IPython.core.display.Javascript object>"
      ]
     },
     "metadata": {},
     "output_type": "display_data"
    }
   ],
   "source": [
    "column = am4.ColumnChart()\n",
    "column.setTitle(\"Average number of [bold]activities[/] per user per month\")\n",
    "column.set_y_label(\"average number of activities\")\n",
    "column.set_x_label(\"year\")\n",
    "column.fromDataFrame(first_year, [\"start_year\"], \n",
    "                     [\"avg_n_user_activities\"], \n",
    "                     hue=\"month\", hue_prefix=\"month \",\n",
    "                     show_legend = False\n",
    "                    )\n",
    "column.plot()"
   ]
  },
  {
   "cell_type": "code",
   "execution_count": 52,
   "metadata": {},
   "outputs": [],
   "source": [
    "df_only_years = df_years.groupby([\"activity_school_year\",\"start_year\"]).sum().reset_index()"
   ]
  },
  {
   "cell_type": "code",
   "execution_count": 53,
   "metadata": {},
   "outputs": [
    {
     "data": {
      "application/javascript": [
       "element.append('<div id=\"chartdiv_4fb94ea4-a50e-11ea-8b32-7c5cf8500ef5\" style=\"height: 500px;\"></div>');"
      ],
      "text/plain": [
       "<IPython.core.display.Javascript object>"
      ]
     },
     "metadata": {},
     "output_type": "display_data"
    },
    {
     "data": {
      "application/javascript": [
       "$('#chartdiv_4fb94ea4-a50e-11ea-8b32-7c5cf8500ef5').parent(\"div\").css(\"width\",\"100%\").css(\"overflow-y\",\"hidden\");"
      ],
      "text/plain": [
       "<IPython.core.display.Javascript object>"
      ]
     },
     "metadata": {},
     "output_type": "display_data"
    },
    {
     "data": {
      "application/javascript": [
       "var params = {};params['title'] = \"Total number of [bold]activities[/] per school year\";params['y_title'] = \"number of activities\";params['x_title'] = \"year\";params['hues'] = [1, 2, 3];params['data'] = [{'x': 2013, 'school year 1': 48.7, 'school year 2': 51.39, 'school year 3': 98.16}, {'x': 2014, 'school year 1': 36.370000000000005, 'school year 2': 52.57, 'school year 3': 74.98}, {'x': 2015, 'school year 1': 65.5, 'school year 2': 67.99, 'school year 3': 92.63999999999999}, {'x': 2016, 'school year 1': 39.059999999999995, 'school year 2': 72.16000000000001, 'school year 3': 93.91999999999999}, {'x': 2017, 'school year 1': 49.34, 'school year 2': 91.87, 'school year 3': 62.11}, {'x': 2018, 'school year 1': 37.3, 'school year 2': 51.49, 'school year 3': 0}, {'x': 2019, 'school year 1': 35.59, 'school year 2': 0, 'school year 3': 0}];params['x_vals'] = [2013, 2014, 2015, 2016, 2017, 2018, 2019];params['stacks'] = 1;params['series'] = {'school year 1': 0, 'school year 2': 0, 'school year 3': 0};params['x_names_map'] = 0;params['legend'] = false;\n",
       "        require(['amchart_core', 'amchart_charts', 'amcharts4/themes/animated', 'amcharts4/themes/frozen'], columnCallback(params,\"chartdiv_4fb94ea4-a50e-11ea-8b32-7c5cf8500ef5\") , function (err) {\n",
       "            console.log(err);\n",
       "        });\n",
       "        "
      ],
      "text/plain": [
       "<IPython.core.display.Javascript object>"
      ]
     },
     "metadata": {},
     "output_type": "display_data"
    }
   ],
   "source": [
    "column = am4.ColumnChart()\n",
    "column.setTitle(\"Total number of [bold]activities[/] per school year\")\n",
    "column.set_y_label(\"number of activities\")\n",
    "column.set_x_label(\"year\")\n",
    "column.fromDataFrame(df_only_years, [\"start_year\"], \n",
    "                     [\"avg_n_user_activities\"], \n",
    "                     hue=\"activity_school_year\", hue_prefix=\"school year \",\n",
    "                     show_legend = False\n",
    "                    )\n",
    "column.plot()"
   ]
  },
  {
   "cell_type": "code",
   "execution_count": null,
   "metadata": {},
   "outputs": [],
   "source": [
    "\n",
    "\n",
    "\n",
    "\n",
    "\n",
    "\n",
    "\n",
    "\n",
    "\n",
    "\n",
    "\n",
    "\n",
    "\n",
    "\n",
    "\n",
    "\n",
    "\n",
    "\n",
    "\n",
    "\n",
    "\n",
    "\n",
    "\n",
    "\n",
    "\n",
    "\n",
    "\n",
    "\n",
    "\n",
    "\n",
    "\n",
    "\n"
   ]
  }
 ],
 "metadata": {
  "kernelspec": {
   "display_name": "EPFL dualt",
   "language": "python",
   "name": "dualt"
  },
  "language_info": {
   "codemirror_mode": {
    "name": "ipython",
    "version": 3
   },
   "file_extension": ".py",
   "mimetype": "text/x-python",
   "name": "python",
   "nbconvert_exporter": "python",
   "pygments_lexer": "ipython3",
   "version": "3.6.10"
  }
 },
 "nbformat": 4,
 "nbformat_minor": 4
}
