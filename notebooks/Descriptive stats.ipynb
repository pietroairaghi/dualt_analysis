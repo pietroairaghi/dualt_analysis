{
 "cells": [
  {
   "cell_type": "code",
   "execution_count": 1,
   "metadata": {},
   "outputs": [],
   "source": [
    "import pandas as pd\n",
    "import numpy as np\n",
    "import matplotlib.pyplot as plt\n",
    "import seaborn as sns\n",
    "from am4chart import *"
   ]
  },
  {
   "cell_type": "code",
   "execution_count": 23,
   "metadata": {},
   "outputs": [],
   "source": [
    "def normalizePer(df,col,sum_col,group_col,copy_of = None,new_name=None):\n",
    "    if not new_name:\n",
    "        new_name = col\n",
    "    if not copy_of:\n",
    "        copy_of  = col\n",
    "        \n",
    "    df[new_name] = df[copy_of]\n",
    "    \n",
    "    total = df[[group_col,sum_col]].groupby(group_col).sum()\n",
    "    \n",
    "    for xi in total.index:\n",
    "        tot  = total.loc[xi,sum_col]\n",
    "        mask = df_months[group_col]==xi\n",
    "        df.loc[mask,new_name] = df[mask][new_name].divide(tot/100)"
   ]
  },
  {
   "cell_type": "code",
   "execution_count": 2,
   "metadata": {},
   "outputs": [],
   "source": [
    "pd.options.display.max_columns = None"
   ]
  },
  {
   "cell_type": "code",
   "execution_count": 3,
   "metadata": {},
   "outputs": [],
   "source": [
    "data_folder = \"../data/\""
   ]
  },
  {
   "cell_type": "code",
   "execution_count": 4,
   "metadata": {},
   "outputs": [
    {
     "data": {
      "text/html": [
       "<script>         \n",
       "        require.config({\n",
       "          paths: {\n",
       "             d3: '//cdnjs.cloudflare.com/ajax/libs/d3/5.15.0/d3.min',\n",
       "             amchart_core: 'http://www.amcharts.com/lib/4/core',\n",
       "             amchart_charts: 'http://www.amcharts.com/lib/4/charts',\n",
       "             'amcharts4/themes/animated': 'http://www.amcharts.com/lib/4/themes/animated',\n",
       "          },\n",
       "          shim: {\n",
       "             amchart_core: {\n",
       "                  init: function () {\n",
       "                      return window.am4core;\n",
       "                  }\n",
       "              },\n",
       "              amchart_charts: {\n",
       "                  deps: ['amchart_core'],\n",
       "                  exports: 'amchart_charts',\n",
       "                  init: function () {\n",
       "                      return window.am4charts;\n",
       "                  }\n",
       "              },\n",
       "              'amcharts4/themes/animated': {\n",
       "                  deps: ['amchart_core'],\n",
       "                  init: function () {\n",
       "                      return window.am4themes_animated;\n",
       "                  }\n",
       "              }\n",
       "          }\n",
       "        });\n",
       "        \n",
       "        \n",
       "        function lineDateCallback(params,canvasID){\n",
       "\n",
       "            return function(am4core,am4charts,am4themes_animated){\n",
       "            \n",
       "                var data   = params['data'];\n",
       "                var series = params['series'];\n",
       "                \n",
       "                \n",
       "                am4core.useTheme(am4themes_animated);\n",
       "\n",
       "                // Create chart instance\n",
       "                var chart = am4core.create(canvasID, am4charts.XYChart);\n",
       "                chart.colors.step = 5;\n",
       "\n",
       "                // Add data\n",
       "                chart.data = data\n",
       "\n",
       "                // Create axes\n",
       "                var dateAxis = chart.xAxes.push(new am4charts.DateAxis());\n",
       "                dateAxis.renderer.grid.template.location = 0;\n",
       "\n",
       "                var valueAxis = chart.yAxes.push(new am4charts.ValueAxis());\n",
       "\n",
       "                chart.scrollbarX = new am4core.Scrollbar();\n",
       "                chart.cursor = new am4charts.XYCursor();\n",
       "\n",
       "                // Create series\n",
       "                function createSeries(field, name) {\n",
       "                    var series = chart.series.push(new am4charts.LineSeries());\n",
       "                    series.dataFields.valueY = field;\n",
       "                    series.dataFields.dateX = \"x\";\n",
       "                    series.name = name;\n",
       "                    series.tooltipText = \"{dateX}: [b]{valueY}[/]\";\n",
       "                    series.strokeWidth = 2;\n",
       "\n",
       "                    var bullet = series.bullets.push(new am4charts.CircleBullet());\n",
       "                    bullet.circle.stroke = am4core.color(\"#fff\");\n",
       "                    bullet.circle.strokeWidth = 2;\n",
       "\n",
       "                    // Add scrollbar\n",
       "                    //chart.scrollbarX.series.push(series);\n",
       "\n",
       "                    // Add cursor\n",
       "                    chart.cursor.xAxis = dateAxis;\n",
       "                    chart.cursor.snapToSeries = series;\n",
       "\n",
       "                    return series;\n",
       "                }\n",
       "\n",
       "                series.forEach(element => createSeries(element, element));\n",
       "\n",
       "                chart.legend = new am4charts.Legend();\n",
       "                chart.cursor = new am4charts.XYCursor();\n",
       "            }\n",
       "\n",
       "        }\n",
       "        \n",
       "        \n",
       "        function columnCallback(params,canvasID){\n",
       "            \n",
       "            return function(am4core, am4charts, am4themes_animated) {\n",
       "            \n",
       "                var data   = params['data'];\n",
       "                var series = params['series'];\n",
       "                var cTitle = params['title'];\n",
       "                \n",
       "                /* Chart code */\n",
       "                // Themes begin\n",
       "                am4core.useTheme(am4themes_animated);\n",
       "                // Themes end\n",
       "\n",
       "\n",
       "\n",
       "\n",
       "                let chart = am4core.create(canvasID, am4charts.XYChart)\n",
       "                chart.colors.step = 5;\n",
       "                \n",
       "                if(cTitle){\n",
       "                    let title = chart.titles.create();\n",
       "                    title.text = cTitle;\n",
       "                    title.fontSize = 18;\n",
       "                    title.marginBottom = 10;\n",
       "                }\n",
       "\n",
       "                chart.legend = new am4charts.Legend()\n",
       "                chart.legend.position = 'bottom'\n",
       "                chart.legend.paddingBottom = 20\n",
       "                chart.legend.maxWidth = undefined;\n",
       "                chart.legend.valueLabels.template.align = \"center\";\n",
       "                chart.legend.valueLabels.template.textAlign = \"center\"; \n",
       "\n",
       "                let xAxis = chart.xAxes.push(new am4charts.CategoryAxis())\n",
       "                xAxis.dataFields.category = 'x'\n",
       "                xAxis.renderer.cellStartLocation = 0.1\n",
       "                xAxis.renderer.cellEndLocation = 0.9\n",
       "                xAxis.renderer.grid.template.location = 0;\n",
       "                xAxis.renderer.minGridDistance = 1;\n",
       "                \n",
       "                let label = xAxis.renderer.labels.template;\n",
       "                label.wrap = true;\n",
       "                label.maxWidth = 120;\n",
       "\n",
       "                let yAxis = chart.yAxes.push(new am4charts.ValueAxis());\n",
       "                yAxis.min = 0;\n",
       "\n",
       "                function createSeries(value, name,stacked=false) {\n",
       "                    let series = chart.series.push(new am4charts.ColumnSeries())\n",
       "                    series.name = name\n",
       "                    series.dataFields.valueY = value\n",
       "                    series.dataFields.categoryX = 'x'\n",
       "                    \n",
       "                    series.stacked = stacked;\n",
       "                    //series.columns.template.width = am4core.percent(95);\n",
       "                    \n",
       "                    series.columns.template.tooltipText = \"{name}: [bold]{valueY}[/]\";\n",
       "                    series.tooltip.pointerOrientation = \"down\";\n",
       "                    series.columns.template.tooltipY = -3;\n",
       "\n",
       "                    var bullet = false\n",
       "\n",
       "                    if(bullet) {\n",
       "                        let bullet = series.bullets.push(new am4charts.LabelBullet())\n",
       "                        bullet.dy = -10;\n",
       "                        bullet.label.text = '{valueY}'\n",
       "                        bullet.label.truncate = false;\n",
       "                        bullet.label.fill = am4core.color('#000000')\n",
       "                    }                    \n",
       "\n",
       "                    return series;\n",
       "                }\n",
       "\n",
       "                chart.data = data\n",
       "                \n",
       "                Object.keys(series).forEach(function(key, index) {\n",
       "                    createSeries(key, key,this[key])\n",
       "                }, series);\n",
       "            }\n",
       "        \n",
       "        }\n",
       "        \n",
       "        \n",
       "        function pieCallback(params,canvasID) {\n",
       "            return function(am4core, am4charts, am4themes_animated) {\n",
       "                var data = params['data'];\n",
       "                \n",
       "                am4core.useTheme(am4themes_animated);\n",
       "\n",
       "                 // Create chart instance\n",
       "                var chart = am4core.create(canvasID, am4charts.PieChart);\n",
       "\n",
       "                // Add data\n",
       "                chart.data = data;\n",
       "\n",
       "                // Add and configure Series\n",
       "                var pieSeries = chart.series.push(new am4charts.PieSeries());\n",
       "                pieSeries.dataFields.value = \"y\";\n",
       "                pieSeries.dataFields.category = \"x\";\n",
       "\n",
       "                // Add export\n",
       "                chart.exporting.menu = new am4core.ExportMenu();\n",
       "                \n",
       "                \n",
       "            };\n",
       "        }\n",
       "        \n",
       "        \n",
       "        </script>"
      ],
      "text/plain": [
       "<IPython.core.display.HTML object>"
      ]
     },
     "metadata": {},
     "output_type": "display_data"
    }
   ],
   "source": [
    "am4 = Amchart()"
   ]
  },
  {
   "cell_type": "markdown",
   "metadata": {},
   "source": [
    "prova <img alt=\"Image of Yaktocat\" style=\"display:inline\" src=\"https://img.icons8.com/fluent/16/000000/checkmark.png\">"
   ]
  },
  {
   "cell_type": "markdown",
   "metadata": {},
   "source": [
    "# Data Loading and Cleaning"
   ]
  },
  {
   "cell_type": "code",
   "execution_count": 5,
   "metadata": {},
   "outputs": [
    {
     "data": {
      "text/html": [
       "<div>\n",
       "<style scoped>\n",
       "    .dataframe tbody tr th:only-of-type {\n",
       "        vertical-align: middle;\n",
       "    }\n",
       "\n",
       "    .dataframe tbody tr th {\n",
       "        vertical-align: top;\n",
       "    }\n",
       "\n",
       "    .dataframe thead th {\n",
       "        text-align: right;\n",
       "    }\n",
       "</style>\n",
       "<table border=\"1\" class=\"dataframe\">\n",
       "  <thead>\n",
       "    <tr style=\"text-align: right;\">\n",
       "      <th></th>\n",
       "      <th>month</th>\n",
       "      <th>activity_school_year</th>\n",
       "      <th>n_users_per_year</th>\n",
       "      <th>n_logins</th>\n",
       "      <th>n_activities</th>\n",
       "      <th>n_recipes</th>\n",
       "      <th>n_experiences</th>\n",
       "      <th>avg_n_user_activities</th>\n",
       "      <th>avg_n_user_recipes</th>\n",
       "      <th>avg_n_user_experiences</th>\n",
       "      <th>n_files</th>\n",
       "      <th>n_files_recipes</th>\n",
       "      <th>n_files_experiences</th>\n",
       "      <th>avg_n_files</th>\n",
       "      <th>avg_n_files_recipes</th>\n",
       "      <th>avg_n_files_experiences</th>\n",
       "      <th>std_n_files</th>\n",
       "      <th>std_n_files_recipes</th>\n",
       "      <th>std_n_files_experiences</th>\n",
       "      <th>n_feedback_requests</th>\n",
       "      <th>n_feedback_responses</th>\n",
       "      <th>n_feedback_requests_recipes</th>\n",
       "      <th>n_feedback_responses_recipes</th>\n",
       "      <th>n_feedback_requests_experiences</th>\n",
       "      <th>n_feedback_responses_experiences</th>\n",
       "      <th>n_in_curriculum</th>\n",
       "      <th>n_in_curriculum_recipes</th>\n",
       "      <th>n_in_curriculum_experiences</th>\n",
       "      <th>n_in_curriculum_insert_date</th>\n",
       "      <th>n_in_curriculum_insert_date_recipes</th>\n",
       "      <th>n_in_curriculum_insert_date_experiences</th>\n",
       "      <th>avg_activity_total_length</th>\n",
       "      <th>std_activity_total_length</th>\n",
       "      <th>avg_len_descriptions</th>\n",
       "      <th>std_len_descriptions</th>\n",
       "      <th>avg_len_steps</th>\n",
       "      <th>std_len_steps</th>\n",
       "      <th>avg_len_observations</th>\n",
       "      <th>std_len_observations</th>\n",
       "      <th>avg_avg_len_reflections</th>\n",
       "      <th>std_avg_len_reflections</th>\n",
       "      <th>avg_len_bilancio</th>\n",
       "      <th>std_len_bilancio</th>\n",
       "      <th>avg_len_competenze</th>\n",
       "      <th>std_len_competenze</th>\n",
       "      <th>avg_len_miglioramenti</th>\n",
       "      <th>std_len_miglioramenti</th>\n",
       "      <th>avg_len_critici</th>\n",
       "      <th>std_len_critici</th>\n",
       "      <th>start_year</th>\n",
       "      <th>n_edits</th>\n",
       "      <th>perc_total_feedback_requests</th>\n",
       "      <th>perc_total_feedback_requests_recipes</th>\n",
       "      <th>perc_total_feedback_requests_experiences</th>\n",
       "      <th>perc_feedback_responses</th>\n",
       "      <th>perc_feedback_responses_recipes</th>\n",
       "      <th>perc_feedback_responses_experiences</th>\n",
       "      <th>perc_in_curriculum</th>\n",
       "      <th>perc_recipes_in_curriculum</th>\n",
       "      <th>perc_experiences_in_curriculum</th>\n",
       "      <th>perc_in_curriculum_insert_date</th>\n",
       "      <th>perc_recipes_in_curriculum_insert_date</th>\n",
       "      <th>perc_experiences_in_curriculum_insert_date</th>\n",
       "    </tr>\n",
       "  </thead>\n",
       "  <tbody>\n",
       "    <tr>\n",
       "      <th>0</th>\n",
       "      <td>1</td>\n",
       "      <td>1</td>\n",
       "      <td>547</td>\n",
       "      <td>2512</td>\n",
       "      <td>1259.0</td>\n",
       "      <td>947.0</td>\n",
       "      <td>312.0</td>\n",
       "      <td>4.43</td>\n",
       "      <td>3.33</td>\n",
       "      <td>1.10</td>\n",
       "      <td>3437.0</td>\n",
       "      <td>3061.0</td>\n",
       "      <td>376.0</td>\n",
       "      <td>9.0</td>\n",
       "      <td>9.0</td>\n",
       "      <td>1.0</td>\n",
       "      <td>5.5266</td>\n",
       "      <td>6.0612</td>\n",
       "      <td>2.2693</td>\n",
       "      <td>292.0</td>\n",
       "      <td>0.0</td>\n",
       "      <td>225.0</td>\n",
       "      <td>0.0</td>\n",
       "      <td>67.0</td>\n",
       "      <td>0.0</td>\n",
       "      <td>1174.0</td>\n",
       "      <td>909.0</td>\n",
       "      <td>265.0</td>\n",
       "      <td>222.0</td>\n",
       "      <td>169.0</td>\n",
       "      <td>53.0</td>\n",
       "      <td>124.0</td>\n",
       "      <td>102.32</td>\n",
       "      <td>10.0</td>\n",
       "      <td>20.73</td>\n",
       "      <td>105.0</td>\n",
       "      <td>82.05</td>\n",
       "      <td>9.0</td>\n",
       "      <td>17.39</td>\n",
       "      <td>3.0</td>\n",
       "      <td>6.13</td>\n",
       "      <td>6.0</td>\n",
       "      <td>10.22</td>\n",
       "      <td>8.0</td>\n",
       "      <td>11.16</td>\n",
       "      <td>5.0</td>\n",
       "      <td>8.30</td>\n",
       "      <td>4.0</td>\n",
       "      <td>9.69</td>\n",
       "      <td>2018.0</td>\n",
       "      <td>8964.0</td>\n",
       "      <td>23.19</td>\n",
       "      <td>23.76</td>\n",
       "      <td>21.47</td>\n",
       "      <td>0.0</td>\n",
       "      <td>0.0</td>\n",
       "      <td>0.0</td>\n",
       "      <td>93.25</td>\n",
       "      <td>95.99</td>\n",
       "      <td>84.94</td>\n",
       "      <td>17.63</td>\n",
       "      <td>17.85</td>\n",
       "      <td>16.99</td>\n",
       "    </tr>\n",
       "    <tr>\n",
       "      <th>1</th>\n",
       "      <td>1</td>\n",
       "      <td>2</td>\n",
       "      <td>376</td>\n",
       "      <td>2012</td>\n",
       "      <td>1093.0</td>\n",
       "      <td>367.0</td>\n",
       "      <td>726.0</td>\n",
       "      <td>5.66</td>\n",
       "      <td>1.90</td>\n",
       "      <td>3.76</td>\n",
       "      <td>1976.0</td>\n",
       "      <td>1379.0</td>\n",
       "      <td>597.0</td>\n",
       "      <td>9.0</td>\n",
       "      <td>6.0</td>\n",
       "      <td>2.0</td>\n",
       "      <td>4.5558</td>\n",
       "      <td>5.4339</td>\n",
       "      <td>4.3932</td>\n",
       "      <td>96.0</td>\n",
       "      <td>0.0</td>\n",
       "      <td>62.0</td>\n",
       "      <td>0.0</td>\n",
       "      <td>34.0</td>\n",
       "      <td>0.0</td>\n",
       "      <td>1023.0</td>\n",
       "      <td>323.0</td>\n",
       "      <td>700.0</td>\n",
       "      <td>74.0</td>\n",
       "      <td>51.0</td>\n",
       "      <td>23.0</td>\n",
       "      <td>151.0</td>\n",
       "      <td>143.86</td>\n",
       "      <td>9.0</td>\n",
       "      <td>17.46</td>\n",
       "      <td>134.0</td>\n",
       "      <td>132.57</td>\n",
       "      <td>5.0</td>\n",
       "      <td>13.97</td>\n",
       "      <td>4.0</td>\n",
       "      <td>7.19</td>\n",
       "      <td>3.0</td>\n",
       "      <td>8.44</td>\n",
       "      <td>11.0</td>\n",
       "      <td>17.19</td>\n",
       "      <td>4.0</td>\n",
       "      <td>9.05</td>\n",
       "      <td>5.0</td>\n",
       "      <td>11.23</td>\n",
       "      <td>2018.0</td>\n",
       "      <td>6386.0</td>\n",
       "      <td>8.78</td>\n",
       "      <td>16.89</td>\n",
       "      <td>4.68</td>\n",
       "      <td>0.0</td>\n",
       "      <td>0.0</td>\n",
       "      <td>0.0</td>\n",
       "      <td>93.60</td>\n",
       "      <td>88.01</td>\n",
       "      <td>96.42</td>\n",
       "      <td>6.77</td>\n",
       "      <td>13.90</td>\n",
       "      <td>3.17</td>\n",
       "    </tr>\n",
       "    <tr>\n",
       "      <th>2</th>\n",
       "      <td>1</td>\n",
       "      <td>3</td>\n",
       "      <td>225</td>\n",
       "      <td>1333</td>\n",
       "      <td>805.0</td>\n",
       "      <td>328.0</td>\n",
       "      <td>477.0</td>\n",
       "      <td>7.06</td>\n",
       "      <td>2.88</td>\n",
       "      <td>4.18</td>\n",
       "      <td>596.0</td>\n",
       "      <td>500.0</td>\n",
       "      <td>96.0</td>\n",
       "      <td>11.0</td>\n",
       "      <td>10.0</td>\n",
       "      <td>1.0</td>\n",
       "      <td>7.6447</td>\n",
       "      <td>8.4491</td>\n",
       "      <td>2.8290</td>\n",
       "      <td>43.0</td>\n",
       "      <td>0.0</td>\n",
       "      <td>23.0</td>\n",
       "      <td>0.0</td>\n",
       "      <td>20.0</td>\n",
       "      <td>0.0</td>\n",
       "      <td>682.0</td>\n",
       "      <td>240.0</td>\n",
       "      <td>442.0</td>\n",
       "      <td>1.0</td>\n",
       "      <td>0.0</td>\n",
       "      <td>1.0</td>\n",
       "      <td>146.0</td>\n",
       "      <td>95.45</td>\n",
       "      <td>6.0</td>\n",
       "      <td>10.69</td>\n",
       "      <td>133.0</td>\n",
       "      <td>89.03</td>\n",
       "      <td>3.0</td>\n",
       "      <td>7.57</td>\n",
       "      <td>4.0</td>\n",
       "      <td>4.32</td>\n",
       "      <td>9.0</td>\n",
       "      <td>22.76</td>\n",
       "      <td>12.0</td>\n",
       "      <td>10.23</td>\n",
       "      <td>5.0</td>\n",
       "      <td>7.09</td>\n",
       "      <td>4.0</td>\n",
       "      <td>10.96</td>\n",
       "      <td>2013.0</td>\n",
       "      <td>4169.0</td>\n",
       "      <td>5.34</td>\n",
       "      <td>7.01</td>\n",
       "      <td>4.19</td>\n",
       "      <td>0.0</td>\n",
       "      <td>0.0</td>\n",
       "      <td>0.0</td>\n",
       "      <td>84.72</td>\n",
       "      <td>73.17</td>\n",
       "      <td>92.66</td>\n",
       "      <td>0.12</td>\n",
       "      <td>0.00</td>\n",
       "      <td>0.21</td>\n",
       "    </tr>\n",
       "    <tr>\n",
       "      <th>3</th>\n",
       "      <td>2</td>\n",
       "      <td>1</td>\n",
       "      <td>547</td>\n",
       "      <td>3019</td>\n",
       "      <td>1139.0</td>\n",
       "      <td>728.0</td>\n",
       "      <td>411.0</td>\n",
       "      <td>3.64</td>\n",
       "      <td>2.33</td>\n",
       "      <td>1.31</td>\n",
       "      <td>3843.0</td>\n",
       "      <td>3483.0</td>\n",
       "      <td>360.0</td>\n",
       "      <td>11.0</td>\n",
       "      <td>10.0</td>\n",
       "      <td>1.0</td>\n",
       "      <td>6.7857</td>\n",
       "      <td>7.2533</td>\n",
       "      <td>2.2828</td>\n",
       "      <td>249.0</td>\n",
       "      <td>0.0</td>\n",
       "      <td>181.0</td>\n",
       "      <td>0.0</td>\n",
       "      <td>68.0</td>\n",
       "      <td>0.0</td>\n",
       "      <td>1006.0</td>\n",
       "      <td>663.0</td>\n",
       "      <td>343.0</td>\n",
       "      <td>197.0</td>\n",
       "      <td>148.0</td>\n",
       "      <td>49.0</td>\n",
       "      <td>132.0</td>\n",
       "      <td>115.33</td>\n",
       "      <td>8.0</td>\n",
       "      <td>21.39</td>\n",
       "      <td>116.0</td>\n",
       "      <td>99.51</td>\n",
       "      <td>9.0</td>\n",
       "      <td>18.16</td>\n",
       "      <td>4.0</td>\n",
       "      <td>6.68</td>\n",
       "      <td>6.0</td>\n",
       "      <td>11.10</td>\n",
       "      <td>10.0</td>\n",
       "      <td>13.65</td>\n",
       "      <td>5.0</td>\n",
       "      <td>9.06</td>\n",
       "      <td>5.0</td>\n",
       "      <td>11.09</td>\n",
       "      <td>2018.0</td>\n",
       "      <td>7554.0</td>\n",
       "      <td>21.86</td>\n",
       "      <td>24.86</td>\n",
       "      <td>16.55</td>\n",
       "      <td>0.0</td>\n",
       "      <td>0.0</td>\n",
       "      <td>0.0</td>\n",
       "      <td>88.32</td>\n",
       "      <td>91.07</td>\n",
       "      <td>83.45</td>\n",
       "      <td>17.30</td>\n",
       "      <td>20.33</td>\n",
       "      <td>11.92</td>\n",
       "    </tr>\n",
       "    <tr>\n",
       "      <th>4</th>\n",
       "      <td>2</td>\n",
       "      <td>2</td>\n",
       "      <td>376</td>\n",
       "      <td>2025</td>\n",
       "      <td>1234.0</td>\n",
       "      <td>334.0</td>\n",
       "      <td>900.0</td>\n",
       "      <td>6.63</td>\n",
       "      <td>1.80</td>\n",
       "      <td>4.84</td>\n",
       "      <td>2134.0</td>\n",
       "      <td>1285.0</td>\n",
       "      <td>849.0</td>\n",
       "      <td>10.0</td>\n",
       "      <td>7.0</td>\n",
       "      <td>3.0</td>\n",
       "      <td>7.8019</td>\n",
       "      <td>8.3508</td>\n",
       "      <td>5.7190</td>\n",
       "      <td>87.0</td>\n",
       "      <td>0.0</td>\n",
       "      <td>37.0</td>\n",
       "      <td>0.0</td>\n",
       "      <td>50.0</td>\n",
       "      <td>0.0</td>\n",
       "      <td>1158.0</td>\n",
       "      <td>299.0</td>\n",
       "      <td>859.0</td>\n",
       "      <td>145.0</td>\n",
       "      <td>36.0</td>\n",
       "      <td>109.0</td>\n",
       "      <td>154.0</td>\n",
       "      <td>148.31</td>\n",
       "      <td>6.0</td>\n",
       "      <td>16.40</td>\n",
       "      <td>142.0</td>\n",
       "      <td>137.66</td>\n",
       "      <td>5.0</td>\n",
       "      <td>14.59</td>\n",
       "      <td>3.0</td>\n",
       "      <td>5.86</td>\n",
       "      <td>4.0</td>\n",
       "      <td>7.43</td>\n",
       "      <td>7.0</td>\n",
       "      <td>14.39</td>\n",
       "      <td>3.0</td>\n",
       "      <td>6.54</td>\n",
       "      <td>3.0</td>\n",
       "      <td>7.16</td>\n",
       "      <td>2018.0</td>\n",
       "      <td>7422.0</td>\n",
       "      <td>7.05</td>\n",
       "      <td>11.08</td>\n",
       "      <td>5.56</td>\n",
       "      <td>0.0</td>\n",
       "      <td>0.0</td>\n",
       "      <td>0.0</td>\n",
       "      <td>93.84</td>\n",
       "      <td>89.52</td>\n",
       "      <td>95.44</td>\n",
       "      <td>11.75</td>\n",
       "      <td>10.78</td>\n",
       "      <td>12.11</td>\n",
       "    </tr>\n",
       "  </tbody>\n",
       "</table>\n",
       "</div>"
      ],
      "text/plain": [
       "   month  activity_school_year  n_users_per_year  n_logins  n_activities  \\\n",
       "0      1                     1               547      2512        1259.0   \n",
       "1      1                     2               376      2012        1093.0   \n",
       "2      1                     3               225      1333         805.0   \n",
       "3      2                     1               547      3019        1139.0   \n",
       "4      2                     2               376      2025        1234.0   \n",
       "\n",
       "   n_recipes  n_experiences  avg_n_user_activities  avg_n_user_recipes  \\\n",
       "0      947.0          312.0                   4.43                3.33   \n",
       "1      367.0          726.0                   5.66                1.90   \n",
       "2      328.0          477.0                   7.06                2.88   \n",
       "3      728.0          411.0                   3.64                2.33   \n",
       "4      334.0          900.0                   6.63                1.80   \n",
       "\n",
       "   avg_n_user_experiences  n_files  n_files_recipes  n_files_experiences  \\\n",
       "0                    1.10   3437.0           3061.0                376.0   \n",
       "1                    3.76   1976.0           1379.0                597.0   \n",
       "2                    4.18    596.0            500.0                 96.0   \n",
       "3                    1.31   3843.0           3483.0                360.0   \n",
       "4                    4.84   2134.0           1285.0                849.0   \n",
       "\n",
       "   avg_n_files  avg_n_files_recipes  avg_n_files_experiences  std_n_files  \\\n",
       "0          9.0                  9.0                      1.0       5.5266   \n",
       "1          9.0                  6.0                      2.0       4.5558   \n",
       "2         11.0                 10.0                      1.0       7.6447   \n",
       "3         11.0                 10.0                      1.0       6.7857   \n",
       "4         10.0                  7.0                      3.0       7.8019   \n",
       "\n",
       "   std_n_files_recipes  std_n_files_experiences  n_feedback_requests  \\\n",
       "0               6.0612                   2.2693                292.0   \n",
       "1               5.4339                   4.3932                 96.0   \n",
       "2               8.4491                   2.8290                 43.0   \n",
       "3               7.2533                   2.2828                249.0   \n",
       "4               8.3508                   5.7190                 87.0   \n",
       "\n",
       "   n_feedback_responses  n_feedback_requests_recipes  \\\n",
       "0                   0.0                        225.0   \n",
       "1                   0.0                         62.0   \n",
       "2                   0.0                         23.0   \n",
       "3                   0.0                        181.0   \n",
       "4                   0.0                         37.0   \n",
       "\n",
       "   n_feedback_responses_recipes  n_feedback_requests_experiences  \\\n",
       "0                           0.0                             67.0   \n",
       "1                           0.0                             34.0   \n",
       "2                           0.0                             20.0   \n",
       "3                           0.0                             68.0   \n",
       "4                           0.0                             50.0   \n",
       "\n",
       "   n_feedback_responses_experiences  n_in_curriculum  n_in_curriculum_recipes  \\\n",
       "0                               0.0           1174.0                    909.0   \n",
       "1                               0.0           1023.0                    323.0   \n",
       "2                               0.0            682.0                    240.0   \n",
       "3                               0.0           1006.0                    663.0   \n",
       "4                               0.0           1158.0                    299.0   \n",
       "\n",
       "   n_in_curriculum_experiences  n_in_curriculum_insert_date  \\\n",
       "0                        265.0                        222.0   \n",
       "1                        700.0                         74.0   \n",
       "2                        442.0                          1.0   \n",
       "3                        343.0                        197.0   \n",
       "4                        859.0                        145.0   \n",
       "\n",
       "   n_in_curriculum_insert_date_recipes  \\\n",
       "0                                169.0   \n",
       "1                                 51.0   \n",
       "2                                  0.0   \n",
       "3                                148.0   \n",
       "4                                 36.0   \n",
       "\n",
       "   n_in_curriculum_insert_date_experiences  avg_activity_total_length  \\\n",
       "0                                     53.0                      124.0   \n",
       "1                                     23.0                      151.0   \n",
       "2                                      1.0                      146.0   \n",
       "3                                     49.0                      132.0   \n",
       "4                                    109.0                      154.0   \n",
       "\n",
       "   std_activity_total_length  avg_len_descriptions  std_len_descriptions  \\\n",
       "0                     102.32                  10.0                 20.73   \n",
       "1                     143.86                   9.0                 17.46   \n",
       "2                      95.45                   6.0                 10.69   \n",
       "3                     115.33                   8.0                 21.39   \n",
       "4                     148.31                   6.0                 16.40   \n",
       "\n",
       "   avg_len_steps  std_len_steps  avg_len_observations  std_len_observations  \\\n",
       "0          105.0          82.05                   9.0                 17.39   \n",
       "1          134.0         132.57                   5.0                 13.97   \n",
       "2          133.0          89.03                   3.0                  7.57   \n",
       "3          116.0          99.51                   9.0                 18.16   \n",
       "4          142.0         137.66                   5.0                 14.59   \n",
       "\n",
       "   avg_avg_len_reflections  std_avg_len_reflections  avg_len_bilancio  \\\n",
       "0                      3.0                     6.13               6.0   \n",
       "1                      4.0                     7.19               3.0   \n",
       "2                      4.0                     4.32               9.0   \n",
       "3                      4.0                     6.68               6.0   \n",
       "4                      3.0                     5.86               4.0   \n",
       "\n",
       "   std_len_bilancio  avg_len_competenze  std_len_competenze  \\\n",
       "0             10.22                 8.0               11.16   \n",
       "1              8.44                11.0               17.19   \n",
       "2             22.76                12.0               10.23   \n",
       "3             11.10                10.0               13.65   \n",
       "4              7.43                 7.0               14.39   \n",
       "\n",
       "   avg_len_miglioramenti  std_len_miglioramenti  avg_len_critici  \\\n",
       "0                    5.0                   8.30              4.0   \n",
       "1                    4.0                   9.05              5.0   \n",
       "2                    5.0                   7.09              4.0   \n",
       "3                    5.0                   9.06              5.0   \n",
       "4                    3.0                   6.54              3.0   \n",
       "\n",
       "   std_len_critici  start_year  n_edits  perc_total_feedback_requests  \\\n",
       "0             9.69      2018.0   8964.0                         23.19   \n",
       "1            11.23      2018.0   6386.0                          8.78   \n",
       "2            10.96      2013.0   4169.0                          5.34   \n",
       "3            11.09      2018.0   7554.0                         21.86   \n",
       "4             7.16      2018.0   7422.0                          7.05   \n",
       "\n",
       "   perc_total_feedback_requests_recipes  \\\n",
       "0                                 23.76   \n",
       "1                                 16.89   \n",
       "2                                  7.01   \n",
       "3                                 24.86   \n",
       "4                                 11.08   \n",
       "\n",
       "   perc_total_feedback_requests_experiences  perc_feedback_responses  \\\n",
       "0                                     21.47                      0.0   \n",
       "1                                      4.68                      0.0   \n",
       "2                                      4.19                      0.0   \n",
       "3                                     16.55                      0.0   \n",
       "4                                      5.56                      0.0   \n",
       "\n",
       "   perc_feedback_responses_recipes  perc_feedback_responses_experiences  \\\n",
       "0                              0.0                                  0.0   \n",
       "1                              0.0                                  0.0   \n",
       "2                              0.0                                  0.0   \n",
       "3                              0.0                                  0.0   \n",
       "4                              0.0                                  0.0   \n",
       "\n",
       "   perc_in_curriculum  perc_recipes_in_curriculum  \\\n",
       "0               93.25                       95.99   \n",
       "1               93.60                       88.01   \n",
       "2               84.72                       73.17   \n",
       "3               88.32                       91.07   \n",
       "4               93.84                       89.52   \n",
       "\n",
       "   perc_experiences_in_curriculum  perc_in_curriculum_insert_date  \\\n",
       "0                           84.94                           17.63   \n",
       "1                           96.42                            6.77   \n",
       "2                           92.66                            0.12   \n",
       "3                           83.45                           17.30   \n",
       "4                           95.44                           11.75   \n",
       "\n",
       "   perc_recipes_in_curriculum_insert_date  \\\n",
       "0                                   17.85   \n",
       "1                                   13.90   \n",
       "2                                    0.00   \n",
       "3                                   20.33   \n",
       "4                                   10.78   \n",
       "\n",
       "   perc_experiences_in_curriculum_insert_date  \n",
       "0                                       16.99  \n",
       "1                                        3.17  \n",
       "2                                        0.21  \n",
       "3                                       11.92  \n",
       "4                                       12.11  "
      ]
     },
     "execution_count": 5,
     "metadata": {},
     "output_type": "execute_result"
    }
   ],
   "source": [
    "df_months = pd.read_csv(f\"{data_folder}months.csv\").fillna(0).sort_values(by=['month','activity_school_year'])\n",
    "df_months.head()"
   ]
  },
  {
   "cell_type": "code",
   "execution_count": 6,
   "metadata": {},
   "outputs": [],
   "source": [
    "#month_map={1:'Jan', 2:'Feb', 3:'Mar', 4:'Apr', 5:'May', 6:'Jun', 7:'Jul', 8:'Aug', 9:'Sep', 10:'Oct', 11:'Nov', 12:'Dec'}\n",
    "#df_months.replace({'month':month_map},inplace=True)"
   ]
  },
  {
   "cell_type": "code",
   "execution_count": 7,
   "metadata": {},
   "outputs": [],
   "source": [
    "y_users = df_months['n_users_per_year']\n",
    "df_months['norm_avg_n_user_recipes']        = df_months['n_recipes'].divide(y_users)\n",
    "df_months['norm_avg_n_user_experiences']    = df_months['n_experiences'].divide(y_users)\n",
    "df_months['norm_avg_n_activities']          = df_months['n_activities'].divide(y_users)"
   ]
  },
  {
   "cell_type": "markdown",
   "metadata": {},
   "source": [
    "# Data Exploring"
   ]
  },
  {
   "cell_type": "markdown",
   "metadata": {},
   "source": [
    "## Apprentices"
   ]
  },
  {
   "cell_type": "markdown",
   "metadata": {},
   "source": [
    "### # of activities"
   ]
  },
  {
   "cell_type": "code",
   "execution_count": 8,
   "metadata": {
    "scrolled": false
   },
   "outputs": [
    {
     "data": {
      "application/javascript": [
       "element.append('<div id=\"chartdiv_19f310f6-9ea9-11ea-badb-c0335ee590ee\" class=\"am4jy\" style=\"height: 500px;\"></div>');"
      ],
      "text/plain": [
       "<IPython.core.display.Javascript object>"
      ]
     },
     "metadata": {},
     "output_type": "display_data"
    },
    {
     "data": {
      "application/javascript": [
       "$('#chartdiv_19f310f6-9ea9-11ea-badb-c0335ee590ee').parent(\"div\").css(\"width\",\"100%\").css(\"overflow-y\",\"hidden\");"
      ],
      "text/plain": [
       "<IPython.core.display.Javascript object>"
      ]
     },
     "metadata": {},
     "output_type": "display_data"
    },
    {
     "data": {
      "application/javascript": [
       "var params = {};\n",
       "        params['series'] = {'year 1': 0, 'year 2': 0, 'year 3': 0};\n",
       "        \n",
       "        params['title'] = \"Total number of activities per month\";\n",
       "            \n",
       "        \n",
       "        params['data'] = [{'x': 1, 'year 1': 1259.0, 'year 2': 1093.0, 'year 3': 805.0}, {'x': 2, 'year 1': 1139.0, 'year 2': 1234.0, 'year 3': 728.0}, {'x': 3, 'year 1': 1228.0, 'year 2': 1493.0, 'year 3': 592.0}, {'x': 4, 'year 1': 1074.0, 'year 2': 1100.0, 'year 3': 610.0}, {'x': 5, 'year 1': 1429.0, 'year 2': 987.0, 'year 3': 1635.0}, {'x': 6, 'year 1': 1002.0, 'year 2': 1269.0, 'year 3': 2883.0}, {'x': 7, 'year 1': 393.0, 'year 2': 168.0, 'year 3': 0.0}, {'x': 8, 'year 1': 522.0, 'year 2': 666.0, 'year 3': 42.0}, {'x': 9, 'year 1': 100.0, 'year 2': 687.0, 'year 3': 436.0}, {'x': 10, 'year 1': 580.0, 'year 2': 1265.0, 'year 3': 767.0}, {'x': 11, 'year 1': 1119.0, 'year 2': 1213.0, 'year 3': 1009.0}, {'x': 12, 'year 1': 1000.0, 'year 2': 943.0, 'year 3': 504.0}];\n",
       "        \n",
       "        require(['amchart_core', 'amchart_charts', 'amcharts4/themes/animated'], columnCallback(params,\"chartdiv_19f310f6-9ea9-11ea-badb-c0335ee590ee\") , function (err) {\n",
       "            console.log(err);\n",
       "        });\n",
       "        "
      ],
      "text/plain": [
       "<IPython.core.display.Javascript object>"
      ]
     },
     "metadata": {},
     "output_type": "display_data"
    }
   ],
   "source": [
    "column = am4.ColumnChart()\n",
    "column.setTitle(\"Total number of activities per month\")\n",
    "column.fromDataFrame(df_months, \"month\", \"n_activities\", hue=\"activity_school_year\", hue_prefix=\"year \")\n",
    "column.plot()"
   ]
  },
  {
   "cell_type": "code",
   "execution_count": 9,
   "metadata": {},
   "outputs": [
    {
     "data": {
      "application/javascript": [
       "element.append('<div id=\"chartdiv_1cdb7bb0-9ea9-11ea-aa16-c0335ee590ee\" class=\"am4jy\" style=\"height: 500px;\"></div>');"
      ],
      "text/plain": [
       "<IPython.core.display.Javascript object>"
      ]
     },
     "metadata": {},
     "output_type": "display_data"
    },
    {
     "data": {
      "application/javascript": [
       "$('#chartdiv_1cdb7bb0-9ea9-11ea-aa16-c0335ee590ee').parent(\"div\").css(\"width\",\"100%\").css(\"overflow-y\",\"hidden\");"
      ],
      "text/plain": [
       "<IPython.core.display.Javascript object>"
      ]
     },
     "metadata": {},
     "output_type": "display_data"
    },
    {
     "data": {
      "application/javascript": [
       "var params = {};\n",
       "        params['series'] = {'year 1': 0, 'year 2': 0, 'year 3': 0};\n",
       "        \n",
       "        params['title'] = \"[bold]Average[/] number of activities per all the users per month\";\n",
       "            \n",
       "        \n",
       "        params['data'] = [{'x': 1, 'year 1': 2.3016453382084094, 'year 2': 2.9069148936170213, 'year 3': 3.577777777777778}, {'x': 2, 'year 1': 2.082266910420475, 'year 2': 3.2819148936170213, 'year 3': 3.2355555555555555}, {'x': 3, 'year 1': 2.2449725776965264, 'year 2': 3.970744680851064, 'year 3': 2.631111111111111}, {'x': 4, 'year 1': 1.963436928702011, 'year 2': 2.925531914893617, 'year 3': 2.7111111111111112}, {'x': 5, 'year 1': 2.612431444241316, 'year 2': 2.625, 'year 3': 7.266666666666667}, {'x': 6, 'year 1': 1.8318098720292504, 'year 2': 3.375, 'year 3': 12.813333333333333}, {'x': 7, 'year 1': 0.7184643510054844, 'year 2': 0.44680851063829785, 'year 3': 0.0}, {'x': 8, 'year 1': 0.9542961608775137, 'year 2': 1.7712765957446808, 'year 3': 0.18666666666666668}, {'x': 9, 'year 1': 0.18281535648994515, 'year 2': 1.827127659574468, 'year 3': 1.9377777777777778}, {'x': 10, 'year 1': 1.0603290676416819, 'year 2': 3.3643617021276597, 'year 3': 3.408888888888889}, {'x': 11, 'year 1': 2.045703839122486, 'year 2': 3.226063829787234, 'year 3': 4.484444444444445}, {'x': 12, 'year 1': 1.8281535648994516, 'year 2': 2.507978723404255, 'year 3': 2.24}];\n",
       "        \n",
       "        require(['amchart_core', 'amchart_charts', 'amcharts4/themes/animated'], columnCallback(params,\"chartdiv_1cdb7bb0-9ea9-11ea-aa16-c0335ee590ee\") , function (err) {\n",
       "            console.log(err);\n",
       "        });\n",
       "        "
      ],
      "text/plain": [
       "<IPython.core.display.Javascript object>"
      ]
     },
     "metadata": {},
     "output_type": "display_data"
    }
   ],
   "source": [
    "column = am4.ColumnChart()\n",
    "column.setTitle(\"[bold]Average[/] number of activities per all the users per month\")\n",
    "column.fromDataFrame(df_months, \"month\", \n",
    "                     \"norm_avg_n_activities\", \n",
    "                     hue=\"activity_school_year\", hue_prefix=\"year \")\n",
    "column.plot()"
   ]
  },
  {
   "cell_type": "code",
   "execution_count": 10,
   "metadata": {},
   "outputs": [
    {
     "data": {
      "application/javascript": [
       "element.append('<div id=\"chartdiv_1f38b282-9ea9-11ea-a890-c0335ee590ee\" class=\"am4jy\" style=\"height: 500px;\"></div>');"
      ],
      "text/plain": [
       "<IPython.core.display.Javascript object>"
      ]
     },
     "metadata": {},
     "output_type": "display_data"
    },
    {
     "data": {
      "application/javascript": [
       "$('#chartdiv_1f38b282-9ea9-11ea-a890-c0335ee590ee').parent(\"div\").css(\"width\",\"100%\").css(\"overflow-y\",\"hidden\");"
      ],
      "text/plain": [
       "<IPython.core.display.Javascript object>"
      ]
     },
     "metadata": {},
     "output_type": "display_data"
    },
    {
     "data": {
      "application/javascript": [
       "var params = {};\n",
       "        params['series'] = {'year 1 - norm_avg_n_user_recipes': 0, 'year 1 - norm_avg_n_user_experiences': 1, 'year 2 - norm_avg_n_user_recipes': 0, 'year 2 - norm_avg_n_user_experiences': 1, 'year 3 - norm_avg_n_user_recipes': 0, 'year 3 - norm_avg_n_user_experiences': 1};\n",
       "        \n",
       "        params['title'] = \"Average number of [bold]activities[/] per user per month\";\n",
       "            \n",
       "        \n",
       "        params['data'] = [{'x': 1, 'year 1 - norm_avg_n_user_recipes': 1.7312614259597807, 'year 1 - norm_avg_n_user_experiences': 0.5703839122486288, 'year 2 - norm_avg_n_user_recipes': 0.976063829787234, 'year 2 - norm_avg_n_user_experiences': 1.9308510638297873, 'year 3 - norm_avg_n_user_recipes': 1.4577777777777778, 'year 3 - norm_avg_n_user_experiences': 2.12}, {'x': 2, 'year 1 - norm_avg_n_user_recipes': 1.3308957952468008, 'year 1 - norm_avg_n_user_experiences': 0.7513711151736746, 'year 2 - norm_avg_n_user_recipes': 0.8882978723404256, 'year 2 - norm_avg_n_user_experiences': 2.393617021276596, 'year 3 - norm_avg_n_user_recipes': 0.5644444444444444, 'year 3 - norm_avg_n_user_experiences': 2.671111111111111}, {'x': 3, 'year 1 - norm_avg_n_user_recipes': 1.5959780621572213, 'year 1 - norm_avg_n_user_experiences': 0.6489945155393053, 'year 2 - norm_avg_n_user_recipes': 1.4388297872340425, 'year 2 - norm_avg_n_user_experiences': 2.5319148936170213, 'year 3 - norm_avg_n_user_recipes': 0.9111111111111111, 'year 3 - norm_avg_n_user_experiences': 1.72}, {'x': 4, 'year 1 - norm_avg_n_user_recipes': 1.1846435100548447, 'year 1 - norm_avg_n_user_experiences': 0.7787934186471663, 'year 2 - norm_avg_n_user_recipes': 1.3377659574468086, 'year 2 - norm_avg_n_user_experiences': 1.5877659574468086, 'year 3 - norm_avg_n_user_recipes': 0.6755555555555556, 'year 3 - norm_avg_n_user_experiences': 2.0355555555555553}, {'x': 5, 'year 1 - norm_avg_n_user_recipes': 1.5356489945155394, 'year 1 - norm_avg_n_user_experiences': 1.076782449725777, 'year 2 - norm_avg_n_user_recipes': 1.5079787234042554, 'year 2 - norm_avg_n_user_experiences': 1.1170212765957446, 'year 3 - norm_avg_n_user_recipes': 3.3644444444444446, 'year 3 - norm_avg_n_user_experiences': 3.902222222222222}, {'x': 6, 'year 1 - norm_avg_n_user_recipes': 0.7020109689213894, 'year 1 - norm_avg_n_user_experiences': 1.129798903107861, 'year 2 - norm_avg_n_user_recipes': 0.925531914893617, 'year 2 - norm_avg_n_user_experiences': 2.449468085106383, 'year 3 - norm_avg_n_user_recipes': 2.4355555555555557, 'year 3 - norm_avg_n_user_experiences': 10.377777777777778}, {'x': 7, 'year 1 - norm_avg_n_user_recipes': 0.3126142595978062, 'year 1 - norm_avg_n_user_experiences': 0.40585009140767825, 'year 2 - norm_avg_n_user_recipes': 0.17287234042553193, 'year 2 - norm_avg_n_user_experiences': 0.27393617021276595, 'year 3 - norm_avg_n_user_recipes': 0.0, 'year 3 - norm_avg_n_user_experiences': 0.0}, {'x': 8, 'year 1 - norm_avg_n_user_recipes': 0.5027422303473492, 'year 1 - norm_avg_n_user_experiences': 0.4515539305301645, 'year 2 - norm_avg_n_user_recipes': 0.47606382978723405, 'year 2 - norm_avg_n_user_experiences': 1.2952127659574468, 'year 3 - norm_avg_n_user_recipes': 0.18666666666666668, 'year 3 - norm_avg_n_user_experiences': 0.0}, {'x': 9, 'year 1 - norm_avg_n_user_recipes': 0.12979890310786105, 'year 1 - norm_avg_n_user_experiences': 0.05301645338208409, 'year 2 - norm_avg_n_user_recipes': 0.8723404255319149, 'year 2 - norm_avg_n_user_experiences': 0.9547872340425532, 'year 3 - norm_avg_n_user_recipes': 1.191111111111111, 'year 3 - norm_avg_n_user_experiences': 0.7466666666666667}, {'x': 10, 'year 1 - norm_avg_n_user_recipes': 0.793418647166362, 'year 1 - norm_avg_n_user_experiences': 0.26691042047531993, 'year 2 - norm_avg_n_user_recipes': 1.2606382978723405, 'year 2 - norm_avg_n_user_experiences': 2.103723404255319, 'year 3 - norm_avg_n_user_recipes': 1.6977777777777778, 'year 3 - norm_avg_n_user_experiences': 1.711111111111111}, {'x': 11, 'year 1 - norm_avg_n_user_recipes': 1.5612431444241317, 'year 1 - norm_avg_n_user_experiences': 0.4844606946983547, 'year 2 - norm_avg_n_user_recipes': 1.4015957446808511, 'year 2 - norm_avg_n_user_experiences': 1.824468085106383, 'year 3 - norm_avg_n_user_recipes': 2.453333333333333, 'year 3 - norm_avg_n_user_experiences': 2.031111111111111}, {'x': 12, 'year 1 - norm_avg_n_user_recipes': 1.396709323583181, 'year 1 - norm_avg_n_user_experiences': 0.43144424131627057, 'year 2 - norm_avg_n_user_recipes': 0.9175531914893617, 'year 2 - norm_avg_n_user_experiences': 1.5904255319148937, 'year 3 - norm_avg_n_user_recipes': 0.9822222222222222, 'year 3 - norm_avg_n_user_experiences': 1.2577777777777779}];\n",
       "        \n",
       "        require(['amchart_core', 'amchart_charts', 'amcharts4/themes/animated'], columnCallback(params,\"chartdiv_1f38b282-9ea9-11ea-a890-c0335ee590ee\") , function (err) {\n",
       "            console.log(err);\n",
       "        });\n",
       "        "
      ],
      "text/plain": [
       "<IPython.core.display.Javascript object>"
      ]
     },
     "metadata": {},
     "output_type": "display_data"
    }
   ],
   "source": [
    "column = am4.ColumnChart()\n",
    "column.setTitle(\"Average number of [bold]activities[/] per user per month\")\n",
    "column.fromDataFrame(df_months, \"month\", \n",
    "                     [\"norm_avg_n_user_recipes\",\"norm_avg_n_user_experiences\"], \n",
    "                     hue=\"activity_school_year\", hue_prefix=\"year \")\n",
    "column.plot()"
   ]
  },
  {
   "cell_type": "markdown",
   "metadata": {},
   "source": [
    "----------\n",
    "\n",
    "### Files"
   ]
  },
  {
   "cell_type": "code",
   "execution_count": 11,
   "metadata": {},
   "outputs": [
    {
     "data": {
      "application/javascript": [
       "element.append('<div id=\"chartdiv_22feac68-9ea9-11ea-818f-c0335ee590ee\" class=\"am4jy\" style=\"height: 500px;\"></div>');"
      ],
      "text/plain": [
       "<IPython.core.display.Javascript object>"
      ]
     },
     "metadata": {},
     "output_type": "display_data"
    },
    {
     "data": {
      "application/javascript": [
       "$('#chartdiv_22feac68-9ea9-11ea-818f-c0335ee590ee').parent(\"div\").css(\"width\",\"100%\").css(\"overflow-y\",\"hidden\");"
      ],
      "text/plain": [
       "<IPython.core.display.Javascript object>"
      ]
     },
     "metadata": {},
     "output_type": "display_data"
    },
    {
     "data": {
      "application/javascript": [
       "var params = {};\n",
       "        params['series'] = {'year 1 - norm_n_files_recipes': 0, 'year 1 - norm_n_files_experiences': 1, 'year 2 - norm_n_files_recipes': 0, 'year 2 - norm_n_files_experiences': 1, 'year 3 - norm_n_files_recipes': 0, 'year 3 - norm_n_files_experiences': 1};\n",
       "        \n",
       "        params['title'] = \"[bold]Normalized[/] number of activities's files per month\";\n",
       "            \n",
       "        \n",
       "        params['data'] = [{'x': 1, 'year 1 - norm_n_files_recipes': 2.431294678316124, 'year 1 - norm_n_files_experiences': 0.29864972200158857, 'year 2 - norm_n_files_recipes': 1.261665141811528, 'year 2 - norm_n_files_experiences': 0.546203110704483, 'year 3 - norm_n_files_recipes': 0.6211180124223602, 'year 3 - norm_n_files_experiences': 0.11925465838509317}, {'x': 2, 'year 1 - norm_n_files_recipes': 3.057945566286216, 'year 1 - norm_n_files_experiences': 0.3160667251975417, 'year 2 - norm_n_files_recipes': 1.0413290113452187, 'year 2 - norm_n_files_experiences': 0.6880064829821718, 'year 3 - norm_n_files_recipes': 0.385989010989011, 'year 3 - norm_n_files_experiences': 0.10164835164835165}, {'x': 3, 'year 1 - norm_n_files_recipes': 3.8436482084690553, 'year 1 - norm_n_files_experiences': 0.4169381107491857, 'year 2 - norm_n_files_recipes': 1.7059611520428668, 'year 2 - norm_n_files_experiences': 0.39517749497655724, 'year 3 - norm_n_files_recipes': 1.027027027027027, 'year 3 - norm_n_files_experiences': 0.09121621621621621}, {'x': 4, 'year 1 - norm_n_files_recipes': 3.0772811918063314, 'year 1 - norm_n_files_experiences': 0.2644320297951583, 'year 2 - norm_n_files_recipes': 1.6136363636363635, 'year 2 - norm_n_files_experiences': 0.41909090909090907, 'year 3 - norm_n_files_recipes': 1.040983606557377, 'year 3 - norm_n_files_experiences': 0.3655737704918033}, {'x': 5, 'year 1 - norm_n_files_recipes': 2.2631210636808956, 'year 1 - norm_n_files_experiences': 0.1966410076976907, 'year 2 - norm_n_files_recipes': 1.7041540020263424, 'year 2 - norm_n_files_experiences': 0.2988855116514691, 'year 3 - norm_n_files_recipes': 0.44587155963302755, 'year 3 - norm_n_files_experiences': 0.11009174311926606}, {'x': 6, 'year 1 - norm_n_files_recipes': 1.2035928143712575, 'year 1 - norm_n_files_experiences': 0.2874251497005988, 'year 2 - norm_n_files_recipes': 0.47832939322301027, 'year 2 - norm_n_files_experiences': 0.4980299448384555, 'year 3 - norm_n_files_recipes': 0.11481096080471731, 'year 3 - norm_n_files_experiences': 0.08324661810613944}, {'x': 7, 'year 1 - norm_n_files_recipes': 1.2213740458015268, 'year 1 - norm_n_files_experiences': 0.40966921119592875, 'year 2 - norm_n_files_recipes': 1.9107142857142858, 'year 2 - norm_n_files_experiences': 0.13690476190476192, 'year 3 - norm_n_files_recipes': 0.0, 'year 3 - norm_n_files_experiences': 0.0}, {'x': 8, 'year 1 - norm_n_files_recipes': 2.371647509578544, 'year 1 - norm_n_files_experiences': 0.4904214559386973, 'year 2 - norm_n_files_recipes': 0.8933933933933934, 'year 2 - norm_n_files_experiences': 0.2702702702702703, 'year 3 - norm_n_files_recipes': 0.19047619047619047, 'year 3 - norm_n_files_experiences': 0.0}, {'x': 9, 'year 1 - norm_n_files_recipes': 1.73, 'year 1 - norm_n_files_experiences': 0.24, 'year 2 - norm_n_files_recipes': 2.0, 'year 2 - norm_n_files_experiences': 0.8602620087336245, 'year 3 - norm_n_files_recipes': 2.5688073394495414, 'year 3 - norm_n_files_experiences': 0.12614678899082568}, {'x': 10, 'year 1 - norm_n_files_recipes': 3.536206896551724, 'year 1 - norm_n_files_experiences': 0.3482758620689655, 'year 2 - norm_n_files_recipes': 1.6972332015810276, 'year 2 - norm_n_files_experiences': 0.5762845849802372, 'year 3 - norm_n_files_recipes': 2.0, 'year 3 - norm_n_files_experiences': 0.27509778357235987}, {'x': 11, 'year 1 - norm_n_files_recipes': 3.0428954423592494, 'year 1 - norm_n_files_experiences': 0.3780160857908847, 'year 2 - norm_n_files_recipes': 1.855729596042869, 'year 2 - norm_n_files_experiences': 0.5144270403957131, 'year 3 - norm_n_files_recipes': 1.7145688800792864, 'year 3 - norm_n_files_experiences': 0.1595639246778989}, {'x': 12, 'year 1 - norm_n_files_recipes': 3.119, 'year 1 - norm_n_files_experiences': 0.387, 'year 2 - norm_n_files_recipes': 1.3934252386002122, 'year 2 - norm_n_files_experiences': 0.542948038176034, 'year 3 - norm_n_files_recipes': 1.4722222222222223, 'year 3 - norm_n_files_experiences': 0.17063492063492064}];\n",
       "        \n",
       "        require(['amchart_core', 'amchart_charts', 'amcharts4/themes/animated'], columnCallback(params,\"chartdiv_22feac68-9ea9-11ea-818f-c0335ee590ee\") , function (err) {\n",
       "            console.log(err);\n",
       "        });\n",
       "        "
      ],
      "text/plain": [
       "<IPython.core.display.Javascript object>"
      ]
     },
     "metadata": {},
     "output_type": "display_data"
    }
   ],
   "source": [
    "df_months['norm_n_files_recipes'] = df_months['n_files_recipes'].divide(df_months['n_activities'])\n",
    "df_months['norm_n_files_experiences'] = df_months['n_files_experiences'].divide(df_months['n_activities'])\n",
    "\n",
    "column = am4.ColumnChart()\n",
    "column.setTitle(\"[bold]Normalized[/] number of activities's files per month\")\n",
    "column.fromDataFrame(df_months, \"month\", \n",
    "                     ['norm_n_files_recipes','norm_n_files_experiences'], \n",
    "                     hue=\"activity_school_year\", hue_prefix=\"year \")\n",
    "column.plot()"
   ]
  },
  {
   "cell_type": "markdown",
   "metadata": {},
   "source": [
    "And the average grouped by years:"
   ]
  },
  {
   "cell_type": "code",
   "execution_count": 12,
   "metadata": {},
   "outputs": [
    {
     "data": {
      "text/html": [
       "<div>\n",
       "<style scoped>\n",
       "    .dataframe tbody tr th:only-of-type {\n",
       "        vertical-align: middle;\n",
       "    }\n",
       "\n",
       "    .dataframe tbody tr th {\n",
       "        vertical-align: top;\n",
       "    }\n",
       "\n",
       "    .dataframe thead th {\n",
       "        text-align: right;\n",
       "    }\n",
       "</style>\n",
       "<table border=\"1\" class=\"dataframe\">\n",
       "  <thead>\n",
       "    <tr style=\"text-align: right;\">\n",
       "      <th></th>\n",
       "      <th>n_files</th>\n",
       "      <th>avg_n_files</th>\n",
       "      <th>std_n_files</th>\n",
       "    </tr>\n",
       "    <tr>\n",
       "      <th>activity_school_year</th>\n",
       "      <th></th>\n",
       "      <th></th>\n",
       "      <th></th>\n",
       "    </tr>\n",
       "  </thead>\n",
       "  <tbody>\n",
       "    <tr>\n",
       "      <th>1</th>\n",
       "      <td>2752.416667</td>\n",
       "      <td>10.250000</td>\n",
       "      <td>6.486850</td>\n",
       "    </tr>\n",
       "    <tr>\n",
       "      <th>2</th>\n",
       "      <td>1946.666667</td>\n",
       "      <td>10.583333</td>\n",
       "      <td>7.176258</td>\n",
       "    </tr>\n",
       "    <tr>\n",
       "      <th>3</th>\n",
       "      <td>799.833333</td>\n",
       "      <td>9.416667</td>\n",
       "      <td>5.447183</td>\n",
       "    </tr>\n",
       "  </tbody>\n",
       "</table>\n",
       "</div>"
      ],
      "text/plain": [
       "                          n_files  avg_n_files  std_n_files\n",
       "activity_school_year                                       \n",
       "1                     2752.416667    10.250000     6.486850\n",
       "2                     1946.666667    10.583333     7.176258\n",
       "3                      799.833333     9.416667     5.447183"
      ]
     },
     "execution_count": 12,
     "metadata": {},
     "output_type": "execute_result"
    }
   ],
   "source": [
    "df_months[['activity_school_year','n_files','avg_n_files','std_n_files']]\\\n",
    "    .groupby('activity_school_year').mean()"
   ]
  },
  {
   "cell_type": "markdown",
   "metadata": {},
   "source": [
    "### Feedbacks and Curriculum"
   ]
  },
  {
   "cell_type": "code",
   "execution_count": 13,
   "metadata": {},
   "outputs": [
    {
     "data": {
      "application/javascript": [
       "element.append('<div id=\"chartdiv_274879d2-9ea9-11ea-9403-c0335ee590ee\" class=\"am4jy\" style=\"height: 500px;\"></div>');"
      ],
      "text/plain": [
       "<IPython.core.display.Javascript object>"
      ]
     },
     "metadata": {},
     "output_type": "display_data"
    },
    {
     "data": {
      "application/javascript": [
       "$('#chartdiv_274879d2-9ea9-11ea-9403-c0335ee590ee').parent(\"div\").css(\"width\",\"100%\").css(\"overflow-y\",\"hidden\");"
      ],
      "text/plain": [
       "<IPython.core.display.Javascript object>"
      ]
     },
     "metadata": {},
     "output_type": "display_data"
    },
    {
     "data": {
      "application/javascript": [
       "var params = {};\n",
       "        params['series'] = {'year 1 - perc_total_feedback_requests_recipes': 0, 'year 1 - perc_total_feedback_requests_experiences': 1, 'year 2 - perc_total_feedback_requests_recipes': 0, 'year 2 - perc_total_feedback_requests_experiences': 1, 'year 3 - perc_total_feedback_requests_recipes': 0, 'year 3 - perc_total_feedback_requests_experiences': 1};\n",
       "        \n",
       "        params['title'] = \"% of recipes with requests for feedback per month\";\n",
       "            \n",
       "        \n",
       "        params['data'] = [{'x': 1, 'year 1 - perc_total_feedback_requests_recipes': 23.76, 'year 1 - perc_total_feedback_requests_experiences': 21.47, 'year 2 - perc_total_feedback_requests_recipes': 16.89, 'year 2 - perc_total_feedback_requests_experiences': 4.68, 'year 3 - perc_total_feedback_requests_recipes': 7.01, 'year 3 - perc_total_feedback_requests_experiences': 4.19}, {'x': 2, 'year 1 - perc_total_feedback_requests_recipes': 24.86, 'year 1 - perc_total_feedback_requests_experiences': 16.55, 'year 2 - perc_total_feedback_requests_recipes': 11.08, 'year 2 - perc_total_feedback_requests_experiences': 5.56, 'year 3 - perc_total_feedback_requests_recipes': 16.54, 'year 3 - perc_total_feedback_requests_experiences': 3.99}, {'x': 3, 'year 1 - perc_total_feedback_requests_recipes': 21.76, 'year 1 - perc_total_feedback_requests_experiences': 19.44, 'year 2 - perc_total_feedback_requests_recipes': 19.22, 'year 2 - perc_total_feedback_requests_experiences': 6.09, 'year 3 - perc_total_feedback_requests_recipes': 34.63, 'year 3 - perc_total_feedback_requests_experiences': 15.5}, {'x': 4, 'year 1 - perc_total_feedback_requests_recipes': 21.6, 'year 1 - perc_total_feedback_requests_experiences': 16.67, 'year 2 - perc_total_feedback_requests_recipes': 18.69, 'year 2 - perc_total_feedback_requests_experiences': 5.19, 'year 3 - perc_total_feedback_requests_recipes': 15.79, 'year 3 - perc_total_feedback_requests_experiences': 7.64}, {'x': 5, 'year 1 - perc_total_feedback_requests_recipes': 26.19, 'year 1 - perc_total_feedback_requests_experiences': 14.43, 'year 2 - perc_total_feedback_requests_recipes': 12.17, 'year 2 - perc_total_feedback_requests_experiences': 11.19, 'year 3 - perc_total_feedback_requests_recipes': 4.49, 'year 3 - perc_total_feedback_requests_experiences': 12.19}, {'x': 6, 'year 1 - perc_total_feedback_requests_recipes': 11.98, 'year 1 - perc_total_feedback_requests_experiences': 10.84, 'year 2 - perc_total_feedback_requests_recipes': 7.47, 'year 2 - perc_total_feedback_requests_experiences': 2.93, 'year 3 - perc_total_feedback_requests_recipes': 4.2, 'year 3 - perc_total_feedback_requests_experiences': 10.32}, {'x': 7, 'year 1 - perc_total_feedback_requests_recipes': 15.2, 'year 1 - perc_total_feedback_requests_experiences': 20.72, 'year 2 - perc_total_feedback_requests_recipes': 13.85, 'year 2 - perc_total_feedback_requests_experiences': 15.53, 'year 3 - perc_total_feedback_requests_recipes': 0.0, 'year 3 - perc_total_feedback_requests_experiences': 0.0}, {'x': 8, 'year 1 - perc_total_feedback_requests_recipes': 19.64, 'year 1 - perc_total_feedback_requests_experiences': 14.17, 'year 2 - perc_total_feedback_requests_recipes': 9.5, 'year 2 - perc_total_feedback_requests_experiences': 6.98, 'year 3 - perc_total_feedback_requests_recipes': 0.0, 'year 3 - perc_total_feedback_requests_experiences': 0.0}, {'x': 9, 'year 1 - perc_total_feedback_requests_recipes': 33.8, 'year 1 - perc_total_feedback_requests_experiences': 13.79, 'year 2 - perc_total_feedback_requests_recipes': 19.21, 'year 2 - perc_total_feedback_requests_experiences': 11.98, 'year 3 - perc_total_feedback_requests_recipes': 17.91, 'year 3 - perc_total_feedback_requests_experiences': 17.26}, {'x': 10, 'year 1 - perc_total_feedback_requests_recipes': 32.49, 'year 1 - perc_total_feedback_requests_experiences': 34.25, 'year 2 - perc_total_feedback_requests_recipes': 17.51, 'year 2 - perc_total_feedback_requests_experiences': 14.16, 'year 3 - perc_total_feedback_requests_recipes': 13.09, 'year 3 - perc_total_feedback_requests_experiences': 22.6}, {'x': 11, 'year 1 - perc_total_feedback_requests_recipes': 32.08, 'year 1 - perc_total_feedback_requests_experiences': 26.04, 'year 2 - perc_total_feedback_requests_recipes': 17.27, 'year 2 - perc_total_feedback_requests_experiences': 10.2, 'year 3 - perc_total_feedback_requests_recipes': 9.96, 'year 3 - perc_total_feedback_requests_experiences': 7.44}, {'x': 12, 'year 1 - perc_total_feedback_requests_recipes': 20.68, 'year 1 - perc_total_feedback_requests_experiences': 19.92, 'year 2 - perc_total_feedback_requests_recipes': 12.17, 'year 2 - perc_total_feedback_requests_experiences': 6.86, 'year 3 - perc_total_feedback_requests_recipes': 8.14, 'year 3 - perc_total_feedback_requests_experiences': 11.66}];\n",
       "        \n",
       "        require(['amchart_core', 'amchart_charts', 'amcharts4/themes/animated'], columnCallback(params,\"chartdiv_274879d2-9ea9-11ea-9403-c0335ee590ee\") , function (err) {\n",
       "            console.log(err);\n",
       "        });\n",
       "        "
      ],
      "text/plain": [
       "<IPython.core.display.Javascript object>"
      ]
     },
     "metadata": {},
     "output_type": "display_data"
    }
   ],
   "source": [
    "column = am4.ColumnChart()\n",
    "column.setTitle(\"% of activities with requests for feedback per month\")\n",
    "column.fromDataFrame(df_months, \"month\", \n",
    "                     ['perc_total_feedback_requests_recipes','perc_total_feedback_requests_experiences'], \n",
    "                     hue=\"activity_school_year\", hue_prefix=\"year \")\n",
    "column.plot()"
   ]
  },
  {
   "cell_type": "code",
   "execution_count": 29,
   "metadata": {},
   "outputs": [],
   "source": [
    "normalizePer(df_months,\n",
    "             'perc_total_feedback_requests_recipes',\n",
    "             'n_feedback_requests',\n",
    "             'activity_school_year',\n",
    "             'n_feedback_requests_recipes')"
   ]
  },
  {
   "cell_type": "code",
   "execution_count": 31,
   "metadata": {},
   "outputs": [],
   "source": [
    "normalizePer(df_months,'perc_total_feedback_requests_recipes',\n",
    "             'n_feedback_requests','activity_school_year','n_feedback_requests_recipes')\n",
    "normalizePer(df_months,'perc_total_feedback_requests_experiences',\n",
    "             'n_feedback_requests','activity_school_year','n_feedback_requests_experiences')"
   ]
  },
  {
   "cell_type": "code",
   "execution_count": 32,
   "metadata": {},
   "outputs": [
    {
     "data": {
      "application/javascript": [
       "element.append('<div id=\"chartdiv_334608f0-9ead-11ea-8aac-c0335ee590ee\" class=\"am4jy\" style=\"height: 500px;\"></div>');"
      ],
      "text/plain": [
       "<IPython.core.display.Javascript object>"
      ]
     },
     "metadata": {},
     "output_type": "display_data"
    },
    {
     "data": {
      "application/javascript": [
       "$('#chartdiv_334608f0-9ead-11ea-8aac-c0335ee590ee').parent(\"div\").css(\"width\",\"100%\").css(\"overflow-y\",\"hidden\");"
      ],
      "text/plain": [
       "<IPython.core.display.Javascript object>"
      ]
     },
     "metadata": {},
     "output_type": "display_data"
    },
    {
     "data": {
      "application/javascript": [
       "var params = {};\n",
       "        params['series'] = {'year 1 - perc_total_feedback_requests_recipes': 0, 'year 1 - perc_total_feedback_requests_experiences': 1, 'year 2 - perc_total_feedback_requests_recipes': 0, 'year 2 - perc_total_feedback_requests_experiences': 1, 'year 3 - perc_total_feedback_requests_recipes': 0, 'year 3 - perc_total_feedback_requests_experiences': 1};\n",
       "        \n",
       "        params['title'] = \"# of activities with requests for feedback per month\";\n",
       "            \n",
       "        \n",
       "        params['data'] = [{'x': 1, 'year 1 - perc_total_feedback_requests_recipes': 9.546033092914723, 'year 1 - perc_total_feedback_requests_experiences': 2.8425965210012727, 'year 2 - perc_total_feedback_requests_recipes': 4.920634920634921, 'year 2 - perc_total_feedback_requests_experiences': 2.6984126984126986, 'year 3 - perc_total_feedback_requests_recipes': 2.217936354869817, 'year 3 - perc_total_feedback_requests_experiences': 1.9286403085824495}, {'x': 2, 'year 1 - perc_total_feedback_requests_recipes': 7.6792532880780655, 'year 1 - perc_total_feedback_requests_experiences': 2.8850233347475602, 'year 2 - perc_total_feedback_requests_recipes': 2.9365079365079367, 'year 2 - perc_total_feedback_requests_experiences': 3.9682539682539684, 'year 3 - perc_total_feedback_requests_recipes': 2.025072324011572, 'year 3 - perc_total_feedback_requests_experiences': 2.3143683702989395}, {'x': 3, 'year 1 - perc_total_feedback_requests_recipes': 8.061094611794655, 'year 1 - perc_total_feedback_requests_experiences': 2.927450148493848, 'year 2 - perc_total_feedback_requests_recipes': 8.253968253968255, 'year 2 - perc_total_feedback_requests_experiences': 4.603174603174604, 'year 3 - perc_total_feedback_requests_recipes': 6.846673095467696, 'year 3 - perc_total_feedback_requests_experiences': 5.785920925747349}, {'x': 4, 'year 1 - perc_total_feedback_requests_recipes': 5.9397539244802715, 'year 1 - perc_total_feedback_requests_experiences': 3.0123037759864233, 'year 2 - perc_total_feedback_requests_recipes': 7.4603174603174605, 'year 2 - perc_total_feedback_requests_experiences': 2.4603174603174605, 'year 3 - perc_total_feedback_requests_recipes': 2.3143683702989395, 'year 3 - perc_total_feedback_requests_experiences': 3.3751205400192865}, {'x': 5, 'year 1 - perc_total_feedback_requests_recipes': 9.333899024183284, 'year 1 - perc_total_feedback_requests_experiences': 3.6062791684344506, 'year 2 - perc_total_feedback_requests_recipes': 5.476190476190476, 'year 2 - perc_total_feedback_requests_experiences': 3.7301587301587302, 'year 3 - perc_total_feedback_requests_recipes': 3.278688524590164, 'year 3 - perc_total_feedback_requests_experiences': 10.318225650916105}, {'x': 6, 'year 1 - perc_total_feedback_requests_recipes': 1.9516334323292321, 'year 1 - perc_total_feedback_requests_experiences': 2.8425965210012727, 'year 2 - perc_total_feedback_requests_recipes': 2.0634920634920637, 'year 2 - perc_total_feedback_requests_experiences': 2.142857142857143, 'year 3 - perc_total_feedback_requests_recipes': 2.217936354869817, 'year 3 - perc_total_feedback_requests_experiences': 23.240115718418515}, {'x': 7, 'year 1 - perc_total_feedback_requests_recipes': 1.103097157403479, 'year 1 - perc_total_feedback_requests_experiences': 1.9516334323292321, 'year 2 - perc_total_feedback_requests_recipes': 0.7142857142857143, 'year 2 - perc_total_feedback_requests_experiences': 1.2698412698412698, 'year 3 - perc_total_feedback_requests_recipes': 0.0, 'year 3 - perc_total_feedback_requests_experiences': 0.0}, {'x': 8, 'year 1 - perc_total_feedback_requests_recipes': 2.2910479422995333, 'year 1 - perc_total_feedback_requests_experiences': 1.4849384811200679, 'year 2 - perc_total_feedback_requests_recipes': 1.3492063492063493, 'year 2 - perc_total_feedback_requests_experiences': 2.6984126984126986, 'year 3 - perc_total_feedback_requests_recipes': 0.0, 'year 3 - perc_total_feedback_requests_experiences': 0.0}, {'x': 9, 'year 1 - perc_total_feedback_requests_recipes': 1.0182435299109036, 'year 1 - perc_total_feedback_requests_experiences': 0.1697072549851506, 'year 2 - perc_total_feedback_requests_recipes': 5.0, 'year 2 - perc_total_feedback_requests_experiences': 3.412698412698413, 'year 3 - perc_total_feedback_requests_recipes': 4.628736740597879, 'year 3 - perc_total_feedback_requests_experiences': 2.796528447444552}, {'x': 10, 'year 1 - perc_total_feedback_requests_recipes': 5.9821807382265595, 'year 1 - perc_total_feedback_requests_experiences': 2.1213406873143827, 'year 2 - perc_total_feedback_requests_recipes': 6.587301587301588, 'year 2 - perc_total_feedback_requests_experiences': 8.88888888888889, 'year 3 - perc_total_feedback_requests_recipes': 4.821600771456124, 'year 3 - perc_total_feedback_requests_experiences': 8.389585342333655}, {'x': 11, 'year 1 - perc_total_feedback_requests_recipes': 11.624946966482817, 'year 1 - perc_total_feedback_requests_experiences': 2.927450148493848, 'year 2 - perc_total_feedback_requests_recipes': 7.222222222222222, 'year 2 - perc_total_feedback_requests_experiences': 5.555555555555555, 'year 3 - perc_total_feedback_requests_recipes': 5.303760848601736, 'year 3 - perc_total_feedback_requests_experiences': 3.278688524590164}, {'x': 12, 'year 1 - perc_total_feedback_requests_recipes': 6.703436571913449, 'year 1 - perc_total_feedback_requests_experiences': 1.9940602460755197, 'year 2 - perc_total_feedback_requests_recipes': 3.3333333333333335, 'year 2 - perc_total_feedback_requests_experiences': 3.253968253968254, 'year 3 - perc_total_feedback_requests_recipes': 1.7357762777242045, 'year 3 - perc_total_feedback_requests_experiences': 3.1822565091610415}];\n",
       "        \n",
       "        require(['amchart_core', 'amchart_charts', 'amcharts4/themes/animated'], columnCallback(params,\"chartdiv_334608f0-9ead-11ea-8aac-c0335ee590ee\") , function (err) {\n",
       "            console.log(err);\n",
       "        });\n",
       "        "
      ],
      "text/plain": [
       "<IPython.core.display.Javascript object>"
      ]
     },
     "metadata": {},
     "output_type": "display_data"
    }
   ],
   "source": [
    "column = am4.ColumnChart()\n",
    "column.setTitle(\"# of activities with requests for feedback per month\")\n",
    "column.fromDataFrame(df_months, \"month\", \n",
    "                     ['perc_total_feedback_requests_recipes','perc_total_feedback_requests_experiences'], \n",
    "                     hue=\"activity_school_year\", hue_prefix=\"year \")\n",
    "column.plot()"
   ]
  },
  {
   "cell_type": "markdown",
   "metadata": {},
   "source": [
    "TODO: try with request date"
   ]
  },
  {
   "cell_type": "code",
   "execution_count": 38,
   "metadata": {},
   "outputs": [],
   "source": [
    "normalizePer(df_months,'norm_perc_recipes_in_curriculum',\n",
    "             'n_activities','activity_school_year','n_in_curriculum_recipes')\n",
    "normalizePer(df_months,'norm_perc_experiences_in_curriculum',\n",
    "             'n_activities','activity_school_year','n_in_curriculum_experiences')"
   ]
  },
  {
   "cell_type": "code",
   "execution_count": 39,
   "metadata": {},
   "outputs": [
    {
     "data": {
      "application/javascript": [
       "element.append('<div id=\"chartdiv_1fdba646-9eae-11ea-b374-c0335ee590ee\" class=\"am4jy\" style=\"height: 500px;\"></div>');"
      ],
      "text/plain": [
       "<IPython.core.display.Javascript object>"
      ]
     },
     "metadata": {},
     "output_type": "display_data"
    },
    {
     "data": {
      "application/javascript": [
       "$('#chartdiv_1fdba646-9eae-11ea-b374-c0335ee590ee').parent(\"div\").css(\"width\",\"100%\").css(\"overflow-y\",\"hidden\");"
      ],
      "text/plain": [
       "<IPython.core.display.Javascript object>"
      ]
     },
     "metadata": {},
     "output_type": "display_data"
    },
    {
     "data": {
      "application/javascript": [
       "var params = {};\n",
       "        params['series'] = {'year 1 - norm_perc_recipes_in_curriculum': 0, 'year 1 - norm_perc_experiences_in_curriculum': 1, 'year 2 - norm_perc_recipes_in_curriculum': 0, 'year 2 - norm_perc_experiences_in_curriculum': 1, 'year 3 - norm_perc_recipes_in_curriculum': 0, 'year 3 - norm_perc_experiences_in_curriculum': 1};\n",
       "        \n",
       "        params['title'] = \"# of activities in curriculum per month\";\n",
       "            \n",
       "        \n",
       "        params['data'] = [{'x': 1, 'year 1 - norm_perc_recipes_in_curriculum': 8.381742738589212, 'year 1 - norm_perc_experiences_in_curriculum': 2.4435223605348084, 'year 2 - norm_perc_recipes_in_curriculum': 2.6654563459316716, 'year 2 - norm_perc_experiences_in_curriculum': 5.7765307806568735, 'year 3 - norm_perc_recipes_in_curriculum': 2.39736290080911, 'year 3 - norm_perc_experiences_in_curriculum': 4.415143342323444}, {'x': 2, 'year 1 - norm_perc_recipes_in_curriculum': 6.1134163208852, 'year 1 - norm_perc_experiences_in_curriculum': 3.1627478100507145, 'year 2 - norm_perc_recipes_in_curriculum': 2.467403862023436, 'year 2 - norm_perc_experiences_in_curriculum': 7.088628486548935, 'year 3 - norm_perc_recipes_in_curriculum': 0.6992308460693237, 'year 3 - norm_perc_experiences_in_curriculum': 5.414044550993907}, {'x': 3, 'year 1 - norm_perc_recipes_in_curriculum': 8.520055325034578, 'year 1 - norm_perc_experiences_in_curriculum': 3.0336560627017057, 'year 2 - norm_perc_recipes_in_curriculum': 4.233371843538538, 'year 2 - norm_perc_experiences_in_curriculum': 7.814820927545799, 'year 3 - norm_perc_recipes_in_curriculum': 1.7380881030866047, 'year 3 - norm_perc_experiences_in_curriculum': 2.9967036260113873}, {'x': 4, 'year 1 - norm_perc_recipes_in_curriculum': 6.141078838174273, 'year 1 - norm_perc_experiences_in_curriculum': 3.660673121254034, 'year 2 - norm_perc_recipes_in_curriculum': 3.903284370358145, 'year 2 - norm_perc_experiences_in_curriculum': 4.761511800627166, 'year 3 - norm_perc_recipes_in_curriculum': 1.0488462691039857, 'year 3 - norm_perc_experiences_in_curriculum': 4.185396064329238}, {'x': 5, 'year 1 - norm_perc_recipes_in_curriculum': 8.0129091747349, 'year 1 - norm_perc_experiences_in_curriculum': 5.006915629322268, 'year 2 - norm_perc_recipes_in_curriculum': 3.9527974913352035, 'year 2 - norm_perc_experiences_in_curriculum': 3.4576662815646144, 'year 3 - norm_perc_recipes_in_curriculum': 4.66486864449106, 'year 3 - norm_perc_experiences_in_curriculum': 8.210967935271201}, {'x': 6, 'year 1 - norm_perc_recipes_in_curriculum': 3.0889810972798526, 'year 1 - norm_perc_experiences_in_curriculum': 5.375749193176579, 'year 2 - norm_perc_recipes_in_curriculum': 2.5334213566595145, 'year 2 - norm_perc_experiences_in_curriculum': 7.0061066182538365, 'year 3 - norm_perc_recipes_in_curriculum': 2.8968135051443413, 'year 3 - norm_perc_experiences_in_curriculum': 22.22555189291779}, {'x': 7, 'year 1 - norm_perc_recipes_in_curriculum': 1.2909174734900877, 'year 1 - norm_perc_experiences_in_curriculum': 1.871830336560627, 'year 2 - norm_perc_recipes_in_curriculum': 0.4373659019640204, 'year 2 - norm_perc_experiences_in_curriculum': 0.7922099356329427, 'year 3 - norm_perc_recipes_in_curriculum': 0.0, 'year 3 - norm_perc_experiences_in_curriculum': 0.0}, {'x': 8, 'year 1 - norm_perc_recipes_in_curriculum': 2.2498847395112955, 'year 1 - norm_perc_experiences_in_curriculum': 2.185338865836791, 'year 2 - norm_perc_recipes_in_curriculum': 0.8747318039280408, 'year 2 - norm_perc_experiences_in_curriculum': 3.895032183528635, 'year 3 - norm_perc_recipes_in_curriculum': 0.0, 'year 3 - norm_perc_experiences_in_curriculum': 0.0}, {'x': 9, 'year 1 - norm_perc_recipes_in_curriculum': 0.2766251728907331, 'year 1 - norm_perc_experiences_in_curriculum': 0.22130013831258644, 'year 2 - norm_perc_recipes_in_curriculum': 2.376629806898828, 'year 2 - norm_perc_experiences_in_curriculum': 2.871761016669417, 'year 3 - norm_perc_recipes_in_curriculum': 1.917890320647288, 'year 3 - norm_perc_experiences_in_curriculum': 1.6082309459594446}, {'x': 10, 'year 1 - norm_perc_recipes_in_curriculum': 4.177040110650069, 'year 1 - norm_perc_experiences_in_curriculum': 1.1065006915629323, 'year 2 - norm_perc_recipes_in_curriculum': 4.315893711833636, 'year 2 - norm_perc_experiences_in_curriculum': 5.330912691863343, 'year 3 - norm_perc_recipes_in_curriculum': 2.4073519128958147, 'year 3 - norm_perc_experiences_in_curriculum': 3.5560883028668466}, {'x': 11, 'year 1 - norm_perc_recipes_in_curriculum': 7.920700783771323, 'year 1 - norm_perc_experiences_in_curriculum': 1.8810511756569848, 'year 2 - norm_perc_recipes_in_curriculum': 4.150849975243439, 'year 2 - norm_perc_experiences_in_curriculum': 5.570226109919128, 'year 3 - norm_perc_recipes_in_curriculum': 3.5760663270402557, 'year 3 - norm_perc_experiences_in_curriculum': 4.175407052242533}, {'x': 12, 'year 1 - norm_perc_recipes_in_curriculum': 6.491470723835869, 'year 1 - norm_perc_experiences_in_curriculum': 1.8626094974642693, 'year 2 - norm_perc_recipes_in_curriculum': 2.9047697639874563, 'year 2 - norm_perc_experiences_in_curriculum': 4.794520547945205, 'year 3 - norm_perc_recipes_in_curriculum': 1.2985715712716013, 'year 3 - norm_perc_experiences_in_curriculum': 2.5272200579362702}];\n",
       "        \n",
       "        require(['amchart_core', 'amchart_charts', 'amcharts4/themes/animated'], columnCallback(params,\"chartdiv_1fdba646-9eae-11ea-b374-c0335ee590ee\") , function (err) {\n",
       "            console.log(err);\n",
       "        });\n",
       "        "
      ],
      "text/plain": [
       "<IPython.core.display.Javascript object>"
      ]
     },
     "metadata": {},
     "output_type": "display_data"
    }
   ],
   "source": [
    "column = am4.ColumnChart()\n",
    "column.setTitle(\"# of activities in curriculum per month\")\n",
    "column.fromDataFrame(df_months, \"month\", \n",
    "                     ['norm_perc_recipes_in_curriculum','norm_perc_experiences_in_curriculum'], \n",
    "                     hue=\"activity_school_year\", hue_prefix=\"year \")\n",
    "column.plot()"
   ]
  },
  {
   "cell_type": "code",
   "execution_count": null,
   "metadata": {},
   "outputs": [],
   "source": []
  }
 ],
 "metadata": {
  "kernelspec": {
   "display_name": "EPFL dualt",
   "language": "python",
   "name": "dualt"
  },
  "language_info": {
   "codemirror_mode": {
    "name": "ipython",
    "version": 3
   },
   "file_extension": ".py",
   "mimetype": "text/x-python",
   "name": "python",
   "nbconvert_exporter": "python",
   "pygments_lexer": "ipython3",
   "version": "3.6.10"
  }
 },
 "nbformat": 4,
 "nbformat_minor": 4
}
