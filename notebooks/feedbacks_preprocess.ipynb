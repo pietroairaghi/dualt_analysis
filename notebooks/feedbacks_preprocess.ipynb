{
 "cells": [
  {
   "cell_type": "code",
   "execution_count": 1,
   "metadata": {},
   "outputs": [],
   "source": [
    "from utils import Activities, Users, InfoParser\n",
    "\n",
    "import pandas as pd\n",
    "\n",
    "import numpy as np\n",
    "import matplotlib.pyplot as plt\n",
    "import seaborn as sns\n",
    "\n",
    "import logging\n",
    "logging.basicConfig(level=logging.DEBUG)\n",
    "\n",
    "from config_vars import month_map, month_order\n",
    "import math\n",
    "import datetime\n",
    "\n",
    "def is_nan(x):\n",
    "    return isinstance(x, float) and math.isnan(x)"
   ]
  },
  {
   "cell_type": "code",
   "execution_count": 2,
   "metadata": {},
   "outputs": [],
   "source": [
    "pd.options.display.max_columns = None\n",
    "pd.options.display.max_rows    = None"
   ]
  },
  {
   "cell_type": "code",
   "execution_count": 3,
   "metadata": {},
   "outputs": [],
   "source": [
    "data_folder = \"../data/\"\n",
    "raws_folder = \"../data/mysql_extractions/\""
   ]
  },
  {
   "cell_type": "code",
   "execution_count": 4,
   "metadata": {},
   "outputs": [],
   "source": [
    "inii = InfoParser(\"../report/data_info.ini\")"
   ]
  },
  {
   "cell_type": "markdown",
   "metadata": {},
   "source": [
    "# Data Loading and Cleaning"
   ]
  },
  {
   "cell_type": "markdown",
   "metadata": {},
   "source": [
    "### Loading Feedbacks"
   ]
  },
  {
   "cell_type": "code",
   "execution_count": 5,
   "metadata": {},
   "outputs": [],
   "source": [
    "feedbacks = pd.read_csv(f\"{raws_folder}activities_feedbacks_info.csv\")"
   ]
  },
  {
   "cell_type": "code",
   "execution_count": 6,
   "metadata": {},
   "outputs": [],
   "source": [
    "def get_year_school(date):\n",
    "    if is_nan(date):\n",
    "        return np.nan\n",
    "    \n",
    "    datee = datetime.datetime.strptime(date, \"%Y-%m-%d %H:%M:%S\")\n",
    "    \n",
    "    if datee.month < 8:\n",
    "        return datee.year-1\n",
    "    \n",
    "    return datee.year"
   ]
  },
  {
   "cell_type": "code",
   "execution_count": 7,
   "metadata": {},
   "outputs": [],
   "source": [
    "feedbacks['request_year'] = pd.DatetimeIndex(feedbacks['request_date']).year\n",
    "feedbacks['response_year'] = pd.DatetimeIndex(feedbacks['response_date']).year\n",
    "\n",
    "feedbacks['request_year_school'] = feedbacks['request_date'].apply(get_year_school)\n",
    "feedbacks['response_year_school'] = feedbacks['response_date'].apply(get_year_school)"
   ]
  },
  {
   "cell_type": "markdown",
   "metadata": {},
   "source": [
    "### Cleaning Feedbacks"
   ]
  },
  {
   "cell_type": "markdown",
   "metadata": {},
   "source": [
    "remove feedbacks that doesn't have a user"
   ]
  },
  {
   "cell_type": "code",
   "execution_count": 8,
   "metadata": {},
   "outputs": [],
   "source": [
    "u_f = Users()\n",
    "u_f.load_correct_map(f'{data_folder}duplicate_users_map.pckl')\n",
    "\n",
    "feedbacks['sender'] = u_f.correct_users(feedbacks['sender'])"
   ]
  },
  {
   "cell_type": "code",
   "execution_count": 9,
   "metadata": {},
   "outputs": [],
   "source": [
    "users = pd.read_csv(f\"{data_folder}users.csv\",sep='\\t')\n",
    "users['has_user'] = True\n",
    "\n",
    "feedbacks = feedbacks.merge(users[['us_user','has_user']],left_on=\"sender\",right_on=\"us_user\",how=\"left\")"
   ]
  },
  {
   "cell_type": "code",
   "execution_count": 10,
   "metadata": {},
   "outputs": [
    {
     "name": "stdout",
     "output_type": "stream",
     "text": [
      "67 feedbacks removed, 5131 feedbacks remained\n"
     ]
    }
   ],
   "source": [
    "before = len(feedbacks)\n",
    "feedbacks.dropna(subset=[\"has_user\"],inplace=True)\n",
    "after = len(feedbacks)\n",
    "\n",
    "inii.info('feedbacks_no_user',before-after)\n",
    "\n",
    "print(f\"{before-after} feedbacks removed, {after} feedbacks remained\")"
   ]
  },
  {
   "cell_type": "code",
   "execution_count": 11,
   "metadata": {},
   "outputs": [],
   "source": [
    "feedbacks.drop(['has_user'],axis=1,inplace=True)"
   ]
  },
  {
   "cell_type": "markdown",
   "metadata": {},
   "source": [
    "# Export extracted data"
   ]
  },
  {
   "cell_type": "code",
   "execution_count": 12,
   "metadata": {},
   "outputs": [],
   "source": [
    "feedbacks.to_csv(f\"{data_folder}activities_feedbacks_info.csv\",index=False)"
   ]
  },
  {
   "cell_type": "code",
   "execution_count": null,
   "metadata": {},
   "outputs": [],
   "source": []
  }
 ],
 "metadata": {
  "kernelspec": {
   "display_name": "EPFL dualt",
   "language": "python",
   "name": "dualt"
  },
  "language_info": {
   "codemirror_mode": {
    "name": "ipython",
    "version": 3
   },
   "file_extension": ".py",
   "mimetype": "text/x-python",
   "name": "python",
   "nbconvert_exporter": "python",
   "pygments_lexer": "ipython3",
   "version": "3.6.10"
  }
 },
 "nbformat": 4,
 "nbformat_minor": 4
}
