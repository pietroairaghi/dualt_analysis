{
 "cells": [
  {
   "cell_type": "code",
   "execution_count": 1,
   "metadata": {},
   "outputs": [],
   "source": [
    "from utils import Activities, Users\n",
    "\n",
    "import pandas as pd\n",
    "import plotly.graph_objects as go\n",
    "from plotly.subplots import make_subplots\n",
    "import plotly.express as px\n",
    "pd.options.plotting.backend = \"plotly\"\n",
    "\n",
    "import numpy as np\n",
    "import matplotlib.pyplot as plt\n",
    "import seaborn as sns\n",
    "\n",
    "from utils import join_by_fuzzy\n",
    "\n",
    "import info_utilities\n",
    "\n",
    "from sklearn.linear_model import LinearRegression\n",
    "from sklearn.preprocessing import MinMaxScaler\n",
    "from sklearn.decomposition import PCA\n",
    "\n",
    "from pprint import pprint\n",
    "\n",
    "import pydot\n",
    "from IPython.display import Image"
   ]
  },
  {
   "cell_type": "code",
   "execution_count": 2,
   "metadata": {},
   "outputs": [],
   "source": [
    "pd.options.display.max_columns = None\n",
    "pd.options.display.max_rows    = None"
   ]
  },
  {
   "cell_type": "code",
   "execution_count": 3,
   "metadata": {},
   "outputs": [],
   "source": [
    "data_folder = \"../data/\""
   ]
  },
  {
   "cell_type": "code",
   "execution_count": 4,
   "metadata": {},
   "outputs": [],
   "source": [
    "users = Users(f\"{data_folder}users.csv\")\n",
    "users.fillna()\n",
    "\n",
    "students = users.df.query(\"student == 1\")\n",
    "students = students.drop_duplicates('user_name',keep='first')\n",
    "\n",
    "# TODO: merge redoundant users\n",
    "supervisors = users.df.query(\"supervisor == 1\")\n",
    "teachers  = users.df.query(\"teacher == 1\")"
   ]
  },
  {
   "cell_type": "code",
   "execution_count": 6,
   "metadata": {},
   "outputs": [],
   "source": [
    "first = users.df[users.df.duplicated(['user_email'],keep='first')].sort_values(by=\"user_email\")['us_user']\n",
    "last  = users.df[users.df.duplicated(['user_email'],keep='last')].sort_values(by=\"user_email\")['us_user']\n",
    "correct_map = dict(zip(first,last))"
   ]
  },
  {
   "cell_type": "code",
   "execution_count": 7,
   "metadata": {},
   "outputs": [],
   "source": [
    "to_sum = ['n_activities', 'n_activities_school_year_1',\n",
    "       'n_activities_school_year_2', 'n_activities_school_year_3', 'n_recipes',\n",
    "       'n_experiences', 'n_reflections', 'n_recipe_reflections',\n",
    "       'n_experience_reflections', 'n_in_curriculum',\n",
    "       'n_recipes_in_curriculum', 'n_experiences_in_curriculum',\n",
    "       'n_in_curriculum_semester1', 'n_in_curriculum_semester2',\n",
    "       'n_in_curriculum_semester3', 'n_in_curriculum_semester4',\n",
    "       'n_in_curriculum_semester5', 'n_feedback_requests',\n",
    "       'n_received_feedback_responses', 'n_received_feedback_requests',\n",
    "       'n_feedback_responses', 'n_files', 'n_folders']\n",
    "to_avg = ['avg_activity_evaluations',\n",
    "       'avg_reflection_length', 'avg_specific_evaluations',\n",
    "       'avg_supervisor_evaluation']\n",
    "for new_id, old_id in correct_map.items():\n",
    "    m = users.df['us_user'] == old_id\n",
    "    n = users.df['us_user'] == new_id\n",
    "    users.df.loc[m,to_sum] = users.df.loc[m,to_sum].values + users.df.loc[n,to_sum].values\n",
    "    users.df.loc[m,to_avg] = (users.df.loc[m,to_avg].values + users.df.loc[n,to_avg].values)/2\n",
    "    \n",
    "to_drop = correct_map.keys()\n",
    "users.df = users.df.drop(users.df[users.df['us_user'].isin(to_drop)].index)"
   ]
  }
 ],
 "metadata": {
  "kernelspec": {
   "display_name": "EPFL dualt",
   "language": "python",
   "name": "dualt"
  },
  "language_info": {
   "codemirror_mode": {
    "name": "ipython",
    "version": 3
   },
   "file_extension": ".py",
   "mimetype": "text/x-python",
   "name": "python",
   "nbconvert_exporter": "python",
   "pygments_lexer": "ipython3",
   "version": "3.6.10"
  }
 },
 "nbformat": 4,
 "nbformat_minor": 4
}
