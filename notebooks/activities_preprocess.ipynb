{
 "cells": [
  {
   "cell_type": "code",
   "execution_count": 1,
   "metadata": {},
   "outputs": [],
   "source": [
    "from utils import Activities, Users, InfoParser\n",
    "\n",
    "import pandas as pd\n",
    "\n",
    "import numpy as np\n",
    "import matplotlib.pyplot as plt\n",
    "import seaborn as sns\n",
    "\n",
    "import logging\n",
    "logging.basicConfig(level=logging.DEBUG)\n",
    "\n",
    "from config_vars import month_map, month_order"
   ]
  },
  {
   "cell_type": "code",
   "execution_count": 2,
   "metadata": {},
   "outputs": [],
   "source": [
    "pd.options.display.max_columns = None\n",
    "pd.options.display.max_rows    = None"
   ]
  },
  {
   "cell_type": "code",
   "execution_count": 3,
   "metadata": {},
   "outputs": [],
   "source": [
    "data_folder = \"../data/\"\n",
    "raws_folder = \"../data/mysql_extractions/\"\n",
    "suffixes    = [\"\"]#,\"_GE\",\"_TI\"]"
   ]
  },
  {
   "cell_type": "code",
   "execution_count": 4,
   "metadata": {},
   "outputs": [],
   "source": [
    "inii = InfoParser(\"../report/data_info.ini\")"
   ]
  },
  {
   "cell_type": "markdown",
   "metadata": {},
   "source": [
    "# Data Loading and Cleaning"
   ]
  },
  {
   "cell_type": "markdown",
   "metadata": {},
   "source": [
    "### Loading Activities"
   ]
  },
  {
   "cell_type": "code",
   "execution_count": 6,
   "metadata": {
    "scrolled": true
   },
   "outputs": [
    {
     "name": "stdout",
     "output_type": "stream",
     "text": [
      "activities processed correctly.\n"
     ]
    }
   ],
   "source": [
    "for suffix in suffixes:\n",
    "    \n",
    "    activities = Activities(f\"{raws_folder}activities{suffix}.csv\")\n",
    "\n",
    "    activities.drop_over_year() \n",
    "    activities.map_month(month_map,month_order) # map and sort months\n",
    "    activities.save_raw() # create a copy of non cleaned dataframe\n",
    "    activities.fillna() # fill some columns with 0 instead of NaN\n",
    "    activities.year_to_cat()\n",
    "    \n",
    "    #EXPORT\n",
    "    activities.df.to_csv(f\"{data_folder}activities{suffix}.csv\",sep='\\t',index=False)\n",
    "    \n",
    "    print(f\"activities{suffix} processed correctly.\")"
   ]
  },
  {
   "cell_type": "markdown",
   "metadata": {},
   "source": [
    "### Cleaning Activities"
   ]
  },
  {
   "cell_type": "code",
   "execution_count": 7,
   "metadata": {},
   "outputs": [
    {
     "name": "stdout",
     "output_type": "stream",
     "text": [
      "5966 activities removed, 38556 activities remained\n"
     ]
    }
   ],
   "source": [
    "activities = pd.read_csv(f\"{data_folder}activities.csv\",sep='\\t')\n",
    "\n",
    "# remove activities with 0 length\n",
    "before = len(activities)\n",
    "activities.drop(activities.query(\"activity_total_length == 0\").index, inplace=True)\n",
    "after = len(activities)\n",
    "\n",
    "inii.info('activities_0_length',before-after)\n",
    "\n",
    "print(f\"{before-after} activities removed, {after} activities remained\")"
   ]
  },
  {
   "cell_type": "markdown",
   "metadata": {},
   "source": [
    "remove activities that doesn't have a user"
   ]
  },
  {
   "cell_type": "code",
   "execution_count": 10,
   "metadata": {},
   "outputs": [],
   "source": [
    "users = pd.read_csv(f\"{data_folder}users.csv\",sep='\\t')\n",
    "users['has_user'] = True\n",
    "activities = activities.merge(users[['us_user','has_user']],on=\"us_user\",how=\"left\")"
   ]
  },
  {
   "cell_type": "code",
   "execution_count": 11,
   "metadata": {},
   "outputs": [
    {
     "name": "stdout",
     "output_type": "stream",
     "text": [
      "187 activities removed, 38369 activities remained\n"
     ]
    }
   ],
   "source": [
    "before = len(activities)\n",
    "activities.dropna(subset=[\"has_user\"],inplace=True)\n",
    "after = len(activities)\n",
    "\n",
    "inii.info('activities_no_user',before-after)\n",
    "\n",
    "print(f\"{before-after} activities removed, {after} activities remained\")"
   ]
  },
  {
   "cell_type": "markdown",
   "metadata": {},
   "source": [
    "# Export extracted data"
   ]
  },
  {
   "cell_type": "code",
   "execution_count": 12,
   "metadata": {},
   "outputs": [],
   "source": [
    "# activities.df.to_csv(f\"{data_folder}activities{suffix}.csv\",sep='\\t',index=False)\n",
    "activities.to_csv(f\"{data_folder}activities.csv\",sep='\\t',index=False)"
   ]
  },
  {
   "cell_type": "code",
   "execution_count": null,
   "metadata": {},
   "outputs": [],
   "source": []
  }
 ],
 "metadata": {
  "kernelspec": {
   "display_name": "EPFL dualt",
   "language": "python",
   "name": "dualt"
  },
  "language_info": {
   "codemirror_mode": {
    "name": "ipython",
    "version": 3
   },
   "file_extension": ".py",
   "mimetype": "text/x-python",
   "name": "python",
   "nbconvert_exporter": "python",
   "pygments_lexer": "ipython3",
   "version": "3.6.10"
  }
 },
 "nbformat": 4,
 "nbformat_minor": 4
}
